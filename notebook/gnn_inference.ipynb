{
 "cells": [
  {
   "cell_type": "code",
   "execution_count": 25,
   "id": "8c975967",
   "metadata": {},
   "outputs": [],
   "source": [
    "import torch\n",
    "from torch_geometric.data import Data\n",
    "import numpy as np\n",
    "import networkx as nx\n",
    "from torch_geometric.nn import MessagePassing\n",
    "from torch_geometric.utils import add_self_loops, degree\n",
    "import matplotlib.pyplot as plt\n",
    "import scipy.special as SS\n",
    "import scipy.stats as SSA\n",
    "import torch.nn.functional as F"
   ]
  },
  {
   "cell_type": "code",
   "execution_count": 21,
   "id": "6fbb6896",
   "metadata": {},
   "outputs": [],
   "source": [
    "# create a graph\n",
    "A = np.array([[0.25 , 0.25, 0.4, 0.1 ],\n",
    "        [0.25, 0.75 , 0. , 0. ],\n",
    "        [0.4, 0. , 0.55 , 0.05],\n",
    "        [0.1 , 0 , 0.05, 0.85 ]])"
   ]
  },
  {
   "cell_type": "code",
   "execution_count": 177,
   "id": "e7efb375",
   "metadata": {},
   "outputs": [
    {
     "data": {
      "image/png": "[encoded data removed]",
      "text/plain": [
       "<Figure size 640x480 with 1 Axes>"
      ]
     },
     "metadata": {},
     "output_type": "display_data"
    }
   ],
   "source": [
    "nx.draw_networkx(g, with_labels=True)"
   ]
  },
  {
   "cell_type": "code",
   "execution_count": 209,
   "id": "67747a23",
   "metadata": {},
   "outputs": [],
   "source": [
    "class SEIR_MPNN(MessagePassing):\n",
    "    def __init__(self, params, pop, dt):\n",
    "        super(SEIR_MPNN, self).__init__(aggr='add')\n",
    "        self.R0 = params[0]\n",
    "        self.Z = params[1]\n",
    "        self.D = params[2]\n",
    "        self.pop = torch.Tensor(pop)\n",
    "        self.dt = dt\n",
    "        \n",
    "    def forward(self, x, edge_index, edge_attr, step):\n",
    "        return self.propagate(edge_index, size=(x.size(0), x.size(0)), x=x, edge_attr=edge_attr, step=step)\n",
    "\n",
    "    def message(self, x_j, edge_index, edge_attr, step):\n",
    "#         print (x_j[:,1])\n",
    "        \n",
    "#         S, E, I, R = x_j.unbind(1)\n",
    "        S, E, I, R = x_j[:, 0], x_j[:, 1], x_j[:, 2], x_j[:, 3]\n",
    "        \n",
    "        pop_edge_space = self.pop[edge_index[1]]\n",
    "        \n",
    "        ds = - self.R0 / self.D * S * I / pop_edge_space\n",
    "        de = self.R0 / self.D * S * I / pop_edge_space - E/self.Z\n",
    "        di = E/self.Z - I/self.D\n",
    "        dr = I/self.D\n",
    "        \n",
    "        S = S + ds*self.dt\n",
    "        E = E + de*self.dt\n",
    "        I = I + di*self.dt\n",
    "        R = R + dr*self.dt\n",
    "\n",
    "        edge_weight_reshaped = edge_attr.view(-1)\n",
    "\n",
    "        S *= edge_weight_reshaped\n",
    "        E *= edge_weight_reshaped\n",
    "        I *= edge_weight_reshaped\n",
    "        R *= edge_weight_reshaped\n",
    "        \n",
    "        messages = torch.stack([S,E,I,R], dim=1)\n",
    "        \n",
    "        return messages\n",
    "\n",
    "    def update(self, aggr_out, x, step):\n",
    "#         print (aggr_out)\n",
    "        x_new = aggr_out\n",
    "        return x_new\n"
   ]
  },
  {
   "cell_type": "code",
   "execution_count": 219,
   "id": "99ef1ed0",
   "metadata": {},
   "outputs": [],
   "source": [
    "def simulate_SEIR(R0=2.5, D=5, Z=3, adjacency_matrix=None, T=60):\n",
    "    # Check if adjacency_matrix is provided\n",
    "\n",
    "    # Define initial states for the nodes.\n",
    "    N = adjacency_matrix.shape[0]\n",
    "    x = torch.zeros(N, 4)\n",
    "    x[:, 0] = 100\n",
    "    x[2, 1] = 10\n",
    "    x[2, 0] = 100-10\n",
    "\n",
    "    # Get the indices where the adjacency matrix has a non-zero value\n",
    "    edge_index = torch.nonzero(adjacency_matrix, as_tuple=False).t()\n",
    "\n",
    "    # If your adjacency matrix has edge weights, you can get them like this:\n",
    "    edge_weight = adjacency_matrix[edge_index[0], edge_index[1]]\n",
    "\n",
    "    data = Data(x=x, edge_index=edge_index, edge_attr=edge_weight)\n",
    "    \n",
    "    # Define your parameters and create a SEIR_MPNN instance\n",
    "    params = [R0, Z, D]\n",
    "    model = SEIR_MPNN(params, pop=torch.Tensor([100]*N), dt=1)\n",
    "    \n",
    "    pop = np.array([100]*4)\n",
    "#     observations = np.zeros((4, T))\n",
    "    observations = torch.zeros(4, T)\n",
    "    observations[:, 0] = (R0/D*x[:, 0]*x[:, 2]/torch.Tensor(pop))\n",
    "\n",
    "\n",
    "    for i in range(1, T):\n",
    "        x = model(x, edge_index, data.edge_attr, i)\n",
    "        observations[:, i] = (R0/D*x[:, 0]*x[:, 2]/torch.Tensor(pop))\n",
    "    return observations"
   ]
  },
  {
   "cell_type": "code",
   "execution_count": 205,
   "id": "743e174a",
   "metadata": {},
   "outputs": [],
   "source": [
    "observations_t = simulate_SEIR(R0=torch.tensor(2.5), D=5, Z=3, adjacency_matrix=torch.tensor(A), T=60)\n",
    "# print(observations_t)"
   ]
  },
  {
   "cell_type": "code",
   "execution_count": 188,
   "id": "02b0293a",
   "metadata": {},
   "outputs": [],
   "source": [
    "import torch.nn.functional as F\n",
    "from torch_geometric.nn import GCNConv, global_mean_pool\n",
    "\n",
    "class EnhancedR0Predictor(torch.nn.Module):\n",
    "    def __init__(self, hidden_channels):\n",
    "        super(EnhancedR0Predictor, self).__init__()\n",
    "        self.seir_mpnn = SEIR_MPNN(params, pop, dt=1)  # Assuming params, pop, dt are defined\n",
    "        self.conv1 = GCNConv(4, hidden_channels)\n",
    "        self.conv2 = GCNConv(hidden_channels, hidden_channels)\n",
    "        self.lin = torch.nn.Linear(hidden_channels, 1)\n",
    "\n",
    "    def forward(self, x, edge_index, edge_attr, batch):\n",
    "        # Process with SEIR_MPNN first\n",
    "        x = self.seir_mpnn(x, edge_index, edge_attr, step)  # Assuming 'step' is known/defined\n",
    "\n",
    "        # Then process with the GNN layers\n",
    "        x = self.conv1(x, edge_index)\n",
    "        x = F.relu(x)\n",
    "        x = self.conv2(x, edge_index)\n",
    "        x = F.relu(x)\n",
    "        x = global_mean_pool(x, batch)\n",
    "        return self.lin(x)\n"
   ]
  },
  {
   "cell_type": "code",
   "execution_count": 190,
   "id": "d0096084",
   "metadata": {},
   "outputs": [],
   "source": [
    "def mse_loss(simulated, observed):\n",
    "    return torch.mean((simulated - observed) ** 2)"
   ]
  },
  {
   "cell_type": "code",
   "execution_count": 228,
   "id": "2740d427",
   "metadata": {},
   "outputs": [],
   "source": [
    "# Assuming R0 is what you want to optimize\n",
    "R0_infer = torch.tensor([2.0], requires_grad=True)\n",
    "\n",
    "optimizer = torch.optim.SGD([R0_infer], lr=0.01)\n",
    "num_epochs = 100\n",
    "losses = []\n",
    "\n",
    "for epoch in range(num_epochs):\n",
    "    # Use your SEIR_MPNN model to simulate the spread\n",
    "    simulated_output = simulate_SEIR(R0=R0_infer, D=5, Z=3, adjacency_matrix=torch.tensor(A), T=60)\n",
    "\n",
    "    # Compute the loss\n",
    "#     loss = mse_loss(simulated_output, observations)\n",
    "    loss = mse_loss(torch.Tensor(simulated_output), torch.Tensor(observations))\n",
    "#     print(simulated_output.requires_grad)\n",
    "    \n",
    "    # Backpropagation\n",
    "    loss.backward()\n",
    "    \n",
    "    # Update the parameters\n",
    "    optimizer.step()\n",
    "    \n",
    "    # Zero the gradients\n",
    "    optimizer.zero_grad()\n",
    "    \n",
    "    losses.append(loss.item())"
   ]
  },
  {
   "cell_type": "code",
   "execution_count": 230,
   "id": "f6287f71",
   "metadata": {},
   "outputs": [
    {
     "data": {
      "image/png": "[encoded data removed]",
      "text/plain": [
       "<Figure size 640x480 with 1 Axes>"
      ]
     },
     "metadata": {},
     "output_type": "display_data"
    }
   ],
   "source": [
    "plt.plot(losses)\n",
    "plt.xlabel('Epoch')\n",
    "plt.ylabel('MSE Loss')\n",
    "plt.show()"
   ]
  },
  {
   "cell_type": "code",
   "execution_count": null,
   "id": "eb57be6b",
   "metadata": {},
   "outputs": [],
   "source": [
    "beta = torch.nn.Parameter(torch.tensor(0.5))  # Initial beta\n",
    "trained_beta = train(model, data, observed_data)\n",
    "print(f\"Inferred Beta: {trained_beta.item()}\")\n"
   ]
  }
 ],
 "metadata": {
  "kernelspec": {
   "display_name": "gnn",
   "language": "python",
   "name": "gnn"
  },
  "language_info": {
   "codemirror_mode": {
    "name": "ipython",
    "version": 3
   },
   "file_extension": ".py",
   "mimetype": "text/x-python",
   "name": "python",
   "nbconvert_exporter": "python",
   "pygments_lexer": "ipython3",
   "version": "3.11.4"
  }
 },
 "nbformat": 4,
 "nbformat_minor": 5
}
