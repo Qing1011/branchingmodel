{
 "cells": [
  {
   "cell_type": "code",
   "execution_count": 1,
   "id": "707cada0",
   "metadata": {},
   "outputs": [],
   "source": [
    "import scipy.io\n",
    "import pandas as pd\n",
    "import numpy as np\n",
    "import matplotlib.pyplot as plt\n",
    "from scipy.stats import norm\n",
    "from scipy.optimize import minimize\n",
    "\n",
    "from scipy.io import loadmat, savemat\n",
    "import pandas as pd\n",
    "import scipy.special as SS\n",
    "import scipy.stats as SSA\n",
    "import copy\n",
    "import random\n",
    "import math\n",
    "from sklearn.model_selection import ParameterGrid\n",
    "import os\n",
    "import numpy.linalg as LA\n",
    "import gzip\n",
    "\n",
    "# load pickle module\n",
    "import pickle"
   ]
  },
  {
   "cell_type": "code",
   "execution_count": 2,
   "id": "ba10676e",
   "metadata": {},
   "outputs": [
    {
     "name": "stderr",
     "output_type": "stream",
     "text": [
      "/Users/qingyao/anaconda3/envs/geo/lib/python3.11/site-packages/scipy/io/matlab/_mio.py:227: MatReadWarning: Duplicate variable name \"None\" in stream - replacing previous with new\n",
      "Consider mio5.varmats_from_mat to split file into single variable files\n",
      "  matfile_dict = MR.get_variables(variable_names)\n"
     ]
    }
   ],
   "source": [
    "parameter = scipy.io.loadmat('../data/parameterestimate.mat')\n",
    "alpha = parameter['alpha']"
   ]
  },
  {
   "cell_type": "code",
   "execution_count": 3,
   "id": "c16c7096",
   "metadata": {},
   "outputs": [
    {
     "data": {
      "text/plain": [
       "(3142, 100, 315)"
      ]
     },
     "execution_count": 3,
     "metadata": {},
     "output_type": "execute_result"
    }
   ],
   "source": [
    "parameter['beta'].shape"
   ]
  },
  {
   "cell_type": "code",
   "execution_count": 5,
   "id": "73adb87f",
   "metadata": {},
   "outputs": [],
   "source": [
    "alpha_mean = np.mean(alpha,axis=1) ## 3142"
   ]
  },
  {
   "cell_type": "code",
   "execution_count": 6,
   "id": "9353d01e",
   "metadata": {},
   "outputs": [],
   "source": [
    "real_data_path = '/Users/qingyao/OneDrive - cumc.columbia.edu/machine_learning_data/'\n",
    "cases = pd.read_csv(real_data_path + 'county_data/ts_covid19_confirmed_US_mainland.csv')"
   ]
  },
  {
   "cell_type": "code",
   "execution_count": 7,
   "id": "0680e331",
   "metadata": {},
   "outputs": [],
   "source": [
    "dates_col = cases.columns[40:41+315] "
   ]
  },
  {
   "cell_type": "code",
   "execution_count": 8,
   "id": "3e5edce5",
   "metadata": {},
   "outputs": [
    {
     "data": {
      "text/plain": [
       "Index(['2/20/20', '2/21/20', '2/22/20', '2/23/20', '2/24/20', '2/25/20',\n",
       "       '2/26/20', '2/27/20', '2/28/20', '2/29/20',\n",
       "       ...\n",
       "       '12/22/20', '12/23/20', '12/24/20', '12/25/20', '12/26/20', '12/27/20',\n",
       "       '12/28/20', '12/29/20', '12/30/20', '12/31/20'],\n",
       "      dtype='object', length=316)"
      ]
     },
     "execution_count": 8,
     "metadata": {},
     "output_type": "execute_result"
    }
   ],
   "source": [
    "dates_col"
   ]
  },
  {
   "cell_type": "code",
   "execution_count": 9,
   "id": "95dc6187",
   "metadata": {},
   "outputs": [],
   "source": [
    "daily_cases =  np.diff(np.array(cases[dates_col]))"
   ]
  },
  {
   "cell_type": "code",
   "execution_count": null,
   "id": "62b143f2",
   "metadata": {},
   "outputs": [],
   "source": [
    "### there are 3108 fips in the mainland \n",
    "### 3142 fips when i do the simulations\n",
    "### need to compare them and find the intersection"
   ]
  },
  {
   "cell_type": "code",
   "execution_count": 10,
   "id": "0dc83266",
   "metadata": {},
   "outputs": [],
   "source": [
    "fips_all = pd.read_csv('../data/testfips.csv')\n",
    "fips_main = pd.read_csv(real_data_path+'county_data/fips_mainland.csv',names=['FIPS'])\n",
    "mask = fips_all.FIPS.isin(fips_main.FIPS.values)\n",
    "indices_main = mask[lambda x: x==True].index.tolist()\n",
    "main_df = fips_all.loc[indices_main]"
   ]
  },
  {
   "cell_type": "code",
   "execution_count": 25,
   "id": "32c32538",
   "metadata": {},
   "outputs": [
    {
     "data": {
      "text/plain": [
       "3108"
      ]
     },
     "execution_count": 25,
     "metadata": {},
     "output_type": "execute_result"
    }
   ],
   "source": [
    "len(fips_main)"
   ]
  },
  {
   "cell_type": "code",
   "execution_count": 15,
   "id": "eef1d240",
   "metadata": {},
   "outputs": [],
   "source": [
    "## select alpha of the main\n",
    "alpha_mean_main = alpha_mean[indices_main,:]\n",
    "estimated_daily_infections = daily_cases/alpha_mean_main"
   ]
  },
  {
   "cell_type": "code",
   "execution_count": 16,
   "id": "ebb50f0f",
   "metadata": {},
   "outputs": [],
   "source": [
    "pop = np.loadtxt('pop_new.csv') \n",
    "pop_main = pop[indices_main]"
   ]
  },
  {
   "cell_type": "code",
   "execution_count": 17,
   "id": "77d556cb",
   "metadata": {},
   "outputs": [],
   "source": [
    "estimated_infec_perpop = estimated_daily_infections/pop_main[:,None]*100000\n",
    "county_real = np.sum(estimated_infec_perpop>5,axis=0)\n",
    "county_real10 = np.sum(estimated_infec_perpop>10,axis=0)"
   ]
  },
  {
   "cell_type": "code",
   "execution_count": 23,
   "id": "8cadb2a4",
   "metadata": {},
   "outputs": [],
   "source": [
    "np.savetxt('estimated_daily_infections.csv', estimated_daily_infections)"
   ]
  },
  {
   "cell_type": "code",
   "execution_count": 18,
   "id": "ce7cc3a4",
   "metadata": {},
   "outputs": [],
   "source": [
    "df_county = pd.DataFrame(county_real[:63])\n",
    "df_county['Date'] = pd.date_range('2020-02-21',periods=63)\n",
    "df_county.set_index('Date',inplace=True)\n",
    "df_county.rename(columns={0:'5'},inplace=True)"
   ]
  },
  {
   "cell_type": "code",
   "execution_count": 19,
   "id": "73200e72",
   "metadata": {},
   "outputs": [],
   "source": [
    "df_county10 = pd.DataFrame(county_real10[:63])\n",
    "df_county10['Date'] = pd.date_range('2020-02-21',periods=63)\n",
    "df_county10.set_index('Date',inplace=True)\n",
    "df_county10.rename(columns={0:'10'},inplace=True)"
   ]
  },
  {
   "cell_type": "code",
   "execution_count": null,
   "id": "6ebd18a6",
   "metadata": {},
   "outputs": [],
   "source": [
    "# df_county.to_csv('df_num_couties_5.csv')\n",
    "df_county10.to_csv('df_num_couties_10.csv')"
   ]
  },
  {
   "cell_type": "code",
   "execution_count": 20,
   "id": "c9f50137",
   "metadata": {},
   "outputs": [
    {
     "data": {
      "text/plain": [
       "Text(0, 0.5, 'counties with daily infections per 100000>')"
      ]
     },
     "execution_count": 20,
     "metadata": {},
     "output_type": "execute_result"
    },
    {
     "data": {
      "image/png": "[encoded data removed]",
      "text/plain": [
       "<Figure size 1200x400 with 1 Axes>"
      ]
     },
     "metadata": {},
     "output_type": "display_data"
    }
   ],
   "source": [
    "fig, ax = plt.subplots(1,1, figsize=(12, 4))\n",
    "# for r_idx in range(9):\n",
    "#     r = rs[r_idx]\n",
    "#     mean_county1 =  E_mean_county[r_idx]\n",
    "#     std_county1 = E_std_county[r_idx]\n",
    "#     plt.plot(mean_county1,label='r={}'.format(r))\n",
    "#     plt.fill_between(range(60),mean_county1-std_county1,mean_county1 +std_county1,alpha=0.1)\n",
    "\n",
    "df_county.plot(ax=ax)\n",
    "df_county10.plot(ax=ax)\n",
    "# plt.plot(county_ode,label='metapopulation',color='red')\n",
    "# plt.plot(county_real,label='estimated_real',color='black')\n",
    "\n",
    "plt.legend()\n",
    "plt.xlabel('day')\n",
    "plt.ylabel('counties with daily infections per 100000>')\n",
    "# plt.xlim(0,60)\n",
    "# plt.ylim(-1,40)"
   ]
  },
  {
   "cell_type": "code",
   "execution_count": null,
   "id": "c9d1f59b",
   "metadata": {},
   "outputs": [],
   "source": [
    "for d_i in range(11):\n",
    "    n_c = np.sum(estimated_daily_infections[:,:d_i]>1)\n",
    "    print('day_indices:',d_i,'number of counties cases estimated,',n_c)"
   ]
  },
  {
   "cell_type": "code",
   "execution_count": null,
   "id": "6827c5b2",
   "metadata": {},
   "outputs": [],
   "source": [
    "for d_i in range(1,15):\n",
    "    potential_seed = list(np.where(estimated_daily_infections[:,d_i]>1)[0])\n",
    "    fips_seed_idx = fips_main.loc[potential_seed].FIPS.values\n",
    "    print('****************************************')\n",
    "    for seed_idx in fips_seed_idx:\n",
    "        print (fips_all[fips_all.FIPS==seed_idx])"
   ]
  },
  {
   "cell_type": "code",
   "execution_count": null,
   "id": "737dfc88",
   "metadata": {},
   "outputs": [],
   "source": [
    "for d_i in range(1,15):\n",
    "    potential_seed2 = list(np.where(estimated_infec_perpop[:,d_i]>1)[0])\n",
    "    fips_seed_idx2 = fips_main.loc[potential_seed2].FIPS.values\n",
    "    print('****************************************')\n",
    "    for seed_idx in fips_seed_idx2:\n",
    "        print (fips_all[fips_all.FIPS==seed_idx])"
   ]
  },
  {
   "cell_type": "code",
   "execution_count": null,
   "id": "c64cc670",
   "metadata": {},
   "outputs": [],
   "source": [
    "## chose four of them "
   ]
  },
  {
   "cell_type": "code",
   "execution_count": null,
   "id": "768980c0",
   "metadata": {},
   "outputs": [],
   "source": [
    "fips_all[fips_all.STATE == 22]"
   ]
  },
  {
   "cell_type": "code",
   "execution_count": null,
   "id": "95796279",
   "metadata": {},
   "outputs": [],
   "source": []
  }
 ],
 "metadata": {
  "kernelspec": {
   "display_name": "geo",
   "language": "python",
   "name": "geo"
  },
  "language_info": {
   "codemirror_mode": {
    "name": "ipython",
    "version": 3
   },
   "file_extension": ".py",
   "mimetype": "text/x-python",
   "name": "python",
   "nbconvert_exporter": "python",
   "pygments_lexer": "ipython3",
   "version": "3.11.3"
  }
 },
 "nbformat": 4,
 "nbformat_minor": 5
}
