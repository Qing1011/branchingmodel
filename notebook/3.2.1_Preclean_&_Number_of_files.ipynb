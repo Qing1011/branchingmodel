{
 "cells": [
  {
   "cell_type": "code",
   "execution_count": 7,
   "id": "82cc499a",
   "metadata": {},
   "outputs": [],
   "source": [
    "import pandas as pd\n",
    "import numpy as np\n",
    "import os\n",
    "import csv\n",
    "import datetime as d\n",
    "from datetime import datetime as D\n",
    "import matplotlib.ticker as ticker\n",
    "import random \n",
    "import time\n",
    "import math\n",
    "import scipy\n",
    "from scipy import stats\n",
    "import gzip\n",
    "import sys\n",
    "import datetime\n",
    "import ast"
   ]
  },
  {
   "cell_type": "code",
   "execution_count": 8,
   "id": "ad633063",
   "metadata": {},
   "outputs": [],
   "source": [
    "data_path = '../../../../../../../Volumes/Seagate_Qing/Safegraph/'\n",
    "save_dir = '../../../../../../../Volumes/Seagate_Qing/Safegraph_clean/'\n",
    "years = ['2020','2021','2022']\n",
    "months = ['01','02','03','04','05','06','07','08','09','10','11','12']\n",
    "#np.save('ym_datesofweek',ym_datesofweek)\n",
    "ym_datesofweek = np.load('../data/ym_datesofweek.npy',allow_pickle=True).item()\n",
    "num_files = np.load('../data/num_files.npy',allow_pickle=True).item()"
   ]
  },
  {
   "cell_type": "code",
   "execution_count": 9,
   "id": "2feca67a",
   "metadata": {},
   "outputs": [],
   "source": [
    "df_header = pd.read_csv('header.csv')\n",
    "df_header.iloc[[32,34,36,38],0].values\n",
    "selected_header = ['raw_visit_counts', 'visits_by_day', 'poi_cbg','visitor_home_aggregation']"
   ]
  },
  {
   "cell_type": "code",
   "execution_count": 10,
   "id": "d2c46d50",
   "metadata": {},
   "outputs": [
    {
     "data": {
      "text/plain": [
       "524288000"
      ]
     },
     "execution_count": 10,
     "metadata": {},
     "output_type": "execute_result"
    }
   ],
   "source": [
    "csv.field_size_limit(500 * 1024 * 1024)"
   ]
  },
  {
   "cell_type": "code",
   "execution_count": 11,
   "id": "17335a63",
   "metadata": {},
   "outputs": [],
   "source": [
    "US_states = pd.read_csv('us-state-ansi-fips.csv')\n",
    "state_lists_0 = US_states.stusps.values\n",
    "state_lists = [s[1:] for s in state_lists_0]\n",
    "state_lists.remove('HI')\n",
    "state_lists.remove('AK') ### remove the non mainland"
   ]
  },
  {
   "cell_type": "code",
   "execution_count": 12,
   "id": "cebab365",
   "metadata": {},
   "outputs": [
    {
     "name": "stdout",
     "output_type": "stream",
     "text": [
      "month: 02\n",
      "17\n",
      "24\n",
      "1\n",
      "0.25214295259731584\n",
      "2\n",
      "0.2511250610202587\n",
      "3\n",
      "0.25151075843125287\n",
      "4\n",
      "0.25099671883419855\n",
      "5\n",
      "0.2522600841121139\n",
      "6\n",
      "0.2513889497729079\n",
      "7\n",
      "0.25243286217730654\n",
      "8\n",
      "0.2509677308360621\n",
      "9\n",
      "0.25097856423756043\n",
      "10\n",
      "0.2508363115422423\n",
      "11\n",
      "0.2505533954971384\n",
      "12\n",
      "0.249730685777153\n",
      "13\n",
      "0.2505416279789539\n",
      "14\n",
      "0.25083035245862545\n",
      "15\n",
      "0.2507428064805208\n",
      "16\n",
      "0.25105689692011846\n",
      "17\n",
      "0.2510191973475115\n",
      "18\n",
      "0.2516302029374124\n",
      "19\n",
      "0.25055658644814716\n",
      "20\n",
      "0.25011968681156244\n",
      "21\n",
      "0.2501514835833848\n",
      "22\n",
      "0.24972239878085203\n",
      "23\n",
      "0.24992174497259165\n",
      "24\n",
      "0.24981772590466444\n",
      "^_____^finish one week\n"
     ]
    }
   ],
   "source": [
    "y = '2020'\n",
    "for m in ['02']:\n",
    "    print('month:', m)\n",
    "    subdir = data_path + y + '/' + m + '/'\n",
    "    week_start_dates = ym_datesofweek[y + m]\n",
    "    for start_day in week_start_dates[-2:-1]:\n",
    "        print(start_day)\n",
    "        weekly_folder = subdir + start_day + '/SAFEGRAPH/WP/'\n",
    "        n_file = num_files['/'+ y + '/' + m + '/'+ start_day + '/SAFEGRAPH/WP'] - 3 ## there three files which is not data\n",
    "        print(n_file)\n",
    "        for i in range(1,n_file+1):\n",
    "            file_name = weekly_folder + 'core_poi-geometry-patterns-part{}.csv.gz'.format(i)\n",
    "            file_stat = os.stat(file_name)\n",
    "            print(i)\n",
    "            count = 0\n",
    "            actual = 0\n",
    "            new_name = save_dir + y + '_' + m + '_' + start_day + '_{}.csv'.format(i)\n",
    "            with open(new_name, 'w', encoding='utf-8', newline='') as csv_out_file:  # Open the file for writing (not appending)\n",
    "                filewriter = csv.writer(csv_out_file)\n",
    "                filewriter.writerow(selected_header)  # Write the header once for each new file\n",
    "                with gzip.open(file_name, 'rt') as csv_in_file:\n",
    "                    filereader = csv.reader(csv_in_file)\n",
    "                    for row_list in filereader:\n",
    "                        count = count + 1\n",
    "                        if (row_list[13] in state_lists) and (row_list[28] == 'US') and (row_list[34] != '') and (row_list[36] != '') and (row_list[38] != '{}'):  ### select us mainland first\n",
    "                            actual = actual+1\n",
    "                            filewriter.writerow([row_list[32], row_list[34], row_list[36], row_list[38]])\n",
    "            print(actual/count)\n",
    "        print('^_____^finish one week')"
   ]
  },
  {
   "cell_type": "code",
   "execution_count": null,
   "id": "602ea1f0",
   "metadata": {},
   "outputs": [],
   "source": []
  }
 ],
 "metadata": {
  "kernelspec": {
   "display_name": "gnn",
   "language": "python",
   "name": "gnn"
  },
  "language_info": {
   "codemirror_mode": {
    "name": "ipython",
    "version": 3
   },
   "file_extension": ".py",
   "mimetype": "text/x-python",
   "name": "python",
   "nbconvert_exporter": "python",
   "pygments_lexer": "ipython3",
   "version": "3.11.4"
  }
 },
 "nbformat": 4,
 "nbformat_minor": 5
}
