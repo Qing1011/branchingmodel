{
 "cells": [
  {
   "cell_type": "code",
   "execution_count": 46,
   "id": "707cada0",
   "metadata": {},
   "outputs": [],
   "source": [
    "import scipy.io\n",
    "import pandas as pd\n",
    "import numpy as np\n",
    "import matplotlib.pyplot as plt\n",
    "from scipy.stats import norm\n",
    "from scipy.optimize import minimize\n",
    "\n",
    "from scipy.io import loadmat, savemat\n",
    "import pandas as pd\n",
    "import scipy.special as SS\n",
    "import scipy.stats as SSA\n",
    "import copy\n",
    "import random\n",
    "import math\n",
    "from sklearn.model_selection import ParameterGrid\n",
    "import os\n",
    "import numpy.linalg as LA\n",
    "import gzip\n",
    "\n",
    "# load pickle module\n",
    "import pickle"
   ]
  },
  {
   "cell_type": "code",
   "execution_count": 47,
   "id": "ba10676e",
   "metadata": {},
   "outputs": [
    {
     "name": "stderr",
     "output_type": "stream",
     "text": [
      "/Users/qingyao/anaconda3/envs/geo/lib/python3.11/site-packages/scipy/io/matlab/_mio.py:227: MatReadWarning: Duplicate variable name \"None\" in stream - replacing previous with new\n",
      "Consider mio5.varmats_from_mat to split file into single variable files\n",
      "  matfile_dict = MR.get_variables(variable_names)\n"
     ]
    }
   ],
   "source": [
    "parameter = scipy.io.loadmat('../data/parameterestimate.mat')\n",
    "alpha = parameter['alpha']\n",
    "beta = parameter['beta']"
   ]
  },
  {
   "cell_type": "markdown",
   "id": "80683dc0",
   "metadata": {},
   "source": [
    "## starting date is 2020-02-21"
   ]
  },
  {
   "cell_type": "code",
   "execution_count": 48,
   "id": "70eb789e",
   "metadata": {},
   "outputs": [],
   "source": [
    "sen_fips = scipy.io.loadmat('../data/countyfips_num.mat')\n",
    "sen_fips = sen_fips['countyfips_num']\n",
    "for i in range(3141):\n",
    "    if (sen_fips[i+1][0] - sen_fips[i][0])<0:\n",
    "        print(i)\n",
    "### this data is sorted"
   ]
  },
  {
   "cell_type": "code",
   "execution_count": 49,
   "id": "c16c7096",
   "metadata": {},
   "outputs": [],
   "source": [
    "beta_mean = np.mean(beta,axis=1)\n",
    "alpha_mean = np.mean(alpha,axis=1) ## 3142"
   ]
  },
  {
   "cell_type": "code",
   "execution_count": 52,
   "id": "4b6c61f7",
   "metadata": {},
   "outputs": [
    {
     "data": {
      "text/plain": [
       "(3142, 315)"
      ]
     },
     "execution_count": 52,
     "metadata": {},
     "output_type": "execute_result"
    }
   ],
   "source": [
    "alpha_mean.shape"
   ]
  },
  {
   "cell_type": "markdown",
   "id": "0d1b8f76",
   "metadata": {},
   "source": [
    "### there are 3108 fips in the mainland \n",
    "### 3142 fips when i do the simulations\n",
    "### need to compare them and find the intersection"
   ]
  },
  {
   "cell_type": "code",
   "execution_count": 50,
   "id": "2270e4a8",
   "metadata": {},
   "outputs": [],
   "source": [
    "fips_main = pd.read_csv('fips_sorted.cvs')\n",
    "fips_all = pd.DataFrame(sen_fips,columns=['FIPS'])\n",
    "mask = fips_all.FIPS.isin(fips_main.FIPS.values)\n",
    "indices_main = mask[lambda x: x==True].index.tolist()\n",
    "main_df = fips_all.loc[indices_main]"
   ]
  },
  {
   "cell_type": "code",
   "execution_count": 51,
   "id": "eef1d240",
   "metadata": {},
   "outputs": [],
   "source": [
    "## select alpha of the main\n",
    "alpha_mean_main = alpha_mean[indices_main,:]\n",
    "beta_mean_main = beta_mean[indices_main,:]"
   ]
  },
  {
   "cell_type": "code",
   "execution_count": 53,
   "id": "2dfc05d9",
   "metadata": {},
   "outputs": [],
   "source": [
    "# np.savetxt('beta_mean_main.cvs',beta_mean_main)\n",
    "np.savetxt('alpha_mean_main.cvs',alpha_mean_main)"
   ]
  },
  {
   "cell_type": "code",
   "execution_count": 22,
   "id": "95796279",
   "metadata": {},
   "outputs": [],
   "source": [
    "estimate_R0 = beta_mean_main*5"
   ]
  },
  {
   "cell_type": "code",
   "execution_count": 29,
   "id": "d36a59d9",
   "metadata": {},
   "outputs": [],
   "source": [
    "estimate_R0_t = np.zeros((315,3108))\n",
    "for i in range(3108):\n",
    "    estimate_R0_t[:,i] = estimate_R0[i,:]"
   ]
  },
  {
   "cell_type": "code",
   "execution_count": 23,
   "id": "c79bf75d",
   "metadata": {},
   "outputs": [
    {
     "data": {
      "text/plain": [
       "array([ 1001,  1003,  1005, ..., 56041, 56043, 56045])"
      ]
     },
     "execution_count": 23,
     "metadata": {},
     "output_type": "execute_result"
    }
   ],
   "source": [
    "fips_main['FIPS'].values"
   ]
  },
  {
   "cell_type": "code",
   "execution_count": 32,
   "id": "92db51dd",
   "metadata": {},
   "outputs": [],
   "source": [
    "df_estimate_R0 = pd.DataFrame()"
   ]
  },
  {
   "cell_type": "code",
   "execution_count": 33,
   "id": "e2eb5af6",
   "metadata": {},
   "outputs": [],
   "source": [
    "df_estimate_R0['Date'] = pd.date_range(start=\"2020-02-21\", periods=315)"
   ]
  },
  {
   "cell_type": "code",
   "execution_count": 36,
   "id": "b105e328",
   "metadata": {},
   "outputs": [],
   "source": [
    "df_add = pd.DataFrame(estimate_R0_t,columns=fips_main['FIPS'].values)\n",
    "df_estimate_R0 = pd.concat([df_estimate_R0,df_add],axis=1)"
   ]
  },
  {
   "cell_type": "code",
   "execution_count": 40,
   "id": "253a4431",
   "metadata": {},
   "outputs": [],
   "source": [
    "df_estimate_R0.set_index('Date',inplace=True)"
   ]
  },
  {
   "cell_type": "code",
   "execution_count": 45,
   "id": "bcedcbb0",
   "metadata": {},
   "outputs": [],
   "source": [
    "df_estimate_R0.to_csv('estimate_R0_beta.csv')"
   ]
  },
  {
   "cell_type": "code",
   "execution_count": null,
   "id": "e9b3592b",
   "metadata": {},
   "outputs": [],
   "source": []
  }
 ],
 "metadata": {
  "kernelspec": {
   "display_name": "geo",
   "language": "python",
   "name": "geo"
  },
  "language_info": {
   "codemirror_mode": {
    "name": "ipython",
    "version": 3
   },
   "file_extension": ".py",
   "mimetype": "text/x-python",
   "name": "python",
   "nbconvert_exporter": "python",
   "pygments_lexer": "ipython3",
   "version": "3.11.3"
  }
 },
 "nbformat": 4,
 "nbformat_minor": 5
}
