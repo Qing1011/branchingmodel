{
 "cells": [
  {
   "cell_type": "code",
   "execution_count": 1,
   "id": "8c6ae5a7",
   "metadata": {},
   "outputs": [],
   "source": [
    "import pandas as pd\n",
    "import numpy as np\n",
    "import os\n",
    "import csv\n",
    "import datetime as d\n",
    "from datetime import datetime as D\n",
    "import matplotlib.ticker as ticker\n",
    "import random \n",
    "import time\n",
    "import math\n",
    "import scipy\n",
    "from scipy import stats\n",
    "import gzip\n",
    "import sys\n",
    "import datetime\n",
    "import ast"
   ]
  },
  {
   "cell_type": "code",
   "execution_count": 36,
   "id": "69229689",
   "metadata": {},
   "outputs": [],
   "source": [
    "data_path = '../../../../../../../Volumes/Seagate_Qing/Safegraph_clean/'\n",
    "# save_dir = '../../../../../../../Volumes/Seagate_Qing/Safegraph_clean/'\n",
    "years = ['2020','2021','2022']\n",
    "months = ['01','02','03','04','05','06','07','08','09','10','11','12']\n",
    "#np.save('ym_datesofweek',ym_datesofweek)\n",
    "ym_datesofweek = np.load('../data/ym_datesofweek.npy',allow_pickle=True).item()"
   ]
  },
  {
   "cell_type": "code",
   "execution_count": 3,
   "id": "b52f91fa",
   "metadata": {},
   "outputs": [],
   "source": [
    "US_states = pd.read_csv('us-state-ansi-fips.csv')\n",
    "state_lists_0 = US_states.stusps.values\n",
    "state_lists = [s[1:] for s in state_lists_0]\n",
    "state_lists.remove('HI')\n",
    "state_lists.remove('AK') ### remove the non mainland\n",
    "\n",
    "real_data_path = '/Users/qingyao/OneDrive - cumc.columbia.edu/machine_learning_data/'\n",
    "fips_main = pd.read_csv(real_data_path+'county_data/fips_mainland.csv',names=['FIPS'])\n",
    "fips_main_sorted = fips_main.sort_values(by='FIPS')\n",
    "fips_main_sorted['poi_idx'] = fips_main_sorted.index"
   ]
  },
  {
   "cell_type": "code",
   "execution_count": 4,
   "id": "f8e8b92b",
   "metadata": {},
   "outputs": [
    {
     "data": {
      "text/plain": [
       "131072"
      ]
     },
     "execution_count": 4,
     "metadata": {},
     "output_type": "execute_result"
    }
   ],
   "source": [
    "csv.field_size_limit(500 * 1024 * 1024)"
   ]
  },
  {
   "cell_type": "code",
   "execution_count": 5,
   "id": "b6a8e476",
   "metadata": {},
   "outputs": [
    {
     "data": {
      "text/plain": [
       "array(['raw_visit_counts', 'visits_by_day', 'poi_cbg',\n",
       "       'visitor_home_aggregation'], dtype=object)"
      ]
     },
     "execution_count": 5,
     "metadata": {},
     "output_type": "execute_result"
    }
   ],
   "source": [
    "df_header = pd.read_csv('header.csv')\n",
    "df_header.iloc[[32,34,36,38],0].values"
   ]
  },
  {
   "cell_type": "code",
   "execution_count": 6,
   "id": "8b3ad2a4",
   "metadata": {},
   "outputs": [],
   "source": [
    "selected_header = ['raw_visit_counts', 'visits_by_day', 'poi_cbg','visitor_home_aggregation']"
   ]
  },
  {
   "cell_type": "code",
   "execution_count": 38,
   "id": "2772d4ff",
   "metadata": {},
   "outputs": [],
   "source": [
    "%run ../codes/mobility_matrix_extraction.py"
   ]
  },
  {
   "cell_type": "code",
   "execution_count": 50,
   "id": "49f9c307",
   "metadata": {},
   "outputs": [
    {
     "name": "stdout",
     "output_type": "stream",
     "text": [
      "month: 04\n",
      "06\n",
      "1\n"
     ]
    }
   ],
   "source": [
    "y = '2020'\n",
    "for m in ['04']:\n",
    "    print('month:', m)\n",
    "    week_start_dates = ym_datesofweek[y + m]\n",
    "    for start_day in week_start_dates[:1]:\n",
    "        print(start_day)\n",
    "#         M_w = np.zeros((7,3108,3108)) #M_weekly = np.zeros((7,3108,3108)) ## \n",
    "        for i in range(1,2):  ### there are 40 files !!!\n",
    "            print(i)\n",
    "            new_name = data_path + y + '_' + m + '_' + start_day + '_{}.csv'.format(i)\n",
    "            df_file = pd.read_csv(new_name)\n",
    "            df_noca = df_file[~df_file['poi_cbg'].astype(str).str.contains('CA:')]\n",
    "            df_noca['poi_fips'] = df_noca['poi_cbg'].astype(str).str[:-7].astype(int)\n",
    "            df_i = pd.merge(df_noca,fips_main_sorted,left_on='poi_fips',right_on='FIPS',how='left') \n",
    "            df_i_main = df_i.dropna()\n",
    "            \n",
    "            df_m = pd.DataFrame()\n",
    "            df_m[['raw_visit_counts','poi_idx']] = df_i_main[['raw_visit_counts','poi_idx']]\n",
    "            df_m['visits_by_day_list'] = df_i_main['visits_by_day'].apply(lambda x: np.array(ast.literal_eval(x)))\n",
    "            df_m['multiplier'] = df_m.apply(lambda x: x['visits_by_day_list']/x['raw_visit_counts'], axis=1) ### multiplier\n",
    "            df_m['visitor_home_list'] = df_i_main['visitor_home_aggregation'].apply(lambda x: x[1:-1].replace('\"','').split(','))\n",
    "            df_m[['home_idx_list', 'modified_visit_list']] = df_m.apply(lambda x: process_visitor_data(x['visitor_home_list'],x['raw_visit_counts'],fips_main_sorted),axis=1)\n",
    "            df_m['vis_daily_matrix'] = df_m.apply(lambda x: dayvisits_by_visitor(x['modified_visit_list'], x['multiplier']),axis=1)\n",
    "#             df_i_main.loc[:,'visits_by_day_list'] = df_i_main['visits_by_day'].apply(lambda x: np.array(ast.literal_eval(x)))\n",
    "#             df_i_main.loc[:,'multiplier'] = df_i_main.apply(lambda x: x['visits_by_day_list']/x['raw_visit_counts'], axis=1) ### multiplier\n",
    "#             df_i_main.loc[:,'visitor_home_list'] = df_i_main['visitor_home_aggregation'].apply(lambda x: x[1:-1].replace('\"','').split(','))\n",
    "            \n",
    "#             df_i_main.loc[:,['home_idx_list', 'modified_visit_list']] = df_i_main.apply(lambda x: process_visitor_data(x['visitor_home_list'],x['raw_visit_counts'],fips_main_sorted),axis=1)\n",
    "#             df_i_main.loc[:,'vis_daily_matrix'] = df_i_main.apply(lambda x: dayvisits_by_visitor(x['modified_visit_list'], x['multiplier']),axis=1)\n",
    "            for j_data_idx in range(len(df_m)):\n",
    "                df_j = df_m.iloc[j_data_idx]\n",
    "                M_w = mobility_extract_per_poi(df_j, M_w)"
   ]
  },
  {
   "cell_type": "code",
   "execution_count": 48,
   "id": "38319721",
   "metadata": {},
   "outputs": [
    {
     "data": {
      "text/html": [
       "<div>\n",
       "<style scoped>\n",
       "    .dataframe tbody tr th:only-of-type {\n",
       "        vertical-align: middle;\n",
       "    }\n",
       "\n",
       "    .dataframe tbody tr th {\n",
       "        vertical-align: top;\n",
       "    }\n",
       "\n",
       "    .dataframe thead th {\n",
       "        text-align: right;\n",
       "    }\n",
       "</style>\n",
       "<table border=\"1\" class=\"dataframe\">\n",
       "  <thead>\n",
       "    <tr style=\"text-align: right;\">\n",
       "      <th></th>\n",
       "      <th>raw_visit_counts</th>\n",
       "      <th>visits_by_day</th>\n",
       "      <th>poi_cbg</th>\n",
       "      <th>visitor_home_aggregation</th>\n",
       "      <th>poi_fips</th>\n",
       "      <th>FIPS</th>\n",
       "      <th>poi_idx</th>\n",
       "    </tr>\n",
       "  </thead>\n",
       "  <tbody>\n",
       "    <tr>\n",
       "      <th>0</th>\n",
       "      <td>35</td>\n",
       "      <td>[4,5,6,6,5,7,2]</td>\n",
       "      <td>391130404013</td>\n",
       "      <td>{\"39113040401\":6,\"39165030200\":4,\"39165030102\"...</td>\n",
       "      <td>39113</td>\n",
       "      <td>39113</td>\n",
       "      <td>2065</td>\n",
       "    </tr>\n",
       "    <tr>\n",
       "      <th>1</th>\n",
       "      <td>70</td>\n",
       "      <td>[5,7,9,15,8,16,10]</td>\n",
       "      <td>450790116081</td>\n",
       "      <td>{\"45079011607\":9,\"45079011606\":6,\"45079011608\"...</td>\n",
       "      <td>45079</td>\n",
       "      <td>45079</td>\n",
       "      <td>2321</td>\n",
       "    </tr>\n",
       "    <tr>\n",
       "      <th>2</th>\n",
       "      <td>7</td>\n",
       "      <td>[1,1,0,2,3,0,0]</td>\n",
       "      <td>370670001001</td>\n",
       "      <td>{\"37169070503\":4}</td>\n",
       "      <td>37067</td>\n",
       "      <td>37067</td>\n",
       "      <td>1889</td>\n",
       "    </tr>\n",
       "    <tr>\n",
       "      <th>3</th>\n",
       "      <td>5</td>\n",
       "      <td>[0,0,1,0,0,3,1]</td>\n",
       "      <td>421010356012</td>\n",
       "      <td>{\"42101034502\":4}</td>\n",
       "      <td>42101</td>\n",
       "      <td>42101</td>\n",
       "      <td>2260</td>\n",
       "    </tr>\n",
       "    <tr>\n",
       "      <th>4</th>\n",
       "      <td>66</td>\n",
       "      <td>[9,19,13,9,7,9,0]</td>\n",
       "      <td>190990407001</td>\n",
       "      <td>{\"19099040700\":13,\"19099040200\":5,\"19083480100...</td>\n",
       "      <td>19099</td>\n",
       "      <td>19099</td>\n",
       "      <td>804</td>\n",
       "    </tr>\n",
       "  </tbody>\n",
       "</table>\n",
       "</div>"
      ],
      "text/plain": [
       "   raw_visit_counts       visits_by_day       poi_cbg  \\\n",
       "0                35     [4,5,6,6,5,7,2]  391130404013   \n",
       "1                70  [5,7,9,15,8,16,10]  450790116081   \n",
       "2                 7     [1,1,0,2,3,0,0]  370670001001   \n",
       "3                 5     [0,0,1,0,0,3,1]  421010356012   \n",
       "4                66   [9,19,13,9,7,9,0]  190990407001   \n",
       "\n",
       "                            visitor_home_aggregation  poi_fips   FIPS  poi_idx  \n",
       "0  {\"39113040401\":6,\"39165030200\":4,\"39165030102\"...     39113  39113     2065  \n",
       "1  {\"45079011607\":9,\"45079011606\":6,\"45079011608\"...     45079  45079     2321  \n",
       "2                                  {\"37169070503\":4}     37067  37067     1889  \n",
       "3                                  {\"42101034502\":4}     42101  42101     2260  \n",
       "4  {\"19099040700\":13,\"19099040200\":5,\"19083480100...     19099  19099      804  "
      ]
     },
     "execution_count": 48,
     "metadata": {},
     "output_type": "execute_result"
    }
   ],
   "source": [
    "df_i_main.head()"
   ]
  },
  {
   "cell_type": "code",
   "execution_count": 51,
   "id": "7ee39c47",
   "metadata": {},
   "outputs": [
    {
     "data": {
      "text/html": [
       "<div>\n",
       "<style scoped>\n",
       "    .dataframe tbody tr th:only-of-type {\n",
       "        vertical-align: middle;\n",
       "    }\n",
       "\n",
       "    .dataframe tbody tr th {\n",
       "        vertical-align: top;\n",
       "    }\n",
       "\n",
       "    .dataframe thead th {\n",
       "        text-align: right;\n",
       "    }\n",
       "</style>\n",
       "<table border=\"1\" class=\"dataframe\">\n",
       "  <thead>\n",
       "    <tr style=\"text-align: right;\">\n",
       "      <th></th>\n",
       "      <th>raw_visit_counts</th>\n",
       "      <th>poi_idx</th>\n",
       "      <th>visits_by_day_list</th>\n",
       "      <th>multiplier</th>\n",
       "      <th>visitor_home_list</th>\n",
       "      <th>home_idx_list</th>\n",
       "      <th>modified_visit_list</th>\n",
       "      <th>vis_daily_matrix</th>\n",
       "    </tr>\n",
       "  </thead>\n",
       "  <tbody>\n",
       "    <tr>\n",
       "      <th>0</th>\n",
       "      <td>35</td>\n",
       "      <td>2065</td>\n",
       "      <td>[4, 5, 6, 6, 5, 7, 2]</td>\n",
       "      <td>[0.11428571428571428, 0.14285714285714285, 0.1...</td>\n",
       "      <td>[39113040401:6, 39165030200:4, 39165030102:4, ...</td>\n",
       "      <td>[2065, 2091, 2091, 2065]</td>\n",
       "      <td>[11.666666666666666, 7.777777777777778, 7.7777...</td>\n",
       "      <td>[[1.3333333333333333, 1.6666666666666665, 2.0,...</td>\n",
       "    </tr>\n",
       "    <tr>\n",
       "      <th>1</th>\n",
       "      <td>70</td>\n",
       "      <td>2321</td>\n",
       "      <td>[5, 7, 9, 15, 8, 16, 10]</td>\n",
       "      <td>[0.07142857142857142, 0.1, 0.12857142857142856...</td>\n",
       "      <td>[45079011607:9, 45079011606:6, 45079011608:6, ...</td>\n",
       "      <td>[2321, 2321, 2321, 2321, 2321, 2321, 2313, 232...</td>\n",
       "      <td>[11.454545454545455, 7.636363636363637, 7.6363...</td>\n",
       "      <td>[[0.8181818181818181, 1.1454545454545455, 1.47...</td>\n",
       "    </tr>\n",
       "    <tr>\n",
       "      <th>2</th>\n",
       "      <td>7</td>\n",
       "      <td>1889</td>\n",
       "      <td>[1, 1, 0, 2, 3, 0, 0]</td>\n",
       "      <td>[0.14285714285714285, 0.14285714285714285, 0.0...</td>\n",
       "      <td>[37169070503:4]</td>\n",
       "      <td>[1940]</td>\n",
       "      <td>[7.0]</td>\n",
       "      <td>[[1.0, 1.0, 0.0, 2.0, 3.0, 0.0, 0.0]]</td>\n",
       "    </tr>\n",
       "    <tr>\n",
       "      <th>3</th>\n",
       "      <td>5</td>\n",
       "      <td>2260</td>\n",
       "      <td>[0, 0, 1, 0, 0, 3, 1]</td>\n",
       "      <td>[0.0, 0.0, 0.2, 0.0, 0.0, 0.6, 0.2]</td>\n",
       "      <td>[42101034502:4]</td>\n",
       "      <td>[2260]</td>\n",
       "      <td>[5.0]</td>\n",
       "      <td>[[0.0, 0.0, 1.0, 0.0, 0.0, 3.0, 1.0]]</td>\n",
       "    </tr>\n",
       "    <tr>\n",
       "      <th>4</th>\n",
       "      <td>66</td>\n",
       "      <td>804</td>\n",
       "      <td>[9, 19, 13, 9, 7, 9, 0]</td>\n",
       "      <td>[0.13636363636363635, 0.2878787878787879, 0.19...</td>\n",
       "      <td>[19099040700:13, 19099040200:5, 19083480100:4,...</td>\n",
       "      <td>[804, 804, 796, 831, 831, 831]</td>\n",
       "      <td>[25.235294117647058, 9.705882352941178, 7.7647...</td>\n",
       "      <td>[[3.441176470588235, 7.264705882352941, 4.9705...</td>\n",
       "    </tr>\n",
       "  </tbody>\n",
       "</table>\n",
       "</div>"
      ],
      "text/plain": [
       "   raw_visit_counts  poi_idx        visits_by_day_list  \\\n",
       "0                35     2065     [4, 5, 6, 6, 5, 7, 2]   \n",
       "1                70     2321  [5, 7, 9, 15, 8, 16, 10]   \n",
       "2                 7     1889     [1, 1, 0, 2, 3, 0, 0]   \n",
       "3                 5     2260     [0, 0, 1, 0, 0, 3, 1]   \n",
       "4                66      804   [9, 19, 13, 9, 7, 9, 0]   \n",
       "\n",
       "                                          multiplier  \\\n",
       "0  [0.11428571428571428, 0.14285714285714285, 0.1...   \n",
       "1  [0.07142857142857142, 0.1, 0.12857142857142856...   \n",
       "2  [0.14285714285714285, 0.14285714285714285, 0.0...   \n",
       "3                [0.0, 0.0, 0.2, 0.0, 0.0, 0.6, 0.2]   \n",
       "4  [0.13636363636363635, 0.2878787878787879, 0.19...   \n",
       "\n",
       "                                   visitor_home_list  \\\n",
       "0  [39113040401:6, 39165030200:4, 39165030102:4, ...   \n",
       "1  [45079011607:9, 45079011606:6, 45079011608:6, ...   \n",
       "2                                    [37169070503:4]   \n",
       "3                                    [42101034502:4]   \n",
       "4  [19099040700:13, 19099040200:5, 19083480100:4,...   \n",
       "\n",
       "                                       home_idx_list  \\\n",
       "0                           [2065, 2091, 2091, 2065]   \n",
       "1  [2321, 2321, 2321, 2321, 2321, 2321, 2313, 232...   \n",
       "2                                             [1940]   \n",
       "3                                             [2260]   \n",
       "4                     [804, 804, 796, 831, 831, 831]   \n",
       "\n",
       "                                 modified_visit_list  \\\n",
       "0  [11.666666666666666, 7.777777777777778, 7.7777...   \n",
       "1  [11.454545454545455, 7.636363636363637, 7.6363...   \n",
       "2                                              [7.0]   \n",
       "3                                              [5.0]   \n",
       "4  [25.235294117647058, 9.705882352941178, 7.7647...   \n",
       "\n",
       "                                    vis_daily_matrix  \n",
       "0  [[1.3333333333333333, 1.6666666666666665, 2.0,...  \n",
       "1  [[0.8181818181818181, 1.1454545454545455, 1.47...  \n",
       "2              [[1.0, 1.0, 0.0, 2.0, 3.0, 0.0, 0.0]]  \n",
       "3              [[0.0, 0.0, 1.0, 0.0, 0.0, 3.0, 1.0]]  \n",
       "4  [[3.441176470588235, 7.264705882352941, 4.9705...  "
      ]
     },
     "execution_count": 51,
     "metadata": {},
     "output_type": "execute_result"
    }
   ],
   "source": [
    "df_m.head()"
   ]
  },
  {
   "cell_type": "code",
   "execution_count": 33,
   "id": "27d29398",
   "metadata": {},
   "outputs": [],
   "source": [
    "#normalize by  people num\n",
    "# M_norm = M_w / pop[np.newaxis, :, np.newaxis]\n",
    "save_dir = '/Users/qingyao/Documents/branching_data/'\n",
    "for d in range(7):\n",
    "    np.savetxt(save_dir+'M_{}{}_{}.csv'.format(y,m,(int(start_day)+d)), M_w[d], delimiter=\",\")"
   ]
  },
  {
   "cell_type": "code",
   "execution_count": null,
   "id": "bea55cec",
   "metadata": {},
   "outputs": [],
   "source": []
  }
 ],
 "metadata": {
  "kernelspec": {
   "display_name": "gnn",
   "language": "python",
   "name": "gnn"
  },
  "language_info": {
   "codemirror_mode": {
    "name": "ipython",
    "version": 3
   },
   "file_extension": ".py",
   "mimetype": "text/x-python",
   "name": "python",
   "nbconvert_exporter": "python",
   "pygments_lexer": "ipython3",
   "version": "3.11.4"
  }
 },
 "nbformat": 4,
 "nbformat_minor": 5
}
