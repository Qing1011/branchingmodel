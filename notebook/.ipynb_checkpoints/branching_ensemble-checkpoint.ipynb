{
 "cells": [
  {
   "cell_type": "code",
   "execution_count": 1,
   "id": "c59d105a",
   "metadata": {},
   "outputs": [],
   "source": [
    "import numpy as np\n",
    "import matplotlib.pyplot as plt\n",
    "from scipy.io import loadmat, savemat\n",
    "import pandas as pd\n",
    "import copy"
   ]
  },
  {
   "cell_type": "code",
   "execution_count": 2,
   "id": "af88c954",
   "metadata": {},
   "outputs": [],
   "source": [
    "Cave = np.loadtxt('Cave.csv')\n",
    "pop = np.loadtxt('pop_new.csv')"
   ]
  },
  {
   "cell_type": "code",
   "execution_count": 5,
   "id": "1c85a371",
   "metadata": {},
   "outputs": [],
   "source": [
    "num_fips = len(pop)\n",
    "T = 60\n",
    "num_ens = 300"
   ]
  },
  {
   "cell_type": "code",
   "execution_count": 13,
   "id": "8cae26d9",
   "metadata": {},
   "outputs": [],
   "source": [
    "# compute wji make the transission rate(probability)\n",
    "# mobility factor\n",
    "theta = 1\n",
    "W = np.zeros_like(Cave)\n",
    "WN = np.zeros_like(Cave)\n",
    "for i in range(num_fips):\n",
    "    non_dia = np.delete(idx, i)\n",
    "    W[non_dia,i] = Cave[non_dia,i]/pop[i] \n",
    "    W[i,i] = max((1-np.sum(W[non_dia,i])),0.2) ## the maxium probability travel within is 0.2\n",
    "    WN[:,i] = W[:,i]/np.sum(W[:,i]) ## normalise distribution"
   ]
  },
  {
   "cell_type": "code",
   "execution_count": 62,
   "id": "a3bfb5fd",
   "metadata": {},
   "outputs": [],
   "source": [
    "np.savetxt('W_avg.csv',WN)"
   ]
  },
  {
   "cell_type": "code",
   "execution_count": 41,
   "id": "e0c4c469",
   "metadata": {},
   "outputs": [],
   "source": [
    "# pathogen characteristics\n",
    "# initialize parameters\n",
    "R0 = 2.5 \n",
    "r = 0.1 ## the parameters\n",
    "Z = 3 # latent period\n",
    "Zb = 1 # scale parameter for Z\n",
    "D = 5 # infectious period\n",
    "Db = 1 # scale parameter for b\n",
    "alpha = 0.1 # reporting rate 10%\n",
    "# R0,r,Z;Zb;D;Db,alpha\n",
    "para_i = np.array([[R0], [r], [Z], [Zb], [D], [Db], [alpha]])"
   ]
  },
  {
   "cell_type": "code",
   "execution_count": 47,
   "id": "a8903956",
   "metadata": {},
   "outputs": [],
   "source": [
    "para = np.repeat(para_i,300,axis=1)"
   ]
  },
  {
   "cell_type": "code",
   "execution_count": 60,
   "id": "21ab8fe6",
   "metadata": {},
   "outputs": [],
   "source": [
    "#initialize variables\n",
    "\n",
    "NewInf = np.zeros((num_fips,T,num_ens))\n",
    "Obs = np.zeros((num_fips,T,num_ens))\n",
    "# seeding\n",
    "l0 = 1859-1 # start with New York County NY in python -1, in matlab is 1895\n",
    "NewInf[l0,0,:] = 100 ## the starting t=0, in matlab it is 1"
   ]
  },
  {
   "cell_type": "code",
   "execution_count": null,
   "id": "fb35ec1a",
   "metadata": {},
   "outputs": [],
   "source": [
    "%%%%%%%%%%%%%%%%%%%%%%%%%%%%\n",
    "for t=1:T\n",
    "    t\n",
    "    tic\n",
    "    for k=1:num_ens\n",
    "\n",
    "        %%%%%%%%%%%%%%%%%%%%%%%%%\n",
    "        NewInf(:,:,k)=branching(nl,part,w,t,NewInf(:,:,k),para(:,k),population);\n",
    "    end\n",
    "    toc\n",
    "end"
   ]
  },
  {
   "cell_type": "code",
   "execution_count": null,
   "id": "a7e6e382",
   "metadata": {},
   "outputs": [],
   "source": [
    "Obs=alpha*NewInf;\n",
    "% if r==0.1\n",
    "%     subplot(1,2,1)\n",
    "%     title('r=0.1')\n",
    "% % elseif r==0.3\n",
    "% %     subplot(1,3,2)\n",
    "% %     title('r=0.3')\n",
    "% elseif r==5\n",
    "%     subplot(1,2,2)\n",
    "%     title('r=5')\n",
    "% end\n",
    "DailyInf=squeeze(sum(NewInf,1));\n",
    "hold on\n",
    "plot(1:T,DailyInf)\n",
    "plot(1:T,median(DailyInf,2),'k-','LineWidth',2),\n",
    "ylabel('Daily Infection')\n",
    "\n",
    "% if r==0.1\n",
    "%     save NewInf_01.mat NewInf Obs\n",
    "% elseif r==0.3\n",
    "%     save NewInf_03.mat NewInf Obs\n",
    "% elseif r==5\n",
    "%     save NewInf_5.mat NewInf Obs\n",
    "% end\n"
   ]
  }
 ],
 "metadata": {
  "kernelspec": {
   "display_name": "Python 3 (ipykernel)",
   "language": "python",
   "name": "python3"
  },
  "language_info": {
   "codemirror_mode": {
    "name": "ipython",
    "version": 3
   },
   "file_extension": ".py",
   "mimetype": "text/x-python",
   "name": "python",
   "nbconvert_exporter": "python",
   "pygments_lexer": "ipython3",
   "version": "3.9.7"
  }
 },
 "nbformat": 4,
 "nbformat_minor": 5
}
