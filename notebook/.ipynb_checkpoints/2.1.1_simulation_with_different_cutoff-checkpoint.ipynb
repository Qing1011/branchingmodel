{
 "cells": [
  {
   "cell_type": "code",
   "execution_count": 1,
   "id": "70297c43",
   "metadata": {},
   "outputs": [],
   "source": [
    "import numpy as np\n",
    "# import matplotlib.pyplot as plt\n",
    "from scipy.io import loadmat, savemat\n",
    "import pandas as pd\n",
    "import scipy.special as SS\n",
    "import scipy.stats as SSA\n",
    "import copy\n",
    "import random\n",
    "import math"
   ]
  },
  {
   "cell_type": "code",
   "execution_count": 2,
   "id": "d4079651",
   "metadata": {},
   "outputs": [],
   "source": [
    "%run ../codes/branchingv2.py"
   ]
  },
  {
   "cell_type": "code",
   "execution_count": null,
   "id": "da0d3986",
   "metadata": {},
   "outputs": [],
   "source": [
    "def find_offspring_bylocation(Inf, M_P):\n",
    "    \"\"\"\n",
    "    Inf is the array of already infected people, [100,0,....] of N locations\n",
    "    M_P is the matrix of prob with different cufoff in N locations\n",
    "    \"\"\"\n",
    "    xx = np.arange(0, 100, 1)  # define the range of x values the\n",
    "        # calculate the probability mass function\n",
    "    pmf = SSA.nbinom.pmf(xx, r, p)\n",
    "    weights_n = pmf/np.sum(pmf)\n",
    "    tt = rng.choice(\n",
    "            len(weights_n), size=total_num_infectors, p=weights_n)"
   ]
  },
  {
   "cell_type": "code",
   "execution_count": 8,
   "id": "05c88e8d",
   "metadata": {},
   "outputs": [],
   "source": [
    "def superspreading_T_Loc_cutoff(T, initials, nbi_para, pop, paras, WN, rand_seed, prob_cut):\n",
    "    # initialise\n",
    "    l0, i0 = initials\n",
    "    r, p = nbi_para\n",
    "    num_fips = len(pop)\n",
    "    Z, Zb, D, Db = paras\n",
    "    child_seeds = rand_seed.spawn(T)\n",
    "    \n",
    "\n",
    "    NewInf = np.zeros((num_fips, T))\n",
    "    TotInf = np.zeros((num_fips, T))\n",
    "    NewInf[l0, 0] = i0\n",
    "    TotInf[:, 0] = NewInf[:, 0]\n",
    "\n",
    "    for ti in range(T):\n",
    "        infectors = np.int64(NewInf[:, ti])\n",
    "        total_num_infectors = np.sum(infectors)\n",
    "        pop_immu = 1-TotInf[:, ti]/pop[:]\n",
    "        pop_immu[pop_immu < 0] = 0\n",
    "        # create list of immu_prob * number of infectors\n",
    "        immu_all = np.repeat(pop_immu, infectors)\n",
    "        rng = np.random.default_rng(child_seeds[ti])\n",
    "        # tt = rng.negative_binomial(r, p, total_num_infectors)\n",
    "\n",
    "        # to be assigned, every new infections for the infector\n",
    "        tt = find_offspring_bylocation(infectors, X_cut)\n",
    "        total_new = np.round(tt*immu_all)\n",
    "        totoal_new_infection_loc = get_new_infections_position(\n",
    "            infectors, total_new, num_fips)\n",
    "\n",
    "        z_num = np.int64(np.sum(total_new))\n",
    "        NF = np.zeros((2, z_num), dtype=np.int64)\n",
    "        # for the time distribution\n",
    "        latency_p = SSA.gamma.rvs(a=Z, scale=Zb, size=z_num, random_state=rng)\n",
    "        infectious_p = SSA.gamma.rvs(\n",
    "            a=D, scale=Db, size=z_num, random_state=rng)\n",
    "        v = rng.random(z_num)\n",
    "        delay_days = latency_p+v*infectious_p  # 3+5*0.5\n",
    "\n",
    "        NF[0, :] = np.ceil(delay_days+ti)  # make it idx int\n",
    "        # for the location distribution\n",
    "        NF[1, :] = totoal_new_infection_loc\n",
    "        df = pd.DataFrame(NF.T, columns=['time', 'o_l'])\n",
    "        l_list = np.arange(num_fips)\n",
    "        df['d_l'] = df['o_l'].apply(\n",
    "            lambda x: np.random.choice(l_list, size=1, p=WN[:, x])[0])\n",
    "        df = df[df['time'] <= (T-1)]\n",
    "        NF_ii = np.array(df)\n",
    "        for (t, o, d) in NF_ii:\n",
    "            NewInf[d, t] = NewInf[d, t]+1\n",
    "        TotInf = np.cumsum(NewInf, axis=1)\n",
    "\n",
    "    return NewInf, TotInf"
   ]
  },
  {
   "cell_type": "code",
   "execution_count": 3,
   "id": "f2d39425",
   "metadata": {},
   "outputs": [],
   "source": [
    "WN = np.loadtxt('W_avg.csv')\n",
    "pop = np.loadtxt('pop_new.csv')"
   ]
  },
  {
   "cell_type": "code",
   "execution_count": 4,
   "id": "e52fb345",
   "metadata": {},
   "outputs": [],
   "source": [
    "num_fips = len(pop)\n",
    "T = 60\n",
    "# num_ens = 100 ##300 ###500 intially when R0 gets larger, we need fewer ensemble members, std is smaller\n",
    "\n",
    "# pathogen characteristics\n",
    "Z = 3  # latent period\n",
    "Zb = 1  # scale parameter for Z\n",
    "D = 5  # infectious period\n",
    "Db = 1  # scale parameter for b"
   ]
  },
  {
   "cell_type": "code",
   "execution_count": 7,
   "id": "34c6ae6b",
   "metadata": {},
   "outputs": [],
   "source": [
    "xx = list(range(500))\n",
    "xx.reverse()\n",
    "r = 0.025\n",
    "R0 = 2.5\n",
    "p = r/(R0+r)\n",
    "X_cutoff = np.zeros_like(pop)\n",
    "for loc in range(num_fips):\n",
    "    pop_i = pop[loc]\n",
    "#     print(pop_i)\n",
    "    for x_guess in xx:\n",
    "        prob_x = SSA.nbinom.pmf(x_guess, r, p)\n",
    "        offspring = prob_x * pop_i\n",
    "        if offspring > 1:\n",
    "            X_cutoff[loc] = x_guess\n",
    "            break\n",
    "        else:\n",
    "            continue"
   ]
  },
  {
   "cell_type": "code",
   "execution_count": null,
   "id": "48bcb94d",
   "metadata": {},
   "outputs": [],
   "source": [
    "l0 = 1859-1  # start with New York County NY in python -1, in matlab is 1859\n",
    "i0 = 100  # the starting t=0, in matlab it is 1\n",
    "\n",
    "E_NewInf = np.zeros((num_fips, T))\n",
    "E_TotInf = np.zeros((num_fips, T))\n",
    "\n",
    "ss = np.random.SeedSequence(es_idx)\n",
    "E_NewInf_i, E_TotInf_i = superspreading_T_Loc_cutoff(T, num_fips, (l0, i0), (r, p), pop, (Z, Zb, D, Db), WN, ss)"
   ]
  }
 ],
 "metadata": {
  "kernelspec": {
   "display_name": "gnn",
   "language": "python",
   "name": "gnn"
  },
  "language_info": {
   "codemirror_mode": {
    "name": "ipython",
    "version": 3
   },
   "file_extension": ".py",
   "mimetype": "text/x-python",
   "name": "python",
   "nbconvert_exporter": "python",
   "pygments_lexer": "ipython3",
   "version": "3.11.4"
  }
 },
 "nbformat": 4,
 "nbformat_minor": 5
}
