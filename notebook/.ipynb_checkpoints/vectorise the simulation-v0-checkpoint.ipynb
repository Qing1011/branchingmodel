{
 "cells": [
  {
   "cell_type": "code",
   "execution_count": 172,
   "id": "76c15771",
   "metadata": {},
   "outputs": [],
   "source": [
    "import torch\n",
    "from torch_geometric.data import Data\n",
    "import numpy as np\n",
    "import networkx as nx"
   ]
  },
  {
   "cell_type": "code",
   "execution_count": 173,
   "id": "e4d19a7d",
   "metadata": {},
   "outputs": [],
   "source": [
    "A = np.array([[0.25 , 0.25, 0.4, 0.1 ],\n",
    "        [0.25, 0.75 , 0. , 0. ],\n",
    "        [0.4, 0. , 0.55 , 0.05],\n",
    "        [0.1 , 0 , 0.05, 0.85 ]])"
   ]
  },
  {
   "cell_type": "code",
   "execution_count": 174,
   "id": "fc955a0d",
   "metadata": {},
   "outputs": [],
   "source": [
    "adjacency_matrix = torch.tensor(A)\n",
    "\n",
    "# Get the indices where the adjacency matrix has a non-zero value\n",
    "edge_index = torch.nonzero(adjacency_matrix, as_tuple=False).t()\n",
    "\n",
    "# If your adjacency matrix has edge weights, you can get them like this:\n",
    "edge_weight = adjacency_matrix[edge_index[0], edge_index[1]]"
   ]
  },
  {
   "cell_type": "code",
   "execution_count": 71,
   "id": "bfc44ad6",
   "metadata": {},
   "outputs": [],
   "source": [
    "x = torch.tensor([[-1], [0], [1],[2]], dtype=torch.float)"
   ]
  },
  {
   "cell_type": "code",
   "execution_count": 73,
   "id": "12bc73af",
   "metadata": {},
   "outputs": [],
   "source": [
    "class WeightedDynamicsSimulator(MessagePassing):\n",
    "    def __init__(self):\n",
    "        super(WeightedDynamicsSimulator, self).__init__(aggr='add')\n",
    "\n",
    "    def forward(self, x, edge_index, edge_attr):\n",
    "        return self.propagate(edge_index, size=(x.size(0), x.size(0)), x=x, edge_attr=edge_attr)\n",
    "\n",
    "    def message(self, x_j, edge_index, edge_attr):\n",
    "        # Multiply the messages by the edge weights.\n",
    "        return x_j * edge_attr.view(-1, 1)\n",
    "\n",
    "    def update(self, aggr_out):\n",
    "        return aggr_out\n",
    "\n",
    "def simulate_dynamics(data, num_steps):\n",
    "    simulator = WeightedDynamicsSimulator()\n",
    "\n",
    "#     edge_index, _ = add_self_loops(data.edge_index, num_nodes=data.num_nodes)\n",
    "\n",
    "    x = data.x\n",
    "    for _ in range(num_steps):\n",
    "        x = simulator(x, edge_index, data.edge_attr)\n",
    "\n",
    "    return x"
   ]
  },
  {
   "cell_type": "code",
   "execution_count": 160,
   "id": "d54ae747",
   "metadata": {},
   "outputs": [],
   "source": [
    "xx = np.zeros((4,62))\n",
    "xx[:,1] = 100\n",
    "xx[2,0] = 10\n",
    "xx[2,2] = 10"
   ]
  },
  {
   "cell_type": "code",
   "execution_count": 161,
   "id": "ef2d3af1",
   "metadata": {},
   "outputs": [],
   "source": [
    "xx = torch.tensor(xx,dtype=torch.float)"
   ]
  },
  {
   "cell_type": "code",
   "execution_count": 157,
   "id": "9ebf22b9",
   "metadata": {},
   "outputs": [],
   "source": [
    "data = Data(x=xx, edge_index=edge_index, edge_attr=edge_weight)"
   ]
  },
  {
   "cell_type": "code",
   "execution_count": 169,
   "id": "9214210a",
   "metadata": {},
   "outputs": [],
   "source": [
    "class EpidemicSimulator(MessagePassing):\n",
    "    def __init__(self):\n",
    "        super(EpidemicSimulator, self).__init__(aggr='add')  \n",
    "\n",
    "#     def forward(self, x, edge_index, edge_attr):\n",
    "#         return self.propagate(edge_index, size=(x.size(0), x.size(0)), x=x, edge_attr=edge_attr)\n",
    "    \n",
    "    def forward(self, x, edge_index, edge_attr):\n",
    "        return self.propagate(edge_index, size=(x.size(0), x.size(0)), x=x, edge_attr=edge_attr, extra_kwargs={'x': x})\n",
    "\n",
    "\n",
    "#     def message(self, x_j, edge_index, edge_attr):\n",
    "#         # x_j has shape [E, num_features]\n",
    "#         # edge_attr has shape [E, num_edge_features]\n",
    "\n",
    "#         # Get the population and new infections from x_j.\n",
    "#         population = x_j[:, 1:2]  # Shape: [E, 1]\n",
    "#         new_infector = x_j[:, 0:1]  # Shape: [E, 1]\n",
    "#         ## total infected \n",
    "#         tot_infected = np.sum(x_j[:, 2:])\n",
    "#         # Compute the rate.\n",
    "#         rate = 1 - tot_infected/population\n",
    "#         rate[rate<0] = 0\n",
    "#         # new infections \n",
    "# #         new_gen = np.random.negative_binomial(r,p,new_infector)\n",
    "        \n",
    "#         # Compute the messages.\n",
    "#         messages = new_infections * edge_attr.view(-1, 1)\n",
    "\n",
    "#         return messages\n",
    "    \n",
    "    def message(self, x_j, edge_index, edge_attr):\n",
    "        # x_j has shape [E, num_features]\n",
    "        # edge_attr has shape [E, num_edge_features]\n",
    "\n",
    "        # Get the new infections from x_j.\n",
    "        new_infections = x_j[:, 0:1]  # Shape: [E, 1]\n",
    "\n",
    "        # Compute the messages.\n",
    "        messages = new_infections * edge_attr.view(-1, 1)\n",
    "\n",
    "        return messages\n",
    "\n",
    "    def update(self, aggr_out, x):\n",
    "        # aggr_out has shape [N, 1], it contains the updated infections\n",
    "        # x has shape [N, num_features], it is the original node features\n",
    "\n",
    "        # The new infections are the aggregated messages.\n",
    "        new_infections = aggr_out\n",
    "\n",
    "        # The population is the second column of the original node features.\n",
    "        population = x[:, 1:2]\n",
    "        \n",
    "        total_infection = torch.sum(x[:, 2:], dim=1,keepdim=True)\n",
    "\n",
    "        # Compute the rate.\n",
    "        rate = (population - total_infection) / population\n",
    "\n",
    "        # Multiply the new infections by the rate.\n",
    "        new_infections = rate * new_infections\n",
    "\n",
    "        # The rest of the features remain the same.\n",
    "        other_features = x[:, 2:]\n",
    "\n",
    "        # Concatenate the new infections, the population, and the other features to get the new node features.\n",
    "        x_new = torch.cat([new_infections, population, other_features], dim=1)\n",
    "\n",
    "        return x_new"
   ]
  },
  {
   "cell_type": "code",
   "execution_count": 150,
   "id": "df9dced6",
   "metadata": {},
   "outputs": [],
   "source": [
    "def simulate_dynamics(data, num_steps):\n",
    "    simulator = EpidemicSimulator()\n",
    "\n",
    "#     edge_index, _ = add_self_loops(data.edge_index, num_nodes=data.num_nodes)\n",
    "\n",
    "    x = data.x\n",
    "    for _ in range(num_steps):\n",
    "        x = simulator(x, edge_index, data.edge_attr)\n",
    "\n",
    "    return x"
   ]
  },
  {
   "cell_type": "code",
   "execution_count": 170,
   "id": "1a1de95e",
   "metadata": {},
   "outputs": [],
   "source": [
    "test = simulate_dynamics(data,1)"
   ]
  },
  {
   "cell_type": "code",
   "execution_count": 171,
   "id": "37d01de4",
   "metadata": {},
   "outputs": [
    {
     "data": {
      "text/plain": [
       "tensor([[  4.0000, 100.0000,   0.0000,   0.0000,   0.0000,   0.0000,   0.0000,\n",
       "           0.0000,   0.0000,   0.0000,   0.0000,   0.0000,   0.0000,   0.0000,\n",
       "           0.0000,   0.0000,   0.0000,   0.0000,   0.0000,   0.0000,   0.0000,\n",
       "           0.0000,   0.0000,   0.0000,   0.0000,   0.0000,   0.0000,   0.0000,\n",
       "           0.0000,   0.0000,   0.0000,   0.0000,   0.0000,   0.0000,   0.0000,\n",
       "           0.0000,   0.0000,   0.0000,   0.0000,   0.0000,   0.0000,   0.0000,\n",
       "           0.0000,   0.0000,   0.0000,   0.0000,   0.0000,   0.0000,   0.0000,\n",
       "           0.0000,   0.0000,   0.0000,   0.0000,   0.0000,   0.0000,   0.0000,\n",
       "           0.0000,   0.0000,   0.0000,   0.0000,   0.0000,   0.0000],\n",
       "        [  0.0000, 100.0000,   0.0000,   0.0000,   0.0000,   0.0000,   0.0000,\n",
       "           0.0000,   0.0000,   0.0000,   0.0000,   0.0000,   0.0000,   0.0000,\n",
       "           0.0000,   0.0000,   0.0000,   0.0000,   0.0000,   0.0000,   0.0000,\n",
       "           0.0000,   0.0000,   0.0000,   0.0000,   0.0000,   0.0000,   0.0000,\n",
       "           0.0000,   0.0000,   0.0000,   0.0000,   0.0000,   0.0000,   0.0000,\n",
       "           0.0000,   0.0000,   0.0000,   0.0000,   0.0000,   0.0000,   0.0000,\n",
       "           0.0000,   0.0000,   0.0000,   0.0000,   0.0000,   0.0000,   0.0000,\n",
       "           0.0000,   0.0000,   0.0000,   0.0000,   0.0000,   0.0000,   0.0000,\n",
       "           0.0000,   0.0000,   0.0000,   0.0000,   0.0000,   0.0000],\n",
       "        [  4.9500, 100.0000,  10.0000,   0.0000,   0.0000,   0.0000,   0.0000,\n",
       "           0.0000,   0.0000,   0.0000,   0.0000,   0.0000,   0.0000,   0.0000,\n",
       "           0.0000,   0.0000,   0.0000,   0.0000,   0.0000,   0.0000,   0.0000,\n",
       "           0.0000,   0.0000,   0.0000,   0.0000,   0.0000,   0.0000,   0.0000,\n",
       "           0.0000,   0.0000,   0.0000,   0.0000,   0.0000,   0.0000,   0.0000,\n",
       "           0.0000,   0.0000,   0.0000,   0.0000,   0.0000,   0.0000,   0.0000,\n",
       "           0.0000,   0.0000,   0.0000,   0.0000,   0.0000,   0.0000,   0.0000,\n",
       "           0.0000,   0.0000,   0.0000,   0.0000,   0.0000,   0.0000,   0.0000,\n",
       "           0.0000,   0.0000,   0.0000,   0.0000,   0.0000,   0.0000],\n",
       "        [  0.5000, 100.0000,   0.0000,   0.0000,   0.0000,   0.0000,   0.0000,\n",
       "           0.0000,   0.0000,   0.0000,   0.0000,   0.0000,   0.0000,   0.0000,\n",
       "           0.0000,   0.0000,   0.0000,   0.0000,   0.0000,   0.0000,   0.0000,\n",
       "           0.0000,   0.0000,   0.0000,   0.0000,   0.0000,   0.0000,   0.0000,\n",
       "           0.0000,   0.0000,   0.0000,   0.0000,   0.0000,   0.0000,   0.0000,\n",
       "           0.0000,   0.0000,   0.0000,   0.0000,   0.0000,   0.0000,   0.0000,\n",
       "           0.0000,   0.0000,   0.0000,   0.0000,   0.0000,   0.0000,   0.0000,\n",
       "           0.0000,   0.0000,   0.0000,   0.0000,   0.0000,   0.0000,   0.0000,\n",
       "           0.0000,   0.0000,   0.0000,   0.0000,   0.0000,   0.0000]],\n",
       "       dtype=torch.float64)"
      ]
     },
     "execution_count": 171,
     "metadata": {},
     "output_type": "execute_result"
    }
   ],
   "source": [
    "test"
   ]
  },
  {
   "cell_type": "code",
   "execution_count": 103,
   "id": "431c2109",
   "metadata": {},
   "outputs": [],
   "source": [
    "x = np.random.negative_binomial(0.1,0.5,(4,0,6,1))"
   ]
  },
  {
   "cell_type": "code",
   "execution_count": 104,
   "id": "7d9f4fa2",
   "metadata": {},
   "outputs": [
    {
     "data": {
      "text/plain": [
       "array([], shape=(4, 0, 6, 1), dtype=int64)"
      ]
     },
     "execution_count": 104,
     "metadata": {},
     "output_type": "execute_result"
    }
   ],
   "source": [
    "x"
   ]
  },
  {
   "cell_type": "code",
   "execution_count": null,
   "id": "22b11b49",
   "metadata": {},
   "outputs": [],
   "source": []
  }
 ],
 "metadata": {
  "kernelspec": {
   "display_name": "gnn",
   "language": "python",
   "name": "gnn"
  },
  "language_info": {
   "codemirror_mode": {
    "name": "ipython",
    "version": 3
   },
   "file_extension": ".py",
   "mimetype": "text/x-python",
   "name": "python",
   "nbconvert_exporter": "python",
   "pygments_lexer": "ipython3",
   "version": "3.11.4"
  }
 },
 "nbformat": 4,
 "nbformat_minor": 5
}
