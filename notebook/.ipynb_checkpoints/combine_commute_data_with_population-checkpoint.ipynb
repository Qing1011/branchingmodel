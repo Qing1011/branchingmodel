{
 "cells": [
  {
   "cell_type": "code",
   "execution_count": 1,
   "id": "b859b012",
   "metadata": {},
   "outputs": [],
   "source": [
    "import numpy as np\n",
    "import matplotlib.pyplot as plt\n",
    "from scipy.io import loadmat, savemat\n",
    "import pandas as pd"
   ]
  },
  {
   "cell_type": "code",
   "execution_count": 2,
   "id": "adaed280",
   "metadata": {},
   "outputs": [],
   "source": [
    "M_all = np.loadtxt('M_all_asymmetric.csv')"
   ]
  },
  {
   "cell_type": "code",
   "execution_count": 9,
   "id": "27f72d4f",
   "metadata": {},
   "outputs": [],
   "source": [
    "pop_usa = loadmat('../data/countypop_usafact.mat') ### assume the pop is corresponding to the fips "
   ]
  },
  {
   "cell_type": "code",
   "execution_count": 15,
   "id": "201537c5",
   "metadata": {},
   "outputs": [
    {
     "data": {
      "text/plain": [
       "3142"
      ]
     },
     "execution_count": 15,
     "metadata": {},
     "output_type": "execute_result"
    }
   ],
   "source": [
    "len(pop_usa['countypop'])"
   ]
  },
  {
   "cell_type": "code",
   "execution_count": 36,
   "id": "2aa47702",
   "metadata": {},
   "outputs": [],
   "source": [
    "pop = pop_usa['countypop'].ravel()"
   ]
  },
  {
   "cell_type": "code",
   "execution_count": 20,
   "id": "7fcf5574",
   "metadata": {},
   "outputs": [],
   "source": [
    "fips = loadmat('../data/countyfips_num.mat')\n",
    "fips_num = fips['countyfips_num'].ravel() \n",
    "fips_id = [int(i) for i in range(len(fips_num))]\n",
    "# fips_dict = dict(zip(fips_num,fips_id))\n",
    "df_fips = pd.DataFrame({'fips_num': fips_num, 'fips_id': fips_id, 'pop': pop_usa['countypop'].ravel()})"
   ]
  },
  {
   "cell_type": "code",
   "execution_count": 38,
   "id": "dd7de65e",
   "metadata": {},
   "outputs": [],
   "source": [
    "no_fips = len(M_all)\n",
    "C = np.zeros((no_fips,no_fips))\n",
    "Cave = np.zeros((no_fips,no_fips))"
   ]
  },
  {
   "cell_type": "code",
   "execution_count": 39,
   "id": "8b9a54fb",
   "metadata": {},
   "outputs": [],
   "source": [
    "for i in range(no_fips):\n",
    "    pop_i = pop[i]\n",
    "    travel_in = np.sum(M_all[i])\n",
    "    within = M_all[i,i]\n",
    "    travel_out = np.sum(M_all[:,i])\n",
    "    if  pop_i - travel_out + within > within:\n",
    "        C[i,i] = pop_i - travel_out + within\n",
    "        Cave[i,i] = pop_i - travel_out + within"
   ]
  },
  {
   "cell_type": "code",
   "execution_count": 29,
   "id": "89483518",
   "metadata": {},
   "outputs": [],
   "source": [
    "test = np.array([[1,2],[3,4]])"
   ]
  },
  {
   "cell_type": "code",
   "execution_count": 33,
   "id": "12c893d1",
   "metadata": {},
   "outputs": [
    {
     "data": {
      "text/plain": [
       "array([[1, 2],\n",
       "       [3, 4]])"
      ]
     },
     "execution_count": 33,
     "metadata": {},
     "output_type": "execute_result"
    }
   ],
   "source": [
    "test"
   ]
  },
  {
   "cell_type": "code",
   "execution_count": null,
   "id": "f66bcfda",
   "metadata": {},
   "outputs": [],
   "source": []
  }
 ],
 "metadata": {
  "kernelspec": {
   "display_name": "Python 3 (ipykernel)",
   "language": "python",
   "name": "python3"
  },
  "language_info": {
   "codemirror_mode": {
    "name": "ipython",
    "version": 3
   },
   "file_extension": ".py",
   "mimetype": "text/x-python",
   "name": "python",
   "nbconvert_exporter": "python",
   "pygments_lexer": "ipython3",
   "version": "3.9.7"
  }
 },
 "nbformat": 4,
 "nbformat_minor": 5
}
