{
 "cells": [
  {
   "cell_type": "code",
   "execution_count": 2,
   "id": "e059e4e5",
   "metadata": {},
   "outputs": [],
   "source": [
    "# Generate PBS script\n",
    "def generate_pbs_script(param, filename):\n",
    "    script = f\"\"\"\\\n",
    "#PBS -l walltime=70:00:00\n",
    "#PBS -l select=1:ncpus=1:mem=1gb\n",
    "#PBS -J 1-300\n",
    "\n",
    "module load anaconda3/personal\n",
    "source activate motifenv\n",
    "\n",
    "cd $HOME/branching/\n",
    "python3 branching_cluster_ic_v2.py {param} $PBS_ARRAY_INDEX –o output.txt\n",
    "\"\"\"\n",
    "    with open(filename, 'w') as f:\n",
    "        f.write(script)\n",
    "\n",
    "# Define parameters\n",
    "parameters = range(0, 90)  # Replace this with the range of parameters you want\n",
    "\n",
    "# Generate scripts\n",
    "for param in parameters:\n",
    "    filename = f\"branching_{param}.pbs\"  # Name the file related to the parameter\n",
    "    generate_pbs_script(param, filename)"
   ]
  },
  {
   "cell_type": "code",
   "execution_count": 4,
   "id": "f5c9f02b",
   "metadata": {},
   "outputs": [],
   "source": [
    "import numpy as np"
   ]
  },
  {
   "cell_type": "code",
   "execution_count": 5,
   "id": "bbb2ad44",
   "metadata": {},
   "outputs": [],
   "source": [
    "para_dict = np.load('para_dict.npy',allow_pickle=True)\n",
    "    ## set parameters\n",
    "para_i = para_dict[0]\n",
    "R0 = para_i['R0']\n",
    "r = para_i['r']"
   ]
  },
  {
   "cell_type": "code",
   "execution_count": 9,
   "id": "7c4ca6cd",
   "metadata": {},
   "outputs": [],
   "source": [
    "R0s = np.arange(1.5, 6.5, 0.1)"
   ]
  },
  {
   "cell_type": "code",
   "execution_count": 10,
   "id": "f855cfdc",
   "metadata": {},
   "outputs": [
    {
     "data": {
      "text/plain": [
       "array([1.5, 1.6, 1.7, 1.8, 1.9, 2. , 2.1, 2.2, 2.3, 2.4, 2.5, 2.6, 2.7,\n",
       "       2.8, 2.9, 3. , 3.1, 3.2, 3.3, 3.4, 3.5, 3.6, 3.7, 3.8, 3.9, 4. ,\n",
       "       4.1, 4.2, 4.3, 4.4, 4.5, 4.6, 4.7, 4.8, 4.9, 5. , 5.1, 5.2, 5.3,\n",
       "       5.4, 5.5, 5.6, 5.7, 5.8, 5.9, 6. , 6.1, 6.2, 6.3, 6.4])"
      ]
     },
     "execution_count": 10,
     "metadata": {},
     "output_type": "execute_result"
    }
   ],
   "source": [
    "R0s    "
   ]
  },
  {
   "cell_type": "code",
   "execution_count": null,
   "id": "7275cb2e",
   "metadata": {},
   "outputs": [],
   "source": [
    "for j in 1.5, 1.6, 1.7, 1.8, 1.9, 2. , 2.1, 2.2, 2.3, 2.4, 2.5, 2.6, 2.7, 2.8, 2.9, 3.0, 3.1, 3.2, 3.3, 3.4, 3.5, 3.6, 3.7, 3.8, 3.9, 4.0 ,4.1, 4.2, 4.3, 4.4, 4.5, 4.6, 4.7, 4.8, 4.9, 5.0, 5.1, 5.2, 5.3, 5.4, 5.5, 5.6, 5.7, 5.8, 5.9, 6.0, 6.1, 6.2, 6.3, 6.4;\n",
    "    for i in 20.0 10.0 2.0 1.0 0.5 0.2 0.1 0.05 0.025; do mkdir \"branching_R0-$j_r-$i\"; done"
   ]
  }
 ],
 "metadata": {
  "kernelspec": {
   "display_name": "geo",
   "language": "python",
   "name": "geo"
  },
  "language_info": {
   "codemirror_mode": {
    "name": "ipython",
    "version": 3
   },
   "file_extension": ".py",
   "mimetype": "text/x-python",
   "name": "python",
   "nbconvert_exporter": "python",
   "pygments_lexer": "ipython3",
   "version": "3.11.3"
  }
 },
 "nbformat": 4,
 "nbformat_minor": 5
}
