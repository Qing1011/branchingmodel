{
 "cells": [
  {
   "cell_type": "code",
   "execution_count": 43,
   "id": "e0de1fa7",
   "metadata": {},
   "outputs": [],
   "source": [
    "import numpy as np\n",
    "import matplotlib.pyplot as plt\n",
    "from scipy.io import loadmat, savemat\n",
    "import pandas as pd\n",
    "from scipy.special import gamma, factorial\n",
    "import copy"
   ]
  },
  {
   "cell_type": "code",
   "execution_count": null,
   "id": "d1c4fabb",
   "metadata": {},
   "outputs": [],
   "source": [
    "## the model input neighbour list, idx, probability, time, the previous infections, parameters, population size \n",
    "## the model output for kth ensemble, the county everytime\n",
    "## it iterates every time\n",
    "NewInf(:,:,k)=branching(nl,part,w,t,NewInf(:,:,k),para(:,k),population);"
   ]
  },
  {
   "cell_type": "code",
   "execution_count": 44,
   "id": "e06d97cd",
   "metadata": {},
   "outputs": [],
   "source": [
    "WN = np.loadtxt('W_avg.csv')\n",
    "Cave = np.loadtxt('Cave.csv')\n",
    "pop = np.loadtxt('pop_new.csv')"
   ]
  },
  {
   "cell_type": "code",
   "execution_count": 45,
   "id": "6e226114",
   "metadata": {},
   "outputs": [],
   "source": [
    "num_fips = len(pop)\n",
    "T = 60\n",
    "num_ens = 300"
   ]
  },
  {
   "cell_type": "code",
   "execution_count": 46,
   "id": "069ffa1c",
   "metadata": {},
   "outputs": [],
   "source": [
    "NewInf = np.zeros((num_fips,T,num_ens))\n",
    "Obs = np.zeros((num_fips,T,num_ens))\n",
    "# seeding\n",
    "l0 = 1859-1 # start with New York County NY in python -1, in matlab is 1895\n",
    "NewInf[l0,0,:] = 100 ## the starting t=0, in matlab it is 1\n",
    "TotaInf = copy.deepcopy(NewInf)"
   ]
  },
  {
   "cell_type": "code",
   "execution_count": 33,
   "id": "4b170da1",
   "metadata": {},
   "outputs": [],
   "source": [
    "x_cutoff = 100\n",
    "r = 0.1 ## parameters (in the paper of Lloyd smith is the k)\n",
    "R0 = 2.5  ## the model input\n",
    "\n",
    "p = r/(R0+r)\n",
    "\n",
    "weights = np.zeros(x_cutoff)\n",
    "for i in range(x_cutoff):\n",
    "    temp1=gamma(r+i)/gamma(r)/gamma((i+1))*np.power(p,r)*np.power((1-p),i)\n",
    "    weights[i] = temp1"
   ]
  },
  {
   "cell_type": "code",
   "execution_count": 35,
   "id": "7edb4931",
   "metadata": {},
   "outputs": [],
   "source": [
    "test1 = np.array([1,2,3])\n",
    "test2 = np.array([1,2,3])"
   ]
  },
  {
   "cell_type": "code",
   "execution_count": 37,
   "id": "98243e26",
   "metadata": {},
   "outputs": [
    {
     "name": "stdout",
     "output_type": "stream",
     "text": [
      "it covers 99.94793690833258 % of the values\n",
      "5.206309166742029e-06 compare with the last prob 2.4979978105066747e-05\n"
     ]
    }
   ],
   "source": [
    "print('it covers', np.sum(weights)*100,'% of the values') ## to generate the sample, the sum up probe should be 1\n",
    "## we can assign/compare the rest of prob to each one\n",
    "prob_res = (1- np.sum(weights))/x_cutoff\n",
    "print (prob_res, 'compare with the last prob', weights[-1])\n",
    "## normalise the weights to 1\n",
    "weights_n = weights/np.sum(weights)"
   ]
  },
  {
   "cell_type": "code",
   "execution_count": null,
   "id": "9dc963e0",
   "metadata": {},
   "outputs": [],
   "source": [
    "### for each time step and each location\n",
    "loc = 0"
   ]
  },
  {
   "cell_type": "code",
   "execution_count": 42,
   "id": "70065549",
   "metadata": {},
   "outputs": [],
   "source": [
    "### the number of possible new infections the size = 100 can infect individually from the NB \n",
    "Z_all = np.random.choice(len(weights_n), size=100, p=weights_n) ## this is a vector\n",
    "### however, the populations have immunited people, the number will decrease i did not agree with this part \n",
    "## as the infection happens inside the location of the infectious people, for immunity is the pop of the \n",
    "Z_immunity = np.round(Z_all*(1-totalinfection[loc]/pop[loc]));"
   ]
  },
  {
   "cell_type": "code",
   "execution_count": 41,
   "id": "232cc755",
   "metadata": {},
   "outputs": [
    {
     "data": {
      "text/plain": [
       "array([ 0,  1,  0,  0,  0,  3,  0,  0,  0,  0,  8,  0,  0,  0,  0,  0,  0,\n",
       "       18,  1,  1,  0,  0,  0,  0,  0,  0, 69,  0,  1,  0,  0, 24,  6,  0,\n",
       "        0,  0,  0,  0, 15,  0,  0,  0,  0,  2,  0,  0, 34,  0,  0,  0,  3,\n",
       "        6,  3,  0,  0,  0,  0,  0, 10,  2,  0,  1,  4,  0,  0,  0,  0, 20,\n",
       "        0,  0, 15,  0, 17,  3,  0,  0,  1,  0,  0,  0,  0,  0,  0,  3,  3,\n",
       "        0,  0,  0,  0,  0,  0,  0,  4,  0, 10,  0,  0,  0,  1,  0])"
      ]
     },
     "execution_count": 41,
     "metadata": {},
     "output_type": "execute_result"
    }
   ],
   "source": []
  },
  {
   "cell_type": "code",
   "execution_count": null,
   "id": "1988a7ca",
   "metadata": {},
   "outputs": [],
   "source": []
  }
 ],
 "metadata": {
  "kernelspec": {
   "display_name": "Python 3 (ipykernel)",
   "language": "python",
   "name": "python3"
  },
  "language_info": {
   "codemirror_mode": {
    "name": "ipython",
    "version": 3
   },
   "file_extension": ".py",
   "mimetype": "text/x-python",
   "name": "python",
   "nbconvert_exporter": "python",
   "pygments_lexer": "ipython3",
   "version": "3.9.7"
  }
 },
 "nbformat": 4,
 "nbformat_minor": 5
}
