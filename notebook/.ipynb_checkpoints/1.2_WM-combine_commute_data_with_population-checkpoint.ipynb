{
 "cells": [
  {
   "cell_type": "code",
   "execution_count": 1,
   "id": "b859b012",
   "metadata": {},
   "outputs": [],
   "source": [
    "import numpy as np\n",
    "import matplotlib.pyplot as plt\n",
    "from scipy.io import loadmat, savemat\n",
    "import pandas as pd\n",
    "import copy"
   ]
  },
  {
   "cell_type": "code",
   "execution_count": 2,
   "id": "adaed280",
   "metadata": {},
   "outputs": [],
   "source": [
    "M_all0 = np.loadtxt('M_all_asymmetric.csv')"
   ]
  },
  {
   "cell_type": "code",
   "execution_count": 3,
   "id": "27f72d4f",
   "metadata": {},
   "outputs": [],
   "source": [
    "pop_usa = loadmat('../data/countypop_usafact.mat') ### assume the pop is corresponding to the fips "
   ]
  },
  {
   "cell_type": "code",
   "execution_count": 13,
   "id": "201537c5",
   "metadata": {},
   "outputs": [
    {
     "data": {
      "text/plain": [
       "3142"
      ]
     },
     "execution_count": 13,
     "metadata": {},
     "output_type": "execute_result"
    }
   ],
   "source": [
    "len(pop_usa['countypop'])"
   ]
  },
  {
   "cell_type": "code",
   "execution_count": 4,
   "id": "28ef209d",
   "metadata": {},
   "outputs": [
    {
     "data": {
      "text/plain": [
       "array([[ 55869],\n",
       "       [223234],\n",
       "       [ 24686],\n",
       "       ...,\n",
       "       [ 20226],\n",
       "       [  7805],\n",
       "       [  6927]], dtype=int32)"
      ]
     },
     "execution_count": 4,
     "metadata": {},
     "output_type": "execute_result"
    }
   ],
   "source": [
    "pop_usa['countypop']"
   ]
  },
  {
   "cell_type": "code",
   "execution_count": 6,
   "id": "2aa47702",
   "metadata": {},
   "outputs": [],
   "source": [
    "pop = pop_usa['countypop'].ravel()"
   ]
  },
  {
   "cell_type": "code",
   "execution_count": 17,
   "id": "dc713eac",
   "metadata": {},
   "outputs": [
    {
     "data": {
      "text/plain": [
       "(array([8.06211181e-06, 8.33792924e-07, 3.36053422e-07, 1.64856396e-07,\n",
       "        1.23642297e-07, 9.19391437e-08, 4.75547295e-08, 5.07250448e-08,\n",
       "        5.70656754e-08, 5.07250448e-08, 1.26812612e-08, 1.58515765e-08,\n",
       "        1.58515765e-08, 9.51094590e-09, 1.26812612e-08, 6.34063060e-09,\n",
       "        9.51094590e-09, 3.17031530e-09, 0.00000000e+00, 9.51094590e-09,\n",
       "        3.17031530e-09, 3.17031530e-09, 9.51094590e-09, 0.00000000e+00,\n",
       "        3.17031530e-09, 3.17031530e-09, 3.17031530e-09, 3.17031530e-09,\n",
       "        0.00000000e+00, 0.00000000e+00, 0.00000000e+00, 3.17031530e-09,\n",
       "        0.00000000e+00, 3.17031530e-09, 0.00000000e+00, 0.00000000e+00,\n",
       "        0.00000000e+00, 0.00000000e+00, 0.00000000e+00, 0.00000000e+00,\n",
       "        0.00000000e+00, 0.00000000e+00, 0.00000000e+00, 0.00000000e+00,\n",
       "        3.17031530e-09, 0.00000000e+00, 3.17031530e-09, 0.00000000e+00,\n",
       "        0.00000000e+00, 0.00000000e+00, 0.00000000e+00, 3.17031530e-09,\n",
       "        0.00000000e+00, 0.00000000e+00, 0.00000000e+00, 0.00000000e+00,\n",
       "        0.00000000e+00, 0.00000000e+00, 0.00000000e+00, 0.00000000e+00,\n",
       "        0.00000000e+00, 0.00000000e+00, 0.00000000e+00, 0.00000000e+00,\n",
       "        0.00000000e+00, 0.00000000e+00, 0.00000000e+00, 0.00000000e+00,\n",
       "        0.00000000e+00, 0.00000000e+00, 0.00000000e+00, 0.00000000e+00,\n",
       "        0.00000000e+00, 0.00000000e+00, 0.00000000e+00, 0.00000000e+00,\n",
       "        0.00000000e+00, 0.00000000e+00, 0.00000000e+00, 0.00000000e+00,\n",
       "        0.00000000e+00, 0.00000000e+00, 0.00000000e+00, 0.00000000e+00,\n",
       "        0.00000000e+00, 0.00000000e+00, 0.00000000e+00, 0.00000000e+00,\n",
       "        0.00000000e+00, 0.00000000e+00, 0.00000000e+00, 0.00000000e+00,\n",
       "        0.00000000e+00, 0.00000000e+00, 0.00000000e+00, 0.00000000e+00,\n",
       "        0.00000000e+00, 0.00000000e+00, 0.00000000e+00, 3.17031530e-09]),\n",
       " array([8.60000000e+01, 1.00476210e+05, 2.00866420e+05, 3.01256630e+05,\n",
       "        4.01646840e+05, 5.02037050e+05, 6.02427260e+05, 7.02817470e+05,\n",
       "        8.03207680e+05, 9.03597890e+05, 1.00398810e+06, 1.10437831e+06,\n",
       "        1.20476852e+06, 1.30515873e+06, 1.40554894e+06, 1.50593915e+06,\n",
       "        1.60632936e+06, 1.70671957e+06, 1.80710978e+06, 1.90749999e+06,\n",
       "        2.00789020e+06, 2.10828041e+06, 2.20867062e+06, 2.30906083e+06,\n",
       "        2.40945104e+06, 2.50984125e+06, 2.61023146e+06, 2.71062167e+06,\n",
       "        2.81101188e+06, 2.91140209e+06, 3.01179230e+06, 3.11218251e+06,\n",
       "        3.21257272e+06, 3.31296293e+06, 3.41335314e+06, 3.51374335e+06,\n",
       "        3.61413356e+06, 3.71452377e+06, 3.81491398e+06, 3.91530419e+06,\n",
       "        4.01569440e+06, 4.11608461e+06, 4.21647482e+06, 4.31686503e+06,\n",
       "        4.41725524e+06, 4.51764545e+06, 4.61803566e+06, 4.71842587e+06,\n",
       "        4.81881608e+06, 4.91920629e+06, 5.01959650e+06, 5.11998671e+06,\n",
       "        5.22037692e+06, 5.32076713e+06, 5.42115734e+06, 5.52154755e+06,\n",
       "        5.62193776e+06, 5.72232797e+06, 5.82271818e+06, 5.92310839e+06,\n",
       "        6.02349860e+06, 6.12388881e+06, 6.22427902e+06, 6.32466923e+06,\n",
       "        6.42505944e+06, 6.52544965e+06, 6.62583986e+06, 6.72623007e+06,\n",
       "        6.82662028e+06, 6.92701049e+06, 7.02740070e+06, 7.12779091e+06,\n",
       "        7.22818112e+06, 7.32857133e+06, 7.42896154e+06, 7.52935175e+06,\n",
       "        7.62974196e+06, 7.73013217e+06, 7.83052238e+06, 7.93091259e+06,\n",
       "        8.03130280e+06, 8.13169301e+06, 8.23208322e+06, 8.33247343e+06,\n",
       "        8.43286364e+06, 8.53325385e+06, 8.63364406e+06, 8.73403427e+06,\n",
       "        8.83442448e+06, 8.93481469e+06, 9.03520490e+06, 9.13559511e+06,\n",
       "        9.23598532e+06, 9.33637553e+06, 9.43676574e+06, 9.53715595e+06,\n",
       "        9.63754616e+06, 9.73793637e+06, 9.83832658e+06, 9.93871679e+06,\n",
       "        1.00391070e+07]),\n",
       " <BarContainer object of 100 artists>)"
      ]
     },
     "execution_count": 17,
     "metadata": {},
     "output_type": "execute_result"
    },
    {
     "data": {
      "image/png": "[encoded data removed]",
      "text/plain": [
       "<Figure size 640x480 with 1 Axes>"
      ]
     },
     "metadata": {},
     "output_type": "display_data"
    }
   ],
   "source": [
    "plt.hist(pop,density=True,bins=100)"
   ]
  },
  {
   "cell_type": "code",
   "execution_count": 10,
   "id": "95bc79a3",
   "metadata": {},
   "outputs": [
    {
     "data": {
      "text/plain": [
       "10039107"
      ]
     },
     "execution_count": 10,
     "metadata": {},
     "output_type": "execute_result"
    }
   ],
   "source": [
    "np.max(pop)"
   ]
  },
  {
   "cell_type": "code",
   "execution_count": 11,
   "id": "7fcf5574",
   "metadata": {},
   "outputs": [],
   "source": [
    "fips = loadmat('../data/countyfips_num.mat')\n",
    "fips_num = fips['countyfips_num'].ravel() \n",
    "fips_id = [int(i) for i in range(len(fips_num))]\n",
    "# fips_dict = dict(zip(fips_num,fips_id))\n",
    "df_fips = pd.DataFrame({'fips_num': fips_num, 'fips_id': fips_id, 'pop': pop_usa['countypop'].ravel()})"
   ]
  },
  {
   "cell_type": "code",
   "execution_count": 14,
   "id": "f646b9da",
   "metadata": {},
   "outputs": [
    {
     "data": {
      "text/html": [
       "<div>\n",
       "<style scoped>\n",
       "    .dataframe tbody tr th:only-of-type {\n",
       "        vertical-align: middle;\n",
       "    }\n",
       "\n",
       "    .dataframe tbody tr th {\n",
       "        vertical-align: top;\n",
       "    }\n",
       "\n",
       "    .dataframe thead th {\n",
       "        text-align: right;\n",
       "    }\n",
       "</style>\n",
       "<table border=\"1\" class=\"dataframe\">\n",
       "  <thead>\n",
       "    <tr style=\"text-align: right;\">\n",
       "      <th></th>\n",
       "      <th>fips_num</th>\n",
       "      <th>fips_id</th>\n",
       "      <th>pop</th>\n",
       "    </tr>\n",
       "  </thead>\n",
       "  <tbody>\n",
       "    <tr>\n",
       "      <th>548</th>\n",
       "      <td>15005</td>\n",
       "      <td>548</td>\n",
       "      <td>86</td>\n",
       "    </tr>\n",
       "    <tr>\n",
       "      <th>1632</th>\n",
       "      <td>30069</td>\n",
       "      <td>1632</td>\n",
       "      <td>487</td>\n",
       "    </tr>\n",
       "    <tr>\n",
       "      <th>1656</th>\n",
       "      <td>31005</td>\n",
       "      <td>1656</td>\n",
       "      <td>463</td>\n",
       "    </tr>\n",
       "    <tr>\n",
       "      <th>1658</th>\n",
       "      <td>31009</td>\n",
       "      <td>1658</td>\n",
       "      <td>465</td>\n",
       "    </tr>\n",
       "    <tr>\n",
       "      <th>1712</th>\n",
       "      <td>31117</td>\n",
       "      <td>1712</td>\n",
       "      <td>494</td>\n",
       "    </tr>\n",
       "    <tr>\n",
       "      <th>2653</th>\n",
       "      <td>48261</td>\n",
       "      <td>2653</td>\n",
       "      <td>404</td>\n",
       "    </tr>\n",
       "    <tr>\n",
       "      <th>2657</th>\n",
       "      <td>48269</td>\n",
       "      <td>2657</td>\n",
       "      <td>272</td>\n",
       "    </tr>\n",
       "    <tr>\n",
       "      <th>2673</th>\n",
       "      <td>48301</td>\n",
       "      <td>2673</td>\n",
       "      <td>169</td>\n",
       "    </tr>\n",
       "  </tbody>\n",
       "</table>\n",
       "</div>"
      ],
      "text/plain": [
       "      fips_num  fips_id  pop\n",
       "548      15005      548   86\n",
       "1632     30069     1632  487\n",
       "1656     31005     1656  463\n",
       "1658     31009     1658  465\n",
       "1712     31117     1712  494\n",
       "2653     48261     2653  404\n",
       "2657     48269     2657  272\n",
       "2673     48301     2673  169"
      ]
     },
     "execution_count": 14,
     "metadata": {},
     "output_type": "execute_result"
    }
   ],
   "source": [
    "df_fips[df_fips['pop']<500]"
   ]
  },
  {
   "cell_type": "code",
   "execution_count": null,
   "id": "d4d7fec8",
   "metadata": {},
   "outputs": [],
   "source": []
  },
  {
   "cell_type": "code",
   "execution_count": null,
   "id": "dd7de65e",
   "metadata": {},
   "outputs": [],
   "source": [
    "no_fips = len(M_all0)\n",
    "M_all = copy.deepcopy(M_all0)\n",
    "C = np.zeros((no_fips,no_fips))\n",
    "Cave = np.zeros((no_fips,no_fips))\n",
    "countypop = np.zeros(no_fips)"
   ]
  },
  {
   "cell_type": "code",
   "execution_count": null,
   "id": "72cd0642",
   "metadata": {},
   "outputs": [],
   "source": [
    "threshold = 100\n",
    "for i in range(no_fips):\n",
    "    M_i = M_all[:,i] \n",
    "    M_all[M_i < threshold,i] = 0 ## travel out <100 then set all the travelling to zero"
   ]
  },
  {
   "cell_type": "code",
   "execution_count": 145,
   "id": "8b9a54fb",
   "metadata": {},
   "outputs": [],
   "source": [
    "for i in range(no_fips):\n",
    "    pop_i = pop[i]\n",
    "    travel_in = np.sum(M_all[i])\n",
    "    within = M_all[i,i] ## people are travel within the fips\n",
    "    travel_out = np.sum(M_all[:,i])\n",
    "    \n",
    "    if  pop_i - travel_out + within > within: ##\n",
    "        C[i,i] = pop_i - travel_out + within ## why i need to add within??\n",
    "        Cave[i,i] = pop_i - travel_out + within\n",
    "    else:\n",
    "        C[i,i] = within\n",
    "        Cave[i,i] = within\n",
    "        pop[i] = np.sum(M_all[:,i])\n",
    "    \n",
    "    for j in range(no_fips):\n",
    "        if (M_all[j,i]>= threshold) and (M_all[i,j] >= threshold) and (j!=i):\n",
    "            C[j,i]=M_all[j,i]\n",
    "            Cave[j,i]=np.round((M_all[j,i]+M_all[i,j])/2+0.1) ## in python 0.5 round to 0/1, in matlab 0.5 round to 1"
   ]
  },
  {
   "cell_type": "code",
   "execution_count": null,
   "id": "89483518",
   "metadata": {},
   "outputs": [],
   "source": [
    "## check if they sum up all the people travel out + stay_in will be equal to the populations"
   ]
  },
  {
   "cell_type": "code",
   "execution_count": 127,
   "id": "12c893d1",
   "metadata": {},
   "outputs": [],
   "source": [
    "for i in range(no_fips):\n",
    "    if np.sum(C[:,i]) != pop[i]:\n",
    "        C[i,i] = pop[i] - np.sum(C[:,i]) + C[i,i]\n",
    "    if np.sum(Cave[:,i]) != pop[i]:\n",
    "        Cave[i,i] = pop[i] - np.sum(Cave[:,i]) + Cave[i,i]"
   ]
  },
  {
   "cell_type": "code",
   "execution_count": 6,
   "id": "f66bcfda",
   "metadata": {},
   "outputs": [],
   "source": [
    "def check_symmetric(a, rtol=1e-05, atol=1e-08):\n",
    "    return np.allclose(a, a.T, rtol=rtol, atol=atol)"
   ]
  },
  {
   "cell_type": "code",
   "execution_count": 8,
   "id": "88dd5efb",
   "metadata": {},
   "outputs": [],
   "source": [
    "Cave = np.loadtxt('Cave.csv')\n",
    "C = np.loadtxt('C.csv')"
   ]
  },
  {
   "cell_type": "code",
   "execution_count": 9,
   "id": "39114c07",
   "metadata": {},
   "outputs": [
    {
     "name": "stdout",
     "output_type": "stream",
     "text": [
      "True False\n"
     ]
    }
   ],
   "source": [
    "print (check_symmetric(Cave), check_symmetric(C))"
   ]
  },
  {
   "cell_type": "code",
   "execution_count": null,
   "id": "3e30003e",
   "metadata": {},
   "outputs": [],
   "source": [
    "print (no_fips**2 - np.sum(C == C.T), 'entries are not symmetric') ### 14450 entries are not symmetric\n",
    "print (np.sum(C != 0), 'entries in the C') ### there are 17614 entries "
   ]
  },
  {
   "cell_type": "code",
   "execution_count": null,
   "id": "5a8006e1",
   "metadata": {},
   "outputs": [],
   "source": [
    "C_matlab = loadmat('../data/commutedata_100.mat')"
   ]
  },
  {
   "cell_type": "code",
   "execution_count": null,
   "id": "a4dade7b",
   "metadata": {},
   "outputs": [],
   "source": [
    "part = C_matlab['part'].ravel()"
   ]
  },
  {
   "cell_type": "code",
   "execution_count": null,
   "id": "76b74e40",
   "metadata": {},
   "outputs": [],
   "source": [
    "C_C = C_matlab['C'].ravel()"
   ]
  },
  {
   "cell_type": "code",
   "execution_count": 123,
   "id": "b461f71d",
   "metadata": {},
   "outputs": [
    {
     "name": "stdout",
     "output_type": "stream",
     "text": [
      "2824\n",
      "2829\n",
      "2831\n",
      "2835\n",
      "2852\n",
      "2896\n",
      "2933\n",
      "2945\n"
     ]
    }
   ],
   "source": [
    "## check wether is same as the matlab results\n",
    "for i in range(no_fips):\n",
    "    start = part[i] - 1\n",
    "    end = part[i+1] - 1\n",
    "    Pei = C_C[start:end]\n",
    "    dia = Pei[0]\n",
    "    diamy = C[i,i]\n",
    "    \n",
    "    xx = C[C[:,i]!=0, i]\n",
    "    my = np.delete(xx, np.where(xx==C[i,i]))\n",
    "    \n",
    "    if np.sum(Pei[1:] != my) >0:\n",
    "        print (i)"
   ]
  },
  {
   "cell_type": "code",
   "execution_count": 124,
   "id": "1777823a",
   "metadata": {},
   "outputs": [],
   "source": [
    "C_Cave = C_matlab['Cave'].ravel()"
   ]
  },
  {
   "cell_type": "code",
   "execution_count": 148,
   "id": "241b291e",
   "metadata": {},
   "outputs": [
    {
     "name": "stdout",
     "output_type": "stream",
     "text": [
      "2824 [ 641.  810.  464. 3545.]\n",
      "[ 587  810  464 3545]\n",
      "*^^*\n",
      "2829 [ 641.  443. 1912.  377. 1260. 5725. 2869.]\n",
      "[ 587  413 1763  306 1147 5468 2769]\n",
      "*^^*\n",
      "2831 [ 308.  443. 2029.  161. 3080.  753.]\n",
      "[ 308  413 2029  161 3080  753]\n",
      "*^^*\n",
      "2835 [ 810.  472. 1912.  213. 1243. 6910.]\n",
      "[ 810  472 1763  213 1243 6910]\n",
      "*^^*\n",
      "2852 [ 377.  954. 1014. 2355.  576.]\n",
      "[ 306  954 1014 2355  576]\n",
      "*^^*\n",
      "2896 [ 1260.  2029.  1014.   923. 14004.  4292.]\n",
      "[ 1147  2029  1014   923 14004  4292]\n",
      "*^^*\n",
      "2933 [3545. 1015. 5725. 6910.  636.]\n",
      "[3545 1015 5468 6910  636]\n",
      "*^^*\n",
      "2945 [ 2869.  3080.  2355.  1072. 14004.   187.  4067.]\n",
      "[ 2769  3080  2355  1072 14004   187  4067]\n",
      "*^^*\n"
     ]
    }
   ],
   "source": [
    "for i in range(no_fips):\n",
    "    start = part[i] - 1\n",
    "    end = part[i+1] - 1\n",
    "    Pei = C_Cave[start:end]\n",
    "    dia = Pei[0]\n",
    "    diamy = Cave[i,i]\n",
    "    \n",
    "    xx = Cave[Cave[:,i]!=0, i]\n",
    "    my = np.delete(xx, np.where(xx==Cave[i,i]))\n",
    "    \n",
    "    if np.sum(Pei[1:] != my) >0:\n",
    "        print (i, my)\n",
    "        print(Pei[1:])\n",
    "        print('*^^*')"
   ]
  },
  {
   "cell_type": "code",
   "execution_count": 153,
   "id": "bfcc52d9",
   "metadata": {},
   "outputs": [],
   "source": [
    "np.savetxt('C.csv',C)\n",
    "np.savetxt('Cave.csv',Cave)\n",
    "np.savetxt('pop_new.csv', pop)"
   ]
  },
  {
   "cell_type": "code",
   "execution_count": null,
   "id": "391a44f6",
   "metadata": {},
   "outputs": [],
   "source": []
  }
 ],
 "metadata": {
  "kernelspec": {
   "display_name": "gnn",
   "language": "python",
   "name": "gnn"
  },
  "language_info": {
   "codemirror_mode": {
    "name": "ipython",
    "version": 3
   },
   "file_extension": ".py",
   "mimetype": "text/x-python",
   "name": "python",
   "nbconvert_exporter": "python",
   "pygments_lexer": "ipython3",
   "version": "3.11.4"
  }
 },
 "nbformat": 4,
 "nbformat_minor": 5
}
