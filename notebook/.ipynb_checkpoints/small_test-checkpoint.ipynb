{
 "cells": [
  {
   "cell_type": "code",
   "execution_count": 1,
   "id": "4bdbb08e",
   "metadata": {},
   "outputs": [],
   "source": [
    "import numpy as np\n",
    "import matplotlib.pyplot as plt\n",
    "from scipy.io import loadmat, savemat\n",
    "import pandas as pd\n",
    "import scipy.special as SS\n",
    "import scipy.stats as SSA\n",
    "import copy\n",
    "import random\n",
    "import math\n",
    "from sklearn.model_selection import ParameterGrid\n",
    "import os"
   ]
  },
  {
   "cell_type": "code",
   "execution_count": 2,
   "id": "b282b590",
   "metadata": {},
   "outputs": [],
   "source": [
    "rs = np.arange(0.01, 1, 0.02)\n",
    "\n",
    "R0s = np.arange(1.5, 6.5, 0.1)\n",
    "\n",
    "param_grid = {'R0': R0s, 'r' : rs}\n",
    "\n",
    "grid = ParameterGrid(param_grid)\n",
    "\n",
    "para_dict = list(grid)"
   ]
  },
  {
   "cell_type": "code",
   "execution_count": 4,
   "id": "869e891c",
   "metadata": {},
   "outputs": [],
   "source": [
    "file_dir = '~/Volumes/My\\ Passport/branching/branching_results'"
   ]
  },
  {
   "cell_type": "code",
   "execution_count": 5,
   "id": "cac58e68",
   "metadata": {},
   "outputs": [
    {
     "data": {
      "text/plain": [
       "{'R0': 1.5, 'r': 0.01}"
      ]
     },
     "execution_count": 5,
     "metadata": {},
     "output_type": "execute_result"
    }
   ],
   "source": [
    "para_dict[0]"
   ]
  },
  {
   "cell_type": "code",
   "execution_count": null,
   "id": "d958f506",
   "metadata": {},
   "outputs": [],
   "source": [
    "### count the simulation times \n",
    "s_times = {}\n",
    "for i in para_dict[:100]:\n",
    "    R0 = para_dict['R0']\n",
    "    r = para_dict['r']\n",
    "    count = 0\n",
    "    for s in range(500):\n",
    "        file_name = file_dir + \"NewInf_R0-{}_r-{}_{}.npy.gz\" .format(np.round(R0,2),np.round(r,2),en_i)\n",
    "        check_file = os.path.isfile(file_name)\n",
    "        if check_file == True:\n",
    "            count = count +1\n",
    "    s_times.append['R0',R0,'r',r] = count"
   ]
  },
  {
   "cell_type": "code",
   "execution_count": 6,
   "id": "61b2948d",
   "metadata": {},
   "outputs": [],
   "source": [
    "E_NewInf1 =  np.load('NewInf_r_01.npy')\n",
    "E_NewInf2 =  np.load('NewInf_r_1.npy')\n",
    "E_NewInf3 =  np.load('NewInf_r_5.npy')\n",
    "E_NewInf4 =  np.load('NewInf_r_10.npy')\n",
    "\n",
    "E_NewInf5 =  np.load('NewInf_r_0.01.npy')\n",
    "E_NewInf6 =  np.load('NewInf_r_0.03162278.npy')\n",
    "E_NewInf7 =  np.load('NewInf_r_0.02.npy')\n",
    "E_NewInf8 =  np.load('NewInf_r_0.05.npy')\n",
    "\n",
    "E_daily1 = np.sum(E_NewInf1[:,:,:60],axis=1)\n",
    "E_daily2 = np.sum(E_NewInf2[:,:,:60],axis=1)\n",
    "E_daily3 = np.sum(E_NewInf3[:,:,:60],axis=1)\n",
    "E_daily4 = np.sum(E_NewInf4[:,:,:60],axis=1)\n",
    "\n",
    "E_daily5 = np.sum(E_NewInf5[:,:,:60],axis=1)\n",
    "E_daily6 = np.sum(E_NewInf6[:,:,:60],axis=1)\n",
    "\n",
    "E_daily7 = np.sum(E_NewInf7[:,:,:60],axis=1)\n",
    "E_daily8 = np.sum(E_NewInf8[:,:,:60],axis=1)"
   ]
  },
  {
   "cell_type": "code",
   "execution_count": 17,
   "id": "b362ff87",
   "metadata": {},
   "outputs": [],
   "source": [
    "labels = [0.1, 1, 5, 10, 0.01, 0.03, 0.02, 0.05]"
   ]
  },
  {
   "cell_type": "code",
   "execution_count": 7,
   "id": "fefee373",
   "metadata": {},
   "outputs": [],
   "source": [
    "mean_daily1 = np.mean(E_daily1,axis=0)\n",
    "variance_daily1 = np.std(E_daily1,axis=0)\n",
    "\n",
    "mean_daily2 = np.mean(E_daily2,axis=0)\n",
    "variance_daily2 = np.std(E_daily2,axis=0)\n",
    "\n",
    "mean_daily3 = np.mean(E_daily3,axis=0)\n",
    "variance_daily3 = np.std(E_daily3,axis=0)\n",
    "\n",
    "mean_daily4 = np.mean(E_daily4,axis=0)\n",
    "variance_daily4 = np.std(E_daily4,axis=0)\n",
    "\n",
    "mean_daily5 = np.mean(E_daily5,axis=0)\n",
    "variance_daily5 = np.std(E_daily5,axis=0)\n",
    "\n",
    "mean_daily6 = np.mean(E_daily6,axis=0)\n",
    "variance_daily6 = np.std(E_daily6,axis=0)\n",
    "\n",
    "mean_daily7 = np.mean(E_daily7,axis=0)\n",
    "variance_daily7 = np.std(E_daily7,axis=0)\n",
    "\n",
    "mean_daily8 = np.mean(E_daily8,axis=0)\n",
    "variance_daily8 = np.std(E_daily8,axis=0)"
   ]
  },
  {
   "cell_type": "code",
   "execution_count": 15,
   "id": "29512f7d",
   "metadata": {},
   "outputs": [],
   "source": [
    "E_infection_all = np.zeros((8,40))\n",
    "\n",
    "E_infection_all[0] = mean_daily1[:40]\n",
    "E_infection_all[1] = mean_daily2[:40]\n",
    "E_infection_all[2] = mean_daily3[:40]\n",
    "E_infection_all[3] = mean_daily4[:40]\n",
    "E_infection_all[4] = mean_daily5[:40]\n",
    "E_infection_all[5] = mean_daily6[:40]\n",
    "E_infection_all[6] = mean_daily7[:40]\n",
    "E_infection_all[7] = mean_daily8[:40]"
   ]
  },
  {
   "cell_type": "code",
   "execution_count": null,
   "id": "51281db7",
   "metadata": {},
   "outputs": [],
   "source": [
    "import matplotlib.pyplot as plt"
   ]
  },
  {
   "cell_type": "code",
   "execution_count": 33,
   "id": "a5663750",
   "metadata": {},
   "outputs": [
    {
     "data": {
      "image/png": "[encoded data removed]",
      "text/plain": [
       "<Figure size 432x288 with 1 Axes>"
      ]
     },
     "metadata": {
      "needs_background": "light"
     },
     "output_type": "display_data"
    }
   ],
   "source": [
    "from scipy.fft import fft, fftfreq, fftshift\n",
    "import numpy as np\n",
    "# number of signal points\n",
    "N = 40\n",
    "T = 1\n",
    "x = range(40)\n",
    "xf = fftfreq(N, T)\n",
    "xf = fftshift(xf)\n",
    "for i in range(4,8):\n",
    "    y = E_infection_all[i]\n",
    "    yf = fft(y)\n",
    "    yplot = fftshift(yf)\n",
    "    plt.plot(xf, 1.0/N * np.abs(yplot), label=labels[i])\n",
    "\n",
    "y_r = np.sum(E_NewInf6[200,:,:40],axis=0)\n",
    "yf = fft(y_r)\n",
    "yplot = fftshift(yf)\n",
    "plt.plot(xf, 1.0/N * np.abs(yplot), label='free 0.03',c='black')\n",
    "\n",
    "plt.legend()\n",
    "plt.show()"
   ]
  },
  {
   "cell_type": "code",
   "execution_count": 24,
   "id": "836d63de",
   "metadata": {},
   "outputs": [],
   "source": [
    "### the randomness is in the fft the free simulation can not be identified from a single mesaurement"
   ]
  },
  {
   "cell_type": "code",
   "execution_count": 34,
   "id": "1c202be4",
   "metadata": {},
   "outputs": [],
   "source": [
    "Y_r = E_NewInf8[200,:,:40]"
   ]
  },
  {
   "cell_type": "code",
   "execution_count": 39,
   "id": "8db74349",
   "metadata": {},
   "outputs": [
    {
     "ename": "TypeError",
     "evalue": "'numpy.ndarray' object is not callable",
     "output_type": "error",
     "traceback": [
      "\u001b[0;31m---------------------------------------------------------------------------\u001b[0m",
      "\u001b[0;31mTypeError\u001b[0m                                 Traceback (most recent call last)",
      "\u001b[0;32m/var/folders/vx/g_l159t12yb63094n730n4pm0000gn/T/ipykernel_21672/1116557492.py\u001b[0m in \u001b[0;36m<module>\u001b[0;34m\u001b[0m\n\u001b[0;32m----> 1\u001b[0;31m \u001b[0mY_r\u001b[0m\u001b[0;34m[\u001b[0m\u001b[0;34m:\u001b[0m\u001b[0;34m,\u001b[0m\u001b[0;36m1\u001b[0m\u001b[0;34m]\u001b[0m\u001b[0;34m.\u001b[0m\u001b[0mT\u001b[0m\u001b[0;34m(\u001b[0m\u001b[0;34m)\u001b[0m\u001b[0;34m\u001b[0m\u001b[0;34m\u001b[0m\u001b[0m\n\u001b[0m",
      "\u001b[0;31mTypeError\u001b[0m: 'numpy.ndarray' object is not callable"
     ]
    }
   ],
   "source": [
    "Y_r[:,1]."
   ]
  },
  {
   "cell_type": "code",
   "execution_count": 36,
   "id": "1c9be45f",
   "metadata": {},
   "outputs": [],
   "source": [
    "WN = np.loadtxt('W_avg.csv')"
   ]
  },
  {
   "cell_type": "code",
   "execution_count": 40,
   "id": "f90a211e",
   "metadata": {},
   "outputs": [
    {
     "data": {
      "text/plain": [
       "array([[0., 0., 0., ..., 0., 0., 0.],\n",
       "       [0., 0., 0., ..., 0., 0., 0.],\n",
       "       [0., 0., 0., ..., 0., 0., 0.],\n",
       "       ...,\n",
       "       [0., 0., 0., ..., 0., 0., 0.],\n",
       "       [0., 0., 0., ..., 0., 0., 0.],\n",
       "       [0., 0., 0., ..., 0., 0., 0.]])"
      ]
     },
     "execution_count": 40,
     "metadata": {},
     "output_type": "execute_result"
    }
   ],
   "source": [
    "for T in range(40):\n",
    "    temp = Y_r[:,T]*WN"
   ]
  },
  {
   "cell_type": "code",
   "execution_count": 54,
   "id": "212c42b2",
   "metadata": {},
   "outputs": [],
   "source": [
    "test = np.sum(WN,axis=0)"
   ]
  },
  {
   "cell_type": "code",
   "execution_count": 43,
   "id": "8e050b0a",
   "metadata": {},
   "outputs": [],
   "source": [
    "a = np.array([1,2,10]) ### results\n",
    "m = np.array([[0.5,0.1,0.4],\n",
    "            [0.1,0.6,0.3],\n",
    "            [0.4,0.3,0.3]]) ### the transmission "
   ]
  },
  {
   "cell_type": "code",
   "execution_count": 71,
   "id": "9091ba2c",
   "metadata": {},
   "outputs": [
    {
     "data": {
      "text/plain": [
       "array([[0.5, 0.2, 4. ],\n",
       "       [0.1, 1.2, 3. ],\n",
       "       [0.4, 0.6, 3. ]])"
      ]
     },
     "execution_count": 71,
     "metadata": {},
     "output_type": "execute_result"
    }
   ],
   "source": [
    "a*m"
   ]
  },
  {
   "cell_type": "code",
   "execution_count": 68,
   "id": "c3ad9332",
   "metadata": {},
   "outputs": [],
   "source": [
    "xx = np.sum(a*m,axis=1)"
   ]
  },
  {
   "cell_type": "code",
   "execution_count": 73,
   "id": "eb63f873",
   "metadata": {},
   "outputs": [
    {
     "data": {
      "text/plain": [
       "array([4.7, 4.3, 4. ])"
      ]
     },
     "execution_count": 73,
     "metadata": {},
     "output_type": "execute_result"
    }
   ],
   "source": [
    "xx"
   ]
  },
  {
   "cell_type": "code",
   "execution_count": 75,
   "id": "81cc03bc",
   "metadata": {},
   "outputs": [
    {
     "data": {
      "text/plain": [
       "array([[2.35, 0.47, 1.88],\n",
       "       [0.43, 2.58, 1.29],\n",
       "       [1.6 , 1.2 , 1.2 ]])"
      ]
     },
     "execution_count": 75,
     "metadata": {},
     "output_type": "execute_result"
    }
   ],
   "source": [
    "np.array([[4.7],[4.3],[4]])*m"
   ]
  },
  {
   "cell_type": "code",
   "execution_count": null,
   "id": "5e87d4ac",
   "metadata": {},
   "outputs": [],
   "source": []
  }
 ],
 "metadata": {
  "kernelspec": {
   "display_name": "Python 3 (ipykernel)",
   "language": "python",
   "name": "python3"
  },
  "language_info": {
   "codemirror_mode": {
    "name": "ipython",
    "version": 3
   },
   "file_extension": ".py",
   "mimetype": "text/x-python",
   "name": "python",
   "nbconvert_exporter": "python",
   "pygments_lexer": "ipython3",
   "version": "3.9.7"
  }
 },
 "nbformat": 4,
 "nbformat_minor": 5
}
