{
 "cells": [
  {
   "cell_type": "code",
   "execution_count": 5,
   "id": "da2d92ca",
   "metadata": {},
   "outputs": [],
   "source": [
    "import numpy as np\n",
    "from sklearn.model_selection import ParameterGrid"
   ]
  },
  {
   "cell_type": "code",
   "execution_count": 1,
   "id": "e83a5a74",
   "metadata": {},
   "outputs": [],
   "source": [
    "# Generate PBS script\n",
    "def generate_pbs_script(param, filename):\n",
    "    script = f\"\"\"\\\n",
    "#PBS -l walltime=70:00:00\n",
    "#PBS -l select=1:ncpus=1:mem=1gb\n",
    "#PBS -J 1-300\n",
    "\n",
    "module load anaconda3/personal\n",
    "source activate motifenv\n",
    "\n",
    "cd $HOME/branching_superspreading/gnn_version/\n",
    "python3 branching_cluster_ic_v3.py {param} $PBS_ARRAY_INDEX –o output.txt\n",
    "\"\"\"\n",
    "    with open(filename, 'w') as f:\n",
    "        f.write(script)\n",
    "\n",
    "# Define parameters\n",
    "parameters = range(100, 90)  # Replace this with the range of parameters you want\n",
    "\n",
    "# Generate scripts\n",
    "for param in [92,107]:\n",
    "    filename = f\"branching_{param}.pbs\"  # Name the file related to the parameter\n",
    "    generate_pbs_script(param, filename)"
   ]
  },
  {
   "cell_type": "code",
   "execution_count": 60,
   "id": "6a26c1a4",
   "metadata": {},
   "outputs": [],
   "source": [
    "def generate_pbs_script(param, filename):\n",
    "    script = f\"\"\"\\\n",
    "#PBS -l walltime=70:00:00\n",
    "#PBS -l select=1:ncpus=1:mem=1gb\n",
    "#PBS -J 1-300\n",
    "\n",
    "module load anaconda3/personal\n",
    "source activate motifenv\n",
    "\n",
    "cd $HOME/branching_superspreading/python_cutoff/\n",
    "python3 branching_cluster_ic_v2.py {param} $PBS_ARRAY_INDEX –o output.txt\n",
    "\"\"\"\n",
    "    with open(filename, 'w') as f:\n",
    "        f.write(script)\n",
    "\n",
    "# Define parameters\n",
    "parameters = range(100, 90)  # Replace this with the range of parameters you want\n",
    "\n",
    "# Generate scripts\n",
    "for param in range(211,450):\n",
    "    filename = f\"branching_{param}.pbs\"  # Name the file related to the parameter\n",
    "    generate_pbs_script(param, filename)"
   ]
  },
  {
   "cell_type": "code",
   "execution_count": 44,
   "id": "f258cccb",
   "metadata": {},
   "outputs": [],
   "source": [
    "# rs_selected = [0,1,2,3,4,5,6,25,49] ### select some r values\n",
    "# rs = rs[rs_selected]\n",
    "R0s = np.arange(1.5, 6.5, 0.1)\n",
    "rs = np.array([20, 10., 2, 1, 0.5, 0.2, 0.1, 0.05, 0.025])\n",
    "# R0s = R0s[7:] ### finish the rest of R0 values\n",
    "param_grid = {'R0': R0s, 'r' : rs}\n",
    "grid = ParameterGrid(param_grid)\n",
    "para_dict = list(grid)"
   ]
  },
  {
   "cell_type": "code",
   "execution_count": 19,
   "id": "680c3388",
   "metadata": {},
   "outputs": [],
   "source": [
    "np.save('para_dict',para_dict)"
   ]
  },
  {
   "cell_type": "code",
   "execution_count": 58,
   "id": "80e777d1",
   "metadata": {},
   "outputs": [
    {
     "data": {
      "text/plain": [
       "414"
      ]
     },
     "execution_count": 58,
     "metadata": {},
     "output_type": "execute_result"
    }
   ],
   "source": [
    "387+27"
   ]
  },
  {
   "cell_type": "code",
   "execution_count": 62,
   "id": "d2379747",
   "metadata": {},
   "outputs": [
    {
     "name": "stdout",
     "output_type": "stream",
     "text": [
      "3.900000000000002 20.0\n",
      "3.900000000000002 10.0\n",
      "3.900000000000002 2.0\n",
      "3.900000000000002 1.0\n",
      "3.900000000000002 0.5\n",
      "3.900000000000002 0.2\n",
      "3.900000000000002 0.1\n",
      "3.900000000000002 0.05\n",
      "3.900000000000002 0.025\n"
     ]
    }
   ],
   "source": [
    "para_dict = np.load('para_dict.npy',allow_pickle=True)\n",
    "    ## set parameters\n",
    "for i in range(216,225):\n",
    "    para_i = para_dict[i]\n",
    "    R0 = para_i['R0']\n",
    "    r = para_i['r']\n",
    "    print(R0, r)"
   ]
  },
  {
   "cell_type": "code",
   "execution_count": 10,
   "id": "33199ee3",
   "metadata": {},
   "outputs": [
    {
     "name": "stdout",
     "output_type": "stream",
     "text": [
      "450\n"
     ]
    }
   ],
   "source": [
    "print (len(para_dict))"
   ]
  },
  {
   "cell_type": "code",
   "execution_count": null,
   "id": "92e97db2",
   "metadata": {},
   "outputs": [],
   "source": [
    "for j in 1.5, 1.6, 1.7, 1.8, 1.9, 2.0, 2.1, 2.2, 2.3, 2.4, 2.5, 2.6, 2.7, 2.8, 2.9, 3.0, 3.1, 3.2, 3.3, 3.4, 3.5, 3.6, 3.7, 3.8, 3.9, 4.0 ,4.1, 4.2, 4.3, 4.4, 4.5, 4.6, 4.7, 4.8, 4.9, 5.0, 5.1, 5.2, 5.3, 5.4, 5.5, 5.6, 5.7, 5.8, 5.9, 6.0, 6.1, 6.2, 6.3, 6.4;\n",
    "    for i in 20.0 10.0 2.0 1.0 0.5 0.2 0.1 0.05 0.025; do mkdir \"branching_R0-$j_r-$i\"; done"
   ]
  },
  {
   "cell_type": "code",
   "execution_count": null,
   "id": "57acbf08",
   "metadata": {},
   "outputs": [],
   "source": [
    "for i in {71..80}\n",
    "do\n",
    "   qsub branching_${i}.pbs\n",
    "done"
   ]
  },
  {
   "cell_type": "code",
   "execution_count": null,
   "id": "c7e8a61e",
   "metadata": {},
   "outputs": [],
   "source": []
  }
 ],
 "metadata": {
  "kernelspec": {
   "display_name": "geo",
   "language": "python",
   "name": "geo"
  },
  "language_info": {
   "codemirror_mode": {
    "name": "ipython",
    "version": 3
   },
   "file_extension": ".py",
   "mimetype": "text/x-python",
   "name": "python",
   "nbconvert_exporter": "python",
   "pygments_lexer": "ipython3",
   "version": "3.11.3"
  }
 },
 "nbformat": 4,
 "nbformat_minor": 5
}
