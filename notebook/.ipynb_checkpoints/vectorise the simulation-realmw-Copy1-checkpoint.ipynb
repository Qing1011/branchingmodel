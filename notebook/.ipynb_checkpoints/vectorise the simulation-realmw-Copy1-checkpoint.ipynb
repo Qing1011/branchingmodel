{
 "cells": [
  {
   "cell_type": "code",
   "execution_count": 1,
   "id": "76c15771",
   "metadata": {},
   "outputs": [],
   "source": [
    "import torch\n",
    "from torch_geometric.data import Data\n",
    "import numpy as np\n",
    "import networkx as nx\n",
    "from torch_geometric.nn import MessagePassing\n",
    "from torch_geometric.utils import add_self_loops, degree\n",
    "import matplotlib.pyplot as plt\n",
    "import scipy.special as SS\n",
    "import scipy.stats as SSA"
   ]
  },
  {
   "cell_type": "code",
   "execution_count": 2,
   "id": "59f0967c",
   "metadata": {},
   "outputs": [],
   "source": [
    "WN = np.loadtxt('W_avg.csv')\n",
    "pop = np.loadtxt('pop_new.csv')"
   ]
  },
  {
   "cell_type": "code",
   "execution_count": 3,
   "id": "3046c664",
   "metadata": {},
   "outputs": [],
   "source": [
    "# create a graph\n",
    "A = np.array([[0.25 , 0.25, 0.4, 0.1 ],\n",
    "        [0.25, 0.75 , 0. , 0. ],\n",
    "        [0.4, 0. , 0.55 , 0.05],\n",
    "        [0.1 , 0 , 0.05, 0.85 ]])\n",
    "# adjacency_matrix = torch.tensor(WN)\n",
    "adjacency_matrix = torch.tensor(A)\n",
    "# Get the indices where the adjacency matrix has a non-zero value\n",
    "edge_index = torch.nonzero(adjacency_matrix, as_tuple=False).t()\n",
    "\n",
    "# If your adjacency matrix has edge weights, you can get them like this:\n",
    "edge_weight = adjacency_matrix[edge_index[0], edge_index[1]]"
   ]
  },
  {
   "cell_type": "code",
   "execution_count": 3,
   "id": "f215b8ab",
   "metadata": {},
   "outputs": [],
   "source": [
    "class EpidemicSimulator(MessagePassing):\n",
    "    def __init__(self, r, p, max_time_step):\n",
    "        super(EpidemicSimulator, self).__init__(aggr='add')\n",
    "        self.r = r\n",
    "#         self.p = p\n",
    "        self.p_prime = 1-p\n",
    "        self.max_time_step = max_time_step\n",
    "        self.Z = 3 # latent period\n",
    "        self.Zb = 1 # scale parameter for Z\n",
    "        self.D = 5 # infectious period\n",
    "        self.Db = 1 # scale parameter for beta\n",
    "    \n",
    "    def forward(self, x, edge_index, edge_attr, step):\n",
    "        return self.propagate(edge_index, size=(x.size(0), x.size(0)), x=x, edge_attr=edge_attr, step=step)\n",
    "\n",
    "    def message(self, x_j, edge_index, edge_attr, step):\n",
    "        # x_j has shape [E, num_features]\n",
    "        # edge_attr has shape [E, num_edge_features]\n",
    "        # Get the new infections from x_j.\n",
    "        new_infections = x_j[:, 0:1]  # Shape: [E, 1]\n",
    "        # Compute the messages.\n",
    "        messages = new_infections * edge_attr.view(-1, 1)\n",
    "        return messages\n",
    "\n",
    "    def update(self, aggr_out, x, step):\n",
    "        # x has shape [N, num_features], it is the original node features\n",
    "        # The new infections are the aggregated messages.\n",
    "        new_infections = aggr_out # aggr_out has shape [N, 1], it contains the updated infections\n",
    "        #### Add the effective infections to the column corresponding to the current step.####\n",
    "        ## diffuse the new_infections to different times \n",
    "        new_infections_int  = new_infections.round().int()\n",
    "        inf_sizes = new_infections_int.squeeze().tolist()\n",
    "        for i, inf_size_i in enumerate(inf_sizes):\n",
    "            gamma_dist1 = torch.distributions.Gamma(self.Z, 1/self.Zb)\n",
    "            gamma_dist2 = torch.distributions.Gamma(self.D, 1/self.Db)\n",
    "            latency_p = gamma_dist1.sample(sample_shape=torch.Size([inf_size_i]))\n",
    "            infectious_p = gamma_dist2.sample(sample_shape=torch.Size([inf_size_i]))\n",
    "            v = torch.rand(inf_size_i)\n",
    "            delay_days = latency_p + v * infectious_p\n",
    "            for j,delay_t in enumerate(delay_days):\n",
    "                t_j = (1+step+delay_t).ceil().int()\n",
    "                if t_j > self.max_time_step:\n",
    "                    pass\n",
    "                else:\n",
    "                    x[i,t_j] = x[i,t_j] + 1\n",
    "        ##generate new infections based on the current time infectors\n",
    "        population = x[:, 1:2]\n",
    "        new_infectors = x[:, 2+step:3+step] ## the infectors at time ti\n",
    "        total_infection = torch.sum(x[:, 2:3+step], dim=1,keepdim=True) \n",
    "        rate = (population - total_infection) / population # Compute the rate.\n",
    "        rate[rate<0] = 0\n",
    "        temp = new_infectors.round().int()\n",
    "        sizes = temp.squeeze().tolist()\n",
    "        # Initialize an empty tensor to store the results\n",
    "        results = torch.empty_like(new_infectors)\n",
    "        # Generate negative binomial for each size\n",
    "        for i, size in enumerate(sizes):\n",
    "            result = torch.distributions.negative_binomial.NegativeBinomial(self.r,self.p_prime).sample(sample_shape=torch.Size([size]))\n",
    "            temp_sum = result.sum()\n",
    "            effective_infections = (rate[i] * temp_sum)\n",
    "            results[i] = effective_infections\n",
    "        \n",
    "        ######^^^^^^#######\n",
    "        # The rest of the features remain the same.\n",
    "        other_features = x[:, 2:].clone()\n",
    "        # Concatenate the new infections, the population, and the other features to get the new node features.\n",
    "        x_new = torch.cat([results, population, other_features], dim=1)\n",
    "        return x_new\n",
    "\n",
    "def simulate_dynamics(data, R0, r, num_steps,edge_index):\n",
    "    p = r/(R0+r)   \n",
    "    simulator = EpidemicSimulator(r,p,max_time_step=61)\n",
    "    x = data.x\n",
    "    for ti in range(num_steps):\n",
    "        x = simulator(x, edge_index, data.edge_attr, ti)\n",
    "    return x"
   ]
  },
  {
   "cell_type": "code",
   "execution_count": 62,
   "id": "b373160e",
   "metadata": {},
   "outputs": [],
   "source": [
    "%run ../codes/branching_gnn.py"
   ]
  },
  {
   "cell_type": "markdown",
   "id": "951b4bc8",
   "metadata": {},
   "source": [
    "## test R0=2.5"
   ]
  },
  {
   "cell_type": "code",
   "execution_count": 21,
   "id": "2c9124bb",
   "metadata": {},
   "outputs": [],
   "source": [
    "rs = np.array([20.0, 10.0, 2.0, 1.0, 0.5, 0.2, 0.1, 0.05, 0.025]) "
   ]
  },
  {
   "cell_type": "code",
   "execution_count": 5,
   "id": "2d4e9fb9",
   "metadata": {},
   "outputs": [],
   "source": [
    "num_fips = len(pop)\n",
    "T = 60\n",
    "l0 = 1859-1 # start with New York County NY in python -1, in matlab is 1859\n",
    "# E_mean_county = np.zeros((9,60))\n",
    "# E_std_county = np.zeros((9,60))\n",
    "# En_NewInf = np.zeros((300,num_fips,T))"
   ]
  },
  {
   "cell_type": "code",
   "execution_count": 6,
   "id": "6ef40c90",
   "metadata": {},
   "outputs": [],
   "source": [
    "xx = np.zeros((num_fips,62)) # number of nodes, the columns of attributes\n",
    "xx[:,1] = pop ## populations\n",
    "## col_2 is the new infections generated by the new infectors\n",
    "xx[l0,2] = 100 ## the new infections at time 0 \n",
    "xx[l0,0] = 100 ## the new infections at time 0 \n",
    "xx = torch.tensor(xx,dtype=torch.float)\n",
    "\n",
    "adjacency_matrix = torch.tensor(WN)\n",
    "# Get the indices where the adjacency matrix has a non-zero value\n",
    "edge_index = torch.nonzero(adjacency_matrix, as_tuple=False).t()\n",
    "# If your adjacency matrix has edge weights, you can get them like this:\n",
    "edge_weight = adjacency_matrix[edge_index[0], edge_index[1]]\n",
    "\n",
    "data = Data(x=xx, edge_index=edge_index, edge_attr=edge_weight)\n",
    "test = simulate_dynamics(data, R0=2.5, r=0.1, num_steps=T, edge_index=edge_index)"
   ]
  },
  {
   "cell_type": "code",
   "execution_count": 7,
   "id": "ce630cdc",
   "metadata": {},
   "outputs": [],
   "source": [
    "cc = np.array(test)[:,2:]\n",
    "# cc1 = np.array(test1)[:,2:]"
   ]
  },
  {
   "cell_type": "code",
   "execution_count": 8,
   "id": "601ef467",
   "metadata": {},
   "outputs": [],
   "source": [
    "ccc = cc/pop[:,None]*100000\n",
    "# ccc1 = cc1/pop[:,None]*100000"
   ]
  },
  {
   "cell_type": "code",
   "execution_count": 9,
   "id": "906b5e83",
   "metadata": {},
   "outputs": [],
   "source": [
    "dd  = np.sum(ccc[:,:60]>10,axis=0)\n",
    "# dd1  = np.sum(ccc1[:,:60]>10,axis=0)"
   ]
  },
  {
   "cell_type": "code",
   "execution_count": 10,
   "id": "0ca7f130",
   "metadata": {},
   "outputs": [],
   "source": [
    "NewInf_ode = np.loadtxt('metapop_R025.csv')\n",
    "infec_perpop = NewInf_ode/pop[:,None]*100000\n",
    "county_ode = np.sum(infec_perpop>10,axis=0)"
   ]
  },
  {
   "cell_type": "code",
   "execution_count": 11,
   "id": "2891d99d",
   "metadata": {},
   "outputs": [
    {
     "data": {
      "text/plain": [
       "66"
      ]
     },
     "execution_count": 11,
     "metadata": {},
     "output_type": "execute_result"
    }
   ],
   "source": [
    "dd[-1]"
   ]
  },
  {
   "cell_type": "code",
   "execution_count": 12,
   "id": "27f98fec",
   "metadata": {},
   "outputs": [
    {
     "data": {
      "text/plain": [
       "Text(0, 0.5, 'counties with daily infections per 100000>10')"
      ]
     },
     "execution_count": 12,
     "metadata": {},
     "output_type": "execute_result"
    },
    {
     "data": {
      "image/png": "[encoded data removed]",
      "text/plain": [
       "<Figure size 640x480 with 1 Axes>"
      ]
     },
     "metadata": {},
     "output_type": "display_data"
    }
   ],
   "source": [
    "plt.plot(dd,label='r=0.1',color='green')\n",
    "# plt.plot(dd1,label='r=0.025',color='green')\n",
    "plt.plot(county_ode,label='ode',color='blue')\n",
    "plt.legend()\n",
    "plt.xlabel('day')\n",
    "plt.ylabel('counties with daily infections per 100000>10')"
   ]
  },
  {
   "cell_type": "code",
   "execution_count": null,
   "id": "31bbf30f",
   "metadata": {},
   "outputs": [],
   "source": []
  }
 ],
 "metadata": {
  "kernelspec": {
   "display_name": "gnn",
   "language": "python",
   "name": "gnn"
  },
  "language_info": {
   "codemirror_mode": {
    "name": "ipython",
    "version": 3
   },
   "file_extension": ".py",
   "mimetype": "text/x-python",
   "name": "python",
   "nbconvert_exporter": "python",
   "pygments_lexer": "ipython3",
   "version": "3.11.4"
  }
 },
 "nbformat": 4,
 "nbformat_minor": 5
}
