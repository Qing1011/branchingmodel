{
 "cells": [
  {
   "cell_type": "code",
   "execution_count": 1,
   "id": "707cada0",
   "metadata": {},
   "outputs": [],
   "source": [
    "import scipy.io\n",
    "import pandas as pd\n",
    "import numpy as np\n",
    "import matplotlib.pyplot as plt\n",
    "from scipy.stats import norm\n",
    "from scipy.optimize import minimize\n",
    "\n",
    "from scipy.io import loadmat, savemat\n",
    "import pandas as pd\n",
    "import scipy.special as SS\n",
    "import scipy.stats as SSA\n",
    "import copy\n",
    "import random\n",
    "import math\n",
    "from sklearn.model_selection import ParameterGrid\n",
    "import os\n",
    "import numpy.linalg as LA\n",
    "import gzip\n",
    "\n",
    "# load pickle module\n",
    "import pickle"
   ]
  },
  {
   "cell_type": "code",
   "execution_count": 2,
   "id": "ba10676e",
   "metadata": {},
   "outputs": [
    {
     "name": "stderr",
     "output_type": "stream",
     "text": [
      "/Users/qingyao/anaconda3/envs/geo/lib/python3.11/site-packages/scipy/io/matlab/_mio.py:227: MatReadWarning: Duplicate variable name \"None\" in stream - replacing previous with new\n",
      "Consider mio5.varmats_from_mat to split file into single variable files\n",
      "  matfile_dict = MR.get_variables(variable_names)\n"
     ]
    }
   ],
   "source": [
    "parameter = scipy.io.loadmat('../data/parameterestimate.mat')\n",
    "alpha = parameter['alpha']\n",
    "beta = parameter['beta']"
   ]
  },
  {
   "cell_type": "markdown",
   "id": "e0fae47c",
   "metadata": {},
   "source": [
    "## starting date is 2020-02-21"
   ]
  },
  {
   "cell_type": "code",
   "execution_count": 3,
   "id": "6964e17c",
   "metadata": {},
   "outputs": [],
   "source": [
    "sen_fips = scipy.io.loadmat('../data/countyfips_num.mat')\n",
    "sen_fips = sen_fips['countyfips_num']\n",
    "for i in range(3141):\n",
    "    if (sen_fips[i+1][0] - sen_fips[i][0])<0:\n",
    "        print(i)\n",
    "### this data is sorted"
   ]
  },
  {
   "cell_type": "code",
   "execution_count": 4,
   "id": "c16c7096",
   "metadata": {},
   "outputs": [],
   "source": [
    "beta_mean = np.mean(beta,axis=1)\n",
    "alpha_mean = np.mean(alpha,axis=1) ## 3142"
   ]
  },
  {
   "cell_type": "markdown",
   "id": "68e23469",
   "metadata": {},
   "source": [
    "### there are 3108 fips in the mainland \n",
    "### 3142 fips when i do the simulations\n",
    "### need to compare them and find the intersection"
   ]
  },
  {
   "cell_type": "code",
   "execution_count": 5,
   "id": "2270e4a8",
   "metadata": {},
   "outputs": [],
   "source": [
    "fips_main = pd.read_csv('fips_sorted.cvs')\n",
    "fips_all = pd.DataFrame(sen_fips,columns=['FIPS'])\n",
    "mask = fips_all.FIPS.isin(fips_main.FIPS.values)\n",
    "indices_main = mask[lambda x: x==True].index.tolist()\n",
    "main_df = fips_all.loc[indices_main]"
   ]
  },
  {
   "cell_type": "code",
   "execution_count": 6,
   "id": "eef1d240",
   "metadata": {},
   "outputs": [],
   "source": [
    "## select alpha of the main\n",
    "alpha_mean_main = alpha_mean[indices_main,:]\n",
    "beta_mean_main = beta_mean[indices_main,:]"
   ]
  },
  {
   "cell_type": "code",
   "execution_count": 8,
   "id": "60975261",
   "metadata": {},
   "outputs": [],
   "source": [
    "np.savetxt('beta_mean_main.cvs',beta_mean_main)"
   ]
  },
  {
   "cell_type": "code",
   "execution_count": null,
   "id": "95796279",
   "metadata": {},
   "outputs": [],
   "source": []
  }
 ],
 "metadata": {
  "kernelspec": {
   "display_name": "geo",
   "language": "python",
   "name": "geo"
  },
  "language_info": {
   "codemirror_mode": {
    "name": "ipython",
    "version": 3
   },
   "file_extension": ".py",
   "mimetype": "text/x-python",
   "name": "python",
   "nbconvert_exporter": "python",
   "pygments_lexer": "ipython3",
   "version": "3.11.3"
  }
 },
 "nbformat": 4,
 "nbformat_minor": 5
}
