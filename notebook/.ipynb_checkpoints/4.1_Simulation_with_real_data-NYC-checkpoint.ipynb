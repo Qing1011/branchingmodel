{
 "cells": [
  {
   "cell_type": "code",
   "execution_count": 1,
   "id": "e8a0e2dd",
   "metadata": {},
   "outputs": [],
   "source": [
    "import torch\n",
    "from torch_geometric.data import Data\n",
    "import numpy as np\n",
    "import networkx as nx\n",
    "from torch_geometric.nn import MessagePassing\n",
    "from torch_geometric.utils import add_self_loops, degree\n",
    "import matplotlib.pyplot as plt\n",
    "import scipy.special as SS\n",
    "import pandas as pd\n",
    "import scipy.stats as SSA"
   ]
  },
  {
   "cell_type": "markdown",
   "id": "f4aaaec7",
   "metadata": {},
   "source": [
    "Use the counties from the survey data as the neighbor of NYC,   \n",
    "it is possible that the results will underestimate r?"
   ]
  },
  {
   "cell_type": "code",
   "execution_count": 2,
   "id": "785a4238",
   "metadata": {},
   "outputs": [],
   "source": [
    "### all survey data and the neighbours from the survey 307\n",
    "position = np.loadtxt('position_nyc_neighbour_survey.csv')\n",
    "position.sort()\n",
    "df_fips_survey = pd.read_csv('../data/testfips.csv') ## the sorted version\n",
    "fips_position = df_fips_survey.iloc[position,:]\n",
    "# fips_position.to_csv('df_fips_nyc_neighbour.csv')\n",
    "neighbour_fips = fips_position['FIPS'].values"
   ]
  },
  {
   "cell_type": "code",
   "execution_count": 29,
   "id": "00cf632c",
   "metadata": {},
   "outputs": [],
   "source": [
    "## find the index of the neigbours from the survey in the mainland frame\n",
    "fips_mainland = np.loadtxt('fips_mainland.csv')"
   ]
  },
  {
   "cell_type": "code",
   "execution_count": 39,
   "id": "b23b2a90",
   "metadata": {},
   "outputs": [],
   "source": [
    "neighbour_from_survey = []\n",
    "for i, f in enumerate(fips_mainland):\n",
    "    if f in neighbour_fips:\n",
    "        neighbour_from_survey.append(f)"
   ]
  },
  {
   "cell_type": "code",
   "execution_count": 40,
   "id": "5e6dc5e4",
   "metadata": {},
   "outputs": [
    {
     "data": {
      "text/plain": [
       "{15003}"
      ]
     },
     "execution_count": 40,
     "metadata": {},
     "output_type": "execute_result"
    }
   ],
   "source": [
    "set(neighbour_fips) - set(neighbour_from_survey) ### in Hawaii, is the second neighbour of log analegas"
   ]
  },
  {
   "cell_type": "code",
   "execution_count": 41,
   "id": "5d1cdd5f",
   "metadata": {},
   "outputs": [
    {
     "data": {
      "text/html": [
       "<div>\n",
       "<style scoped>\n",
       "    .dataframe tbody tr th:only-of-type {\n",
       "        vertical-align: middle;\n",
       "    }\n",
       "\n",
       "    .dataframe tbody tr th {\n",
       "        vertical-align: top;\n",
       "    }\n",
       "\n",
       "    .dataframe thead th {\n",
       "        text-align: right;\n",
       "    }\n",
       "</style>\n",
       "<table border=\"1\" class=\"dataframe\">\n",
       "  <thead>\n",
       "    <tr style=\"text-align: right;\">\n",
       "      <th></th>\n",
       "      <th>ID</th>\n",
       "      <th>Name</th>\n",
       "      <th>FIPS</th>\n",
       "      <th>STATE</th>\n",
       "    </tr>\n",
       "  </thead>\n",
       "  <tbody>\n",
       "    <tr>\n",
       "      <th>547</th>\n",
       "      <td>548</td>\n",
       "      <td>Honolulu County HI</td>\n",
       "      <td>15003</td>\n",
       "      <td>15</td>\n",
       "    </tr>\n",
       "  </tbody>\n",
       "</table>\n",
       "</div>"
      ],
      "text/plain": [
       "      ID                Name   FIPS  STATE\n",
       "547  548  Honolulu County HI  15003     15"
      ]
     },
     "execution_count": 41,
     "metadata": {},
     "output_type": "execute_result"
    }
   ],
   "source": [
    "df_fips_survey[df_fips_survey['FIPS']==15003]"
   ]
  },
  {
   "cell_type": "code",
   "execution_count": 42,
   "id": "319579ad",
   "metadata": {},
   "outputs": [
    {
     "data": {
      "text/plain": [
       "ID                         205\n",
       "Name     Los Angeles County CA\n",
       "FIPS                      6037\n",
       "STATE                        6\n",
       "Name: 204, dtype: object"
      ]
     },
     "execution_count": 42,
     "metadata": {},
     "output_type": "execute_result"
    }
   ],
   "source": [
    "df_fips_survey.iloc[204]"
   ]
  },
  {
   "cell_type": "code",
   "execution_count": null,
   "id": "a9b65e38",
   "metadata": {},
   "outputs": [],
   "source": []
  }
 ],
 "metadata": {
  "kernelspec": {
   "display_name": "gnn",
   "language": "python",
   "name": "gnn"
  },
  "language_info": {
   "codemirror_mode": {
    "name": "ipython",
    "version": 3
   },
   "file_extension": ".py",
   "mimetype": "text/x-python",
   "name": "python",
   "nbconvert_exporter": "python",
   "pygments_lexer": "ipython3",
   "version": "3.11.4"
  }
 },
 "nbformat": 4,
 "nbformat_minor": 5
}
