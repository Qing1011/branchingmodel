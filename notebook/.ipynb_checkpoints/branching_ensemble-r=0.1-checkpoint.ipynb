{
 "cells": [
  {
   "cell_type": "code",
   "execution_count": 1,
   "id": "c59d105a",
   "metadata": {},
   "outputs": [],
   "source": [
    "import numpy as np\n",
    "import matplotlib.pyplot as plt\n",
    "from scipy.io import loadmat, savemat\n",
    "import pandas as pd\n",
    "import copy"
   ]
  },
  {
   "cell_type": "code",
   "execution_count": 2,
   "id": "30101044",
   "metadata": {},
   "outputs": [],
   "source": [
    "%run ../codes/branchingv1.py"
   ]
  },
  {
   "cell_type": "code",
   "execution_count": 3,
   "id": "af88c954",
   "metadata": {},
   "outputs": [],
   "source": [
    "WN = np.loadtxt('W_avg.csv')\n",
    "Cave = np.loadtxt('Cave.csv')\n",
    "pop = np.loadtxt('pop_new.csv')"
   ]
  },
  {
   "cell_type": "code",
   "execution_count": 4,
   "id": "1c85a371",
   "metadata": {},
   "outputs": [],
   "source": [
    "num_fips = len(pop)\n",
    "T = 60\n",
    "num_ens = 10 ##300"
   ]
  },
  {
   "cell_type": "code",
   "execution_count": null,
   "id": "8cae26d9",
   "metadata": {},
   "outputs": [],
   "source": [
    "# compute wji make the transission rate(probability)\n",
    "# mobility factor\n",
    "theta = 1\n",
    "W = np.zeros_like(Cave)\n",
    "WN = np.zeros_like(Cave)\n",
    "for i in range(num_fips):\n",
    "    non_dia = np.delete(idx, i)\n",
    "    W[non_dia,i] = Cave[non_dia,i]/pop[i] \n",
    "    W[i,i] = max((1-np.sum(W[non_dia,i])),0.2) ## the maxium probability travel within is 0.2\n",
    "    WN[:,i] = W[:,i]/np.sum(W[:,i]) ## normalise distribution"
   ]
  },
  {
   "cell_type": "code",
   "execution_count": null,
   "id": "a3bfb5fd",
   "metadata": {},
   "outputs": [],
   "source": [
    "np.savetxt('W_avg.csv',WN)"
   ]
  },
  {
   "cell_type": "code",
   "execution_count": 8,
   "id": "e0c4c469",
   "metadata": {},
   "outputs": [],
   "source": [
    "# pathogen characteristics\n",
    "# initialize parameters\n",
    "R0 = 2.5 \n",
    "r = 5 ## the parameters\n",
    "Z = 3 # latent period\n",
    "Zb = 1 # scale parameter for Z\n",
    "D = 5 # infectious period\n",
    "Db = 1 # scale parameter for b\n",
    "alpha = 0.1 # reporting rate 10%\n",
    "# R0,r,Z;Zb;D;Db,alpha\n",
    "para_i = np.array([[R0], [r], [Z], [Zb], [D], [Db], [alpha]])"
   ]
  },
  {
   "cell_type": "code",
   "execution_count": 9,
   "id": "a8903956",
   "metadata": {},
   "outputs": [],
   "source": [
    "para = np.repeat(para_i,300,axis=1)"
   ]
  },
  {
   "cell_type": "code",
   "execution_count": 10,
   "id": "21ab8fe6",
   "metadata": {},
   "outputs": [],
   "source": [
    "#initialize variables\n",
    "# seeding\n",
    "l0 = 1859-1 # start with New York County NY in python -1, in matlab is 1859\n",
    "i0 = 100 ## the starting t=0, in matlab it is 1\n",
    "initials = (l0,i0)"
   ]
  },
  {
   "cell_type": "code",
   "execution_count": 11,
   "id": "c830f9ec",
   "metadata": {},
   "outputs": [],
   "source": [
    "x_cutoff = 100\n",
    "r = 5 ## parameters (in the paper of Lloyd smith is the k)\n",
    "R0 = 2.5  ## the model input\n",
    "\n",
    "p = r/(R0+r)\n",
    "\n",
    "weights = np.zeros(x_cutoff)\n",
    "for i in range(x_cutoff):\n",
    "    temp1=SS.gamma(r+i)/SS.gamma(r)/SS.gamma((i+1))*np.power(p,r)*np.power((1-p),i)\n",
    "    weights[i] = temp1\n",
    "weights_n = weights/np.sum(weights)"
   ]
  },
  {
   "cell_type": "code",
   "execution_count": 12,
   "id": "92bf7c45",
   "metadata": {},
   "outputs": [
    {
     "name": "stdout",
     "output_type": "stream",
     "text": [
      "it covers 100.0 % of the values\n"
     ]
    }
   ],
   "source": [
    "print('it covers', np.sum(weights)*100,'% of the values') "
   ]
  },
  {
   "cell_type": "code",
   "execution_count": 13,
   "id": "b3299263",
   "metadata": {},
   "outputs": [],
   "source": [
    "E_NewInf = np.zeros((num_ens, num_fips,T*10))\n",
    "E_TotInf = np.zeros((num_ens, num_fips,T*10))"
   ]
  },
  {
   "cell_type": "code",
   "execution_count": null,
   "id": "3db8dd93",
   "metadata": {},
   "outputs": [
    {
     "name": "stdout",
     "output_type": "stream",
     "text": [
      "0\n",
      "1\n",
      "2\n",
      "3\n",
      "4\n",
      "5\n",
      "6\n",
      "7\n",
      "8\n",
      "9\n",
      "10\n",
      "11\n",
      "12\n",
      "13\n",
      "14\n",
      "15\n",
      "16\n",
      "17\n",
      "18\n",
      "19\n",
      "20\n",
      "21\n",
      "22\n",
      "23\n",
      "24\n",
      "25\n",
      "26\n",
      "27\n",
      "28\n",
      "29\n",
      "30\n",
      "31\n",
      "32\n",
      "33\n",
      "34\n",
      "35\n",
      "36\n",
      "37\n",
      "38\n",
      "39\n",
      "40\n",
      "41\n",
      "42\n",
      "43\n",
      "44\n",
      "45\n",
      "46\n",
      "47\n"
     ]
    }
   ],
   "source": [
    "for en_i in range(num_ens):\n",
    "    E_NewInf[en_i], E_TotInf[en_i] = superspreading_T_Loc(60,num_fips,(l0,i0),weights_n,pop,(3,1,5,1),WN)"
   ]
  },
  {
   "cell_type": "code",
   "execution_count": null,
   "id": "f634e3bd",
   "metadata": {},
   "outputs": [],
   "source": [
    "NewInf_avg = np.mean(E_NewInf[:4],axis=0)"
   ]
  },
  {
   "cell_type": "code",
   "execution_count": null,
   "id": "c361c8c2",
   "metadata": {},
   "outputs": [],
   "source": [
    "NewInf_as = NewInf_avg[:,:60]\n",
    "daily_per_pop = NewInf_as/pop[:,None]*100000"
   ]
  },
  {
   "cell_type": "code",
   "execution_count": null,
   "id": "c220a8fb",
   "metadata": {},
   "outputs": [],
   "source": [
    "NewInf1 = np.loadtxt('NewInf_r_5.csv')\n",
    "NewInf_s1 = NewInf1[:,:60]\n",
    "daily_per_pop1 = NewInf_s1/pop[:,None]*100000"
   ]
  },
  {
   "cell_type": "code",
   "execution_count": null,
   "id": "ef32f86b",
   "metadata": {},
   "outputs": [],
   "source": [
    "plt.plot(np.sum(daily_per_pop1>10,axis=0),label='r=0.1',color='green')\n",
    "plt.plot(np.sum(daily_per_pop>10,axis=0),label='r=5',color='orange')\n",
    "plt.legend()\n",
    "plt.xlabel('day')\n",
    "plt.ylabel('counties with daily infections per 100000>10')"
   ]
  },
  {
   "cell_type": "code",
   "execution_count": null,
   "id": "3196e810",
   "metadata": {},
   "outputs": [],
   "source": []
  }
 ],
 "metadata": {
  "kernelspec": {
   "display_name": "Python 3 (ipykernel)",
   "language": "python",
   "name": "python3"
  },
  "language_info": {
   "codemirror_mode": {
    "name": "ipython",
    "version": 3
   },
   "file_extension": ".py",
   "mimetype": "text/x-python",
   "name": "python",
   "nbconvert_exporter": "python",
   "pygments_lexer": "ipython3",
   "version": "3.9.7"
  }
 },
 "nbformat": 4,
 "nbformat_minor": 5
}
