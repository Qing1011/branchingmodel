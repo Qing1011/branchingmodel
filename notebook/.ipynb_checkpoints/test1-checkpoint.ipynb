{
 "cells": [
  {
   "cell_type": "code",
   "execution_count": 2,
   "id": "8f6b799d",
   "metadata": {},
   "outputs": [],
   "source": [
    "import numpy as np\n",
    "import matplotlib.pyplot as plt\n",
    "from scipy.io import loadmat, savemat"
   ]
  },
  {
   "cell_type": "code",
   "execution_count": 3,
   "id": "3cbf27c8",
   "metadata": {},
   "outputs": [],
   "source": [
    "n = 5\n",
    "p = 0.1\n",
    "size = 1000\n",
    "sample = np.random.negative_binomial(n, p, size)"
   ]
  },
  {
   "cell_type": "code",
   "execution_count": 5,
   "id": "b806f38d",
   "metadata": {},
   "outputs": [],
   "source": [
    "data = loadmat('../data/commutedata_100.mat') ### dictionary\n",
    "population = loadmat('../data/population.mat')['population'].astype(np.float64) ### numpy 3142"
   ]
  },
  {
   "cell_type": "code",
   "execution_count": 6,
   "id": "5bb0e6b4",
   "metadata": {},
   "outputs": [],
   "source": [
    "nl = data['nl'].astype(np.int32).ravel() ### numpy 17614\n",
    "part = data['part'].astype(np.int32).ravel() ### numpy 3143\n",
    "Cave = data['Cave'].astype(np.float64) ### numpy 17614*1"
   ]
  },
  {
   "cell_type": "code",
   "execution_count": 8,
   "id": "7bc7f421",
   "metadata": {},
   "outputs": [],
   "source": [
    "num_loc = len(population)\n",
    "T = 60\n",
    "num_ens = 300\n",
    "theta = 1"
   ]
  },
  {
   "cell_type": "code",
   "execution_count": 26,
   "id": "39a2a679",
   "metadata": {},
   "outputs": [],
   "source": [
    "# compute wji\n",
    "# mobility factor\n",
    "\n",
    "\n",
    "# for i=1:num_loc\n",
    "#     for j=part(i)+1:part(i+1)-1\n",
    "#         w(j)=theta*Cave(j)/population(i);\n",
    "#     end\n",
    "#     w(part(i))=max(1-sum(w(part(i)+1:part(i+1)-1)),0.2);\n",
    "#     w(part(i):part(i+1)-1)=w(part(i):part(i+1)-1)/sum(w(part(i):part(i+1)-1));\n",
    "# end\n",
    "\n",
    "\n",
    "w = np.zeros_like(Cave)\n",
    "### matlab starts with 1, python starts with 0\n",
    "for i in range(num_loc):\n",
    "    for j in range(part[i], part[i-1]-1):\n",
    "        ## j is the indices\n",
    "        w[j] = theta * Cave[j] / population[i]\n",
    "#     w[part[i]-1] = max(1 - np.sum(w[part[i]:part[i+1]-2]), 0.2)\n",
    "#     w[part[i]-1:part[i+1]-2] = w[part[i]-1:part[i+1]-2] / np.sum(w[part[i]-1:part[i+1]-2])"
   ]
  },
  {
   "cell_type": "code",
   "execution_count": 31,
   "id": "1be64b08",
   "metadata": {},
   "outputs": [
    {
     "data": {
      "text/plain": [
       "array([  1,   6,  10,  17,  20,  25,  29,  33,  42,  48,  52,  56,  59,\n",
       "        65,  69,  71,  77,  84,  88,  91,  97, 102, 110, 116, 122, 127,\n",
       "       134, 142, 151, 155, 163, 167, 170, 173, 177, 185, 190, 206, 210,\n",
       "       217, 224, 234, 241, 245, 250, 260, 264, 270, 278, 287, 292, 303,\n",
       "       310, 313, 315, 322, 325, 328, 334, 342, 345, 354, 361, 369, 375,\n",
       "       380, 384, 389, 390, 391, 395, 396, 397, 398, 399, 401, 402, 403,\n",
       "       404, 406, 407, 408, 409, 410, 412, 413, 414, 415, 416, 417, 418,\n",
       "       419, 420, 421, 422, 423, 424, 429, 433, 439], dtype=int32)"
      ]
     },
     "execution_count": 31,
     "metadata": {},
     "output_type": "execute_result"
    }
   ],
   "source": [
    "part[:100]"
   ]
  }
 ],
 "metadata": {
  "kernelspec": {
   "display_name": "Python 3 (ipykernel)",
   "language": "python",
   "name": "python3"
  },
  "language_info": {
   "codemirror_mode": {
    "name": "ipython",
    "version": 3
   },
   "file_extension": ".py",
   "mimetype": "text/x-python",
   "name": "python",
   "nbconvert_exporter": "python",
   "pygments_lexer": "ipython3",
   "version": "3.9.7"
  }
 },
 "nbformat": 4,
 "nbformat_minor": 5
}
