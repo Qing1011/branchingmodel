{
 "cells": [
  {
   "cell_type": "code",
   "execution_count": 1,
   "id": "e8a0e2dd",
   "metadata": {},
   "outputs": [],
   "source": [
    "import torch\n",
    "from torch_geometric.data import Data\n",
    "import numpy as np\n",
    "import networkx as nx\n",
    "from torch_geometric.nn import MessagePassing\n",
    "from torch_geometric.utils import add_self_loops, degree\n",
    "import matplotlib.pyplot as plt\n",
    "import scipy.special as SS\n",
    "import pandas as pd\n",
    "import scipy.stats as SSA"
   ]
  },
  {
   "cell_type": "code",
   "execution_count": 20,
   "id": "2281b28b",
   "metadata": {},
   "outputs": [],
   "source": [
    "def superspreading_T_Loc_real(T, num_fips, initials, nbi_para, pop, paras, file_path, rand_seed):\n",
    "    # initialise\n",
    "    ### initials is a list of location and seed\n",
    "    Z, Zb, D, Db = paras\n",
    "#     l0, i0 = initials\n",
    "    r, P_ts = nbi_para\n",
    "    child_seeds = rand_seed.spawn(T)\n",
    "\n",
    "    NewInf = np.zeros((num_fips, T))\n",
    "    TotInf = np.zeros((num_fips, T))\n",
    "    \n",
    "    for l0,i0 in initials:\n",
    "        NewInf[l0, 0] = i0\n",
    "        TotInf[:, 0] = NewInf[:, 0]\n",
    "    for ti in range(T):\n",
    "#         print('the current simulating time', ti)\n",
    "        p_ti = P_ts.iloc[ti].values[1:]\n",
    "        date_parts = P_ts.iloc[ti]['Date'].split('-')\n",
    "        y, m, d = date_parts\n",
    "#         WN = np.load(file_path+'M_{}{}_{}.csv')\n",
    "        #################Mobility#######################\n",
    "        M_test = np.loadtxt(file_path+'M_{}{}_{}.csv'.format(y,m,d),delimiter=',')\n",
    "        M_pop = M_test/pop_sorted[None,:]\n",
    "        #if there is no one go out from one site\n",
    "        temp = np.sum(M_pop,axis=0)\n",
    "        if np.sum(temp == 0) == 0:\n",
    "            M_pop_norm = M_pop/temp[None,:]\n",
    "        else:\n",
    "#             print('there is no one go out from one site')\n",
    "            temp[temp == 0]=1\n",
    "            M_pop_norm = M_pop/temp[None,:]\n",
    "            M_pop_norm[:,temp == 0] = 0\n",
    "#         WN_small = M_pop_norm[:100,:100]\n",
    "        WN = M_pop_norm #WN_small/np.sum(WN_small,axis=0)[None,:]\n",
    "        ########################################\n",
    "        infectors = np.int64(NewInf[:, ti])\n",
    "        pop_immu = 1-TotInf[:, ti]/pop[:]\n",
    "        pop_immu[pop_immu < 0] = 0\n",
    "        \n",
    "        rng = np.random.default_rng(child_seeds[ti])\n",
    "        totoal_new_infection_loc = []\n",
    "        total_new = 0\n",
    "        for i in range(num_fips):\n",
    "            infectors_loc_i = infectors[i]\n",
    "            if infectors_loc_i>0:\n",
    "#                 print(i,infectors_loc_i)\n",
    "                xx = np.arange(0, 100, 1)  # define the range of x values the\n",
    "                p = p_ti[i]\n",
    "                pmf = SSA.nbinom.pmf(xx, r, p)\n",
    "                weights_n = pmf/np.sum(pmf)\n",
    "                ttt = np.random.choice(len(weights_n), size=infectors_loc_i, p=weights_n) #np.array([2]*infectors_loc_i) # #rng\n",
    "                new_array = np.round(ttt*pop_immu[i])\n",
    "                if len(new_array)>0:\n",
    "#                     print(ttt)\n",
    "                    new_s = np.int64(np.sum(new_array))\n",
    "\n",
    "                    totoal_new_infection_loc.extend([i]*new_s)\n",
    "                    total_new = total_new + new_s\n",
    "        # to be assigned, every new infections for the infector\n",
    "#         total_new = np.round(tt*immu_all)\n",
    "#         totoal_new_infection_loc = get_new_infections_position(\n",
    "#             infectors, total_new, num_fips)\n",
    "        z_num = np.int64(total_new)\n",
    "        \n",
    "        NF = np.zeros((2, z_num), dtype=np.int64)\n",
    "        # for the time distribution\n",
    "        latency_p = SSA.gamma.rvs(a=Z, scale=Zb, size=z_num, random_state=rng)\n",
    "        infectious_p = SSA.gamma.rvs(\n",
    "            a=D, scale=Db, size=z_num, random_state=rng)\n",
    "        v = rng.random(z_num)\n",
    "        delay_days = latency_p+v*infectious_p #latency_p+v*infectious_p  # 3+5*0.5\n",
    "\n",
    "        NF[0, :] = np.ceil(delay_days+ti)  # make it idx int\n",
    "        # for the location distribution\n",
    "        NF[1, :] = totoal_new_infection_loc\n",
    "        df = pd.DataFrame(NF.T, columns=['time', 'o_l'])\n",
    "        l_list = np.arange(num_fips)\n",
    "        df['d_l'] = df['o_l'].apply(lambda x: rng.choice(l_list, size=1, p=WN[:, x])[0]) #np.random\n",
    "        df = df[df['time'] <= (T-1)]\n",
    "        NF_ii = np.array(df)\n",
    "        for (t, o, d) in NF_ii:\n",
    "            NewInf[d, t] = NewInf[d, t]+1\n",
    "        TotInf = np.cumsum(NewInf, axis=1)\n",
    "\n",
    "    return NewInf, TotInf"
   ]
  },
  {
   "cell_type": "code",
   "execution_count": 3,
   "id": "3a9b9acc",
   "metadata": {},
   "outputs": [],
   "source": [
    "R0_ts = pd.read_csv('df_EpiEstim_R_median.csv',index_col='Date')\n",
    "R0_ts.fillna(0, inplace=True)\n",
    "pop_sorted = np.loadtxt('pop_sorted.csv')\n",
    "N = pop_sorted.shape[0]"
   ]
  },
  {
   "cell_type": "code",
   "execution_count": 4,
   "id": "52a79335",
   "metadata": {},
   "outputs": [],
   "source": [
    "file_path = '/Users/qingyao/Documents/branching_data/real_data/' ##M_202003_10.csv"
   ]
  },
  {
   "cell_type": "code",
   "execution_count": 5,
   "id": "c015bec1",
   "metadata": {},
   "outputs": [],
   "source": [
    "Z = 3  # latent period\n",
    "Zb = 1  # scale parameter for Z\n",
    "D = 5  # infectious period\n",
    "Db = 1  # scale parameter for b"
   ]
  },
  {
   "cell_type": "code",
   "execution_count": 18,
   "id": "63f85071",
   "metadata": {},
   "outputs": [
    {
     "data": {
      "text/plain": [
       "(3108, 60)"
      ]
     },
     "execution_count": 18,
     "metadata": {},
     "output_type": "execute_result"
    }
   ],
   "source": [
    "E_NewInf_i.shape"
   ]
  },
  {
   "cell_type": "code",
   "execution_count": 21,
   "id": "b02476ea",
   "metadata": {},
   "outputs": [],
   "source": [
    "my_seeds = [(1824, 10),(2935, 50),(175,30),(576,10)]"
   ]
  },
  {
   "cell_type": "code",
   "execution_count": null,
   "id": "c37449a5",
   "metadata": {},
   "outputs": [
    {
     "name": "stdout",
     "output_type": "stream",
     "text": [
      "0.025\n",
      "0.05\n",
      "0.1\n",
      "0.2\n",
      "0.5\n"
     ]
    }
   ],
   "source": [
    "T = 60\n",
    "M_E_NewInf = np.zeros((6, 3108, 60))\n",
    "rs = [0.025,0.05,0.1,0.2,0.5,1]\n",
    "for r_idx in range(len(rs)):\n",
    "    r = rs[r_idx]\n",
    "    print(r)\n",
    "    P_ts = pd.DataFrame()\n",
    "    P_ts.index = R0_ts.index\n",
    "    df_to_add = R0_ts[R0_ts.columns.values].apply(lambda x: r/(x+r))\n",
    "    P_ts = pd.concat([P_ts, df_to_add], axis=1)\n",
    "    P_ts_s = P_ts.iloc[22:100,:]\n",
    "    P_ts_s = P_ts_s.reset_index().rename(columns={'index': 'Date'})\n",
    "    ss = np.random.SeedSequence(300)\n",
    "    E_NewInf_i, E_TotInf_i = superspreading_T_Loc_real(T, N, my_seeds, (r, P_ts_s), pop_sorted, (Z, Zb, D, Db), file_path, ss)\n",
    "    M_E_NewInf[r_idx,:,:] = E_NewInf_i\n",
    "# E_NewInf_i"
   ]
  },
  {
   "cell_type": "code",
   "execution_count": null,
   "id": "bf8e0e9a",
   "metadata": {},
   "outputs": [],
   "source": [
    "def count_num_counties(E_NewInf_i, pop_sorted, th):\n",
    "    estimated_infec_perpop = E_NewInf_i/pop_sorted[:,None]*100000\n",
    "    county_real = np.sum(estimated_infec_perpop>th,axis=0)\n",
    "    return county_real"
   ]
  },
  {
   "cell_type": "code",
   "execution_count": 14,
   "id": "288dae5b",
   "metadata": {},
   "outputs": [],
   "source": [
    "M_counties = np.zeros((6, 60))\n",
    "for r_idx in range(len(rs)):\n",
    "    NewInf_i = M_E_NewInf[r_idx,:,:]\n",
    "    M_counties[r_idx,:] = county_num_counties(NewInf_i, pop_sorted, 5)"
   ]
  },
  {
   "cell_type": "code",
   "execution_count": 15,
   "id": "def81987",
   "metadata": {},
   "outputs": [],
   "source": [
    "df_num_counties = pd.DataFrame(M_counties)\n",
    "df_num_counties['Date'] = pd.date_range('2020-02-21',periods=60)\n",
    "df_num_counties.set_index('Date',inplace=True)\n",
    "df_num_counties.rename(columns={0:th},inplace=True)"
   ]
  },
  {
   "cell_type": "code",
   "execution_count": 16,
   "id": "16ea8710",
   "metadata": {},
   "outputs": [],
   "source": [
    "# estimated_infec_perpop = E_NewInf_i/pop_sorted[:,None]*100000\n",
    "# county_real10 = np.sum(estimated_infec_perpop>10,axis=0)\n",
    "# df_num_counties10 = pd.DataFrame(county_real10)\n",
    "# df_num_counties10['Date'] = pd.date_range('2020-02-21',periods=60)\n",
    "# df_num_counties10.set_index('Date',inplace=True)\n",
    "# df_num_counties10.rename(columns={0:'10'},inplace=True)"
   ]
  },
  {
   "cell_type": "code",
   "execution_count": 17,
   "id": "2427d532",
   "metadata": {},
   "outputs": [
    {
     "data": {
      "text/plain": [
       "Text(0, 0.5, 'counties with daily infections per 100000>5')"
      ]
     },
     "execution_count": 17,
     "metadata": {},
     "output_type": "execute_result"
    },
    {
     "data": {
      "image/png": "[encoded data removed]",
      "text/plain": [
       "<Figure size 1200x400 with 1 Axes>"
      ]
     },
     "metadata": {},
     "output_type": "display_data"
    }
   ],
   "source": [
    "fig, ax = plt.subplots(1,1, figsize=(12, 4))\n",
    "\n",
    "# plt.plot(county_ode,label='metapopulation',color='red')\n",
    "df_num_counties.plot(ax=ax)\n",
    "# df_num_counties10.plot(ax=ax)\n",
    "\n",
    "plt.legend()\n",
    "plt.xlabel('day')\n",
    "plt.ylabel('counties with daily infections per 100000>5')\n",
    "# plt.xlim(0,60)"
   ]
  },
  {
   "cell_type": "code",
   "execution_count": null,
   "id": "e47a96f0",
   "metadata": {},
   "outputs": [],
   "source": []
  }
 ],
 "metadata": {
  "kernelspec": {
   "display_name": "gnn",
   "language": "python",
   "name": "gnn"
  },
  "language_info": {
   "codemirror_mode": {
    "name": "ipython",
    "version": 3
   },
   "file_extension": ".py",
   "mimetype": "text/x-python",
   "name": "python",
   "nbconvert_exporter": "python",
   "pygments_lexer": "ipython3",
   "version": "3.11.4"
  }
 },
 "nbformat": 4,
 "nbformat_minor": 5
}
