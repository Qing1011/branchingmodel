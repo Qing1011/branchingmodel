{
 "cells": [
  {
   "cell_type": "code",
   "execution_count": 1,
   "id": "2b994e82",
   "metadata": {},
   "outputs": [],
   "source": [
    "import numpy as np\n",
    "import matplotlib.pyplot as plt\n",
    "from scipy.io import loadmat, savemat\n",
    "import pandas as pd\n",
    "import scipy.special as SS\n",
    "import scipy.stats as SSA\n",
    "import copy\n",
    "import random\n",
    "import math\n",
    "# from numba import njit"
   ]
  },
  {
   "cell_type": "code",
   "execution_count": 64,
   "id": "47f36ebd",
   "metadata": {},
   "outputs": [],
   "source": [
    "WN = np.loadtxt('W_avg.csv') ### not symmetric!! travel out is added up tp zero, travel in is not add to zero\n",
    "Cave = np.loadtxt('Cave.csv')\n",
    "pop = np.loadtxt('pop_new.csv')"
   ]
  },
  {
   "cell_type": "code",
   "execution_count": 44,
   "id": "39b169ed",
   "metadata": {},
   "outputs": [],
   "source": [
    "equal = []\n",
    "for i in range(num_fips):\n",
    "    equal.append((np.sum(Cave[i,:]) - pop[i])/pop[i])"
   ]
  },
  {
   "cell_type": "code",
   "execution_count": 46,
   "id": "d66547c2",
   "metadata": {},
   "outputs": [
    {
     "data": {
      "text/plain": [
       "(array([8.10032674e-03, 1.90357678e-01, 1.16644705e+00, 5.74313166e+00,\n",
       "        5.32596483e+00, 2.34909475e-01, 3.64514703e-02, 8.10032674e-03,\n",
       "        4.05016337e-03, 8.10032674e-03]),\n",
       " array([-0.3349975 , -0.25641583, -0.17783416, -0.09925248, -0.02067081,\n",
       "         0.05791087,  0.13649254,  0.21507422,  0.29365589,  0.37223757,\n",
       "         0.45081924]),\n",
       " <BarContainer object of 10 artists>)"
      ]
     },
     "execution_count": 46,
     "metadata": {},
     "output_type": "execute_result"
    },
    {
     "data": {
      "image/png": "[encoded data removed]",
      "text/plain": [
       "<Figure size 640x480 with 1 Axes>"
      ]
     },
     "metadata": {},
     "output_type": "display_data"
    }
   ],
   "source": [
    "plt.hist(equal,density=True)"
   ]
  },
  {
   "cell_type": "code",
   "execution_count": 51,
   "id": "7faa897b",
   "metadata": {},
   "outputs": [],
   "source": [
    "## assign all the nonequal number to the dignal\n",
    "Cave_new = copy.deepcopy(Cave)\n",
    "for i in range(num_fips):\n",
    "    Cave_new[i,i]+= pop[i] - np.sum(Cave[i,:])"
   ]
  },
  {
   "cell_type": "code",
   "execution_count": 53,
   "id": "dd296922",
   "metadata": {},
   "outputs": [],
   "source": [
    "MS = Cave_new/pop[:,None]"
   ]
  },
  {
   "cell_type": "code",
   "execution_count": 3,
   "id": "5364a736",
   "metadata": {},
   "outputs": [],
   "source": [
    "num_fips = len(pop)\n",
    "T = 60\n",
    "num_ens = 300\n",
    "Z = 3 # latent period\n",
    "Zb = 1 # scale parameter for Z\n",
    "D = 5 # infectious period\n",
    "Db = 1 # scale parameter for b\n",
    "alpha = 0.1 # reporting rate 10%"
   ]
  },
  {
   "cell_type": "code",
   "execution_count": 4,
   "id": "17e3966a",
   "metadata": {},
   "outputs": [],
   "source": [
    "# seeding\n",
    "l0 = 1859-1 # start with New York County NY in python -1, in matlab is 1859\n",
    "i0 = 100 ## the starting t=0, in matlab it is 1\n",
    "initials = (l0,i0)"
   ]
  },
  {
   "cell_type": "code",
   "execution_count": 5,
   "id": "2f212b12",
   "metadata": {},
   "outputs": [],
   "source": [
    "R0=2.5"
   ]
  },
  {
   "cell_type": "code",
   "execution_count": 67,
   "id": "f04645ca",
   "metadata": {},
   "outputs": [],
   "source": [
    "def SEIR_M(params, pop, initials, M, T, dt=1):\n",
    "    \"\"\"\n",
    "    SEIR model with migration\n",
    "    :param params: list of parameters [R0, Z, D]\n",
    "    :param pop: population size of each location\n",
    "    :param initials: list of initial values [start_pos, E0]\n",
    "    :param M: migration matrix\n",
    "    :param T: number of time steps\n",
    "    :param dt: time step size\n",
    "    \"\"\"\n",
    "    # Parameters\n",
    "    R0 = params[0]\n",
    "    Z = params[1]\n",
    "    D = params[2]\n",
    "\n",
    "    start_pos, E0 = initials\n",
    "    N = len(pop)  # number of locations\n",
    "    # initialize\n",
    "    NewInf = np.zeros((N, T))\n",
    "    NewInf[start_pos, 0] = E0\n",
    "    x = np.zeros((N, 3))  # S, E, I for three populations\n",
    "    x[:,0] = pop\n",
    "    x[start_pos, 0] = pop[start_pos] - E0  # Susceptibles\n",
    "    x[start_pos, 1] = E0  # Exposed\n",
    "    \n",
    "    def state_M(states):\n",
    "        state_outflow = (np.sum(M,axis=0)-np.diag(M))*states  ### sum up the prob and then sum the value\n",
    "        state_in_w = np.zeros_like(M)\n",
    "        for j in range(N):\n",
    "            state_in_w[:,j] = M[:,j]*(states[j])\n",
    "        np.fill_diagonal(state_in_w,0)\n",
    "        state_inflow = np.sum(state_in_w,axis=1)\n",
    "        return state_outflow, state_inflow\n",
    "    \n",
    "    for t in range(1, T):  # Starting from 1 because we already initialized NewInf at time 0\n",
    "        print(t)\n",
    "        for _ in range(int(1 / dt)): \n",
    "#             x_new = x.copy()\n",
    "            ds = R0 / D * x[:, 0] * x[:, 2] / pop \n",
    "#             print(infection[infection!=0])\n",
    "#             NewInf[:, t] += infection\n",
    "            NewInf[:,t] = ds #x[:, 1]/Z #ds\n",
    "            de = x[:, 1]/Z\n",
    "            di = x[:, 2]/D\n",
    "            \n",
    "            x[:, 0] += -ds*dt\n",
    "            x[:, 1] += ds*dt - de*dt\n",
    "            x[:, 2] += de*dt - di*dt\n",
    "            ## then travel\n",
    "        S = x[:, 0]\n",
    "        E = x[:, 1]\n",
    "        I = x[:, 2]\n",
    "        s_moveout,s_movein = state_M(S)\n",
    "        e_moveout,e_movein = state_M(E)\n",
    "        i_moveout,i_movein = state_M(I)\n",
    "        x[:, 0] = x[:, 0] - s_moveout + s_movein \n",
    "        x[:, 1] = x[:, 1] - e_moveout + e_movein \n",
    "        x[:, 2] = x[:, 2] - i_moveout + i_movein \n",
    "    return NewInf"
   ]
  },
  {
   "cell_type": "code",
   "execution_count": 30,
   "id": "789c3d34",
   "metadata": {},
   "outputs": [],
   "source": [
    "def SEIR_M(params, pop, initials, M, T, dt=1):\n",
    "    \"\"\"\n",
    "    SEIR model with migration\n",
    "    :param params: list of parameters [R0, Z, D]\n",
    "    :param pop: population size of each location\n",
    "    :param initials: list of initial values [start_pos, E0]\n",
    "    :param M: migration matrix\n",
    "    :param T: number of time steps\n",
    "    :param dt: time step size\n",
    "    \"\"\"\n",
    "    # Parameters\n",
    "    R0 = params[0]\n",
    "    Z = params[1]\n",
    "    D = params[2]\n",
    "    beta = R0/D\n",
    "    sigma = 1/Z\n",
    "    gamma = 1/D\n",
    "\n",
    "    start_pos, E0 = initials\n",
    "    N = len(pop)  # number of locations\n",
    "    # initialize\n",
    "    NewInf = np.zeros((N,T))\n",
    "    NewInf[start_pos,0] = E0\n",
    "    S = np.zeros((T, N))\n",
    "    E = np.zeros((T, N))\n",
    "    I = np.zeros((T, N))\n",
    "    R = np.zeros((T, N))\n",
    "    \n",
    "    # Set initial conditions\n",
    "    S[0] = pop \n",
    "    S[0,start_pos] = pop[start_pos] - E0\n",
    "    E[0,start_pos] = E0\n",
    "  \n",
    "    for t in range(T-1):\n",
    "        for p in range(N):\n",
    "            # Compute migration for S, E, I, R\n",
    "            migration_S = np.sum(M[p, :] * S[t, :]) - np.sum(M[:, p] * S[t, p])\n",
    "            migration_E = np.sum(M[p, :] * E[t, :]) - np.sum(M[:, p] * E[t, p])\n",
    "            migration_I = np.sum(M[p, :] * I[t, :]) - np.sum(M[:, p] * I[t, p])\n",
    "#             migration_R = np.sum(M[p, :] * R[t, :]) - np.sum(M[:, p] * R[t, p])\n",
    "\n",
    "            # Compute new S, E, I, R\n",
    "            S[t+1, p] = S[t, p] + dt * (migration_S - beta * S[t, p] * I[t, p] / pop[p])\n",
    "            E[t+1, p] = E[t, p] + dt * (migration_E + beta * S[t, p] * I[t, p] - sigma * E[t, p])\n",
    "            I[t+1, p] = I[t, p] + dt * (migration_I + sigma * E[t, p] - gamma * I[t, p])\n",
    "#             R[t+1, p] = R[t, p] + dt * (migration_R + gamma * I[t, p])\n",
    "        \n",
    "        NewInf[:,t+1] = beta * S[t,:] * I[t,:] / pop[p]\n",
    "        print(np.where(NewInf[:,t+1]!=0))\n",
    "        print(NewInf[:,t+1][NewInf[:,t+1]!=0])\n",
    "\n",
    "    return S,E,I, NewInf"
   ]
  },
  {
   "cell_type": "code",
   "execution_count": 7,
   "id": "1cfa4bb8",
   "metadata": {},
   "outputs": [],
   "source": [
    "%run ../codes/SEIR_M.py"
   ]
  },
  {
   "cell_type": "code",
   "execution_count": 68,
   "id": "3143c0d2",
   "metadata": {},
   "outputs": [
    {
     "name": "stdout",
     "output_type": "stream",
     "text": [
      "1\n",
      "2\n",
      "3\n",
      "4\n",
      "5\n",
      "6\n",
      "7\n",
      "8\n",
      "9\n",
      "10\n",
      "11\n",
      "12\n",
      "13\n",
      "14\n",
      "15\n",
      "16\n",
      "17\n",
      "18\n",
      "19\n",
      "20\n",
      "21\n",
      "22\n",
      "23\n",
      "24\n",
      "25\n",
      "26\n",
      "27\n",
      "28\n",
      "29\n"
     ]
    },
    {
     "name": "stderr",
     "output_type": "stream",
     "text": [
      "/var/folders/vx/g_l159t12yb63094n730n4pm0000gn/T/ipykernel_55747/672884456.py:39: RuntimeWarning: overflow encountered in multiply\n",
      "  ds = R0 / D * x[:, 0] * x[:, 2] / pop\n",
      "/var/folders/vx/g_l159t12yb63094n730n4pm0000gn/T/ipykernel_55747/672884456.py:30: RuntimeWarning: invalid value encountered in multiply\n",
      "  state_in_w[:,j] = M[:,j]*(states[j])\n",
      "/var/folders/vx/g_l159t12yb63094n730n4pm0000gn/T/ipykernel_55747/672884456.py:56: RuntimeWarning: invalid value encountered in subtract\n",
      "  x[:, 0] = x[:, 0] - s_moveout + s_movein\n",
      "/var/folders/vx/g_l159t12yb63094n730n4pm0000gn/T/ipykernel_55747/672884456.py:57: RuntimeWarning: invalid value encountered in subtract\n",
      "  x[:, 1] = x[:, 1] - e_moveout + e_movein\n"
     ]
    },
    {
     "name": "stdout",
     "output_type": "stream",
     "text": [
      "30\n",
      "31\n",
      "32\n",
      "33\n",
      "34\n",
      "35\n",
      "36\n",
      "37\n",
      "38\n",
      "39\n",
      "40\n",
      "41\n",
      "42\n",
      "43\n",
      "44\n",
      "45\n",
      "46\n",
      "47\n",
      "48\n",
      "49\n",
      "50\n",
      "51\n",
      "52\n",
      "53\n",
      "54\n",
      "55\n",
      "56\n",
      "57\n",
      "58\n",
      "59\n"
     ]
    }
   ],
   "source": [
    "# S,E,I,NewInf = SEIR_M(params=[2.5,3,5], pop=pop, initials=[1859-1,100], M=WN, T=60, dt=1)\n",
    "NewInf = SEIR_M(params=[2.5,3,5], pop=pop, initials=[1859-1,100], M=MS, T=60, dt=1)"
   ]
  },
  {
   "cell_type": "code",
   "execution_count": 72,
   "id": "78adc8c0",
   "metadata": {},
   "outputs": [
    {
     "data": {
      "text/plain": [
       "array([ 5.06842129e+032,  4.44403400e+061, -3.32954049e+108,\n",
       "        2.18719314e+184,              inf])"
      ]
     },
     "execution_count": 72,
     "metadata": {},
     "output_type": "execute_result"
    }
   ],
   "source": [
    "NewInf[1858,25:30]"
   ]
  },
  {
   "cell_type": "code",
   "execution_count": 10,
   "id": "9168639f",
   "metadata": {},
   "outputs": [],
   "source": [
    "np.savetxt('metapop_R025.csv',NewInf)"
   ]
  },
  {
   "cell_type": "code",
   "execution_count": 60,
   "id": "93078382",
   "metadata": {},
   "outputs": [],
   "source": [
    "infec_perpop = NewInf/pop[:,None]*100000"
   ]
  },
  {
   "cell_type": "code",
   "execution_count": 61,
   "id": "676b5c72",
   "metadata": {},
   "outputs": [
    {
     "data": {
      "text/plain": [
       "[<matplotlib.lines.Line2D at 0x28a863e50>]"
      ]
     },
     "execution_count": 61,
     "metadata": {},
     "output_type": "execute_result"
    },
    {
     "data": {
      "image/png": "[encoded data removed]",
      "text/plain": [
       "<Figure size 640x480 with 1 Axes>"
      ]
     },
     "metadata": {},
     "output_type": "display_data"
    }
   ],
   "source": [
    "plt.plot(np.sum(infec_perpop>10,axis=0))"
   ]
  },
  {
   "cell_type": "code",
   "execution_count": 56,
   "id": "8424fb52",
   "metadata": {},
   "outputs": [
    {
     "data": {
      "text/plain": [
       "87"
      ]
     },
     "execution_count": 56,
     "metadata": {},
     "output_type": "execute_result"
    }
   ],
   "source": [
    "np.sum(infec_perpop>10,axis=0)[-1]"
   ]
  },
  {
   "cell_type": "code",
   "execution_count": 62,
   "id": "8bad68de",
   "metadata": {},
   "outputs": [],
   "source": [
    "import numpy as np\n",
    "\n",
    "def seir_model_no_ode(N, beta, gamma, sigma, E0, I0, R0, T):\n",
    "    S = N - E0 - I0 - R0\n",
    "    E, I, R = E0, I0, R0\n",
    "\n",
    "    S_list, E_list, I_list, R_list = [S], [E], [I], [R]\n",
    "    new_inf_list = [0]\n",
    "    dt = 1.0\n",
    "    for _ in range(T):\n",
    "        new_inf = beta * S * I / N\n",
    "        \n",
    "        dS = -beta * S * I / N\n",
    "        dE = beta * S * I / N - sigma * E\n",
    "        dI = sigma * E - gamma * I\n",
    "        dR = gamma * I\n",
    "\n",
    "        S += dS * dt\n",
    "        E += dE * dt\n",
    "        I += dI * dt\n",
    "        R += dR * dt\n",
    "\n",
    "        S_list.append(S)\n",
    "        E_list.append(E)\n",
    "        I_list.append(I)\n",
    "        R_list.append(R)\n",
    "        new_inf_list.append(new_inf)\n",
    "\n",
    "    return np.stack([S_list, E_list, I_list,R_list, new_inf_list]) #R_list\n",
    "\n",
    "# Parameters\n",
    "N = 1628706 #1000  # Population size\n",
    "E0, I0, R0 = 100, 0, 0  # Initial conditions\n",
    "beta = 0.5  # Infection rate\n",
    "gamma = 1/5  # Recovery rate\n",
    "sigma = 1/3  # Rate at which an exposed person becomes infective\n",
    "T = 60  # Number of time steps\n",
    "\n",
    "# Run the model\n",
    "results = seir_model_no_ode(N, beta, gamma, sigma, E0, I0, R0, T)\n",
    "\n",
    "# Print results\n",
    "# print(results)\n"
   ]
  },
  {
   "cell_type": "code",
   "execution_count": 63,
   "id": "37b9cc9f",
   "metadata": {},
   "outputs": [
    {
     "data": {
      "text/plain": [
       "<matplotlib.legend.Legend at 0x29820b410>"
      ]
     },
     "execution_count": 63,
     "metadata": {},
     "output_type": "execute_result"
    },
    {
     "data": {
      "image/png": "[encoded data removed]",
      "text/plain": [
       "<Figure size 640x480 with 1 Axes>"
      ]
     },
     "metadata": {},
     "output_type": "display_data"
    }
   ],
   "source": [
    "plt.plot(results[4],label='no mobility')\n",
    "plt.plot(NewInf[1858],label='with M')\n",
    "plt.legend()"
   ]
  },
  {
   "cell_type": "code",
   "execution_count": 114,
   "id": "6f21781c",
   "metadata": {},
   "outputs": [
    {
     "data": {
      "text/plain": [
       "array([0.00000000e+00, 0.00000000e+00, 1.66656434e+01, 2.77757880e+01,\n",
       "       3.79594257e+01, 4.93765698e+01, 6.33125318e+01, 8.08292858e+01,\n",
       "       1.03053824e+02, 1.31332984e+02, 1.67347192e+02, 2.13222435e+02,\n",
       "       2.71659694e+02, 3.46094166e+02, 4.40895110e+02, 5.61617974e+02,\n",
       "       7.15322522e+02, 9.10973505e+02, 1.15994372e+03, 1.47664301e+03,\n",
       "       1.87930027e+03, 2.39092868e+03, 3.04050522e+03, 3.86439278e+03,\n",
       "       4.90802310e+03, 6.22783540e+03, 7.89342108e+03, 9.98974494e+03,\n",
       "       1.26191796e+04, 1.59028753e+04, 1.99806595e+04, 2.50081854e+04,\n",
       "       3.11494093e+04, 3.85617020e+04, 4.73701516e+04, 5.76272824e+04,\n",
       "       6.92553009e+04, 8.19714166e+04, 9.52045356e+04, 1.08025098e+05,\n",
       "       1.19127945e+05, 1.26923647e+05, 1.29790106e+05, 1.26490314e+05,\n",
       "       1.16663104e+05, 1.01176079e+05, 8.20913825e+04, 6.21378862e+04,\n",
       "       4.38798248e+04, 2.90002093e+04, 1.80465306e+04, 1.06603983e+04,\n",
       "       6.03245414e+03, 3.29961047e+03, 1.75870279e+03, 9.19642892e+02,\n",
       "       4.74309114e+02, 2.42254970e+02, 1.22895645e+02, 6.20540107e+01,\n",
       "       3.12331770e+01])"
      ]
     },
     "execution_count": 114,
     "metadata": {},
     "output_type": "execute_result"
    }
   ],
   "source": [
    "results[3]"
   ]
  },
  {
   "cell_type": "code",
   "execution_count": null,
   "id": "3eb76205",
   "metadata": {},
   "outputs": [],
   "source": []
  }
 ],
 "metadata": {
  "kernelspec": {
   "display_name": "geo",
   "language": "python",
   "name": "geo"
  },
  "language_info": {
   "codemirror_mode": {
    "name": "ipython",
    "version": 3
   },
   "file_extension": ".py",
   "mimetype": "text/x-python",
   "name": "python",
   "nbconvert_exporter": "python",
   "pygments_lexer": "ipython3",
   "version": "3.11.3"
  }
 },
 "nbformat": 4,
 "nbformat_minor": 5
}
