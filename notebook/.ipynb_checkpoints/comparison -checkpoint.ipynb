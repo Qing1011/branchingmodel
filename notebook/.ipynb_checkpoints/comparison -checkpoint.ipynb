{
 "cells": [
  {
   "cell_type": "code",
   "execution_count": 1,
   "id": "f666e636",
   "metadata": {},
   "outputs": [],
   "source": [
    "import numpy as np\n",
    "import matplotlib.pyplot as plt\n",
    "from scipy.io import loadmat, savemat\n",
    "import pandas as pd\n",
    "import scipy.special as SS\n",
    "import scipy.stats as SSA\n",
    "import copy\n",
    "import random\n",
    "import math\n",
    "from sklearn.model_selection import ParameterGrid\n",
    "import os\n",
    "import numpy.linalg as LA"
   ]
  },
  {
   "cell_type": "code",
   "execution_count": 2,
   "id": "53c2c9de",
   "metadata": {},
   "outputs": [],
   "source": [
    "E_NewInf5 =  np.load('NewInf_r_0.01.npy')\n",
    "E_NewInf6 =  np.load('NewInf_r_0.03162278.npy')\n",
    "E_NewInf7 =  np.load('NewInf_r_0.02.npy')\n",
    "E_NewInf8 =  np.load('NewInf_r_0.05.npy')"
   ]
  },
  {
   "cell_type": "code",
   "execution_count": 3,
   "id": "c39fda7b",
   "metadata": {},
   "outputs": [],
   "source": [
    "## generate a ts of non-negative binomial distribution to check any possible mutual information in time"
   ]
  },
  {
   "cell_type": "code",
   "execution_count": 77,
   "id": "57c2a3e3",
   "metadata": {},
   "outputs": [],
   "source": [
    "r = 0.05\n",
    "R0 = 2.5\n",
    "x_cutoff = 100\n",
    "p = r/(R0+r)\n",
    "weights = np.zeros(x_cutoff)\n",
    "for i in range(x_cutoff):\n",
    "    temp1=SS.gamma(r+i)/SS.gamma(r)/SS.gamma((i+1))*np.power(p,r)*np.power((1-p),i)\n",
    "    weights[i] = temp1\n",
    "weights_n = weights/np.sum(weights)"
   ]
  },
  {
   "cell_type": "code",
   "execution_count": 10,
   "id": "3ce679ea",
   "metadata": {},
   "outputs": [],
   "source": [
    "# pop = 100000\n",
    "Z = 3 # latent period\n",
    "Zb = 1 # scale parameter for Z\n",
    "D = 5 # infectious period\n",
    "Db = 1 # scale parameter for b"
   ]
  },
  {
   "cell_type": "code",
   "execution_count": 78,
   "id": "f02654e0",
   "metadata": {},
   "outputs": [],
   "source": [
    "T = 60\n",
    "num_ens = 1000\n",
    "E = np.zeros((num_ens,10*T))\n",
    "# Tot_E = np.zeros((10,T*10))"
   ]
  },
  {
   "cell_type": "code",
   "execution_count": 79,
   "id": "d5e57843",
   "metadata": {},
   "outputs": [],
   "source": [
    "E[:,0] = 100\n",
    "# Tot_E[:0] = E[:,0]\n",
    "for en_i in range(num_ens):\n",
    "# en_i = 0\n",
    "    for t in range(T):\n",
    "        infector_i = E[en_i,t]\n",
    "        new_inf = np.random.choice(len(weights_n), size = int(infector_i) , p=weights_n)\n",
    "        z_num = np.sum(new_inf)\n",
    "    #     print(z_num)\n",
    "        latency_p = SSA.gamma.rvs(a = Z,scale=Zb,size = z_num)\n",
    "        infectious_p = SSA.gamma.rvs(a = D,scale=Db,size = z_num)\n",
    "        v = np.random.random_sample(z_num)\n",
    "        delay_days = latency_p+v*infectious_p  #3+5*0.5\n",
    "        day_idx = np.ceil(delay_days+t) \n",
    "        day_idx = np.int64(day_idx.tolist())\n",
    "        for new_i in range(z_num):\n",
    "            d_i = day_idx[new_i]\n",
    "    #     print(day_idx)\n",
    "            E[en_i,d_i] = E[en_i,d_i] +1"
   ]
  },
  {
   "cell_type": "code",
   "execution_count": 93,
   "id": "dbfd2a4f",
   "metadata": {},
   "outputs": [
    {
     "data": {
      "text/plain": [
       "<matplotlib.legend.Legend at 0x7f7a28800790>"
      ]
     },
     "execution_count": 93,
     "metadata": {},
     "output_type": "execute_result"
    },
    {
     "data": {
      "image/png": "[encoded data removed]",
      "text/plain": [
       "<Figure size 432x288 with 1 Axes>"
      ]
     },
     "metadata": {
      "needs_background": "light"
     },
     "output_type": "display_data"
    }
   ],
   "source": [
    "plt.plot(np.mean(E[:,1:60],axis=0),label='r=0.05')\n",
    "plt.plot(np.mean(E_poisson[:,1:60],axis=0),label='Poisson')\n",
    "plt.legend()"
   ]
  },
  {
   "cell_type": "code",
   "execution_count": 90,
   "id": "ad0f2f1f",
   "metadata": {},
   "outputs": [],
   "source": [
    "weights_p = np.zeros(x_cutoff)\n",
    "for i in range(x_cutoff):\n",
    "    temp1=SSA.poisson.pmf(i,R0)\n",
    "    weights_p[i] = temp1\n",
    "weights_p_n = weights_p/np.sum(weights_p)"
   ]
  },
  {
   "cell_type": "code",
   "execution_count": 91,
   "id": "af1b9b7f",
   "metadata": {},
   "outputs": [],
   "source": [
    "T = 60\n",
    "num_ens = 1000\n",
    "E_poisson = np.zeros((num_ens,10*T))"
   ]
  },
  {
   "cell_type": "code",
   "execution_count": 92,
   "id": "554fd1e4",
   "metadata": {},
   "outputs": [],
   "source": [
    "E_poisson[:,0] = 100\n",
    "# Tot_E[:0] = E[:,0]\n",
    "for en_i in range(num_ens):\n",
    "# en_i = 0\n",
    "    for t in range(T):\n",
    "        infector_i = E_poisson[en_i,t]\n",
    "        new_inf = np.random.choice(len(weights_n), size = int(infector_i) , p=weights_p_n)\n",
    "        z_num = np.sum(new_inf)\n",
    "    #     print(z_num)\n",
    "        latency_p = SSA.gamma.rvs(a = Z,scale=Zb,size = z_num)\n",
    "        infectious_p = SSA.gamma.rvs(a = D,scale=Db,size = z_num)\n",
    "        v = np.random.random_sample(z_num)\n",
    "        delay_days = latency_p+v*infectious_p  #3+5*0.5\n",
    "        day_idx = np.ceil(delay_days+t) \n",
    "        day_idx = np.int64(day_idx.tolist())\n",
    "    #     print(day_idx)\n",
    "        for new_i in range(z_num):\n",
    "            d_i = day_idx[new_i]\n",
    "    #     print(day_idx)\n",
    "            E_poisson[en_i,d_i] = E_poisson[en_i,d_i] +1"
   ]
  },
  {
   "cell_type": "code",
   "execution_count": null,
   "id": "b185eb85",
   "metadata": {},
   "outputs": [],
   "source": []
  }
 ],
 "metadata": {
  "kernelspec": {
   "display_name": "Python 3 (ipykernel)",
   "language": "python",
   "name": "python3"
  },
  "language_info": {
   "codemirror_mode": {
    "name": "ipython",
    "version": 3
   },
   "file_extension": ".py",
   "mimetype": "text/x-python",
   "name": "python",
   "nbconvert_exporter": "python",
   "pygments_lexer": "ipython3",
   "version": "3.9.7"
  }
 },
 "nbformat": 4,
 "nbformat_minor": 5
}
