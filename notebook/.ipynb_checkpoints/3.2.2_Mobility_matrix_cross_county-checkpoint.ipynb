{
 "cells": [
  {
   "cell_type": "code",
   "execution_count": 1,
   "id": "8c6ae5a7",
   "metadata": {},
   "outputs": [],
   "source": [
    "import pandas as pd\n",
    "import numpy as np\n",
    "import os\n",
    "import csv\n",
    "import datetime as d\n",
    "from datetime import datetime as D\n",
    "import matplotlib.ticker as ticker\n",
    "import random \n",
    "import time\n",
    "import math\n",
    "import scipy\n",
    "from scipy import stats\n",
    "import gzip\n",
    "import sys\n",
    "import datetime\n",
    "import ast"
   ]
  },
  {
   "cell_type": "code",
   "execution_count": 2,
   "id": "69229689",
   "metadata": {},
   "outputs": [],
   "source": [
    "data_path = '../../../../../../../Volumes/Seagate_Qing/Safegraph_clean/'\n",
    "# save_dir = '../../../../../../../Volumes/Seagate_Qing/Safegraph_clean/'\n",
    "years = ['2020','2021','2022']\n",
    "months = ['01','02','03','04','05','06','07','08','09','10','11','12']\n",
    "#np.save('ym_datesofweek',ym_datesofweek)\n",
    "ym_datesofweek = np.load('../data/ym_datesofweek.npy',allow_pickle=True).item()\n",
    "num_files = np.load('../data/num_files.npy', allow_pickle=True).item()"
   ]
  },
  {
   "cell_type": "code",
   "execution_count": 4,
   "id": "b52f91fa",
   "metadata": {},
   "outputs": [],
   "source": [
    "US_states = pd.read_csv('us-state-ansi-fips.csv')\n",
    "state_lists_0 = US_states.stusps.values\n",
    "state_lists = [s[1:] for s in state_lists_0]\n",
    "state_lists.remove('HI')\n",
    "state_lists.remove('AK') ### remove the non mainland\n",
    "\n",
    "real_data_path = '/Users/qingyao/OneDrive - cumc.columbia.edu/machine_learning_data/'\n",
    "fips_main = pd.read_csv(real_data_path+'county_data/fips_mainland.csv',names=['FIPS'])\n",
    "fips_main_sorted = fips_main.sort_values(by='FIPS')\n",
    "###!!!!!!\n",
    "fips_main_sorted = fips_main_sorted.reset_index(drop=True)\n",
    "fips_main_sorted['poi_idx'] = fips_main_sorted.index"
   ]
  },
  {
   "cell_type": "code",
   "execution_count": 16,
   "id": "f8e8b92b",
   "metadata": {},
   "outputs": [
    {
     "data": {
      "text/plain": [
       "524288000"
      ]
     },
     "execution_count": 16,
     "metadata": {},
     "output_type": "execute_result"
    }
   ],
   "source": [
    "csv.field_size_limit(500 * 1024 * 1024)"
   ]
  },
  {
   "cell_type": "code",
   "execution_count": 5,
   "id": "b6a8e476",
   "metadata": {},
   "outputs": [
    {
     "data": {
      "text/plain": [
       "array(['raw_visit_counts', 'visits_by_day', 'poi_cbg',\n",
       "       'visitor_home_aggregation'], dtype=object)"
      ]
     },
     "execution_count": 5,
     "metadata": {},
     "output_type": "execute_result"
    }
   ],
   "source": [
    "df_header = pd.read_csv('header.csv')\n",
    "df_header.iloc[[32,34,36,38],0].values"
   ]
  },
  {
   "cell_type": "code",
   "execution_count": 17,
   "id": "8b3ad2a4",
   "metadata": {},
   "outputs": [],
   "source": [
    "selected_header = ['raw_visit_counts', 'visits_by_day', 'poi_cbg','visitor_home_aggregation']"
   ]
  },
  {
   "cell_type": "code",
   "execution_count": 18,
   "id": "2772d4ff",
   "metadata": {},
   "outputs": [],
   "source": [
    "%run ../codes/mobility_matrix_extraction.py"
   ]
  },
  {
   "cell_type": "code",
   "execution_count": 19,
   "id": "a551073a",
   "metadata": {},
   "outputs": [
    {
     "data": {
      "text/plain": [
       "['03', '10', '17', '24']"
      ]
     },
     "execution_count": 19,
     "metadata": {},
     "output_type": "execute_result"
    }
   ],
   "source": [
    "ym_datesofweek['202002']"
   ]
  },
  {
   "cell_type": "code",
   "execution_count": 20,
   "id": "9733e05e",
   "metadata": {},
   "outputs": [],
   "source": [
    "data_path = '../../../../../../../Volumes/Seagate_Qing/Safegraph_clean/'\n",
    "save_dir = '/Users/qingyao/Documents/branching_data/real_data/'"
   ]
  },
  {
   "cell_type": "code",
   "execution_count": 22,
   "id": "49f9c307",
   "metadata": {},
   "outputs": [
    {
     "name": "stdout",
     "output_type": "stream",
     "text": [
      "month: 02\n",
      "Processing file 1\n",
      "Processing file 2\n",
      "Processing file 3\n",
      "Processing file 4\n",
      "Processing file 5\n",
      "Processing file 6\n",
      "Processing file 7\n",
      "Processing file 8\n",
      "Processing file 9\n",
      "Processing file 10\n",
      "Processing file 11\n",
      "Processing file 12\n",
      "Processing file 13\n",
      "Processing file 14\n",
      "Processing file 15\n",
      "Processing file 16\n",
      "Processing file 17\n",
      "Processing file 18\n",
      "Processing file 19\n",
      "Processing file 20\n",
      "Processing file 21\n",
      "Processing file 22\n",
      "Processing file 23\n",
      "Processing file 24\n"
     ]
    }
   ],
   "source": [
    "y = '2020'\n",
    "for m in ['02']:\n",
    "    print('month:', m)\n",
    "    week_start_dates = ym_datesofweek[y + m]\n",
    "    for start_day in week_start_dates[-2:-1]:\n",
    "        # print(f\"Processing for start_day: {start_day}\")\n",
    "        # there three files which is not data\n",
    "        n_file = num_files['/' + y + '/' + m +\n",
    "                           '/' + start_day + '/SAFEGRAPH/WP'] - 3\n",
    "        M_w = np.zeros((7, 3108, 3108))\n",
    "        for i in range(1, n_file+1):\n",
    "            print(f\"Processing file {i}\")\n",
    "            new_name = data_path + y + '_' + m + \\\n",
    "                '_' + start_day + '_{}.csv'.format(i)\n",
    "            df_file = pd.read_csv(new_name)\n",
    "            df_noca = df_file[~df_file['poi_cbg'].astype(\n",
    "                str).str.contains('CA:')]\n",
    "            df_noca['poi_fips'] = df_noca['poi_cbg'].astype(\n",
    "                str).str[:-7].astype(int)\n",
    "            df_i = pd.merge(df_noca, fips_main_sorted,\n",
    "                            left_on='poi_fips', right_on='FIPS', how='left')\n",
    "            df_i_main = df_i.dropna()\n",
    "\n",
    "            df_m = pd.DataFrame()\n",
    "            df_m[['raw_visit_counts', 'poi_idx']\n",
    "                 ] = df_i_main[['raw_visit_counts', 'poi_idx']]\n",
    "            df_m['visits_by_day_list'] = df_i_main['visits_by_day'].apply(\n",
    "                lambda x: np.array(ast.literal_eval(x)))\n",
    "            df_m['multiplier'] = df_m.apply(\n",
    "                lambda x: x['visits_by_day_list']/x['raw_visit_counts'], axis=1)  # multiplier\n",
    "            df_m['visitor_home_list'] = df_i_main['visitor_home_aggregation'].apply(\n",
    "                lambda x: x[1:-1].replace('\"', '').split(','))\n",
    "            df_m[['home_idx_list', 'modified_visit_list']] = df_m.apply(lambda x: process_visitor_data(\n",
    "                x['visitor_home_list'], x['raw_visit_counts'], fips_main_sorted), axis=1)\n",
    "            df_m['vis_daily_matrix'] = df_m.apply(lambda x: dayvisits_by_visitor(\n",
    "                x['modified_visit_list'], x['multiplier']), axis=1)\n",
    "            for j_data_idx in range(len(df_m)):\n",
    "                df_j = df_m.iloc[j_data_idx]\n",
    "                M_w = mobility_extract_per_poi(df_j, M_w)\n",
    "\n",
    "        for d in range(7):\n",
    "            np.savetxt(save_dir+'M_{}{}_{}.csv'.format(y, m,(int(start_day)+d)), M_w[d], delimiter=\",\")"
   ]
  },
  {
   "cell_type": "code",
   "execution_count": null,
   "id": "bea55cec",
   "metadata": {},
   "outputs": [],
   "source": []
  }
 ],
 "metadata": {
  "kernelspec": {
   "display_name": "gnn",
   "language": "python",
   "name": "gnn"
  },
  "language_info": {
   "codemirror_mode": {
    "name": "ipython",
    "version": 3
   },
   "file_extension": ".py",
   "mimetype": "text/x-python",
   "name": "python",
   "nbconvert_exporter": "python",
   "pygments_lexer": "ipython3",
   "version": "3.11.4"
  }
 },
 "nbformat": 4,
 "nbformat_minor": 5
}
