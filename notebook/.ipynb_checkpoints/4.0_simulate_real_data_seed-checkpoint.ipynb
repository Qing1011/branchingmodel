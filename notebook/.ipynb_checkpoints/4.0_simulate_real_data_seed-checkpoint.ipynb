{
 "cells": [
  {
   "cell_type": "code",
   "execution_count": 1,
   "id": "f258662c",
   "metadata": {},
   "outputs": [],
   "source": [
    "import os\n",
    "import numpy as np\n",
    "import pandas as pd\n",
    "import matplotlib as mpl\n",
    "import matplotlib.pyplot as plt\n",
    "# plt.style.use('seaborn-white')\n",
    "\n",
    "%matplotlib inline\n",
    "\n",
    "from scipy.stats import gamma, poisson"
   ]
  },
  {
   "cell_type": "code",
   "execution_count": 2,
   "id": "88290bd5",
   "metadata": {},
   "outputs": [],
   "source": [
    "df_incidence = pd.read_csv('us_mainland_incidence.csv')"
   ]
  },
  {
   "cell_type": "code",
   "execution_count": 35,
   "id": "11c93520",
   "metadata": {},
   "outputs": [],
   "source": [
    "df_incidence_s = df_incidence.iloc[29:,1:].values"
   ]
  },
  {
   "cell_type": "code",
   "execution_count": 4,
   "id": "9e8170b7",
   "metadata": {},
   "outputs": [],
   "source": [
    "alpha = np.loadtxt('alpha_mean_main.cvs')\n",
    "##starting date is 2020-02-21"
   ]
  },
  {
   "cell_type": "code",
   "execution_count": 5,
   "id": "18b40823",
   "metadata": {},
   "outputs": [
    {
     "data": {
      "text/plain": [
       "(3108, 315)"
      ]
     },
     "execution_count": 5,
     "metadata": {},
     "output_type": "execute_result"
    }
   ],
   "source": [
    "alpha.shape"
   ]
  },
  {
   "cell_type": "code",
   "execution_count": 37,
   "id": "4fd8799d",
   "metadata": {},
   "outputs": [
    {
     "data": {
      "text/plain": [
       "(315, 3108)"
      ]
     },
     "execution_count": 37,
     "metadata": {},
     "output_type": "execute_result"
    }
   ],
   "source": [
    "df_incidence_s.shape"
   ]
  },
  {
   "cell_type": "code",
   "execution_count": 45,
   "id": "63141f32",
   "metadata": {},
   "outputs": [],
   "source": [
    "cases = []\n",
    "for i in range(3108):\n",
    "    cases_i = df_incidence_s[:,i]/alpha[i,:]\n",
    "    cases.append(list(cases_i))"
   ]
  },
  {
   "cell_type": "code",
   "execution_count": 40,
   "id": "774286d0",
   "metadata": {},
   "outputs": [],
   "source": [
    "df_cases_us_mainland['Date'] = pd.date_range(start='2020-02-21', periods = 315)"
   ]
  },
  {
   "cell_type": "code",
   "execution_count": 41,
   "id": "4494badc",
   "metadata": {},
   "outputs": [],
   "source": [
    "df_cases_us_mainland.set_index('Date',inplace=True)"
   ]
  },
  {
   "cell_type": "code",
   "execution_count": 48,
   "id": "59a86c7b",
   "metadata": {},
   "outputs": [],
   "source": [
    "# (array([1824]),)\n",
    "# (array([2935]),)\n",
    "# (array([175]),)\n",
    "# (array([576]),)"
   ]
  },
  {
   "cell_type": "code",
   "execution_count": 42,
   "id": "2347fba4",
   "metadata": {},
   "outputs": [],
   "source": [
    "cases_ny = df_cases_us_mainland.iloc[3:,1824]"
   ]
  },
  {
   "cell_type": "code",
   "execution_count": 43,
   "id": "76e8fb6b",
   "metadata": {},
   "outputs": [
    {
     "data": {
      "text/plain": [
       "Date\n",
       "2020-03-05      14.115765\n",
       "2020-03-06      13.621080\n",
       "2020-03-07      39.310313\n",
       "2020-03-10      82.002844\n",
       "2020-03-11     138.878082\n",
       "                 ...     \n",
       "2020-12-27    2812.674019\n",
       "2020-12-28    1217.256474\n",
       "2020-12-29    2506.227084\n",
       "2020-12-30    2859.714535\n",
       "2020-12-31    3962.607289\n",
       "Name: 1824, Length: 300, dtype: float64"
      ]
     },
     "execution_count": 43,
     "metadata": {},
     "output_type": "execute_result"
    }
   ],
   "source": [
    "cases_ny[cases_ny.values != 0] ### march 5 is the first day with the cases 14 "
   ]
  },
  {
   "cell_type": "code",
   "execution_count": 81,
   "id": "e2a0d20d",
   "metadata": {},
   "outputs": [
    {
     "data": {
      "text/plain": [
       "array([   0.        ,    0.        ,    0.        ,    0.        ,\n",
       "          0.        ,    0.        ,    0.        ,    0.        ,\n",
       "          0.        ,    0.        ,   14.11576544,   13.62107966,\n",
       "         39.3103128 ,    0.        ,    0.        ,   82.00284446,\n",
       "        138.87808187,   35.0327658 ,  214.40018686,  475.01812256,\n",
       "        323.78059981,  646.75984398,  701.10478501, 1525.37260006,\n",
       "       3075.25695218, 4007.43268515, 3391.53761152, 4782.50400779,\n",
       "       5583.68147012, 3740.12115766])"
      ]
     },
     "execution_count": 81,
     "metadata": {},
     "output_type": "execute_result"
    }
   ],
   "source": [
    "# if the starting day is 0224, apply delay model to find the seed of 0224\n",
    "cases_ny[:30].values"
   ]
  },
  {
   "cell_type": "code",
   "execution_count": 86,
   "id": "caa79f5c",
   "metadata": {},
   "outputs": [],
   "source": [
    "import scipy.special as SS\n",
    "import scipy.stats as SSA\n",
    "Z = 3\n",
    "Zb = 1\n",
    "D = 5\n",
    "Db = 1\n",
    "# latency_p = SSA.gamma.pdf(x=range(18), a=Z, scale=Zb)\n",
    "# infectious_p = SSA.gamma.pdf(x=range(18),a=D, scale=Db)\n",
    "# # v = np.random.random_sample(z_num)\n",
    "# delay_days = latency_p+0.5*infectious_p  # 3+5*0.5\n",
    "# delay_days_pdf = delay_days/np.sum(delay_days)\n",
    "# # Generate samples\n",
    "# z_num = 10000000\n",
    "# latency_p = gamma.rvs(a=Z, scale=Zb, size=z_num)\n",
    "# infectious_p = gamma.rvs(a=D, scale=Db, size=z_num)\n",
    "# v = np.random.random_sample(z_num)\n",
    "# delay_days_samples = latency_p + v * infectious_p"
   ]
  },
  {
   "cell_type": "code",
   "execution_count": 118,
   "id": "c5cbae7e",
   "metadata": {},
   "outputs": [
    {
     "data": {
      "text/plain": [
       "array([3.91612236, 6.76582379, 5.73033526, ..., 6.20326293, 8.87542442,\n",
       "       3.74714572])"
      ]
     },
     "execution_count": 118,
     "metadata": {},
     "output_type": "execute_result"
    }
   ],
   "source": [
    "delay_days"
   ]
  },
  {
   "cell_type": "code",
   "execution_count": 149,
   "id": "7c7946d3",
   "metadata": {},
   "outputs": [],
   "source": [
    "i0 = 30\n",
    "infections = np.zeros((50,60))\n",
    "infections[:,0] = i0\n",
    "for e_idx in range(100):\n",
    "    for i in range(30):\n",
    "        infector = infections[e_idx,i]\n",
    "        new = np.int64(infector*np.exp(1.4))\n",
    "    #     print('new infections:', new)\n",
    "        latency_p = gamma.rvs(a=Z, scale=Zb, size=new)\n",
    "        infectious_p = gamma.rvs(a=D, scale=Db, size=new)\n",
    "        v = np.random.random_sample(new)\n",
    "        delay_days = latency_p + v * infectious_p\n",
    "        for j in range(new):\n",
    "            delay = np.int64(np.ceil(delay_days[j]) + i)\n",
    "    #         print(delay)\n",
    "            if delay < 59:\n",
    "                infections[e_idx,delay] = infections[e_idx,delay]+1\n",
    "    #     print('this time is done')"
   ]
  },
  {
   "cell_type": "code",
   "execution_count": 147,
   "id": "93c0f3c2",
   "metadata": {},
   "outputs": [],
   "source": [
    "infections_mean = np.mean(infections,axis=0)"
   ]
  },
  {
   "cell_type": "code",
   "execution_count": 148,
   "id": "4d40126f",
   "metadata": {},
   "outputs": [
    {
     "data": {
      "image/png": "[encoded data removed]",
      "text/plain": [
       "<Figure size 640x480 with 1 Axes>"
      ]
     },
     "metadata": {},
     "output_type": "display_data"
    },
    {
     "name": "stdout",
     "output_type": "stream",
     "text": [
      "a = 20.73493771121178, b = 0.18663739754676897\n"
     ]
    }
   ],
   "source": [
    "import numpy as np\n",
    "from scipy.optimize import curve_fit\n",
    "import matplotlib.pyplot as plt\n",
    "\n",
    "# Define the exponential growth function\n",
    "def exp_growth(x, a, b):\n",
    "    return a * np.exp(b * x)\n",
    "\n",
    "# Generate some example data\n",
    "x = np.linspace(0, 30, 30) #np.linspace(0, 4, 50)\n",
    "y = cases_ny[:30].values #3 * np.exp(1.5 * x) + np.random.normal(0, 0.5, len(x))  # Adding some noise to the data\n",
    "\n",
    "# Fit the data to the exponential growth function\n",
    "# params, covariance = curve_fit(exp_growth, x, y)\n",
    "\n",
    "# Predicted values\n",
    "# y_fit = exp_growth(x, *params)\n",
    "\n",
    "# Plot the original data and the fitted curve\n",
    "plt.scatter(x, y, label='Data')\n",
    "plt.plot(x, infections_mean[:30], color='red', label='Fitted exponential growth curve')\n",
    "plt.yscale('log')\n",
    "plt.legend()\n",
    "plt.show()\n",
    "\n",
    "\n",
    "print(f\"a = {params[0]}, b = {params[1]}\")\n"
   ]
  },
  {
   "cell_type": "code",
   "execution_count": null,
   "id": "3d7dd4bb",
   "metadata": {},
   "outputs": [],
   "source": []
  }
 ],
 "metadata": {
  "kernelspec": {
   "display_name": "gnn",
   "language": "python",
   "name": "gnn"
  },
  "language_info": {
   "codemirror_mode": {
    "name": "ipython",
    "version": 3
   },
   "file_extension": ".py",
   "mimetype": "text/x-python",
   "name": "python",
   "nbconvert_exporter": "python",
   "pygments_lexer": "ipython3",
   "version": "3.11.4"
  }
 },
 "nbformat": 4,
 "nbformat_minor": 5
}
