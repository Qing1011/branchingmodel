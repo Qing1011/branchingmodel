{
 "cells": [
  {
   "cell_type": "code",
   "execution_count": 17,
   "id": "061ff72a",
   "metadata": {},
   "outputs": [],
   "source": [
    "import numpy as np\n",
    "import matplotlib.pyplot as plt\n",
    "from scipy.io import loadmat, savemat\n",
    "import pandas as pd"
   ]
  },
  {
   "cell_type": "code",
   "execution_count": 2,
   "id": "3285ed77",
   "metadata": {},
   "outputs": [],
   "source": [
    "M = loadmat('../data/M.mat') ### dictionary"
   ]
  },
  {
   "cell_type": "code",
   "execution_count": 4,
   "id": "e6f08cad",
   "metadata": {},
   "outputs": [
    {
     "data": {
      "text/plain": [
       "dict_items([('__header__', b'MATLAB 5.0 MAT-file, Platform: MACI64, Created on: Mon Mar 30 21:18:06 2020'), ('__version__', '1.0'), ('__globals__', []), ('M', array([[ 8635,     0,     0, ...,     0,     0,     0],\n",
       "       [    0, 58060,     0, ...,     0,     0,     0],\n",
       "       [    0,    12,  6478, ...,     0,     0,     0],\n",
       "       ...,\n",
       "       [    0,     0,     0, ...,  8245,     0,     0],\n",
       "       [    0,     0,     0, ...,     0,  3582,     0],\n",
       "       [    0,     0,     0, ...,     0,     0,  2334]], dtype=int32))])"
      ]
     },
     "execution_count": 4,
     "metadata": {},
     "output_type": "execute_result"
    }
   ],
   "source": [
    "M.items()"
   ]
  },
  {
   "cell_type": "code",
   "execution_count": 6,
   "id": "04d480db",
   "metadata": {},
   "outputs": [
    {
     "data": {
      "text/plain": [
       "['__header__', '__version__', '__globals__', 'M']"
      ]
     },
     "execution_count": 6,
     "metadata": {},
     "output_type": "execute_result"
    }
   ],
   "source": [
    "list(M.keys())"
   ]
  },
  {
   "cell_type": "code",
   "execution_count": 12,
   "id": "5b09186f",
   "metadata": {},
   "outputs": [],
   "source": [
    "Mij = M['M']"
   ]
  },
  {
   "cell_type": "code",
   "execution_count": 15,
   "id": "722f0116",
   "metadata": {},
   "outputs": [
    {
     "data": {
      "text/plain": [
       "12"
      ]
     },
     "execution_count": 15,
     "metadata": {},
     "output_type": "execute_result"
    }
   ],
   "source": [
    "Mij[2,1]"
   ]
  },
  {
   "cell_type": "code",
   "execution_count": 16,
   "id": "e74ef647",
   "metadata": {},
   "outputs": [
    {
     "data": {
      "text/plain": [
       "array([   0,   12, 6478, ...,    0,    0,    0], dtype=int32)"
      ]
     },
     "execution_count": 16,
     "metadata": {},
     "output_type": "execute_result"
    }
   ],
   "source": [
    "Mij[2]"
   ]
  },
  {
   "cell_type": "code",
   "execution_count": 21,
   "id": "a5b7e0f0",
   "metadata": {},
   "outputs": [],
   "source": [
    "raw = loadmat('../data/commuting_allinfo.mat')  "
   ]
  },
  {
   "cell_type": "code",
   "execution_count": 25,
   "id": "f4e84e14",
   "metadata": {},
   "outputs": [],
   "source": [
    "commuting_raw = raw['None']"
   ]
  },
  {
   "cell_type": "code",
   "execution_count": 29,
   "id": "7bb17932",
   "metadata": {},
   "outputs": [
    {
     "data": {
      "text/plain": [
       "MatlabOpaque([(b'commuting_allinfo', b'MCOS', b'table', array([[3707764736],\n",
       "                     [         2],\n",
       "                     [         1],\n",
       "                     [         1],\n",
       "                     [         1],\n",
       "                     [         1]], dtype=uint32))                          ],\n",
       "             dtype=[('s0', 'O'), ('s1', 'O'), ('s2', 'O'), ('arr', 'O')])"
      ]
     },
     "execution_count": 29,
     "metadata": {},
     "output_type": "execute_result"
    }
   ],
   "source": [
    "commuting_raw"
   ]
  },
  {
   "cell_type": "code",
   "execution_count": null,
   "id": "2b8a07b6",
   "metadata": {},
   "outputs": [],
   "source": []
  }
 ],
 "metadata": {
  "kernelspec": {
   "display_name": "Python 3 (ipykernel)",
   "language": "python",
   "name": "python3"
  },
  "language_info": {
   "codemirror_mode": {
    "name": "ipython",
    "version": 3
   },
   "file_extension": ".py",
   "mimetype": "text/x-python",
   "name": "python",
   "nbconvert_exporter": "python",
   "pygments_lexer": "ipython3",
   "version": "3.9.7"
  }
 },
 "nbformat": 4,
 "nbformat_minor": 5
}
