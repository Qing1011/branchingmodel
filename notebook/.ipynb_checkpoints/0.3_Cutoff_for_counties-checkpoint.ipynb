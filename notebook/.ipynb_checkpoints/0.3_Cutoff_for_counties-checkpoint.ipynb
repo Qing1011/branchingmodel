{
 "cells": [
  {
   "cell_type": "code",
   "execution_count": 1,
   "id": "0fbb7a5a",
   "metadata": {},
   "outputs": [],
   "source": [
    "import numpy as np\n",
    "import matplotlib.pyplot as plt\n",
    "from scipy.io import loadmat, savemat\n",
    "import pandas as pd\n",
    "import scipy.special as SS\n",
    "import scipy.stats as SSA\n",
    "import copy\n",
    "import random\n",
    "import math\n",
    "from sklearn.model_selection import ParameterGrid"
   ]
  },
  {
   "cell_type": "markdown",
   "id": "8c5ba2d5",
   "metadata": {},
   "source": [
    "for different counties, the populations are different\n",
    "the probability to have at least one offsrping at location with population pop_i should satisfy\n",
    "$Prob*pop_{i} = 1$ "
   ]
  },
  {
   "cell_type": "code",
   "execution_count": 2,
   "id": "b8f43e75",
   "metadata": {},
   "outputs": [],
   "source": [
    "pop = np.loadtxt('pop_new.csv')"
   ]
  },
  {
   "cell_type": "code",
   "execution_count": 12,
   "id": "dd06d296",
   "metadata": {},
   "outputs": [],
   "source": [
    "prob = 1/pop\n",
    "N = len(pop)"
   ]
  },
  {
   "cell_type": "code",
   "execution_count": 2,
   "id": "4c3b6e06",
   "metadata": {},
   "outputs": [],
   "source": [
    "xx = list(range(1000))\n",
    "xx.reverse()"
   ]
  },
  {
   "cell_type": "code",
   "execution_count": 40,
   "id": "c42dfe83",
   "metadata": {},
   "outputs": [],
   "source": [
    "r = 0.025\n",
    "R0 = 2.5\n",
    "p = r/(R0+r)\n",
    "X_cutoff = np.zeros_like(pop)\n",
    "for loc in range(N):\n",
    "    pop_i = pop[loc]\n",
    "#     print(pop_i)\n",
    "    for x_guess in xx:\n",
    "        prob_x = SSA.nbinom.pmf(x_guess, r, p)\n",
    "        offspring = prob_x * pop_i\n",
    "        if offspring > 1:\n",
    "            X_cutoff[loc] = x_guess\n",
    "            break\n",
    "        else:\n",
    "            continue"
   ]
  },
  {
   "cell_type": "code",
   "execution_count": 4,
   "id": "f035cdc9",
   "metadata": {},
   "outputs": [
    {
     "ename": "NameError",
     "evalue": "name 'loc' is not defined",
     "output_type": "error",
     "traceback": [
      "\u001b[0;31m---------------------------------------------------------------------------\u001b[0m",
      "\u001b[0;31mNameError\u001b[0m                                 Traceback (most recent call last)",
      "Cell \u001b[0;32mIn[4], line 10\u001b[0m\n\u001b[1;32m      8\u001b[0m offspring \u001b[38;5;241m=\u001b[39m prob_x \u001b[38;5;241m*\u001b[39m pop_i\n\u001b[1;32m      9\u001b[0m \u001b[38;5;28;01mif\u001b[39;00m offspring \u001b[38;5;241m>\u001b[39m \u001b[38;5;241m1\u001b[39m:\n\u001b[0;32m---> 10\u001b[0m     X_cutoff[loc] \u001b[38;5;241m=\u001b[39m x_guess\n\u001b[1;32m     11\u001b[0m     \u001b[38;5;28;01mbreak\u001b[39;00m\n\u001b[1;32m     12\u001b[0m \u001b[38;5;28;01melse\u001b[39;00m:\n",
      "\u001b[0;31mNameError\u001b[0m: name 'loc' is not defined"
     ]
    }
   ],
   "source": [
    "r = 0.025\n",
    "R0 = 2.5\n",
    "p = r/(R0+r)\n",
    "X_cutoff = np.zeros(1)\n",
    "pop_i = 100000\n",
    "for x_guess in xx:\n",
    "    prob_x = SSA.nbinom.pmf(x_guess, r, p)\n",
    "    offspring = prob_x * pop_i\n",
    "    if offspring > 1:\n",
    "        X_cutoff[loc] = x_guess\n",
    "        break\n",
    "    else:\n",
    "        continue"
   ]
  },
  {
   "cell_type": "code",
   "execution_count": null,
   "id": "83fbb738",
   "metadata": {},
   "outputs": [],
   "source": []
  },
  {
   "cell_type": "code",
   "execution_count": 41,
   "id": "135ab894",
   "metadata": {},
   "outputs": [],
   "source": [
    "probs_guess = SSA.nbinom.pmf(X_cutoff, r, p)"
   ]
  },
  {
   "cell_type": "code",
   "execution_count": 42,
   "id": "d214f075",
   "metadata": {},
   "outputs": [],
   "source": [
    "offspring = probs_guess*pop"
   ]
  },
  {
   "cell_type": "code",
   "execution_count": 46,
   "id": "995278de",
   "metadata": {},
   "outputs": [
    {
     "data": {
      "text/plain": [
       "(array([ 548, 2653, 2673]),)"
      ]
     },
     "execution_count": 46,
     "metadata": {},
     "output_type": "execute_result"
    }
   ],
   "source": [
    "np.where(np.abs(offspring-1)>0.1)"
   ]
  },
  {
   "cell_type": "code",
   "execution_count": 53,
   "id": "b4f98a61",
   "metadata": {},
   "outputs": [
    {
     "data": {
      "text/plain": [
       "Text(0.5, 1.0, 'the distribution of cutoff for each location, r=0.025')"
      ]
     },
     "execution_count": 53,
     "metadata": {},
     "output_type": "execute_result"
    },
    {
     "data": {
      "image/png": "[encoded data removed]",
      "text/plain": [
       "<Figure size 640x480 with 1 Axes>"
      ]
     },
     "metadata": {},
     "output_type": "display_data"
    }
   ],
   "source": [
    "plt.hist(X_cutoff,density=True)\n",
    "plt.title('the distribution of cutoff for each location, r=0.025')"
   ]
  },
  {
   "cell_type": "code",
   "execution_count": 56,
   "id": "278450ab",
   "metadata": {},
   "outputs": [],
   "source": [
    "r = 0.5\n",
    "R0 = 2.5\n",
    "p = r/(R0+r)\n",
    "X_cutoff = np.zeros_like(pop)\n",
    "for loc in range(N):\n",
    "    pop_i = pop[loc]\n",
    "#     print(pop_i)\n",
    "    for x_guess in xx:\n",
    "        prob_x = SSA.nbinom.pmf(x_guess, r, p)\n",
    "        offspring = prob_x * pop_i\n",
    "        if offspring > 1:\n",
    "            X_cutoff[loc] = x_guess\n",
    "            break\n",
    "        else:\n",
    "            continue"
   ]
  },
  {
   "cell_type": "code",
   "execution_count": 57,
   "id": "2f95d33e",
   "metadata": {},
   "outputs": [
    {
     "data": {
      "text/plain": [
       "Text(0.5, 1.0, 'the distribution of cutoff for each location, r=0.5')"
      ]
     },
     "execution_count": 57,
     "metadata": {},
     "output_type": "execute_result"
    },
    {
     "data": {
      "image/png": "[encoded data removed]",
      "text/plain": [
       "<Figure size 640x480 with 1 Axes>"
      ]
     },
     "metadata": {},
     "output_type": "display_data"
    }
   ],
   "source": [
    "plt.hist(X_cutoff,density=True)\n",
    "plt.title('the distribution of cutoff for each location, r=0.5')"
   ]
  }
 ],
 "metadata": {
  "kernelspec": {
   "display_name": "gnn",
   "language": "python",
   "name": "gnn"
  },
  "language_info": {
   "codemirror_mode": {
    "name": "ipython",
    "version": 3
   },
   "file_extension": ".py",
   "mimetype": "text/x-python",
   "name": "python",
   "nbconvert_exporter": "python",
   "pygments_lexer": "ipython3",
   "version": "3.11.4"
  }
 },
 "nbformat": 4,
 "nbformat_minor": 5
}
