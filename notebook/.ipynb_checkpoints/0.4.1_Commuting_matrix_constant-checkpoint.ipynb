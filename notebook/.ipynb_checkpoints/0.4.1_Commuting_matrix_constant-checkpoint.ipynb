{
 "cells": [
  {
   "cell_type": "code",
   "execution_count": 1,
   "id": "dd7b3ea1",
   "metadata": {},
   "outputs": [],
   "source": [
    "import numpy as np\n",
    "import matplotlib.pyplot as plt\n",
    "from scipy.io import loadmat, savemat\n",
    "import pandas as pd"
   ]
  },
  {
   "cell_type": "code",
   "execution_count": 2,
   "id": "b895accf",
   "metadata": {},
   "outputs": [],
   "source": [
    "raw_info = pd.read_csv('../data/commuting_allinfo.csv',dtype=object,encoding='cp1252')"
   ]
  },
  {
   "cell_type": "code",
   "execution_count": 3,
   "id": "34cc32bc",
   "metadata": {},
   "outputs": [
    {
     "data": {
      "text/html": [
       "<div>\n",
       "<style scoped>\n",
       "    .dataframe tbody tr th:only-of-type {\n",
       "        vertical-align: middle;\n",
       "    }\n",
       "\n",
       "    .dataframe tbody tr th {\n",
       "        vertical-align: top;\n",
       "    }\n",
       "\n",
       "    .dataframe thead th {\n",
       "        text-align: right;\n",
       "    }\n",
       "</style>\n",
       "<table border=\"1\" class=\"dataframe\">\n",
       "  <thead>\n",
       "    <tr style=\"text-align: right;\">\n",
       "      <th></th>\n",
       "      <th>State FIPS Code</th>\n",
       "      <th>County FIPS Code</th>\n",
       "      <th>State Name</th>\n",
       "      <th>County Name</th>\n",
       "      <th>Metropolitan Statistical Area FIPS Code</th>\n",
       "      <th>Metropolitan Statistical Area  of County</th>\n",
       "      <th>State FIPS Code.1</th>\n",
       "      <th>County FIPS Code.1</th>\n",
       "      <th>State Name.1</th>\n",
       "      <th>County Name.1</th>\n",
       "      <th>Metropolitan Statistical Area FIPS Code.1</th>\n",
       "      <th>Metropolitan Statistical Area of County</th>\n",
       "      <th>Workers in Commuting Flow</th>\n",
       "      <th>Margin of Error</th>\n",
       "    </tr>\n",
       "  </thead>\n",
       "  <tbody>\n",
       "    <tr>\n",
       "      <th>0</th>\n",
       "      <td>01</td>\n",
       "      <td>001</td>\n",
       "      <td>Alabama</td>\n",
       "      <td>Autauga County</td>\n",
       "      <td>33860</td>\n",
       "      <td>Montgomery, AL</td>\n",
       "      <td>001</td>\n",
       "      <td>001</td>\n",
       "      <td>Alabama</td>\n",
       "      <td>Autauga County</td>\n",
       "      <td>33860</td>\n",
       "      <td>Montgomery, AL</td>\n",
       "      <td>8,635</td>\n",
       "      <td>597</td>\n",
       "    </tr>\n",
       "    <tr>\n",
       "      <th>1</th>\n",
       "      <td>01</td>\n",
       "      <td>001</td>\n",
       "      <td>Alabama</td>\n",
       "      <td>Autauga County</td>\n",
       "      <td>33860</td>\n",
       "      <td>Montgomery, AL</td>\n",
       "      <td>001</td>\n",
       "      <td>007</td>\n",
       "      <td>Alabama</td>\n",
       "      <td>Bibb County</td>\n",
       "      <td>13820</td>\n",
       "      <td>Birmingham-Hoover, AL</td>\n",
       "      <td>16</td>\n",
       "      <td>23</td>\n",
       "    </tr>\n",
       "    <tr>\n",
       "      <th>2</th>\n",
       "      <td>01</td>\n",
       "      <td>001</td>\n",
       "      <td>Alabama</td>\n",
       "      <td>Autauga County</td>\n",
       "      <td>33860</td>\n",
       "      <td>Montgomery, AL</td>\n",
       "      <td>001</td>\n",
       "      <td>013</td>\n",
       "      <td>Alabama</td>\n",
       "      <td>Butler County</td>\n",
       "      <td>NaN</td>\n",
       "      <td>NaN</td>\n",
       "      <td>4</td>\n",
       "      <td>7</td>\n",
       "    </tr>\n",
       "    <tr>\n",
       "      <th>3</th>\n",
       "      <td>01</td>\n",
       "      <td>001</td>\n",
       "      <td>Alabama</td>\n",
       "      <td>Autauga County</td>\n",
       "      <td>33860</td>\n",
       "      <td>Montgomery, AL</td>\n",
       "      <td>001</td>\n",
       "      <td>021</td>\n",
       "      <td>Alabama</td>\n",
       "      <td>Chilton County</td>\n",
       "      <td>13820</td>\n",
       "      <td>Birmingham-Hoover, AL</td>\n",
       "      <td>597</td>\n",
       "      <td>251</td>\n",
       "    </tr>\n",
       "    <tr>\n",
       "      <th>4</th>\n",
       "      <td>01</td>\n",
       "      <td>001</td>\n",
       "      <td>Alabama</td>\n",
       "      <td>Autauga County</td>\n",
       "      <td>33860</td>\n",
       "      <td>Montgomery, AL</td>\n",
       "      <td>001</td>\n",
       "      <td>043</td>\n",
       "      <td>Alabama</td>\n",
       "      <td>Cullman County</td>\n",
       "      <td>NaN</td>\n",
       "      <td>NaN</td>\n",
       "      <td>27</td>\n",
       "      <td>42</td>\n",
       "    </tr>\n",
       "  </tbody>\n",
       "</table>\n",
       "</div>"
      ],
      "text/plain": [
       "  State FIPS Code County FIPS Code State Name     County Name  \\\n",
       "0              01              001    Alabama  Autauga County   \n",
       "1              01              001    Alabama  Autauga County   \n",
       "2              01              001    Alabama  Autauga County   \n",
       "3              01              001    Alabama  Autauga County   \n",
       "4              01              001    Alabama  Autauga County   \n",
       "\n",
       "  Metropolitan Statistical Area FIPS Code  \\\n",
       "0                                   33860   \n",
       "1                                   33860   \n",
       "2                                   33860   \n",
       "3                                   33860   \n",
       "4                                   33860   \n",
       "\n",
       "  Metropolitan Statistical Area  of County State FIPS Code.1  \\\n",
       "0                          Montgomery, AL                001   \n",
       "1                          Montgomery, AL                001   \n",
       "2                          Montgomery, AL                001   \n",
       "3                          Montgomery, AL                001   \n",
       "4                          Montgomery, AL                001   \n",
       "\n",
       "  County FIPS Code.1 State Name.1   County Name.1  \\\n",
       "0                001      Alabama  Autauga County   \n",
       "1                007      Alabama     Bibb County   \n",
       "2                013      Alabama   Butler County   \n",
       "3                021      Alabama  Chilton County   \n",
       "4                043      Alabama  Cullman County   \n",
       "\n",
       "  Metropolitan Statistical Area FIPS Code.1  \\\n",
       "0                                     33860   \n",
       "1                                     13820   \n",
       "2                                       NaN   \n",
       "3                                     13820   \n",
       "4                                       NaN   \n",
       "\n",
       "   Metropolitan Statistical Area of County Workers in Commuting Flow  \\\n",
       "0                          Montgomery, AL                      8,635   \n",
       "1                   Birmingham-Hoover, AL                         16   \n",
       "2                                      NaN                         4   \n",
       "3                   Birmingham-Hoover, AL                        597   \n",
       "4                                      NaN                        27   \n",
       "\n",
       "  Margin of Error  \n",
       "0             597  \n",
       "1              23  \n",
       "2               7  \n",
       "3             251  \n",
       "4              42  "
      ]
     },
     "execution_count": 3,
     "metadata": {},
     "output_type": "execute_result"
    }
   ],
   "source": [
    "raw_info.head()"
   ]
  },
  {
   "cell_type": "code",
   "execution_count": 4,
   "id": "48d58eda",
   "metadata": {},
   "outputs": [
    {
     "data": {
      "text/plain": [
       "Index(['State FIPS Code', 'County FIPS Code', 'State Name', 'County Name',\n",
       "       'Metropolitan Statistical Area FIPS Code',\n",
       "       'Metropolitan Statistical Area  of County', 'State FIPS Code.1',\n",
       "       'County FIPS Code.1', 'State Name.1', 'County Name.1',\n",
       "       'Metropolitan Statistical Area FIPS Code.1',\n",
       "       ' Metropolitan Statistical Area of County', 'Workers in Commuting Flow',\n",
       "       'Margin of Error'],\n",
       "      dtype='object')"
      ]
     },
     "execution_count": 4,
     "metadata": {},
     "output_type": "execute_result"
    }
   ],
   "source": [
    "raw_info.columns"
   ]
  },
  {
   "cell_type": "code",
   "execution_count": 3,
   "id": "4becf29e",
   "metadata": {},
   "outputs": [],
   "source": [
    "columns = ['State FIPS Code', 'County FIPS Code', 'State Name', 'County Name',\n",
    "       'Metropolitan Statistical Area FIPS Code',\n",
    "       'Metropolitan Statistical Area  of County', 'State FIPS Code.1',\n",
    "       'County FIPS Code.1', 'State Name.1', 'County Name.1',\n",
    "       'Metropolitan Statistical Area FIPS Code.1',\n",
    "       ' Metropolitan Statistical Area of County', 'Workers in Commuting Flow',\n",
    "       'Margin of Error']"
   ]
  },
  {
   "cell_type": "code",
   "execution_count": 84,
   "id": "78729c69",
   "metadata": {},
   "outputs": [
    {
     "name": "stdout",
     "output_type": "stream",
     "text": [
      "name: State FIPS Code\n",
      "na:  1\n",
      "length of unique:  55\n",
      "_______________\n",
      "name: County FIPS Code\n",
      "na:  3\n",
      "length of unique:  326\n",
      "_______________\n",
      "name: State Name\n",
      "na:  3\n",
      "length of unique:  53\n",
      "_______________\n",
      "name: County Name\n",
      "na:  3\n",
      "length of unique:  1956\n",
      "_______________\n",
      "name: Metropolitan Statistical Area FIPS Code\n",
      "na:  57298\n",
      "length of unique:  394\n",
      "_______________\n",
      "name: Metropolitan Statistical Area  of County\n",
      "na:  57298\n",
      "length of unique:  394\n",
      "_______________\n",
      "name: State FIPS Code.1\n",
      "na:  1200\n",
      "length of unique:  55\n",
      "_______________\n",
      "name: County FIPS Code.1\n",
      "na:  1790\n",
      "length of unique:  326\n",
      "_______________\n",
      "name: State Name.1\n",
      "na:  3\n",
      "length of unique:  56\n",
      "_______________\n",
      "name: County Name.1\n",
      "na:  1790\n",
      "length of unique:  1956\n",
      "_______________\n",
      "name: Metropolitan Statistical Area FIPS Code.1\n",
      "na:  49509\n",
      "length of unique:  394\n",
      "_______________\n"
     ]
    }
   ],
   "source": [
    "for name in columns[:11]:\n",
    "    print('name:', name)\n",
    "    print('na: ', sum(raw_info[name].isna()))\n",
    "    print('length of unique: ', len(set(raw_info[name])))\n",
    "    print(\"_______________\")"
   ]
  },
  {
   "cell_type": "code",
   "execution_count": 4,
   "id": "26e034da",
   "metadata": {},
   "outputs": [],
   "source": [
    "## delete all the nan row\n",
    "county_travel =  raw_info[['State FIPS Code', 'County FIPS Code', 'State Name', 'County Name',\n",
    "        'State FIPS Code.1',\n",
    "       'County FIPS Code.1', 'State Name.1', 'County Name.1',\n",
    "       'Workers in Commuting Flow',\n",
    "       'Margin of Error']]"
   ]
  },
  {
   "cell_type": "code",
   "execution_count": 5,
   "id": "ac57c548",
   "metadata": {},
   "outputs": [],
   "source": [
    "county_travel_cleaned = county_travel.dropna()"
   ]
  },
  {
   "cell_type": "code",
   "execution_count": 8,
   "id": "bd1e45dd",
   "metadata": {},
   "outputs": [],
   "source": [
    "# data_types_dict = {'State FIPS Code':np.int32, 'County FIPS Code':np.int32, \n",
    "#         'State FIPS Code.1':np.int32,\n",
    "#        'County FIPS Code.1':np.int32,\n",
    "#        'Workers in Commuting Flow':np.float64,\n",
    "#        'Margin of Error':np.float64}"
   ]
  },
  {
   "cell_type": "code",
   "execution_count": 6,
   "id": "674594ef",
   "metadata": {},
   "outputs": [],
   "source": [
    "df = pd.DataFrame()\n",
    "for name in ['State FIPS Code', 'County FIPS Code', \n",
    "        'State FIPS Code.1',\n",
    "       'County FIPS Code.1', \n",
    "       'Workers in Commuting Flow',\n",
    "       'Margin of Error']:\n",
    "    df[name] =  county_travel_cleaned[name].str.replace(',', '').astype(float) "
   ]
  },
  {
   "cell_type": "code",
   "execution_count": 7,
   "id": "4ec9d3b5",
   "metadata": {},
   "outputs": [],
   "source": [
    "df['longfips'] = df['State FIPS Code']*1000+df['County FIPS Code']\n",
    "df['longfips1'] = df['State FIPS Code.1']*1000+df['County FIPS Code.1']"
   ]
  },
  {
   "cell_type": "code",
   "execution_count": 8,
   "id": "11ff9eda",
   "metadata": {},
   "outputs": [
    {
     "data": {
      "text/html": [
       "<div>\n",
       "<style scoped>\n",
       "    .dataframe tbody tr th:only-of-type {\n",
       "        vertical-align: middle;\n",
       "    }\n",
       "\n",
       "    .dataframe tbody tr th {\n",
       "        vertical-align: top;\n",
       "    }\n",
       "\n",
       "    .dataframe thead th {\n",
       "        text-align: right;\n",
       "    }\n",
       "</style>\n",
       "<table border=\"1\" class=\"dataframe\">\n",
       "  <thead>\n",
       "    <tr style=\"text-align: right;\">\n",
       "      <th></th>\n",
       "      <th>State FIPS Code</th>\n",
       "      <th>County FIPS Code</th>\n",
       "      <th>State FIPS Code.1</th>\n",
       "      <th>County FIPS Code.1</th>\n",
       "      <th>Workers in Commuting Flow</th>\n",
       "      <th>Margin of Error</th>\n",
       "      <th>longfips</th>\n",
       "      <th>longfips1</th>\n",
       "    </tr>\n",
       "  </thead>\n",
       "  <tbody>\n",
       "    <tr>\n",
       "      <th>0</th>\n",
       "      <td>1.0</td>\n",
       "      <td>1.0</td>\n",
       "      <td>1.0</td>\n",
       "      <td>1.0</td>\n",
       "      <td>8635.0</td>\n",
       "      <td>597.0</td>\n",
       "      <td>1001.0</td>\n",
       "      <td>1001.0</td>\n",
       "    </tr>\n",
       "    <tr>\n",
       "      <th>1</th>\n",
       "      <td>1.0</td>\n",
       "      <td>1.0</td>\n",
       "      <td>1.0</td>\n",
       "      <td>7.0</td>\n",
       "      <td>16.0</td>\n",
       "      <td>23.0</td>\n",
       "      <td>1001.0</td>\n",
       "      <td>1007.0</td>\n",
       "    </tr>\n",
       "    <tr>\n",
       "      <th>2</th>\n",
       "      <td>1.0</td>\n",
       "      <td>1.0</td>\n",
       "      <td>1.0</td>\n",
       "      <td>13.0</td>\n",
       "      <td>4.0</td>\n",
       "      <td>7.0</td>\n",
       "      <td>1001.0</td>\n",
       "      <td>1013.0</td>\n",
       "    </tr>\n",
       "    <tr>\n",
       "      <th>3</th>\n",
       "      <td>1.0</td>\n",
       "      <td>1.0</td>\n",
       "      <td>1.0</td>\n",
       "      <td>21.0</td>\n",
       "      <td>597.0</td>\n",
       "      <td>251.0</td>\n",
       "      <td>1001.0</td>\n",
       "      <td>1021.0</td>\n",
       "    </tr>\n",
       "    <tr>\n",
       "      <th>4</th>\n",
       "      <td>1.0</td>\n",
       "      <td>1.0</td>\n",
       "      <td>1.0</td>\n",
       "      <td>43.0</td>\n",
       "      <td>27.0</td>\n",
       "      <td>42.0</td>\n",
       "      <td>1001.0</td>\n",
       "      <td>1043.0</td>\n",
       "    </tr>\n",
       "  </tbody>\n",
       "</table>\n",
       "</div>"
      ],
      "text/plain": [
       "   State FIPS Code  County FIPS Code  State FIPS Code.1  County FIPS Code.1  \\\n",
       "0              1.0               1.0                1.0                 1.0   \n",
       "1              1.0               1.0                1.0                 7.0   \n",
       "2              1.0               1.0                1.0                13.0   \n",
       "3              1.0               1.0                1.0                21.0   \n",
       "4              1.0               1.0                1.0                43.0   \n",
       "\n",
       "   Workers in Commuting Flow  Margin of Error  longfips  longfips1  \n",
       "0                     8635.0            597.0    1001.0     1001.0  \n",
       "1                       16.0             23.0    1001.0     1007.0  \n",
       "2                        4.0              7.0    1001.0     1013.0  \n",
       "3                      597.0            251.0    1001.0     1021.0  \n",
       "4                       27.0             42.0    1001.0     1043.0  "
      ]
     },
     "execution_count": 8,
     "metadata": {},
     "output_type": "execute_result"
    }
   ],
   "source": [
    "df.head()"
   ]
  },
  {
   "cell_type": "code",
   "execution_count": 9,
   "id": "abc8cd53",
   "metadata": {},
   "outputs": [],
   "source": [
    "cn_all = list(df.longfips)+list(df.longfips1)"
   ]
  },
  {
   "cell_type": "code",
   "execution_count": 10,
   "id": "2769f03f",
   "metadata": {},
   "outputs": [
    {
     "data": {
      "text/plain": [
       "3221"
      ]
     },
     "execution_count": 10,
     "metadata": {},
     "output_type": "execute_result"
    }
   ],
   "source": [
    "len(set(cn_all))\n",
    "### it is larger the fips_number within US"
   ]
  },
  {
   "cell_type": "code",
   "execution_count": 11,
   "id": "38561fd0",
   "metadata": {},
   "outputs": [],
   "source": [
    "fips = loadmat('../data/countyfips_num.mat') ### dictionary"
   ]
  },
  {
   "cell_type": "code",
   "execution_count": 12,
   "id": "c52b9967",
   "metadata": {},
   "outputs": [
    {
     "name": "stdout",
     "output_type": "stream",
     "text": [
      "True\n"
     ]
    }
   ],
   "source": [
    "fips_num = fips['countyfips_num'].ravel() ### is the sorted, the index is corresponded to the position of fips_number\n",
    "is_sorted = lambda a: np.all(a[:-1] <= a[1:])\n",
    "print(is_sorted(fips_num))"
   ]
  },
  {
   "cell_type": "code",
   "execution_count": 13,
   "id": "9bd451ff",
   "metadata": {},
   "outputs": [],
   "source": [
    "no_fips = len(fips_num) ### the number of fips is 3142"
   ]
  },
  {
   "cell_type": "code",
   "execution_count": 16,
   "id": "6cbf0b6f",
   "metadata": {},
   "outputs": [
    {
     "data": {
      "text/plain": [
       "{2158, 46102}"
      ]
     },
     "execution_count": 16,
     "metadata": {},
     "output_type": "execute_result"
    }
   ],
   "source": [
    "set(fips_num) - set(cn_all)\n",
    "## new in the fips code 2158 (Kusilvak Census Area) previously as \n",
    "#  02270 (Alaska      Wade Hampton Census Area)\n",
    "#^__________________________________________^#\n",
    "## 46102 (Oglala Lakota County) previously as \n",
    "# 46113 (South Dakota      Shannon County)\n",
    "#^__________________________________________^#\n",
    "## 51515 Virginia   Bedford city is \n",
    "# Virginia, 2013: The independent city of Bedford (FIPS 51515) merges into\n",
    "# Bedford County (FIPS 51019)."
   ]
  },
  {
   "cell_type": "code",
   "execution_count": 14,
   "id": "1554a4dc",
   "metadata": {},
   "outputs": [],
   "source": [
    "### change the code\n",
    "df.loc[df[\"longfips\"] == 46113, \"longfips\"] = 46102\n",
    "df.loc[df[\"longfips1\"] == 46113, \"longfips1\"] = 46102\n",
    "df.loc[df[\"longfips\"] == 2270, \"longfips\"] = 2158\n",
    "df.loc[df[\"longfips1\"] == 2270, \"longfips1\"] = 2158"
   ]
  },
  {
   "cell_type": "code",
   "execution_count": 19,
   "id": "caa2215a",
   "metadata": {},
   "outputs": [
    {
     "data": {
      "text/plain": [
       "set()"
      ]
     },
     "execution_count": 19,
     "metadata": {},
     "output_type": "execute_result"
    }
   ],
   "source": [
    "cn_all = list(df.longfips)+list(df.longfips1) ## calculate again\n",
    "set(fips_num) - set(cn_all) ## there is no new codes"
   ]
  },
  {
   "cell_type": "code",
   "execution_count": 20,
   "id": "e509b401",
   "metadata": {},
   "outputs": [
    {
     "data": {
      "text/plain": [
       "State FIPS Code              0\n",
       "County FIPS Code             0\n",
       "State FIPS Code.1            0\n",
       "County FIPS Code.1           0\n",
       "Workers in Commuting Flow    0\n",
       "Margin of Error              0\n",
       "longfips                     0\n",
       "longfips1                    0\n",
       "dtype: int64"
      ]
     },
     "execution_count": 20,
     "metadata": {},
     "output_type": "execute_result"
    }
   ],
   "source": [
    "np.sum(df.isna()) ### there is no nan"
   ]
  },
  {
   "cell_type": "code",
   "execution_count": 15,
   "id": "623da005",
   "metadata": {},
   "outputs": [],
   "source": [
    "## merge the code into the larger county\n",
    "df.loc[df[\"longfips\"] == 51515, \"longfips\"] = 51019\n",
    "df.loc[df[\"longfips1\"] == 51515, \"longfips1\"] = 51019\n",
    "### there will be a duplicate ones, and merge them again"
   ]
  },
  {
   "cell_type": "code",
   "execution_count": 16,
   "id": "eef38780",
   "metadata": {},
   "outputs": [],
   "source": [
    "temp = df[(df['longfips'] == 51019)|(df['longfips1'] == 51019)][['longfips',\t'longfips1']]"
   ]
  },
  {
   "cell_type": "code",
   "execution_count": 33,
   "id": "db26fd4b",
   "metadata": {},
   "outputs": [
    {
     "data": {
      "text/html": [
       "<div>\n",
       "<style scoped>\n",
       "    .dataframe tbody tr th:only-of-type {\n",
       "        vertical-align: middle;\n",
       "    }\n",
       "\n",
       "    .dataframe tbody tr th {\n",
       "        vertical-align: top;\n",
       "    }\n",
       "\n",
       "    .dataframe thead th {\n",
       "        text-align: right;\n",
       "    }\n",
       "</style>\n",
       "<table border=\"1\" class=\"dataframe\">\n",
       "  <thead>\n",
       "    <tr style=\"text-align: right;\">\n",
       "      <th></th>\n",
       "      <th>longfips</th>\n",
       "      <th>longfips1</th>\n",
       "    </tr>\n",
       "  </thead>\n",
       "  <tbody>\n",
       "    <tr>\n",
       "      <th>10560</th>\n",
       "      <td>8013.0</td>\n",
       "      <td>51019.0</td>\n",
       "    </tr>\n",
       "    <tr>\n",
       "      <th>15299</th>\n",
       "      <td>12057.0</td>\n",
       "      <td>51019.0</td>\n",
       "    </tr>\n",
       "    <tr>\n",
       "      <th>17314</th>\n",
       "      <td>12103.0</td>\n",
       "      <td>51019.0</td>\n",
       "    </tr>\n",
       "    <tr>\n",
       "      <th>19062</th>\n",
       "      <td>13047.0</td>\n",
       "      <td>51019.0</td>\n",
       "    </tr>\n",
       "    <tr>\n",
       "      <th>81443</th>\n",
       "      <td>37067.0</td>\n",
       "      <td>51019.0</td>\n",
       "    </tr>\n",
       "    <tr>\n",
       "      <th>...</th>\n",
       "      <td>...</td>\n",
       "      <td>...</td>\n",
       "    </tr>\n",
       "    <tr>\n",
       "      <th>126062</th>\n",
       "      <td>51680.0</td>\n",
       "      <td>51019.0</td>\n",
       "    </tr>\n",
       "    <tr>\n",
       "      <th>126089</th>\n",
       "      <td>51680.0</td>\n",
       "      <td>51019.0</td>\n",
       "    </tr>\n",
       "    <tr>\n",
       "      <th>126158</th>\n",
       "      <td>51690.0</td>\n",
       "      <td>51019.0</td>\n",
       "    </tr>\n",
       "    <tr>\n",
       "      <th>126609</th>\n",
       "      <td>51770.0</td>\n",
       "      <td>51019.0</td>\n",
       "    </tr>\n",
       "    <tr>\n",
       "      <th>126626</th>\n",
       "      <td>51770.0</td>\n",
       "      <td>51019.0</td>\n",
       "    </tr>\n",
       "  </tbody>\n",
       "</table>\n",
       "<p>107 rows × 2 columns</p>\n",
       "</div>"
      ],
      "text/plain": [
       "        longfips  longfips1\n",
       "10560     8013.0    51019.0\n",
       "15299    12057.0    51019.0\n",
       "17314    12103.0    51019.0\n",
       "19062    13047.0    51019.0\n",
       "81443    37067.0    51019.0\n",
       "...          ...        ...\n",
       "126062   51680.0    51019.0\n",
       "126089   51680.0    51019.0\n",
       "126158   51690.0    51019.0\n",
       "126609   51770.0    51019.0\n",
       "126626   51770.0    51019.0\n",
       "\n",
       "[107 rows x 2 columns]"
      ]
     },
     "execution_count": 33,
     "metadata": {},
     "output_type": "execute_result"
    }
   ],
   "source": [
    "temp ### there is no need to merge it now, when create the M matrix it can count dumplicate entries twice."
   ]
  },
  {
   "cell_type": "code",
   "execution_count": 17,
   "id": "0630e62f",
   "metadata": {},
   "outputs": [],
   "source": [
    "fips_id = [int(i) for i in range(len(fips_num))]\n",
    "fips_dict = dict(zip(fips_num,fips_id))"
   ]
  },
  {
   "cell_type": "code",
   "execution_count": 18,
   "id": "a08a7a18",
   "metadata": {},
   "outputs": [],
   "source": [
    "df['fips_id']=df['longfips']\n",
    "df.replace({'fips_id':fips_dict},inplace=True)\n",
    "# df['fips1_id']=df['longfips1'].map(fips_dict) ## map is one to one\n",
    "df['fips1_id']=df['longfips1']\n",
    "df.replace({'fips1_id':fips_dict},inplace=True)"
   ]
  },
  {
   "cell_type": "code",
   "execution_count": 142,
   "id": "3fa94e24",
   "metadata": {},
   "outputs": [
    {
     "name": "stderr",
     "output_type": "stream",
     "text": [
      "/opt/anaconda3/lib/python3.9/site-packages/pandas/core/reshape/merge.py:1204: UserWarning: You are merging on int and float columns where the float values are not equal to their int representation\n",
      "  warnings.warn(\n"
     ]
    }
   ],
   "source": [
    "# df_temp1 = pd.merge(df,df_fips,left_on='longfips',right_on='fips',how='outer')\n",
    "# df_temp1.drop(['fips'],axis=1,inplace=True)\n",
    "# df_temp2 = pd.merge(df_temp1,df_fips,left_on='longfips1',right_on='fips',how='outer')\n",
    "## the order has been changed \n",
    "## prefer not using this one"
   ]
  },
  {
   "cell_type": "code",
   "execution_count": 27,
   "id": "a4b4f817",
   "metadata": {},
   "outputs": [
    {
     "name": "stdout",
     "output_type": "stream",
     "text": [
      "119918\n",
      "work: 51019.0 2829 residence: 51009.0 2824\n",
      "*^_____^*\n",
      "119951\n",
      "work: 51019.0 2829 residence: 51011.0 2825\n",
      "*^_____^*\n",
      "120145\n",
      "work: 51019.0 2829 residence: 51019.0 2829\n",
      "*^_____^*\n",
      "120199\n",
      "work: 51019.0 2829 residence: 51023.0 2831\n",
      "*^_____^*\n",
      "120325\n",
      "work: 51019.0 2829 residence: 51031.0 2835\n",
      "*^_____^*\n",
      "121173\n",
      "work: 51019.0 2829 residence: 51067.0 2852\n",
      "*^_____^*\n",
      "122645\n",
      "work: 51019.0 2829 residence: 51143.0 2888\n",
      "*^_____^*\n",
      "123021\n",
      "work: 51019.0 2829 residence: 51161.0 2896\n",
      "*^_____^*\n",
      "123059\n",
      "work: 51019.0 2829 residence: 51163.0 2897\n",
      "*^_____^*\n",
      "123887\n",
      "work: 51009.0 2824 residence: 51019.0 2829\n",
      "*^_____^*\n",
      "123888\n",
      "work: 51019.0 2829 residence: 51019.0 2829\n",
      "*^_____^*\n",
      "123889\n",
      "work: 51023.0 2831 residence: 51019.0 2829\n",
      "*^_____^*\n",
      "123890\n",
      "work: 51031.0 2835 residence: 51019.0 2829\n",
      "*^_____^*\n",
      "123891\n",
      "work: 51067.0 2852 residence: 51019.0 2829\n",
      "*^_____^*\n",
      "123892\n",
      "work: 51121.0 2879 residence: 51019.0 2829\n",
      "*^_____^*\n",
      "123893\n",
      "work: 51143.0 2888 residence: 51019.0 2829\n",
      "*^_____^*\n",
      "123894\n",
      "work: 51161.0 2896 residence: 51019.0 2829\n",
      "*^_____^*\n",
      "123895\n",
      "work: 51019.0 2829 residence: 51019.0 2829\n",
      "*^_____^*\n",
      "123897\n",
      "work: 51680.0 2933 residence: 51019.0 2829\n",
      "*^_____^*\n",
      "123898\n",
      "work: 51770.0 2945 residence: 51019.0 2829\n",
      "*^_____^*\n",
      "123899\n",
      "work: 51775.0 2946 residence: 51019.0 2829\n",
      "*^_____^*\n",
      "124448\n",
      "work: 51019.0 2829 residence: 51680.0 2933\n",
      "*^_____^*\n",
      "124978\n",
      "work: 51019.0 2829 residence: 51770.0 2945\n",
      "*^_____^*\n"
     ]
    }
   ],
   "source": [
    "### loop over the commuting infomation\n",
    "### the data in puerto rico does not need to take into consideration\n",
    "M = np.zeros((no_fips,no_fips))\n",
    "for com_i in range(len(df)):\n",
    "#     print(com_i)\n",
    "    residence = df['longfips'].iloc[com_i]\n",
    "    work = df['longfips1'].iloc[com_i] ### it is not very necessary\n",
    "    com = df['Workers in Commuting Flow'].iloc[com_i]\n",
    "\n",
    "    \n",
    "    if (residence in fips_num) and (work in fips_num): #(previously selected)\n",
    "    \n",
    "        residence_id = np.where(fips_num == residence)[0][0]\n",
    "        work_id = np.where(fips_num == work)[0][0]\n",
    "        \n",
    "        if M[work_id,residence_id] == 0:\n",
    "            M[work_id,residence_id] =  com\n",
    "        else:\n",
    "            print(com_i)\n",
    "            print('work:', work, work_id, 'residence:', residence, residence_id)\n",
    "            M[work_id,residence_id] = M[work_id,residence_id] + com\n",
    "            print (\"*^_____^*\")"
   ]
  },
  {
   "cell_type": "code",
   "execution_count": 33,
   "id": "cf16d60e",
   "metadata": {},
   "outputs": [
    {
     "data": {
      "text/html": [
       "<div>\n",
       "<style scoped>\n",
       "    .dataframe tbody tr th:only-of-type {\n",
       "        vertical-align: middle;\n",
       "    }\n",
       "\n",
       "    .dataframe tbody tr th {\n",
       "        vertical-align: top;\n",
       "    }\n",
       "\n",
       "    .dataframe thead th {\n",
       "        text-align: right;\n",
       "    }\n",
       "</style>\n",
       "<table border=\"1\" class=\"dataframe\">\n",
       "  <thead>\n",
       "    <tr style=\"text-align: right;\">\n",
       "      <th></th>\n",
       "      <th>State FIPS Code</th>\n",
       "      <th>County FIPS Code</th>\n",
       "      <th>State FIPS Code.1</th>\n",
       "      <th>County FIPS Code.1</th>\n",
       "      <th>Workers in Commuting Flow</th>\n",
       "      <th>Margin of Error</th>\n",
       "      <th>longfips</th>\n",
       "      <th>longfips1</th>\n",
       "      <th>fips_id</th>\n",
       "      <th>fips1_id</th>\n",
       "    </tr>\n",
       "  </thead>\n",
       "  <tbody>\n",
       "    <tr>\n",
       "      <th>121499</th>\n",
       "      <td>51.0</td>\n",
       "      <td>9.0</td>\n",
       "      <td>51.0</td>\n",
       "      <td>19.0</td>\n",
       "      <td>709.0</td>\n",
       "      <td>170.0</td>\n",
       "      <td>51009.0</td>\n",
       "      <td>51019.0</td>\n",
       "      <td>2824.0</td>\n",
       "      <td>2829.0</td>\n",
       "    </tr>\n",
       "    <tr>\n",
       "      <th>121514</th>\n",
       "      <td>51.0</td>\n",
       "      <td>9.0</td>\n",
       "      <td>51.0</td>\n",
       "      <td>515.0</td>\n",
       "      <td>83.0</td>\n",
       "      <td>71.0</td>\n",
       "      <td>51009.0</td>\n",
       "      <td>51019.0</td>\n",
       "      <td>2824.0</td>\n",
       "      <td>2829.0</td>\n",
       "    </tr>\n",
       "  </tbody>\n",
       "</table>\n",
       "</div>"
      ],
      "text/plain": [
       "        State FIPS Code  County FIPS Code  State FIPS Code.1  \\\n",
       "121499             51.0               9.0               51.0   \n",
       "121514             51.0               9.0               51.0   \n",
       "\n",
       "        County FIPS Code.1  Workers in Commuting Flow  Margin of Error  \\\n",
       "121499                19.0                      709.0            170.0   \n",
       "121514               515.0                       83.0             71.0   \n",
       "\n",
       "        longfips  longfips1  fips_id  fips1_id  \n",
       "121499   51009.0    51019.0   2824.0    2829.0  \n",
       "121514   51009.0    51019.0   2824.0    2829.0  "
      ]
     },
     "execution_count": 33,
     "metadata": {},
     "output_type": "execute_result"
    }
   ],
   "source": [
    "df[(df['longfips'] == 51009)&(df['longfips1'] == 51019)] ## a simple check if the 51515 is merged into the 51019"
   ]
  },
  {
   "cell_type": "code",
   "execution_count": 35,
   "id": "a928f9e2",
   "metadata": {},
   "outputs": [],
   "source": [
    "## compare with the matlab verison:\n",
    "M_m = loadmat('../data/M.mat') ### dictionary\n",
    "list(M_m.keys())\n",
    "M_m = M_m['M']"
   ]
  },
  {
   "cell_type": "code",
   "execution_count": 39,
   "id": "ca6b4278",
   "metadata": {},
   "outputs": [
    {
     "data": {
      "text/plain": [
       "57"
      ]
     },
     "execution_count": 39,
     "metadata": {},
     "output_type": "execute_result"
    }
   ],
   "source": [
    "np.sum(M_m != M) ###only some of the entries are not equal, due to the fips merge/change problems. "
   ]
  },
  {
   "cell_type": "code",
   "execution_count": 40,
   "id": "c4062776",
   "metadata": {},
   "outputs": [],
   "source": [
    "np.savetxt('M_all_asymmetric.csv',M)"
   ]
  },
  {
   "cell_type": "code",
   "execution_count": null,
   "id": "53917b8a",
   "metadata": {},
   "outputs": [],
   "source": []
  }
 ],
 "metadata": {
  "kernelspec": {
   "display_name": "gnn",
   "language": "python",
   "name": "gnn"
  },
  "language_info": {
   "codemirror_mode": {
    "name": "ipython",
    "version": 3
   },
   "file_extension": ".py",
   "mimetype": "text/x-python",
   "name": "python",
   "nbconvert_exporter": "python",
   "pygments_lexer": "ipython3",
   "version": "3.11.4"
  }
 },
 "nbformat": 4,
 "nbformat_minor": 5
}
