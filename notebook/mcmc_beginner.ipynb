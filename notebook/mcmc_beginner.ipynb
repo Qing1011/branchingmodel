{
 "cells": [
  {
   "cell_type": "code",
   "execution_count": 1,
   "id": "32b88801",
   "metadata": {},
   "outputs": [],
   "source": [
    "import torch\n",
    "import pyro"
   ]
  },
  {
   "cell_type": "code",
   "execution_count": null,
   "id": "58c4efe5",
   "metadata": {},
   "outputs": [],
   "source": []
  },
  {
   "cell_type": "code",
   "execution_count": 6,
   "id": "360f0c12",
   "metadata": {},
   "outputs": [
    {
     "name": "stderr",
     "output_type": "stream",
     "text": [
      "Sample: 100%|█| 600/600 [00:00, 754.76it/s, step size=7.89e-01, acc. prob=0.812]\n"
     ]
    },
    {
     "data": {
      "text/plain": [
       "tensor([0.9851, 1.8943, 2.9341])"
      ]
     },
     "execution_count": 6,
     "metadata": {},
     "output_type": "execute_result"
    }
   ],
   "source": [
    "true_coefs = torch.tensor([1., 2., 3.])\n",
    "data = torch.randn(2000, 3)\n",
    "dim = 3\n",
    "labels = pyro.distributions.Bernoulli(logits=(true_coefs * data).sum(-1)).sample()\n",
    "\n",
    "def model(data):\n",
    "    coefs_mean = torch.zeros(dim)\n",
    "    coefs = pyro.sample('beta', pyro.distributions.Normal(coefs_mean, torch.ones(3)))\n",
    "    y = pyro.sample('y', pyro.distributions.Bernoulli(logits=(coefs * data).sum(-1)), obs=labels)\n",
    "    return y\n",
    "\n",
    "hmc_kernel = pyro.infer.HMC(model, step_size=0.0855, num_steps=4)\n",
    "mcmc = pyro.infer.MCMC(hmc_kernel, num_samples=500, warmup_steps=100)\n",
    "mcmc.run(data)\n",
    "mcmc.get_samples()['beta'].mean(0)  "
   ]
  },
  {
   "cell_type": "code",
   "execution_count": null,
   "id": "e3be2bef",
   "metadata": {},
   "outputs": [],
   "source": []
  }
 ],
 "metadata": {
  "kernelspec": {
   "display_name": "Python 3 (ipykernel)",
   "language": "python",
   "name": "python3"
  },
  "language_info": {
   "codemirror_mode": {
    "name": "ipython",
    "version": 3
   },
   "file_extension": ".py",
   "mimetype": "text/x-python",
   "name": "python",
   "nbconvert_exporter": "python",
   "pygments_lexer": "ipython3",
   "version": "3.9.7"
  }
 },
 "nbformat": 4,
 "nbformat_minor": 5
}
