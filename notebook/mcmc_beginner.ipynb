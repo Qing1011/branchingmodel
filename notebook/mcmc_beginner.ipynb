{
 "cells": [
  {
   "cell_type": "code",
   "execution_count": 19,
   "id": "32b88801",
   "metadata": {},
   "outputs": [],
   "source": [
    "import torch\n",
    "import pyro\n",
    "import numpy as np\n",
    "import matplotlib.pyplot as plt\n",
    "from scipy.io import loadmat, savemat\n",
    "import pandas as pd\n",
    "import scipy.special as SS\n",
    "import scipy.stats as SSA\n",
    "import copy\n",
    "import random\n",
    "import math\n",
    "from sklearn.model_selection import ParameterGrid\n",
    "import os\n",
    "import numpy.linalg as LA\n",
    "import gzip\n",
    "\n",
    "# load pickle module\n",
    "import pickle"
   ]
  },
  {
   "cell_type": "code",
   "execution_count": 10,
   "id": "360f0c12",
   "metadata": {},
   "outputs": [],
   "source": [
    "true_coefs = torch.tensor([1., 2., 3.])\n",
    "data = torch.randn(2000, 3)\n",
    "dim = 3\n",
    "labels = pyro.distributions.Bernoulli(logits=(true_coefs * data).sum(-1)).sample()"
   ]
  },
  {
   "cell_type": "code",
   "execution_count": 11,
   "id": "e3be2bef",
   "metadata": {},
   "outputs": [
    {
     "name": "stderr",
     "output_type": "stream",
     "text": [
      "Sample: 100%|█| 600/600 [00:00, 896.54it/s, step size=4.81e-01, acc. prob=0.959]\n"
     ]
    },
    {
     "data": {
      "text/plain": [
       "tensor([1.0582, 1.8807, 2.7961])"
      ]
     },
     "execution_count": 11,
     "metadata": {},
     "output_type": "execute_result"
    }
   ],
   "source": [
    "def model(data):\n",
    "    coefs_mean = torch.zeros(dim)\n",
    "    coefs = pyro.sample('beta', pyro.distributions.Normal(coefs_mean, torch.ones(3)))\n",
    "    y = pyro.sample('y', pyro.distributions.Bernoulli(logits=(coefs * data).sum(-1)), obs=labels)\n",
    "    return y\n",
    "\n",
    "hmc_kernel = pyro.infer.HMC(model, step_size=0.0855, num_steps=4)\n",
    "mcmc = pyro.infer.MCMC(hmc_kernel, num_samples=500, warmup_steps=100)\n",
    "mcmc.run(data)\n",
    "mcmc.get_samples()['beta'].mean(0)  "
   ]
  },
  {
   "cell_type": "code",
   "execution_count": 34,
   "id": "02789f7a",
   "metadata": {},
   "outputs": [
    {
     "data": {
      "text/plain": [
       "tensor([ 4.7818, -0.4584, -1.3163,  ..., -1.9061, -0.0317,  1.7577])"
      ]
     },
     "execution_count": 34,
     "metadata": {},
     "output_type": "execute_result"
    }
   ],
   "source": [
    "(true_coefs * data).sum(-1)"
   ]
  },
  {
   "cell_type": "code",
   "execution_count": 18,
   "id": "cbb6bbb1",
   "metadata": {},
   "outputs": [],
   "source": [
    "import numpy as np"
   ]
  },
  {
   "cell_type": "code",
   "execution_count": 15,
   "id": "b2227aec",
   "metadata": {},
   "outputs": [],
   "source": [
    "data_ar = np.array(data)"
   ]
  },
  {
   "cell_type": "code",
   "execution_count": 25,
   "id": "e1bccb14",
   "metadata": {},
   "outputs": [
    {
     "data": {
      "text/plain": [
       "(array([  1.,   6.,   3.,   3.,   5.,   8.,  17.,  15.,  11.,  34.,  31.,\n",
       "         43.,  45.,  40.,  48.,  50.,  56.,  75.,  57.,  72.,  94.,  86.,\n",
       "         97., 112., 105.,  90.,  77.,  77.,  88.,  70.,  69.,  75.,  61.,\n",
       "         48.,  49.,  25.,  38.,  28.,  24.,  15.,  13.,  11.,   9.,   5.,\n",
       "          1.,   7.,   1.,   1.,   2.,   2.]),\n",
       " array([-2.9011412 , -2.7793105 , -2.6574798 , -2.5356488 , -2.4138181 ,\n",
       "        -2.2919874 , -2.1701567 , -2.048326  , -1.9264952 , -1.8046645 ,\n",
       "        -1.6828337 , -1.561003  , -1.4391723 , -1.3173414 , -1.1955107 ,\n",
       "        -1.07368   , -0.9518492 , -0.8300185 , -0.70818776, -0.586357  ,\n",
       "        -0.46452627, -0.34269553, -0.22086479, -0.09903404,  0.02279671,\n",
       "         0.14462745,  0.26645818,  0.38828894,  0.5101197 ,  0.63195044,\n",
       "         0.7537812 ,  0.8756119 ,  0.99744266,  1.1192734 ,  1.2411041 ,\n",
       "         1.362935  ,  1.4847656 ,  1.6065964 ,  1.7284272 ,  1.8502579 ,\n",
       "         1.9720886 ,  2.0939193 ,  2.2157502 ,  2.337581  ,  2.4594116 ,\n",
       "         2.5812423 ,  2.703073  ,  2.8249037 ,  2.9467347 ,  3.0685654 ,\n",
       "         3.190396  ], dtype=float32),\n",
       " <BarContainer object of 50 artists>)"
      ]
     },
     "execution_count": 25,
     "metadata": {},
     "output_type": "execute_result"
    },
    {
     "data": {
      "image/png": "[encoded data removed]",
      "text/plain": [
       "<Figure size 432x288 with 1 Axes>"
      ]
     },
     "metadata": {
      "needs_background": "light"
     },
     "output_type": "display_data"
    }
   ],
   "source": [
    "plt.hist(data_ar[:,0],bins=50,alpha=0.5)\n",
    "plt.hist(data_ar[:,1],bins=50,alpha=0.5)\n",
    "plt.hist(data_ar[:,2],bins=50,alpha=0.5)"
   ]
  },
  {
   "cell_type": "code",
   "execution_count": null,
   "id": "8d449530",
   "metadata": {},
   "outputs": [],
   "source": [
    "def my_model(para):\n",
    "    "
   ]
  }
 ],
 "metadata": {
  "kernelspec": {
   "display_name": "Python 3 (ipykernel)",
   "language": "python",
   "name": "python3"
  },
  "language_info": {
   "codemirror_mode": {
    "name": "ipython",
    "version": 3
   },
   "file_extension": ".py",
   "mimetype": "text/x-python",
   "name": "python",
   "nbconvert_exporter": "python",
   "pygments_lexer": "ipython3",
   "version": "3.9.7"
  }
 },
 "nbformat": 4,
 "nbformat_minor": 5
}
