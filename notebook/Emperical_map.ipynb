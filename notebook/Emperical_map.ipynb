{
 "cells": [
  {
   "cell_type": "code",
   "execution_count": 1,
   "id": "f420e9e5",
   "metadata": {},
   "outputs": [],
   "source": [
    "import scipy.io\n",
    "import pandas as pd\n",
    "import numpy as np\n",
    "import matplotlib.pyplot as plt\n",
    "from scipy.stats import norm\n",
    "from scipy.optimize import minimize\n",
    "\n",
    "from scipy.io import loadmat, savemat\n",
    "import pandas as pd\n",
    "import scipy.special as SS\n",
    "import scipy.stats as SSA\n",
    "import copy\n",
    "import random\n",
    "import math\n",
    "from sklearn.model_selection import ParameterGrid\n",
    "import os\n",
    "import numpy.linalg as LA\n",
    "import gzip\n",
    "\n",
    "# load pickle module\n",
    "import pickle"
   ]
  },
  {
   "cell_type": "code",
   "execution_count": 2,
   "id": "051249dc",
   "metadata": {},
   "outputs": [],
   "source": [
    "import geopandas as gpd\n",
    "import pandas as pd"
   ]
  },
  {
   "cell_type": "code",
   "execution_count": 3,
   "id": "1629d050",
   "metadata": {},
   "outputs": [],
   "source": [
    "usa = gpd.read_file('/Users/qingyao/OneDrive - cumc.columbia.edu/machine_learning_data/cb_2020_us_county_500k/cb_2020_us_county_500k.shp')"
   ]
  },
  {
   "cell_type": "code",
   "execution_count": 5,
   "id": "c8fa0f89",
   "metadata": {},
   "outputs": [],
   "source": [
    "usa_main = usa[~usa['STATEFP'].isin([\"02\",\"15\",\"60\",\"66\",\"69\",\"71\",\"72\",\"78\"])]"
   ]
  },
  {
   "cell_type": "code",
   "execution_count": 89,
   "id": "397d4ec9",
   "metadata": {},
   "outputs": [],
   "source": [
    "real_data_path = '/Users/qingyao/OneDrive - cumc.columbia.edu/machine_learning_data/'\n",
    "cases = pd.read_csv(real_data_path + 'county_data/ts_covid19_confirmed_US_mainland.csv')"
   ]
  },
  {
   "cell_type": "code",
   "execution_count": 68,
   "id": "3cb36ef2",
   "metadata": {},
   "outputs": [],
   "source": [
    "col_idx = list(range(40,41+315))\n",
    "col_idx.append(4)"
   ]
  },
  {
   "cell_type": "code",
   "execution_count": 69,
   "id": "a12857bb",
   "metadata": {},
   "outputs": [],
   "source": [
    "s_cases = cases.iloc[:,col_idx]"
   ]
  },
  {
   "cell_type": "code",
   "execution_count": 31,
   "id": "7454f885",
   "metadata": {},
   "outputs": [],
   "source": [
    "dates_col = cases.columns[40:41+315]"
   ]
  },
  {
   "cell_type": "code",
   "execution_count": 93,
   "id": "5bae2389",
   "metadata": {},
   "outputs": [
    {
     "data": {
      "text/html": [
       "<div>\n",
       "<style scoped>\n",
       "    .dataframe tbody tr th:only-of-type {\n",
       "        vertical-align: middle;\n",
       "    }\n",
       "\n",
       "    .dataframe tbody tr th {\n",
       "        vertical-align: top;\n",
       "    }\n",
       "\n",
       "    .dataframe thead th {\n",
       "        text-align: right;\n",
       "    }\n",
       "</style>\n",
       "<table border=\"1\" class=\"dataframe\">\n",
       "  <thead>\n",
       "    <tr style=\"text-align: right;\">\n",
       "      <th></th>\n",
       "      <th>UID</th>\n",
       "      <th>iso2</th>\n",
       "      <th>iso3</th>\n",
       "      <th>code3</th>\n",
       "      <th>FIPS</th>\n",
       "      <th>Admin2</th>\n",
       "      <th>Province_State</th>\n",
       "      <th>Country_Region</th>\n",
       "      <th>Lat</th>\n",
       "      <th>Long_</th>\n",
       "      <th>...</th>\n",
       "      <th>2/28/23</th>\n",
       "      <th>03/01/2023</th>\n",
       "      <th>03/02/2023</th>\n",
       "      <th>03/03/2023</th>\n",
       "      <th>03/04/2023</th>\n",
       "      <th>03/05/2023</th>\n",
       "      <th>03/06/2023</th>\n",
       "      <th>03/07/2023</th>\n",
       "      <th>03/08/2023</th>\n",
       "      <th>03/09/2023</th>\n",
       "    </tr>\n",
       "  </thead>\n",
       "  <tbody>\n",
       "    <tr>\n",
       "      <th>1824</th>\n",
       "      <td>84036061</td>\n",
       "      <td>US</td>\n",
       "      <td>USA</td>\n",
       "      <td>840</td>\n",
       "      <td>36061</td>\n",
       "      <td>New York</td>\n",
       "      <td>New York</td>\n",
       "      <td>US</td>\n",
       "      <td>40.767273</td>\n",
       "      <td>-73.971526</td>\n",
       "      <td>...</td>\n",
       "      <td>595118</td>\n",
       "      <td>595203</td>\n",
       "      <td>595458</td>\n",
       "      <td>595628</td>\n",
       "      <td>595628</td>\n",
       "      <td>595628</td>\n",
       "      <td>596044</td>\n",
       "      <td>596132</td>\n",
       "      <td>596196</td>\n",
       "      <td>596334</td>\n",
       "    </tr>\n",
       "  </tbody>\n",
       "</table>\n",
       "<p>1 rows × 1154 columns</p>\n",
       "</div>"
      ],
      "text/plain": [
       "           UID iso2 iso3  code3   FIPS    Admin2 Province_State  \\\n",
       "1824  84036061   US  USA    840  36061  New York       New York   \n",
       "\n",
       "     Country_Region        Lat      Long_  ... 2/28/23  03/01/2023  \\\n",
       "1824             US  40.767273 -73.971526  ...  595118      595203   \n",
       "\n",
       "      03/02/2023  03/03/2023  03/04/2023  03/05/2023  03/06/2023  03/07/2023  \\\n",
       "1824      595458      595628      595628      595628      596044      596132   \n",
       "\n",
       "      03/08/2023  03/09/2023  \n",
       "1824      596196      596334  \n",
       "\n",
       "[1 rows x 1154 columns]"
      ]
     },
     "execution_count": 93,
     "metadata": {},
     "output_type": "execute_result"
    }
   ],
   "source": [
    "cases[cases.FIPS == 36061]"
   ]
  },
  {
   "cell_type": "code",
   "execution_count": 94,
   "id": "4dbd1d10",
   "metadata": {},
   "outputs": [
    {
     "data": {
      "text/plain": [
       "array([0, 0, 0, 0, 0, 0, 0, 0, 0, 0, 0, 0, 0, 0, 1, 2, 5, 5, 5, 12, 24,\n",
       "       27, 45, 84, 112, 172, 241, 402, 737, 1174, 1544, 2066, 2673, 3078,\n",
       "       3520, 4062, 4585, 5216, 5806, 6228, 6876, 8173, 8997, 9625, 10212,\n",
       "       10878, 11573, 11984, 12365, 13119, 13754, 14323, 14913, 15433,\n",
       "       15755, 16032, 16440, 16900, 17348, 17719, 18057, 18259, 18454,\n",
       "       18847, 19233, 19633, 20043, 20458, 20609, 20719, 21027, 21354,\n",
       "       21646, 21866, 22114, 22257, 22363, 22587, 22833, 23000, 23120,\n",
       "       23225, 23303, 23400, 23595, 23760, 23919, 24073, 24213, 24267,\n",
       "       24318, 24451, 24618, 24784, 24929, 25082, 25131, 25202, 25273,\n",
       "       25401, 25511, 25610, 25684, 25724, 25750, 25829, 25901, 25976,\n",
       "       26064, 26117, 26152, 26179, 26260, 26327, 26397, 26456, 26517,\n",
       "       26542, 26571, 26634, 26702, 26772, 26830, 26887, 26933, 26960,\n",
       "       27025, 27106, 27179, 27225, 27289, 27327, 27371, 27452, 27548,\n",
       "       27634, 27716, 27768, 27804, 27836, 27917, 28011, 28134, 28224,\n",
       "       28277, 28327, 28371, 28454, 28540, 28613, 28704, 28817, 28856,\n",
       "       28895, 28980, 29053, 29113, 29181, 29240, 29276, 29299, 29376,\n",
       "       29437, 29497, 29543, 29599, 29635, 29662, 29726, 29771, 29824,\n",
       "       29884, 29936, 29963, 29984, 30036, 30081, 30126, 30179, 30227,\n",
       "       30254, 30278, 30338, 30406, 30464, 30500, 30554, 30588, 30608,\n",
       "       30659, 30716, 30768, 30821, 30874, 30900, 30937, 30991, 31050,\n",
       "       31104, 31143, 31177, 31199, 31232, 31277, 31341, 31415, 31480,\n",
       "       31540, 31579, 31626, 31699, 31748, 31808, 31868, 31916, 31951,\n",
       "       31980, 32041, 32097, 32173, 32238, 32312, 32352, 32391, 32451,\n",
       "       32542, 32640, 32736, 32821, 32870, 32903, 33011, 33095, 33180,\n",
       "       33265, 33344, 33395, 33432, 33525, 33647, 33755, 33874, 33994,\n",
       "       34063, 34121, 34250, 34381, 34526, 34691, 34803, 34882, 34958,\n",
       "       35117, 35286, 35466, 35627, 35778, 35859, 35968, 36164, 36371,\n",
       "       36636, 36925, 37176, 37396, 37604, 37986, 38376, 38762, 39165,\n",
       "       39529, 39756, 39963, 40398, 40792, 41222, 41663, 42078, 42323,\n",
       "       42559, 43062, 43533, 44050, 44263, 44795, 45189, 45515, 46030,\n",
       "       46699, 47307, 47899, 48416, 48711, 49035, 49645, 50256, 50898,\n",
       "       51507, 52163, 52533, 52958, 53594, 54279, 54853, 55316, 55977,\n",
       "       56390, 56768, 57492, 58123, 58714, 59183, 59386, 59804, 60281,\n",
       "       60942], dtype=object)"
      ]
     },
     "execution_count": 94,
     "metadata": {},
     "output_type": "execute_result"
    }
   ],
   "source": [
    "cases.iloc[1824,40:41+315].values"
   ]
  },
  {
   "cell_type": "code",
   "execution_count": 71,
   "id": "76c77243",
   "metadata": {},
   "outputs": [],
   "source": [
    "daily_cases = np.diff(np.array(s_cases[dates_col]),axis=1)"
   ]
  },
  {
   "cell_type": "code",
   "execution_count": 74,
   "id": "49bcbaf6",
   "metadata": {},
   "outputs": [
    {
     "data": {
      "text/plain": [
       "array([   5,    6,    6, ..., 3107, 3107, 3107])"
      ]
     },
     "execution_count": 74,
     "metadata": {},
     "output_type": "execute_result"
    }
   ],
   "source": [
    "np.where(daily_cases<0)[0]"
   ]
  },
  {
   "cell_type": "code",
   "execution_count": 95,
   "id": "953ed5e3",
   "metadata": {},
   "outputs": [
    {
     "data": {
      "text/plain": [
       "[<matplotlib.lines.Line2D at 0x168e4f250>]"
      ]
     },
     "execution_count": 95,
     "metadata": {},
     "output_type": "execute_result"
    },
    {
     "data": {
      "image/png": "[encoded data removed]",
      "text/plain": [
       "<Figure size 640x480 with 1 Axes>"
      ]
     },
     "metadata": {},
     "output_type": "display_data"
    }
   ],
   "source": [
    "plt.plot(s_cases.iloc[1824,:-1].values)"
   ]
  },
  {
   "cell_type": "code",
   "execution_count": 96,
   "id": "99c2cc97",
   "metadata": {},
   "outputs": [
    {
     "data": {
      "text/plain": [
       "[<matplotlib.lines.Line2D at 0x169443b90>]"
      ]
     },
     "execution_count": 96,
     "metadata": {},
     "output_type": "execute_result"
    },
    {
     "data": {
      "image/png": "[encoded data removed]",
      "text/plain": [
       "<Figure size 640x480 with 1 Axes>"
      ]
     },
     "metadata": {},
     "output_type": "display_data"
    }
   ],
   "source": [
    "plt.plot(np.diff(s_cases.iloc[1824,:-1].values))"
   ]
  },
  {
   "cell_type": "code",
   "execution_count": 57,
   "id": "bf60e900",
   "metadata": {},
   "outputs": [
    {
     "name": "stderr",
     "output_type": "stream",
     "text": [
      "/var/folders/vx/g_l159t12yb63094n730n4pm0000gn/T/ipykernel_11452/2413632603.py:1: SettingWithCopyWarning: \n",
      "A value is trying to be set on a copy of a slice from a DataFrame\n",
      "\n",
      "See the caveats in the documentation: https://pandas.pydata.org/pandas-docs/stable/user_guide/indexing.html#returning-a-view-versus-a-copy\n",
      "  s_cases.iloc[:,1:316] = daily_cases\n"
     ]
    }
   ],
   "source": [
    "s_cases.iloc[:,1:316] = daily_cases "
   ]
  },
  {
   "cell_type": "code",
   "execution_count": 10,
   "id": "9d3fba66",
   "metadata": {},
   "outputs": [
    {
     "data": {
      "text/plain": [
       "Index(['STATEFP', 'COUNTYFP', 'COUNTYNS', 'AFFGEOID', 'GEOID', 'NAME',\n",
       "       'NAMELSAD', 'STUSPS', 'STATE_NAME', 'LSAD', 'ALAND', 'AWATER',\n",
       "       'geometry'],\n",
       "      dtype='object')"
      ]
     },
     "execution_count": 10,
     "metadata": {},
     "output_type": "execute_result"
    }
   ],
   "source": [
    "usa_main.columns"
   ]
  },
  {
   "cell_type": "code",
   "execution_count": 11,
   "id": "5d02517d",
   "metadata": {},
   "outputs": [],
   "source": [
    "usa_main = usa_main.set_index('GEOID').join(cases.set_index('FIPS'))"
   ]
  },
  {
   "cell_type": "code",
   "execution_count": null,
   "id": "29ed419d",
   "metadata": {},
   "outputs": [],
   "source": [
    "dates = data.columns[1:]  # dates\n",
    "\n",
    "# create a directory to save the plots\n",
    "import os\n",
    "if not os.path.exists('plots'):\n",
    "    os.makedirs('plots')\n",
    "\n",
    "for i, date in enumerate(dates):\n",
    "    fig, ax = plt.subplots(1, figsize=(10, 6))\n",
    "    usa.plot(column=date, cmap='YlOrRd', linewidth=0.8, ax=ax, edgecolor='0.8')\n",
    "    ax.axis('off')\n",
    "    ax.set_title('Title for ' + date, fontdict={'fontsize': '25', 'fontweight' : '3'})\n",
    "    fig.savefig(\"plots/map_{}.png\".format(i), dpi=300)\n",
    "    plt.close(fig)"
   ]
  }
 ],
 "metadata": {
  "kernelspec": {
   "display_name": "geo",
   "language": "python",
   "name": "geo"
  },
  "language_info": {
   "codemirror_mode": {
    "name": "ipython",
    "version": 3
   },
   "file_extension": ".py",
   "mimetype": "text/x-python",
   "name": "python",
   "nbconvert_exporter": "python",
   "pygments_lexer": "ipython3",
   "version": "3.11.3"
  }
 },
 "nbformat": 4,
 "nbformat_minor": 5
}
