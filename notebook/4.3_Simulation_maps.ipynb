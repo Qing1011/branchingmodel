{
 "cells": [
  {
   "cell_type": "code",
   "execution_count": 16,
   "id": "a21d2406",
   "metadata": {},
   "outputs": [],
   "source": [
    "import scipy.io\n",
    "import pandas as pd\n",
    "import numpy as np\n",
    "import matplotlib.pyplot as plt\n",
    "from scipy.stats import norm\n",
    "from scipy.optimize import minimize\n",
    "\n",
    "from scipy.io import loadmat, savemat\n",
    "import pandas as pd\n",
    "import scipy.special as SS\n",
    "import scipy.stats as SSA\n",
    "import copy\n",
    "import random\n",
    "import math\n",
    "from sklearn.model_selection import ParameterGrid\n",
    "import os\n",
    "import numpy.linalg as LA\n",
    "import gzip\n",
    "\n",
    "# load pickle module\n",
    "import pickle\n",
    "import geopandas as gpd\n",
    "from matplotlib.colors import Normalize\n",
    "import matplotlib.colors as mcolors"
   ]
  },
  {
   "cell_type": "code",
   "execution_count": 2,
   "id": "30cb3c51",
   "metadata": {},
   "outputs": [
    {
     "name": "stderr",
     "output_type": "stream",
     "text": [
      "/Users/qingyao/anaconda3/envs/geo/lib/python3.11/site-packages/geopandas/geodataframe.py:1538: SettingWithCopyWarning: \n",
      "A value is trying to be set on a copy of a slice from a DataFrame.\n",
      "Try using .loc[row_indexer,col_indexer] = value instead\n",
      "\n",
      "See the caveats in the documentation: https://pandas.pydata.org/pandas-docs/stable/user_guide/indexing.html#returning-a-view-versus-a-copy\n",
      "  super().__setitem__(key, value)\n"
     ]
    }
   ],
   "source": [
    "usa = gpd.read_file('/Users/qingyao/OneDrive - cumc.columbia.edu/machine_learning_data/cb_2020_us_county_500k/cb_2020_us_county_500k.shp')\n",
    "usa_main = usa[~usa['STATEFP'].isin([\"02\",\"15\",\"60\",\"66\",\"69\",\"71\",\"72\",\"78\"])]\n",
    "usa_main['FIPS'] = usa_main['GEOID'].astype('int64')\n",
    "usa_main_sorted = usa_main.sort_values(by='FIPS')"
   ]
  },
  {
   "cell_type": "code",
   "execution_count": 43,
   "id": "7bde6191",
   "metadata": {},
   "outputs": [],
   "source": [
    "usa_main_projected = usa_main_sorted.to_crs(epsg=5070)\n",
    "usa_main_projected['centroids'] = usa_main_projected.geometry.centroid\n",
    "usa_main_projected['centroid_x'] = usa_main_projected['centroids'].x\n",
    "usa_main_projected['centroid_y'] = usa_main_projected['centroids'].y"
   ]
  },
  {
   "cell_type": "code",
   "execution_count": 55,
   "id": "94987bf0",
   "metadata": {},
   "outputs": [],
   "source": [
    "result_dir = '/Users/qingyao/Documents/branching_data/simulation/with_mobility/'"
   ]
  },
  {
   "cell_type": "code",
   "execution_count": 56,
   "id": "640d7ea2",
   "metadata": {},
   "outputs": [
    {
     "name": "stdout",
     "output_type": "stream",
     "text": [
      "dict_keys(['seeds', 'rs', 'M_E_NewInf'])\n"
     ]
    }
   ],
   "source": [
    "import pickle\n",
    "\n",
    "# Load from a file\n",
    "with open(result_dir+'test.pkl', 'rb') as file:\n",
    "    loaded_data = pickle.load(file)\n",
    "print(loaded_data.keys())"
   ]
  },
  {
   "cell_type": "code",
   "execution_count": 57,
   "id": "784aabbe",
   "metadata": {},
   "outputs": [],
   "source": [
    "simulated_cases =  loaded_data['M_E_NewInf'][0]"
   ]
  },
  {
   "cell_type": "code",
   "execution_count": 58,
   "id": "832b2246",
   "metadata": {},
   "outputs": [],
   "source": [
    "dates_idx = pd.date_range('2020-02-21',periods=60)\n",
    "formatted_dates = dates_idx.strftime('%m-%d-%Y').tolist()\n",
    "s_cases = pd.DataFrame(index=range(3108), columns = formatted_dates)\n",
    "s_cases.iloc[:,:] = simulated_cases"
   ]
  },
  {
   "cell_type": "code",
   "execution_count": 59,
   "id": "f36e2085",
   "metadata": {},
   "outputs": [],
   "source": [
    "df_fips_sorted = pd.read_csv('fips_sorted.cvs')\n",
    "s_cases['FIPS'] = df_fips_sorted['FIPS']"
   ]
  },
  {
   "cell_type": "code",
   "execution_count": 60,
   "id": "a0596b4d",
   "metadata": {},
   "outputs": [],
   "source": [
    "df_cases_us_geo_projected = usa_main_projected.merge(s_cases,how='left',left_on='FIPS',right_on='FIPS')"
   ]
  },
  {
   "cell_type": "code",
   "execution_count": 41,
   "id": "fdeb045e",
   "metadata": {},
   "outputs": [],
   "source": [
    "def find_the_large_link(arr, rank):\n",
    "    arr_copy = arr.copy()\n",
    "    \n",
    "    # Use a large negative value for the diagonal.\n",
    "    np.fill_diagonal(arr_copy, -np.iinfo(np.int32).max)\n",
    "    \n",
    "    sorted_indices = np.argsort(arr_copy, axis=None)\n",
    "    top_10_indices = sorted_indices[-rank:]\n",
    "    row_indices, col_indices = np.unravel_index(top_10_indices, arr.shape)\n",
    "    \n",
    "    return list(zip(row_indices, col_indices))"
   ]
  },
  {
   "cell_type": "code",
   "execution_count": 62,
   "id": "89844bf9",
   "metadata": {},
   "outputs": [],
   "source": [
    "# dates_idx = pd.date_range('2020-02-21',periods=60)\n",
    "# formatted_dates = dates.strftime('%Y-%m-%d').tolist()\n",
    "file_path = '/Users/qingyao/Documents/branching_data/real_data/'\n",
    "norm = Normalize(vmin=0, vmax=100)\n",
    "###########################\n",
    "dates = formatted_dates[:60]\n",
    "########################## \n",
    "colors = plt.cm.YlOrRd(np.linspace(0, 1, 128))\n",
    "colors_with_white = np.vstack(([1, 1, 1, 1], colors))  # Add white at the start\n",
    "custom_colormap = mcolors. LinearSegmentedColormap.from_list(\"custom_YlOrRd\", colors_with_white)\n",
    "\n",
    "for i, date in enumerate(dates):\n",
    "#     safe_date = date\n",
    "#     print(safe_date)\n",
    "    safe_date = date.replace(\"-\", \"_\")  # Replace / with _\n",
    "    fig, ax = plt.subplots(1 , figsize=(10, 6), dpi=450)\n",
    "    \n",
    "    plot_obj = df_cases_us_geo_projected.plot(column=date, cmap=custom_colormap, \n",
    "                                              linewidth=0.02, ax=ax, edgecolor='0.1',\n",
    "                                              norm=norm)\n",
    "    \n",
    "    ax.axis('off')\n",
    "    ax.set_title('daily cases for ' + date, fontdict={'fontsize': '12', 'fontweight' : '3'})\n",
    "    \n",
    "    cax = fig.add_axes([0.9, 0.2, 0.01, 0.5])  \n",
    "    cbar = fig.colorbar(plt.cm.ScalarMappable(norm=norm, cmap='YlOrRd'), cax=cax)\n",
    "    cbar.set_label('Number of Cases per 100K pop')\n",
    "#     plt.show()\n",
    "\n",
    "    \n",
    "    m, d, y = safe_date.split('_')\n",
    "    M_test = np.loadtxt(file_path+'M_{}{}_{}.csv'.format(y,m,d),delimiter=',')\n",
    "\n",
    "    large_links = find_the_large_link(M_test,2000)\n",
    "    arr_normalized = 5*(M_test - M_test.min()) / (M_test.max() - M_test.min())\n",
    "    \n",
    "    for (in_county, out_county) in large_links:      \n",
    "#         print(out_county, df_cases_us_geo_projected.iloc[out_county]['FIPS'])\n",
    "#         print(in_county, df_cases_us_geo_projected.iloc[in_county]['FIPS'])\n",
    "         \n",
    "        out_x = df_cases_us_geo_projected.iloc[out_county]['centroid_x']\n",
    "        out_y = df_cases_us_geo_projected.iloc[out_county]['centroid_y']\n",
    "\n",
    "        in_x = df_cases_us_geo_projected.iloc[in_county]['centroid_x']\n",
    "        in_y = df_cases_us_geo_projected.iloc[in_county]['centroid_y']\n",
    "        \n",
    "        arrowprops = dict(arrowstyle='->,head_width=0.1,head_length=0.1', \n",
    "                          linewidth=arr_normalized[in_county, out_county], \n",
    "                          color='blue', connectionstyle=\"arc3,rad=0.3\")\n",
    "        \n",
    "        ax.annotate('', xy=(in_x, in_y), xytext=(out_x, out_y),\n",
    "                    arrowprops=arrowprops) \n",
    "#         ax.arrow(out_x, out_y,  \n",
    "#                  in_x - out_x, in_y - out_y, \n",
    "         \n",
    "#                  head_width=0.1, head_length=0.5, fc='blue', ec='blue',linewidth=arr_normalized[in_county, out_county])\n",
    "    \n",
    "    save_dir = '/Users/qingyao/Documents/branching_data/maps/simulate/'\n",
    "    \n",
    "    fig.savefig(save_dir+\"plots/map_{}.png\".format(safe_date),bbox_inches='tight', pad_inches=0)\n",
    "    plt.close(fig)"
   ]
  },
  {
   "cell_type": "code",
   "execution_count": null,
   "id": "90e3d0c6",
   "metadata": {},
   "outputs": [],
   "source": []
  }
 ],
 "metadata": {
  "kernelspec": {
   "display_name": "geo",
   "language": "python",
   "name": "geo"
  },
  "language_info": {
   "codemirror_mode": {
    "name": "ipython",
    "version": 3
   },
   "file_extension": ".py",
   "mimetype": "text/x-python",
   "name": "python",
   "nbconvert_exporter": "python",
   "pygments_lexer": "ipython3",
   "version": "3.11.3"
  }
 },
 "nbformat": 4,
 "nbformat_minor": 5
}
