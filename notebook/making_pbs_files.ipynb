{
 "cells": [
  {
   "cell_type": "code",
   "execution_count": 1,
   "id": "dc7a69eb",
   "metadata": {},
   "outputs": [],
   "source": [
    "# Generate PBS script\n",
    "def generate_pbs_script(param, filename):\n",
    "    script = f\"\"\"\\\n",
    "#PBS -l walltime=70:00:00\n",
    "#PBS -l select=1:ncpus=1:mem=2gb\n",
    "#PBS -J 1-300\n",
    "\n",
    "module load anaconda3/personal\n",
    "source activate motifenv\n",
    "\n",
    "cd $HOME/branching/\n",
    "python3 branching_cluster_ic_v2.py {param} $PBS_ARRAY_INDEX –o output.txt\n",
    "\"\"\"\n",
    "    with open(filename, 'w') as f:\n",
    "        f.write(script)\n",
    "\n",
    "# Define parameters\n",
    "parameters = range(90, 99)  # Replace this with the range of parameters you want\n",
    "\n",
    "# Generate scripts\n",
    "for param in parameters:\n",
    "    filename = f\"branching_{param}.pbs\"  # Name the file related to the parameter\n",
    "    generate_pbs_script(param, filename)"
   ]
  },
  {
   "cell_type": "code",
   "execution_count": null,
   "id": "82df4f06",
   "metadata": {},
   "outputs": [],
   "source": []
  }
 ],
 "metadata": {
  "kernelspec": {
   "display_name": "geo",
   "language": "python",
   "name": "geo"
  },
  "language_info": {
   "codemirror_mode": {
    "name": "ipython",
    "version": 3
   },
   "file_extension": ".py",
   "mimetype": "text/x-python",
   "name": "python",
   "nbconvert_exporter": "python",
   "pygments_lexer": "ipython3",
   "version": "3.11.3"
  }
 },
 "nbformat": 4,
 "nbformat_minor": 5
}
