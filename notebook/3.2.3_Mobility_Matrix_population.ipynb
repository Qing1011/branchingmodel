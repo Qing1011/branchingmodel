{
 "cells": [
  {
   "cell_type": "code",
   "execution_count": 1,
   "id": "c58a29c9",
   "metadata": {},
   "outputs": [],
   "source": [
    "import numpy as np\n",
    "import matplotlib.pyplot as plt\n",
    "from scipy.io import loadmat, savemat\n",
    "import pandas as pd\n",
    "import copy"
   ]
  },
  {
   "cell_type": "code",
   "execution_count": 2,
   "id": "aaa18925",
   "metadata": {},
   "outputs": [],
   "source": [
    "fips_main = pd.read_csv('/Users/qingyao/OneDrive - cumc.columbia.edu/machine_learning_data/county_data/fips_mainland.csv',names=['FIPS'])"
   ]
  },
  {
   "cell_type": "code",
   "execution_count": 7,
   "id": "6475e808",
   "metadata": {},
   "outputs": [],
   "source": [
    "df_fips = pd.read_csv('/Users/qingyao/OneDrive - cumc.columbia.edu/machine_learning_data/county_data/land_density_2020.csv')"
   ]
  },
  {
   "cell_type": "code",
   "execution_count": 8,
   "id": "3b5c2d6e",
   "metadata": {},
   "outputs": [
    {
     "data": {
      "text/html": [
       "<div>\n",
       "<style scoped>\n",
       "    .dataframe tbody tr th:only-of-type {\n",
       "        vertical-align: middle;\n",
       "    }\n",
       "\n",
       "    .dataframe tbody tr th {\n",
       "        vertical-align: top;\n",
       "    }\n",
       "\n",
       "    .dataframe thead th {\n",
       "        text-align: right;\n",
       "    }\n",
       "</style>\n",
       "<table border=\"1\" class=\"dataframe\">\n",
       "  <thead>\n",
       "    <tr style=\"text-align: right;\">\n",
       "      <th></th>\n",
       "      <th>STATE</th>\n",
       "      <th>COUNTY</th>\n",
       "      <th>GEOID</th>\n",
       "      <th>STATE_NAME</th>\n",
       "      <th>COUNTY_NAME</th>\n",
       "      <th>POP_COU</th>\n",
       "      <th>HOU_COU</th>\n",
       "      <th>ALAND_COU</th>\n",
       "      <th>ALAND_Mi²_COU</th>\n",
       "      <th>POPDEN_COU</th>\n",
       "      <th>HOUDEN_COU</th>\n",
       "    </tr>\n",
       "  </thead>\n",
       "  <tbody>\n",
       "    <tr>\n",
       "      <th>0</th>\n",
       "      <td>1</td>\n",
       "      <td>1</td>\n",
       "      <td>1001</td>\n",
       "      <td>Alabama</td>\n",
       "      <td>Autauga</td>\n",
       "      <td>58805</td>\n",
       "      <td>24350</td>\n",
       "      <td>1.539634e+09</td>\n",
       "      <td>594.452758</td>\n",
       "      <td>98.922916</td>\n",
       "      <td>40.962044</td>\n",
       "    </tr>\n",
       "    <tr>\n",
       "      <th>1</th>\n",
       "      <td>1</td>\n",
       "      <td>3</td>\n",
       "      <td>1003</td>\n",
       "      <td>Alabama</td>\n",
       "      <td>Baldwin</td>\n",
       "      <td>231767</td>\n",
       "      <td>124148</td>\n",
       "      <td>4.117656e+09</td>\n",
       "      <td>1589.827058</td>\n",
       "      <td>145.781265</td>\n",
       "      <td>78.088997</td>\n",
       "    </tr>\n",
       "    <tr>\n",
       "      <th>2</th>\n",
       "      <td>1</td>\n",
       "      <td>5</td>\n",
       "      <td>1005</td>\n",
       "      <td>Alabama</td>\n",
       "      <td>Barbour</td>\n",
       "      <td>25223</td>\n",
       "      <td>11618</td>\n",
       "      <td>2.292160e+09</td>\n",
       "      <td>885.003034</td>\n",
       "      <td>28.500467</td>\n",
       "      <td>13.127639</td>\n",
       "    </tr>\n",
       "    <tr>\n",
       "      <th>3</th>\n",
       "      <td>1</td>\n",
       "      <td>7</td>\n",
       "      <td>1007</td>\n",
       "      <td>Alabama</td>\n",
       "      <td>Bibb</td>\n",
       "      <td>22293</td>\n",
       "      <td>9002</td>\n",
       "      <td>1.612189e+09</td>\n",
       "      <td>622.466064</td>\n",
       "      <td>35.814001</td>\n",
       "      <td>14.461833</td>\n",
       "    </tr>\n",
       "    <tr>\n",
       "      <th>4</th>\n",
       "      <td>1</td>\n",
       "      <td>9</td>\n",
       "      <td>1009</td>\n",
       "      <td>Alabama</td>\n",
       "      <td>Blount</td>\n",
       "      <td>59134</td>\n",
       "      <td>24622</td>\n",
       "      <td>1.670259e+09</td>\n",
       "      <td>644.887035</td>\n",
       "      <td>91.696680</td>\n",
       "      <td>38.180330</td>\n",
       "    </tr>\n",
       "  </tbody>\n",
       "</table>\n",
       "</div>"
      ],
      "text/plain": [
       "   STATE  COUNTY  GEOID STATE_NAME COUNTY_NAME  POP_COU  HOU_COU  \\\n",
       "0      1       1   1001    Alabama     Autauga    58805    24350   \n",
       "1      1       3   1003    Alabama     Baldwin   231767   124148   \n",
       "2      1       5   1005    Alabama     Barbour    25223    11618   \n",
       "3      1       7   1007    Alabama        Bibb    22293     9002   \n",
       "4      1       9   1009    Alabama      Blount    59134    24622   \n",
       "\n",
       "      ALAND_COU  ALAND_Mi²_COU  POPDEN_COU  HOUDEN_COU  \n",
       "0  1.539634e+09     594.452758   98.922916   40.962044  \n",
       "1  4.117656e+09    1589.827058  145.781265   78.088997  \n",
       "2  2.292160e+09     885.003034   28.500467   13.127639  \n",
       "3  1.612189e+09     622.466064   35.814001   14.461833  \n",
       "4  1.670259e+09     644.887035   91.696680   38.180330  "
      ]
     },
     "execution_count": 8,
     "metadata": {},
     "output_type": "execute_result"
    }
   ],
   "source": [
    "df_fips.head()"
   ]
  },
  {
   "cell_type": "code",
   "execution_count": 9,
   "id": "836cd3a9",
   "metadata": {},
   "outputs": [],
   "source": [
    "df_merged = pd.merge(df_fips,fips_main,how='outer',left_on='GEOID',right_on='FIPS')"
   ]
  },
  {
   "cell_type": "code",
   "execution_count": 10,
   "id": "7751fac8",
   "metadata": {},
   "outputs": [],
   "source": [
    "df_main_pop = df_merged.dropna()"
   ]
  },
  {
   "cell_type": "code",
   "execution_count": 11,
   "id": "3a1ddf04",
   "metadata": {},
   "outputs": [],
   "source": [
    "df_main_pop_sorted = df_main_pop.sort_values(by='FIPS')"
   ]
  },
  {
   "cell_type": "code",
   "execution_count": 15,
   "id": "c80302c2",
   "metadata": {},
   "outputs": [],
   "source": [
    "np.savetxt('pop_sorted.csv', df_main_pop_sorted['POP_COU'].values)"
   ]
  },
  {
   "cell_type": "code",
   "execution_count": null,
   "id": "9e8315e0",
   "metadata": {},
   "outputs": [],
   "source": []
  }
 ],
 "metadata": {
  "kernelspec": {
   "display_name": "gnn",
   "language": "python",
   "name": "gnn"
  },
  "language_info": {
   "codemirror_mode": {
    "name": "ipython",
    "version": 3
   },
   "file_extension": ".py",
   "mimetype": "text/x-python",
   "name": "python",
   "nbconvert_exporter": "python",
   "pygments_lexer": "ipython3",
   "version": "3.11.4"
  }
 },
 "nbformat": 4,
 "nbformat_minor": 5
}
