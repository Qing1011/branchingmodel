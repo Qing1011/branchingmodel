{
 "cells": [
  {
   "cell_type": "code",
   "execution_count": 1,
   "id": "e8a960b4",
   "metadata": {},
   "outputs": [],
   "source": [
    "import numpy as np\n",
    "import matplotlib.pyplot as plt\n",
    "from scipy.io import loadmat, savemat\n",
    "import pandas as pd\n",
    "import scipy.special as SS\n",
    "import scipy.stats as SSA\n",
    "import copy\n",
    "import random\n",
    "import math\n",
    "from sklearn.model_selection import ParameterGrid\n",
    "import os\n",
    "import numpy.linalg as LA\n",
    "import gzip\n",
    "from torch_geometric.nn import MessagePassing\n",
    "\n",
    "# load pickle module\n",
    "import pickle\n",
    "import matplotlib.colors as colors\n",
    "import torch\n",
    "from torch_geometric.data import Data\n",
    "import numpy as np\n",
    "import networkx as nx\n",
    "from torch_geometric.nn import MessagePassing\n",
    "from torch_geometric.utils import add_self_loops, degree\n",
    "import matplotlib.pyplot as plt\n",
    "import scipy.special as SS\n",
    "import scipy.stats as SSA"
   ]
  },
  {
   "cell_type": "code",
   "execution_count": 3,
   "id": "a13b9b1f",
   "metadata": {},
   "outputs": [],
   "source": [
    "# create a graph\n",
    "A = np.array([[0.25 , 0.25, 0.4, 0.1 ],\n",
    "        [0.25, 0.75 , 0. , 0. ],\n",
    "        [0.4, 0. , 0.55 , 0.05],\n",
    "        [0.1 , 0 , 0.05, 0.85 ]])\n",
    "# adjacency_matrix = torch.tensor(WN)\n",
    "adjacency_matrix = torch.tensor(A)\n",
    "# Get the indices where the adjacency matrix has a non-zero value\n",
    "edge_index = torch.nonzero(adjacency_matrix, as_tuple=False).t()\n",
    "\n",
    "# If your adjacency matrix has edge weights, you can get them like this:\n",
    "edge_weight = adjacency_matrix[edge_index[0], edge_index[1]]\n",
    "xx = np.zeros((4,62))\n",
    "xx[:, 1] = np.array([1000]*4)\n",
    "xx[2,2] = 100\n",
    "xx = torch.tensor(xx,dtype=torch.float)\n",
    "data = Data(x=xx, edge_index=edge_index, edge_attr=edge_weight)"
   ]
  },
  {
   "cell_type": "code",
   "execution_count": 32,
   "id": "13f8dbbb",
   "metadata": {},
   "outputs": [],
   "source": [
    "# %run ../codes/branchingv2.py\n",
    "\n",
    "def get_new_infections_position(infectors, total_new, num_fips):\n",
    "    cum_inft = np.cumsum(infectors)\n",
    "    cum_new_infections = np.cumsum(total_new)\n",
    "\n",
    "    totoal_new_infection_l = np.zeros(int(np.sum(total_new)))\n",
    "    num_inft_s_idx = 0\n",
    "    inft_s_idx = 0\n",
    "    for l_indx in range(num_fips):\n",
    "        num_inft = infectors[l_indx]\n",
    "        if num_inft > 0:\n",
    "            num_inft_e_idx = num_inft_s_idx+num_inft\n",
    "            infection_list_l = total_new[num_inft_s_idx:num_inft_e_idx]\n",
    "            # the list of the number of infections caused by every infector\n",
    "            num_ift_l = np.sum(infection_list_l)\n",
    "            inft_e_idx = inft_s_idx + num_ift_l\n",
    "            totoal_new_infection_l[int(inft_s_idx):int(inft_e_idx)] = l_indx\n",
    "            # the position of infection in the list of all infections\n",
    "            num_inft_s_idx = num_inft_e_idx\n",
    "            inft_s_idx = inft_e_idx\n",
    "    return totoal_new_infection_l\n",
    "\n",
    "\n",
    "def superspreading_T_Loc(T, num_fips, initials, nbi_para, pop, paras, WN, rand_seed):\n",
    "    # initialise\n",
    "    Z, Zb, D, Db = paras\n",
    "    l0, i0 = initials\n",
    "    r, p = nbi_para\n",
    "    child_seeds = rand_seed.spawn(T)\n",
    "\n",
    "    NewInf = np.zeros((num_fips, T))\n",
    "    TotInf = np.zeros((num_fips, T))\n",
    "    NewInf[l0, 0] = i0\n",
    "    TotInf[:, 0] = NewInf[:, 0]\n",
    "\n",
    "    for ti in range(T):\n",
    "        infectors = np.int64(NewInf[:, ti])\n",
    "        total_num_infectors = np.sum(infectors)\n",
    "        pop_immu = 1-TotInf[:, ti]/pop[:]\n",
    "        pop_immu[pop_immu < 0] = 0\n",
    "        # create list of immu_prob * number of infectors\n",
    "        immu_all = np.repeat(pop_immu, infectors)\n",
    "        rng = np.random.default_rng(child_seeds[ti])\n",
    "#         tt = rng.negative_binomial(r, p, total_num_infectors) ##################3\n",
    "        tt = np.array([2]*total_num_infectors) \n",
    "        # xx = np.arange(0, 100, 1)  # define the range of x values the\n",
    "        # calculate the probability mass function\n",
    "        # pmf = SSA.nbinom.pmf(xx, r, p)\n",
    "        # weights_n = pmf/np.sum(pmf)\n",
    "        # tt = rng.choice(\n",
    "        #     len(weights_n), size=total_num_infectors, p=weights_n)\n",
    "        # to be assigned, every new infections for the infector\n",
    "        total_new = np.round(tt*immu_all)\n",
    "        totoal_new_infection_loc = get_new_infections_position(\n",
    "            infectors, total_new, num_fips)\n",
    "\n",
    "        z_num = np.int64(np.sum(total_new))\n",
    "        NF = np.zeros((2, z_num), dtype=np.int64)\n",
    "        # for the time distribution\n",
    "        latency_p = SSA.gamma.rvs(a=Z, scale=Zb, size=z_num, random_state=rng)\n",
    "        infectious_p = SSA.gamma.rvs(\n",
    "            a=D, scale=Db, size=z_num, random_state=rng)\n",
    "        v = rng.random(z_num)\n",
    "#         delay_days = latency_p+v*infectious_p  # 3+5*0.5 ##################\n",
    "        delay_days = np.array([2]*z_num)\n",
    "\n",
    "        NF[0, :] = np.ceil(delay_days+ti)  # make it idx int\n",
    "        # for the location distribution\n",
    "        NF[1, :] = totoal_new_infection_loc\n",
    "        df = pd.DataFrame(NF.T, columns=['time', 'o_l'])\n",
    "        l_list = np.arange(num_fips)\n",
    "        df['d_l'] = df['o_l'].apply(\n",
    "            lambda x: np.random.choice(l_list, size=1, p=WN[:, x])[0])\n",
    "        df = df[df['time'] <= (T-1)]\n",
    "        NF_ii = np.array(df)\n",
    "        for (t, o, d) in NF_ii:\n",
    "            NewInf[d, t] = NewInf[d, t]+1\n",
    "        TotInf = np.cumsum(NewInf, axis=1)\n",
    "\n",
    "    return NewInf, TotInf"
   ]
  },
  {
   "cell_type": "code",
   "execution_count": 41,
   "id": "a01c48fa",
   "metadata": {},
   "outputs": [
    {
     "ename": "KeyboardInterrupt",
     "evalue": "",
     "output_type": "error",
     "traceback": [
      "\u001b[0;31m---------------------------------------------------------------------------\u001b[0m",
      "\u001b[0;31mKeyboardInterrupt\u001b[0m                         Traceback (most recent call last)",
      "Cell \u001b[0;32mIn[41], line 26\u001b[0m\n\u001b[1;32m     22\u001b[0m E_TotInf \u001b[38;5;241m=\u001b[39m np\u001b[38;5;241m.\u001b[39mzeros((num_fips, T))\n\u001b[1;32m     24\u001b[0m \u001b[38;5;66;03m# E_NewInf_i, E_TotInf_i = superspreading_T_Loc(\u001b[39;00m\n\u001b[1;32m     25\u001b[0m \u001b[38;5;66;03m#     T, num_fips, (l0, i0), (r, p), np.array([1000]*4), (Z, Zb, D, Db), A, ss)\u001b[39;00m\n\u001b[0;32m---> 26\u001b[0m E_NewInf_i, E_TotInf_i \u001b[38;5;241m=\u001b[39m superspreading_T_Loc(\n\u001b[1;32m     27\u001b[0m     T, num_fips, (l0, i0), (r, p), pop, (Z, Zb, D, Db), WN, ss)\n\u001b[1;32m     28\u001b[0m E_NewInf[:, :] \u001b[38;5;241m=\u001b[39m E_NewInf_i[:, :T]\n\u001b[1;32m     29\u001b[0m E_TotInf[:, :] \u001b[38;5;241m=\u001b[39m E_TotInf_i[:, :T]\n",
      "Cell \u001b[0;32mIn[32], line 73\u001b[0m, in \u001b[0;36msuperspreading_T_Loc\u001b[0;34m(T, num_fips, initials, nbi_para, pop, paras, WN, rand_seed)\u001b[0m\n\u001b[1;32m     71\u001b[0m df \u001b[38;5;241m=\u001b[39m pd\u001b[38;5;241m.\u001b[39mDataFrame(NF\u001b[38;5;241m.\u001b[39mT, columns\u001b[38;5;241m=\u001b[39m[\u001b[38;5;124m'\u001b[39m\u001b[38;5;124mtime\u001b[39m\u001b[38;5;124m'\u001b[39m, \u001b[38;5;124m'\u001b[39m\u001b[38;5;124mo_l\u001b[39m\u001b[38;5;124m'\u001b[39m])\n\u001b[1;32m     72\u001b[0m l_list \u001b[38;5;241m=\u001b[39m np\u001b[38;5;241m.\u001b[39marange(num_fips)\n\u001b[0;32m---> 73\u001b[0m df[\u001b[38;5;124m'\u001b[39m\u001b[38;5;124md_l\u001b[39m\u001b[38;5;124m'\u001b[39m] \u001b[38;5;241m=\u001b[39m df[\u001b[38;5;124m'\u001b[39m\u001b[38;5;124mo_l\u001b[39m\u001b[38;5;124m'\u001b[39m]\u001b[38;5;241m.\u001b[39mapply(\n\u001b[1;32m     74\u001b[0m     \u001b[38;5;28;01mlambda\u001b[39;00m x: np\u001b[38;5;241m.\u001b[39mrandom\u001b[38;5;241m.\u001b[39mchoice(l_list, size\u001b[38;5;241m=\u001b[39m\u001b[38;5;241m1\u001b[39m, p\u001b[38;5;241m=\u001b[39mWN[:, x])[\u001b[38;5;241m0\u001b[39m])\n\u001b[1;32m     75\u001b[0m df \u001b[38;5;241m=\u001b[39m df[df[\u001b[38;5;124m'\u001b[39m\u001b[38;5;124mtime\u001b[39m\u001b[38;5;124m'\u001b[39m] \u001b[38;5;241m<\u001b[39m\u001b[38;5;241m=\u001b[39m (T\u001b[38;5;241m-\u001b[39m\u001b[38;5;241m1\u001b[39m)]\n\u001b[1;32m     76\u001b[0m NF_ii \u001b[38;5;241m=\u001b[39m np\u001b[38;5;241m.\u001b[39marray(df)\n",
      "File \u001b[0;32m~/anaconda3/envs/gnn/lib/python3.11/site-packages/pandas/core/series.py:4630\u001b[0m, in \u001b[0;36mSeries.apply\u001b[0;34m(self, func, convert_dtype, args, **kwargs)\u001b[0m\n\u001b[1;32m   4520\u001b[0m \u001b[38;5;28;01mdef\u001b[39;00m \u001b[38;5;21mapply\u001b[39m(\n\u001b[1;32m   4521\u001b[0m     \u001b[38;5;28mself\u001b[39m,\n\u001b[1;32m   4522\u001b[0m     func: AggFuncType,\n\u001b[0;32m   (...)\u001b[0m\n\u001b[1;32m   4525\u001b[0m     \u001b[38;5;241m*\u001b[39m\u001b[38;5;241m*\u001b[39mkwargs,\n\u001b[1;32m   4526\u001b[0m ) \u001b[38;5;241m-\u001b[39m\u001b[38;5;241m>\u001b[39m DataFrame \u001b[38;5;241m|\u001b[39m Series:\n\u001b[1;32m   4527\u001b[0m \u001b[38;5;250m    \u001b[39m\u001b[38;5;124;03m\"\"\"\u001b[39;00m\n\u001b[1;32m   4528\u001b[0m \u001b[38;5;124;03m    Invoke function on values of Series.\u001b[39;00m\n\u001b[1;32m   4529\u001b[0m \n\u001b[0;32m   (...)\u001b[0m\n\u001b[1;32m   4628\u001b[0m \u001b[38;5;124;03m    dtype: float64\u001b[39;00m\n\u001b[1;32m   4629\u001b[0m \u001b[38;5;124;03m    \"\"\"\u001b[39;00m\n\u001b[0;32m-> 4630\u001b[0m     \u001b[38;5;28;01mreturn\u001b[39;00m SeriesApply(\u001b[38;5;28mself\u001b[39m, func, convert_dtype, args, kwargs)\u001b[38;5;241m.\u001b[39mapply()\n",
      "File \u001b[0;32m~/anaconda3/envs/gnn/lib/python3.11/site-packages/pandas/core/apply.py:1025\u001b[0m, in \u001b[0;36mSeriesApply.apply\u001b[0;34m(self)\u001b[0m\n\u001b[1;32m   1022\u001b[0m     \u001b[38;5;28;01mreturn\u001b[39;00m \u001b[38;5;28mself\u001b[39m\u001b[38;5;241m.\u001b[39mapply_str()\n\u001b[1;32m   1024\u001b[0m \u001b[38;5;66;03m# self.f is Callable\u001b[39;00m\n\u001b[0;32m-> 1025\u001b[0m \u001b[38;5;28;01mreturn\u001b[39;00m \u001b[38;5;28mself\u001b[39m\u001b[38;5;241m.\u001b[39mapply_standard()\n",
      "File \u001b[0;32m~/anaconda3/envs/gnn/lib/python3.11/site-packages/pandas/core/apply.py:1076\u001b[0m, in \u001b[0;36mSeriesApply.apply_standard\u001b[0;34m(self)\u001b[0m\n\u001b[1;32m   1074\u001b[0m     \u001b[38;5;28;01melse\u001b[39;00m:\n\u001b[1;32m   1075\u001b[0m         values \u001b[38;5;241m=\u001b[39m obj\u001b[38;5;241m.\u001b[39mastype(\u001b[38;5;28mobject\u001b[39m)\u001b[38;5;241m.\u001b[39m_values\n\u001b[0;32m-> 1076\u001b[0m         mapped \u001b[38;5;241m=\u001b[39m lib\u001b[38;5;241m.\u001b[39mmap_infer(\n\u001b[1;32m   1077\u001b[0m             values,\n\u001b[1;32m   1078\u001b[0m             f,\n\u001b[1;32m   1079\u001b[0m             convert\u001b[38;5;241m=\u001b[39m\u001b[38;5;28mself\u001b[39m\u001b[38;5;241m.\u001b[39mconvert_dtype,\n\u001b[1;32m   1080\u001b[0m         )\n\u001b[1;32m   1082\u001b[0m \u001b[38;5;28;01mif\u001b[39;00m \u001b[38;5;28mlen\u001b[39m(mapped) \u001b[38;5;129;01mand\u001b[39;00m \u001b[38;5;28misinstance\u001b[39m(mapped[\u001b[38;5;241m0\u001b[39m], ABCSeries):\n\u001b[1;32m   1083\u001b[0m     \u001b[38;5;66;03m# GH#43986 Need to do list(mapped) in order to get treated as nested\u001b[39;00m\n\u001b[1;32m   1084\u001b[0m     \u001b[38;5;66;03m#  See also GH#25959 regarding EA support\u001b[39;00m\n\u001b[1;32m   1085\u001b[0m     \u001b[38;5;28;01mreturn\u001b[39;00m obj\u001b[38;5;241m.\u001b[39m_constructor_expanddim(\u001b[38;5;28mlist\u001b[39m(mapped), index\u001b[38;5;241m=\u001b[39mobj\u001b[38;5;241m.\u001b[39mindex)\n",
      "File \u001b[0;32m~/anaconda3/envs/gnn/lib/python3.11/site-packages/pandas/_libs/lib.pyx:2834\u001b[0m, in \u001b[0;36mpandas._libs.lib.map_infer\u001b[0;34m()\u001b[0m\n",
      "Cell \u001b[0;32mIn[32], line 74\u001b[0m, in \u001b[0;36msuperspreading_T_Loc.<locals>.<lambda>\u001b[0;34m(x)\u001b[0m\n\u001b[1;32m     71\u001b[0m df \u001b[38;5;241m=\u001b[39m pd\u001b[38;5;241m.\u001b[39mDataFrame(NF\u001b[38;5;241m.\u001b[39mT, columns\u001b[38;5;241m=\u001b[39m[\u001b[38;5;124m'\u001b[39m\u001b[38;5;124mtime\u001b[39m\u001b[38;5;124m'\u001b[39m, \u001b[38;5;124m'\u001b[39m\u001b[38;5;124mo_l\u001b[39m\u001b[38;5;124m'\u001b[39m])\n\u001b[1;32m     72\u001b[0m l_list \u001b[38;5;241m=\u001b[39m np\u001b[38;5;241m.\u001b[39marange(num_fips)\n\u001b[1;32m     73\u001b[0m df[\u001b[38;5;124m'\u001b[39m\u001b[38;5;124md_l\u001b[39m\u001b[38;5;124m'\u001b[39m] \u001b[38;5;241m=\u001b[39m df[\u001b[38;5;124m'\u001b[39m\u001b[38;5;124mo_l\u001b[39m\u001b[38;5;124m'\u001b[39m]\u001b[38;5;241m.\u001b[39mapply(\n\u001b[0;32m---> 74\u001b[0m     \u001b[38;5;28;01mlambda\u001b[39;00m x: np\u001b[38;5;241m.\u001b[39mrandom\u001b[38;5;241m.\u001b[39mchoice(l_list, size\u001b[38;5;241m=\u001b[39m\u001b[38;5;241m1\u001b[39m, p\u001b[38;5;241m=\u001b[39mWN[:, x])[\u001b[38;5;241m0\u001b[39m])\n\u001b[1;32m     75\u001b[0m df \u001b[38;5;241m=\u001b[39m df[df[\u001b[38;5;124m'\u001b[39m\u001b[38;5;124mtime\u001b[39m\u001b[38;5;124m'\u001b[39m] \u001b[38;5;241m<\u001b[39m\u001b[38;5;241m=\u001b[39m (T\u001b[38;5;241m-\u001b[39m\u001b[38;5;241m1\u001b[39m)]\n\u001b[1;32m     76\u001b[0m NF_ii \u001b[38;5;241m=\u001b[39m np\u001b[38;5;241m.\u001b[39marray(df)\n",
      "File \u001b[0;32mnumpy/random/mtrand.pyx:981\u001b[0m, in \u001b[0;36mnumpy.random.mtrand.RandomState.choice\u001b[0;34m()\u001b[0m\n",
      "File \u001b[0;32m~/anaconda3/envs/gnn/lib/python3.11/site-packages/numpy/core/fromnumeric.py:2974\u001b[0m, in \u001b[0;36m_prod_dispatcher\u001b[0;34m(a, axis, dtype, out, keepdims, initial, where)\u001b[0m\n\u001b[1;32m   2960\u001b[0m \u001b[38;5;250m    \u001b[39m\u001b[38;5;124;03m\"\"\"\u001b[39;00m\n\u001b[1;32m   2961\u001b[0m \u001b[38;5;124;03m    Return the minimum of an array or minimum along an axis.\u001b[39;00m\n\u001b[1;32m   2962\u001b[0m \n\u001b[0;32m   (...)\u001b[0m\n\u001b[1;32m   2968\u001b[0m \u001b[38;5;124;03m    ndarray.min : equivalent method\u001b[39;00m\n\u001b[1;32m   2969\u001b[0m \u001b[38;5;124;03m    \"\"\"\u001b[39;00m\n\u001b[1;32m   2970\u001b[0m     \u001b[38;5;28;01mreturn\u001b[39;00m _wrapreduction(a, np\u001b[38;5;241m.\u001b[39mminimum, \u001b[38;5;124m'\u001b[39m\u001b[38;5;124mmin\u001b[39m\u001b[38;5;124m'\u001b[39m, axis, \u001b[38;5;28;01mNone\u001b[39;00m, out,\n\u001b[1;32m   2971\u001b[0m                           keepdims\u001b[38;5;241m=\u001b[39mkeepdims, initial\u001b[38;5;241m=\u001b[39minitial, where\u001b[38;5;241m=\u001b[39mwhere)\n\u001b[0;32m-> 2974\u001b[0m \u001b[38;5;28;01mdef\u001b[39;00m \u001b[38;5;21m_prod_dispatcher\u001b[39m(a, axis\u001b[38;5;241m=\u001b[39m\u001b[38;5;28;01mNone\u001b[39;00m, dtype\u001b[38;5;241m=\u001b[39m\u001b[38;5;28;01mNone\u001b[39;00m, out\u001b[38;5;241m=\u001b[39m\u001b[38;5;28;01mNone\u001b[39;00m, keepdims\u001b[38;5;241m=\u001b[39m\u001b[38;5;28;01mNone\u001b[39;00m,\n\u001b[1;32m   2975\u001b[0m                      initial\u001b[38;5;241m=\u001b[39m\u001b[38;5;28;01mNone\u001b[39;00m, where\u001b[38;5;241m=\u001b[39m\u001b[38;5;28;01mNone\u001b[39;00m):\n\u001b[1;32m   2976\u001b[0m     \u001b[38;5;28;01mreturn\u001b[39;00m (a, out)\n\u001b[1;32m   2979\u001b[0m \u001b[38;5;129m@array_function_dispatch\u001b[39m(_prod_dispatcher)\n\u001b[1;32m   2980\u001b[0m \u001b[38;5;28;01mdef\u001b[39;00m \u001b[38;5;21mprod\u001b[39m(a, axis\u001b[38;5;241m=\u001b[39m\u001b[38;5;28;01mNone\u001b[39;00m, dtype\u001b[38;5;241m=\u001b[39m\u001b[38;5;28;01mNone\u001b[39;00m, out\u001b[38;5;241m=\u001b[39m\u001b[38;5;28;01mNone\u001b[39;00m, keepdims\u001b[38;5;241m=\u001b[39mnp\u001b[38;5;241m.\u001b[39m_NoValue,\n\u001b[1;32m   2981\u001b[0m          initial\u001b[38;5;241m=\u001b[39mnp\u001b[38;5;241m.\u001b[39m_NoValue, where\u001b[38;5;241m=\u001b[39mnp\u001b[38;5;241m.\u001b[39m_NoValue):\n",
      "\u001b[0;31mKeyboardInterrupt\u001b[0m: "
     ]
    }
   ],
   "source": [
    "Z = 3  # latent period\n",
    "Zb = 1  # scale parameter for Z\n",
    "D = 5  # infectious period\n",
    "Db = 1  # scale parameter for b\n",
    "alpha = 0.1  # reporting rate 10%\n",
    "\n",
    "# initialize variables\n",
    "# seeding\n",
    "l0 = 1859-1  # start with New York County NY in python -1, in matlab is 1859\n",
    "# l0 = 2\n",
    "i0 = 10\n",
    "# T = 10\n",
    "T = 60\n",
    "r = 13.333\n",
    "R0 = 1.5\n",
    "p = r/(R0+r)\n",
    "ss = np.random.SeedSequence(0)\n",
    "# num_fips = 4\n",
    "num_fips = len(pop)\n",
    "\n",
    "E_NewInf = np.zeros((num_fips, T))\n",
    "E_TotInf = np.zeros((num_fips, T))\n",
    "\n",
    "# E_NewInf_i, E_TotInf_i = superspreading_T_Loc(\n",
    "#     T, num_fips, (l0, i0), (r, p), np.array([1000]*4), (Z, Zb, D, Db), A, ss)\n",
    "E_NewInf_i, E_TotInf_i = superspreading_T_Loc(\n",
    "    T, num_fips, (l0, i0), (r, p), pop, (Z, Zb, D, Db), WN, ss)\n",
    "E_NewInf[:, :] = E_NewInf_i[:, :T]\n",
    "E_TotInf[:, :] = E_TotInf_i[:, :T]"
   ]
  },
  {
   "cell_type": "code",
   "execution_count": 39,
   "id": "666dcbcc",
   "metadata": {},
   "outputs": [
    {
     "data": {
      "text/plain": [
       "array([[ 0.,  0., 10.,  0.,  8.,  0., 25.,  0., 45.,  0.],\n",
       "       [ 0.,  0.,  0.,  0.,  7.,  0., 14.,  0., 36.,  0.],\n",
       "       [10.,  0., 10.,  0., 19.,  0., 28.,  0., 53.,  0.],\n",
       "       [ 0.,  0.,  0.,  0.,  6.,  0., 13.,  0., 26.,  0.]])"
      ]
     },
     "execution_count": 39,
     "metadata": {},
     "output_type": "execute_result"
    }
   ],
   "source": [
    "E_NewInf_i"
   ]
  },
  {
   "cell_type": "code",
   "execution_count": 18,
   "id": "3726b610",
   "metadata": {},
   "outputs": [
    {
     "data": {
      "text/plain": [
       "<matplotlib.collections.PathCollection at 0x2b9c81010>"
      ]
     },
     "execution_count": 18,
     "metadata": {},
     "output_type": "execute_result"
    },
    {
     "data": {
      "image/png": "[encoded data removed]",
      "text/plain": [
       "<Figure size 640x480 with 1 Axes>"
      ]
     },
     "metadata": {},
     "output_type": "display_data"
    }
   ],
   "source": [
    "plt.scatter(range(3142), E_NewInf[:,-1], label='python') "
   ]
  },
  {
   "cell_type": "code",
   "execution_count": 74,
   "id": "09b94467",
   "metadata": {},
   "outputs": [
    {
     "data": {
      "text/plain": [
       "torch.Size([2, 17614])"
      ]
     },
     "execution_count": 74,
     "metadata": {},
     "output_type": "execute_result"
    }
   ],
   "source": [
    "edge_index.shape"
   ]
  },
  {
   "cell_type": "code",
   "execution_count": 75,
   "id": "374ab093",
   "metadata": {},
   "outputs": [
    {
     "data": {
      "text/plain": [
       "4906242.0"
      ]
     },
     "execution_count": 75,
     "metadata": {},
     "output_type": "execute_result"
    }
   ],
   "source": [
    "3124*3141/2"
   ]
  },
  {
   "cell_type": "code",
   "execution_count": 43,
   "id": "145e5ce3",
   "metadata": {},
   "outputs": [],
   "source": [
    "import scipy.io"
   ]
  },
  {
   "cell_type": "code",
   "execution_count": 44,
   "id": "1a8834f9",
   "metadata": {},
   "outputs": [],
   "source": [
    "mat_data = scipy.io.loadmat('NewInf_13333.mat') #(3142, 60, 300)"
   ]
  },
  {
   "cell_type": "code",
   "execution_count": 45,
   "id": "eb8574aa",
   "metadata": {},
   "outputs": [],
   "source": [
    "mat_simulation = mat_data['NewInf']"
   ]
  },
  {
   "cell_type": "code",
   "execution_count": 49,
   "id": "a3361cbb",
   "metadata": {},
   "outputs": [
    {
     "data": {
      "text/plain": [
       "<matplotlib.collections.PathCollection at 0x2c5c6bb50>"
      ]
     },
     "execution_count": 49,
     "metadata": {},
     "output_type": "execute_result"
    },
    {
     "data": {
      "image/png": "[encoded data removed]",
      "text/plain": [
       "<Figure size 640x480 with 1 Axes>"
      ]
     },
     "metadata": {},
     "output_type": "display_data"
    }
   ],
   "source": [
    "plt.scatter(range(3142),mat_simulation[:,-1,140])"
   ]
  },
  {
   "cell_type": "code",
   "execution_count": 116,
   "id": "cc2c7168",
   "metadata": {},
   "outputs": [
    {
     "data": {
      "text/plain": [
       "<matplotlib.collections.PathCollection at 0x2b0de0850>"
      ]
     },
     "execution_count": 116,
     "metadata": {},
     "output_type": "execute_result"
    },
    {
     "data": {
      "image/png": "[encoded data removed]",
      "text/plain": [
       "<Figure size 640x480 with 1 Axes>"
      ]
     },
     "metadata": {},
     "output_type": "display_data"
    }
   ],
   "source": [
    "plt.scatter(range(3142),np.mean(mat_simulation[:,-1,:],axis=1))"
   ]
  },
  {
   "cell_type": "code",
   "execution_count": 200,
   "id": "ad867081",
   "metadata": {},
   "outputs": [],
   "source": [
    "R0 = 5.5\n",
    "r = 0.025\n",
    "p = r/(R0+r)\n",
    "tt = np.random.negative_binomial(r, p, 10000)"
   ]
  },
  {
   "cell_type": "code",
   "execution_count": 201,
   "id": "dd6e0e52",
   "metadata": {},
   "outputs": [
    {
     "data": {
      "text/plain": [
       "(array([9.793e+03, 9.700e+01, 5.200e+01, 2.700e+01, 1.200e+01, 6.000e+00,\n",
       "        3.000e+00, 3.000e+00, 6.000e+00, 1.000e+00]),\n",
       " array([  0.,  72., 144., 216., 288., 360., 432., 504., 576., 648., 720.]),\n",
       " <BarContainer object of 10 artists>)"
      ]
     },
     "execution_count": 201,
     "metadata": {},
     "output_type": "execute_result"
    },
    {
     "data": {
      "image/png": "[encoded data removed]",
      "text/plain": [
       "<Figure size 640x480 with 1 Axes>"
      ]
     },
     "metadata": {},
     "output_type": "display_data"
    }
   ],
   "source": [
    "plt.hist(tt)"
   ]
  },
  {
   "cell_type": "code",
   "execution_count": null,
   "id": "0e2499f6",
   "metadata": {},
   "outputs": [],
   "source": []
  }
 ],
 "metadata": {
  "kernelspec": {
   "display_name": "gnn",
   "language": "python",
   "name": "gnn"
  },
  "language_info": {
   "codemirror_mode": {
    "name": "ipython",
    "version": 3
   },
   "file_extension": ".py",
   "mimetype": "text/x-python",
   "name": "python",
   "nbconvert_exporter": "python",
   "pygments_lexer": "ipython3",
   "version": "3.11.4"
  }
 },
 "nbformat": 4,
 "nbformat_minor": 5
}
