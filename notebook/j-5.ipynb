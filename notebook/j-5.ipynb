{
 "cells": [
  {
   "cell_type": "code",
   "execution_count": 1,
   "id": "f94237dc",
   "metadata": {},
   "outputs": [],
   "source": [
    "import numpy as np\n",
    "import matplotlib.pyplot as plt\n",
    "from scipy.io import loadmat, savemat\n",
    "import pandas as pd\n",
    "import scipy.special as SS\n",
    "import scipy.stats as SSA\n",
    "import copy\n",
    "import random\n",
    "import math\n",
    "from sklearn.model_selection import ParameterGrid\n",
    "import os\n",
    "import numpy.linalg as LA\n",
    "import gzip\n",
    "\n",
    "# load pickle module\n",
    "import pickle"
   ]
  },
  {
   "cell_type": "code",
   "execution_count": 2,
   "id": "bce9ed46",
   "metadata": {},
   "outputs": [],
   "source": [
    "rs = np.arange(0.01, 1, 0.02)\n",
    "\n",
    "R0s = np.arange(1.5, 6.5, 0.1)\n",
    "\n",
    "param_grid = {'R0': R0s, 'r' : rs}\n",
    "\n",
    "grid = ParameterGrid(param_grid)\n",
    "\n",
    "para_dict = list(grid)"
   ]
  },
  {
   "cell_type": "code",
   "execution_count": null,
   "id": "d0b61fd3",
   "metadata": {},
   "outputs": [],
   "source": [
    "# Numcounty_mean =  np.zeros((50,20))\n",
    "# Numcounty_std =  np.zeros((50,20))\n",
    "save_dir = '../../../../../../Volumes/My Passport/branching/results/'\n",
    "file_dir = '../../../../../../Volumes/My Passport/branching/branching_results/'\n",
    "j = 5\n",
    "count = 500\n",
    "for i in range(50):\n",
    "    print(i)\n",
    "    R0 = R0s[j]\n",
    "    r = rs[i]\n",
    "#     count = s_times['R0',R0,'r',r]\n",
    "#     if count == 500:\n",
    "    temp = np.zeros((count,3142,60))\n",
    "    for s in range(count):\n",
    "        print(s)\n",
    "        file_name = file_dir + \"NewInf_R0-{}_r-{}_{}.npy.gz\" .format(np.round(R0,2),np.round(r,2),s)\n",
    "        f = gzip.GzipFile(file_name, \"r\")\n",
    "        xx = np.load(f)\n",
    "        temp[s,:,:] = xx[:,:60]\n",
    "\n",
    "    f = gzip.GzipFile(save_dir+\"NewInf_R0-{}_r-{}.npy.gz\" .format(np.round(R0,2),np.round(r,2)), \"w\")\n",
    "    np.save(file=f, arr=temp)\n",
    "    f.close()\n",
    "\n",
    "#         E_daily_per_pop = temp/pop[None,:,None]*100000\n",
    "#         num_county = np.sum(E_daily_per_pop>10,axis=1)\n",
    "\n",
    "#         mean_county = np.mean(num_county,axis=0)[40]\n",
    "#         Numcounty_mean[i,j] = mean_county\n",
    "\n",
    "#         std_county = np.std(num_county,axis=0)[40]\n",
    "#         Numcounty_std[i,j] = std_county"
   ]
  },
  {
   "cell_type": "code",
   "execution_count": null,
   "id": "0a6db77e",
   "metadata": {},
   "outputs": [],
   "source": [
    "pop = np.loadtxt('pop_new.csv')\n",
    "Numcounty_mean =  np.zeros((50,6))\n",
    "Numcounty_std =  np.zeros((50,6))\n",
    "save_dir = '../../../../../../Volumes/My Passport/branching/results_500/'\n",
    "for i in range(50):\n",
    "    for j in [5]:\n",
    "        print(i)\n",
    "        R0 = R0s[j]\n",
    "        r = rs[i]\n",
    "        temp = np.zeros((500,3142,60))\n",
    "        f = gzip.GzipFile(save_dir+\"NewInf_R0-{}_r-{}.npy.gz\" .format(np.round(R0,2),np.round(r,2)), \"r\")\n",
    "        temp = np.load(f)\n",
    "\n",
    "        E_daily_per_pop = temp/pop[None,:,None]*100000\n",
    "        num_county = np.sum(E_daily_per_pop>10,axis=1)\n",
    "\n",
    "        mean_county = np.mean(num_county,axis=0)[59]\n",
    "        Numcounty_mean[i,j] = mean_county\n",
    "\n",
    "        std_county = np.std(num_county,axis=0)[59]\n",
    "        Numcounty_std[i,j] = std_county"
   ]
  },
  {
   "cell_type": "code",
   "execution_count": 4,
   "id": "d03bf72e",
   "metadata": {},
   "outputs": [],
   "source": [
    "np.savetxt('Numcounty_mean5', Numcounty_mean[:,5])\n",
    "np.savetxt('Numcounty_std5', Numcounty_std[:,5])"
   ]
  },
  {
   "cell_type": "code",
   "execution_count": 5,
   "id": "caa5601a",
   "metadata": {},
   "outputs": [
    {
     "name": "stdout",
     "output_type": "stream",
     "text": [
      "0\n",
      "1\n",
      "2\n",
      "3\n",
      "4\n",
      "5\n",
      "6\n",
      "7\n",
      "8\n",
      "9\n",
      "10\n",
      "11\n",
      "12\n",
      "13\n",
      "14\n",
      "15\n",
      "16\n",
      "17\n",
      "18\n",
      "19\n",
      "20\n",
      "21\n",
      "22\n",
      "23\n",
      "24\n",
      "25\n",
      "26\n",
      "27\n",
      "28\n",
      "29\n",
      "30\n",
      "31\n",
      "32\n",
      "33\n",
      "34\n",
      "35\n",
      "36\n",
      "37\n",
      "38\n",
      "39\n",
      "40\n",
      "41\n",
      "42\n",
      "43\n",
      "44\n",
      "45\n",
      "46\n",
      "47\n",
      "48\n",
      "49\n"
     ]
    },
    {
     "ename": "FileNotFoundError",
     "evalue": "[Errno 2] No such file or directory: '../../../../../../Volumes/My Passport/branching/results_500/NewInf_R0-2.0_r-0.99.npy.gz'",
     "output_type": "error",
     "traceback": [
      "\u001b[0;31m---------------------------------------------------------------------------\u001b[0m",
      "\u001b[0;31mFileNotFoundError\u001b[0m                         Traceback (most recent call last)",
      "\u001b[0;32m/var/folders/vx/g_l159t12yb63094n730n4pm0000gn/T/ipykernel_89165/1389328323.py\u001b[0m in \u001b[0;36m<module>\u001b[0;34m\u001b[0m\n\u001b[1;32m      8\u001b[0m         \u001b[0mr\u001b[0m \u001b[0;34m=\u001b[0m \u001b[0mrs\u001b[0m\u001b[0;34m[\u001b[0m\u001b[0mi\u001b[0m\u001b[0;34m]\u001b[0m\u001b[0;34m\u001b[0m\u001b[0;34m\u001b[0m\u001b[0m\n\u001b[1;32m      9\u001b[0m         \u001b[0mtemp\u001b[0m \u001b[0;34m=\u001b[0m \u001b[0mnp\u001b[0m\u001b[0;34m.\u001b[0m\u001b[0mzeros\u001b[0m\u001b[0;34m(\u001b[0m\u001b[0;34m(\u001b[0m\u001b[0;36m500\u001b[0m\u001b[0;34m,\u001b[0m\u001b[0;36m3142\u001b[0m\u001b[0;34m,\u001b[0m\u001b[0;36m60\u001b[0m\u001b[0;34m)\u001b[0m\u001b[0;34m)\u001b[0m\u001b[0;34m\u001b[0m\u001b[0;34m\u001b[0m\u001b[0m\n\u001b[0;32m---> 10\u001b[0;31m         \u001b[0mf\u001b[0m \u001b[0;34m=\u001b[0m \u001b[0mgzip\u001b[0m\u001b[0;34m.\u001b[0m\u001b[0mGzipFile\u001b[0m\u001b[0;34m(\u001b[0m\u001b[0msave_dir\u001b[0m\u001b[0;34m+\u001b[0m\u001b[0;34m\"NewInf_R0-{}_r-{}.npy.gz\"\u001b[0m \u001b[0;34m.\u001b[0m\u001b[0mformat\u001b[0m\u001b[0;34m(\u001b[0m\u001b[0mnp\u001b[0m\u001b[0;34m.\u001b[0m\u001b[0mround\u001b[0m\u001b[0;34m(\u001b[0m\u001b[0mR0\u001b[0m\u001b[0;34m,\u001b[0m\u001b[0;36m2\u001b[0m\u001b[0;34m)\u001b[0m\u001b[0;34m,\u001b[0m\u001b[0mnp\u001b[0m\u001b[0;34m.\u001b[0m\u001b[0mround\u001b[0m\u001b[0;34m(\u001b[0m\u001b[0mr\u001b[0m\u001b[0;34m,\u001b[0m\u001b[0;36m2\u001b[0m\u001b[0;34m)\u001b[0m\u001b[0;34m)\u001b[0m\u001b[0;34m,\u001b[0m \u001b[0;34m\"r\"\u001b[0m\u001b[0;34m)\u001b[0m\u001b[0;34m\u001b[0m\u001b[0;34m\u001b[0m\u001b[0m\n\u001b[0m\u001b[1;32m     11\u001b[0m         \u001b[0mtemp\u001b[0m \u001b[0;34m=\u001b[0m \u001b[0mnp\u001b[0m\u001b[0;34m.\u001b[0m\u001b[0mload\u001b[0m\u001b[0;34m(\u001b[0m\u001b[0mf\u001b[0m\u001b[0;34m)\u001b[0m\u001b[0;34m\u001b[0m\u001b[0;34m\u001b[0m\u001b[0m\n\u001b[1;32m     12\u001b[0m \u001b[0;34m\u001b[0m\u001b[0m\n",
      "\u001b[0;32m/opt/anaconda3/lib/python3.9/gzip.py\u001b[0m in \u001b[0;36m__init__\u001b[0;34m(self, filename, mode, compresslevel, fileobj, mtime)\u001b[0m\n\u001b[1;32m    171\u001b[0m             \u001b[0mmode\u001b[0m \u001b[0;34m+=\u001b[0m \u001b[0;34m'b'\u001b[0m\u001b[0;34m\u001b[0m\u001b[0;34m\u001b[0m\u001b[0m\n\u001b[1;32m    172\u001b[0m         \u001b[0;32mif\u001b[0m \u001b[0mfileobj\u001b[0m \u001b[0;32mis\u001b[0m \u001b[0;32mNone\u001b[0m\u001b[0;34m:\u001b[0m\u001b[0;34m\u001b[0m\u001b[0;34m\u001b[0m\u001b[0m\n\u001b[0;32m--> 173\u001b[0;31m             \u001b[0mfileobj\u001b[0m \u001b[0;34m=\u001b[0m \u001b[0mself\u001b[0m\u001b[0;34m.\u001b[0m\u001b[0mmyfileobj\u001b[0m \u001b[0;34m=\u001b[0m \u001b[0mbuiltins\u001b[0m\u001b[0;34m.\u001b[0m\u001b[0mopen\u001b[0m\u001b[0;34m(\u001b[0m\u001b[0mfilename\u001b[0m\u001b[0;34m,\u001b[0m \u001b[0mmode\u001b[0m \u001b[0;32mor\u001b[0m \u001b[0;34m'rb'\u001b[0m\u001b[0;34m)\u001b[0m\u001b[0;34m\u001b[0m\u001b[0;34m\u001b[0m\u001b[0m\n\u001b[0m\u001b[1;32m    174\u001b[0m         \u001b[0;32mif\u001b[0m \u001b[0mfilename\u001b[0m \u001b[0;32mis\u001b[0m \u001b[0;32mNone\u001b[0m\u001b[0;34m:\u001b[0m\u001b[0;34m\u001b[0m\u001b[0;34m\u001b[0m\u001b[0m\n\u001b[1;32m    175\u001b[0m             \u001b[0mfilename\u001b[0m \u001b[0;34m=\u001b[0m \u001b[0mgetattr\u001b[0m\u001b[0;34m(\u001b[0m\u001b[0mfileobj\u001b[0m\u001b[0;34m,\u001b[0m \u001b[0;34m'name'\u001b[0m\u001b[0;34m,\u001b[0m \u001b[0;34m''\u001b[0m\u001b[0;34m)\u001b[0m\u001b[0;34m\u001b[0m\u001b[0;34m\u001b[0m\u001b[0m\n",
      "\u001b[0;31mFileNotFoundError\u001b[0m: [Errno 2] No such file or directory: '../../../../../../Volumes/My Passport/branching/results_500/NewInf_R0-2.0_r-0.99.npy.gz'"
     ]
    }
   ],
   "source": [
    "Numcounty_mean =  np.zeros((50,6))\n",
    "Numcounty_std =  np.zeros((50,6))\n",
    "save_dir = '../../../../../../Volumes/My Passport/branching/results_500/'\n",
    "for i in range(50):\n",
    "    for j in [5]:\n",
    "        print(i)\n",
    "        R0 = R0s[j]\n",
    "        r = rs[i]\n",
    "        temp = np.zeros((500,3142,60))\n",
    "        f = gzip.GzipFile(save_dir+\"NewInf_R0-{}_r-{}.npy.gz\" .format(np.round(R0,2),np.round(r,2)), \"r\")\n",
    "        temp = np.load(f)\n",
    "\n",
    "        E_daily_per_pop = temp/pop[None,:,None]*100000\n",
    "        num_county = np.sum(E_daily_per_pop>10,axis=1)\n",
    "\n",
    "        mean_county = np.mean(num_county,axis=0)[39]\n",
    "        Numcounty_mean[i,j] = mean_county\n",
    "\n",
    "        std_county = np.std(num_county,axis=0)[39]\n",
    "        Numcounty_std[i,j] = std_county\n"
   ]
  },
  {
   "cell_type": "code",
   "execution_count": 6,
   "id": "a1d533a2",
   "metadata": {},
   "outputs": [],
   "source": [
    "np.savetxt('Numcounty_mean40{}'.format(j), Numcounty_mean[:,j])\n",
    "np.savetxt('Numcounty_std40{}'.format(j), Numcounty_std[:,j])"
   ]
  },
  {
   "cell_type": "code",
   "execution_count": null,
   "id": "dbeee44e",
   "metadata": {},
   "outputs": [],
   "source": []
  }
 ],
 "metadata": {
  "kernelspec": {
   "display_name": "Python 3 (ipykernel)",
   "language": "python",
   "name": "python3"
  },
  "language_info": {
   "codemirror_mode": {
    "name": "ipython",
    "version": 3
   },
   "file_extension": ".py",
   "mimetype": "text/x-python",
   "name": "python",
   "nbconvert_exporter": "python",
   "pygments_lexer": "ipython3",
   "version": "3.9.7"
  }
 },
 "nbformat": 4,
 "nbformat_minor": 5
}
