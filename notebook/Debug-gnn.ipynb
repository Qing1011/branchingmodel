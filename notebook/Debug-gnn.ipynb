{
 "cells": [
  {
   "cell_type": "code",
   "execution_count": 54,
   "id": "364f056f",
   "metadata": {},
   "outputs": [],
   "source": [
    "import numpy as np\n",
    "import matplotlib.pyplot as plt\n",
    "from scipy.io import loadmat, savemat\n",
    "import pandas as pd\n",
    "import scipy.special as SS\n",
    "import scipy.stats as SSA\n",
    "import copy\n",
    "import random\n",
    "import math\n",
    "from sklearn.model_selection import ParameterGrid\n",
    "import os\n",
    "import numpy.linalg as LA\n",
    "import gzip\n",
    "from torch_geometric.nn import MessagePassing\n",
    "\n",
    "# load pickle module\n",
    "import pickle\n",
    "import matplotlib.colors as colors\n",
    "import torch\n",
    "from torch_geometric.data import Data\n",
    "import numpy as np\n",
    "import networkx as nx\n",
    "from torch_geometric.nn import MessagePassing\n",
    "from torch_geometric.utils import add_self_loops, degree\n",
    "import matplotlib.pyplot as plt\n",
    "import scipy.special as SS\n",
    "import scipy.stats as SSA"
   ]
  },
  {
   "cell_type": "code",
   "execution_count": 81,
   "id": "629e33d6",
   "metadata": {},
   "outputs": [],
   "source": [
    "class EpidemicSimulator(MessagePassing):\n",
    "    def __init__(self, r, p, weight, max_time_step, prior_scale=1.):\n",
    "        super(EpidemicSimulator, self).__init__(aggr='add')\n",
    "        self.r = r\n",
    "        self.p_prime = 1-p\n",
    "        self.max_time_step = max_time_step\n",
    "        self.Z = 3  # latent period\n",
    "        self.Zb = 1  # scale parameter for Z\n",
    "        self.D = 5  # infectious period\n",
    "        self.Db = 1  # scale parameter for beta\n",
    "        self.weight = torch.Tensor(weight)\n",
    "#         print(self.weight)\n",
    "        self.offspring = []\n",
    "\n",
    "    def forward(self, x, edge_index, edge_attr, step):\n",
    "        \n",
    "        x = self.propagate(edge_index, size=(x.size(0), x.size(0)), x=x, edge_attr=edge_attr, step=step)\n",
    "        return x\n",
    "\n",
    "    def message(self, x, edge_index, edge_attr, step):\n",
    "        new_infectors = x[:, 2+step:3+step]  # the infectors at time ti\n",
    "        population = x[:, 1:2]\n",
    "        total_infection = torch.sum(x[:, 2:3+step], dim=1, keepdim=True)\n",
    "        rate = (population - total_infection) / population  # Compute the rate.\n",
    "        rate[rate < 0] = 0\n",
    "\n",
    "        new_effective_infectors = new_infectors*rate\n",
    "        new_infectors_int = new_effective_infectors.round().int()\n",
    "        \n",
    "#         temp = new_infectors.round().int()\n",
    "        cases = new_infectors_int.squeeze().tolist()\n",
    "        # Initialize an empty tensor to store the results\n",
    "        results = torch.zeros_like(new_infectors)\n",
    "        # Generate negative binomial for each size\n",
    "        for i, size in enumerate(cases):\n",
    "            #             print(size)\n",
    "            if size > 0:\n",
    "                offspring_per_case = torch.distributions.negative_binomial.NegativeBinomial(\n",
    "                    self.r, self.p_prime).sample(sample_shape=torch.Size([size]))\n",
    "#                 offspring_per_case = torch.tensor([2]*size)\n",
    "                # torch.distributions.Categorical(\n",
    "                #     self.weight).sample(sample_shape=torch.Size([size])) ##cutoff version\n",
    "#                 self.offspring.extend(offspring_per_case.tolist())\n",
    "                temp_sum = offspring_per_case.sum()\n",
    "            else:\n",
    "                temp_sum = 0\n",
    "#             print(temp_sum)\n",
    "            results[i] = temp_sum\n",
    "        ###### ^^^^^^#######\n",
    "        # Compute the messages.\n",
    "        results_aligned = results[edge_index[0]]\n",
    "        messages = results_aligned * edge_attr.view(-1, 1)\n",
    "#         bernoulli_dist = torch.distributions.Bernoulli(edge_attr) # Assuming edge_attr is a probability\n",
    "#         sampled_transmission = bernoulli_dist.sample()\n",
    "\n",
    "        # Use the sampled values as the messages\n",
    "#         messages = results_aligned * sampled_transmission.view(-1, 1)\n",
    "        \n",
    "        return messages\n",
    "\n",
    "    \n",
    "#     def aggregate(self, inputs, index):\n",
    "    \n",
    "    \n",
    "    def update(self, aggr_out, x, step):\n",
    "        # The new infections are the aggregated messages.\n",
    "        # aggr_out has shape [N, 1], it contains the updated infections\n",
    "        new_infections = aggr_out\n",
    "        #### Add the effective infections to the column corresponding to the current step.####\n",
    "        # immu first\n",
    "#         population = x[:, 1:2]\n",
    "#         total_infection = torch.sum(x[:, 2:3+step], dim=1, keepdim=True)\n",
    "#         rate = (population - total_infection) / population  # Compute the rate.\n",
    "#         rate[rate < 0] = 0\n",
    "\n",
    "#         new_effective_infections = new_infections*rate\n",
    "        new_infections_int = new_infections.round().int()\n",
    "        # diffuse the new_infections to different times\n",
    "        inf_sizes = new_infections_int.squeeze().tolist()\n",
    "        for i, inf_size_i in enumerate(inf_sizes):\n",
    "            gamma_dist1 = torch.distributions.Gamma(self.Z, 1/self.Zb)\n",
    "            gamma_dist2 = torch.distributions.Gamma(self.D, 1/self.Db)\n",
    "            latency_p = gamma_dist1.rsample(\n",
    "                sample_shape=torch.Size([inf_size_i]))\n",
    "            infectious_p = gamma_dist2.rsample(\n",
    "                sample_shape=torch.Size([inf_size_i]))\n",
    "            v = torch.rand(inf_size_i)\n",
    "#             delay_days = torch.tensor([2]*inf_size_i)\n",
    "            delay_days = latency_p + v * infectious_p #######\n",
    "#             print(step, delay_days)\n",
    "            for j, delay_t in enumerate(delay_days):\n",
    "                t_j = (2+step+delay_t).ceil().int()\n",
    "                if t_j > self.max_time_step:\n",
    "                    pass\n",
    "                else:\n",
    "                    x[i, t_j] = x[i, t_j] + 1\n",
    "\n",
    "        return x\n",
    "\n",
    "\n",
    "def simulate_dynamics(data, R0, r, num_steps):\n",
    "    p = r/(R0+r)\n",
    "    xx = np.arange(0, 100, 1)  # define the range of x values the cutoff is 200\n",
    "#     pmf = SSA.nbinom.pmf(xx, r, p)  # calculate the probability mass function\n",
    "    pmf = SSA.nbinom.pmf(xx, r.detach().numpy(), p.detach().numpy())\n",
    "    weights_n = pmf/np.sum(pmf)\n",
    "#     print(weights_n)\n",
    "    x = data.x\n",
    "    T_len = x.shape[1]\n",
    "    simulator = EpidemicSimulator(r, p, weights_n, max_time_step=(T_len-1))\n",
    "    for ti in range(num_steps):\n",
    "        x = simulator(x, data.edge_index, data.edge_attr, ti)\n",
    "    return x\n"
   ]
  },
  {
   "cell_type": "code",
   "execution_count": 50,
   "id": "b0c7ccb5",
   "metadata": {},
   "outputs": [],
   "source": [
    "####small####\n",
    "# create a graph\n",
    "A = np.array([[0.25 , 0.25, 0.4, 0.1 ],\n",
    "        [0.25, 0.75 , 0. , 0. ],\n",
    "        [0.4, 0. , 0.55 , 0.05],\n",
    "        [0.1 , 0 , 0.05, 0.85 ]])\n",
    "# adjacency_matrix = torch.tensor(WN)\n",
    "adjacency_matrix = torch.tensor(A)\n",
    "# Get the indices where the adjacency matrix has a non-zero value\n",
    "edge_index = torch.nonzero(adjacency_matrix, as_tuple=False).t()\n",
    "\n",
    "# If your adjacency matrix has edge weights, you can get them like this:\n",
    "edge_weight = adjacency_matrix[edge_index[0], edge_index[1]]\n",
    "xx = np.zeros((4,62))\n",
    "xx[:, 1] = np.array([1000]*4)\n",
    "xx[2,2] = 10\n",
    "xx = torch.tensor(xx,dtype=torch.float)\n",
    "data = Data(x=xx, edge_index=edge_index, edge_attr=edge_weight)\n",
    "\n",
    "XX = simulate_dynamics(\n",
    "        data, R0=1.5, r=torch.tensor(13.333), num_steps=10)"
   ]
  },
  {
   "cell_type": "code",
   "execution_count": 51,
   "id": "c68b44f4",
   "metadata": {},
   "outputs": [
    {
     "data": {
      "text/plain": [
       "tensor([[   0., 1000.,    0.,    0.,    8.,    0.,   13.,    0.,   24.,    0.,\n",
       "           43.,    0.],\n",
       "        [   0., 1000.,    0.,    0.,    0.,    0.,    4.,    0.,   12.,    0.,\n",
       "           30.,    0.],\n",
       "        [   0., 1000.,   10.,    0.,   11.,    0.,   19.,    0.,   31.,    0.,\n",
       "           51.,    0.],\n",
       "        [   0., 1000.,    0.,    0.,    1.,    0.,    4.,    0.,   11.,    0.,\n",
       "           26.,    0.]])"
      ]
     },
     "execution_count": 51,
     "metadata": {},
     "output_type": "execute_result"
    }
   ],
   "source": [
    "XX[:,:12]"
   ]
  },
  {
   "cell_type": "code",
   "execution_count": null,
   "id": "aca632b1",
   "metadata": {},
   "outputs": [],
   "source": [
    "#### Real####\n",
    "# NewInf_i, newcases = simulate_dynamics(data, R0=2.5, r=2.0, num_steps=1, edge_index=edge_index)\n",
    "WN = np.loadtxt('W_avg.csv')\n",
    "pop = np.loadtxt('pop_new.csv')\n",
    "T = 60\n",
    "num_fips = len(pop)\n",
    "l0 = 1859-1\n",
    "\n",
    "xx = np.zeros((num_fips, T+2))\n",
    "xx[:, 1] = pop  # populations\n",
    "# col_2 is the new infections generated by the new infectors\n",
    "xx[l0, 2] = 100  # the new infections at time 0 in the seeding location\n",
    "xx = torch.tensor(xx, dtype=torch.float)\n",
    "\n",
    "adjacency_matrix = torch.tensor(WN)\n",
    "# Get the indices where the adjacency matrix has a non-zero value\n",
    "edge_index = torch.nonzero(adjacency_matrix, as_tuple=False).t()\n",
    "# If adjacency matrix has edge weights, you can get them like this:\n",
    "edge_weight = adjacency_matrix[edge_index[0], edge_index[1]]\n",
    "data = Data(x=xx, edge_index=edge_index, edge_attr=edge_weight)\n",
    "\n",
    "torch.manual_seed(1)\n",
    "# XX = simulate_dynamics(\n",
    "#         data, R0=1.5, r=torch.tensor(13.333), num_steps=60)\n",
    "XX2 = simulate_dynamics(\n",
    "        data, R0=5.5, r=torch.tensor(13.333), num_steps=60)"
   ]
  },
  {
   "cell_type": "code",
   "execution_count": 83,
   "id": "ced82b36",
   "metadata": {},
   "outputs": [
    {
     "data": {
      "text/plain": [
       "<matplotlib.collections.PathCollection at 0x2a7f0a490>"
      ]
     },
     "execution_count": 83,
     "metadata": {},
     "output_type": "execute_result"
    },
    {
     "data": {
      "image/png": "[encoded data removed]",
      "text/plain": [
       "<Figure size 640x480 with 1 Axes>"
      ]
     },
     "metadata": {},
     "output_type": "display_data"
    }
   ],
   "source": [
    "plt.scatter(range(3142),XX[:,-1],label='gnn')"
   ]
  },
  {
   "cell_type": "code",
   "execution_count": 68,
   "id": "143ddc2f",
   "metadata": {},
   "outputs": [
    {
     "data": {
      "text/plain": [
       "Bernoulli(probs: torch.Size([3]))"
      ]
     },
     "execution_count": 68,
     "metadata": {},
     "output_type": "execute_result"
    }
   ],
   "source": [
    "torch.distributions.Bernoulli(torch.tensor([0.1,0.2,0.7]))"
   ]
  },
  {
   "cell_type": "code",
   "execution_count": 88,
   "id": "39738a71",
   "metadata": {},
   "outputs": [
    {
     "data": {
      "text/plain": [
       "tensor(194804)"
      ]
     },
     "execution_count": 88,
     "metadata": {},
     "output_type": "execute_result"
    }
   ],
   "source": [
    "torch.sum(XX == XX2)"
   ]
  },
  {
   "cell_type": "code",
   "execution_count": 89,
   "id": "b3b387a7",
   "metadata": {},
   "outputs": [
    {
     "data": {
      "text/plain": [
       "torch.Size([3142, 62])"
      ]
     },
     "execution_count": 89,
     "metadata": {},
     "output_type": "execute_result"
    }
   ],
   "source": [
    "XX.shape"
   ]
  },
  {
   "cell_type": "code",
   "execution_count": 90,
   "id": "d771d3a0",
   "metadata": {},
   "outputs": [
    {
     "data": {
      "text/plain": [
       "194804"
      ]
     },
     "execution_count": 90,
     "metadata": {},
     "output_type": "execute_result"
    }
   ],
   "source": [
    "3142*62"
   ]
  },
  {
   "cell_type": "code",
   "execution_count": null,
   "id": "03e3dd2d",
   "metadata": {},
   "outputs": [],
   "source": []
  }
 ],
 "metadata": {
  "kernelspec": {
   "display_name": "gnn",
   "language": "python",
   "name": "gnn"
  },
  "language_info": {
   "codemirror_mode": {
    "name": "ipython",
    "version": 3
   },
   "file_extension": ".py",
   "mimetype": "text/x-python",
   "name": "python",
   "nbconvert_exporter": "python",
   "pygments_lexer": "ipython3",
   "version": "3.11.4"
  }
 },
 "nbformat": 4,
 "nbformat_minor": 5
}
