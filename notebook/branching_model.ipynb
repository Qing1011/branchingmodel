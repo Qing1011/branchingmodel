{
 "cells": [
  {
   "cell_type": "code",
   "execution_count": 1,
   "id": "e0de1fa7",
   "metadata": {},
   "outputs": [],
   "source": [
    "import numpy as np\n",
    "import matplotlib.pyplot as plt\n",
    "from scipy.io import loadmat, savemat\n",
    "import pandas as pd"
   ]
  },
  {
   "cell_type": "code",
   "execution_count": null,
   "id": "d1c4fabb",
   "metadata": {},
   "outputs": [],
   "source": [
    "## the model input neighbour list, idx, probability, time, the previous infections, parameters, population size \n",
    "## the model output for kth ensemble, the county everytime\n",
    "## it iterates every time\n",
    "NewInf(:,:,k)=branching(nl,part,w,t,NewInf(:,:,k),para(:,k),population);"
   ]
  },
  {
   "cell_type": "code",
   "execution_count": 3,
   "id": "e06d97cd",
   "metadata": {},
   "outputs": [],
   "source": [
    "WN = np.loadtxt('W_avg.csv')"
   ]
  },
  {
   "cell_type": "code",
   "execution_count": null,
   "id": "7f70cef5",
   "metadata": {},
   "outputs": [],
   "source": []
  }
 ],
 "metadata": {
  "kernelspec": {
   "display_name": "Python 3 (ipykernel)",
   "language": "python",
   "name": "python3"
  },
  "language_info": {
   "codemirror_mode": {
    "name": "ipython",
    "version": 3
   },
   "file_extension": ".py",
   "mimetype": "text/x-python",
   "name": "python",
   "nbconvert_exporter": "python",
   "pygments_lexer": "ipython3",
   "version": "3.9.7"
  }
 },
 "nbformat": 4,
 "nbformat_minor": 5
}
