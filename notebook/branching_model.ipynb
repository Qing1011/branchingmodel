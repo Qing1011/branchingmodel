{
 "cells": [
  {
   "cell_type": "code",
   "execution_count": 10,
   "id": "e0de1fa7",
   "metadata": {},
   "outputs": [],
   "source": [
    "import numpy as np\n",
    "import matplotlib.pyplot as plt\n",
    "from scipy.io import loadmat, savemat\n",
    "import pandas as pd\n",
    "import scipy.special as SS\n",
    "import scipy.stats as SSA\n",
    "import copy\n",
    "import random\n",
    "import math\n",
    "from numba import njit"
   ]
  },
  {
   "cell_type": "code",
   "execution_count": 12,
   "id": "e06d97cd",
   "metadata": {},
   "outputs": [],
   "source": [
    "WN = np.loadtxt('W_avg.csv')\n",
    "Cave = np.loadtxt('Cave.csv')\n",
    "pop = np.loadtxt('pop_new.csv')"
   ]
  },
  {
   "cell_type": "code",
   "execution_count": 13,
   "id": "6e226114",
   "metadata": {},
   "outputs": [],
   "source": [
    "num_fips = len(pop)\n",
    "T = 60\n",
    "num_ens = 300"
   ]
  },
  {
   "cell_type": "code",
   "execution_count": 14,
   "id": "7e4b61a2",
   "metadata": {},
   "outputs": [],
   "source": [
    "Z = 3 # latent period\n",
    "Zb = 1 # scale parameter for Z\n",
    "D = 5 # infectious period\n",
    "Db = 1 # scale parameter for b\n",
    "alpha = 0.1 # reporting rate 10%"
   ]
  },
  {
   "cell_type": "code",
   "execution_count": 15,
   "id": "069ffa1c",
   "metadata": {},
   "outputs": [],
   "source": [
    "# seeding\n",
    "l0 = 1859-1 # start with New York County NY in python -1, in matlab is 1859\n",
    "i0 = 100 ## the starting t=0, in matlab it is 1\n",
    "initials = (l0,i0)"
   ]
  },
  {
   "cell_type": "code",
   "execution_count": 16,
   "id": "4b170da1",
   "metadata": {},
   "outputs": [],
   "source": [
    "x_cutoff = 100\n",
    "r = 0.1 ## parameters (in the paper of Lloyd smith is the k)\n",
    "R0 = 2.5  ## the model input\n",
    "\n",
    "p = r/(R0+r)\n",
    "\n",
    "weights = np.zeros(x_cutoff)\n",
    "for i in range(x_cutoff):\n",
    "    temp1=SS.gamma(r+i)/SS.gamma(r)/SS.gamma((i+1))*np.power(p,r)*np.power((1-p),i)\n",
    "    weights[i] = temp1"
   ]
  },
  {
   "cell_type": "code",
   "execution_count": 17,
   "id": "98243e26",
   "metadata": {},
   "outputs": [
    {
     "name": "stdout",
     "output_type": "stream",
     "text": [
      "it covers 100.0 % of the values\n",
      "0.0 compare with the last prob 3.3891205435755526e-42\n"
     ]
    }
   ],
   "source": [
    "print('it covers', np.sum(weights)*100,'% of the values') ## to generate the sample, the sum up probe should be 1\n",
    "## we can assign/compare the rest of prob to each one\n",
    "prob_res = (1- np.sum(weights))/x_cutoff\n",
    "print (prob_res, 'compare with the last prob', weights[-1])\n",
    "## normalise the weights to 1\n",
    "weights_n = weights/np.sum(weights)"
   ]
  },
  {
   "cell_type": "code",
   "execution_count": null,
   "id": "fdc93ab4",
   "metadata": {},
   "outputs": [],
   "source": [
    "def get_new_infections_position(infectors, total_new, num_fips):\n",
    "    cum_inft = np.cumsum(infectors)\n",
    "    cum_new_infections = np.cumsum(total_new)\n",
    "\n",
    "    totoal_new_infection_l = np.zeros(int(np.sum(total_new)))\n",
    "    num_inft_s_idx = 0\n",
    "    inft_s_idx = 0\n",
    "    for l_indx in range(num_fips):\n",
    "        num_inft = infectors[l_indx]\n",
    "        if num_inft>0:\n",
    "            num_inft_e_idx = num_inft_s_idx+num_inft\n",
    "            infection_list_l = total_new[num_inft_s_idx:num_inft_e_idx] \n",
    "            ## the list of the number of infections caused by every infector\n",
    "            num_ift_l = np.sum(infection_list_l)\n",
    "            inft_e_idx = inft_s_idx + num_ift_l\n",
    "            totoal_new_infection_l[int(inft_s_idx):int(inft_e_idx)] = l_indx\n",
    "            ## the position of infection in the list of all infections\n",
    "            num_inft_s_idx = num_inft_e_idx\n",
    "            inft_s_idx = inft_e_idx\n",
    "    return totoal_new_infection_l"
   ]
  },
  {
   "cell_type": "code",
   "execution_count": 22,
   "id": "0dc46ec4",
   "metadata": {},
   "outputs": [
    {
     "name": "stdout",
     "output_type": "stream",
     "text": [
      "0\n",
      "1\n",
      "2\n",
      "3\n",
      "4\n",
      "5\n",
      "6\n",
      "7\n",
      "8\n",
      "9\n",
      "10\n",
      "11\n",
      "12\n",
      "13\n",
      "14\n",
      "15\n",
      "16\n",
      "17\n",
      "18\n",
      "19\n",
      "20\n",
      "21\n",
      "22\n",
      "23\n",
      "24\n",
      "25\n",
      "26\n",
      "27\n",
      "28\n",
      "29\n",
      "30\n",
      "31\n",
      "32\n",
      "33\n",
      "34\n",
      "35\n",
      "36\n",
      "37\n",
      "38\n",
      "39\n",
      "40\n",
      "41\n",
      "42\n",
      "43\n",
      "44\n",
      "45\n",
      "46\n",
      "47\n",
      "48\n",
      "49\n",
      "50\n",
      "51\n",
      "52\n",
      "53\n",
      "54\n",
      "55\n",
      "56\n",
      "57\n",
      "58\n",
      "59\n"
     ]
    }
   ],
   "source": [
    "NewInf = np.zeros((num_fips,T*10))\n",
    "TotInf = np.zeros((num_fips,T*10))\n",
    "\n",
    "NewInf[l0,0] = i0\n",
    "TotInf[:,0] = NewInf[:,0]\n",
    "### for each time step and each location\n",
    "#     print(ti)\n",
    "for ti in range(T):\n",
    "    print(ti)\n",
    "    infectors = np.int64(NewInf[:,ti])\n",
    "    total_num_infectors = np.sum(infectors)\n",
    "    pop_immu = 1-TotInf[:,ti]/pop[:]\n",
    "    immu_all = [] ### create list of immu_prob * number of infectors\n",
    "    for idx in range(len(pop_immu)):\n",
    "        pop_immu_i  = [pop_immu[idx]]*infectors[idx]\n",
    "        immu_all.extend(pop_immu_i)\n",
    "    tt = np.random.choice(len(weights_n), size = total_num_infectors , p=weights_n) ## this is a vector\n",
    "    total_new = np.round(tt*immu_all) ### to be assigned, every new infections for the infector\n",
    "    totoal_new_infection_loc = get_new_infections_position(infectors, total_new, num_fips)\n",
    "\n",
    "    z_num = np.int64(np.sum(total_new))\n",
    "    NF = np.zeros((2,z_num),dtype=np.int64)\n",
    "    ## for the time distribution\n",
    "    latency_p = SSA.gamma.rvs(a = Z,scale=Zb,size = z_num)\n",
    "    infectious_p = SSA.gamma.rvs(a = D,scale=Db,size = z_num)\n",
    "    v = np.random.random_sample(z_num)\n",
    "    delay_days = latency_p+v*infectious_p\n",
    "    NF[0,:] = np.ceil(delay_days+ti) ## make it idx int\n",
    "    ## for the location distribution\n",
    "    NF[1,:] = totoal_new_infection_loc\n",
    "    df = pd.DataFrame(NF.T,columns=['time','o_l'])\n",
    "    l_list = np.arange(num_fips)\n",
    "    df['d_l'] = df['o_l'].apply(lambda x: np.random.choice(l_list, size = 1, p=WN[:,x])[0])\n",
    "    NF_ii = np.array(df)\n",
    "    for (t,o,d) in NF_ii:\n",
    "        NewInf[d,t] = NewInf[d,t]+1\n",
    "    TotInf = np.cumsum(NewInf,axis=1)"
   ]
  },
  {
   "cell_type": "code",
   "execution_count": 24,
   "id": "88529b82",
   "metadata": {},
   "outputs": [
    {
     "data": {
      "text/plain": [
       "6330819.0"
      ]
     },
     "execution_count": 24,
     "metadata": {},
     "output_type": "execute_result"
    }
   ],
   "source": [
    "np.sum(NewInf)"
   ]
  },
  {
   "cell_type": "code",
   "execution_count": 47,
   "id": "8c6d0a80",
   "metadata": {},
   "outputs": [],
   "source": [
    "test = np.array([0,1,0,2,0]) ##TotInf[:,ti]"
   ]
  },
  {
   "cell_type": "code",
   "execution_count": 53,
   "id": "d5540495",
   "metadata": {},
   "outputs": [],
   "source": [
    "pop_immu = np.array([1,0.9,1,0.8,1]) ##(1-TotInf[:,ti]/pop[:])"
   ]
  },
  {
   "cell_type": "code",
   "execution_count": 57,
   "id": "20f90776",
   "metadata": {},
   "outputs": [],
   "source": [
    "immu_all = []\n",
    "for idx in range(len(pop_immu)):\n",
    "    pop_immu_i  = [pop_immu[idx]]*test[idx]\n",
    "    immu_all.extend(pop_immu_i)"
   ]
  },
  {
   "cell_type": "code",
   "execution_count": 33,
   "id": "130dd54a",
   "metadata": {},
   "outputs": [],
   "source": [
    "tt = np.random.choice(len(weights_n), size = np.int64(np.sum(test)) , p=weights_n) ## this is a vector"
   ]
  },
  {
   "cell_type": "code",
   "execution_count": 61,
   "id": "2225693f",
   "metadata": {},
   "outputs": [],
   "source": [
    "total_new = np.round(tt*immu_all) ### to be assigned "
   ]
  },
  {
   "cell_type": "code",
   "execution_count": 66,
   "id": "20440a1f",
   "metadata": {},
   "outputs": [
    {
     "data": {
      "text/plain": [
       "array([2., 3., 3.])"
      ]
     },
     "execution_count": 66,
     "metadata": {},
     "output_type": "execute_result"
    }
   ],
   "source": [
    "total_new ### every new infections for the infector"
   ]
  },
  {
   "cell_type": "code",
   "execution_count": 86,
   "id": "aa1016d0",
   "metadata": {},
   "outputs": [
    {
     "data": {
      "text/plain": [
       "[1, 1]"
      ]
     },
     "execution_count": 86,
     "metadata": {},
     "output_type": "execute_result"
    }
   ],
   "source": [
    "[l_indx]*int(new_infection_l)"
   ]
  },
  {
   "cell_type": "code",
   "execution_count": 91,
   "id": "290282f5",
   "metadata": {},
   "outputs": [],
   "source": [
    "cum_inft = np.cumsum(test)\n",
    "cum_new_infections = np.cumsum(total_new)\n",
    "totoal_new_infection_l = np.zeros(int(np.sum(total_new)))\n",
    "num_inft_s_idx = 0\n",
    "inft_s_idx = 0\n",
    "for l_indx in range(5):\n",
    "    num_inft = test[l_indx]\n",
    "    if num_inft>0:\n",
    "        num_inft_e_idx = num_inft_s_idx+num_inft\n",
    "        infection_list_l = total_new[num_inft_s_idx:num_inft_e_idx]\n",
    "        num_ift_l = np.sum(infection_list_l)\n",
    "        inft_e_idx = inft_s_idx + num_ift_l\n",
    "        totoal_new_infection_l[int(inft_s_idx):int(inft_e_idx)] = l_indx\n",
    "        \n",
    "        num_inft_s_idx = num_inft_e_idx\n",
    "        inft_s_idx = inft_e_idx"
   ]
  },
  {
   "cell_type": "code",
   "execution_count": 154,
   "id": "60f517ff",
   "metadata": {},
   "outputs": [
    {
     "data": {
      "text/plain": [
       "array([1858., 1858., 1858., 1858., 1858., 1858., 1858., 1858., 1858.,\n",
       "       1858., 1858., 1858., 1858., 1858., 1858., 1858., 1858., 1858.,\n",
       "       1858., 1858., 1858., 1858., 1858., 1858., 1858., 1858., 1858.,\n",
       "       1858., 1858., 1858., 1858., 1858., 1858., 1858., 1858., 1858.,\n",
       "       1858., 1858., 1858., 1858., 1858., 1858., 1858., 1858., 1858.,\n",
       "       1858., 1858., 1858., 1858., 1858., 1858., 1858., 1858., 1858.,\n",
       "       1858., 1858., 1858., 1858., 1858., 1858., 1858., 1858., 1858.,\n",
       "       1858., 1858., 1858., 1858., 1858., 1858., 1858., 1858., 1858.,\n",
       "       1858., 1858., 1858., 1858., 1858., 1858., 1858., 1858., 1858.,\n",
       "       1858., 1858., 1858., 1858., 1858., 1858., 1858., 1858., 1858.,\n",
       "       1858., 1858., 1858., 1858., 1858., 1858., 1858., 1858., 1858.,\n",
       "       1858., 1858., 1858., 1858., 1858., 1858., 1858., 1858., 1858.,\n",
       "       1858., 1858., 1858., 1858., 1858., 1858., 1858., 1858., 1858.,\n",
       "       1858., 1858., 1858., 1858., 1858., 1858., 1858., 1858., 1858.,\n",
       "       1858., 1858., 1858., 1858., 1858., 1858., 1858., 1858., 1858.,\n",
       "       1858., 1858., 1858., 1858., 1858., 1858., 1858., 1858., 1858.,\n",
       "       1858., 1858., 1858., 1858., 1858., 1858., 1858., 1858., 1858.,\n",
       "       1858., 1858., 1858., 1858., 1858., 1858., 1858., 1858., 1858.,\n",
       "       1858., 1858., 1858., 1858., 1858., 1858., 1858., 1858., 1858.,\n",
       "       1858., 1858., 1858., 1858., 1858., 1858., 1858., 1858., 1858.,\n",
       "       1858., 1858., 1858., 1858., 1858., 1858., 1858., 1858., 1858.,\n",
       "       1858., 1858., 1858., 1858., 1858., 1858., 1858., 1858., 1858.,\n",
       "       1858., 1858., 1858., 1858., 1858., 1858., 1858., 1858., 1858.,\n",
       "       1858., 1858., 1858., 1858., 1858., 1858., 1858., 1858., 1858.,\n",
       "       1858., 1858., 1858., 1858., 1858., 1858., 1858., 1858., 1858.,\n",
       "       1858., 1858., 1858., 1858., 1858., 1858., 1858., 1858., 1858.,\n",
       "       1858., 1858., 1858., 1858., 1858., 1858., 1858., 1858., 1858.,\n",
       "       1858., 1858., 1858., 1858., 1858., 1858., 1858., 1858., 1858.,\n",
       "       1858., 1858., 1858., 1858., 1858., 1858., 1858., 1858., 1858.,\n",
       "       1858., 1858., 1858., 1858., 1858., 1858., 1858., 1858.])"
      ]
     },
     "execution_count": 154,
     "metadata": {},
     "output_type": "execute_result"
    }
   ],
   "source": [
    "totoal_new_infection_l"
   ]
  },
  {
   "cell_type": "code",
   "execution_count": 156,
   "id": "611750c2",
   "metadata": {},
   "outputs": [],
   "source": [
    "z_num = np.int64(np.sum(total_new))\n",
    "NF = np.zeros((2,z_num),dtype=np.int64)\n",
    "## for the time distribution\n",
    "latency_p = SSA.gamma.rvs(a = Z,scale=Zb,size = z_num)\n",
    "infectious_p = SSA.gamma.rvs(a = D,scale=Db,size = z_num)\n",
    "v = np.random.random_sample(z_num)\n",
    "delay_days = latency_p+v*infectious_p"
   ]
  },
  {
   "cell_type": "code",
   "execution_count": 157,
   "id": "baf62e74",
   "metadata": {},
   "outputs": [],
   "source": [
    "NF[0,:] = np.ceil(delay_days+ti) ## make it idx int\n",
    "## for the location distribution"
   ]
  },
  {
   "cell_type": "code",
   "execution_count": 158,
   "id": "f94f5266",
   "metadata": {},
   "outputs": [],
   "source": [
    "NF[1,:] = totoal_new_infection_l"
   ]
  },
  {
   "cell_type": "code",
   "execution_count": 159,
   "id": "e8a183e4",
   "metadata": {},
   "outputs": [],
   "source": [
    "df = pd.DataFrame(NF.T,columns=['time','o_l'])"
   ]
  },
  {
   "cell_type": "code",
   "execution_count": 160,
   "id": "b5b6e5c6",
   "metadata": {},
   "outputs": [],
   "source": [
    "l_list = np.arange(num_fips)"
   ]
  },
  {
   "cell_type": "code",
   "execution_count": 109,
   "id": "87d5d311",
   "metadata": {},
   "outputs": [
    {
     "data": {
      "image/png": "[encoded data removed]",
      "text/plain": [
       "<Figure size 432x288 with 2 Axes>"
      ]
     },
     "metadata": {
      "needs_background": "light"
     },
     "output_type": "display_data"
    }
   ],
   "source": [
    "from matplotlib import pyplot as plt, cm\n",
    "from matplotlib import colors\n",
    "\n",
    "im = plt.imshow(WN, cmap=cm.rainbow, norm=colors.LogNorm())\n",
    "plt.colorbar(im)\n",
    "plt.show()"
   ]
  },
  {
   "cell_type": "code",
   "execution_count": 161,
   "id": "f07260ae",
   "metadata": {},
   "outputs": [],
   "source": [
    "df['d_l'] = df['o_l'].apply(lambda x: np.random.choice(l_list, size = 1, p=WN[:,x])[0])"
   ]
  },
  {
   "cell_type": "code",
   "execution_count": 162,
   "id": "e8e2a488",
   "metadata": {},
   "outputs": [
    {
     "data": {
      "text/html": [
       "<div>\n",
       "<style scoped>\n",
       "    .dataframe tbody tr th:only-of-type {\n",
       "        vertical-align: middle;\n",
       "    }\n",
       "\n",
       "    .dataframe tbody tr th {\n",
       "        vertical-align: top;\n",
       "    }\n",
       "\n",
       "    .dataframe thead th {\n",
       "        text-align: right;\n",
       "    }\n",
       "</style>\n",
       "<table border=\"1\" class=\"dataframe\">\n",
       "  <thead>\n",
       "    <tr style=\"text-align: right;\">\n",
       "      <th></th>\n",
       "      <th>time</th>\n",
       "      <th>o_l</th>\n",
       "      <th>d_l</th>\n",
       "    </tr>\n",
       "  </thead>\n",
       "  <tbody>\n",
       "    <tr>\n",
       "      <th>0</th>\n",
       "      <td>3</td>\n",
       "      <td>1858</td>\n",
       "      <td>1851</td>\n",
       "    </tr>\n",
       "    <tr>\n",
       "      <th>1</th>\n",
       "      <td>7</td>\n",
       "      <td>1858</td>\n",
       "      <td>1858</td>\n",
       "    </tr>\n",
       "    <tr>\n",
       "      <th>2</th>\n",
       "      <td>5</td>\n",
       "      <td>1858</td>\n",
       "      <td>1858</td>\n",
       "    </tr>\n",
       "    <tr>\n",
       "      <th>3</th>\n",
       "      <td>10</td>\n",
       "      <td>1858</td>\n",
       "      <td>1858</td>\n",
       "    </tr>\n",
       "    <tr>\n",
       "      <th>4</th>\n",
       "      <td>22</td>\n",
       "      <td>1858</td>\n",
       "      <td>1887</td>\n",
       "    </tr>\n",
       "    <tr>\n",
       "      <th>...</th>\n",
       "      <td>...</td>\n",
       "      <td>...</td>\n",
       "      <td>...</td>\n",
       "    </tr>\n",
       "    <tr>\n",
       "      <th>264</th>\n",
       "      <td>3</td>\n",
       "      <td>1858</td>\n",
       "      <td>1858</td>\n",
       "    </tr>\n",
       "    <tr>\n",
       "      <th>265</th>\n",
       "      <td>8</td>\n",
       "      <td>1858</td>\n",
       "      <td>1857</td>\n",
       "    </tr>\n",
       "    <tr>\n",
       "      <th>266</th>\n",
       "      <td>4</td>\n",
       "      <td>1858</td>\n",
       "      <td>1851</td>\n",
       "    </tr>\n",
       "    <tr>\n",
       "      <th>267</th>\n",
       "      <td>7</td>\n",
       "      <td>1858</td>\n",
       "      <td>1830</td>\n",
       "    </tr>\n",
       "    <tr>\n",
       "      <th>268</th>\n",
       "      <td>4</td>\n",
       "      <td>1858</td>\n",
       "      <td>1868</td>\n",
       "    </tr>\n",
       "  </tbody>\n",
       "</table>\n",
       "<p>269 rows × 3 columns</p>\n",
       "</div>"
      ],
      "text/plain": [
       "     time   o_l   d_l\n",
       "0       3  1858  1851\n",
       "1       7  1858  1858\n",
       "2       5  1858  1858\n",
       "3      10  1858  1858\n",
       "4      22  1858  1887\n",
       "..    ...   ...   ...\n",
       "264     3  1858  1858\n",
       "265     8  1858  1857\n",
       "266     4  1858  1851\n",
       "267     7  1858  1830\n",
       "268     4  1858  1868\n",
       "\n",
       "[269 rows x 3 columns]"
      ]
     },
     "execution_count": 162,
     "metadata": {},
     "output_type": "execute_result"
    }
   ],
   "source": [
    "df"
   ]
  },
  {
   "cell_type": "code",
   "execution_count": 163,
   "id": "1d414c7e",
   "metadata": {},
   "outputs": [],
   "source": [
    "NF_ii = np.array(df)"
   ]
  },
  {
   "cell_type": "code",
   "execution_count": 164,
   "id": "5399c8b8",
   "metadata": {},
   "outputs": [],
   "source": [
    "for (t,o,d) in NF_ii:\n",
    "    NewInf[d,t] = NewInf[d,t]+1"
   ]
  },
  {
   "cell_type": "code",
   "execution_count": 26,
   "id": "697295b1",
   "metadata": {},
   "outputs": [],
   "source": [
    "# NewInf_s = NewInf[:,:60]\n",
    "# NewInf1 = np.loadtxt('NewInf_r_0.1.csv')\n",
    "NewInf_s1 = NewInf[:,:60]\n",
    "# NewInf_s2 = NewInf[:,:60]"
   ]
  },
  {
   "cell_type": "code",
   "execution_count": 27,
   "id": "2dca52b7",
   "metadata": {},
   "outputs": [],
   "source": [
    "daily_per_pop1 = NewInf_s1/pop[:,None]*100000\n",
    "\n",
    "# daily_per_pop2 = NewInf_s2/pop[:,None]*100000"
   ]
  },
  {
   "cell_type": "code",
   "execution_count": 29,
   "id": "26ce0370",
   "metadata": {},
   "outputs": [
    {
     "data": {
      "text/plain": [
       "Text(0, 0.5, 'counties with daily infections per 100000>10')"
      ]
     },
     "execution_count": 29,
     "metadata": {},
     "output_type": "execute_result"
    },
    {
     "data": {
      "image/png": "[encoded data removed]",
      "text/plain": [
       "<Figure size 432x288 with 1 Axes>"
      ]
     },
     "metadata": {
      "needs_background": "light"
     },
     "output_type": "display_data"
    }
   ],
   "source": [
    "# plt.plot(np.sum(daily_per_pop1>10,axis=0),label='r=0.1',color='green')\n",
    "plt.plot(np.sum(daily_per_pop1>10,axis=0),label='r=5',color='orange')\n",
    "plt.legend()\n",
    "plt.xlabel('day')\n",
    "plt.ylabel('counties with daily infections per 100000>10')"
   ]
  },
  {
   "cell_type": "code",
   "execution_count": 61,
   "id": "e7a4d2eb",
   "metadata": {},
   "outputs": [],
   "source": [
    "# np.savetxt('NewInf_r_0.1.csv',NewInf)\n",
    "np.savetxt('NewInf_r_51.csv',NewInf)"
   ]
  },
  {
   "cell_type": "code",
   "execution_count": null,
   "id": "d6fd56b4",
   "metadata": {},
   "outputs": [],
   "source": []
  }
 ],
 "metadata": {
  "kernelspec": {
   "display_name": "Python 3 (ipykernel)",
   "language": "python",
   "name": "python3"
  },
  "language_info": {
   "codemirror_mode": {
    "name": "ipython",
    "version": 3
   },
   "file_extension": ".py",
   "mimetype": "text/x-python",
   "name": "python",
   "nbconvert_exporter": "python",
   "pygments_lexer": "ipython3",
   "version": "3.9.7"
  }
 },
 "nbformat": 4,
 "nbformat_minor": 5
}
