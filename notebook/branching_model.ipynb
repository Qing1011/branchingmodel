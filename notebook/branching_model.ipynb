{
 "cells": [
  {
   "cell_type": "code",
   "execution_count": 16,
   "id": "e0de1fa7",
   "metadata": {},
   "outputs": [],
   "source": [
    "import numpy as np\n",
    "import matplotlib.pyplot as plt\n",
    "from scipy.io import loadmat, savemat\n",
    "import pandas as pd\n",
    "import scipy.special as SS\n",
    "import scipy.stats as SSA\n",
    "import copy\n",
    "import random\n",
    "import math\n",
    "from numba import njit"
   ]
  },
  {
   "cell_type": "code",
   "execution_count": 27,
   "id": "d1c4fabb",
   "metadata": {},
   "outputs": [],
   "source": [
    "## the model input neighbour list, idx, probability, time, the previous infections, parameters, population size \n",
    "## the model output for kth ensemble, the county everytime\n",
    "## it iterates every time\n",
    "# @njit\n",
    "def superspreading_T_Loc(T,num_fips,initials,weights_n,pop,paras,WN):\n",
    "    Z, Zb, D, Db = paras\n",
    "    ## initialise \n",
    "    l0, i0 = initials\n",
    "    \n",
    "    NewInf = np.zeros((num_fips,T*10))\n",
    "    TotInf = np.zeros((num_fips,T*10))\n",
    "    \n",
    "    NewInf[l0,0] = i0\n",
    "    TotInf[:,0] = NewInf[:,0]\n",
    "    ### for each time step and each location\n",
    "    for ti in range(T):\n",
    "        print(ti)\n",
    "        for l in range(num_fips):\n",
    "            infectors = int(NewInf[l,ti])\n",
    "            ### the number of possible new infections the size = 100 can infect individually from the NB \n",
    "            z_all = np.random.choice(len(weights_n), size = infectors, p=weights_n) ## this is a vector\n",
    "            ### however, the populations have immunited people, the number will decrease i did not agree with this part \n",
    "            ## as the infection happens inside the location of the infectious people, for immunity is the pop of the \n",
    "            z_immunity = np.round(z_all*(1-TotInf[l,ti]/pop[l]))\n",
    "            \n",
    "            z_num = np.int64(np.sum(z_immunity))\n",
    "            NF_l = np.zeros((2,z_num),dtype=np.int64)\n",
    "            ## for the time distribution\n",
    "            latency_p = SSA.gamma.rvs(a = Z,scale=Zb,size = z_num)\n",
    "            infectious_p = SSA.gamma.rvs(a = D,scale=Db,size = z_num)\n",
    "            v = np.random.random_sample(z_num)\n",
    "            delay_days = latency_p+v*infectious_p\n",
    "\n",
    "            NF_l[0,:] = np.ceil(delay_days+ti) ## make it idx int\n",
    "            ## for the location distribution\n",
    "            loc_idx = np.random.choice(np.arange(num_fips), size = z_num, p=WN[:,l])\n",
    "            NF_l[1,:] = loc_idx\n",
    "\n",
    "            ## infections merge into the matrix\n",
    "            NewInf_l = np.zeros_like(NewInf)\n",
    "            for i in range(z_num):\n",
    "                t_i, loc_i = NF_l[:,i]\n",
    "                NewInf_l[loc_i,t_i] = NewInf_l[loc_i,t_i]+1\n",
    "            NewInf = NewInf + NewInf_l\n",
    "            TotInf = np.cumsum(NewInf,axis=1)\n",
    "    return NewInf, TotInf"
   ]
  },
  {
   "cell_type": "code",
   "execution_count": 3,
   "id": "e06d97cd",
   "metadata": {},
   "outputs": [],
   "source": [
    "WN = np.loadtxt('W_avg.csv')\n",
    "Cave = np.loadtxt('Cave.csv')\n",
    "pop = np.loadtxt('pop_new.csv')"
   ]
  },
  {
   "cell_type": "code",
   "execution_count": 4,
   "id": "6e226114",
   "metadata": {},
   "outputs": [],
   "source": [
    "num_fips = len(pop)\n",
    "T = 60\n",
    "num_ens = 300"
   ]
  },
  {
   "cell_type": "code",
   "execution_count": null,
   "id": "854ebe41",
   "metadata": {},
   "outputs": [],
   "source": [
    "Z = 3 # latent period\n",
    "Zb = 1 # scale parameter for Z\n",
    "D = 5 # infectious period\n",
    "Db = 1 # scale parameter for b\n",
    "alpha = 0.1 # reporting rate 10%"
   ]
  },
  {
   "cell_type": "code",
   "execution_count": 5,
   "id": "069ffa1c",
   "metadata": {},
   "outputs": [],
   "source": [
    "# seeding\n",
    "l0 = 1859-1 # start with New York County NY in python -1, in matlab is 1895\n",
    "i0 = 100 ## the starting t=0, in matlab it is 1\n",
    "initials = (l0,i0)"
   ]
  },
  {
   "cell_type": "code",
   "execution_count": 7,
   "id": "4b170da1",
   "metadata": {},
   "outputs": [],
   "source": [
    "x_cutoff = 100\n",
    "r = 0.1 ## parameters (in the paper of Lloyd smith is the k)\n",
    "R0 = 2.5  ## the model input\n",
    "\n",
    "p = r/(R0+r)\n",
    "\n",
    "weights = np.zeros(x_cutoff)\n",
    "for i in range(x_cutoff):\n",
    "    temp1=SS.gamma(r+i)/SS.gamma(r)/SS.gamma((i+1))*np.power(p,r)*np.power((1-p),i)\n",
    "    weights[i] = temp1"
   ]
  },
  {
   "cell_type": "code",
   "execution_count": 8,
   "id": "98243e26",
   "metadata": {},
   "outputs": [
    {
     "name": "stdout",
     "output_type": "stream",
     "text": [
      "it covers 99.94793690833258 % of the values\n",
      "5.206309166742029e-06 compare with the last prob 2.4979978105066747e-05\n"
     ]
    }
   ],
   "source": [
    "print('it covers', np.sum(weights)*100,'% of the values') ## to generate the sample, the sum up probe should be 1\n",
    "## we can assign/compare the rest of prob to each one\n",
    "prob_res = (1- np.sum(weights))/x_cutoff\n",
    "print (prob_res, 'compare with the last prob', weights[-1])\n",
    "## normalise the weights to 1\n",
    "weights_n = weights/np.sum(weights)"
   ]
  },
  {
   "cell_type": "code",
   "execution_count": 30,
   "id": "1988a7ca",
   "metadata": {},
   "outputs": [
    {
     "name": "stdout",
     "output_type": "stream",
     "text": [
      "0\n",
      "1\n",
      "2\n",
      "3\n",
      "4\n",
      "5\n",
      "6\n",
      "7\n",
      "8\n",
      "9\n",
      "10\n",
      "11\n",
      "12\n",
      "13\n",
      "14\n",
      "15\n",
      "16\n",
      "17\n",
      "18\n",
      "19\n",
      "20\n",
      "21\n",
      "22\n",
      "23\n",
      "24\n",
      "25\n",
      "26\n",
      "27\n",
      "28\n",
      "29\n",
      "30\n",
      "31\n",
      "32\n",
      "33\n",
      "34\n",
      "35\n",
      "36\n",
      "37\n",
      "38\n",
      "39\n",
      "40\n",
      "41\n",
      "42\n",
      "43\n",
      "44\n",
      "45\n",
      "46\n",
      "47\n",
      "48\n",
      "49\n",
      "50\n",
      "51\n",
      "52\n",
      "53\n",
      "54\n",
      "55\n",
      "56\n",
      "57\n",
      "58\n",
      "59\n",
      "CPU times: user 25min 3s, sys: 6.71 s, total: 25min 10s\n",
      "Wall time: 25min 13s\n"
     ]
    }
   ],
   "source": [
    "%%time\n",
    "NewInf, TotInf = superspreading_T_Loc(60,num_fips,(l0,i0),weights_n,pop,(3,1,5,1),WN)"
   ]
  },
  {
   "cell_type": "code",
   "execution_count": 37,
   "id": "79c3fe7e",
   "metadata": {},
   "outputs": [],
   "source": [
    "NewInf_s = NewInf[:,:60]"
   ]
  },
  {
   "cell_type": "code",
   "execution_count": 44,
   "id": "3b0594ec",
   "metadata": {},
   "outputs": [],
   "source": [
    "daily_per_pop = NewInf_s/pop[:,None]*100000"
   ]
  },
  {
   "cell_type": "code",
   "execution_count": 48,
   "id": "b897a31b",
   "metadata": {},
   "outputs": [
    {
     "data": {
      "text/plain": [
       "[<matplotlib.lines.Line2D at 0x7fe781ac21c0>]"
      ]
     },
     "execution_count": 48,
     "metadata": {},
     "output_type": "execute_result"
    },
    {
     "data": {
      "image/png": "[encoded data removed]",
      "text/plain": [
       "<Figure size 432x288 with 1 Axes>"
      ]
     },
     "metadata": {
      "needs_background": "light"
     },
     "output_type": "display_data"
    }
   ],
   "source": [
    "plt.plot(np.sum(daily_per_pop>10,axis=0))"
   ]
  },
  {
   "cell_type": "code",
   "execution_count": null,
   "id": "663d6430",
   "metadata": {},
   "outputs": [],
   "source": [
    "np.savetxt('')"
   ]
  }
 ],
 "metadata": {
  "kernelspec": {
   "display_name": "Python 3 (ipykernel)",
   "language": "python",
   "name": "python3"
  },
  "language_info": {
   "codemirror_mode": {
    "name": "ipython",
    "version": 3
   },
   "file_extension": ".py",
   "mimetype": "text/x-python",
   "name": "python",
   "nbconvert_exporter": "python",
   "pygments_lexer": "ipython3",
   "version": "3.9.7"
  }
 },
 "nbformat": 4,
 "nbformat_minor": 5
}
