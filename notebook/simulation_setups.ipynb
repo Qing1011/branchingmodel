{
 "cells": [
  {
   "cell_type": "code",
   "execution_count": 1,
   "id": "4bdbb08e",
   "metadata": {},
   "outputs": [],
   "source": [
    "import numpy as np\n",
    "import matplotlib.pyplot as plt\n",
    "from scipy.io import loadmat, savemat\n",
    "import pandas as pd\n",
    "import scipy.special as SS\n",
    "import scipy.stats as SSA\n",
    "import copy\n",
    "import random\n",
    "import math\n",
    "from sklearn.model_selection import ParameterGrid\n",
    "import os\n",
    "import numpy.linalg as LA\n",
    "import gzip\n",
    "\n",
    "# load pickle module\n",
    "import pickle"
   ]
  },
  {
   "cell_type": "code",
   "execution_count": 2,
   "id": "b282b590",
   "metadata": {},
   "outputs": [],
   "source": [
    "rs = np.arange(0.01, 1, 0.02)\n",
    "\n",
    "R0s = np.arange(1.5, 6.5, 0.1)\n",
    "\n",
    "param_grid = {'R0': R0s, 'r' : rs}\n",
    "\n",
    "grid = ParameterGrid(param_grid)\n",
    "\n",
    "para_dict = list(grid)"
   ]
  },
  {
   "cell_type": "code",
   "execution_count": 62,
   "id": "869e891c",
   "metadata": {},
   "outputs": [],
   "source": [
    "file_dir = '../../../../../../Volumes/My Passport/branching/branching_results/'"
   ]
  },
  {
   "cell_type": "code",
   "execution_count": 5,
   "id": "cac58e68",
   "metadata": {},
   "outputs": [
    {
     "data": {
      "text/plain": [
       "{'R0': 2.1000000000000005, 'r': 0.18999999999999997}"
      ]
     },
     "execution_count": 5,
     "metadata": {},
     "output_type": "execute_result"
    }
   ],
   "source": [
    "para_dict[309]"
   ]
  },
  {
   "cell_type": "code",
   "execution_count": 14,
   "id": "89138f62",
   "metadata": {},
   "outputs": [
    {
     "data": {
      "text/plain": [
       "'../../../../../../Volumes/My Passport/branching/branching_results/NewInf_R0-3.4_r-0.99_499.npy.gz'"
      ]
     },
     "execution_count": 14,
     "metadata": {},
     "output_type": "execute_result"
    }
   ],
   "source": [
    "file_name"
   ]
  },
  {
   "cell_type": "code",
   "execution_count": 9,
   "id": "3181108d",
   "metadata": {},
   "outputs": [],
   "source": [
    "f1 = open('s_times_final.pkl', 'rb')\n",
    "s_times = pickle.load(f1)"
   ]
  },
  {
   "cell_type": "code",
   "execution_count": 10,
   "id": "6c8484e3",
   "metadata": {},
   "outputs": [],
   "source": [
    "s_redo = {}\n",
    "for i in para_dict[:1000]:\n",
    "    R0 = i['R0']\n",
    "    r = i['r']\n",
    "    count = s_times['R0',R0,'r',r] \n",
    "    if count != 500:\n",
    "        s_redo['R0',R0,'r',r] = 500-count"
   ]
  },
  {
   "cell_type": "code",
   "execution_count": 28,
   "id": "d068d369",
   "metadata": {},
   "outputs": [],
   "source": [
    "file_complete = 0\n",
    "for i in para_dict[:1000]:\n",
    "    R0 = i['R0']\n",
    "    r = i['r']\n",
    "    count = s_times['R0',R0,'r',r] \n",
    "    if count == 500:\n",
    "        file_complete = file_complete + 1"
   ]
  },
  {
   "cell_type": "code",
   "execution_count": 29,
   "id": "9141523a",
   "metadata": {},
   "outputs": [
    {
     "data": {
      "text/plain": [
       "331"
      ]
     },
     "execution_count": 29,
     "metadata": {},
     "output_type": "execute_result"
    }
   ],
   "source": [
    "file_complete"
   ]
  },
  {
   "cell_type": "code",
   "execution_count": 17,
   "id": "ec406b7a",
   "metadata": {},
   "outputs": [
    {
     "data": {
      "text/plain": [
       "{'R0': 2.1000000000000005, 'r': 0.01}"
      ]
     },
     "execution_count": 17,
     "metadata": {},
     "output_type": "execute_result"
    }
   ],
   "source": [
    "para_dict[300]"
   ]
  },
  {
   "cell_type": "code",
   "execution_count": 18,
   "id": "bfcd21a0",
   "metadata": {},
   "outputs": [],
   "source": [
    "x = np.zeros((300,3142,60))"
   ]
  },
  {
   "cell_type": "code",
   "execution_count": 20,
   "id": "54033c9e",
   "metadata": {},
   "outputs": [],
   "source": [
    "x = x+1"
   ]
  },
  {
   "cell_type": "code",
   "execution_count": 22,
   "id": "07034643",
   "metadata": {},
   "outputs": [],
   "source": [
    "np.savetxt('howmuchspace.txt',x.ravel())"
   ]
  },
  {
   "cell_type": "code",
   "execution_count": 23,
   "id": "22ab42ae",
   "metadata": {},
   "outputs": [],
   "source": [
    "import sys"
   ]
  },
  {
   "cell_type": "code",
   "execution_count": 25,
   "id": "97fb1446",
   "metadata": {},
   "outputs": [
    {
     "data": {
      "text/plain": [
       "452.448136"
      ]
     },
     "execution_count": 25,
     "metadata": {},
     "output_type": "execute_result"
    }
   ],
   "source": [
    "sys.getsizeof(x)*0.000001"
   ]
  },
  {
   "cell_type": "code",
   "execution_count": 30,
   "id": "cf05054a",
   "metadata": {},
   "outputs": [],
   "source": [
    "import numpy as np\n",
    "import matplotlib.pyplot as plt\n",
    "\n",
    "\n",
    "x = R0s[:50]\n",
    "y = rs[:20]\n",
    "\n",
    "X, Y = np.meshgrid(x, y)\n",
    "\n",
    "Z = Numcounty_mean\n",
    "\n",
    "\n",
    "fig1, ax2 = plt.subplots()\n",
    "CS = ax2.contourf(X, Y, Z, 10, cmap=plt.cm.viridis)\n",
    "\n",
    "# Add colorbar\n",
    "cbh = plt.colorbar(contour, orientation='vertical', pad=0.05, ticks=np.log10([10, 50, 100]))\n",
    "cbh.ax.set_yticklabels([10, 50, 100])\n",
    "cbh.ax.tick_params(labelsize=12)\n",
    "\n",
    "# Turn off grid and set shading\n",
    "# plt.grid(False)\n",
    "# contour.set_edgecolor('face') # remove contour lines\n",
    "\n",
    "# Set title and axis labels\n",
    "plt.title('the number of counties per 100k population >10 at t=40', fontsize=16)\n",
    "plt.xlabel('R0', fontsize=12)\n",
    "plt.ylabel('r', fontsize=12)\n",
    "\n",
    "# Set axis limits and font size\n",
    "plt.xlim([x[0], x[-1]])\n",
    "plt.ylim([y[0], y[-1]])\n",
    "plt.tick_params(axis='both', which='major', labelsize=14)\n",
    "\n",
    "plt.show()"
   ]
  },
  {
   "cell_type": "code",
   "execution_count": 36,
   "id": "d42f034c",
   "metadata": {},
   "outputs": [],
   "source": [
    "origin = 'lower'\n",
    "\n",
    "delta = 0.025\n",
    "\n",
    "x = y = np.arange(-3.0, 3.01, delta)\n",
    "X, Y = np.meshgrid(x, y)\n",
    "Z1 = np.exp(-X**2 - Y**2)\n",
    "Z2 = np.exp(-(X - 1)**2 - (Y - 1)**2)\n",
    "Z = (Z1 - Z2) * 2"
   ]
  },
  {
   "cell_type": "code",
   "execution_count": 37,
   "id": "a099193c",
   "metadata": {},
   "outputs": [
    {
     "data": {
      "text/plain": [
       "(241, 241)"
      ]
     },
     "execution_count": 37,
     "metadata": {},
     "output_type": "execute_result"
    }
   ],
   "source": [
    "Z.shape"
   ]
  },
  {
   "cell_type": "code",
   "execution_count": 39,
   "id": "80fe2146",
   "metadata": {},
   "outputs": [
    {
     "data": {
      "text/plain": [
       "(241, 241)"
      ]
     },
     "execution_count": 39,
     "metadata": {},
     "output_type": "execute_result"
    }
   ],
   "source": [
    "X.shape"
   ]
  },
  {
   "cell_type": "code",
   "execution_count": null,
   "id": "c0b1dfb4",
   "metadata": {},
   "outputs": [],
   "source": []
  }
 ],
 "metadata": {
  "kernelspec": {
   "display_name": "Python 3 (ipykernel)",
   "language": "python",
   "name": "python3"
  },
  "language_info": {
   "codemirror_mode": {
    "name": "ipython",
    "version": 3
   },
   "file_extension": ".py",
   "mimetype": "text/x-python",
   "name": "python",
   "nbconvert_exporter": "python",
   "pygments_lexer": "ipython3",
   "version": "3.9.7"
  }
 },
 "nbformat": 4,
 "nbformat_minor": 5
}
