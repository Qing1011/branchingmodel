{
 "cells": [
  {
   "cell_type": "code",
   "execution_count": 27,
   "id": "2b994e82",
   "metadata": {},
   "outputs": [],
   "source": [
    "import numpy as np\n",
    "import matplotlib.pyplot as plt\n",
    "from scipy.io import loadmat, savemat\n",
    "import pandas as pd\n",
    "import scipy.special as SS\n",
    "import scipy.stats as SSA\n",
    "import copy\n",
    "import random\n",
    "import math\n",
    "# from numba import njit"
   ]
  },
  {
   "cell_type": "code",
   "execution_count": 2,
   "id": "47f36ebd",
   "metadata": {},
   "outputs": [],
   "source": [
    "WN = np.loadtxt('W_avg.csv') ### not symmetric!! travel out is added up tp zero, travel in is not add to zero\n",
    "Cave = np.loadtxt('Cave.csv')\n",
    "pop = np.loadtxt('pop_new.csv')"
   ]
  },
  {
   "cell_type": "code",
   "execution_count": 28,
   "id": "5364a736",
   "metadata": {},
   "outputs": [],
   "source": [
    "num_fips = len(pop)\n",
    "T = 60\n",
    "num_ens = 300\n",
    "Z = 3 # latent period\n",
    "Zb = 1 # scale parameter for Z\n",
    "D = 5 # infectious period\n",
    "Db = 1 # scale parameter for b\n",
    "alpha = 0.1 # reporting rate 10%\n",
    "# seeding\n",
    "l0 = 1859-1 # start with New York County NY in python -1, in matlab is 1859\n",
    "i0 = 100 ## the starting t=0, in matlab it is 1\n",
    "initials = (l0,i0)\n",
    "R0=2.5"
   ]
  },
  {
   "cell_type": "code",
   "execution_count": 29,
   "id": "94be2186",
   "metadata": {},
   "outputs": [],
   "source": [
    "def state_M(M,states):\n",
    "    N = M.shape[0]\n",
    "    state_outflow = (np.sum(M,axis=0)-np.diag(M))*states  ### sum up the prob and then sum the value\n",
    "    state_in_w = np.zeros_like(M)\n",
    "    for j in range(N):\n",
    "        state_in_w[:,j] = M[:,j]*(states[j])\n",
    "    np.fill_diagonal(state_in_w,0)\n",
    "    state_inflow = np.sum(state_in_w,axis=1)\n",
    "    return state_outflow, state_inflow"
   ]
  },
  {
   "cell_type": "code",
   "execution_count": 124,
   "id": "37b9cc9f",
   "metadata": {},
   "outputs": [
    {
     "data": {
      "text/plain": [
       "<matplotlib.legend.Legend at 0x16d5ff410>"
      ]
     },
     "execution_count": 124,
     "metadata": {},
     "output_type": "execute_result"
    },
    {
     "data": {
      "image/png": "[encoded data removed]",
      "text/plain": [
       "<Figure size 640x480 with 1 Axes>"
      ]
     },
     "metadata": {},
     "output_type": "display_data"
    }
   ],
   "source": [
    "plt.plot(results[4],label='no mobility')\n",
    "plt.plot(NewInf[1858],label='with M')\n",
    "plt.legend()"
   ]
  },
  {
   "cell_type": "code",
   "execution_count": 30,
   "id": "f04645ca",
   "metadata": {},
   "outputs": [],
   "source": [
    "def SEIR_M(params, pop, initials, M, T, dt=1):\n",
    "    \"\"\"\n",
    "    SEIR model with migration\n",
    "    :param params: list of parameters [R0, Z, D]\n",
    "    :param pop: population size of each location\n",
    "    :param initials: list of initial values [start_pos, E0]\n",
    "    :param M: migration matrix\n",
    "    :param T: number of time steps\n",
    "    :param dt: time step size\n",
    "    \"\"\"\n",
    "    # Parameters\n",
    "    R0 = params[0]\n",
    "    Z = params[1]\n",
    "    D = params[2]\n",
    "\n",
    "    start_pos, E0 = initials\n",
    "    N = len(pop)  # number of locations\n",
    "    # initialize\n",
    "    NewInf = np.zeros((N, T))\n",
    "    NewInf[start_pos, 0] = E0\n",
    "    x = np.zeros((N, 4))  # S, E, I for three populations\n",
    "    x[:,0] = pop\n",
    "    x[start_pos, 0] = pop[start_pos] - E0  # Susceptibles\n",
    "    x[start_pos, 1] = E0  # Exposed\n",
    "\n",
    "\n",
    "    for t in range(1, 60):  # Starting from 1 because we already initialized NewInf at time 0\n",
    "#         print(t)\n",
    "        for _ in range(int(1 / dt)): \n",
    "            S = x[:, 0]\n",
    "            E = x[:, 1]\n",
    "            I = x[:, 2]\n",
    "            R = x[:, 3]\n",
    "    #             x_new = x.copy()\n",
    "            ds = - R0 / D * S * I / pop \n",
    "    #             NewInf[:, t] += infection\n",
    "            NewInf[:,t] = - ds #x[:, 1]/Z #ds\n",
    "            de =  R0 / D * S * I / pop - E/Z\n",
    "            di =  E/Z - I/D\n",
    "            dr = I/D\n",
    "            S += ds*dt \n",
    "            E += de*dt \n",
    "            I += di*dt \n",
    "            R += dr*dt\n",
    "            ## then travel\n",
    "            s_moveout,s_movein = state_M(M,S)\n",
    "            e_moveout,e_movein = state_M(M,E)\n",
    "            i_moveout,i_movein = state_M(M,I)\n",
    "            r_moveout,r_movein = state_M(M,R)\n",
    "            S += (- s_moveout + s_movein)*dt \n",
    "            E += (- e_moveout + e_movein)*dt \n",
    "            I += (- i_moveout + i_movein)*dt \n",
    "            R += (- r_moveout + r_movein)*dt \n",
    "    return x, NewInf"
   ]
  },
  {
   "cell_type": "code",
   "execution_count": 7,
   "id": "1cfa4bb8",
   "metadata": {},
   "outputs": [],
   "source": [
    "%run ../codes/SEIR_M.py"
   ]
  },
  {
   "cell_type": "code",
   "execution_count": 26,
   "id": "3143c0d2",
   "metadata": {},
   "outputs": [
    {
     "ename": "KeyboardInterrupt",
     "evalue": "",
     "output_type": "error",
     "traceback": [
      "\u001b[0;31m---------------------------------------------------------------------------\u001b[0m",
      "\u001b[0;31mKeyboardInterrupt\u001b[0m                         Traceback (most recent call last)",
      "Cell \u001b[0;32mIn[26], line 2\u001b[0m\n\u001b[1;32m      1\u001b[0m \u001b[38;5;66;03m# S,E,I,NewInf = SEIR_M(params=[2.5,3,5], pop=pop, initials=[1859-1,100], M=WN, T=60, dt=1)\u001b[39;00m\n\u001b[0;32m----> 2\u001b[0m X, NewInf \u001b[38;5;241m=\u001b[39m SEIR_M(params\u001b[38;5;241m=\u001b[39m[\u001b[38;5;241m2.5\u001b[39m,\u001b[38;5;241m3\u001b[39m,\u001b[38;5;241m5\u001b[39m], pop\u001b[38;5;241m=\u001b[39mpop, initials\u001b[38;5;241m=\u001b[39m[\u001b[38;5;241m1859\u001b[39m\u001b[38;5;241m-\u001b[39m\u001b[38;5;241m1\u001b[39m,\u001b[38;5;241m100\u001b[39m], M\u001b[38;5;241m=\u001b[39mWN, T\u001b[38;5;241m=\u001b[39m\u001b[38;5;241m60\u001b[39m, dt\u001b[38;5;241m=\u001b[39m\u001b[38;5;241m0.01\u001b[39m)\n",
      "Cell \u001b[0;32mIn[25], line 48\u001b[0m, in \u001b[0;36mSEIR_M\u001b[0;34m(params, pop, initials, M, T, dt)\u001b[0m\n\u001b[1;32m     46\u001b[0m s_moveout,s_movein \u001b[38;5;241m=\u001b[39m state_M(M,S)\n\u001b[1;32m     47\u001b[0m e_moveout,e_movein \u001b[38;5;241m=\u001b[39m state_M(M,E)\n\u001b[0;32m---> 48\u001b[0m i_moveout,i_movein \u001b[38;5;241m=\u001b[39m state_M(M,I)\n\u001b[1;32m     49\u001b[0m r_moveout,r_movein \u001b[38;5;241m=\u001b[39m state_M(M,R)\n\u001b[1;32m     50\u001b[0m S \u001b[38;5;241m+\u001b[39m\u001b[38;5;241m=\u001b[39m (\u001b[38;5;241m-\u001b[39m s_moveout \u001b[38;5;241m+\u001b[39m s_movein)\u001b[38;5;241m*\u001b[39mdt \n",
      "Cell \u001b[0;32mIn[6], line 6\u001b[0m, in \u001b[0;36mstate_M\u001b[0;34m(M, states)\u001b[0m\n\u001b[1;32m      4\u001b[0m state_in_w \u001b[38;5;241m=\u001b[39m np\u001b[38;5;241m.\u001b[39mzeros_like(M)\n\u001b[1;32m      5\u001b[0m \u001b[38;5;28;01mfor\u001b[39;00m j \u001b[38;5;129;01min\u001b[39;00m \u001b[38;5;28mrange\u001b[39m(N):\n\u001b[0;32m----> 6\u001b[0m     state_in_w[:,j] \u001b[38;5;241m=\u001b[39m M[:,j]\u001b[38;5;241m*\u001b[39m(states[j])\n\u001b[1;32m      7\u001b[0m np\u001b[38;5;241m.\u001b[39mfill_diagonal(state_in_w,\u001b[38;5;241m0\u001b[39m)\n\u001b[1;32m      8\u001b[0m state_inflow \u001b[38;5;241m=\u001b[39m np\u001b[38;5;241m.\u001b[39msum(state_in_w,axis\u001b[38;5;241m=\u001b[39m\u001b[38;5;241m1\u001b[39m)\n",
      "\u001b[0;31mKeyboardInterrupt\u001b[0m: "
     ]
    }
   ],
   "source": [
    "# S,E,I,NewInf = SEIR_M(params=[2.5,3,5], pop=pop, initials=[1859-1,100], M=WN, T=60, dt=1)\n",
    "X, NewInf = SEIR_M(params=[2.5,3,5], pop=pop, initials=[1859-1,100], M=WN, T=60, dt=0.01)"
   ]
  },
  {
   "cell_type": "code",
   "execution_count": 23,
   "id": "9168639f",
   "metadata": {},
   "outputs": [],
   "source": [
    "np.savetxt('metapop_R025.csv',NewInf)"
   ]
  },
  {
   "cell_type": "code",
   "execution_count": 20,
   "id": "93078382",
   "metadata": {},
   "outputs": [],
   "source": [
    "infec_perpop = NewInf/pop[:,None]*100000"
   ]
  },
  {
   "cell_type": "code",
   "execution_count": 21,
   "id": "676b5c72",
   "metadata": {},
   "outputs": [
    {
     "data": {
      "text/plain": [
       "[<matplotlib.lines.Line2D at 0x14f6f70d0>]"
      ]
     },
     "execution_count": 21,
     "metadata": {},
     "output_type": "execute_result"
    },
    {
     "data": {
      "image/png": "[encoded data removed]",
      "text/plain": [
       "<Figure size 640x480 with 1 Axes>"
      ]
     },
     "metadata": {},
     "output_type": "display_data"
    }
   ],
   "source": [
    "plt.figure(figsize=)\n",
    "plt.plot(np.sum(infec_perpop>10,axis=0))"
   ]
  },
  {
   "cell_type": "code",
   "execution_count": 22,
   "id": "8424fb52",
   "metadata": {},
   "outputs": [
    {
     "data": {
      "text/plain": [
       "97"
      ]
     },
     "execution_count": 22,
     "metadata": {},
     "output_type": "execute_result"
    }
   ],
   "source": [
    "np.sum(infec_perpop>10,axis=0)[-1]"
   ]
  },
  {
   "cell_type": "code",
   "execution_count": 24,
   "id": "3eb76205",
   "metadata": {},
   "outputs": [
    {
     "data": {
      "text/plain": [
       "(3142, 3)"
      ]
     },
     "execution_count": 24,
     "metadata": {},
     "output_type": "execute_result"
    }
   ],
   "source": [
    "X.shape"
   ]
  },
  {
   "cell_type": "code",
   "execution_count": null,
   "id": "f8426ade",
   "metadata": {},
   "outputs": [],
   "source": []
  }
 ],
 "metadata": {
  "kernelspec": {
   "display_name": "gnn",
   "language": "python",
   "name": "gnn"
  },
  "language_info": {
   "codemirror_mode": {
    "name": "ipython",
    "version": 3
   },
   "file_extension": ".py",
   "mimetype": "text/x-python",
   "name": "python",
   "nbconvert_exporter": "python",
   "pygments_lexer": "ipython3",
   "version": "3.11.4"
  }
 },
 "nbformat": 4,
 "nbformat_minor": 5
}
