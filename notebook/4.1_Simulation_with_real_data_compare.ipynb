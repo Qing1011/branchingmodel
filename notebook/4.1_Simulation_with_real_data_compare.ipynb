{
 "cells": [
  {
   "cell_type": "code",
   "execution_count": 1,
   "id": "e8a0e2dd",
   "metadata": {},
   "outputs": [],
   "source": [
    "import torch\n",
    "from torch_geometric.data import Data\n",
    "import numpy as np\n",
    "import networkx as nx\n",
    "from torch_geometric.nn import MessagePassing\n",
    "from torch_geometric.utils import add_self_loops, degree\n",
    "import matplotlib.pyplot as plt\n",
    "import scipy.special as SS\n",
    "import pandas as pd\n",
    "import scipy.stats as SSA"
   ]
  },
  {
   "cell_type": "code",
   "execution_count": 285,
   "id": "2281b28b",
   "metadata": {},
   "outputs": [],
   "source": [
    "def superspreading_T_Loc_real(T, num_fips, initials, nbi_para, pop, paras, file_path, rand_seed):\n",
    "    # initialise\n",
    "    Z, Zb, D, Db = paras\n",
    "    l0, i0 = initials\n",
    "    r, p_ts = nbi_para\n",
    "    child_seeds = rand_seed.spawn(T)\n",
    "\n",
    "    NewInf = np.zeros((num_fips, T))\n",
    "    TotInf = np.zeros((num_fips, T))\n",
    "    \n",
    "    NewInf[l0, 0] = i0\n",
    "    TotInf[:, 0] = NewInf[:, 0]\n",
    "\n",
    "    for ti in range(T):\n",
    "        print('the current simulating time', ti)\n",
    "        p_ti = P_ts.iloc[ti].values[1:]\n",
    "        date_parts = P_ts.iloc[ti]['Date'].split('-')\n",
    "        y, m, d = date_parts\n",
    "#         WN = np.load(file_path+'M_{}{}_{}.csv')\n",
    "        ########################################\n",
    "        M_test = np.loadtxt(file_path+'M_{}{}_{}.csv'.format(y,m,d),delimiter=',')\n",
    "        M_pop = M_test/pop_sorted[None,:]\n",
    "        #if there is no one go out from one site\n",
    "        temp = np.sum(M_pop,axis=0)\n",
    "        if np.sum(temp == 0) == 0:\n",
    "            M_pop_norm = M_pop/temp[None,:]\n",
    "        else:\n",
    "            print('there is no one go out from one site')\n",
    "            temp[temp == 0]=1\n",
    "            M_pop_norm = M_pop/temp[None,:]\n",
    "            M_pop_norm[:,temp == 0] = 0\n",
    "        WN_small = M_pop_norm[:100,:100]\n",
    "        WN = WN_small/np.sum(WN_small,axis=0)[None,:]\n",
    "        ########################################\n",
    "        infectors = np.int64(NewInf[:, ti])\n",
    "        pop_immu = 1-TotInf[:, ti]/pop[:]\n",
    "        pop_immu[pop_immu < 0] = 0\n",
    "        \n",
    "        rng = np.random.default_rng(child_seeds[ti])\n",
    "        totoal_new_infection_loc = []\n",
    "        total_new = 0\n",
    "        for i in range(num_fips):\n",
    "            infectors_loc_i = infectors[i]\n",
    "            xx = np.arange(0, 100, 1)  # define the range of x values the\n",
    "            p = p_ti[i]\n",
    "            pmf = SSA.nbinom.pmf(xx, r, p)\n",
    "            weights_n = pmf/np.sum(pmf)\n",
    "            ttt = np.random.choice(len(weights_n), size=infectors_loc_i, p=weights_n) #np.array([2]*infectors_loc_i) # #rng\n",
    "            new_array = np.round(ttt*pop_immu[i])\n",
    "            if len(new_array)>0:\n",
    "                print(ttt)\n",
    "            new_s = np.int64(np.sum(new_array))\n",
    "            \n",
    "            totoal_new_infection_loc.extend([i]*new_s)\n",
    "            total_new = total_new + new_s\n",
    "        # to be assigned, every new infections for the infector\n",
    "#         total_new = np.round(tt*immu_all)\n",
    "#         totoal_new_infection_loc = get_new_infections_position(\n",
    "#             infectors, total_new, num_fips)\n",
    "        z_num = np.int64(total_new)\n",
    "        \n",
    "        NF = np.zeros((2, z_num), dtype=np.int64)\n",
    "        # for the time distribution\n",
    "        latency_p = SSA.gamma.rvs(a=Z, scale=Zb, size=z_num, random_state=rng)\n",
    "        infectious_p = SSA.gamma.rvs(\n",
    "            a=D, scale=Db, size=z_num, random_state=rng)\n",
    "        v = rng.random(z_num)\n",
    "        delay_days = latency_p+v*infectious_p #latency_p+v*infectious_p  # 3+5*0.5\n",
    "\n",
    "        NF[0, :] = np.ceil(delay_days+ti)  # make it idx int\n",
    "        # for the location distribution\n",
    "        NF[1, :] = totoal_new_infection_loc\n",
    "        df = pd.DataFrame(NF.T, columns=['time', 'o_l'])\n",
    "        l_list = np.arange(num_fips)\n",
    "        df['d_l'] = df['o_l'].apply(lambda x: rng.choice(l_list, size=1, p=WN[:, x])[0]) #np.random\n",
    "        df = df[df['time'] <= (T-1)]\n",
    "        NF_ii = np.array(df)\n",
    "        for (t, o, d) in NF_ii:\n",
    "            NewInf[d, t] = NewInf[d, t]+1\n",
    "        TotInf = np.cumsum(NewInf, axis=1)\n",
    "\n",
    "    return NewInf, TotInf"
   ]
  },
  {
   "cell_type": "code",
   "execution_count": 292,
   "id": "3a9b9acc",
   "metadata": {},
   "outputs": [],
   "source": [
    "T = 10\n",
    "R0_ts = pd.read_csv('df_Rmean_full.csv',index_col='Date')\n",
    "R0_ts.fillna(0, inplace=True)\n",
    "R0_ts_test = R0_ts.iloc[81:81+T]\n",
    "\n",
    "pop_sorted = np.loadtxt('pop_sorted.csv')\n",
    "pop_test = pop_sorted[:100]\n",
    "N = pop_test.shape[0]"
   ]
  },
  {
   "cell_type": "code",
   "execution_count": 296,
   "id": "4c386aa5",
   "metadata": {},
   "outputs": [],
   "source": [
    "R_estimate = pd.read_csv('estimate_R0_beta.csv',index_col='Date')"
   ]
  },
  {
   "cell_type": "code",
   "execution_count": 307,
   "id": "17e6f607",
   "metadata": {},
   "outputs": [],
   "source": [
    "R0_975 = pd.read_csv('df_R_975_full.csv',index_col='Date')"
   ]
  },
  {
   "cell_type": "code",
   "execution_count": 299,
   "id": "7d556bbc",
   "metadata": {},
   "outputs": [],
   "source": [
    "ny_1 = R_estimate.iloc[:,1824]"
   ]
  },
  {
   "cell_type": "code",
   "execution_count": 308,
   "id": "47d736e2",
   "metadata": {},
   "outputs": [],
   "source": [
    "ny_2 = R0_ts.iloc[:,1824]\n",
    "ny_std = R0_975.iloc[:,1824]"
   ]
  },
  {
   "cell_type": "code",
   "execution_count": 316,
   "id": "46d40471",
   "metadata": {},
   "outputs": [
    {
     "data": {
      "text/plain": [
       "<matplotlib.legend.Legend at 0x2f7965090>"
      ]
     },
     "execution_count": 316,
     "metadata": {},
     "output_type": "execute_result"
    },
    {
     "data": {
      "image/png": "[encoded data removed]",
      "text/plain": [
       "<Figure size 1200x400 with 1 Axes>"
      ]
     },
     "metadata": {},
     "output_type": "display_data"
    }
   ],
   "source": [
    "fig, ax = plt.subplots(1,1, figsize=(12, 4))\n",
    "ny_2[29:].plot(ax=ax,label='epy pacakge') \n",
    "ny_1.plot(ax=ax, label='sen')\n",
    "ax.fill_between(ny_1.index, ny_2[29:]*2 - ny_std[29:], ny_std[29:],color='blue',alpha = 0.2)\n",
    "plt.legend()"
   ]
  },
  {
   "cell_type": "code",
   "execution_count": 196,
   "id": "52a79335",
   "metadata": {},
   "outputs": [],
   "source": [
    "file_path = '/Users/qingyao/Documents/branching_data/real_data/' ##M_202003_10.csv"
   ]
  },
  {
   "cell_type": "code",
   "execution_count": null,
   "id": "c015bec1",
   "metadata": {},
   "outputs": [],
   "source": [
    "Z = 3  # latent period\n",
    "Zb = 1  # scale parameter for Z\n",
    "D = 5  # infectious period\n",
    "Db = 1  # scale parameter for b"
   ]
  },
  {
   "cell_type": "code",
   "execution_count": 282,
   "id": "dbfc226f",
   "metadata": {},
   "outputs": [],
   "source": [
    "P_ts = pd.DataFrame()\n",
    "P_ts['Date'] = R0_ts_test['Date']\n",
    "P_col = []\n",
    "for i in range(N):\n",
    "#     R_ts[str(i)+'_R_mean'] = R\n",
    "    fips = R0_ts_test.columns[1+i]\n",
    "    P_col.append(fips+'_p_mean')"
   ]
  },
  {
   "cell_type": "code",
   "execution_count": 283,
   "id": "63f85071",
   "metadata": {},
   "outputs": [],
   "source": [
    "r = 1\n",
    "df_to_add = R0_ts_test[R0_ts_test.columns[1:].values].apply(lambda x: r/(x+r))\n",
    "P_ts = pd.concat([P_ts, df_to_add], axis=1)"
   ]
  },
  {
   "cell_type": "code",
   "execution_count": 288,
   "id": "c37449a5",
   "metadata": {},
   "outputs": [
    {
     "name": "stdout",
     "output_type": "stream",
     "text": [
      "the current simulating time 0\n",
      "[0 1 0 0 0 0 0 0 0 1 3 0 0 3 1 0 0 0 0 3 0 2 0 0 0 0 0 0 2 1 1 0 1 0 2 0 0\n",
      " 0 1 1 1 0 0 0 0 0 0 0 1 0 2 0 2 0 0 0 0 1 2 0 1 0 1 0 0 4 1 1 3 1 2 0 0 0\n",
      " 0 1 0 0 0 0 2 0 2 0 0 0 2 0 0 1 0 0 1 1 2 0 0 1 0 4]\n",
      "the current simulating time 1\n",
      "[0]\n",
      "[2]\n",
      "the current simulating time 2\n",
      "[0]\n",
      "[3 1 0]\n",
      "[0]\n",
      "the current simulating time 3\n",
      "[2]\n",
      "[1]\n",
      "[0 1]\n",
      "the current simulating time 4\n",
      "[0 1 0 0 0]\n",
      "[0 0 0 0 0 5]\n",
      "the current simulating time 5\n",
      "[0]\n",
      "[0]\n",
      "[1 3 0 0]\n",
      "[0 0 0 0 0 2 0]\n",
      "[0]\n",
      "the current simulating time 6\n",
      "[0 1 0]\n",
      "[2 0 0 0]\n",
      "[0]\n",
      "the current simulating time 7\n",
      "[0]\n",
      "[0 0 2 0 2 0 0 2]\n",
      "the current simulating time 8\n",
      "[0 1 0]\n",
      "[1 0 3 0 0 0 0 0 0]\n",
      "the current simulating time 9\n",
      "[1]\n",
      "[0 0 2]\n"
     ]
    }
   ],
   "source": [
    "ss = np.random.SeedSequence(100)\n",
    "E_NewInf_i, E_TotInf_i = superspreading_T_Loc_real(10, N, (33, 100), (r, P_ts), pop_test, (Z, Zb, D, Db), file_path, ss)\n",
    "# E_NewInf_i"
   ]
  }
 ],
 "metadata": {
  "kernelspec": {
   "display_name": "gnn",
   "language": "python",
   "name": "gnn"
  },
  "language_info": {
   "codemirror_mode": {
    "name": "ipython",
    "version": 3
   },
   "file_extension": ".py",
   "mimetype": "text/x-python",
   "name": "python",
   "nbconvert_exporter": "python",
   "pygments_lexer": "ipython3",
   "version": "3.11.4"
  }
 },
 "nbformat": 4,
 "nbformat_minor": 5
}
