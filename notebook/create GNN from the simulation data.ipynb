{
 "cells": [
  {
   "cell_type": "code",
   "execution_count": 60,
   "id": "ee569efd",
   "metadata": {},
   "outputs": [],
   "source": [
    "import torch\n",
    "from torch.nn import Linear\n",
    "from torch_geometric.nn import GCNConv, global_mean_pool\n",
    "from torch_geometric.data import Data, DataLoader\n",
    "import torch.nn.functional as F\n",
    "from torch_geometric.utils.convert import from_scipy_sparse_matrix\n",
    "from torch_geometric.utils.convert import from_networkx\n",
    "import random\n",
    "import numpy as np\n",
    "import matplotlib.pyplot as plt\n",
    "from scipy.io import loadmat, savemat\n",
    "import pandas as pd\n",
    "import scipy.special as SS\n",
    "import scipy.stats as SSA\n",
    "import copy\n",
    "import math\n",
    "from sklearn.model_selection import ParameterGrid\n",
    "import os\n",
    "import numpy.linalg as LA\n",
    "import gzip\n",
    "\n",
    "from scipy import sparse\n",
    "\n",
    "# load pickle module\n",
    "import pickle\n",
    "import networkx as nx"
   ]
  },
  {
   "cell_type": "code",
   "execution_count": 4,
   "id": "8a5130f1",
   "metadata": {},
   "outputs": [],
   "source": [
    "R0 = 2.1\n",
    "r = 0.23\n",
    "save_dir = '../../../../../../Volumes/My Passport/branching/branching_results500/'\n",
    "file_name1 = save_dir + \"NewInf_R0-{}_r-{}.npy.gz\" .format(np.round(R0,2),np.round(r,2))\n",
    "f1 = gzip.GzipFile(file_name1, \"r\")\n",
    "x =  np.load(f1)"
   ]
  },
  {
   "cell_type": "code",
   "execution_count": 5,
   "id": "70db651d",
   "metadata": {},
   "outputs": [
    {
     "data": {
      "text/plain": [
       "(500, 3142, 60)"
      ]
     },
     "execution_count": 5,
     "metadata": {},
     "output_type": "execute_result"
    }
   ],
   "source": [
    "x.shape"
   ]
  },
  {
   "cell_type": "code",
   "execution_count": null,
   "id": "08755309",
   "metadata": {},
   "outputs": [],
   "source": [
    "WN = np.loadtxt('W_avg.csv') ### numpy arrary"
   ]
  },
  {
   "cell_type": "code",
   "execution_count": 102,
   "id": "dc2ade4e",
   "metadata": {},
   "outputs": [],
   "source": [
    "# Number of nodes (rows of the matrix)\n",
    "num_nodes = 3142\n",
    "\n",
    "# Number of features per node (columns of the matrix)\n",
    "num_features = 60\n",
    "\n",
    "# Number of classes\n",
    "num_classes = 5\n",
    "\n",
    "# Create a random matrix"
   ]
  },
  {
   "cell_type": "code",
   "execution_count": 12,
   "id": "69b21176",
   "metadata": {},
   "outputs": [],
   "source": [
    "class MatrixClassifier(torch.nn.Module):\n",
    "    def __init__(self, num_features, num_classes):\n",
    "        super(MatrixClassifier, self).__init__()\n",
    "        self.conv1 = GCNConv(num_features, 16)\n",
    "        self.conv2 = GCNConv(16, num_features)\n",
    "        self.classifier = Linear(num_features, num_classes)\n",
    "\n",
    "    def forward(self, data):\n",
    "        x, edge_index = data.x, data.edge_index\n",
    "\n",
    "        # Use GCN layers to update node features\n",
    "        x = self.conv1(x, edge_index)\n",
    "        x = self.conv2(x, edge_index)\n",
    "\n",
    "        # Use global mean pooling to get a representation of the whole graph\n",
    "        x = global_mean_pool(x, data.batch)\n",
    "\n",
    "        # Use a linear layer to classify the graph\n",
    "        x = self.classifier(x)\n",
    "\n",
    "        return F.log_softmax(x, dim=1)"
   ]
  },
  {
   "cell_type": "code",
   "execution_count": 112,
   "id": "f1bd1ab5",
   "metadata": {},
   "outputs": [
    {
     "name": "stdout",
     "output_type": "stream",
     "text": [
      "Epoch: 1, Loss: 2.111837387084961\n",
      "Epoch: 2, Loss: 0.010334550403058529\n",
      "Epoch: 3, Loss: 0.00023195437097456306\n",
      "Epoch: 4, Loss: 1.4305012882687151e-05\n",
      "Epoch: 5, Loss: 1.5497195136049413e-06\n",
      "Epoch: 6, Loss: 2.3841855067985307e-07\n",
      "Epoch: 7, Loss: 0.0\n",
      "Epoch: 8, Loss: 0.0\n",
      "Epoch: 9, Loss: 0.0\n",
      "Epoch: 10, Loss: 0.0\n",
      "Epoch: 11, Loss: 0.0\n",
      "Epoch: 12, Loss: 0.0\n",
      "Epoch: 13, Loss: 0.0\n",
      "Epoch: 14, Loss: 0.0\n",
      "Epoch: 15, Loss: 0.0\n",
      "Epoch: 16, Loss: 0.0\n",
      "Epoch: 17, Loss: 0.0\n",
      "Epoch: 18, Loss: 0.0\n",
      "Epoch: 19, Loss: 0.0\n",
      "Epoch: 20, Loss: 0.0\n",
      "Epoch: 21, Loss: 0.0\n",
      "Epoch: 22, Loss: 0.0\n",
      "Epoch: 23, Loss: 0.0\n",
      "Epoch: 24, Loss: 0.0\n",
      "Epoch: 25, Loss: 0.0\n",
      "Epoch: 26, Loss: 0.0\n",
      "Epoch: 27, Loss: 0.0\n",
      "Epoch: 28, Loss: 0.0\n",
      "Epoch: 29, Loss: 0.0\n",
      "Epoch: 30, Loss: 0.0\n",
      "Epoch: 31, Loss: 0.0\n",
      "Epoch: 32, Loss: 0.0\n",
      "Epoch: 33, Loss: 0.0\n",
      "Epoch: 34, Loss: 0.0\n",
      "Epoch: 35, Loss: 0.0\n",
      "Epoch: 36, Loss: 0.0\n",
      "Epoch: 37, Loss: 0.0\n",
      "Epoch: 38, Loss: 0.0\n",
      "Epoch: 39, Loss: 0.0\n",
      "Epoch: 40, Loss: 0.0\n",
      "Epoch: 41, Loss: 0.0\n",
      "Epoch: 42, Loss: 0.0\n",
      "Epoch: 43, Loss: 0.0\n",
      "Epoch: 44, Loss: 0.0\n",
      "Epoch: 45, Loss: 0.0\n",
      "Epoch: 46, Loss: 0.0\n",
      "Epoch: 47, Loss: 0.0\n",
      "Epoch: 48, Loss: 0.0\n",
      "Epoch: 49, Loss: 0.0\n",
      "Epoch: 50, Loss: 0.0\n",
      "Epoch: 51, Loss: 0.0\n",
      "Epoch: 52, Loss: 0.0\n",
      "Epoch: 53, Loss: 0.0\n",
      "Epoch: 54, Loss: 0.0\n",
      "Epoch: 55, Loss: 0.0\n",
      "Epoch: 56, Loss: 0.0\n",
      "Epoch: 57, Loss: 0.0\n",
      "Epoch: 58, Loss: 0.0\n",
      "Epoch: 59, Loss: 0.0\n",
      "Epoch: 60, Loss: 0.0\n",
      "Epoch: 61, Loss: 0.0\n",
      "Epoch: 62, Loss: 0.0\n",
      "Epoch: 63, Loss: 0.0\n",
      "Epoch: 64, Loss: 0.0\n",
      "Epoch: 65, Loss: 0.0\n",
      "Epoch: 66, Loss: 0.0\n",
      "Epoch: 67, Loss: 0.0\n",
      "Epoch: 68, Loss: 0.0\n",
      "Epoch: 69, Loss: 0.0\n",
      "Epoch: 70, Loss: 0.0\n",
      "Epoch: 71, Loss: 0.0\n",
      "Epoch: 72, Loss: 0.0\n",
      "Epoch: 73, Loss: 0.0\n",
      "Epoch: 74, Loss: 0.0\n",
      "Epoch: 75, Loss: 0.0\n",
      "Epoch: 76, Loss: 0.0\n",
      "Epoch: 77, Loss: 0.0\n",
      "Epoch: 78, Loss: 0.0\n",
      "Epoch: 79, Loss: 0.0\n",
      "Epoch: 80, Loss: 0.0\n",
      "Epoch: 81, Loss: 0.0\n",
      "Epoch: 82, Loss: 0.0\n",
      "Epoch: 83, Loss: 0.0\n",
      "Epoch: 84, Loss: 0.0\n",
      "Epoch: 85, Loss: 0.0\n",
      "Epoch: 86, Loss: 0.0\n",
      "Epoch: 87, Loss: 0.0\n",
      "Epoch: 88, Loss: 0.0\n",
      "Epoch: 89, Loss: 0.0\n",
      "Epoch: 90, Loss: 0.0\n",
      "Epoch: 91, Loss: 0.0\n",
      "Epoch: 92, Loss: 0.0\n",
      "Epoch: 93, Loss: 0.0\n",
      "Epoch: 94, Loss: 0.0\n",
      "Epoch: 95, Loss: 0.0\n",
      "Epoch: 96, Loss: 0.0\n",
      "Epoch: 97, Loss: 0.0\n",
      "Epoch: 98, Loss: 0.0\n",
      "Epoch: 99, Loss: 0.0\n",
      "Epoch: 100, Loss: 0.0\n"
     ]
    }
   ],
   "source": [
    "# Create a graph from mobility matrix\n",
    "GM = nx.from_numpy_array(WN)\n",
    "edges = np.array(GM.edges()).transpose()\n",
    "edge_index = torch.tensor(edges,dtype = torch.int64)\n",
    "\n",
    "## time series as the features\n",
    "matrix = torch.from_numpy(x[0])\n",
    "## r as the categlory/class\n",
    "y = torch.tensor([1])\n",
    "\n",
    "data = Data(x=matrix, edge_index=edge_index, y=y)\n",
    "\n",
    "data.x = data.x.float()\n",
    "data.y = data.y.long()\n",
    "\n",
    "# Create a model and an optimizer\n",
    "model = MatrixClassifier(num_features, num_classes)\n",
    "optimizer = torch.optim.Adam(model.parameters(), lr=0.01)\n",
    "for epoch in range(100):\n",
    "    optimizer.zero_grad()\n",
    "    out = model(data)\n",
    "    loss = F.nll_loss(out, data.y)\n",
    "    loss.backward()\n",
    "    optimizer.step()\n",
    "    print(f\"Epoch: {epoch+1}, Loss: {loss.item()}\")"
   ]
  },
  {
   "cell_type": "code",
   "execution_count": 111,
   "id": "ee5642b4",
   "metadata": {},
   "outputs": [
    {
     "ename": "TypeError",
     "evalue": "eval() takes 1 positional argument but 2 were given",
     "output_type": "error",
     "traceback": [
      "\u001b[0;31m---------------------------------------------------------------------------\u001b[0m",
      "\u001b[0;31mTypeError\u001b[0m                                 Traceback (most recent call last)",
      "\u001b[0;32m/var/folders/vx/g_l159t12yb63094n730n4pm0000gn/T/ipykernel_33028/796183210.py\u001b[0m in \u001b[0;36m<module>\u001b[0;34m\u001b[0m\n\u001b[0;32m----> 1\u001b[0;31m \u001b[0mmodel\u001b[0m\u001b[0;34m.\u001b[0m\u001b[0meval\u001b[0m\u001b[0;34m(\u001b[0m\u001b[0mx\u001b[0m\u001b[0;34m[\u001b[0m\u001b[0;36m1\u001b[0m\u001b[0;34m]\u001b[0m\u001b[0;34m)\u001b[0m\u001b[0;34m\u001b[0m\u001b[0;34m\u001b[0m\u001b[0m\n\u001b[0m",
      "\u001b[0;31mTypeError\u001b[0m: eval() takes 1 positional argument but 2 were given"
     ]
    }
   ],
   "source": [
    "model.eval(x[1])"
   ]
  },
  {
   "cell_type": "code",
   "execution_count": null,
   "id": "90ec33fb",
   "metadata": {},
   "outputs": [],
   "source": []
  }
 ],
 "metadata": {
  "kernelspec": {
   "display_name": "Python 3 (ipykernel)",
   "language": "python",
   "name": "python3"
  },
  "language_info": {
   "codemirror_mode": {
    "name": "ipython",
    "version": 3
   },
   "file_extension": ".py",
   "mimetype": "text/x-python",
   "name": "python",
   "nbconvert_exporter": "python",
   "pygments_lexer": "ipython3",
   "version": "3.9.7"
  }
 },
 "nbformat": 4,
 "nbformat_minor": 5
}
