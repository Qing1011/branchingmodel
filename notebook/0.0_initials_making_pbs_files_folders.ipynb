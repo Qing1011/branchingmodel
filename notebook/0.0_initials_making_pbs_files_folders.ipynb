{
 "cells": [
  {
   "cell_type": "code",
   "execution_count": 1,
   "id": "da2d92ca",
   "metadata": {},
   "outputs": [],
   "source": [
    "import numpy as np\n",
    "from sklearn.model_selection import ParameterGrid"
   ]
  },
  {
   "cell_type": "code",
   "execution_count": 1,
   "id": "e83a5a74",
   "metadata": {},
   "outputs": [],
   "source": [
    "# Generate PBS script\n",
    "def generate_pbs_script(param, filename):\n",
    "    script = f\"\"\"\\\n",
    "#PBS -l walltime=70:00:00\n",
    "#PBS -l select=1:ncpus=1:mem=1gb\n",
    "#PBS -J 1-300\n",
    "\n",
    "module load anaconda3/personal\n",
    "source activate motifenv\n",
    "\n",
    "cd $HOME/branching_superspreading/gnn_version/\n",
    "python3 branching_cluster_ic_v3.py {param} $PBS_ARRAY_INDEX –o output.txt\n",
    "\"\"\"\n",
    "    with open(filename, 'w') as f:\n",
    "        f.write(script)\n",
    "\n",
    "# Define parameters\n",
    "parameters = range(100, 90)  # Replace this with the range of parameters you want\n",
    "\n",
    "# Generate scripts\n",
    "for param in [92,107]:\n",
    "    filename = f\"branching_{param}.pbs\"  # Name the file related to the parameter\n",
    "    generate_pbs_script(param, filename)"
   ]
  },
  {
   "cell_type": "code",
   "execution_count": 6,
   "id": "c2f3dd96",
   "metadata": {},
   "outputs": [],
   "source": [
    "## note previously i use python_cutoff"
   ]
  },
  {
   "cell_type": "code",
   "execution_count": 22,
   "id": "6a26c1a4",
   "metadata": {},
   "outputs": [],
   "source": [
    "def generate_pbs_script(param, filename):\n",
    "    script = f\"\"\"\\\n",
    "#PBS -l walltime=70:00:00\n",
    "#PBS -l select=1:ncpus=1:mem=1gb\n",
    "#PBS -J 1-300\n",
    "\n",
    "module load anaconda3/personal\n",
    "source activate motifenv\n",
    "\n",
    "cd $HOME/branching_superspreading/python_no_cutoff/\n",
    "python3 branching_cluster_ic_v2.py {param} $PBS_ARRAY_INDEX –o output.txt\n",
    "\"\"\"\n",
    "    with open(filename, 'w') as f:\n",
    "        f.write(script)\n",
    "\n",
    "\n",
    "# Generate scripts\n",
    "for param in para_list:\n",
    "    filename = f\"branching_{param}.pbs\"  # Name the file related to the parameter\n",
    "    generate_pbs_script(param, filename)"
   ]
  },
  {
   "cell_type": "code",
   "execution_count": 44,
   "id": "f258cccb",
   "metadata": {},
   "outputs": [],
   "source": [
    "# rs_selected = [0,1,2,3,4,5,6,25,49] ### select some r values\n",
    "# rs = rs[rs_selected]\n",
    "R0s = np.arange(1.5, 6.5, 0.1)\n",
    "rs = np.array([20, 10., 2, 1, 0.5, 0.2, 0.1, 0.05, 0.025])\n",
    "# R0s = R0s[7:] ### finish the rest of R0 values\n",
    "param_grid = {'R0': R0s, 'r' : rs}\n",
    "grid = ParameterGrid(param_grid)\n",
    "para_dict = list(grid)"
   ]
  },
  {
   "cell_type": "code",
   "execution_count": 19,
   "id": "680c3388",
   "metadata": {},
   "outputs": [],
   "source": [
    "np.save('para_dict',para_dict)"
   ]
  },
  {
   "cell_type": "code",
   "execution_count": 58,
   "id": "80e777d1",
   "metadata": {},
   "outputs": [
    {
     "data": {
      "text/plain": [
       "414"
      ]
     },
     "execution_count": 58,
     "metadata": {},
     "output_type": "execute_result"
    }
   ],
   "source": [
    "387+27"
   ]
  },
  {
   "cell_type": "code",
   "execution_count": 19,
   "id": "91bb2fd9",
   "metadata": {},
   "outputs": [],
   "source": [
    "para_list = []\n",
    "for h in range(18):\n",
    "    para_list.extend(list(range(9*h+6,9*h+7)))"
   ]
  },
  {
   "cell_type": "code",
   "execution_count": 21,
   "id": "d2379747",
   "metadata": {},
   "outputs": [
    {
     "name": "stdout",
     "output_type": "stream",
     "text": [
      "6 1.5 0.1\n",
      "15 1.6 0.1\n",
      "24 1.7000000000000002 0.1\n",
      "33 1.8000000000000003 0.1\n",
      "42 1.9000000000000004 0.1\n",
      "51 2.0000000000000004 0.1\n",
      "60 2.1000000000000005 0.1\n",
      "69 2.2000000000000006 0.1\n",
      "78 2.3000000000000007 0.1\n",
      "87 2.400000000000001 0.1\n",
      "96 2.500000000000001 0.1\n",
      "105 2.600000000000001 0.1\n",
      "114 2.700000000000001 0.1\n",
      "123 2.800000000000001 0.1\n",
      "132 2.9000000000000012 0.1\n",
      "141 3.0000000000000013 0.1\n",
      "150 3.1000000000000014 0.1\n",
      "159 3.2000000000000015 0.1\n"
     ]
    }
   ],
   "source": [
    "para_dict = np.load('para_dict.npy',allow_pickle=True)\n",
    "    ## set parameters\n",
    "for i in para_list:\n",
    "    para_i = para_dict[i]\n",
    "    R0 = para_i['R0']\n",
    "    r = para_i['r']\n",
    "    print(i, R0, r)"
   ]
  },
  {
   "cell_type": "code",
   "execution_count": 10,
   "id": "33199ee3",
   "metadata": {},
   "outputs": [
    {
     "name": "stdout",
     "output_type": "stream",
     "text": [
      "450\n"
     ]
    }
   ],
   "source": [
    "print (len(para_dict))"
   ]
  },
  {
   "cell_type": "code",
   "execution_count": null,
   "id": "57acbf08",
   "metadata": {},
   "outputs": [],
   "source": [
    "for i in {71..80}\n",
    "do\n",
    "   qsub branching_${i}.pbs\n",
    "done"
   ]
  }
 ],
 "metadata": {
  "kernelspec": {
   "display_name": "geo",
   "language": "python",
   "name": "geo"
  },
  "language_info": {
   "codemirror_mode": {
    "name": "ipython",
    "version": 3
   },
   "file_extension": ".py",
   "mimetype": "text/x-python",
   "name": "python",
   "nbconvert_exporter": "python",
   "pygments_lexer": "ipython3",
   "version": "3.11.3"
  }
 },
 "nbformat": 4,
 "nbformat_minor": 5
}
