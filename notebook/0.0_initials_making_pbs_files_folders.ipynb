{
 "cells": [
  {
   "cell_type": "code",
   "execution_count": 1,
   "id": "da2d92ca",
   "metadata": {},
   "outputs": [],
   "source": [
    "import numpy as np\n",
    "from sklearn.model_selection import ParameterGrid\n",
    "import matplotlib.pyplot as plt"
   ]
  },
  {
   "cell_type": "code",
   "execution_count": 1,
   "id": "e83a5a74",
   "metadata": {},
   "outputs": [],
   "source": [
    "# Generate PBS script\n",
    "def generate_pbs_script(param, filename):\n",
    "    script = f\"\"\"\\\n",
    "#PBS -l walltime=70:00:00\n",
    "#PBS -l select=1:ncpus=1:mem=2gb\n",
    "#PBS -J 1-300\n",
    "\n",
    "module load anaconda3/personal\n",
    "source activate motifenv\n",
    "\n",
    "cd $HOME/branching_superspreading/gnn_version/\n",
    "python3 branching_cluster_ic_v3.py {param} $PBS_ARRAY_INDEX –o output.txt\n",
    "\"\"\"\n",
    "    with open(filename, 'w') as f:\n",
    "        f.write(script)\n",
    "\n",
    "# Define parameters\n",
    "parameters = range(100, 90)  # Replace this with the range of parameters you want\n",
    "\n",
    "# Generate scripts\n",
    "for param in [0]:\n",
    "    filename = f\"branching_{param}.pbs\"  # Name the file related to the parameter\n",
    "    generate_pbs_script(param, filename)"
   ]
  },
  {
   "cell_type": "code",
   "execution_count": 6,
   "id": "c2f3dd96",
   "metadata": {},
   "outputs": [],
   "source": [
    "## note previously i use python_cutoff"
   ]
  },
  {
   "cell_type": "code",
   "execution_count": 2,
   "id": "6a26c1a4",
   "metadata": {},
   "outputs": [],
   "source": [
    "def generate_pbs_script(param, filename):\n",
    "    script = f\"\"\"\\\n",
    "#PBS -l walltime=70:00:00\n",
    "#PBS -l select=1:ncpus=1:mem=8gb\n",
    "#PBS -J 1-300\n",
    "\n",
    "module load anaconda3/personal\n",
    "source activate motifenv\n",
    "\n",
    "cd $HOME/branching_superspreading/python_no_cutoff/\n",
    "python3 branching_cluster_ic_v2.py {param} $PBS_ARRAY_INDEX –o output.txt\n",
    "\"\"\"\n",
    "    with open(filename, 'w') as f:\n",
    "        f.write(script)\n",
    "\n",
    "\n",
    "# Generate scripts \n",
    "for param in range(4):\n",
    "    filename = f\"branching_{param}.pbs\"  # Name the file related to the parameter\n",
    "    generate_pbs_script(param, filename)"
   ]
  },
  {
   "cell_type": "code",
   "execution_count": 2,
   "id": "d97d0f6d",
   "metadata": {},
   "outputs": [],
   "source": [
    "# rs = np.array([20, 10., 2, 1, 0.5, 0.2, 0.1, 0.05, 0.025])"
   ]
  },
  {
   "cell_type": "code",
   "execution_count": 14,
   "id": "8671a69a",
   "metadata": {},
   "outputs": [],
   "source": [
    "rs = np.array([20, 10, 2.0, 1.0, 0.5, 0.2, 0.1, 0.05, 0.025, 5.   ,  2.5  , 13.333,  3.333,  1.333,  0.667,  0.286,  0.133,\n",
    "        0.067,  0.033,0.37,7.4])\n",
    "\n",
    "# rs = np.array([20, 10, 2.0, 1.0, 0.5, 0.2, 0.1, 0.05, 0.025, 5.   ,  2.5  , 13.333,  3.333,  1.333,  0.667,  0.286,  0.133,\n",
    "#         0.067,  0.033, 0.37,7.4])"
   ]
  },
  {
   "cell_type": "code",
   "execution_count": 15,
   "id": "e092ded6",
   "metadata": {},
   "outputs": [
    {
     "data": {
      "text/plain": [
       "2.5"
      ]
     },
     "execution_count": 15,
     "metadata": {},
     "output_type": "execute_result"
    }
   ],
   "source": [
    "rs[10]"
   ]
  },
  {
   "cell_type": "code",
   "execution_count": 5,
   "id": "d6e2b085",
   "metadata": {},
   "outputs": [],
   "source": [
    "rs.sort()"
   ]
  },
  {
   "cell_type": "code",
   "execution_count": 30,
   "id": "f097b713",
   "metadata": {},
   "outputs": [
    {
     "data": {
      "text/plain": [
       "<matplotlib.lines.Line2D at 0x2848c2910>"
      ]
     },
     "execution_count": 30,
     "metadata": {},
     "output_type": "execute_result"
    },
    {
     "data": {
      "image/png": "[encoded data removed]",
      "text/plain": [
       "<Figure size 640x480 with 1 Axes>"
      ]
     },
     "metadata": {},
     "output_type": "display_data"
    }
   ],
   "source": [
    "plt.scatter(np.log(rs), np.log(rs))\n",
    "plt.axhline(2)\n",
    "plt.axvline(2)\n",
    "plt.axhline(-1)\n",
    "plt.axvline(-1)"
   ]
  },
  {
   "cell_type": "code",
   "execution_count": 5,
   "id": "50ff558f",
   "metadata": {},
   "outputs": [],
   "source": [
    "over_rs = 1/rs"
   ]
  },
  {
   "cell_type": "code",
   "execution_count": 7,
   "id": "78bcdb09",
   "metadata": {},
   "outputs": [],
   "source": [
    "over_rs.sort()"
   ]
  },
  {
   "cell_type": "code",
   "execution_count": 8,
   "id": "e96301aa",
   "metadata": {},
   "outputs": [
    {
     "data": {
      "text/plain": [
       "array([ 0.05      ,  0.07500188,  0.1       ,  0.2       ,  0.30003   ,\n",
       "        0.4       ,  0.5       ,  0.75018755,  1.        ,  1.49925037,\n",
       "        2.        ,  3.4965035 ,  5.        ,  7.51879699, 10.        ,\n",
       "       14.92537313, 20.        , 30.3030303 , 40.        ])"
      ]
     },
     "execution_count": 8,
     "metadata": {},
     "output_type": "execute_result"
    }
   ],
   "source": [
    "over_rs"
   ]
  },
  {
   "cell_type": "code",
   "execution_count": 9,
   "id": "db749f89",
   "metadata": {},
   "outputs": [],
   "source": [
    "over_rs_add = [0.08, 0.25, 2.5, 12.5]\n",
    "# for i in range(9-1):\n",
    "#     over_rs_add.append(over_rs[i] + (over_rs[i+1] - over_rs[i])/2)"
   ]
  },
  {
   "cell_type": "code",
   "execution_count": 14,
   "id": "b2c4d4e2",
   "metadata": {},
   "outputs": [],
   "source": [
    "ra_add = 1/np.array(over_rs_add)"
   ]
  },
  {
   "cell_type": "code",
   "execution_count": 13,
   "id": "021a384e",
   "metadata": {},
   "outputs": [
    {
     "data": {
      "text/plain": [
       "array([ 0.075,  0.3  ,  0.75 ,  1.5  ,  3.5  ,  7.5  , 15.   , 30.   ])"
      ]
     },
     "execution_count": 13,
     "metadata": {},
     "output_type": "execute_result"
    }
   ],
   "source": [
    "np.array(over_rs_add)"
   ]
  },
  {
   "cell_type": "code",
   "execution_count": 15,
   "id": "5a0700da",
   "metadata": {},
   "outputs": [
    {
     "data": {
      "text/plain": [
       "array([12.5 ,  4.  ,  0.4 ,  0.08])"
      ]
     },
     "execution_count": 15,
     "metadata": {},
     "output_type": "execute_result"
    }
   ],
   "source": [
    "np.round(rs_add,3)"
   ]
  },
  {
   "cell_type": "code",
   "execution_count": 3,
   "id": "f258cccb",
   "metadata": {},
   "outputs": [],
   "source": [
    "# rs_selected = [0,1,2,3,4,5,6,25,49] ### select some r values\n",
    "# rs = rs[rs_selected]\n",
    "# R0s = np.arange(1.5, 6.5, 0.1)\n",
    "R0s = np.array([5.5])\n",
    "# rs = np.array([20, 10., 2, 1, 0.5, 0.2, 0.1, 0.05, 0.025])\n",
    "# rs_add = np.array([5, 2.5, 1/0.075, 1/0.3, 1/0.75, 2/3, 1/3.5, 1/7.5, 1/15, 1/30])\n",
    "rs_add = np.array([12.5 ,  4.  ,  0.4 ,  0.08])\n",
    "# rs_original = np.array([20, 10., 2, 1, 0.5, 0.2, 0.1, 0.05, 0.025])\n",
    "# rs_add = set(rs) - set(rs_original) "
   ]
  },
  {
   "cell_type": "code",
   "execution_count": 9,
   "id": "44f3ab44",
   "metadata": {},
   "outputs": [],
   "source": [
    "# rs_add = np.array(list(rs_add))"
   ]
  },
  {
   "cell_type": "code",
   "execution_count": 4,
   "id": "28805c85",
   "metadata": {},
   "outputs": [],
   "source": [
    "# R0s = R0s[7:] ### finish the rest of R0 values\n",
    "param_grid = {'R0': R0s, 'r' : rs_add}\n",
    "grid = ParameterGrid(param_grid)\n",
    "para_dict = list(grid)"
   ]
  },
  {
   "cell_type": "code",
   "execution_count": 5,
   "id": "680c3388",
   "metadata": {},
   "outputs": [],
   "source": [
    "np.save('para_dict_R55_add',para_dict)"
   ]
  },
  {
   "cell_type": "code",
   "execution_count": 6,
   "id": "fa34e2cc",
   "metadata": {},
   "outputs": [
    {
     "data": {
      "text/plain": [
       "[{'R0': 5.5, 'r': 12.5},\n",
       " {'R0': 5.5, 'r': 4.0},\n",
       " {'R0': 5.5, 'r': 0.4},\n",
       " {'R0': 5.5, 'r': 0.08}]"
      ]
     },
     "execution_count": 6,
     "metadata": {},
     "output_type": "execute_result"
    }
   ],
   "source": [
    "para_dict"
   ]
  },
  {
   "cell_type": "code",
   "execution_count": 15,
   "id": "91bb2fd9",
   "metadata": {},
   "outputs": [],
   "source": [
    "para_list = []\n",
    "for h in range(18):\n",
    "    para_list.extend(list(range(9*h+6,9*h+7)))"
   ]
  },
  {
   "cell_type": "code",
   "execution_count": 21,
   "id": "d2379747",
   "metadata": {},
   "outputs": [
    {
     "name": "stdout",
     "output_type": "stream",
     "text": [
      "6 1.5 0.1\n",
      "15 1.6 0.1\n",
      "24 1.7000000000000002 0.1\n",
      "33 1.8000000000000003 0.1\n",
      "42 1.9000000000000004 0.1\n",
      "51 2.0000000000000004 0.1\n",
      "60 2.1000000000000005 0.1\n",
      "69 2.2000000000000006 0.1\n",
      "78 2.3000000000000007 0.1\n",
      "87 2.400000000000001 0.1\n",
      "96 2.500000000000001 0.1\n",
      "105 2.600000000000001 0.1\n",
      "114 2.700000000000001 0.1\n",
      "123 2.800000000000001 0.1\n",
      "132 2.9000000000000012 0.1\n",
      "141 3.0000000000000013 0.1\n",
      "150 3.1000000000000014 0.1\n",
      "159 3.2000000000000015 0.1\n"
     ]
    }
   ],
   "source": [
    "para_dict = np.load('para_dict.npy',allow_pickle=True)\n",
    "    ## set parameters\n",
    "for i in para_list:\n",
    "    para_i = para_dict[i]\n",
    "    R0 = para_i['R0']\n",
    "    r = para_i['r']\n",
    "    print(i, R0, r)"
   ]
  },
  {
   "cell_type": "code",
   "execution_count": 10,
   "id": "33199ee3",
   "metadata": {},
   "outputs": [
    {
     "name": "stdout",
     "output_type": "stream",
     "text": [
      "450\n"
     ]
    }
   ],
   "source": [
    "print (len(para_dict))"
   ]
  },
  {
   "cell_type": "code",
   "execution_count": null,
   "id": "57acbf08",
   "metadata": {},
   "outputs": [],
   "source": [
    "for i in {0..3}\n",
    "do\n",
    "   qsub branching_${i}.pbs\n",
    "done"
   ]
  }
 ],
 "metadata": {
  "kernelspec": {
   "display_name": "geo",
   "language": "python",
   "name": "geo"
  },
  "language_info": {
   "codemirror_mode": {
    "name": "ipython",
    "version": 3
   },
   "file_extension": ".py",
   "mimetype": "text/x-python",
   "name": "python",
   "nbconvert_exporter": "python",
   "pygments_lexer": "ipython3",
   "version": "3.11.3"
  }
 },
 "nbformat": 4,
 "nbformat_minor": 5
}
