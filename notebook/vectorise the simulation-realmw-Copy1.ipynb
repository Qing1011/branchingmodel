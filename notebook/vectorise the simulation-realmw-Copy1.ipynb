{
 "cells": [
  {
   "cell_type": "code",
   "execution_count": 1,
   "id": "76c15771",
   "metadata": {},
   "outputs": [],
   "source": [
    "import torch\n",
    "from torch_geometric.data import Data\n",
    "import numpy as np\n",
    "import networkx as nx\n",
    "from torch_geometric.nn import MessagePassing\n",
    "from torch_geometric.utils import add_self_loops, degree\n",
    "import matplotlib.pyplot as plt\n",
    "import scipy.special as SS\n",
    "import scipy.stats as SSA"
   ]
  },
  {
   "cell_type": "code",
   "execution_count": 2,
   "id": "59f0967c",
   "metadata": {},
   "outputs": [],
   "source": [
    "WN = np.loadtxt('W_avg.csv')\n",
    "pop = np.loadtxt('pop_new.csv')"
   ]
  },
  {
   "cell_type": "code",
   "execution_count": null,
   "id": "3046c664",
   "metadata": {},
   "outputs": [],
   "source": [
    "# create a graph\n",
    "A = np.array([[0.25 , 0.25, 0.4, 0.1 ],\n",
    "        [0.25, 0.75 , 0. , 0. ],\n",
    "        [0.4, 0. , 0.55 , 0.05],\n",
    "        [0.1 , 0 , 0.05, 0.85 ]])\n",
    "# adjacency_matrix = torch.tensor(WN)\n",
    "adjacency_matrix = torch.tensor(A)\n",
    "# Get the indices where the adjacency matrix has a non-zero value\n",
    "edge_index = torch.nonzero(adjacency_matrix, as_tuple=False).t()\n",
    "\n",
    "# If your adjacency matrix has edge weights, you can get them like this:\n",
    "edge_weight = adjacency_matrix[edge_index[0], edge_index[1]]"
   ]
  },
  {
   "cell_type": "code",
   "execution_count": 7,
   "id": "619cf875",
   "metadata": {},
   "outputs": [],
   "source": [
    "def mixed_distribution_torch(lam, n, p_prime):\n",
    "    # Derive p from n and lam for negative binomial\n",
    "#     p = n / (n + lam)\n",
    "#     p_prime = 1-p\n",
    "    # Decide which distribution to sample from\n",
    "    distribution_choice = torch.multinomial(torch.tensor([0.8, 0.2]), 1).item()\n",
    "\n",
    "    if distribution_choice == 0:  # Poisson\n",
    "        return torch.poisson(lam).item()\n",
    "    else:  # Negative binomial\n",
    "        return torch.distributions.negative_binomial.NegativeBinomial(total_count=n, probs=p_prime).sample().item()"
   ]
  },
  {
   "cell_type": "code",
   "execution_count": 57,
   "id": "80650951",
   "metadata": {},
   "outputs": [],
   "source": [
    "class EpidemicSimulator(MessagePassing):\n",
    "    def __init__(self, r, p, weight, max_time_step):\n",
    "        super(EpidemicSimulator, self).__init__(aggr='add')\n",
    "        self.r = r\n",
    "#         self.p = p\n",
    "        self.p_prime = 1-p\n",
    "        self.max_time_step = max_time_step\n",
    "        self.Z = 3 # latent period\n",
    "        self.Zb = 1 # scale parameter for Z\n",
    "        self.D = 5 # infectious period\n",
    "        self.Db = 1 # scale parameter for beta\n",
    "        self.weight = torch.Tensor(weight)\n",
    "        self.offspring = []\n",
    "    \n",
    "    def forward(self, x, edge_index, edge_attr, step):\n",
    "        return self.propagate(edge_index, size=(x.size(0), x.size(0)), x=x, edge_attr=edge_attr, step=step)\n",
    "\n",
    "    def message(self, x_j, edge_index, edge_attr, step):\n",
    "        # x_j has shape [E, num_features]\n",
    "        # edge_attr has shape [E, num_edge_features]\n",
    "        # Get the new infections from x_j.\n",
    "#         new_infections = x_j[:, 0:1]  # Shape: [E, 1]\n",
    "        new_infectors = x_j[:, 2+step:3+step] ## the infectors at time ti\n",
    "        temp = new_infectors.round().int()\n",
    "        cases = temp.squeeze().tolist()\n",
    "        # Initialize an empty tensor to store the results\n",
    "        results = torch.zeros_like(new_infectors)\n",
    "        # Generate negative binomial for each size\n",
    "        for i, size in enumerate(cases):\n",
    "#             print(size)\n",
    "            if size>0:\n",
    "#                 offspring_per_case = torch.distributions.Categorical(self.weight).sample(sample_shape=torch.Size([size]))\n",
    "                offspring_per_case = torch.zeros(size)\n",
    "                for j in torch.arange(size):\n",
    "                    offspring_j = torch.distributions.Categorical(self.weight).sample((1,))\n",
    "                    offspring_per_case[j] = offspring_j*1.62\n",
    "#                     print(offspring_j)\n",
    "                    self.offspring.append(offspring_j.item()*1.62)\n",
    "            #torch.distributions.negative_binomial.NegativeBinomial(self.r,self.p_prime).sample(sample_shape=torch.Size([size]))\n",
    "            # torch.Tensor(np.array([2]*size))\n",
    "#            \n",
    "# mixed_distribution_torch(torch.tensor(2.5), self.r, self.p_prime)\n",
    "                temp_sum = offspring_per_case.sum()\n",
    "            else:\n",
    "                temp_sum = 0\n",
    "#             print(temp_sum)\n",
    "            results[i] = temp_sum\n",
    "        ######^^^^^^#######\n",
    "        # Compute the messages.\n",
    "#         messages = new_infections * edge_attr.view(-1, 1)\n",
    "        messages = results * edge_attr.view(-1, 1)\n",
    "        return messages\n",
    "\n",
    "    def update(self, aggr_out, x, step):\n",
    "        # x has shape [N, num_features], it is the original node features\n",
    "        # The new infections are the aggregated messages.\n",
    "        new_infections = aggr_out # aggr_out has shape [N, 1], it contains the updated infections\n",
    "        #### Add the effective infections to the column corresponding to the current step.####\n",
    "        ## immu first\n",
    "        population = x[:, 1:2]\n",
    "        total_infection = torch.sum(x[:, 2:3+step], dim=1,keepdim=True) \n",
    "        rate = (population - total_infection) / population # Compute the rate.\n",
    "        rate[rate<0] = 0\n",
    "        \n",
    "        new_effective_infections = new_infections*rate\n",
    "        new_infections_int  = new_effective_infections.round().int()\n",
    "        ### diffuse the new_infections to different times \n",
    "        inf_sizes = new_infections_int.squeeze().tolist()\n",
    "        for i, inf_size_i in enumerate(inf_sizes):\n",
    "            gamma_dist1 = torch.distributions.Gamma(self.Z, 1/self.Zb)\n",
    "            gamma_dist2 = torch.distributions.Gamma(self.D, 1/self.Db)\n",
    "            latency_p = gamma_dist1.rsample(sample_shape=torch.Size([inf_size_i]))\n",
    "            infectious_p = gamma_dist2.rsample(sample_shape=torch.Size([inf_size_i]))\n",
    "            v = torch.rand(inf_size_i)\n",
    "            delay_days = latency_p + v * infectious_p\n",
    "#             print(step, delay_days)\n",
    "            for j,delay_t in enumerate(delay_days):\n",
    "                t_j = (3+step+delay_t).ceil().int()\n",
    "                if t_j > self.max_time_step:\n",
    "                    pass\n",
    "                else:\n",
    "                    x[i,t_j] = x[i,t_j] + 1\n",
    "        ######^^^^^^#######\n",
    "        # The rest of the features remain the same.\n",
    "        other_features = x[:, 2:].clone()\n",
    "        # Concatenate the new infections, the population, and the other features to get the new node features.\n",
    "        x_new = torch.cat([new_infections.clone(), population, other_features], dim=1)\n",
    "        return x_new, self.offspring\n",
    "\n",
    "def simulate_dynamics(data, R0, r, num_steps,edge_index):\n",
    "    p = r/(R0+r)  \n",
    "    \n",
    "#     x_cutoff = 150\n",
    "#     weights = np.zeros(x_cutoff)\n",
    "#     for i in range(x_cutoff):\n",
    "#         temp1=SS.gamma(r+i)/(SS.gamma(r)*SS.gamma((i+1)))*np.power(p,r)*np.power((1-p),i)\n",
    "#         weights[i] = temp1\n",
    "#     weights_n = weights/np.sum(weights)\n",
    "    cpp_results = np.loadtxt('ss_100_n.txt') ## 300\n",
    "    cpp_results_n = cpp_results/np.sum(cpp_results)\n",
    "    simulator = EpidemicSimulator(r,p, cpp_results_n, max_time_step=61)\n",
    "    x = data.x\n",
    "    for ti in range(num_steps):\n",
    "        x,newcases = simulator(x, edge_index, data.edge_attr, ti)\n",
    "    return x, newcases"
   ]
  },
  {
   "cell_type": "code",
   "execution_count": 49,
   "id": "d8324372",
   "metadata": {},
   "outputs": [
    {
     "data": {
      "text/plain": [
       "tensor([0])"
      ]
     },
     "execution_count": 49,
     "metadata": {},
     "output_type": "execute_result"
    }
   ],
   "source": [
    "cpp_results = np.loadtxt('ss_100_n.txt') ## 300\n",
    "cpp_results_n = cpp_results/np.sum(cpp_results)\n",
    "torch.distributions.Categorical(torch.Tensor(cpp_results_n)).sample((1,))"
   ]
  },
  {
   "cell_type": "code",
   "execution_count": 52,
   "id": "093a17e5",
   "metadata": {},
   "outputs": [
    {
     "data": {
      "text/plain": [
       "16.200000000000003"
      ]
     },
     "execution_count": 52,
     "metadata": {},
     "output_type": "execute_result"
    }
   ],
   "source": [
    "torch.tensor([10]).item()*1.62"
   ]
  },
  {
   "cell_type": "code",
   "execution_count": null,
   "id": "b373160e",
   "metadata": {},
   "outputs": [],
   "source": [
    "%run ../codes/branching_gnn.py"
   ]
  },
  {
   "cell_type": "markdown",
   "id": "a9cc678f",
   "metadata": {},
   "source": [
    "## test R0=2.5"
   ]
  },
  {
   "cell_type": "code",
   "execution_count": null,
   "id": "e87fa033",
   "metadata": {},
   "outputs": [],
   "source": [
    "rs = np.array([20.0, 10.0, 5.0, 2.0, 1.0, 0.5, 0.2, 0.1, 0.05, 0.025]) "
   ]
  },
  {
   "cell_type": "code",
   "execution_count": null,
   "id": "d7d77880",
   "metadata": {},
   "outputs": [],
   "source": [
    "pop = np.array([1000]*4)## populations"
   ]
  },
  {
   "cell_type": "code",
   "execution_count": 34,
   "id": "900082bf",
   "metadata": {},
   "outputs": [],
   "source": [
    "num_fips = len(pop)\n",
    "T = 60\n",
    "l0 = 1859-1 # start with New York County NY in python -1, in matlab is 1859\n",
    "E_mean_county = np.zeros((9,60))\n",
    "E_std_county = np.zeros((9,60))\n",
    "En_NewInf = np.zeros((300,num_fips,T))"
   ]
  },
  {
   "cell_type": "code",
   "execution_count": 60,
   "id": "a3eb51b4",
   "metadata": {},
   "outputs": [
    {
     "name": "stdout",
     "output_type": "stream",
     "text": [
      "0\n"
     ]
    }
   ],
   "source": [
    "for e_i in range(1):\n",
    "    print(e_i)\n",
    "    xx = np.zeros((num_fips,62)) # number of nodes, the columns of attributes\n",
    "    xx[:,1] = pop ## populations\n",
    "    ## col_2 is the new infections generated by the new infectors\n",
    "    xx[l0,2] = 100 ## the new infections at time 0 \n",
    "    # xx[0,2] = 10\n",
    "    # xx[2,0] = 100 ## the new infections initials\n",
    "    xx = torch.tensor(xx,dtype=torch.float)\n",
    "\n",
    "    adjacency_matrix = torch.tensor(WN)\n",
    "    # Get the indices where the adjacency matrix has a non-zero value\n",
    "    edge_index = torch.nonzero(adjacency_matrix, as_tuple=False).t()\n",
    "    # If your adjacency matrix has edge weights, you can get them like this:\n",
    "    edge_weight = adjacency_matrix[edge_index[0], edge_index[1]]\n",
    "\n",
    "    data = Data(x=xx, edge_index=edge_index, edge_attr=edge_weight)\n",
    "    NewInf_i, newcases = simulate_dynamics(data, R0=2.5, r=0.025, num_steps=T, edge_index=edge_index)\n",
    "    En_NewInf[e_i,:,:] = NewInf_i[:,2:]"
   ]
  },
  {
   "cell_type": "code",
   "execution_count": 61,
   "id": "71c0cf31",
   "metadata": {},
   "outputs": [
    {
     "data": {
      "text/plain": [
       "2.5087999523866342"
      ]
     },
     "execution_count": 61,
     "metadata": {},
     "output_type": "execute_result"
    }
   ],
   "source": [
    "np.mean(newcases)"
   ]
  },
  {
   "cell_type": "code",
   "execution_count": 62,
   "id": "f06adb5a",
   "metadata": {},
   "outputs": [],
   "source": [
    "cc = np.array(En_NewInf[:1,:,:])\n",
    "# cc1 = np.array(test1)[:,2:]"
   ]
  },
  {
   "cell_type": "code",
   "execution_count": 63,
   "id": "6357a481",
   "metadata": {},
   "outputs": [
    {
     "data": {
      "text/plain": [
       "(1, 3142, 60)"
      ]
     },
     "execution_count": 63,
     "metadata": {},
     "output_type": "execute_result"
    }
   ],
   "source": [
    "cc.shape"
   ]
  },
  {
   "cell_type": "code",
   "execution_count": 64,
   "id": "918105a5",
   "metadata": {},
   "outputs": [],
   "source": [
    "ccc = cc/pop[None,:,None]*100000\n",
    "# ccc1 = cc1/pop[:,None]*100000"
   ]
  },
  {
   "cell_type": "code",
   "execution_count": 65,
   "id": "3bcea860",
   "metadata": {},
   "outputs": [],
   "source": [
    "dd  = np.sum(ccc[:,:,:60]>10,axis=1)\n",
    "# dd1  = np.sum(ccc1[:,:60]>10,axis=0)"
   ]
  },
  {
   "cell_type": "code",
   "execution_count": 66,
   "id": "6df3be5e",
   "metadata": {},
   "outputs": [
    {
     "data": {
      "text/plain": [
       "(1, 60)"
      ]
     },
     "execution_count": 66,
     "metadata": {},
     "output_type": "execute_result"
    }
   ],
   "source": [
    "dd.shape"
   ]
  },
  {
   "cell_type": "code",
   "execution_count": 67,
   "id": "10af7faa",
   "metadata": {},
   "outputs": [],
   "source": [
    "ddd = np.mean(dd,axis=0)"
   ]
  },
  {
   "cell_type": "code",
   "execution_count": 69,
   "id": "57c70d6e",
   "metadata": {},
   "outputs": [],
   "source": [
    "NewInf_ode = np.loadtxt('metapop_R025.csv')\n",
    "infec_perpop = NewInf_ode/pop[:,None]*100000\n",
    "county_ode = np.sum(infec_perpop>10,axis=0)"
   ]
  },
  {
   "cell_type": "code",
   "execution_count": 68,
   "id": "91cb17e0",
   "metadata": {},
   "outputs": [
    {
     "data": {
      "text/plain": [
       "array([47])"
      ]
     },
     "execution_count": 68,
     "metadata": {},
     "output_type": "execute_result"
    }
   ],
   "source": [
    "dd[:,-1]"
   ]
  },
  {
   "cell_type": "code",
   "execution_count": 70,
   "id": "5ec35307",
   "metadata": {},
   "outputs": [
    {
     "data": {
      "text/plain": [
       "Text(0, 0.5, 'counties with daily infections per 100000>10')"
      ]
     },
     "execution_count": 70,
     "metadata": {},
     "output_type": "execute_result"
    },
    {
     "data": {
      "image/png": "[encoded data removed]",
      "text/plain": [
       "<Figure size 1000x600 with 1 Axes>"
      ]
     },
     "metadata": {},
     "output_type": "display_data"
    }
   ],
   "source": [
    "plt.figure(figsize=(10,6))\n",
    "plt.plot(ddd,label='r=mix',color='green')\n",
    "# plt.plot(dd1,label='r=0.025',color='green')\n",
    "plt.plot(county_ode,label='ode',color='gray')\n",
    "# plt.plot(county_mat_avg ,label='matlab_cutoff_300',color='red')\n",
    "plt.plot(county_mat_avg_100 ,label='matlab_cutoff_100',color='blue')\n",
    "plt.legend()\n",
    "plt.xlabel('day')\n",
    "plt.ylabel('counties with daily infections per 100000>10')"
   ]
  },
  {
   "cell_type": "code",
   "execution_count": null,
   "id": "213a38e0",
   "metadata": {},
   "outputs": [],
   "source": [
    "para_dict = np.load('para_dict.npy',allow_pickle=True)\n",
    "    ## set parameters\n",
    "para_dict[90]"
   ]
  },
  {
   "cell_type": "code",
   "execution_count": null,
   "id": "ac83b12f",
   "metadata": {},
   "outputs": [],
   "source": [
    "torch.Tensor([0.5]).round()"
   ]
  },
  {
   "cell_type": "code",
   "execution_count": 20,
   "id": "66d6dfae",
   "metadata": {},
   "outputs": [],
   "source": [
    "import scipy.io\n",
    "\n",
    "# Load the .mat file\n",
    "mat_data = scipy.io.loadmat('/Users/qingyao/OneDrive - cumc.columbia.edu/branchingmodel/SpatialSpread_simulation/NewInf_0025.mat')"
   ]
  },
  {
   "cell_type": "code",
   "execution_count": null,
   "id": "990a849d",
   "metadata": {},
   "outputs": [],
   "source": [
    "mat_data.keys()"
   ]
  },
  {
   "cell_type": "code",
   "execution_count": 21,
   "id": "7de43380",
   "metadata": {},
   "outputs": [],
   "source": [
    "mat_newinf_100 = mat_data['NewInf']"
   ]
  },
  {
   "cell_type": "code",
   "execution_count": 23,
   "id": "126ee9ec",
   "metadata": {},
   "outputs": [],
   "source": [
    "mat_infec_perpop_100 = mat_newinf_100/pop[:,None,None]*100000"
   ]
  },
  {
   "cell_type": "code",
   "execution_count": 24,
   "id": "048ca69f",
   "metadata": {},
   "outputs": [],
   "source": [
    "county_mat_100 = np.sum(mat_infec_perpop_100>10,axis=0)"
   ]
  },
  {
   "cell_type": "code",
   "execution_count": 25,
   "id": "9377cd0e",
   "metadata": {},
   "outputs": [],
   "source": [
    "county_mat_avg_100 = np.mean(county_mat_100,axis=1)"
   ]
  },
  {
   "cell_type": "code",
   "execution_count": null,
   "id": "19e8d09e",
   "metadata": {},
   "outputs": [],
   "source": []
  }
 ],
 "metadata": {
  "kernelspec": {
   "display_name": "gnn",
   "language": "python",
   "name": "gnn"
  },
  "language_info": {
   "codemirror_mode": {
    "name": "ipython",
    "version": 3
   },
   "file_extension": ".py",
   "mimetype": "text/x-python",
   "name": "python",
   "nbconvert_exporter": "python",
   "pygments_lexer": "ipython3",
   "version": "3.11.4"
  }
 },
 "nbformat": 4,
 "nbformat_minor": 5
}
