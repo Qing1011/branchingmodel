{
 "cells": [
  {
   "cell_type": "code",
   "execution_count": 1,
   "id": "d8c44e9b",
   "metadata": {},
   "outputs": [],
   "source": [
    "import numpy as np\n",
    "import matplotlib.pyplot as plt\n",
    "from scipy.io import loadmat, savemat\n",
    "import pandas as pd\n",
    "import scipy.special as SS\n",
    "import scipy.stats as SSA\n",
    "import copy\n",
    "import random\n",
    "import math"
   ]
  },
  {
   "cell_type": "code",
   "execution_count": 115,
   "id": "4529709b",
   "metadata": {},
   "outputs": [],
   "source": [
    "WN = np.array([[0.25,0.5,0.25],\n",
    "               [0.5,0.1,0.4],\n",
    "               [0.25,0.4,0.35]])\n",
    "pop = np.array([100,60,120])"
   ]
  },
  {
   "cell_type": "code",
   "execution_count": 4,
   "id": "d1685efa",
   "metadata": {},
   "outputs": [],
   "source": [
    "### One ensemble"
   ]
  },
  {
   "cell_type": "code",
   "execution_count": 116,
   "id": "37865132",
   "metadata": {},
   "outputs": [],
   "source": [
    "num_fips = len(pop)\n",
    "T = 10"
   ]
  },
  {
   "cell_type": "code",
   "execution_count": 13,
   "id": "bddd907e",
   "metadata": {},
   "outputs": [
    {
     "name": "stdout",
     "output_type": "stream",
     "text": [
      "it covers 99.29040524284376 % of the values\n",
      "7.0959475715624e-05 compare with the last prob 6.778543241544144e-05\n",
      "it covers 99.94793690833258 % of the values\n",
      "5.206309166742029e-06 compare with the last prob 2.4979978105066747e-05\n",
      "it covers 99.99999999999976 % of the values\n",
      "2.4424906541753444e-17 compare with the last prob 9.755654775956703e-16\n",
      "it covers 100.0 % of the values\n",
      "0.0 compare with the last prob 3.3891205435755526e-42\n",
      "it covers 100.0 % of the values\n",
      "0.0 compare with the last prob 2.6619580973154302e-58\n",
      "it covers 99.99999999999999 % of the values\n",
      "1.1102230246251566e-18 compare with the last prob 4.946889715640957e-93\n"
     ]
    },
    {
     "data": {
      "image/png": "[encoded data removed]",
      "text/plain": [
       "<Figure size 432x288 with 1 Axes>"
      ]
     },
     "metadata": {
      "needs_background": "light"
     },
     "output_type": "display_data"
    }
   ],
   "source": [
    "x_cutoff = 100\n",
    "R0 = 2.5  ## the model input\n",
    "for r in [0.01,0.1,1,5,10,50]:\n",
    "\n",
    "#     r = 50 ## parameters (in the paper of Lloyd smith is the k) 0.1 to start \n",
    "\n",
    "    p = r/(R0+r)\n",
    "\n",
    "    weights = np.zeros(x_cutoff)\n",
    "    for i in range(x_cutoff):\n",
    "        temp1=SS.gamma(r+i)/SS.gamma(r)/SS.gamma((i+1))*np.power(p,r)*np.power((1-p),i)\n",
    "        weights[i] = temp1\n",
    "    print('it covers', np.sum(weights)*100,'% of the values') ## to generate the sample, the sum up probe should be 1\n",
    "    ## we can assign/compare the rest of prob to each one\n",
    "    prob_res = (1- np.sum(weights))/x_cutoff\n",
    "    print (prob_res, 'compare with the last prob', weights[-1])\n",
    "    ## normalise the weights to 1\n",
    "    weights_n = weights/np.sum(weights)\n",
    "    plt.plot(range(100),weights_n,label=r'r={}'.format(r))\n",
    "plt.legend()\n",
    "plt.yscale('log')\n",
    "plt.show()"
   ]
  },
  {
   "cell_type": "code",
   "execution_count": 15,
   "id": "2e071070",
   "metadata": {},
   "outputs": [],
   "source": [
    "v = np.random.random_sample(100)"
   ]
  },
  {
   "cell_type": "code",
   "execution_count": null,
   "id": "329de454",
   "metadata": {},
   "outputs": [],
   "source": [
    "Z = 3 # latent period ### mean = 3\n",
    "Zb = 1 # scale parameter for Z\n",
    "D = 5 # infectious period ### mean = 5\n",
    "Db = 1 # scale parameter for b\n",
    "alpha = 0.1 # reporting rate 10% \n",
    "## mean_delay = 3+5*0.5 = 5.5"
   ]
  },
  {
   "cell_type": "code",
   "execution_count": 109,
   "id": "5cae0479",
   "metadata": {},
   "outputs": [],
   "source": [
    "def superspreading_T_Loc(T,num_fips,initials,weights_n,pop,paras,WN):\n",
    "    Z, Zb, D, Db = paras\n",
    "    ## initialise \n",
    "    l0, i0 = initials\n",
    "    \n",
    "    NewInf = np.zeros((num_fips,T*2))\n",
    "    TotInf = np.zeros((num_fips,T*2))\n",
    "    \n",
    "    NewInf[l0,0] = i0\n",
    "    TotInf[:,0] = NewInf[:,0]\n",
    "    ### for each time step and each location\n",
    "    for ti in range(T):\n",
    "        for l in range(num_fips):\n",
    "            infectors = int(NewInf[l,ti])\n",
    "            ### the number of possible new infections the size = 100 can infect individually from the NB \n",
    "            z_all = np.random.choice(len(weights_n), size = infectors, p=weights_n) ## this is a vector\n",
    "            ### however, the populations have immunited people, the number will decrease i did not agree with this part \n",
    "            ## as the infection happens inside the location of the infectious people, for immunity is the pop of the \n",
    "            z_immunity = np.round(z_all*(1-TotInf[l,ti]/pop[l]))\n",
    "        #     print(z_all)\n",
    "        #     print(z_immunity)\n",
    "        #     print('*^_^*')\n",
    "            NF_l = np.zeros((2,len(z_immunity)),dtype=np.int64)\n",
    "            ## for the time distribution\n",
    "            latency_p = SSA.gamma.rvs(a = Z,scale=Zb,size = len(z_immunity))\n",
    "            infectious_p = SSA.gamma.rvs(a = D,scale=Db,size = len(z_immunity))\n",
    "            v = np.random.random_sample(len(z_immunity))\n",
    "            delay_days = latency_p+v*infectious_p\n",
    "\n",
    "            NF_l[0,:] = np.ceil(delay_days+ti) ## make it idx int\n",
    "            ## for the location distribution\n",
    "            loc_idx = np.random.choice(np.arange(num_fips), size = len(z_immunity), p=WN[:,l])\n",
    "            NF_l[1,:] = loc_idx\n",
    "\n",
    "            ## infections merge into the matrix\n",
    "            NewInf_l = np.zeros_like(NewInf)\n",
    "            for i in range(len(z_immunity)):\n",
    "                t_i, loc_i = NF_l[:,i]\n",
    "                NewInf_l[loc_i,t_i] = NewInf_l[loc_i,t_i]+1\n",
    "            NewInf = NewInf + NewInf_l\n",
    "            TotInf = np.cumsum(NewInf,axis=1)\n",
    "    return NewInf, TotInf"
   ]
  },
  {
   "cell_type": "code",
   "execution_count": 110,
   "id": "69f46ffa",
   "metadata": {},
   "outputs": [],
   "source": [
    "NewInf, TotInf = superspreading_T_Loc(10,3,(2,1),weights_n,pop,(3,1,5,1),WN)"
   ]
  },
  {
   "cell_type": "code",
   "execution_count": 137,
   "id": "846c2989",
   "metadata": {},
   "outputs": [
    {
     "data": {
      "text/plain": [
       "array([], dtype=float64)"
      ]
     },
     "execution_count": 137,
     "metadata": {},
     "output_type": "execute_result"
    }
   ],
   "source": [
    "TotInf[0:0,6]"
   ]
  },
  {
   "cell_type": "code",
   "execution_count": 129,
   "id": "0ee3d959",
   "metadata": {},
   "outputs": [
    {
     "name": "stdout",
     "output_type": "stream",
     "text": [
      "0.0 3.0\n",
      "3.0 5.0\n",
      "5.0 8.0\n"
     ]
    }
   ],
   "source": [
    "for l in range(3):\n",
    "    idx_end = sum(TotInf[:l+1,6]) ## idx for arrary\n",
    "    num_l = TotInf[l,6]\n",
    "    print(idx_end-num_l,idx_end)\n",
    "#     z_l = z_all[idx_end-num_l,idx_end]"
   ]
  },
  {
   "cell_type": "code",
   "execution_count": 140,
   "id": "17055bf2",
   "metadata": {},
   "outputs": [
    {
     "name": "stdout",
     "output_type": "stream",
     "text": [
      "0\n",
      "0 0\n",
      "0 1\n",
      "1 1\n",
      "1\n",
      "0 0\n",
      "0 0\n",
      "0 0\n",
      "2\n",
      "0 0\n",
      "0 0\n",
      "0 0\n",
      "3\n",
      "0 0\n",
      "0 0\n",
      "0 0\n",
      "4\n",
      "0 2\n"
     ]
    },
    {
     "ename": "ValueError",
     "evalue": "could not broadcast input array from shape (2,) into shape (7,)",
     "output_type": "error",
     "traceback": [
      "\u001b[0;31m---------------------------------------------------------------------------\u001b[0m",
      "\u001b[0;31mValueError\u001b[0m                                Traceback (most recent call last)",
      "\u001b[0;32m/var/folders/vx/g_l159t12yb63094n730n4pm0000gn/T/ipykernel_52068/2183841547.py\u001b[0m in \u001b[0;36m<module>\u001b[0;34m\u001b[0m\n\u001b[1;32m     43\u001b[0m \u001b[0;34m\u001b[0m\u001b[0m\n\u001b[1;32m     44\u001b[0m \u001b[0;34m\u001b[0m\u001b[0m\n\u001b[0;32m---> 45\u001b[0;31m         \u001b[0mNF_l\u001b[0m\u001b[0;34m[\u001b[0m\u001b[0;36m0\u001b[0m\u001b[0;34m,\u001b[0m\u001b[0;34m:\u001b[0m\u001b[0;34m]\u001b[0m \u001b[0;34m=\u001b[0m \u001b[0mnp\u001b[0m\u001b[0;34m.\u001b[0m\u001b[0mceil\u001b[0m\u001b[0;34m(\u001b[0m\u001b[0mdelay_days\u001b[0m\u001b[0;34m+\u001b[0m\u001b[0mti\u001b[0m\u001b[0;34m)\u001b[0m \u001b[0;31m## make it idx int\u001b[0m\u001b[0;34m\u001b[0m\u001b[0;34m\u001b[0m\u001b[0m\n\u001b[0m\u001b[1;32m     46\u001b[0m         \u001b[0;31m## for the location distribution\u001b[0m\u001b[0;34m\u001b[0m\u001b[0;34m\u001b[0m\u001b[0m\n\u001b[1;32m     47\u001b[0m         \u001b[0mloc_idx\u001b[0m \u001b[0;34m=\u001b[0m \u001b[0mnp\u001b[0m\u001b[0;34m.\u001b[0m\u001b[0mrandom\u001b[0m\u001b[0;34m.\u001b[0m\u001b[0mchoice\u001b[0m\u001b[0;34m(\u001b[0m\u001b[0mnp\u001b[0m\u001b[0;34m.\u001b[0m\u001b[0marange\u001b[0m\u001b[0;34m(\u001b[0m\u001b[0mnum_fips\u001b[0m\u001b[0;34m)\u001b[0m\u001b[0;34m,\u001b[0m \u001b[0msize\u001b[0m \u001b[0;34m=\u001b[0m \u001b[0mz_num\u001b[0m\u001b[0;34m,\u001b[0m \u001b[0mp\u001b[0m\u001b[0;34m=\u001b[0m\u001b[0mWN\u001b[0m\u001b[0;34m[\u001b[0m\u001b[0;34m:\u001b[0m\u001b[0;34m,\u001b[0m\u001b[0ml\u001b[0m\u001b[0;34m]\u001b[0m\u001b[0;34m)\u001b[0m\u001b[0;34m\u001b[0m\u001b[0;34m\u001b[0m\u001b[0m\n",
      "\u001b[0;31mValueError\u001b[0m: could not broadcast input array from shape (2,) into shape (7,)"
     ]
    }
   ],
   "source": [
    "# seeding\n",
    "l0 = 1 # start with New York County NY in python -1, in matlab is 1895\n",
    "i0 = 1 ## the starting t=0, in matlab it is 1\n",
    "# initials = (l0,i0)\n",
    "\n",
    "Z, Zb, D, Db = 3,1,5,1\n",
    "## initialise \n",
    "# l0, i0 = initials\n",
    "    \n",
    "NewInf = np.zeros((num_fips,T*10))\n",
    "TotInf = np.zeros((num_fips,T*10))\n",
    "\n",
    "NewInf[l0,0] = i0\n",
    "TotInf[:,0] = NewInf[:,0]\n",
    "### for each time step and each location\n",
    "for ti in range(T):\n",
    "    print(ti)\n",
    "    \n",
    "    num_tot_new_infectors = int(np.sum(NewInf[:,ti]))\n",
    "    ### the number of possible new infections the size = 100 can infect individually from the NB \n",
    "    z_all = np.random.choice(len(weights_n), size = num_tot_new_infectors, p=weights_n) ## this is a vector\n",
    "    immu_rates = 1-TotInf[:,ti]/pop\n",
    "    latency_p_all = SSA.gamma.rvs(a = Z,scale=Zb,size = num_tot_new_infectors)\n",
    "    infectious_p_all = SSA.gamma.rvs(a = D,scale=Db,size = num_tot_new_infectors)\n",
    "    v = np.random.random_sample(num_tot_new_infectors)\n",
    "    delay_days_all = latency_p_all+v*infectious_p_all\n",
    "    \n",
    "        ### however, the populations have immunited people, the number will decrease i did not agree with this part \n",
    "        ## as the infection happens inside the location of the infectious people, for immunity is the pop of the \n",
    "    for l in range(num_fips):\n",
    "        idx_end = int(sum(NewInf[:l+1,ti])) ## idx for arrary\n",
    "        idx_start = int(idx_end - NewInf[l,ti])\n",
    "        print(idx_start,idx_end)\n",
    "#         if idx_start != idx_end:\n",
    "        z_l = z_all[idx_start:idx_end]\n",
    "\n",
    "        z_immunity = np.round(z_l*immu_rates[l])\n",
    "        z_num = np.int64(np.sum(z_immunity))\n",
    "\n",
    "        NF_l = np.zeros((2,z_num),dtype=np.int64)\n",
    "        ## for the time distribution\n",
    "        delay_days = delay_days_all[idx_start:idx_end] \n",
    "\n",
    "\n",
    "        NF_l[0,:] = np.ceil(delay_days+ti) ## make it idx int\n",
    "        ## for the location distribution\n",
    "        loc_idx = np.random.choice(np.arange(num_fips), size = z_num, p=WN[:,l])\n",
    "        NF_l[1,:] = loc_idx\n",
    "\n",
    "        ## infections merge into the matrix\n",
    "        NewInf_l = np.zeros_like(NewInf)\n",
    "        for i in range(z_num):\n",
    "            t_i, loc_i = NF_l[:,i]\n",
    "            NewInf_l[loc_i,t_i] = NewInf_l[loc_i,t_i]+1\n",
    "        NewInf = NewInf + NewInf_l\n",
    "        TotInf = np.cumsum(NewInf,axis=1)"
   ]
  },
  {
   "cell_type": "code",
   "execution_count": null,
   "id": "6b7982b3",
   "metadata": {},
   "outputs": [],
   "source": [
    "[0,2,3,1,0,1]\n"
   ]
  }
 ],
 "metadata": {
  "kernelspec": {
   "display_name": "Python 3 (ipykernel)",
   "language": "python",
   "name": "python3"
  },
  "language_info": {
   "codemirror_mode": {
    "name": "ipython",
    "version": 3
   },
   "file_extension": ".py",
   "mimetype": "text/x-python",
   "name": "python",
   "nbconvert_exporter": "python",
   "pygments_lexer": "ipython3",
   "version": "3.9.7"
  }
 },
 "nbformat": 4,
 "nbformat_minor": 5
}
