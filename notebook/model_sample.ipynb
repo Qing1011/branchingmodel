{
 "cells": [
  {
   "cell_type": "code",
   "execution_count": 78,
   "id": "754f743a",
   "metadata": {},
   "outputs": [],
   "source": [
    "import numpy as np\n",
    "import matplotlib.pyplot as plt\n",
    "from scipy.io import loadmat, savemat\n",
    "import pandas as pd\n",
    "import scipy.special as SS\n",
    "import scipy.stats as SSA\n",
    "import copy\n",
    "import random\n",
    "import math"
   ]
  },
  {
   "cell_type": "code",
   "execution_count": 2,
   "id": "c53f9d0c",
   "metadata": {},
   "outputs": [],
   "source": [
    "WN = np.array([[0.25,0.5,0.25],\n",
    "               [0.5,0.1,0.4],\n",
    "               [0.25,0.4,0.35]])\n",
    "pop = np.array([100,60,120])"
   ]
  },
  {
   "cell_type": "code",
   "execution_count": 4,
   "id": "c3476a63",
   "metadata": {},
   "outputs": [],
   "source": [
    "### One ensemble"
   ]
  },
  {
   "cell_type": "code",
   "execution_count": 100,
   "id": "49076ae9",
   "metadata": {},
   "outputs": [],
   "source": [
    "num_fips = len(pop)\n",
    "T = 10"
   ]
  },
  {
   "cell_type": "code",
   "execution_count": 58,
   "id": "26b4abf5",
   "metadata": {},
   "outputs": [],
   "source": [
    "x_cutoff = 100\n",
    "r = 50 ## parameters (in the paper of Lloyd smith is the k) 0.1 to start \n",
    "R0 = 2.5  ## the model input\n",
    "p = r/(R0+r)\n",
    "\n",
    "weights = np.zeros(x_cutoff)\n",
    "for i in range(x_cutoff):\n",
    "    temp1=SS.gamma(r+i)/SS.gamma(r)/SS.gamma((i+1))*np.power(p,r)*np.power((1-p),i)\n",
    "    weights[i] = temp1"
   ]
  },
  {
   "cell_type": "code",
   "execution_count": 59,
   "id": "cfdd535d",
   "metadata": {},
   "outputs": [
    {
     "name": "stdout",
     "output_type": "stream",
     "text": [
      "it covers 99.99999999999999 % of the values\n",
      "1.1102230246251566e-18 compare with the last prob 4.946889715640957e-93\n"
     ]
    }
   ],
   "source": [
    "print('it covers', np.sum(weights)*100,'% of the values') ## to generate the sample, the sum up probe should be 1\n",
    "## we can assign/compare the rest of prob to each one\n",
    "prob_res = (1- np.sum(weights))/x_cutoff\n",
    "print (prob_res, 'compare with the last prob', weights[-1])\n",
    "## normalise the weights to 1\n",
    "weights_n = weights/np.sum(weights)"
   ]
  },
  {
   "cell_type": "code",
   "execution_count": null,
   "id": "6f85d590",
   "metadata": {},
   "outputs": [],
   "source": [
    "Z = 3 # latent period\n",
    "Zb = 1 # scale parameter for Z\n",
    "D = 5 # infectious period\n",
    "Db = 1 # scale parameter for b\n",
    "alpha = 0.1 # reporting rate 10%"
   ]
  },
  {
   "cell_type": "code",
   "execution_count": 109,
   "id": "7132b33a",
   "metadata": {},
   "outputs": [],
   "source": [
    "def superspreading_T_Loc(T,num_fips,initials,weights_n,pop,paras,WN):\n",
    "    Z, Zb, D, Db = paras\n",
    "    ## initialise \n",
    "    l0, i0 = initials\n",
    "    \n",
    "    NewInf = np.zeros((num_fips,T*2))\n",
    "    TotInf = np.zeros((num_fips,T*2))\n",
    "    \n",
    "    NewInf[l0,0] = i0\n",
    "    TotInf[:,0] = NewInf[:,0]\n",
    "    ### for each time step and each location\n",
    "    for ti in range(T):\n",
    "        for l in range(num_fips):\n",
    "            infectors = int(NewInf[l,ti])\n",
    "            ### the number of possible new infections the size = 100 can infect individually from the NB \n",
    "            z_all = np.random.choice(len(weights_n), size = infectors, p=weights_n) ## this is a vector\n",
    "            ### however, the populations have immunited people, the number will decrease i did not agree with this part \n",
    "            ## as the infection happens inside the location of the infectious people, for immunity is the pop of the \n",
    "            z_immunity = np.round(z_all*(1-TotInf[l,ti]/pop[l]))\n",
    "        #     print(z_all)\n",
    "        #     print(z_immunity)\n",
    "        #     print('*^_^*')\n",
    "            NF_l = np.zeros((2,len(z_immunity)),dtype=np.int64)\n",
    "            ## for the time distribution\n",
    "            latency_p = SSA.gamma.rvs(a = Z,scale=Zb,size = len(z_immunity))\n",
    "            infectious_p = SSA.gamma.rvs(a = D,scale=Db,size = len(z_immunity))\n",
    "            v = np.random.random_sample(len(z_immunity))\n",
    "            delay_days = latency_p+v*infectious_p\n",
    "\n",
    "            NF_l[0,:] = np.ceil(delay_days+ti) ## make it idx int\n",
    "            ## for the location distribution\n",
    "            loc_idx = np.random.choice(np.arange(num_fips), size = len(z_immunity), p=WN[:,l])\n",
    "            NF_l[1,:] = loc_idx\n",
    "\n",
    "            ## infections merge into the matrix\n",
    "            NewInf_l = np.zeros_like(NewInf)\n",
    "            for i in range(len(z_immunity)):\n",
    "                t_i, loc_i = NF_l[:,i]\n",
    "                NewInf_l[loc_i,t_i] = NewInf_l[loc_i,t_i]+1\n",
    "            NewInf = NewInf + NewInf_l\n",
    "            TotInf = np.cumsum(NewInf,axis=1)\n",
    "    return NewInf, TotInf"
   ]
  },
  {
   "cell_type": "code",
   "execution_count": 110,
   "id": "3de5ccc3",
   "metadata": {},
   "outputs": [],
   "source": [
    "NewInf, TotInf = superspreading_T_Loc(10,3,(2,1),weights_n,pop,(3,1,5,1),WN)"
   ]
  },
  {
   "cell_type": "code",
   "execution_count": null,
   "id": "93ee7d8f",
   "metadata": {},
   "outputs": [],
   "source": []
  }
 ],
 "metadata": {
  "kernelspec": {
   "display_name": "Python 3 (ipykernel)",
   "language": "python",
   "name": "python3"
  },
  "language_info": {
   "codemirror_mode": {
    "name": "ipython",
    "version": 3
   },
   "file_extension": ".py",
   "mimetype": "text/x-python",
   "name": "python",
   "nbconvert_exporter": "python",
   "pygments_lexer": "ipython3",
   "version": "3.9.7"
  }
 },
 "nbformat": 4,
 "nbformat_minor": 5
}
