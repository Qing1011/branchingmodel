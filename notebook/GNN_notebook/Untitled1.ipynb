{
 "cells": [
  {
   "cell_type": "code",
   "execution_count": 71,
   "id": "76201d9a",
   "metadata": {},
   "outputs": [],
   "source": [
    "import torch\n",
    "import torch_geometric\n",
    "from torch_geometric.data import Data\n",
    "import numpy as np\n",
    "import networkx as nx\n",
    "from torch_geometric.nn import MessagePassing\n",
    "from torch_geometric.utils import add_self_loops, degree\n",
    "import matplotlib.pyplot as plt\n",
    "import scipy.special as SS\n",
    "import scipy.stats as SSA\n",
    "import torch.nn.functional as F"
   ]
  },
  {
   "cell_type": "code",
   "execution_count": 57,
   "id": "c0d9faee",
   "metadata": {},
   "outputs": [],
   "source": [
    "A = np.array([[0.25 , 0.25, 0.4, 0.1 ],\n",
    "        [0.25, 0.75 , 0. , 0. ],\n",
    "        [0.4, 0. , 0.55 , 0.05],\n",
    "        [0.1 , 0 , 0.05, 0.85 ]])"
   ]
  },
  {
   "cell_type": "code",
   "execution_count": 59,
   "id": "e1f06b40",
   "metadata": {},
   "outputs": [],
   "source": [
    "g = nx.from_numpy_array(A)\n",
    "data = torch_geometric.utils.from_networkx(g)\n",
    "R0 = 2.5\n",
    "# self.r = r ## to be estimated\n",
    "r = torch.nn.Parameter(torch.tensor([0.1]))\n",
    "p = r/(R0+r)\n",
    "p_prime = 1 - p ## depends on R0\n",
    "\n",
    "max_time_step = 5 ### probably i do not need it。\n",
    "Z = 3 # latent period\n",
    "Zb = 1 # scale parameter for Z\n",
    "D = 5 # infectious period\n",
    "Db = 1 # scale parameter for beta\n",
    "# self.weight = torch.Tensor(weight)\n",
    "offspring = []\n",
    "\n",
    "x = torch.tensor(np.zeros((4,14)))## initials\n",
    "x[1,0] = 8\n",
    "x[2,1] = 5\n",
    "x[3,5] = 10\n",
    "population = pop = torch.tensor(np.array([10000]*4))\n",
    "total_infection = torch.tensor(np.array([10,10,10,2])) ### using the real data"
   ]
  },
  {
   "cell_type": "code",
   "execution_count": 41,
   "id": "568a9a7d",
   "metadata": {},
   "outputs": [],
   "source": [
    "z_num = 1000000\n",
    "latency_p = SSA.gamma.rvs(a=Z, scale=Zb, size=z_num)\n",
    "infectious_p = SSA.gamma.rvs(a=D, scale=Db, size=z_num)\n",
    "v = np.random.random(z_num)\n",
    "delay_days = latency_p+v*infectious_p  # 3+5*0.5\n",
    "### two weeks back to the past"
   ]
  },
  {
   "cell_type": "code",
   "execution_count": 130,
   "id": "46b6e523",
   "metadata": {},
   "outputs": [
    {
     "name": "stdout",
     "output_type": "stream",
     "text": [
      "0 tensor(2.5230)\n",
      "0 tensor(12.3609)\n",
      "0 tensor(3.5490)\n",
      "0 tensor(10.6438)\n",
      "0 tensor(8.5996)\n",
      "0 tensor(4.6597)\n",
      "0 tensor(1.2012)\n",
      "0 tensor(4.2412)\n",
      "0 tensor(9.4676)\n",
      "0 tensor(3.3354)\n",
      "0 tensor(7.6250)\n",
      "0 tensor(1.3635)\n",
      "0 tensor(1.4792)\n",
      "0 tensor(3.4435)\n",
      "0 tensor(3.7236)\n",
      "0 tensor(8.0827)\n",
      "0 tensor(4.0163)\n",
      "1 tensor(2.2201)\n",
      "1 tensor(12.4158)\n",
      "1 tensor(3.3944)\n",
      "1 tensor(7.0561)\n",
      "1 tensor(6.2439)\n",
      "1 tensor(6.7322)\n",
      "1 tensor(5.5401)\n",
      "1 tensor(8.7803)\n",
      "1 tensor(4.9264)\n",
      "1 tensor(4.6999)\n",
      "2 tensor(5.7611)\n",
      "3 tensor(5.8678)\n",
      "4 tensor(5.1355)\n",
      "5 tensor(4.3139)\n",
      "5 tensor(6.0825)\n",
      "5 tensor(3.1200)\n",
      "5 tensor(10.4837)\n",
      "5 tensor(4.9924)\n",
      "5 tensor(1.3521)\n",
      "5 tensor(3.3610)\n",
      "5 tensor(8.9523)\n",
      "5 tensor(0.9444)\n",
      "5 tensor(3.2114)\n",
      "5 tensor(2.3849)\n",
      "5 tensor(8.1534)\n",
      "5 tensor(5.8184)\n",
      "5 tensor(12.0369)\n",
      "5 tensor(8.7426)\n",
      "5 tensor(2.8049)\n",
      "5 tensor(5.6131)\n",
      "5 tensor(4.0394)\n",
      "5 tensor(9.5898)\n",
      "5 tensor(5.7604)\n",
      "5 tensor(10.2747)\n",
      "6 tensor(2.6483)\n",
      "7 tensor(6.7478)\n",
      "8 tensor(11.3939)\n",
      "9 tensor(8.9851)\n",
      "10 tensor(13.3437)\n",
      "11 tensor(3.0602)\n",
      "12 tensor(3.2915)\n",
      "13 tensor(4.0247)\n"
     ]
    }
   ],
   "source": [
    "back_time = 14\n",
    "y = torch.tensor(np.zeros(4))\n",
    "for step in range(back_time):\n",
    "    new_infectors = x[:, step]\n",
    "    temp = new_infectors.round().int()\n",
    "    cases = temp.squeeze().tolist() ##case' indx is the node index\n",
    "\n",
    "    results = torch.zeros_like(new_infectors)\n",
    "    # print(new_infectors)\n",
    "    source_nodes, target_nodes = data.edge_index\n",
    "    messages = torch.zeros(data.num_nodes)\n",
    "    # Generate negative binomial for each size\n",
    "    for i, size in enumerate(cases): ###i is index for the edges\n",
    "        if size > 0:\n",
    "            offspring_per_case = torch.tensor([2]*size)\n",
    "#             torch.distributions.negative_binomial.NegativeBinomial(r,p_prime).sample(sample_shape=torch.Size([size]))\n",
    "            temp_sum = offspring_per_case.sum()\n",
    "        else:\n",
    "            temp_sum = 0\n",
    "        messages[i] = temp_sum\n",
    "    tt = torch.eye(4)\n",
    "    m_messages = torch.diag_embed(messages) + tt - torch.diag(torch.diag(tt))\n",
    "    # New code for sending messages based on edge weights the propograt can be here\n",
    "#     for i, num_messages in enumerate(results):\n",
    "#         for _ in range(int(num_messages)):\n",
    "#             # For each message, choose a target node based on the edge probabilities\n",
    "#             possible_targets = target_nodes[source_nodes == i]\n",
    "#             target_probabilities = edge_attr[source_nodes == i]\n",
    "#             chosen_target = torch.multinomial(target_probabilities, 1).item()\n",
    "#             target_idx = (source_nodes == i) & (target_nodes == possible_targets[chosen_target])\n",
    "#             messages[target_idx] += 1\n",
    "    \n",
    "    new_infections = m_messages@nx.adjacency_matrix(g).todense()\n",
    "    population = pop\n",
    "    rate = (population - total_infection) / population # Compute the rate. total_infection is an input\n",
    "    rate[rate<0] = 0\n",
    "\n",
    "    new_effective_infections = new_infections*rate\n",
    "    new_infections_int  = new_effective_infections.round().int()\n",
    "    ### diffuse the new_infections to different times\n",
    "    inf_sizes = new_infections_int.squeeze().tolist()\n",
    "    for i, inf_size_i in enumerate(inf_sizes):\n",
    "        gamma_dist1 = torch.distributions.Gamma(Z, 1/Zb)\n",
    "        gamma_dist2 = torch.distributions.Gamma(D, 1/Db)\n",
    "        sizes = np.sum(inf_size_i)\n",
    "        latency_p = gamma_dist1.rsample(sample_shape=torch.Size([sizes]))\n",
    "        infectious_p = gamma_dist2.rsample(sample_shape=torch.Size([sizes]))\n",
    "        v = torch.rand(sizes)\n",
    "        delay_days = latency_p + v * infectious_p\n",
    "#             print(step, delay_days)\n",
    "        for j,delay_t in enumerate(delay_days):\n",
    "            t_j = (step+delay_t).ceil().int()\n",
    "            print(step, delay_t)\n",
    "            if t_j == back_time: #### only record the infection at the time we are interested in\n",
    "                y[i] = y[i] + 1"
   ]
  },
  {
   "cell_type": "code",
   "execution_count": 131,
   "id": "dfb3dd29",
   "metadata": {},
   "outputs": [
    {
     "data": {
      "text/plain": [
       "tensor([0., 1., 1., 3.], dtype=torch.float64)"
      ]
     },
     "execution_count": 131,
     "metadata": {},
     "output_type": "execute_result"
    }
   ],
   "source": [
    "y"
   ]
  },
  {
   "cell_type": "code",
   "execution_count": null,
   "id": "105166b0",
   "metadata": {},
   "outputs": [],
   "source": []
  }
 ],
 "metadata": {
  "kernelspec": {
   "display_name": "gnn",
   "language": "python",
   "name": "gnn"
  },
  "language_info": {
   "codemirror_mode": {
    "name": "ipython",
    "version": 3
   },
   "file_extension": ".py",
   "mimetype": "text/x-python",
   "name": "python",
   "nbconvert_exporter": "python",
   "pygments_lexer": "ipython3",
   "version": "3.11.4"
  }
 },
 "nbformat": 4,
 "nbformat_minor": 5
}
