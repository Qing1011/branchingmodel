{
 "cells": [
  {
   "cell_type": "code",
   "execution_count": 1,
   "id": "76c15771",
   "metadata": {},
   "outputs": [],
   "source": [
    "import torch\n",
    "from torch_geometric.data import Data\n",
    "import numpy as np\n",
    "import networkx as nx\n",
    "from torch_geometric.nn import MessagePassing\n",
    "from torch_geometric.utils import add_self_loops, degree\n",
    "import matplotlib.pyplot as plt\n",
    "import scipy.special as SS\n",
    "import scipy.stats as SSA"
   ]
  },
  {
   "cell_type": "code",
   "execution_count": 2,
   "id": "59f0967c",
   "metadata": {},
   "outputs": [
    {
     "ename": "FileNotFoundError",
     "evalue": "W_avg.csv not found.",
     "output_type": "error",
     "traceback": [
      "\u001b[0;31m---------------------------------------------------------------------------\u001b[0m",
      "\u001b[0;31mFileNotFoundError\u001b[0m                         Traceback (most recent call last)",
      "Cell \u001b[0;32mIn[2], line 1\u001b[0m\n\u001b[0;32m----> 1\u001b[0m WN \u001b[38;5;241m=\u001b[39m np\u001b[38;5;241m.\u001b[39mloadtxt(\u001b[38;5;124m'\u001b[39m\u001b[38;5;124mW_avg.csv\u001b[39m\u001b[38;5;124m'\u001b[39m)\n\u001b[1;32m      2\u001b[0m pop \u001b[38;5;241m=\u001b[39m np\u001b[38;5;241m.\u001b[39mloadtxt(\u001b[38;5;124m'\u001b[39m\u001b[38;5;124mpop_new.csv\u001b[39m\u001b[38;5;124m'\u001b[39m)\n",
      "File \u001b[0;32m~/anaconda3/envs/gnn/lib/python3.11/site-packages/numpy/lib/npyio.py:1373\u001b[0m, in \u001b[0;36mloadtxt\u001b[0;34m(fname, dtype, comments, delimiter, converters, skiprows, usecols, unpack, ndmin, encoding, max_rows, quotechar, like)\u001b[0m\n\u001b[1;32m   1370\u001b[0m \u001b[38;5;28;01mif\u001b[39;00m \u001b[38;5;28misinstance\u001b[39m(delimiter, \u001b[38;5;28mbytes\u001b[39m):\n\u001b[1;32m   1371\u001b[0m     delimiter \u001b[38;5;241m=\u001b[39m delimiter\u001b[38;5;241m.\u001b[39mdecode(\u001b[38;5;124m'\u001b[39m\u001b[38;5;124mlatin1\u001b[39m\u001b[38;5;124m'\u001b[39m)\n\u001b[0;32m-> 1373\u001b[0m arr \u001b[38;5;241m=\u001b[39m _read(fname, dtype\u001b[38;5;241m=\u001b[39mdtype, comment\u001b[38;5;241m=\u001b[39mcomment, delimiter\u001b[38;5;241m=\u001b[39mdelimiter,\n\u001b[1;32m   1374\u001b[0m             converters\u001b[38;5;241m=\u001b[39mconverters, skiplines\u001b[38;5;241m=\u001b[39mskiprows, usecols\u001b[38;5;241m=\u001b[39musecols,\n\u001b[1;32m   1375\u001b[0m             unpack\u001b[38;5;241m=\u001b[39munpack, ndmin\u001b[38;5;241m=\u001b[39mndmin, encoding\u001b[38;5;241m=\u001b[39mencoding,\n\u001b[1;32m   1376\u001b[0m             max_rows\u001b[38;5;241m=\u001b[39mmax_rows, quote\u001b[38;5;241m=\u001b[39mquotechar)\n\u001b[1;32m   1378\u001b[0m \u001b[38;5;28;01mreturn\u001b[39;00m arr\n",
      "File \u001b[0;32m~/anaconda3/envs/gnn/lib/python3.11/site-packages/numpy/lib/npyio.py:992\u001b[0m, in \u001b[0;36m_read\u001b[0;34m(fname, delimiter, comment, quote, imaginary_unit, usecols, skiplines, max_rows, converters, ndmin, unpack, dtype, encoding)\u001b[0m\n\u001b[1;32m    990\u001b[0m     fname \u001b[38;5;241m=\u001b[39m os\u001b[38;5;241m.\u001b[39mfspath(fname)\n\u001b[1;32m    991\u001b[0m \u001b[38;5;28;01mif\u001b[39;00m \u001b[38;5;28misinstance\u001b[39m(fname, \u001b[38;5;28mstr\u001b[39m):\n\u001b[0;32m--> 992\u001b[0m     fh \u001b[38;5;241m=\u001b[39m np\u001b[38;5;241m.\u001b[39mlib\u001b[38;5;241m.\u001b[39m_datasource\u001b[38;5;241m.\u001b[39mopen(fname, \u001b[38;5;124m'\u001b[39m\u001b[38;5;124mrt\u001b[39m\u001b[38;5;124m'\u001b[39m, encoding\u001b[38;5;241m=\u001b[39mencoding)\n\u001b[1;32m    993\u001b[0m     \u001b[38;5;28;01mif\u001b[39;00m encoding \u001b[38;5;129;01mis\u001b[39;00m \u001b[38;5;28;01mNone\u001b[39;00m:\n\u001b[1;32m    994\u001b[0m         encoding \u001b[38;5;241m=\u001b[39m \u001b[38;5;28mgetattr\u001b[39m(fh, \u001b[38;5;124m'\u001b[39m\u001b[38;5;124mencoding\u001b[39m\u001b[38;5;124m'\u001b[39m, \u001b[38;5;124m'\u001b[39m\u001b[38;5;124mlatin1\u001b[39m\u001b[38;5;124m'\u001b[39m)\n",
      "File \u001b[0;32m~/anaconda3/envs/gnn/lib/python3.11/site-packages/numpy/lib/_datasource.py:193\u001b[0m, in \u001b[0;36mopen\u001b[0;34m(path, mode, destpath, encoding, newline)\u001b[0m\n\u001b[1;32m    156\u001b[0m \u001b[38;5;250m\u001b[39m\u001b[38;5;124;03m\"\"\"\u001b[39;00m\n\u001b[1;32m    157\u001b[0m \u001b[38;5;124;03mOpen `path` with `mode` and return the file object.\u001b[39;00m\n\u001b[1;32m    158\u001b[0m \n\u001b[0;32m   (...)\u001b[0m\n\u001b[1;32m    189\u001b[0m \n\u001b[1;32m    190\u001b[0m \u001b[38;5;124;03m\"\"\"\u001b[39;00m\n\u001b[1;32m    192\u001b[0m ds \u001b[38;5;241m=\u001b[39m DataSource(destpath)\n\u001b[0;32m--> 193\u001b[0m \u001b[38;5;28;01mreturn\u001b[39;00m ds\u001b[38;5;241m.\u001b[39mopen(path, mode, encoding\u001b[38;5;241m=\u001b[39mencoding, newline\u001b[38;5;241m=\u001b[39mnewline)\n",
      "File \u001b[0;32m~/anaconda3/envs/gnn/lib/python3.11/site-packages/numpy/lib/_datasource.py:533\u001b[0m, in \u001b[0;36mDataSource.open\u001b[0;34m(self, path, mode, encoding, newline)\u001b[0m\n\u001b[1;32m    530\u001b[0m     \u001b[38;5;28;01mreturn\u001b[39;00m _file_openers[ext](found, mode\u001b[38;5;241m=\u001b[39mmode,\n\u001b[1;32m    531\u001b[0m                               encoding\u001b[38;5;241m=\u001b[39mencoding, newline\u001b[38;5;241m=\u001b[39mnewline)\n\u001b[1;32m    532\u001b[0m \u001b[38;5;28;01melse\u001b[39;00m:\n\u001b[0;32m--> 533\u001b[0m     \u001b[38;5;28;01mraise\u001b[39;00m \u001b[38;5;167;01mFileNotFoundError\u001b[39;00m(\u001b[38;5;124mf\u001b[39m\u001b[38;5;124m\"\u001b[39m\u001b[38;5;132;01m{\u001b[39;00mpath\u001b[38;5;132;01m}\u001b[39;00m\u001b[38;5;124m not found.\u001b[39m\u001b[38;5;124m\"\u001b[39m)\n",
      "\u001b[0;31mFileNotFoundError\u001b[0m: W_avg.csv not found."
     ]
    }
   ],
   "source": [
    "WN = np.loadtxt('W_avg.csv')\n",
    "pop = np.loadtxt('pop_new.csv')"
   ]
  },
  {
   "cell_type": "code",
   "execution_count": 3,
   "id": "52685e69",
   "metadata": {},
   "outputs": [
    {
     "data": {
      "text/plain": [
       "(3142, 3142)"
      ]
     },
     "execution_count": 3,
     "metadata": {},
     "output_type": "execute_result"
    }
   ],
   "source": [
    "WN.shape"
   ]
  },
  {
   "cell_type": "code",
   "execution_count": 4,
   "id": "3046c664",
   "metadata": {},
   "outputs": [],
   "source": [
    "# create a graph\n",
    "A = np.array([[0.25 , 0.25, 0.4, 0.1 ],\n",
    "        [0.25, 0.75 , 0. , 0. ],\n",
    "        [0.4, 0. , 0.55 , 0.05],\n",
    "        [0.1 , 0 , 0.05, 0.85 ]])\n",
    "# adjacency_matrix = torch.tensor(WN)\n",
    "adjacency_matrix = torch.tensor(A)\n",
    "# Get the indices where the adjacency matrix has a non-zero value\n",
    "edge_index = torch.nonzero(adjacency_matrix, as_tuple=False).t()\n",
    "\n",
    "# If your adjacency matrix has edge weights, you can get them like this:\n",
    "edge_weight = adjacency_matrix[edge_index[0], edge_index[1]]"
   ]
  },
  {
   "cell_type": "code",
   "execution_count": 8,
   "id": "80650951",
   "metadata": {},
   "outputs": [],
   "source": [
    "class EpidemicSimulator(MessagePassing):\n",
    "    def __init__(self, r, p, weight, max_time_step):\n",
    "        super(EpidemicSimulator, self).__init__(aggr='add')\n",
    "        self.r = r\n",
    "#         self.p = p\n",
    "        self.p_prime = 1-p\n",
    "        self.max_time_step = max_time_step\n",
    "        self.Z = 3 # latent period\n",
    "        self.Zb = 1 # scale parameter for Z\n",
    "        self.D = 5 # infectious period\n",
    "        self.Db = 1 # scale parameter for beta\n",
    "        self.weight = torch.Tensor(weight)\n",
    "        self.offspring = []\n",
    "    \n",
    "    def forward(self, x, edge_index, edge_attr, step):\n",
    "        return self.propagate(edge_index, size=(x.size(0), x.size(0)), x=x, edge_attr=edge_attr, step=step)\n",
    "\n",
    "    def message(self, x_j, edge_index, edge_attr, step):\n",
    "        # x_j has shape [E, num_features]\n",
    "        # edge_attr has shape [E, num_edge_features]\n",
    "        # Get the new infections from x_j.\n",
    "        new_infectors = x_j[:, 2+step:3+step]  # the infectors at time ti\n",
    "        temp = new_infectors.round().int()\n",
    "        cases = temp.squeeze().tolist()\n",
    "        # Initialize an empty tensor to store the results\n",
    "        results = torch.zeros_like(new_infectors)\n",
    "        # Generate negative binomial for each size\n",
    "        for i, size in enumerate(cases):\n",
    "            if size > 0:\n",
    "                offspring_per_case = torch.distributions.Categorical(\n",
    "                    self.weight).sample(sample_shape=torch.Size([size]))\n",
    "                self.offspring.extend(offspring_per_case.tolist())\n",
    "                temp_sum = offspring_per_case.sum()\n",
    "            else:\n",
    "                temp_sum = 0\n",
    "\n",
    "            results[i] = temp_sum\n",
    "\n",
    "        # New code for sending messages based on edge weights\n",
    "        source_nodes, target_nodes = edge_index\n",
    "        edge_weights_normalized = torch.nn.functional.softmax(edge_attr, dim=0)  # Normalize the edge weights so they act as probabilities\n",
    "\n",
    "        messages = torch.zeros_like(edge_attr)\n",
    "\n",
    "        for i, num_messages in enumerate(results):\n",
    "            for _ in range(int(num_messages)):\n",
    "                # For each message, choose a target node based on the edge probabilities\n",
    "                possible_targets = target_nodes[source_nodes == i]\n",
    "                target_probabilities = edge_weights_normalized[source_nodes == i]\n",
    "\n",
    "                if len(possible_targets) == 1:\n",
    "                    chosen_target = torch.tensor([0], device=target_probabilities.device)\n",
    "                else:\n",
    "                    chosen_target = torch.multinomial(target_probabilities, 1)\n",
    "\n",
    "                target_idx = (source_nodes == i) & (target_nodes == possible_targets[chosen_target])\n",
    "                messages[target_idx] += 1\n",
    "\n",
    "        return messages\n",
    "\n",
    "\n",
    "    def update(self, aggr_out, x, step):\n",
    "        # x has shape [N, num_features], it is the original node features\n",
    "        # The new infections are the aggregated messages.\n",
    "        new_infections = aggr_out # aggr_out has shape [N, 1], it contains the updated infections\n",
    "        #### Add the effective infections to the column corresponding to the current step.####\n",
    "        ## immu first\n",
    "        population = x[:, 1:2]\n",
    "        total_infection = torch.sum(x[:, 2:3+step], dim=1,keepdim=True) \n",
    "        rate = (population - total_infection) / population # Compute the rate.\n",
    "        rate[rate<0] = 0\n",
    "        \n",
    "        new_effective_infections = new_infections*rate\n",
    "        new_infections_int  = new_effective_infections.round().int()\n",
    "        ### diffuse the new_infections to different times \n",
    "        inf_sizes = new_infections_int.squeeze().tolist()\n",
    "        for i, inf_size_i in enumerate(inf_sizes):\n",
    "            gamma_dist1 = torch.distributions.Gamma(self.Z, 1/self.Zb)\n",
    "            gamma_dist2 = torch.distributions.Gamma(self.D, 1/self.Db)\n",
    "            latency_p = gamma_dist1.rsample(sample_shape=torch.Size([inf_size_i]))\n",
    "            infectious_p = gamma_dist2.rsample(sample_shape=torch.Size([inf_size_i]))\n",
    "            v = torch.rand(inf_size_i)\n",
    "            delay_days = latency_p + v * infectious_p\n",
    "#             print(step, delay_days)\n",
    "            for j,delay_t in enumerate(delay_days):\n",
    "                t_j = (3+step+delay_t).ceil().int()\n",
    "                if t_j > self.max_time_step:\n",
    "                    pass\n",
    "                else:\n",
    "                    x[i,t_j] = x[i,t_j] + 1\n",
    "        ######^^^^^^#######\n",
    "        # The rest of the features remain the same.\n",
    "        other_features = x[:, 2:].clone()\n",
    "        # Concatenate the new infections, the population, and the other features to get the new node features.\n",
    "        x_new = torch.cat([new_infections.clone(), population, other_features], dim=1)\n",
    "        return x_new, self.offspring\n",
    "\n",
    "def simulate_dynamics(data, R0, r, num_steps,edge_index):\n",
    "#     p = r/(R0+r)  \n",
    "    p = r/(8+r)  \n",
    "    \n",
    "#     x_cutoff = 150\n",
    "#     weights = np.zeros(x_cutoff)\n",
    "#     for i in range(x_cutoff):\n",
    "#         temp1=SS.gamma(r+i)/(SS.gamma(r)*SS.gamma((i+1)))*np.power(p,r)*np.power((1-p),i)\n",
    "#         weights[i] = temp1\n",
    "#     weights_n = weights/np.sum(weights)\n",
    "    xx = np.arange(0,120,1)  # define the range of x values the cutoff is 200\n",
    "    pmf = SSA.nbinom.pmf(xx, r, p)  # calculate the probability mass function\n",
    "    weights_n = pmf/np.sum(pmf)\n",
    "#     cpp_results = np.loadtxt('ss_100_n.txt') ## 300\n",
    "#     cpp_results_n = cpp_results/np.sum(cpp_results)\n",
    "    simulator = EpidemicSimulator(r,p, weights_n, max_time_step=61)\n",
    "    x = data.x\n",
    "    for ti in range(num_steps):\n",
    "        x,newcases = simulator(x, edge_index, data.edge_attr, ti)\n",
    "    return x, newcases"
   ]
  },
  {
   "cell_type": "code",
   "execution_count": null,
   "id": "b373160e",
   "metadata": {},
   "outputs": [],
   "source": [
    "%run ../codes/branching_gnn.py"
   ]
  },
  {
   "cell_type": "markdown",
   "id": "a9cc678f",
   "metadata": {},
   "source": [
    "## test R0=2.5"
   ]
  },
  {
   "cell_type": "code",
   "execution_count": null,
   "id": "e87fa033",
   "metadata": {},
   "outputs": [],
   "source": [
    "rs = np.array([20.0, 10.0, 5.0, 2.0, 1.0, 0.5, 0.2, 0.1, 0.05, 0.025]) "
   ]
  },
  {
   "cell_type": "code",
   "execution_count": null,
   "id": "d7d77880",
   "metadata": {},
   "outputs": [],
   "source": [
    "pop = np.array([1000]*4)## populations"
   ]
  },
  {
   "cell_type": "code",
   "execution_count": 9,
   "id": "900082bf",
   "metadata": {},
   "outputs": [],
   "source": [
    "num_fips = len(pop)\n",
    "T = 60\n",
    "l0 = 1859-1 # start with New York County NY in python -1, in matlab is 1859\n",
    "E_mean_county = np.zeros((9,60))\n",
    "E_std_county = np.zeros((9,60))\n",
    "En_NewInf = np.zeros((300,num_fips,T))"
   ]
  },
  {
   "cell_type": "code",
   "execution_count": 10,
   "id": "a3eb51b4",
   "metadata": {},
   "outputs": [
    {
     "name": "stdout",
     "output_type": "stream",
     "text": [
      "0\n"
     ]
    },
    {
     "ename": "RuntimeError",
     "evalue": "cannot sample n_sample > prob_dist.size(-1) samples without replacement",
     "output_type": "error",
     "traceback": [
      "\u001b[0;31m---------------------------------------------------------------------------\u001b[0m",
      "\u001b[0;31mRuntimeError\u001b[0m                              Traceback (most recent call last)",
      "Cell \u001b[0;32mIn[10], line 18\u001b[0m\n\u001b[1;32m     15\u001b[0m edge_weight \u001b[38;5;241m=\u001b[39m adjacency_matrix[edge_index[\u001b[38;5;241m0\u001b[39m], edge_index[\u001b[38;5;241m1\u001b[39m]]\n\u001b[1;32m     17\u001b[0m data \u001b[38;5;241m=\u001b[39m Data(x\u001b[38;5;241m=\u001b[39mxx, edge_index\u001b[38;5;241m=\u001b[39medge_index, edge_attr\u001b[38;5;241m=\u001b[39medge_weight)\n\u001b[0;32m---> 18\u001b[0m NewInf_i, newcases \u001b[38;5;241m=\u001b[39m simulate_dynamics(data, R0\u001b[38;5;241m=\u001b[39m\u001b[38;5;241m2.5\u001b[39m, r\u001b[38;5;241m=\u001b[39m\u001b[38;5;241m2.0\u001b[39m, num_steps\u001b[38;5;241m=\u001b[39mT, edge_index\u001b[38;5;241m=\u001b[39medge_index)\n\u001b[1;32m     19\u001b[0m En_NewInf[e_i,:,:] \u001b[38;5;241m=\u001b[39m NewInf_i[:,\u001b[38;5;241m2\u001b[39m:]\n",
      "Cell \u001b[0;32mIn[8], line 116\u001b[0m, in \u001b[0;36msimulate_dynamics\u001b[0;34m(data, R0, r, num_steps, edge_index)\u001b[0m\n\u001b[1;32m    114\u001b[0m x \u001b[38;5;241m=\u001b[39m data\u001b[38;5;241m.\u001b[39mx\n\u001b[1;32m    115\u001b[0m \u001b[38;5;28;01mfor\u001b[39;00m ti \u001b[38;5;129;01min\u001b[39;00m \u001b[38;5;28mrange\u001b[39m(num_steps):\n\u001b[0;32m--> 116\u001b[0m     x,newcases \u001b[38;5;241m=\u001b[39m simulator(x, edge_index, data\u001b[38;5;241m.\u001b[39medge_attr, ti)\n\u001b[1;32m    117\u001b[0m \u001b[38;5;28;01mreturn\u001b[39;00m x, newcases\n",
      "File \u001b[0;32m~/anaconda3/envs/gnn/lib/python3.11/site-packages/torch/nn/modules/module.py:1501\u001b[0m, in \u001b[0;36mModule._call_impl\u001b[0;34m(self, *args, **kwargs)\u001b[0m\n\u001b[1;32m   1496\u001b[0m \u001b[38;5;66;03m# If we don't have any hooks, we want to skip the rest of the logic in\u001b[39;00m\n\u001b[1;32m   1497\u001b[0m \u001b[38;5;66;03m# this function, and just call forward.\u001b[39;00m\n\u001b[1;32m   1498\u001b[0m \u001b[38;5;28;01mif\u001b[39;00m \u001b[38;5;129;01mnot\u001b[39;00m (\u001b[38;5;28mself\u001b[39m\u001b[38;5;241m.\u001b[39m_backward_hooks \u001b[38;5;129;01mor\u001b[39;00m \u001b[38;5;28mself\u001b[39m\u001b[38;5;241m.\u001b[39m_backward_pre_hooks \u001b[38;5;129;01mor\u001b[39;00m \u001b[38;5;28mself\u001b[39m\u001b[38;5;241m.\u001b[39m_forward_hooks \u001b[38;5;129;01mor\u001b[39;00m \u001b[38;5;28mself\u001b[39m\u001b[38;5;241m.\u001b[39m_forward_pre_hooks\n\u001b[1;32m   1499\u001b[0m         \u001b[38;5;129;01mor\u001b[39;00m _global_backward_pre_hooks \u001b[38;5;129;01mor\u001b[39;00m _global_backward_hooks\n\u001b[1;32m   1500\u001b[0m         \u001b[38;5;129;01mor\u001b[39;00m _global_forward_hooks \u001b[38;5;129;01mor\u001b[39;00m _global_forward_pre_hooks):\n\u001b[0;32m-> 1501\u001b[0m     \u001b[38;5;28;01mreturn\u001b[39;00m forward_call(\u001b[38;5;241m*\u001b[39margs, \u001b[38;5;241m*\u001b[39m\u001b[38;5;241m*\u001b[39mkwargs)\n\u001b[1;32m   1502\u001b[0m \u001b[38;5;66;03m# Do not call functions when jit is used\u001b[39;00m\n\u001b[1;32m   1503\u001b[0m full_backward_hooks, non_full_backward_hooks \u001b[38;5;241m=\u001b[39m [], []\n",
      "Cell \u001b[0;32mIn[8], line 16\u001b[0m, in \u001b[0;36mEpidemicSimulator.forward\u001b[0;34m(self, x, edge_index, edge_attr, step)\u001b[0m\n\u001b[1;32m     15\u001b[0m \u001b[38;5;28;01mdef\u001b[39;00m \u001b[38;5;21mforward\u001b[39m(\u001b[38;5;28mself\u001b[39m, x, edge_index, edge_attr, step):\n\u001b[0;32m---> 16\u001b[0m     \u001b[38;5;28;01mreturn\u001b[39;00m \u001b[38;5;28mself\u001b[39m\u001b[38;5;241m.\u001b[39mpropagate(edge_index, size\u001b[38;5;241m=\u001b[39m(x\u001b[38;5;241m.\u001b[39msize(\u001b[38;5;241m0\u001b[39m), x\u001b[38;5;241m.\u001b[39msize(\u001b[38;5;241m0\u001b[39m)), x\u001b[38;5;241m=\u001b[39mx, edge_attr\u001b[38;5;241m=\u001b[39medge_attr, step\u001b[38;5;241m=\u001b[39mstep)\n",
      "File \u001b[0;32m~/anaconda3/envs/gnn/lib/python3.11/site-packages/torch_geometric/nn/conv/message_passing.py:467\u001b[0m, in \u001b[0;36mMessagePassing.propagate\u001b[0;34m(self, edge_index, size, **kwargs)\u001b[0m\n\u001b[1;32m    465\u001b[0m     \u001b[38;5;28;01mif\u001b[39;00m res \u001b[38;5;129;01mis\u001b[39;00m \u001b[38;5;129;01mnot\u001b[39;00m \u001b[38;5;28;01mNone\u001b[39;00m:\n\u001b[1;32m    466\u001b[0m         msg_kwargs \u001b[38;5;241m=\u001b[39m res[\u001b[38;5;241m0\u001b[39m] \u001b[38;5;28;01mif\u001b[39;00m \u001b[38;5;28misinstance\u001b[39m(res, \u001b[38;5;28mtuple\u001b[39m) \u001b[38;5;28;01melse\u001b[39;00m res\n\u001b[0;32m--> 467\u001b[0m out \u001b[38;5;241m=\u001b[39m \u001b[38;5;28mself\u001b[39m\u001b[38;5;241m.\u001b[39mmessage(\u001b[38;5;241m*\u001b[39m\u001b[38;5;241m*\u001b[39mmsg_kwargs)\n\u001b[1;32m    468\u001b[0m \u001b[38;5;28;01mfor\u001b[39;00m hook \u001b[38;5;129;01min\u001b[39;00m \u001b[38;5;28mself\u001b[39m\u001b[38;5;241m.\u001b[39m_message_forward_hooks\u001b[38;5;241m.\u001b[39mvalues():\n\u001b[1;32m    469\u001b[0m     res \u001b[38;5;241m=\u001b[39m hook(\u001b[38;5;28mself\u001b[39m, (msg_kwargs, ), out)\n",
      "Cell \u001b[0;32mIn[8], line 54\u001b[0m, in \u001b[0;36mEpidemicSimulator.message\u001b[0;34m(self, x_j, edge_index, edge_attr, step)\u001b[0m\n\u001b[1;32m     52\u001b[0m     chosen_target \u001b[38;5;241m=\u001b[39m torch\u001b[38;5;241m.\u001b[39mtensor([\u001b[38;5;241m0\u001b[39m], device\u001b[38;5;241m=\u001b[39mtarget_probabilities\u001b[38;5;241m.\u001b[39mdevice)\n\u001b[1;32m     53\u001b[0m \u001b[38;5;28;01melse\u001b[39;00m:\n\u001b[0;32m---> 54\u001b[0m     chosen_target \u001b[38;5;241m=\u001b[39m torch\u001b[38;5;241m.\u001b[39mmultinomial(target_probabilities, \u001b[38;5;241m1\u001b[39m)\n\u001b[1;32m     56\u001b[0m target_idx \u001b[38;5;241m=\u001b[39m (source_nodes \u001b[38;5;241m==\u001b[39m i) \u001b[38;5;241m&\u001b[39m (target_nodes \u001b[38;5;241m==\u001b[39m possible_targets[chosen_target])\n\u001b[1;32m     57\u001b[0m messages[target_idx] \u001b[38;5;241m+\u001b[39m\u001b[38;5;241m=\u001b[39m \u001b[38;5;241m1\u001b[39m\n",
      "\u001b[0;31mRuntimeError\u001b[0m: cannot sample n_sample > prob_dist.size(-1) samples without replacement"
     ]
    }
   ],
   "source": [
    "for e_i in range(10):\n",
    "    print(e_i)\n",
    "    xx = np.zeros((num_fips,62)) # number of nodes, the columns of attributes\n",
    "    xx[:,1] = pop ## populations\n",
    "    ## col_2 is the new infections generated by the new infectors\n",
    "    xx[l0,2] = 100 ## the new infections at time 0 \n",
    "    # xx[0,2] = 10\n",
    "    # xx[2,0] = 100 ## the new infections initials\n",
    "    xx = torch.tensor(xx,dtype=torch.float)\n",
    "\n",
    "    adjacency_matrix = torch.tensor(WN)\n",
    "    # Get the indices where the adjacency matrix has a non-zero value\n",
    "    edge_index = torch.nonzero(adjacency_matrix, as_tuple=False).t()\n",
    "    # If your adjacency matrix has edge weights, you can get them like this:\n",
    "    edge_weight = adjacency_matrix[edge_index[0], edge_index[1]]\n",
    "\n",
    "    data = Data(x=xx, edge_index=edge_index, edge_attr=edge_weight)\n",
    "    NewInf_i, newcases = simulate_dynamics(data, R0=2.5, r=2.0, num_steps=T, edge_index=edge_index)\n",
    "    En_NewInf[e_i,:,:] = NewInf_i[:,2:]"
   ]
  },
  {
   "cell_type": "code",
   "execution_count": 153,
   "id": "cd918e3c",
   "metadata": {},
   "outputs": [
    {
     "data": {
      "text/plain": [
       "4"
      ]
     },
     "execution_count": 153,
     "metadata": {},
     "output_type": "execute_result"
    }
   ],
   "source": [
    "np.sum(np.array(newcases)>1000)"
   ]
  },
  {
   "cell_type": "code",
   "execution_count": 222,
   "id": "71c0cf31",
   "metadata": {},
   "outputs": [
    {
     "data": {
      "text/plain": [
       "2.4324986326240383"
      ]
     },
     "execution_count": 222,
     "metadata": {},
     "output_type": "execute_result"
    }
   ],
   "source": [
    "np.mean(newcases)"
   ]
  },
  {
   "cell_type": "code",
   "execution_count": 223,
   "id": "f06adb5a",
   "metadata": {},
   "outputs": [],
   "source": [
    "cc = np.array(En_NewInf[:10,:,:])\n",
    "# cc1 = np.array(test1)[:,2:]"
   ]
  },
  {
   "cell_type": "code",
   "execution_count": 224,
   "id": "6357a481",
   "metadata": {},
   "outputs": [
    {
     "data": {
      "text/plain": [
       "(10, 3142, 60)"
      ]
     },
     "execution_count": 224,
     "metadata": {},
     "output_type": "execute_result"
    }
   ],
   "source": [
    "cc.shape"
   ]
  },
  {
   "cell_type": "code",
   "execution_count": 225,
   "id": "918105a5",
   "metadata": {},
   "outputs": [],
   "source": [
    "ccc = cc/pop[None,:,None]*100000\n",
    "# ccc1 = cc1/pop[:,None]*100000"
   ]
  },
  {
   "cell_type": "code",
   "execution_count": 226,
   "id": "3bcea860",
   "metadata": {},
   "outputs": [],
   "source": [
    "dd  = np.sum(ccc[:,:,:60]>10,axis=1)\n",
    "# dd1  = np.sum(ccc1[:,:60]>10,axis=0)"
   ]
  },
  {
   "cell_type": "code",
   "execution_count": 227,
   "id": "6df3be5e",
   "metadata": {},
   "outputs": [
    {
     "data": {
      "text/plain": [
       "(10, 60)"
      ]
     },
     "execution_count": 227,
     "metadata": {},
     "output_type": "execute_result"
    }
   ],
   "source": [
    "dd.shape"
   ]
  },
  {
   "cell_type": "code",
   "execution_count": 228,
   "id": "10af7faa",
   "metadata": {},
   "outputs": [],
   "source": [
    "ddd = np.mean(dd,axis=0)"
   ]
  },
  {
   "cell_type": "code",
   "execution_count": 229,
   "id": "57c70d6e",
   "metadata": {},
   "outputs": [],
   "source": [
    "NewInf_ode = np.loadtxt('metapop_R025.csv')\n",
    "infec_perpop = NewInf_ode/pop[:,None]*100000\n",
    "county_ode = np.sum(infec_perpop>10,axis=0)"
   ]
  },
  {
   "cell_type": "code",
   "execution_count": 230,
   "id": "91cb17e0",
   "metadata": {},
   "outputs": [
    {
     "data": {
      "text/plain": [
       "array([49, 45, 41, 54, 46, 43, 43, 50, 53, 46])"
      ]
     },
     "execution_count": 230,
     "metadata": {},
     "output_type": "execute_result"
    }
   ],
   "source": [
    "dd[:,-1]"
   ]
  },
  {
   "cell_type": "code",
   "execution_count": 231,
   "id": "5ec35307",
   "metadata": {},
   "outputs": [
    {
     "data": {
      "text/plain": [
       "Text(0, 0.5, 'counties with daily infections per 100000>10')"
      ]
     },
     "execution_count": 231,
     "metadata": {},
     "output_type": "execute_result"
    },
    {
     "data": {
      "image/png": "[encoded data removed]",
      "text/plain": [
       "<Figure size 1000x600 with 1 Axes>"
      ]
     },
     "metadata": {},
     "output_type": "display_data"
    }
   ],
   "source": [
    "plt.figure(figsize=(10,6))\n",
    "plt.plot(ddd,label='r=mix',color='green')\n",
    "# plt.plot(dd1,label='r=0.025',color='green')\n",
    "plt.plot(county_ode,label='ode',color='gray')\n",
    "# plt.plot(county_mat_avg ,label='matlab_cutoff_300',color='red')\n",
    "plt.plot(county_mat_avg_100 ,label='matlab_cutoff_100',color='blue')\n",
    "plt.legend()\n",
    "plt.xlabel('day')\n",
    "plt.ylabel('counties with daily infections per 100000>10')"
   ]
  },
  {
   "cell_type": "code",
   "execution_count": null,
   "id": "213a38e0",
   "metadata": {},
   "outputs": [],
   "source": [
    "para_dict = np.load('para_dict.npy',allow_pickle=True)\n",
    "    ## set parameters\n",
    "para_dict[90]"
   ]
  },
  {
   "cell_type": "code",
   "execution_count": null,
   "id": "ac83b12f",
   "metadata": {},
   "outputs": [],
   "source": [
    "torch.Tensor([0.5]).round()"
   ]
  },
  {
   "cell_type": "code",
   "execution_count": 112,
   "id": "66d6dfae",
   "metadata": {},
   "outputs": [],
   "source": [
    "import scipy.io\n",
    "\n",
    "# Load the .mat file\n",
    "mat_data = scipy.io.loadmat('/Users/qingyao/OneDrive - cumc.columbia.edu/branchingmodel/SpatialSpread_simulation/NewInf_0025.mat')"
   ]
  },
  {
   "cell_type": "code",
   "execution_count": 113,
   "id": "990a849d",
   "metadata": {},
   "outputs": [
    {
     "data": {
      "text/plain": [
       "dict_keys(['__header__', '__version__', '__globals__', 'NewInf'])"
      ]
     },
     "execution_count": 113,
     "metadata": {},
     "output_type": "execute_result"
    }
   ],
   "source": [
    "mat_data.keys()"
   ]
  },
  {
   "cell_type": "code",
   "execution_count": 114,
   "id": "7de43380",
   "metadata": {},
   "outputs": [],
   "source": [
    "mat_newinf_100 = mat_data['NewInf']"
   ]
  },
  {
   "cell_type": "code",
   "execution_count": 115,
   "id": "126ee9ec",
   "metadata": {},
   "outputs": [],
   "source": [
    "mat_infec_perpop_100 = mat_newinf_100/pop[:,None,None]*100000"
   ]
  },
  {
   "cell_type": "code",
   "execution_count": 116,
   "id": "048ca69f",
   "metadata": {},
   "outputs": [],
   "source": [
    "county_mat_100 = np.sum(mat_infec_perpop_100>10,axis=0)"
   ]
  },
  {
   "cell_type": "code",
   "execution_count": 117,
   "id": "9377cd0e",
   "metadata": {},
   "outputs": [],
   "source": [
    "county_mat_avg_100 = np.mean(county_mat_100,axis=1)"
   ]
  },
  {
   "cell_type": "code",
   "execution_count": null,
   "id": "19e8d09e",
   "metadata": {},
   "outputs": [],
   "source": []
  }
 ],
 "metadata": {
  "kernelspec": {
   "display_name": "gnn",
   "language": "python",
   "name": "gnn"
  },
  "language_info": {
   "codemirror_mode": {
    "name": "ipython",
    "version": 3
   },
   "file_extension": ".py",
   "mimetype": "text/x-python",
   "name": "python",
   "nbconvert_exporter": "python",
   "pygments_lexer": "ipython3",
   "version": "3.11.4"
  }
 },
 "nbformat": 4,
 "nbformat_minor": 5
}
