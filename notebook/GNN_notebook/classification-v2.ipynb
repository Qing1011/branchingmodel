{
 "cells": [
  {
   "cell_type": "code",
   "execution_count": 1,
   "id": "045a21f9",
   "metadata": {},
   "outputs": [],
   "source": [
    "import torch\n",
    "from torch.nn import Linear\n",
    "from torch_geometric.nn import GCNConv, NNConv, global_mean_pool, TopKPooling\n",
    "from torch_geometric.nn.glob import GlobalAttention\n",
    "from torch_geometric.data import Data,DataLoader\n",
    "# from torch.utils.data import DataLoader, TensorDataset\n",
    "# from torch_geometric.loader import DataLoader\n",
    "import torch.nn.functional as F\n",
    "from torch_geometric.utils.convert import from_scipy_sparse_matrix\n",
    "from torch_geometric.utils.convert import from_networkx\n",
    "import torch.nn.functional as F\n",
    "from torch_geometric.nn import GCNConv, global_mean_pool, BatchNorm\n",
    "from torch_geometric.data import DataLoader\n",
    "from torch.optim.lr_scheduler import StepLR\n",
    "import random\n",
    "import numpy as np\n",
    "import matplotlib.pyplot as plt\n",
    "from scipy.io import loadmat, savemat\n",
    "import pandas as pd\n",
    "import scipy.special as SS\n",
    "import scipy.stats as SSA\n",
    "import copy\n",
    "import math\n",
    "from sklearn.model_selection import ParameterGrid\n",
    "import os\n",
    "import numpy.linalg as LA\n",
    "import gzip\n",
    "from torch_geometric.utils import add_self_loops\n",
    "\n",
    "from scipy import sparse\n",
    "\n",
    "# load pickle module\n",
    "import pickle\n",
    "import networkx as nx\n",
    "import torch.nn as nn\n",
    "\n",
    "from tqdm import tqdm "
   ]
  },
  {
   "cell_type": "code",
   "execution_count": 2,
   "id": "d594d72c",
   "metadata": {},
   "outputs": [],
   "source": [
    "R0 = 2.5\n",
    "rs = np.array([20, 10, 2.0, 1.0, 0.5, 0.2, 0.1, 0.05, 0.025, 5.   ,  2.5  , 13.333,  3.333,  1.333,  0.667,  0.286,  0.133,\n",
    "        0.067,  0.033, 0.37,7.4])"
   ]
  },
  {
   "cell_type": "code",
   "execution_count": 3,
   "id": "ba100251",
   "metadata": {},
   "outputs": [],
   "source": [
    "rs.sort()"
   ]
  },
  {
   "cell_type": "code",
   "execution_count": 4,
   "id": "382076f6",
   "metadata": {},
   "outputs": [
    {
     "data": {
      "text/plain": [
       "array([40.        , 30.3030303 , 20.        , 14.92537313, 10.        ,\n",
       "        7.51879699,  5.        ,  3.4965035 ,  2.7027027 ,  2.        ,\n",
       "        1.49925037,  1.        ,  0.75018755,  0.5       ,  0.4       ,\n",
       "        0.30003   ,  0.2       ,  0.13513514,  0.1       ,  0.07500188,\n",
       "        0.05      ])"
      ]
     },
     "execution_count": 4,
     "metadata": {},
     "output_type": "execute_result"
    }
   ],
   "source": [
    "1/rs"
   ]
  },
  {
   "cell_type": "code",
   "execution_count": 5,
   "id": "dd4b2abb",
   "metadata": {},
   "outputs": [
    {
     "data": {
      "text/plain": [
       "<matplotlib.lines.Line2D at 0x29e641510>"
      ]
     },
     "execution_count": 5,
     "metadata": {},
     "output_type": "execute_result"
    },
    {
     "data": {
      "image/png": "[encoded data removed]",
      "text/plain": [
       "<Figure size 640x480 with 1 Axes>"
      ]
     },
     "metadata": {},
     "output_type": "display_data"
    }
   ],
   "source": [
    "plt.scatter(rs,rs)\n",
    "plt.yscale('log')\n",
    "plt.xscale('log')\n",
    "# plt.axhline(5)\n",
    "# plt.axhline(0.5)\n",
    "# plt.axhline(0.1)\n",
    "plt.axvline(5)\n",
    "plt.axvline(0.5)\n",
    "plt.axvline(0.1)"
   ]
  },
  {
   "cell_type": "code",
   "execution_count": 6,
   "id": "d56b6878",
   "metadata": {},
   "outputs": [],
   "source": [
    "WN = np.loadtxt('../W_avg.csv') ### numpy arrary\n",
    "WN2 = np.dot(WN, WN)\n",
    "# prob = WN[:,1858]\n",
    "prob = WN2[:,1858]\n",
    "prob_2d = prob.reshape(-1,1)"
   ]
  },
  {
   "cell_type": "code",
   "execution_count": 7,
   "id": "e3fbbe1d",
   "metadata": {},
   "outputs": [],
   "source": [
    "g_s = nx.from_numpy_array(WN)\n",
    "edges = np.array(g_s.edges()).transpose()\n",
    "edge_index = torch.tensor(edges,dtype = torch.int64)\n",
    "# edge_weight = torch.tensor(WN[edge_index[0], edge_index[1]], dtype=torch.float)\n",
    "edge_weights = []\n",
    "for (u, v) in g_s.edges():\n",
    "    edge_weights.append([g_s[u][v]['weight']])\n",
    "edge_weights = torch.tensor(edge_weights, dtype=torch.float32)"
   ]
  },
  {
   "cell_type": "code",
   "execution_count": 8,
   "id": "6dc84482",
   "metadata": {},
   "outputs": [],
   "source": [
    "def load_gzipped_numpy(filename):\n",
    "    try:\n",
    "        with gzip.open(filename, 'rb') as f:\n",
    "            return np.load(f, allow_pickle=True)\n",
    "    except FileNotFoundError:\n",
    "        return [0]"
   ]
  },
  {
   "cell_type": "code",
   "execution_count": 9,
   "id": "e0d805fe",
   "metadata": {},
   "outputs": [],
   "source": [
    "r_class = {20:0, 10:0, 2.0:1, 1.0:1, 0.5:1, 0.2:2, 0.1:2, 0.05:3, 0.025:3, \n",
    "           5.0:1 ,  2.5:1  , 13.333:0,  3.333:1,  1.333:1,  0.667:1,  0.286:2,  0.133:2,\n",
    "        0.067:3,  0.033:3, 0.37:2,7.4:0}"
   ]
  },
  {
   "cell_type": "code",
   "execution_count": 10,
   "id": "6a0087b0",
   "metadata": {},
   "outputs": [
    {
     "name": "stdout",
     "output_type": "stream",
     "text": [
      "0.025 3\n",
      "0.033 3\n",
      "0.05 3\n",
      "0.067 3\n",
      "0.1 2\n",
      "0.133 2\n",
      "0.2 2\n",
      "0.286 2\n",
      "0.37 2\n",
      "0.5 1\n",
      "0.667 1\n",
      "1.0 1\n",
      "1.333 1\n",
      "2.0 1\n",
      "2.5 1\n",
      "3.333 1\n",
      "5.0 1\n",
      "7.4 0\n",
      "10.0 0\n",
      "13.333 0\n",
      "20.0 0\n"
     ]
    }
   ],
   "source": [
    "export_dir = '/Users/qingyao/Documents/branching_data/simulation/python_cutoff_addno/'\n",
    "#### data preparation\n",
    "dataset = []\n",
    "# r_class = {20:0, 10:0, 2.0:1, 1.0:1, 0.5:1, 0.2:2, 0.1:2, 0.05:3, 0.025:3}\n",
    "\n",
    "for r_idx in range(21):\n",
    "    r = rs[r_idx]\n",
    "    sub_export_dir = export_dir+'branching_R0-{}_r-{}/'.format(np.round(R0,2),np.round(r,3))\n",
    "    r_c = r_class[r]\n",
    "    print(r, r_c)\n",
    "    # Create a list to hold our Data objects\n",
    "    for g_idx in range(300):\n",
    "        export_names = sub_export_dir+'NewInf_R0-{}_r-{}_{}.npy.gz'.format(np.round(R0,2),np.round(r,3),(g_idx+1))\n",
    "        g_i = load_gzipped_numpy(export_names)\n",
    "#         g_i_new = np.hstack((g_i[:,10:], prob_2d))\n",
    "        g_i_new = g_i[:,10:]*prob_2d\n",
    "        matrix = torch.from_numpy(g_i_new)\n",
    "\n",
    "        y = torch.tensor([r_c], dtype=torch.long)\n",
    "        # Create a Data object for each graph\n",
    "        data = Data(x=matrix, edge_index=edge_index, edge_attr=edge_weights,y=y)\n",
    "        data.x = data.x.float()\n",
    "#         data.y = data.y.long()\n",
    "        # Add the Data object to our list\n",
    "        dataset.append(data)"
   ]
  },
  {
   "cell_type": "code",
   "execution_count": null,
   "id": "6f27ef22",
   "metadata": {},
   "outputs": [],
   "source": [
    "len(dataset)"
   ]
  },
  {
   "cell_type": "code",
   "execution_count": 11,
   "id": "b3079dd1",
   "metadata": {},
   "outputs": [],
   "source": [
    "from torch.utils.data import random_split\n",
    "all_data_len = len(dataset)\n",
    "train_data, test_data = random_split(dataset, [int(all_data_len*0.8), int(all_data_len*0.2)])"
   ]
  },
  {
   "cell_type": "code",
   "execution_count": 12,
   "id": "41143989",
   "metadata": {},
   "outputs": [
    {
     "name": "stderr",
     "output_type": "stream",
     "text": [
      "/Users/qingyao/anaconda3/envs/gnn/lib/python3.11/site-packages/torch_geometric/deprecation.py:22: UserWarning: 'data.DataLoader' is deprecated, use 'loader.DataLoader' instead\n",
      "  warnings.warn(out)\n",
      "Epoch: 001, Loss: 1.3537:   1%|▏               | 1/90 [00:54<1:20:08, 54.03s/it]"
     ]
    },
    {
     "name": "stdout",
     "output_type": "stream",
     "text": [
      "Epoch: 001, Loss: 1.35370\n"
     ]
    },
    {
     "name": "stderr",
     "output_type": "stream",
     "text": [
      "Epoch: 002, Loss: 1.3268:   2%|▎               | 2/90 [01:48<1:19:33, 54.24s/it]"
     ]
    },
    {
     "name": "stdout",
     "output_type": "stream",
     "text": [
      "Epoch: 002, Loss: 1.32677\n"
     ]
    },
    {
     "name": "stderr",
     "output_type": "stream",
     "text": [
      "Epoch: 003, Loss: 1.3068:   3%|▌               | 3/90 [02:42<1:18:40, 54.25s/it]"
     ]
    },
    {
     "name": "stdout",
     "output_type": "stream",
     "text": [
      "Epoch: 003, Loss: 1.30684\n"
     ]
    },
    {
     "name": "stderr",
     "output_type": "stream",
     "text": [
      "Epoch: 004, Loss: 1.2542:   4%|▋               | 4/90 [03:37<1:18:00, 54.42s/it]"
     ]
    },
    {
     "name": "stdout",
     "output_type": "stream",
     "text": [
      "Epoch: 004, Loss: 1.25423\n"
     ]
    },
    {
     "name": "stderr",
     "output_type": "stream",
     "text": [
      "Epoch: 005, Loss: 1.3201:   6%|▉               | 5/90 [04:31<1:16:49, 54.22s/it]"
     ]
    },
    {
     "name": "stdout",
     "output_type": "stream",
     "text": [
      "Epoch: 005, Loss: 1.32007\n"
     ]
    },
    {
     "name": "stderr",
     "output_type": "stream",
     "text": [
      "Epoch: 006, Loss: 1.1708:   7%|█               | 6/90 [05:25<1:15:48, 54.15s/it]"
     ]
    },
    {
     "name": "stdout",
     "output_type": "stream",
     "text": [
      "Epoch: 006, Loss: 1.17080\n"
     ]
    },
    {
     "name": "stderr",
     "output_type": "stream",
     "text": [
      "Epoch: 007, Loss: 1.2726:   8%|█▏              | 7/90 [06:19<1:14:59, 54.21s/it]"
     ]
    },
    {
     "name": "stdout",
     "output_type": "stream",
     "text": [
      "Epoch: 007, Loss: 1.27262\n"
     ]
    },
    {
     "name": "stderr",
     "output_type": "stream",
     "text": [
      "Epoch: 008, Loss: 1.2568:   9%|█▍              | 8/90 [07:13<1:13:50, 54.03s/it]"
     ]
    },
    {
     "name": "stdout",
     "output_type": "stream",
     "text": [
      "Epoch: 008, Loss: 1.25683\n"
     ]
    },
    {
     "name": "stderr",
     "output_type": "stream",
     "text": [
      "Epoch: 009, Loss: 1.3367:  10%|█▌              | 9/90 [08:07<1:12:57, 54.04s/it]"
     ]
    },
    {
     "name": "stdout",
     "output_type": "stream",
     "text": [
      "Epoch: 009, Loss: 1.33669\n"
     ]
    },
    {
     "name": "stderr",
     "output_type": "stream",
     "text": [
      "Epoch: 010, Loss: 1.3299:  11%|█▋             | 10/90 [09:01<1:11:59, 53.99s/it]"
     ]
    },
    {
     "name": "stdout",
     "output_type": "stream",
     "text": [
      "Epoch: 010, Loss: 1.32993\n"
     ]
    },
    {
     "name": "stderr",
     "output_type": "stream",
     "text": [
      "Epoch: 011, Loss: 1.3267:  12%|█▊             | 11/90 [09:55<1:11:18, 54.16s/it]"
     ]
    },
    {
     "name": "stdout",
     "output_type": "stream",
     "text": [
      "Epoch: 011, Loss: 1.32674\n"
     ]
    },
    {
     "name": "stderr",
     "output_type": "stream",
     "text": [
      "Epoch: 012, Loss: 1.3195:  13%|██             | 12/90 [10:44<1:08:13, 52.48s/it]"
     ]
    },
    {
     "name": "stdout",
     "output_type": "stream",
     "text": [
      "Epoch: 012, Loss: 1.31945\n"
     ]
    },
    {
     "name": "stderr",
     "output_type": "stream",
     "text": [
      "Epoch: 013, Loss: 1.3053:  14%|██▏            | 13/90 [11:27<1:03:32, 49.51s/it]"
     ]
    },
    {
     "name": "stdout",
     "output_type": "stream",
     "text": [
      "Epoch: 013, Loss: 1.30527\n"
     ]
    },
    {
     "name": "stderr",
     "output_type": "stream",
     "text": [
      "Epoch: 014, Loss: 1.2987:  16%|██▎            | 14/90 [12:09<1:00:04, 47.42s/it]"
     ]
    },
    {
     "name": "stdout",
     "output_type": "stream",
     "text": [
      "Epoch: 014, Loss: 1.29867\n"
     ]
    },
    {
     "name": "stderr",
     "output_type": "stream",
     "text": [
      "Epoch: 015, Loss: 1.3485:  17%|██▊              | 15/90 [12:52<57:27, 45.96s/it]"
     ]
    },
    {
     "name": "stdout",
     "output_type": "stream",
     "text": [
      "Epoch: 015, Loss: 1.34845\n"
     ]
    },
    {
     "name": "stderr",
     "output_type": "stream",
     "text": [
      "Epoch: 016, Loss: 1.3151:  18%|███              | 16/90 [13:34<55:23, 44.92s/it]"
     ]
    },
    {
     "name": "stdout",
     "output_type": "stream",
     "text": [
      "Epoch: 016, Loss: 1.31508\n"
     ]
    },
    {
     "name": "stderr",
     "output_type": "stream",
     "text": [
      "\r",
      "Epoch: 016, Loss: 1.3151:  18%|██▋            | 16/90 [14:17<1:06:05, 53.59s/it]"
     ]
    },
    {
     "name": "stdout",
     "output_type": "stream",
     "text": [
      "Epoch: 017, Loss: 1.45791\n",
      "\n",
      " Stopped early at epoch:  12\n"
     ]
    },
    {
     "name": "stderr",
     "output_type": "stream",
     "text": [
      "\n"
     ]
    }
   ],
   "source": [
    "class GCN(torch.nn.Module): ### the simpliest model that GNN and it is classical, used as baseline\n",
    "    def __init__(self, num_node_features, num_classes):\n",
    "        super(GCN, self).__init__()\n",
    "        self.conv1 = GCNConv(num_node_features, 128)        \n",
    "        self.conv2 = GCNConv(128, 64) \n",
    "        self.conv3 = GCNConv(64, 16) \n",
    "        self.conv4 = GCNConv(16, 8) \n",
    "        self.classifier = Linear(8, num_classes)\n",
    "\n",
    "\n",
    "\n",
    "    def forward(self, data):\n",
    "        x, edge_index, edge_weight, batch = data.x, data.edge_index, data.edge_attr, data.batch\n",
    "        edge_index, edge_weight = add_self_loops(edge_index, edge_attr=edge_weight, num_nodes=x.size(0))\n",
    "\n",
    "        x = self.conv1(x, edge_index, edge_weight)\n",
    "        x = F.relu(x)\n",
    "\n",
    "        x = self.conv2(x, edge_index, edge_weight)\n",
    "        x = F.relu(x)\n",
    "\n",
    "        x = self.conv3(x, edge_index, edge_weight)\n",
    "        x = F.relu(x)\n",
    "        \n",
    "        x = self.conv4(x, edge_index, edge_weight)\n",
    "        x = F.relu(x)\n",
    "\n",
    "        x = global_mean_pool(x, batch)\n",
    "        x = self.classifier(x)\n",
    "\n",
    "        return x\n",
    "\n",
    "# Now we can create a DataLoader\n",
    "myloader = DataLoader(train_data, batch_size=128, shuffle=True)\n",
    "# Create a model and an optimizer\n",
    "device = torch.device('cuda' if torch.cuda.is_available() else 'cpu')\n",
    "model = GCN(num_node_features=50, num_classes=4).to(device) ### only look at the last 30 \n",
    "optimizer = torch.optim.Adam(model.parameters(), lr=0.01, weight_decay=5e-4)\n",
    "\n",
    "def train(model, optimizer, loader):\n",
    "    model.train()\n",
    "    loss_all = 0\n",
    "    correct = 0\n",
    "    y_true = []\n",
    "    total = 0\n",
    "    results = []\n",
    "    for data in myloader:\n",
    "        data = data.to(device)\n",
    "        optimizer.zero_grad() \n",
    "        output = model(data) \n",
    "        label = data.y.to(device)\n",
    "        y_true.append(label)\n",
    "        loss = F.cross_entropy(output, label)     \n",
    "        loss.backward() \n",
    "        loss_all += data.num_graphs * loss.item()\n",
    "        optimizer.step() \n",
    "        \n",
    "        results.append(output)\n",
    "        \n",
    "        _, predicted = torch.max(output, 1)  \n",
    "        total += label.size(0)  \n",
    "        correct += (predicted == label).sum().item()  \n",
    "    accuracy = 100 * correct / total\n",
    "    return loss_all / len(myloader.dataset), accuracy, results, y_true\n",
    "\n",
    "counter = 0\n",
    "count_epochs = 0\n",
    "best = float(\"inf\")\n",
    "epochs = 90\n",
    "patience = 10\n",
    "loss_ep= []\n",
    "ac_ep = []\n",
    " \n",
    "for epoch in (pbar := tqdm(range(1, epochs + 1))):\n",
    "    loss, ac, myres, reals = train(model, optimizer, myloader)\n",
    "    loss_ep.append(loss)\n",
    "    ac_ep.append(ac)\n",
    "    print('Epoch: {:03d}, Loss: {:.5f}'.format(epoch, loss))\n",
    "    if loss < best:\n",
    "        best = loss\n",
    "        counter = 0\n",
    "    else:\n",
    "        counter += 1\n",
    "        count_epochs += 1\n",
    "        \n",
    "    if counter > patience:\n",
    "        break\n",
    "        # print(f\"Epoch: {​​​​​​epoch:03d}​​​​​​, Loss: {​​​​​​loss:.4f}​​​​​​\")\n",
    "#     scheduler.step()\n",
    "    pbar.set_description(f\"Epoch: {epoch:03d}, Loss: {loss:.4f}\")\n",
    "print(\"\\n\", \"Stopped early at epoch: \", count_epochs)\n"
   ]
  },
  {
   "cell_type": "code",
   "execution_count": null,
   "id": "b0cd1250",
   "metadata": {},
   "outputs": [],
   "source": [
    "testloader = DataLoader(test_data, batch_size=128, shuffle=True)"
   ]
  },
  {
   "cell_type": "code",
   "execution_count": null,
   "id": "64b06357",
   "metadata": {},
   "outputs": [],
   "source": [
    "def test(model, test_loader):\n",
    "    model.eval()\n",
    "    test_loss = 0\n",
    "    correct = 0\n",
    "    total = 0\n",
    "    y_test = []\n",
    "    y_scores = []\n",
    "\n",
    "    with torch.no_grad():\n",
    "        for data in test_loader:\n",
    "            data, label = data.to(device), data.y.to(device)\n",
    "            output = model(data)\n",
    "\n",
    "            # Calculate loss\n",
    "            loss = F.cross_entropy(output, label)\n",
    "            test_loss += loss.item() * data.size(0)\n",
    "            \n",
    "            # Convert label to one-hot encoding\n",
    "            one_hot_label = torch.zeros(label.size(0), 4).to(device)  # assuming 4 classes\n",
    "            one_hot_label.scatter_(1, label.unsqueeze(1), 1)  # in-place operation to convert to one-hot\n",
    "            y_test.extend(one_hot_label.cpu().numpy().tolist())\n",
    "            \n",
    "            # Store the scores\n",
    "            y_scores.extend(output.cpu().numpy().tolist())\n",
    "\n",
    "            # Get predictions\n",
    "            _, predicted = output.max(1)\n",
    "            total += label.size(0)\n",
    "            correct += predicted.eq(label).sum().item()\n",
    "\n",
    "    avg_loss = test_loss / total\n",
    "    accuracy = 100 * correct / total\n",
    "\n",
    "    print(f\"Test set: Average loss: {avg_loss:.4f}, Accuracy: {correct}/{total} ({accuracy:.2f}%)\")\n",
    "\n",
    "    return avg_loss, accuracy, y_test, y_scores\n",
    "\n",
    "# Assuming you have a test_loader, model, and criterion already defined\n",
    "test_loss, test_accuracy, y_test, y_score = test(model, testloader)"
   ]
  },
  {
   "cell_type": "code",
   "execution_count": null,
   "id": "df228d06",
   "metadata": {},
   "outputs": [],
   "source": [
    "from sklearn.metrics import roc_curve, auc\n",
    "n_classes = 4\n",
    "colors = {0:'orange',1:'yellowgreen',2:'lightskyblue',3:'cornflowerblue'}\n",
    "labels = {0:r'LS: $r > 5$',1:r'MS: $r \\in [0.5,5]$',2:r'HS: $r \\in [0.1,0.5)$',3:r'ES: $r<0.1$'}"
   ]
  },
  {
   "cell_type": "code",
   "execution_count": null,
   "id": "30df876d",
   "metadata": {},
   "outputs": [],
   "source": [
    "# y_test = np.array([[1,0,0,0], [0,1,0,0], [0,0,1,0], [0,0,0,1], [1,0,0,0]])\n",
    "# y_score = np.array([[0.5,0.2,0.1,0.2], [0.1,0.5,0.2,0.2], [0.2,0.1,0.5,0.2], [0.2,0.1,0.2,0.5], [0.6,0.1,0.1,0.2]])\n",
    "\n",
    "\n",
    "y_test = np.array(y_test)\n",
    "y_score = np.array(y_score)\n",
    "fpr = dict()\n",
    "tpr = dict()\n",
    "\n",
    "# smoothed_fpr = dict()\n",
    "# smoothed_tpr = dict()\n",
    "\n",
    "roc_auc = dict()\n",
    "for i in range(n_classes):\n",
    "    fpr[i], tpr[i], _ = roc_curve(y_test[:, i], y_score[:, i])\n",
    "    roc_auc[i] = auc(fpr[i], tpr[i])\n",
    "#     smoothed_tpr[i] = moving_average(tpr[i], 5)\n",
    "#     smoothed_fpr[i] = moving_average(fpr[i], 5)\n",
    "\n",
    "# Plot the ROC curve\n",
    "plt.rcParams['font.family'] = 'Times New Roman' \n",
    "plt.figure(dpi=600,figsize=(3.5,2.5))\n",
    "for i in range(n_classes):\n",
    "#     plt.plot(smoothed_fpr[i], smoothed_tpr[i], color = colors[i],\n",
    "#              label='Class {0} (area = {1:0.2f})'.format(labels[i], roc_auc[i]))\n",
    "    plt.plot(fpr[i], tpr[i], color = colors[i],\n",
    "             label='{0} (AUC = {1:0.2f})'.format(labels[i], roc_auc[i]))\n",
    "\n",
    "plt.plot([0, 1], [0, 1], 'k--',lw=0.5)\n",
    "plt.xlim([0.0, 1.0])\n",
    "plt.ylim([0.0, 1.05])\n",
    "plt.xlabel('False Positive Rate',size=8)\n",
    "plt.ylabel('True Positive Rate',size=8)\n",
    "# plt.title('Receiver operating characteristic to multi-class')\n",
    "plt.legend(loc=\"lower right\",fontsize=8,frameon=False)\n",
    "plt.tight_layout()\n",
    "# plt.show()\n",
    "# plt.savefig('roc.pdf')"
   ]
  },
  {
   "cell_type": "code",
   "execution_count": null,
   "id": "483e00d5",
   "metadata": {},
   "outputs": [],
   "source": [
    "import numpy as np\n",
    "import matplotlib.pyplot as plt\n",
    "\n",
    "def moving_average(data, window_size):\n",
    "    return np.convolve(data, np.ones(window_size)/window_size, mode='same')\n",
    "\n",
    "# Example ROC data\n",
    "fpr = np.linspace(0, 1, 100)\n",
    "tpr = fpr**2 + (np.random.rand(100) - 0.5) * 0.1  # Just an example curve with noise\n",
    "\n",
    "# Smoothed TPR\n",
    "smoothed_tpr = moving_average(tpr, 5)\n",
    "smoothed_fpr = moving_average(fpr, 5)\n",
    "\n",
    "plt.plot(fpr, tpr, label=\"Original ROC\", alpha=0.5)\n",
    "plt.plot(smoothed_fpr, smoothed_tpr, label=\"Smoothed ROC\", color=\"red\")\n",
    "plt.xlabel('False Positive Rate')\n",
    "plt.ylabel('True Positive Rate')\n",
    "plt.legend()\n",
    "plt.show()"
   ]
  },
  {
   "cell_type": "code",
   "execution_count": null,
   "id": "838de0a9",
   "metadata": {},
   "outputs": [],
   "source": []
  }
 ],
 "metadata": {
  "kernelspec": {
   "display_name": "gnn",
   "language": "python",
   "name": "gnn"
  },
  "language_info": {
   "codemirror_mode": {
    "name": "ipython",
    "version": 3
   },
   "file_extension": ".py",
   "mimetype": "text/x-python",
   "name": "python",
   "nbconvert_exporter": "python",
   "pygments_lexer": "ipython3",
   "version": "3.11.4"
  }
 },
 "nbformat": 4,
 "nbformat_minor": 5
}
