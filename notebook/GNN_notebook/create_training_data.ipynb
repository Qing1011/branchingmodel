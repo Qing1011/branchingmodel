{
 "cells": [
  {
   "cell_type": "code",
   "execution_count": 29,
   "id": "045a21f9",
   "metadata": {},
   "outputs": [],
   "source": [
    "import torch\n",
    "from torch.nn import Linear\n",
    "from torch_geometric.nn import GCNConv, NNConv, global_mean_pool, TopKPooling\n",
    "from torch_geometric.nn.glob import GlobalAttention\n",
    "from torch_geometric.data import Data,DataLoader\n",
    "# from torch.utils.data import DataLoader, TensorDataset\n",
    "# from torch_geometric.loader import DataLoader\n",
    "import torch.nn.functional as F\n",
    "from torch_geometric.utils.convert import from_scipy_sparse_matrix\n",
    "from torch_geometric.utils.convert import from_networkx\n",
    "from torch_geometric.nn import GCNConv, global_mean_pool, BatchNorm\n",
    "from torch_geometric.data import DataLoader\n",
    "from torch.optim.lr_scheduler import StepLR\n",
    "import random\n",
    "import numpy as np\n",
    "import matplotlib.pyplot as plt\n",
    "from scipy.io import loadmat, savemat\n",
    "import pandas as pd\n",
    "import scipy.special as SS\n",
    "import scipy.stats as SSA\n",
    "import copy\n",
    "import math\n",
    "from sklearn.model_selection import ParameterGrid\n",
    "import os\n",
    "import numpy.linalg as LA\n",
    "import gzip\n",
    "from torch_geometric.utils import add_self_loops\n",
    "\n",
    "from scipy import sparse\n",
    "\n",
    "# load pickle module\n",
    "import pickle\n",
    "import networkx as nx\n",
    "import torch.nn as nn\n",
    "\n",
    "from tqdm import tqdm "
   ]
  },
  {
   "cell_type": "code",
   "execution_count": 3,
   "id": "2985529f",
   "metadata": {},
   "outputs": [],
   "source": [
    "## remove the conv layers, relu--> linear regression works\n",
    "## remove the edge index to see if the graph is helping\n",
    "## r values which have never see before "
   ]
  },
  {
   "cell_type": "code",
   "execution_count": 30,
   "id": "d594d72c",
   "metadata": {},
   "outputs": [],
   "source": [
    "# R0 = 2.5\n",
    "# R0 = 1.5\n",
    "R0 = 1.5\n",
    "R0char = {1.5:'1d5',2.5:'2d5',5.5:'5d5'}\n",
    "rs = np.array([10, 2.0, 1.0, 0.5, 0.2, 0.1, 0.05, 0.025, 5.,  2.5  , 3.333,  1.333,  0.667,  0.286,  0.133,\n",
    "        0.067,  0.033, 0.37,7.4,20  , 13.333]) ##20   13.333, "
   ]
  },
  {
   "cell_type": "code",
   "execution_count": 16,
   "id": "ed78b4fd",
   "metadata": {},
   "outputs": [
    {
     "data": {
      "text/plain": [
       "array([ 2.30258509,  0.69314718,  0.        , -0.69314718, -1.60943791,\n",
       "       -2.30258509, -2.99573227, -3.68887945,  1.60943791,  0.91629073,\n",
       "        1.2038728 ,  0.28743204, -0.40496523, -1.25176347, -2.01740615,\n",
       "       -2.70306266, -3.41124772, -0.99425227,  2.00148   ])"
      ]
     },
     "execution_count": 16,
     "metadata": {},
     "output_type": "execute_result"
    }
   ],
   "source": [
    "np.log(rs)"
   ]
  },
  {
   "cell_type": "code",
   "execution_count": 31,
   "id": "7f87e89f",
   "metadata": {},
   "outputs": [],
   "source": [
    "rs.sort()"
   ]
  },
  {
   "cell_type": "code",
   "execution_count": 19,
   "id": "6409e12a",
   "metadata": {},
   "outputs": [
    {
     "data": {
      "text/plain": [
       "<matplotlib.collections.PathCollection at 0x2acd1b910>"
      ]
     },
     "execution_count": 19,
     "metadata": {},
     "output_type": "execute_result"
    },
    {
     "data": {
      "image/png": "[encoded data removed]",
      "text/plain": [
       "<Figure size 640x480 with 1 Axes>"
      ]
     },
     "metadata": {},
     "output_type": "display_data"
    }
   ],
   "source": [
    "plt.scatter(range(19),np.log(rs))\n",
    "# plt.axhline(2)\n",
    "# plt.axhline(-2.8)"
   ]
  },
  {
   "cell_type": "code",
   "execution_count": 32,
   "id": "d56b6878",
   "metadata": {},
   "outputs": [],
   "source": [
    "WN = np.loadtxt('../W_avg.csv') ### numpy arrary\n",
    "# WN2 = np.dot(WN, WN)\n",
    "# # prob = WN[:,1858]\n",
    "# prob = WN2[:,1858]\n",
    "# prob_2d = prob.reshape(-1,1)"
   ]
  },
  {
   "cell_type": "code",
   "execution_count": 33,
   "id": "e3fbbe1d",
   "metadata": {},
   "outputs": [],
   "source": [
    "g_s = nx.from_numpy_array(WN)\n",
    "edges = np.array(g_s.edges()).transpose()\n",
    "edge_index = torch.tensor(edges,dtype = torch.int64)\n",
    "# edge_weight = torch.tensor(WN[edge_index[0], edge_index[1]], dtype=torch.float)\n",
    "edge_weights = []\n",
    "for (u, v) in g_s.edges():\n",
    "    edge_weights.append([g_s[u][v]['weight']])\n",
    "edge_weights = torch.tensor(edge_weights, dtype=torch.float32)"
   ]
  },
  {
   "cell_type": "code",
   "execution_count": 34,
   "id": "6dc84482",
   "metadata": {},
   "outputs": [],
   "source": [
    "def load_gzipped_numpy(filename):\n",
    "    try:\n",
    "        with gzip.open(filename, 'rb') as f:\n",
    "            return np.load(f, allow_pickle=True)\n",
    "    except FileNotFoundError:\n",
    "        return [0]"
   ]
  },
  {
   "cell_type": "code",
   "execution_count": 35,
   "id": "f79b8ec4",
   "metadata": {},
   "outputs": [],
   "source": [
    "r_class = {20:0, 10:0, 2.0:1, 1.0:1, 0.5:1, 0.2:2, 0.1:2, 0.05:3, 0.025:3, \n",
    "           5.0:0 ,  2.5:1  , 13.333:0,  3.333:1,  1.333:1,  0.667:1,  0.286:2,  0.133:2,\n",
    "        0.067:3,  0.033:3, 0.37:2,7.4:0}"
   ]
  },
  {
   "cell_type": "code",
   "execution_count": 36,
   "id": "6a0087b0",
   "metadata": {},
   "outputs": [],
   "source": [
    "main_dir = '/Users/qingyao/../../Volumes/Seagate_Qing/'\n",
    "sub_dir = 'branching_data/simulation/python_cutoff_addno/'\n",
    "export_dir = main_dir + sub_dir"
   ]
  },
  {
   "cell_type": "code",
   "execution_count": 37,
   "id": "5103aa39",
   "metadata": {},
   "outputs": [],
   "source": [
    "def prepare_dataset(export_dir, R0, rs, t_len, edge_index, edge_weights):\n",
    "    dataset = []\n",
    "    t = int(10+t_len)\n",
    "    print(t, R0, type(t))\n",
    "    for r_idx in range(len(rs)):\n",
    "        r = rs[r_idx]\n",
    "        sub_export_dir = export_dir+'branching_R0-{}_r-{}/'.format(np.round(R0,2),np.round(r,3))\n",
    "#         r_c = r_class[r]\n",
    "        print(r)\n",
    "\n",
    "        for g_idx in range(300):\n",
    "            export_names = sub_export_dir+'NewInf_R0-{}_r-{}_{}.npy.gz'.format(np.round(R0,2),np.round(r,3),(g_idx+1))\n",
    "            g_i = load_gzipped_numpy(export_names)\n",
    "            \n",
    "            g_i_new = g_i[:,10:t]\n",
    "\n",
    "            matrix = torch.from_numpy(g_i_new)\n",
    "            y = torch.log(torch.tensor([[r]], dtype=torch.float))\n",
    "            data = Data(x=matrix, edge_index=edge_index, edge_attr=edge_weights, y=y)\n",
    "            data.x = data.x.float()\n",
    "            dataset.append(data)\n",
    "    print('finish reading ^______^')\n",
    "    return dataset"
   ]
  },
  {
   "cell_type": "code",
   "execution_count": 38,
   "id": "c7a671df",
   "metadata": {},
   "outputs": [
    {
     "name": "stdout",
     "output_type": "stream",
     "text": [
      "50\n",
      "60 1.5 <class 'int'>\n",
      "0.025\n",
      "0.033\n",
      "0.05\n",
      "0.067\n",
      "0.1\n",
      "0.133\n",
      "0.2\n",
      "0.286\n",
      "0.37\n",
      "0.5\n",
      "0.667\n",
      "1.0\n",
      "1.333\n",
      "2.0\n",
      "2.5\n",
      "3.333\n",
      "5.0\n",
      "7.4\n",
      "10.0\n",
      "finish reading ^______^\n",
      "42\n",
      "52 1.5 <class 'int'>\n",
      "0.025\n",
      "0.033\n",
      "0.05\n",
      "0.067\n",
      "0.1\n",
      "0.133\n",
      "0.2\n",
      "0.286\n",
      "0.37\n",
      "0.5\n",
      "0.667\n",
      "1.0\n",
      "1.333\n",
      "2.0\n",
      "2.5\n",
      "3.333\n",
      "5.0\n",
      "7.4\n",
      "10.0\n",
      "finish reading ^______^\n",
      "35\n",
      "45 1.5 <class 'int'>\n",
      "0.025\n",
      "0.033\n",
      "0.05\n",
      "0.067\n",
      "0.1\n",
      "0.133\n",
      "0.2\n",
      "0.286\n",
      "0.37\n",
      "0.5\n",
      "0.667\n",
      "1.0\n",
      "1.333\n",
      "2.0\n",
      "2.5\n",
      "3.333\n",
      "5.0\n",
      "7.4\n",
      "10.0\n",
      "finish reading ^______^\n",
      "28\n",
      "38 1.5 <class 'int'>\n",
      "0.025\n",
      "0.033\n",
      "0.05\n",
      "0.067\n",
      "0.1\n",
      "0.133\n",
      "0.2\n",
      "0.286\n",
      "0.37\n",
      "0.5\n",
      "0.667\n",
      "1.0\n",
      "1.333\n",
      "2.0\n",
      "2.5\n",
      "3.333\n",
      "5.0\n",
      "7.4\n",
      "10.0\n",
      "finish reading ^______^\n",
      "21\n",
      "31 1.5 <class 'int'>\n",
      "0.025\n",
      "0.033\n",
      "0.05\n",
      "0.067\n",
      "0.1\n",
      "0.133\n",
      "0.2\n",
      "0.286\n",
      "0.37\n",
      "0.5\n",
      "0.667\n",
      "1.0\n",
      "1.333\n",
      "2.0\n",
      "2.5\n",
      "3.333\n",
      "5.0\n",
      "7.4\n",
      "10.0\n",
      "finish reading ^______^\n",
      "14\n",
      "24 1.5 <class 'int'>\n",
      "0.025\n",
      "0.033\n",
      "0.05\n",
      "0.067\n",
      "0.1\n",
      "0.133\n",
      "0.2\n",
      "0.286\n",
      "0.37\n",
      "0.5\n",
      "0.667\n",
      "1.0\n",
      "1.333\n",
      "2.0\n",
      "2.5\n",
      "3.333\n",
      "5.0\n",
      "7.4\n",
      "10.0\n",
      "finish reading ^______^\n",
      "7\n",
      "17 1.5 <class 'int'>\n",
      "0.025\n",
      "0.033\n",
      "0.05\n",
      "0.067\n",
      "0.1\n",
      "0.133\n",
      "0.2\n",
      "0.286\n",
      "0.37\n",
      "0.5\n",
      "0.667\n",
      "1.0\n",
      "1.333\n",
      "2.0\n",
      "2.5\n",
      "3.333\n",
      "5.0\n",
      "7.4\n",
      "10.0\n",
      "finish reading ^______^\n"
     ]
    }
   ],
   "source": [
    "save_dir = main_dir +'branching_data/gnn_regression_{}/'.format(R0char[R0])\n",
    "for sep in [50,42,35,28,21,14,7]:\n",
    "    print(sep)\n",
    "    dataset = prepare_dataset(export_dir, R0, rs, sep, edge_index, edge_weights)\n",
    "    torch.save(dataset, save_dir+'dataset_{}.pt'.format(sep))"
   ]
  },
  {
   "cell_type": "code",
   "execution_count": 40,
   "id": "b083591c",
   "metadata": {},
   "outputs": [],
   "source": [
    "# torch.save(dataset, 'dataset_50.pt')\n",
    "test = torch.load('dataset_50.pt')"
   ]
  },
  {
   "cell_type": "code",
   "execution_count": 49,
   "id": "c33ca0ae",
   "metadata": {},
   "outputs": [
    {
     "data": {
      "text/plain": [
       "True"
      ]
     },
     "execution_count": 49,
     "metadata": {},
     "output_type": "execute_result"
    }
   ],
   "source": [
    "def datasets_are_equal(dataset1, dataset2):\n",
    "    if len(dataset1) != len(dataset2):\n",
    "        return False\n",
    "\n",
    "    for data1, data2 in zip(dataset1, dataset2):\n",
    "        if not torch.all(data1.x == data2.x):\n",
    "            return False\n",
    "        if not torch.all(data1.edge_index == data2.edge_index):\n",
    "            return False\n",
    "        if data1.edge_attr is not None and data2.edge_attr is not None:\n",
    "            if not torch.all(data1.edge_attr == data2.edge_attr):\n",
    "                return False\n",
    "        if not torch.all(data1.y == data2.y):\n",
    "            return False\n",
    "        # Add similar checks for any other attributes present in your Data objects\n",
    "\n",
    "    return True\n",
    "\n",
    "datasets_are_equal(dataset, test)"
   ]
  },
  {
   "cell_type": "code",
   "execution_count": 47,
   "id": "e4dabd5f",
   "metadata": {},
   "outputs": [],
   "source": [
    "lr_list = [np.power(0.5, i) for i in range(2, 16, 2)]*10"
   ]
  },
  {
   "cell_type": "code",
   "execution_count": 46,
   "id": "d0889be0",
   "metadata": {},
   "outputs": [],
   "source": [
    "# Generate PBS script\n",
    "def generate_pbs_script(num_x, layer, R0, with_g, filename):\n",
    "    script = f\"\"\"\\\n",
    "#PBS -l walltime=70:00:00\n",
    "#PBS -l select=1:ncpus=1:mem=16gb\n",
    "#PBS -J 1-700\n",
    "\n",
    "module load anaconda3/personal\n",
    "source activate motifenv\n",
    "\n",
    "cd $HOME/branching_superspreading/\n",
    "python3 NN_Regression.py $PBS_ARRAY_INDEX {num_x} {layer} {R0} {with_g}\n",
    "\"\"\"\n",
    "    with open(filename, 'w') as f:\n",
    "        f.write(script)\n",
    "\n",
    "# Define parameters\n",
    "# parameters = range(0, 10)  # Replace this with the range of parameters you want\n",
    "for layer in [4]:\n",
    "    sep = 50\n",
    "    R0 = '5d5'\n",
    "    with_g = 0 ### without graph\n",
    "#     for sep in range(7,49,7):\n",
    "    filename = f\"layer{layer}_x-{sep}_{R0}_g-{with_g}.pbs\"  # Name the file related to the parameter\n",
    "    generate_pbs_script(sep, layer, R0, with_g, filename)"
   ]
  },
  {
   "cell_type": "code",
   "execution_count": 44,
   "id": "17258323",
   "metadata": {},
   "outputs": [],
   "source": [
    "hidden_channels = [128,64,16,8]"
   ]
  },
  {
   "cell_type": "code",
   "execution_count": 45,
   "id": "46db7b2b",
   "metadata": {},
   "outputs": [
    {
     "name": "stdout",
     "output_type": "stream",
     "text": [
      "self.convs.append(GCNConv(num_node_features, 128)\n",
      "128 64\n",
      "64 16\n",
      "16 8\n",
      "the final fc: 8 1\n"
     ]
    }
   ],
   "source": [
    "num_hidden_layers = 4\n",
    "m_num_layers = max(num_hidden_layers, 0)  # Ensure non-negative layer count\n",
    "\n",
    "# If there are no layers, use a one-layer perceptron\n",
    "if m_num_layers == 0:\n",
    "    print('self.fc = torch.nn.Linear(num_node_features, 1)')\n",
    "else:\n",
    "    print('self.convs.append(GCNConv(num_node_features, {})'.format(hidden_channels[0])) \n",
    "    for i in range(1, m_num_layers):\n",
    "        print(hidden_channels[i-1], hidden_channels[i])\n",
    "#         self.convs.append(\n",
    "#             GCNConv(hidden_channels[i-1], hidden_channels[i]))\n",
    "\n",
    "    # Define the fully connected layer\n",
    "    print('the final fc:', hidden_channels[m_num_layers-1], 1)\n",
    "#     self.fc = torch.nn.Linear(hidden_channels[i-1], 1)"
   ]
  }
 ],
 "metadata": {
  "kernelspec": {
   "display_name": "gnn",
   "language": "python",
   "name": "gnn"
  },
  "language_info": {
   "codemirror_mode": {
    "name": "ipython",
    "version": 3
   },
   "file_extension": ".py",
   "mimetype": "text/x-python",
   "name": "python",
   "nbconvert_exporter": "python",
   "pygments_lexer": "ipython3",
   "version": "3.11.4"
  }
 },
 "nbformat": 4,
 "nbformat_minor": 5
}
