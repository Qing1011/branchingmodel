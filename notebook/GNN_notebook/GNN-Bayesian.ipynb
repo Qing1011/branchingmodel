{
 "cells": [
  {
   "cell_type": "code",
   "execution_count": 12,
   "id": "58e3dc84",
   "metadata": {},
   "outputs": [],
   "source": [
    "import torch\n",
    "from torch.nn import Linear\n",
    "from torch_geometric.nn import GCNConv, global_mean_pool, TopKPooling\n",
    "from torch_geometric.data import Data,DataLoader\n",
    "# from torch_geometric.loader import DataLoader\n",
    "import torch.nn.functional as F\n",
    "from torch_geometric.utils.convert import from_scipy_sparse_matrix\n",
    "from torch_geometric.utils.convert import from_networkx\n",
    "import random\n",
    "import numpy as np\n",
    "import matplotlib.pyplot as plt\n",
    "from scipy.io import loadmat, savemat\n",
    "import pandas as pd\n",
    "import scipy.special as SS\n",
    "import scipy.stats as SSA\n",
    "import copy\n",
    "import math\n",
    "from sklearn.model_selection import ParameterGrid\n",
    "import os\n",
    "import numpy.linalg as LA\n",
    "import gzip\n",
    "\n",
    "from scipy import sparse\n",
    "\n",
    "# load pickle module\n",
    "import pickle\n",
    "import networkx as nx\n",
    "import torch.nn as nn\n",
    "from torch.distributions import Normal"
   ]
  },
  {
   "cell_type": "code",
   "execution_count": 2,
   "id": "5d4e20f7",
   "metadata": {},
   "outputs": [],
   "source": [
    "R0 = 2.5\n",
    "rs = np.array([20, 10, 2.0, 1.0, 0.5, 0.2, 0.1, 0.05, 0.025])"
   ]
  },
  {
   "cell_type": "code",
   "execution_count": 3,
   "id": "351e54b0",
   "metadata": {},
   "outputs": [],
   "source": [
    "WN = np.loadtxt('../W_avg.csv') ### numpy arrary"
   ]
  },
  {
   "cell_type": "code",
   "execution_count": 5,
   "id": "9a657324",
   "metadata": {},
   "outputs": [],
   "source": [
    "# Create a graph from mobility matrix\n",
    "GM = nx.from_numpy_array(WN)\n",
    "edges = np.array(GM.edges()).transpose()\n",
    "edge_index = torch.tensor(edges,dtype = torch.int64)"
   ]
  },
  {
   "cell_type": "code",
   "execution_count": 6,
   "id": "4ad83bf4",
   "metadata": {},
   "outputs": [],
   "source": [
    "def load_gzipped_numpy(filename):\n",
    "    try:\n",
    "        with gzip.open(filename, 'rb') as f:\n",
    "            return np.load(f, allow_pickle=True)\n",
    "    except FileNotFoundError:\n",
    "        return [0]"
   ]
  },
  {
   "cell_type": "code",
   "execution_count": 7,
   "id": "d89b41a0",
   "metadata": {},
   "outputs": [
    {
     "name": "stdout",
     "output_type": "stream",
     "text": [
      "20.0\n",
      "10.0\n",
      "2.0\n",
      "1.0\n",
      "0.5\n",
      "0.2\n",
      "0.1\n",
      "0.05\n",
      "0.025\n"
     ]
    }
   ],
   "source": [
    "export_dir = '/Users/qingyao/Documents/branching_data/simulation/python_cutoff/'\n",
    "#### data preparation\n",
    "dataset = []\n",
    "r_class = {}\n",
    "for r_idx in range(9):\n",
    "    r = rs[r_idx]\n",
    "    sub_export_dir = export_dir+'branching_R0-{}_r-{}/'.format(np.round(R0,2),np.round(r,3))\n",
    "    print(r)\n",
    "    # Create a list to hold our Data objects\n",
    "    for g_idx in range(300):\n",
    "        export_names = sub_export_dir+'NewInf_R0-{}_r-{}_{}.npy.gz'.format(np.round(R0,2),np.round(r,3),(g_idx+1))\n",
    "        g_i = load_gzipped_numpy(export_names)\n",
    "        g_i[g_i == 0] = 0.0000001 ### use the log to make the pattern more obvious\n",
    "        Z = np.log(g_i[:,10:]) ### previous are almost 0\n",
    "        matrix = torch.from_numpy(g_i[:,10:])\n",
    "        y = torch.tensor([r_idx], dtype=torch.long)\n",
    "        # Create a Data object for each graph\n",
    "        data = Data(x=matrix, edge_index=edge_index, y=y)\n",
    "#         data = Data(x=ma_normalized, edge_index=edge_index, y=y)\n",
    "        data.x = data.x.float()\n",
    "        data.y = data.y.long()\n",
    "        # Add the Data object to our list\n",
    "        dataset.append(data)"
   ]
  },
  {
   "cell_type": "code",
   "execution_count": 8,
   "id": "8022cd7f",
   "metadata": {},
   "outputs": [],
   "source": [
    "from torch.utils.data import random_split\n",
    "train_data, test_data = random_split(dataset, [1800, 900])"
   ]
  },
  {
   "cell_type": "code",
   "execution_count": null,
   "id": "51d22450",
   "metadata": {},
   "outputs": [],
   "source": [
    "import pyro\n",
    "import pyro.distributions as dist"
   ]
  },
  {
   "cell_type": "code",
   "execution_count": 20,
   "id": "bc8c1151",
   "metadata": {},
   "outputs": [
    {
     "name": "stdout",
     "output_type": "stream",
     "text": [
      "Epoch: 000, Loss: 83344.30875, ac: 11.55556\n",
      "Epoch: 001, Loss: 55615.10115, ac: 11.83333\n",
      "Epoch: 002, Loss: 51359.02455, ac: 12.38889\n",
      "Epoch: 003, Loss: 45370.36253, ac: 9.72222\n",
      "Epoch: 004, Loss: 30116.31448, ac: 10.05556\n",
      "Epoch: 005, Loss: 26594.48196, ac: 10.38889\n",
      "Epoch: 006, Loss: 21842.85220, ac: 10.61111\n",
      "Epoch: 007, Loss: 20482.26776, ac: 9.44444\n",
      "Epoch: 008, Loss: 19528.71437, ac: 10.27778\n",
      "Epoch: 009, Loss: 16538.37113, ac: 10.05556\n",
      "Epoch: 010, Loss: 14326.44845, ac: 11.88889\n",
      "Epoch: 011, Loss: 12525.72839, ac: 12.33333\n",
      "Epoch: 012, Loss: 11834.31615, ac: 12.11111\n",
      "Epoch: 013, Loss: 9716.18185, ac: 11.44444\n",
      "Epoch: 014, Loss: 8697.06898, ac: 11.77778\n",
      "Epoch: 015, Loss: 9012.44767, ac: 12.16667\n",
      "Epoch: 016, Loss: 7763.34939, ac: 11.44444\n",
      "Epoch: 017, Loss: 9161.72635, ac: 11.05556\n",
      "Epoch: 018, Loss: 7452.98910, ac: 11.66667\n",
      "Epoch: 019, Loss: 6819.46709, ac: 10.94444\n",
      "Epoch: 020, Loss: 7121.69985, ac: 11.55556\n",
      "Epoch: 021, Loss: 5441.38684, ac: 11.00000\n",
      "Epoch: 022, Loss: 6140.05556, ac: 10.61111\n",
      "Epoch: 023, Loss: 4534.86823, ac: 11.94444\n",
      "Epoch: 024, Loss: 4787.07318, ac: 10.66667\n",
      "Epoch: 025, Loss: 4650.90624, ac: 11.72222\n",
      "Epoch: 026, Loss: 4075.54374, ac: 10.83333\n",
      "Epoch: 027, Loss: 4585.29821, ac: 10.55556\n",
      "Epoch: 028, Loss: 3742.86161, ac: 9.33333\n",
      "Epoch: 029, Loss: 3928.67187, ac: 11.38889\n",
      "Epoch: 030, Loss: 3656.23298, ac: 9.94444\n",
      "Epoch: 031, Loss: 3656.82088, ac: 8.77778\n",
      "Epoch: 032, Loss: 3273.34018, ac: 12.72222\n",
      "Epoch: 033, Loss: 3066.72159, ac: 12.77778\n",
      "Epoch: 034, Loss: 2893.92429, ac: 13.94444\n",
      "Epoch: 035, Loss: 3175.94860, ac: 9.72222\n",
      "Epoch: 036, Loss: 3018.06471, ac: 10.55556\n",
      "Epoch: 037, Loss: 3016.46951, ac: 11.83333\n",
      "Epoch: 038, Loss: 2580.39998, ac: 11.77778\n",
      "Epoch: 039, Loss: 2581.59329, ac: 9.66667\n",
      "Epoch: 040, Loss: 2773.40690, ac: 11.50000\n",
      "Epoch: 041, Loss: 2272.90572, ac: 12.44444\n",
      "Epoch: 042, Loss: 2791.20263, ac: 11.66667\n",
      "Epoch: 043, Loss: 3189.14932, ac: 11.27778\n",
      "Epoch: 044, Loss: 2269.55905, ac: 11.94444\n",
      "Epoch: 045, Loss: 2130.82526, ac: 11.16667\n",
      "Epoch: 046, Loss: 2253.68777, ac: 11.94444\n",
      "Epoch: 047, Loss: 2219.54915, ac: 12.50000\n",
      "Epoch: 048, Loss: 2509.06185, ac: 11.27778\n",
      "Epoch: 049, Loss: 2359.73677, ac: 10.83333\n",
      "Epoch: 050, Loss: 2096.34526, ac: 11.33333\n",
      "Epoch: 051, Loss: 2239.28540, ac: 11.00000\n",
      "Epoch: 052, Loss: 2258.02784, ac: 11.22222\n",
      "Epoch: 053, Loss: 2253.66861, ac: 13.27778\n",
      "Epoch: 054, Loss: 2065.32116, ac: 12.61111\n",
      "Epoch: 055, Loss: 1988.22469, ac: 10.83333\n",
      "Epoch: 056, Loss: 2095.82302, ac: 11.33333\n",
      "Epoch: 057, Loss: 2571.04627, ac: 12.33333\n",
      "Epoch: 058, Loss: 1881.96209, ac: 10.72222\n",
      "Epoch: 059, Loss: 1970.52298, ac: 11.22222\n",
      "Epoch: 060, Loss: 1931.97731, ac: 11.61111\n",
      "Epoch: 061, Loss: 1692.81941, ac: 10.33333\n",
      "Epoch: 062, Loss: 2237.17715, ac: 11.27778\n",
      "Epoch: 063, Loss: 1848.95839, ac: 11.33333\n",
      "Epoch: 064, Loss: 2021.30444, ac: 13.16667\n",
      "Epoch: 065, Loss: 2145.52541, ac: 10.44444\n",
      "Epoch: 066, Loss: 1756.70522, ac: 12.44444\n",
      "Epoch: 067, Loss: 1932.32150, ac: 11.50000\n",
      "Epoch: 068, Loss: 1719.81000, ac: 12.27778\n",
      "Epoch: 069, Loss: 1748.80606, ac: 11.05556\n",
      "Epoch: 070, Loss: 1646.39293, ac: 10.77778\n",
      "Epoch: 071, Loss: 1890.78625, ac: 11.94444\n",
      "Epoch: 072, Loss: 1670.45716, ac: 9.66667\n",
      "Epoch: 073, Loss: 1820.26515, ac: 10.22222\n",
      "Epoch: 074, Loss: 1779.49948, ac: 11.00000\n",
      "Epoch: 075, Loss: 1689.29198, ac: 11.94444\n",
      "Epoch: 076, Loss: 2073.58854, ac: 11.27778\n",
      "Epoch: 077, Loss: 1776.72853, ac: 10.00000\n",
      "Epoch: 078, Loss: 1789.95450, ac: 10.16667\n",
      "Epoch: 079, Loss: 1758.70750, ac: 11.16667\n",
      "Epoch: 080, Loss: 1643.17854, ac: 11.72222\n",
      "Epoch: 081, Loss: 1757.60139, ac: 10.50000\n",
      "Epoch: 082, Loss: 1769.98647, ac: 11.83333\n",
      "Epoch: 083, Loss: 1626.04509, ac: 10.77778\n",
      "Epoch: 084, Loss: 1581.25505, ac: 11.00000\n",
      "Epoch: 085, Loss: 1690.51732, ac: 11.88889\n",
      "Epoch: 086, Loss: 1660.22528, ac: 9.00000\n",
      "Epoch: 087, Loss: 1659.76772, ac: 12.11111\n",
      "Epoch: 088, Loss: 1789.85130, ac: 9.66667\n",
      "Epoch: 089, Loss: 1740.18372, ac: 11.33333\n",
      "Epoch: 090, Loss: 1552.32444, ac: 10.55556\n",
      "Epoch: 091, Loss: 1580.12810, ac: 10.27778\n",
      "Epoch: 092, Loss: 1531.40229, ac: 11.61111\n",
      "Epoch: 093, Loss: 1569.61310, ac: 10.83333\n",
      "Epoch: 094, Loss: 1682.21450, ac: 10.44444\n",
      "Epoch: 095, Loss: 1546.43182, ac: 9.83333\n",
      "Epoch: 096, Loss: 1617.55936, ac: 11.94444\n",
      "Epoch: 097, Loss: 1582.13179, ac: 10.77778\n",
      "Epoch: 098, Loss: 1451.67049, ac: 11.38889\n",
      "Epoch: 099, Loss: 1698.33118, ac: 11.61111\n"
     ]
    }
   ],
   "source": [
    "class BayesianLinear(nn.Module):\n",
    "    def __init__(self, in_features, out_features):\n",
    "        super().__init__()\n",
    "        self.in_features = in_features\n",
    "        self.out_features = out_features\n",
    "\n",
    "        # Prior distributions for weights and biases\n",
    "        self.weight_prior = dist.Normal(loc=torch.zeros(out_features, in_features).to(device), scale=torch.ones(out_features, in_features).to(device))\n",
    "        self.bias_prior = dist.Normal(loc=torch.zeros(out_features).to(device), scale=torch.ones(out_features).to(device))\n",
    "        \n",
    "        # Variational parameters\n",
    "        self.weight_mu = nn.Parameter(torch.zeros(out_features, in_features).to(device))\n",
    "        self.weight_logvar = nn.Parameter(torch.zeros(out_features, in_features).to(device))\n",
    "        self.bias_mu = nn.Parameter(torch.zeros(out_features).to(device))\n",
    "        self.bias_logvar = nn.Parameter(torch.zeros(out_features).to(device))\n",
    "\n",
    "    def forward(self, x):\n",
    "        # Sample weights and biases from their distributions\n",
    "        weight = pyro.sample(\"weight\", dist.Normal(self.weight_mu, torch.exp(self.weight_logvar)).to_event(2))\n",
    "        bias = pyro.sample(\"bias\", dist.Normal(self.bias_mu, torch.exp(self.bias_logvar)).to_event(1))\n",
    "        return F.linear(x, weight, bias)\n",
    "\n",
    "    \n",
    "class BayesianGCN(nn.Module):\n",
    "    def __init__(self, num_node_features, num_classes):\n",
    "        super(BayesianGCN, self).__init__()\n",
    "        \n",
    "        # Here, for simplicity, I'm replacing GCNConv with BayesianLinear\n",
    "        # For real-world usage, a Bayesian version of GCNConv would be needed\n",
    "        self.conv1 = BayesianLinear(num_node_features, 128)\n",
    "        self.conv2 = BayesianLinear(128, 128)\n",
    "        self.conv3 = BayesianLinear(128, 64)\n",
    "        \n",
    "        self.classifier = BayesianLinear(64, num_classes)\n",
    "        \n",
    "    def forward(self, data):\n",
    "        x = data.x  # Extract node features from the DataBatch\n",
    "        batch = data.batch  # Extract batch information from the DataBatch\n",
    "\n",
    "        x = F.relu(self.conv1(x))\n",
    "        x = F.relu(self.conv2(x))\n",
    "        x = F.relu(self.conv3(x))\n",
    "\n",
    "        # Use the batch information for global mean pooling\n",
    "        x = global_mean_pool(x, batch)\n",
    "\n",
    "        x = self.classifier(x)\n",
    "\n",
    "        return x\n",
    "\n",
    "# KL Divergence Loss\n",
    "def kl_divergence(layer):\n",
    "    # Compute KL divergence between q and p\n",
    "    kl_weight = torch.distributions.kl_divergence(dist.Normal(layer.weight_mu, torch.exp(layer.weight_logvar)), layer.weight_prior).sum()\n",
    "    kl_bias = torch.distributions.kl_divergence(dist.Normal(layer.bias_mu, torch.exp(layer.bias_logvar)), layer.bias_prior).sum()\n",
    "    return kl_weight + kl_bias\n",
    "\n",
    "\n",
    "def train_bayesian():\n",
    "    model.train()\n",
    "    loss_all = 0\n",
    "    correct = 0\n",
    "    total = 0\n",
    "    for data in myloader:\n",
    "        data = data.to(device)\n",
    "        optimizer.zero_grad()\n",
    "        output = model(data)\n",
    "        label = data.y.to(device)\n",
    "        \n",
    "        # Cross entropy loss\n",
    "        loss = F.cross_entropy(output, label)\n",
    "        \n",
    "        # Accumulate KL divergence for each layer\n",
    "        total_kl = 0\n",
    "        for layer in model.children():\n",
    "            if isinstance(layer, BayesianLinear):\n",
    "                total_kl += kl_divergence(layer)\n",
    "        \n",
    "        # Add KL divergence to the loss\n",
    "        loss += total_kl\n",
    "        \n",
    "        loss.backward()\n",
    "        loss_all += data.num_graphs * loss.item()\n",
    "        optimizer.step()\n",
    "        _, predicted = torch.max(output, 1)\n",
    "        total += label.size(0)\n",
    "        correct += (predicted == label).sum().item()\n",
    "        \n",
    "    accuracy = 100 * correct / total\n",
    "    return loss_all / len(myloader.dataset), accuracy\n",
    "\n",
    "\n",
    "\n",
    "# Now we can create a DataLoader\n",
    "myloader = DataLoader(train_data, batch_size=64, shuffle=True)\n",
    "# Create a model and an optimizer\n",
    "device = torch.device('cuda' if torch.cuda.is_available() else 'cpu')\n",
    "model = BayesianGCN(num_node_features=50, num_classes=9).to(device)\n",
    "optimizer = torch.optim.Adam(model.parameters(), lr=0.01, weight_decay=5e-4)\n",
    "\n",
    "# Now, you can call your training function\n",
    "loss_ep = []\n",
    "ac_ep = []\n",
    "for epoch in range(100):\n",
    "    loss, ac = train_bayesian()\n",
    "    loss_ep.append(loss)\n",
    "    ac_ep.append(ac)\n",
    "    print('Epoch: {:03d}, Loss: {:.5f}, ac: {:.5f}'.format(epoch, loss, ac))"
   ]
  },
  {
   "cell_type": "code",
   "execution_count": 9,
   "id": "6923680f",
   "metadata": {},
   "outputs": [],
   "source": []
  },
  {
   "cell_type": "code",
   "execution_count": 21,
   "id": "c69d420f",
   "metadata": {},
   "outputs": [
    {
     "data": {
      "text/plain": [
       "Text(0, 0.5, 'Loss')"
      ]
     },
     "execution_count": 21,
     "metadata": {},
     "output_type": "execute_result"
    },
    {
     "data": {
      "image/png": "[encoded data removed]",
      "text/plain": [
       "<Figure size 640x480 with 1 Axes>"
      ]
     },
     "metadata": {},
     "output_type": "display_data"
    }
   ],
   "source": [
    "plt.plot(loss_ep)\n",
    "# plt.plot(ac_ep,color='green')\n",
    "plt.xlabel('Epoch',size=12)\n",
    "# plt.ylabel('Accuracy')\n",
    "plt.ylabel('Loss',size=12)\n"
   ]
  },
  {
   "cell_type": "code",
   "execution_count": 53,
   "id": "5d218a05",
   "metadata": {},
   "outputs": [
    {
     "data": {
      "text/plain": [
       "2700"
      ]
     },
     "execution_count": 53,
     "metadata": {},
     "output_type": "execute_result"
    }
   ],
   "source": [
    "len(dataset)"
   ]
  },
  {
   "cell_type": "code",
   "execution_count": 22,
   "id": "7f137da3",
   "metadata": {},
   "outputs": [],
   "source": [
    "# Example unseen graph data (make sure it's similar to your training data in structure)\n",
    "# unseen_data = [dataset[1], dataset[310], dataset[660], dataset[1000]]  # Replace with your actual graph data\n",
    "\n",
    "# Convert to DataLoader\n",
    "unseen_loader = DataLoader(test_data, batch_size=32)  # Adjust batch size as needed\n",
    "\n",
    "# Function for prediction\n",
    "def predict(loader):\n",
    "    model.eval()  # Set model to evaluation mode\n",
    "    predictions = []\n",
    "\n",
    "    with torch.no_grad():\n",
    "        for data in loader:\n",
    "            data = data.to(device)\n",
    "            output = model(data)\n",
    "            _, predicted_class = output.max(dim=1)\n",
    "#             predicted_class = torch.argmax(output, dim=1)\n",
    "            predictions.extend(predicted_class.cpu().numpy().tolist())\n",
    "\n",
    "    return predictions\n",
    "\n",
    "# Get predictions\n",
    "predicted_classes = predict(unseen_loader)\n",
    "# print(predicted_classes)\n"
   ]
  },
  {
   "cell_type": "code",
   "execution_count": 23,
   "id": "27e214d3",
   "metadata": {},
   "outputs": [],
   "source": [
    "correct = 0\n",
    "total = 0\n",
    "y_test = []\n",
    "# ac = []\n",
    "for i in range(len(test_data)):\n",
    "    data_i = test_data[i]\n",
    "    predicted =  predicted_classes[i]\n",
    "    label = data_i.y.to(device)\n",
    "    total += label.size(0)  # Change \"labels\" to \"label\"\n",
    "    correct += (predicted == label).sum().item()\n",
    "    y_test.append(label)# Change \"labels\" to \"label\"\n",
    "accuracy = 100 * correct / total"
   ]
  },
  {
   "cell_type": "code",
   "execution_count": 24,
   "id": "f04d0e2c",
   "metadata": {},
   "outputs": [
    {
     "data": {
      "text/plain": [
       "11.0"
      ]
     },
     "execution_count": 24,
     "metadata": {},
     "output_type": "execute_result"
    }
   ],
   "source": [
    "accuracy"
   ]
  },
  {
   "cell_type": "code",
   "execution_count": 73,
   "id": "a56388ec",
   "metadata": {},
   "outputs": [
    {
     "ename": "ValueError",
     "evalue": "multiclass format is not supported",
     "output_type": "error",
     "traceback": [
      "\u001b[0;31m---------------------------------------------------------------------------\u001b[0m",
      "\u001b[0;31mValueError\u001b[0m                                Traceback (most recent call last)",
      "Cell \u001b[0;32mIn[73], line 3\u001b[0m\n\u001b[1;32m      1\u001b[0m \u001b[38;5;28;01mimport\u001b[39;00m \u001b[38;5;21;01msklearn\u001b[39;00m\u001b[38;5;21;01m.\u001b[39;00m\u001b[38;5;21;01mmetrics\u001b[39;00m \u001b[38;5;28;01mas\u001b[39;00m \u001b[38;5;21;01mmetrics\u001b[39;00m\n\u001b[0;32m----> 3\u001b[0m fpr, tpr, threshold \u001b[38;5;241m=\u001b[39m metrics\u001b[38;5;241m.\u001b[39mroc_curve(y_test, predicted_classes)\n\u001b[1;32m      4\u001b[0m roc_auc \u001b[38;5;241m=\u001b[39m metrics\u001b[38;5;241m.\u001b[39mauc(fpr, tpr)\n\u001b[1;32m      6\u001b[0m \u001b[38;5;66;03m# method I: plt\u001b[39;00m\n",
      "File \u001b[0;32m~/anaconda3/envs/gnn/lib/python3.11/site-packages/sklearn/utils/_param_validation.py:211\u001b[0m, in \u001b[0;36mvalidate_params.<locals>.decorator.<locals>.wrapper\u001b[0;34m(*args, **kwargs)\u001b[0m\n\u001b[1;32m    205\u001b[0m \u001b[38;5;28;01mtry\u001b[39;00m:\n\u001b[1;32m    206\u001b[0m     \u001b[38;5;28;01mwith\u001b[39;00m config_context(\n\u001b[1;32m    207\u001b[0m         skip_parameter_validation\u001b[38;5;241m=\u001b[39m(\n\u001b[1;32m    208\u001b[0m             prefer_skip_nested_validation \u001b[38;5;129;01mor\u001b[39;00m global_skip_validation\n\u001b[1;32m    209\u001b[0m         )\n\u001b[1;32m    210\u001b[0m     ):\n\u001b[0;32m--> 211\u001b[0m         \u001b[38;5;28;01mreturn\u001b[39;00m func(\u001b[38;5;241m*\u001b[39margs, \u001b[38;5;241m*\u001b[39m\u001b[38;5;241m*\u001b[39mkwargs)\n\u001b[1;32m    212\u001b[0m \u001b[38;5;28;01mexcept\u001b[39;00m InvalidParameterError \u001b[38;5;28;01mas\u001b[39;00m e:\n\u001b[1;32m    213\u001b[0m     \u001b[38;5;66;03m# When the function is just a wrapper around an estimator, we allow\u001b[39;00m\n\u001b[1;32m    214\u001b[0m     \u001b[38;5;66;03m# the function to delegate validation to the estimator, but we replace\u001b[39;00m\n\u001b[1;32m    215\u001b[0m     \u001b[38;5;66;03m# the name of the estimator by the name of the function in the error\u001b[39;00m\n\u001b[1;32m    216\u001b[0m     \u001b[38;5;66;03m# message to avoid confusion.\u001b[39;00m\n\u001b[1;32m    217\u001b[0m     msg \u001b[38;5;241m=\u001b[39m re\u001b[38;5;241m.\u001b[39msub(\n\u001b[1;32m    218\u001b[0m         \u001b[38;5;124mr\u001b[39m\u001b[38;5;124m\"\u001b[39m\u001b[38;5;124mparameter of \u001b[39m\u001b[38;5;124m\\\u001b[39m\u001b[38;5;124mw+ must be\u001b[39m\u001b[38;5;124m\"\u001b[39m,\n\u001b[1;32m    219\u001b[0m         \u001b[38;5;124mf\u001b[39m\u001b[38;5;124m\"\u001b[39m\u001b[38;5;124mparameter of \u001b[39m\u001b[38;5;132;01m{\u001b[39;00mfunc\u001b[38;5;241m.\u001b[39m\u001b[38;5;18m__qualname__\u001b[39m\u001b[38;5;132;01m}\u001b[39;00m\u001b[38;5;124m must be\u001b[39m\u001b[38;5;124m\"\u001b[39m,\n\u001b[1;32m    220\u001b[0m         \u001b[38;5;28mstr\u001b[39m(e),\n\u001b[1;32m    221\u001b[0m     )\n",
      "File \u001b[0;32m~/anaconda3/envs/gnn/lib/python3.11/site-packages/sklearn/metrics/_ranking.py:1094\u001b[0m, in \u001b[0;36mroc_curve\u001b[0;34m(y_true, y_score, pos_label, sample_weight, drop_intermediate)\u001b[0m\n\u001b[1;32m    992\u001b[0m \u001b[38;5;129m@validate_params\u001b[39m(\n\u001b[1;32m    993\u001b[0m     {\n\u001b[1;32m    994\u001b[0m         \u001b[38;5;124m\"\u001b[39m\u001b[38;5;124my_true\u001b[39m\u001b[38;5;124m\"\u001b[39m: [\u001b[38;5;124m\"\u001b[39m\u001b[38;5;124marray-like\u001b[39m\u001b[38;5;124m\"\u001b[39m],\n\u001b[0;32m   (...)\u001b[0m\n\u001b[1;32m   1003\u001b[0m     y_true, y_score, \u001b[38;5;241m*\u001b[39m, pos_label\u001b[38;5;241m=\u001b[39m\u001b[38;5;28;01mNone\u001b[39;00m, sample_weight\u001b[38;5;241m=\u001b[39m\u001b[38;5;28;01mNone\u001b[39;00m, drop_intermediate\u001b[38;5;241m=\u001b[39m\u001b[38;5;28;01mTrue\u001b[39;00m\n\u001b[1;32m   1004\u001b[0m ):\n\u001b[1;32m   1005\u001b[0m \u001b[38;5;250m    \u001b[39m\u001b[38;5;124;03m\"\"\"Compute Receiver operating characteristic (ROC).\u001b[39;00m\n\u001b[1;32m   1006\u001b[0m \n\u001b[1;32m   1007\u001b[0m \u001b[38;5;124;03m    Note: this implementation is restricted to the binary classification task.\u001b[39;00m\n\u001b[0;32m   (...)\u001b[0m\n\u001b[1;32m   1092\u001b[0m \u001b[38;5;124;03m    array([ inf, 0.8 , 0.4 , 0.35, 0.1 ])\u001b[39;00m\n\u001b[1;32m   1093\u001b[0m \u001b[38;5;124;03m    \"\"\"\u001b[39;00m\n\u001b[0;32m-> 1094\u001b[0m     fps, tps, thresholds \u001b[38;5;241m=\u001b[39m _binary_clf_curve(\n\u001b[1;32m   1095\u001b[0m         y_true, y_score, pos_label\u001b[38;5;241m=\u001b[39mpos_label, sample_weight\u001b[38;5;241m=\u001b[39msample_weight\n\u001b[1;32m   1096\u001b[0m     )\n\u001b[1;32m   1098\u001b[0m     \u001b[38;5;66;03m# Attempt to drop thresholds corresponding to points in between and\u001b[39;00m\n\u001b[1;32m   1099\u001b[0m     \u001b[38;5;66;03m# collinear with other points. These are always suboptimal and do not\u001b[39;00m\n\u001b[1;32m   1100\u001b[0m     \u001b[38;5;66;03m# appear on a plotted ROC curve (and thus do not affect the AUC).\u001b[39;00m\n\u001b[0;32m   (...)\u001b[0m\n\u001b[1;32m   1105\u001b[0m     \u001b[38;5;66;03m# but does not drop more complicated cases like fps = [1, 3, 7],\u001b[39;00m\n\u001b[1;32m   1106\u001b[0m     \u001b[38;5;66;03m# tps = [1, 2, 4]; there is no harm in keeping too many thresholds.\u001b[39;00m\n\u001b[1;32m   1107\u001b[0m     \u001b[38;5;28;01mif\u001b[39;00m drop_intermediate \u001b[38;5;129;01mand\u001b[39;00m \u001b[38;5;28mlen\u001b[39m(fps) \u001b[38;5;241m>\u001b[39m \u001b[38;5;241m2\u001b[39m:\n",
      "File \u001b[0;32m~/anaconda3/envs/gnn/lib/python3.11/site-packages/sklearn/metrics/_ranking.py:803\u001b[0m, in \u001b[0;36m_binary_clf_curve\u001b[0;34m(y_true, y_score, pos_label, sample_weight)\u001b[0m\n\u001b[1;32m    801\u001b[0m y_type \u001b[38;5;241m=\u001b[39m type_of_target(y_true, input_name\u001b[38;5;241m=\u001b[39m\u001b[38;5;124m\"\u001b[39m\u001b[38;5;124my_true\u001b[39m\u001b[38;5;124m\"\u001b[39m)\n\u001b[1;32m    802\u001b[0m \u001b[38;5;28;01mif\u001b[39;00m \u001b[38;5;129;01mnot\u001b[39;00m (y_type \u001b[38;5;241m==\u001b[39m \u001b[38;5;124m\"\u001b[39m\u001b[38;5;124mbinary\u001b[39m\u001b[38;5;124m\"\u001b[39m \u001b[38;5;129;01mor\u001b[39;00m (y_type \u001b[38;5;241m==\u001b[39m \u001b[38;5;124m\"\u001b[39m\u001b[38;5;124mmulticlass\u001b[39m\u001b[38;5;124m\"\u001b[39m \u001b[38;5;129;01mand\u001b[39;00m pos_label \u001b[38;5;129;01mis\u001b[39;00m \u001b[38;5;129;01mnot\u001b[39;00m \u001b[38;5;28;01mNone\u001b[39;00m)):\n\u001b[0;32m--> 803\u001b[0m     \u001b[38;5;28;01mraise\u001b[39;00m \u001b[38;5;167;01mValueError\u001b[39;00m(\u001b[38;5;124m\"\u001b[39m\u001b[38;5;132;01m{0}\u001b[39;00m\u001b[38;5;124m format is not supported\u001b[39m\u001b[38;5;124m\"\u001b[39m\u001b[38;5;241m.\u001b[39mformat(y_type))\n\u001b[1;32m    805\u001b[0m check_consistent_length(y_true, y_score, sample_weight)\n\u001b[1;32m    806\u001b[0m y_true \u001b[38;5;241m=\u001b[39m column_or_1d(y_true)\n",
      "\u001b[0;31mValueError\u001b[0m: multiclass format is not supported"
     ]
    }
   ],
   "source": [
    "fpr = dict()\n",
    "tpr = dict()\n",
    "roc_auc = dict()\n",
    "lw=2\n",
    "n_classes = 9\n",
    "for i in range(n_classes):\n",
    "    fpr[i], tpr[i], _ = roc_curve(y_test[:, i], y_score[:, i])\n",
    "    roc_auc[i] = auc(fpr[i], tpr[i])\n",
    "colors = cycle(['blue', 'red', 'green'])\n",
    "for i, color in zip(range(n_classes), colors):\n",
    "    plt.plot(fpr[i], tpr[i], color=color, lw=2,\n",
    "             label='ROC curve of class {0} (area = {1:0.2f})'\n",
    "             ''.format(i, roc_auc[i]))\n",
    "plt.plot([0, 1], [0, 1], 'k--', lw=lw)\n",
    "plt.xlim([-0.05, 1.0])\n",
    "plt.ylim([0.0, 1.05])\n",
    "plt.xlabel('False Positive Rate')\n",
    "plt.ylabel('True Positive Rate')\n",
    "plt.title('Receiver operating characteristic for multi-class data')\n",
    "plt.legend(loc=\"lower right\")\n",
    "plt.show()"
   ]
  },
  {
   "cell_type": "code",
   "execution_count": 35,
   "id": "aa79c9f9",
   "metadata": {},
   "outputs": [
    {
     "data": {
      "text/plain": [
       "GCN(\n",
       "  (conv1): GCNConv(50, 128)\n",
       "  (conv2): GCNConv(128, 64)\n",
       "  (classifier): Linear(in_features=64, out_features=9, bias=True)\n",
       ")"
      ]
     },
     "execution_count": 35,
     "metadata": {},
     "output_type": "execute_result"
    }
   ],
   "source": [
    "import torch\n",
    "\n",
    "# Save:\n",
    "torch.save(model.state_dict(), 'model_path.pt')\n",
    "\n",
    "# Load:\n",
    "model1 = GCN(50,9)  # Initialize your model architecture\n",
    "model1.load_state_dict(torch.load('model_path.pt'))\n",
    "model1.eval()  # Set in evaluation mode"
   ]
  },
  {
   "cell_type": "code",
   "execution_count": 37,
   "id": "2f65f047",
   "metadata": {},
   "outputs": [],
   "source": [
    "model1.eval()  # Set model to evaluation mode\n",
    "predictions = []\n",
    "\n",
    "with torch.no_grad():\n",
    "    for data in unseen_loader:\n",
    "        data = data.to(device)\n",
    "        output = model1(data)\n",
    "        predicted_class = torch.argmax(output, dim=1)\n",
    "        predictions.extend(predicted_class.cpu().numpy().tolist())"
   ]
  },
  {
   "cell_type": "code",
   "execution_count": 38,
   "id": "231fcd97",
   "metadata": {},
   "outputs": [
    {
     "data": {
      "text/plain": [
       "[0, 1, 2, 3]"
      ]
     },
     "execution_count": 38,
     "metadata": {},
     "output_type": "execute_result"
    }
   ],
   "source": [
    "predictions"
   ]
  },
  {
   "cell_type": "code",
   "execution_count": null,
   "id": "157f2783",
   "metadata": {},
   "outputs": [],
   "source": [
    "# Example single graph data\n",
    "single_graph = Data(...)  # Replace with your actual graph data\n",
    "\n",
    "# Move data to device\n",
    "single_graph = single_graph.to(device)\n",
    "\n",
    "# Function for prediction on a single graph\n",
    "def predict_single(graph):\n",
    "    model.eval()  # Set model to evaluation mode\n",
    "\n",
    "    with torch.no_grad():\n",
    "        output = model(graph)\n",
    "        predicted_class = torch.argmax(output, dim=1)\n",
    "\n",
    "    return predicted_class.item()  # Convert tensor to Python scalar\n",
    "\n",
    "# Get prediction\n",
    "predicted_class = predict_single(single_graph)\n",
    "print(predicted_class)\n"
   ]
  }
 ],
 "metadata": {
  "kernelspec": {
   "display_name": "gnn",
   "language": "python",
   "name": "gnn"
  },
  "language_info": {
   "codemirror_mode": {
    "name": "ipython",
    "version": 3
   },
   "file_extension": ".py",
   "mimetype": "text/x-python",
   "name": "python",
   "nbconvert_exporter": "python",
   "pygments_lexer": "ipython3",
   "version": "3.11.4"
  }
 },
 "nbformat": 4,
 "nbformat_minor": 5
}
