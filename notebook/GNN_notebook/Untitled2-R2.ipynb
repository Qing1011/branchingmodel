{
 "cells": [
  {
   "cell_type": "code",
   "execution_count": 11,
   "id": "045a21f9",
   "metadata": {},
   "outputs": [],
   "source": [
    "import torch\n",
    "from torch.nn import Linear\n",
    "from torch_geometric.nn import GCNConv, NNConv, global_mean_pool, TopKPooling\n",
    "from torch_geometric.nn.glob import GlobalAttention\n",
    "from torch_geometric.data import Data,DataLoader\n",
    "# from torch.utils.data import DataLoader, TensorDataset\n",
    "# from torch_geometric.loader import DataLoader\n",
    "import torch.nn.functional as F\n",
    "from torch_geometric.utils.convert import from_scipy_sparse_matrix\n",
    "from torch_geometric.utils.convert import from_networkx\n",
    "from torch_geometric.nn import GCNConv, global_mean_pool, BatchNorm\n",
    "from torch_geometric.data import DataLoader\n",
    "from torch.optim.lr_scheduler import StepLR\n",
    "import random\n",
    "import numpy as np\n",
    "import matplotlib.pyplot as plt\n",
    "from scipy.io import loadmat, savemat\n",
    "import pandas as pd\n",
    "import scipy.special as SS\n",
    "import scipy.stats as SSA\n",
    "import copy\n",
    "import math\n",
    "from sklearn.model_selection import ParameterGrid\n",
    "import os\n",
    "import numpy.linalg as LA\n",
    "import gzip\n",
    "from torch_geometric.utils import add_self_loops\n",
    "\n",
    "from scipy import sparse\n",
    "\n",
    "# load pickle module\n",
    "import pickle\n",
    "import networkx as nx\n",
    "import torch.nn as nn"
   ]
  },
  {
   "cell_type": "code",
   "execution_count": 12,
   "id": "d594d72c",
   "metadata": {},
   "outputs": [],
   "source": [
    "R0 = 2.5\n",
    "rs = np.array([20, 10, 2.0, 1.0, 0.5, 0.2, 0.1, 0.05, 0.025])"
   ]
  },
  {
   "cell_type": "code",
   "execution_count": 46,
   "metadata": {},
   "outputs": [
    {
     "data": {
      "text/plain": [
       "<matplotlib.collections.PathCollection at 0x2a49e2a50>"
      ]
     },
     "execution_count": 46,
     "metadata": {},
     "output_type": "execute_result"
    },
    {
     "data": {
      "image/png": "[encoded data removed]",
      "text/plain": [
       "<Figure size 640x480 with 1 Axes>"
      ]
     },
     "metadata": {},
     "output_type": "display_data"
    }
   ],
   "source": [
    "plt.scatter(range(9),np.log(rs))"
   ]
  },
  {
   "cell_type": "code",
   "execution_count": 13,
   "id": "d56b6878",
   "metadata": {},
   "outputs": [],
   "source": [
    "WN = np.loadtxt('../W_avg.csv') ### numpy arrary\n",
    "WN2 = np.dot(WN, WN)\n",
    "# prob = WN[:,1858]\n",
    "prob = WN2[:,1858]\n",
    "prob_2d = prob.reshape(-1,1)"
   ]
  },
  {
   "cell_type": "code",
   "execution_count": 14,
   "id": "e3fbbe1d",
   "metadata": {},
   "outputs": [],
   "source": [
    "g_s = nx.from_numpy_array(WN)\n",
    "edges = np.array(g_s.edges()).transpose()\n",
    "edge_index = torch.tensor(edges,dtype = torch.int64)\n",
    "# edge_weight = torch.tensor(WN[edge_index[0], edge_index[1]], dtype=torch.float)\n",
    "edge_weights = []\n",
    "for (u, v) in g_s.edges():\n",
    "    edge_weights.append([g_s[u][v]['weight']])\n",
    "edge_weights = torch.tensor(edge_weights, dtype=torch.float32)"
   ]
  },
  {
   "cell_type": "code",
   "execution_count": 15,
   "id": "6dc84482",
   "metadata": {},
   "outputs": [],
   "source": [
    "def load_gzipped_numpy(filename):\n",
    "    try:\n",
    "        with gzip.open(filename, 'rb') as f:\n",
    "            return np.load(f, allow_pickle=True)\n",
    "    except FileNotFoundError:\n",
    "        return [0]"
   ]
  },
  {
   "cell_type": "code",
   "execution_count": 47,
   "id": "6a0087b0",
   "metadata": {},
   "outputs": [
    {
     "name": "stdout",
     "output_type": "stream",
     "text": [
      "20.0 0\n",
      "10.0 0\n",
      "2.0 1\n",
      "1.0 1\n",
      "0.5 1\n",
      "0.2 2\n",
      "0.1 2\n",
      "0.05 3\n",
      "0.025 3\n"
     ]
    }
   ],
   "source": [
    "export_dir = '/Users/qingyao/Documents/branching_data/simulation/python_cutoff_addno/'\n",
    "#### data preparation\n",
    "dataset = []\n",
    "r_class = {20:0, 10:0, 2.0:1, 1.0:1, 0.5:1, 0.2:2, 0.1:2, 0.05:3, 0.025:3}\n",
    "for r_idx in range(9):\n",
    "    r = rs[r_idx]\n",
    "    sub_export_dir = export_dir+'branching_R0-{}_r-{}/'.format(np.round(R0,2),np.round(r,3))\n",
    "    r_c = r_class[r]\n",
    "    print(r, r_c)\n",
    "    # Create a list to hold our Data objects\n",
    "    for g_idx in range(300):\n",
    "        export_names = sub_export_dir+'NewInf_R0-{}_r-{}_{}.npy.gz'.format(np.round(R0,2),np.round(r,3),(g_idx+1))\n",
    "        g_i = load_gzipped_numpy(export_names)\n",
    "#         g_i_new = np.hstack((g_i[:,10:], prob_2d))\n",
    "        g_i_new = g_i[:,10:] * prob_2d\n",
    "        matrix = torch.from_numpy(g_i_new)\n",
    "        \n",
    "        y = torch.log(torch.tensor([[r]], dtype=torch.float))\n",
    "        # Create a Data object for each graph\n",
    "        data = Data(x=matrix, edge_index=edge_index, edge_attr=edge_weights,y=y)\n",
    "        data.x = data.x.float()\n",
    "#         data.y = data.y.long()\n",
    "        # Add the Data object to our list\n",
    "        dataset.append(data)"
   ]
  },
  {
   "cell_type": "code",
   "execution_count": 63,
   "id": "b3079dd1",
   "metadata": {},
   "outputs": [],
   "source": [
    "from torch.utils.data import random_split\n",
    "train_data, test_data = random_split(dataset, [int(2700*0.8), int(2700*0.2)])"
   ]
  },
  {
   "cell_type": "code",
   "execution_count": 64,
   "id": "41143989",
   "metadata": {},
   "outputs": [
    {
     "name": "stderr",
     "output_type": "stream",
     "text": [
      "/Users/qingyao/anaconda3/envs/gnn/lib/python3.11/site-packages/torch_geometric/deprecation.py:22: UserWarning: 'data.DataLoader' is deprecated, use 'loader.DataLoader' instead\n",
      "  warnings.warn(out)\n",
      "  0%|          | 0/100 [00:00<?, ?it/s]"
     ]
    },
    {
     "name": "stderr",
     "output_type": "stream",
     "text": [
      "Epoch: 001, Loss: 5.5757:   1%|          | 1/100 [00:00<01:00,  1.63it/s]"
     ]
    },
    {
     "name": "stdout",
     "output_type": "stream",
     "text": [
      "Epoch: 001, Loss: 5.57565\n"
     ]
    },
    {
     "name": "stderr",
     "output_type": "stream",
     "text": [
      "Epoch: 002, Loss: 4.8727:   2%|▏         | 2/100 [00:01<00:58,  1.68it/s]"
     ]
    },
    {
     "name": "stdout",
     "output_type": "stream",
     "text": [
      "Epoch: 002, Loss: 4.87271\n"
     ]
    },
    {
     "name": "stderr",
     "output_type": "stream",
     "text": [
      "Epoch: 003, Loss: 4.7472:   3%|▎         | 3/100 [00:01<00:56,  1.73it/s]"
     ]
    },
    {
     "name": "stdout",
     "output_type": "stream",
     "text": [
      "Epoch: 003, Loss: 4.74717\n"
     ]
    },
    {
     "name": "stderr",
     "output_type": "stream",
     "text": [
      "Epoch: 004, Loss: 4.6821:   4%|▍         | 4/100 [00:02<00:55,  1.73it/s]"
     ]
    },
    {
     "name": "stdout",
     "output_type": "stream",
     "text": [
      "Epoch: 004, Loss: 4.68214\n"
     ]
    },
    {
     "name": "stderr",
     "output_type": "stream",
     "text": [
      "Epoch: 005, Loss: 4.6677:   5%|▌         | 5/100 [00:02<00:54,  1.75it/s]"
     ]
    },
    {
     "name": "stdout",
     "output_type": "stream",
     "text": [
      "Epoch: 005, Loss: 4.66773\n"
     ]
    },
    {
     "name": "stderr",
     "output_type": "stream",
     "text": [
      "Epoch: 006, Loss: 4.6051:   6%|▌         | 6/100 [00:03<00:54,  1.74it/s]"
     ]
    },
    {
     "name": "stdout",
     "output_type": "stream",
     "text": [
      "Epoch: 006, Loss: 4.60514\n"
     ]
    },
    {
     "name": "stderr",
     "output_type": "stream",
     "text": [
      "Epoch: 007, Loss: 4.4790:   7%|▋         | 7/100 [00:04<00:55,  1.69it/s]"
     ]
    },
    {
     "name": "stdout",
     "output_type": "stream",
     "text": [
      "Epoch: 007, Loss: 4.47899\n"
     ]
    },
    {
     "name": "stderr",
     "output_type": "stream",
     "text": [
      "Epoch: 008, Loss: 4.4237:   8%|▊         | 8/100 [00:04<00:55,  1.66it/s]"
     ]
    },
    {
     "name": "stdout",
     "output_type": "stream",
     "text": [
      "Epoch: 008, Loss: 4.42369\n"
     ]
    },
    {
     "name": "stderr",
     "output_type": "stream",
     "text": [
      "Epoch: 009, Loss: 4.3518:   9%|▉         | 9/100 [00:05<00:53,  1.69it/s]"
     ]
    },
    {
     "name": "stdout",
     "output_type": "stream",
     "text": [
      "Epoch: 009, Loss: 4.35181\n"
     ]
    },
    {
     "name": "stderr",
     "output_type": "stream",
     "text": [
      "Epoch: 010, Loss: 4.2784:  10%|█         | 10/100 [00:05<00:52,  1.72it/s]"
     ]
    },
    {
     "name": "stdout",
     "output_type": "stream",
     "text": [
      "Epoch: 010, Loss: 4.27843\n"
     ]
    },
    {
     "name": "stderr",
     "output_type": "stream",
     "text": [
      "Epoch: 011, Loss: 4.2406:  11%|█         | 11/100 [00:06<00:50,  1.75it/s]"
     ]
    },
    {
     "name": "stdout",
     "output_type": "stream",
     "text": [
      "Epoch: 011, Loss: 4.24059\n"
     ]
    },
    {
     "name": "stderr",
     "output_type": "stream",
     "text": [
      "Epoch: 012, Loss: 4.1817:  12%|█▏        | 12/100 [00:06<00:50,  1.75it/s]"
     ]
    },
    {
     "name": "stdout",
     "output_type": "stream",
     "text": [
      "Epoch: 012, Loss: 4.18173\n"
     ]
    },
    {
     "name": "stderr",
     "output_type": "stream",
     "text": [
      "Epoch: 013, Loss: 4.1077:  13%|█▎        | 13/100 [00:07<00:50,  1.74it/s]"
     ]
    },
    {
     "name": "stdout",
     "output_type": "stream",
     "text": [
      "Epoch: 013, Loss: 4.10767\n"
     ]
    },
    {
     "name": "stderr",
     "output_type": "stream",
     "text": [
      "Epoch: 014, Loss: 4.0360:  14%|█▍        | 14/100 [00:08<00:49,  1.74it/s]"
     ]
    },
    {
     "name": "stdout",
     "output_type": "stream",
     "text": [
      "Epoch: 014, Loss: 4.03604\n"
     ]
    },
    {
     "name": "stderr",
     "output_type": "stream",
     "text": [
      "Epoch: 015, Loss: 3.9693:  15%|█▌        | 15/100 [00:08<00:48,  1.74it/s]"
     ]
    },
    {
     "name": "stdout",
     "output_type": "stream",
     "text": [
      "Epoch: 015, Loss: 3.96930\n"
     ]
    },
    {
     "name": "stderr",
     "output_type": "stream",
     "text": [
      "Epoch: 016, Loss: 3.9518:  16%|█▌        | 16/100 [00:09<00:48,  1.72it/s]"
     ]
    },
    {
     "name": "stdout",
     "output_type": "stream",
     "text": [
      "Epoch: 016, Loss: 3.95175\n"
     ]
    },
    {
     "name": "stderr",
     "output_type": "stream",
     "text": [
      "Epoch: 017, Loss: 3.8775:  17%|█▋        | 17/100 [00:09<00:48,  1.72it/s]"
     ]
    },
    {
     "name": "stdout",
     "output_type": "stream",
     "text": [
      "Epoch: 017, Loss: 3.87753\n"
     ]
    },
    {
     "name": "stderr",
     "output_type": "stream",
     "text": [
      "Epoch: 018, Loss: 3.8547:  18%|█▊        | 18/100 [00:10<00:47,  1.74it/s]"
     ]
    },
    {
     "name": "stdout",
     "output_type": "stream",
     "text": [
      "Epoch: 018, Loss: 3.85474\n"
     ]
    },
    {
     "name": "stderr",
     "output_type": "stream",
     "text": [
      "Epoch: 019, Loss: 3.7555:  19%|█▉        | 19/100 [00:11<00:47,  1.72it/s]"
     ]
    },
    {
     "name": "stdout",
     "output_type": "stream",
     "text": [
      "Epoch: 019, Loss: 3.75553\n"
     ]
    },
    {
     "name": "stderr",
     "output_type": "stream",
     "text": [
      "Epoch: 020, Loss: 3.7034:  20%|██        | 20/100 [00:11<00:46,  1.73it/s]"
     ]
    },
    {
     "name": "stdout",
     "output_type": "stream",
     "text": [
      "Epoch: 020, Loss: 3.70339\n"
     ]
    },
    {
     "name": "stderr",
     "output_type": "stream",
     "text": [
      "Epoch: 021, Loss: 3.6428:  21%|██        | 21/100 [00:12<00:45,  1.73it/s]"
     ]
    },
    {
     "name": "stdout",
     "output_type": "stream",
     "text": [
      "Epoch: 021, Loss: 3.64282\n"
     ]
    },
    {
     "name": "stderr",
     "output_type": "stream",
     "text": [
      "Epoch: 022, Loss: 3.6025:  22%|██▏       | 22/100 [00:12<00:44,  1.75it/s]"
     ]
    },
    {
     "name": "stdout",
     "output_type": "stream",
     "text": [
      "Epoch: 022, Loss: 3.60245\n"
     ]
    },
    {
     "name": "stderr",
     "output_type": "stream",
     "text": [
      "Epoch: 023, Loss: 3.5846:  23%|██▎       | 23/100 [00:13<00:44,  1.75it/s]"
     ]
    },
    {
     "name": "stdout",
     "output_type": "stream",
     "text": [
      "Epoch: 023, Loss: 3.58457\n"
     ]
    },
    {
     "name": "stderr",
     "output_type": "stream",
     "text": [
      "Epoch: 024, Loss: 3.5000:  24%|██▍       | 24/100 [00:13<00:44,  1.72it/s]"
     ]
    },
    {
     "name": "stdout",
     "output_type": "stream",
     "text": [
      "Epoch: 024, Loss: 3.49998\n"
     ]
    },
    {
     "name": "stderr",
     "output_type": "stream",
     "text": [
      "Epoch: 025, Loss: 3.4810:  25%|██▌       | 25/100 [00:14<00:43,  1.72it/s]"
     ]
    },
    {
     "name": "stdout",
     "output_type": "stream",
     "text": [
      "Epoch: 025, Loss: 3.48101\n"
     ]
    },
    {
     "name": "stderr",
     "output_type": "stream",
     "text": [
      "Epoch: 026, Loss: 3.4055:  26%|██▌       | 26/100 [00:15<00:42,  1.73it/s]"
     ]
    },
    {
     "name": "stdout",
     "output_type": "stream",
     "text": [
      "Epoch: 026, Loss: 3.40548\n"
     ]
    },
    {
     "name": "stderr",
     "output_type": "stream",
     "text": [
      "Epoch: 027, Loss: 3.3703:  27%|██▋       | 27/100 [00:15<00:41,  1.74it/s]"
     ]
    },
    {
     "name": "stdout",
     "output_type": "stream",
     "text": [
      "Epoch: 027, Loss: 3.37035\n"
     ]
    },
    {
     "name": "stderr",
     "output_type": "stream",
     "text": [
      "Epoch: 028, Loss: 3.3858:  28%|██▊       | 28/100 [00:16<00:41,  1.75it/s]"
     ]
    },
    {
     "name": "stdout",
     "output_type": "stream",
     "text": [
      "Epoch: 028, Loss: 3.38579\n"
     ]
    },
    {
     "name": "stderr",
     "output_type": "stream",
     "text": [
      "Epoch: 029, Loss: 3.2891:  29%|██▉       | 29/100 [00:16<00:41,  1.70it/s]"
     ]
    },
    {
     "name": "stdout",
     "output_type": "stream",
     "text": [
      "Epoch: 029, Loss: 3.28905\n"
     ]
    },
    {
     "name": "stderr",
     "output_type": "stream",
     "text": [
      "Epoch: 030, Loss: 3.3242:  30%|███       | 30/100 [00:17<00:40,  1.71it/s]"
     ]
    },
    {
     "name": "stdout",
     "output_type": "stream",
     "text": [
      "Epoch: 030, Loss: 3.32415\n"
     ]
    },
    {
     "name": "stderr",
     "output_type": "stream",
     "text": [
      "Epoch: 031, Loss: 3.2584:  31%|███       | 31/100 [00:17<00:40,  1.72it/s]"
     ]
    },
    {
     "name": "stdout",
     "output_type": "stream",
     "text": [
      "Epoch: 031, Loss: 3.25840\n"
     ]
    },
    {
     "name": "stderr",
     "output_type": "stream",
     "text": [
      "Epoch: 032, Loss: 3.2000:  32%|███▏      | 32/100 [00:18<00:39,  1.74it/s]"
     ]
    },
    {
     "name": "stdout",
     "output_type": "stream",
     "text": [
      "Epoch: 032, Loss: 3.19999\n"
     ]
    },
    {
     "name": "stderr",
     "output_type": "stream",
     "text": [
      "Epoch: 033, Loss: 3.1412:  33%|███▎      | 33/100 [00:19<00:38,  1.75it/s]"
     ]
    },
    {
     "name": "stdout",
     "output_type": "stream",
     "text": [
      "Epoch: 033, Loss: 3.14119\n"
     ]
    },
    {
     "name": "stderr",
     "output_type": "stream",
     "text": [
      "Epoch: 034, Loss: 3.1225:  34%|███▍      | 34/100 [00:19<00:38,  1.73it/s]"
     ]
    },
    {
     "name": "stdout",
     "output_type": "stream",
     "text": [
      "Epoch: 034, Loss: 3.12253\n"
     ]
    },
    {
     "name": "stderr",
     "output_type": "stream",
     "text": [
      "Epoch: 035, Loss: 3.1749:  35%|███▌      | 35/100 [00:20<00:37,  1.74it/s]"
     ]
    },
    {
     "name": "stdout",
     "output_type": "stream",
     "text": [
      "Epoch: 035, Loss: 3.17494\n"
     ]
    },
    {
     "name": "stderr",
     "output_type": "stream",
     "text": [
      "Epoch: 036, Loss: 3.1470:  36%|███▌      | 36/100 [00:20<00:36,  1.74it/s]"
     ]
    },
    {
     "name": "stdout",
     "output_type": "stream",
     "text": [
      "Epoch: 036, Loss: 3.14699\n"
     ]
    },
    {
     "name": "stderr",
     "output_type": "stream",
     "text": [
      "Epoch: 037, Loss: 3.1542:  37%|███▋      | 37/100 [00:21<00:36,  1.73it/s]"
     ]
    },
    {
     "name": "stdout",
     "output_type": "stream",
     "text": [
      "Epoch: 037, Loss: 3.15419\n"
     ]
    },
    {
     "name": "stderr",
     "output_type": "stream",
     "text": [
      "Epoch: 038, Loss: 3.0372:  38%|███▊      | 38/100 [00:21<00:35,  1.73it/s]"
     ]
    },
    {
     "name": "stdout",
     "output_type": "stream",
     "text": [
      "Epoch: 038, Loss: 3.03720\n"
     ]
    },
    {
     "name": "stderr",
     "output_type": "stream",
     "text": [
      "Epoch: 039, Loss: 2.9816:  39%|███▉      | 39/100 [00:22<00:35,  1.73it/s]"
     ]
    },
    {
     "name": "stdout",
     "output_type": "stream",
     "text": [
      "Epoch: 039, Loss: 2.98157\n"
     ]
    },
    {
     "name": "stderr",
     "output_type": "stream",
     "text": [
      "Epoch: 040, Loss: 2.9677:  40%|████      | 40/100 [00:23<00:34,  1.71it/s]"
     ]
    },
    {
     "name": "stdout",
     "output_type": "stream",
     "text": [
      "Epoch: 040, Loss: 2.96768\n"
     ]
    },
    {
     "name": "stderr",
     "output_type": "stream",
     "text": [
      "Epoch: 041, Loss: 2.9377:  41%|████      | 41/100 [00:23<00:34,  1.71it/s]"
     ]
    },
    {
     "name": "stdout",
     "output_type": "stream",
     "text": [
      "Epoch: 041, Loss: 2.93769\n"
     ]
    },
    {
     "name": "stderr",
     "output_type": "stream",
     "text": [
      "Epoch: 042, Loss: 2.9579:  42%|████▏     | 42/100 [00:24<00:33,  1.71it/s]"
     ]
    },
    {
     "name": "stdout",
     "output_type": "stream",
     "text": [
      "Epoch: 042, Loss: 2.95788\n"
     ]
    },
    {
     "name": "stderr",
     "output_type": "stream",
     "text": [
      "Epoch: 043, Loss: 2.8812:  43%|████▎     | 43/100 [00:24<00:33,  1.71it/s]"
     ]
    },
    {
     "name": "stdout",
     "output_type": "stream",
     "text": [
      "Epoch: 043, Loss: 2.88115\n"
     ]
    },
    {
     "name": "stderr",
     "output_type": "stream",
     "text": [
      "Epoch: 044, Loss: 2.8673:  44%|████▍     | 44/100 [00:25<00:32,  1.70it/s]"
     ]
    },
    {
     "name": "stdout",
     "output_type": "stream",
     "text": [
      "Epoch: 044, Loss: 2.86731\n"
     ]
    },
    {
     "name": "stderr",
     "output_type": "stream",
     "text": [
      "Epoch: 045, Loss: 2.8426:  45%|████▌     | 45/100 [00:26<00:32,  1.72it/s]"
     ]
    },
    {
     "name": "stdout",
     "output_type": "stream",
     "text": [
      "Epoch: 045, Loss: 2.84262\n"
     ]
    },
    {
     "name": "stderr",
     "output_type": "stream",
     "text": [
      "Epoch: 046, Loss: 2.8273:  46%|████▌     | 46/100 [00:26<00:31,  1.73it/s]"
     ]
    },
    {
     "name": "stdout",
     "output_type": "stream",
     "text": [
      "Epoch: 046, Loss: 2.82728\n"
     ]
    },
    {
     "name": "stderr",
     "output_type": "stream",
     "text": [
      "Epoch: 047, Loss: 2.8287:  47%|████▋     | 47/100 [00:27<00:30,  1.71it/s]"
     ]
    },
    {
     "name": "stdout",
     "output_type": "stream",
     "text": [
      "Epoch: 047, Loss: 2.82868\n"
     ]
    },
    {
     "name": "stderr",
     "output_type": "stream",
     "text": [
      "Epoch: 048, Loss: 2.8958:  48%|████▊     | 48/100 [00:27<00:30,  1.71it/s]"
     ]
    },
    {
     "name": "stdout",
     "output_type": "stream",
     "text": [
      "Epoch: 048, Loss: 2.89581\n"
     ]
    },
    {
     "name": "stderr",
     "output_type": "stream",
     "text": [
      "Epoch: 049, Loss: 2.8680:  49%|████▉     | 49/100 [00:28<00:29,  1.73it/s]"
     ]
    },
    {
     "name": "stdout",
     "output_type": "stream",
     "text": [
      "Epoch: 049, Loss: 2.86796\n"
     ]
    },
    {
     "name": "stderr",
     "output_type": "stream",
     "text": [
      "Epoch: 050, Loss: 2.7389:  50%|█████     | 50/100 [00:29<00:29,  1.70it/s]"
     ]
    },
    {
     "name": "stdout",
     "output_type": "stream",
     "text": [
      "Epoch: 050, Loss: 2.73893\n"
     ]
    },
    {
     "name": "stderr",
     "output_type": "stream",
     "text": [
      "Epoch: 051, Loss: 2.7327:  51%|█████     | 51/100 [00:29<00:28,  1.71it/s]"
     ]
    },
    {
     "name": "stdout",
     "output_type": "stream",
     "text": [
      "Epoch: 051, Loss: 2.73272\n"
     ]
    },
    {
     "name": "stderr",
     "output_type": "stream",
     "text": [
      "Epoch: 052, Loss: 2.7590:  52%|█████▏    | 52/100 [00:30<00:27,  1.72it/s]"
     ]
    },
    {
     "name": "stdout",
     "output_type": "stream",
     "text": [
      "Epoch: 052, Loss: 2.75900\n"
     ]
    },
    {
     "name": "stderr",
     "output_type": "stream",
     "text": [
      "Epoch: 053, Loss: 2.6730:  53%|█████▎    | 53/100 [00:30<00:27,  1.73it/s]"
     ]
    },
    {
     "name": "stdout",
     "output_type": "stream",
     "text": [
      "Epoch: 053, Loss: 2.67296\n"
     ]
    },
    {
     "name": "stderr",
     "output_type": "stream",
     "text": [
      "Epoch: 054, Loss: 2.7038:  54%|█████▍    | 54/100 [00:31<00:26,  1.73it/s]"
     ]
    },
    {
     "name": "stdout",
     "output_type": "stream",
     "text": [
      "Epoch: 054, Loss: 2.70384\n"
     ]
    },
    {
     "name": "stderr",
     "output_type": "stream",
     "text": [
      "Epoch: 055, Loss: 2.6799:  55%|█████▌    | 55/100 [00:31<00:25,  1.73it/s]"
     ]
    },
    {
     "name": "stdout",
     "output_type": "stream",
     "text": [
      "Epoch: 055, Loss: 2.67994\n"
     ]
    },
    {
     "name": "stderr",
     "output_type": "stream",
     "text": [
      "Epoch: 056, Loss: 2.6669:  56%|█████▌    | 56/100 [00:32<00:25,  1.74it/s]"
     ]
    },
    {
     "name": "stdout",
     "output_type": "stream",
     "text": [
      "Epoch: 056, Loss: 2.66687\n"
     ]
    },
    {
     "name": "stderr",
     "output_type": "stream",
     "text": [
      "Epoch: 057, Loss: 2.6987:  57%|█████▋    | 57/100 [00:33<00:24,  1.73it/s]"
     ]
    },
    {
     "name": "stdout",
     "output_type": "stream",
     "text": [
      "Epoch: 057, Loss: 2.69874\n"
     ]
    },
    {
     "name": "stderr",
     "output_type": "stream",
     "text": [
      "Epoch: 058, Loss: 2.6357:  58%|█████▊    | 58/100 [00:33<00:24,  1.73it/s]"
     ]
    },
    {
     "name": "stdout",
     "output_type": "stream",
     "text": [
      "Epoch: 058, Loss: 2.63569\n"
     ]
    },
    {
     "name": "stderr",
     "output_type": "stream",
     "text": [
      "Epoch: 059, Loss: 2.6157:  59%|█████▉    | 59/100 [00:34<00:23,  1.75it/s]"
     ]
    },
    {
     "name": "stdout",
     "output_type": "stream",
     "text": [
      "Epoch: 059, Loss: 2.61571\n"
     ]
    },
    {
     "name": "stderr",
     "output_type": "stream",
     "text": [
      "Epoch: 060, Loss: 2.7371:  60%|██████    | 60/100 [00:34<00:22,  1.74it/s]"
     ]
    },
    {
     "name": "stdout",
     "output_type": "stream",
     "text": [
      "Epoch: 060, Loss: 2.73712\n"
     ]
    },
    {
     "name": "stderr",
     "output_type": "stream",
     "text": [
      "Epoch: 061, Loss: 2.7149:  61%|██████    | 61/100 [00:35<00:22,  1.73it/s]"
     ]
    },
    {
     "name": "stdout",
     "output_type": "stream",
     "text": [
      "Epoch: 061, Loss: 2.71488\n"
     ]
    },
    {
     "name": "stderr",
     "output_type": "stream",
     "text": [
      "Epoch: 062, Loss: 2.7214:  62%|██████▏   | 62/100 [00:35<00:21,  1.74it/s]"
     ]
    },
    {
     "name": "stdout",
     "output_type": "stream",
     "text": [
      "Epoch: 062, Loss: 2.72142\n"
     ]
    },
    {
     "name": "stderr",
     "output_type": "stream",
     "text": [
      "Epoch: 063, Loss: 2.6053:  63%|██████▎   | 63/100 [00:36<00:21,  1.73it/s]"
     ]
    },
    {
     "name": "stdout",
     "output_type": "stream",
     "text": [
      "Epoch: 063, Loss: 2.60533\n"
     ]
    },
    {
     "name": "stderr",
     "output_type": "stream",
     "text": [
      "Epoch: 064, Loss: 2.5806:  64%|██████▍   | 64/100 [00:37<00:21,  1.70it/s]"
     ]
    },
    {
     "name": "stdout",
     "output_type": "stream",
     "text": [
      "Epoch: 064, Loss: 2.58059\n"
     ]
    },
    {
     "name": "stderr",
     "output_type": "stream",
     "text": [
      "Epoch: 065, Loss: 2.5523:  65%|██████▌   | 65/100 [00:37<00:20,  1.70it/s]"
     ]
    },
    {
     "name": "stdout",
     "output_type": "stream",
     "text": [
      "Epoch: 065, Loss: 2.55231\n"
     ]
    },
    {
     "name": "stderr",
     "output_type": "stream",
     "text": [
      "Epoch: 066, Loss: 2.5300:  66%|██████▌   | 66/100 [00:38<00:19,  1.70it/s]"
     ]
    },
    {
     "name": "stdout",
     "output_type": "stream",
     "text": [
      "Epoch: 066, Loss: 2.53002\n"
     ]
    },
    {
     "name": "stderr",
     "output_type": "stream",
     "text": [
      "Epoch: 067, Loss: 2.5574:  67%|██████▋   | 67/100 [00:38<00:19,  1.72it/s]"
     ]
    },
    {
     "name": "stdout",
     "output_type": "stream",
     "text": [
      "Epoch: 067, Loss: 2.55740\n"
     ]
    },
    {
     "name": "stderr",
     "output_type": "stream",
     "text": [
      "Epoch: 068, Loss: 2.6601:  68%|██████▊   | 68/100 [00:39<00:18,  1.72it/s]"
     ]
    },
    {
     "name": "stdout",
     "output_type": "stream",
     "text": [
      "Epoch: 068, Loss: 2.66008\n"
     ]
    },
    {
     "name": "stderr",
     "output_type": "stream",
     "text": [
      "Epoch: 069, Loss: 2.5028:  69%|██████▉   | 69/100 [00:40<00:17,  1.73it/s]"
     ]
    },
    {
     "name": "stdout",
     "output_type": "stream",
     "text": [
      "Epoch: 069, Loss: 2.50282\n"
     ]
    },
    {
     "name": "stderr",
     "output_type": "stream",
     "text": [
      "Epoch: 070, Loss: 2.5727:  70%|███████   | 70/100 [00:40<00:17,  1.72it/s]"
     ]
    },
    {
     "name": "stdout",
     "output_type": "stream",
     "text": [
      "Epoch: 070, Loss: 2.57266\n"
     ]
    },
    {
     "name": "stderr",
     "output_type": "stream",
     "text": [
      "Epoch: 071, Loss: 2.5478:  71%|███████   | 71/100 [00:41<00:16,  1.73it/s]"
     ]
    },
    {
     "name": "stdout",
     "output_type": "stream",
     "text": [
      "Epoch: 071, Loss: 2.54775\n"
     ]
    },
    {
     "name": "stderr",
     "output_type": "stream",
     "text": [
      "Epoch: 072, Loss: 2.5347:  72%|███████▏  | 72/100 [00:41<00:16,  1.72it/s]"
     ]
    },
    {
     "name": "stdout",
     "output_type": "stream",
     "text": [
      "Epoch: 072, Loss: 2.53468\n"
     ]
    },
    {
     "name": "stderr",
     "output_type": "stream",
     "text": [
      "Epoch: 073, Loss: 2.4822:  73%|███████▎  | 73/100 [00:42<00:15,  1.73it/s]"
     ]
    },
    {
     "name": "stdout",
     "output_type": "stream",
     "text": [
      "Epoch: 073, Loss: 2.48221\n"
     ]
    },
    {
     "name": "stderr",
     "output_type": "stream",
     "text": [
      "Epoch: 074, Loss: 2.5276:  74%|███████▍  | 74/100 [00:42<00:15,  1.70it/s]"
     ]
    },
    {
     "name": "stdout",
     "output_type": "stream",
     "text": [
      "Epoch: 074, Loss: 2.52761\n"
     ]
    },
    {
     "name": "stderr",
     "output_type": "stream",
     "text": [
      "Epoch: 075, Loss: 2.5113:  75%|███████▌  | 75/100 [00:43<00:14,  1.70it/s]"
     ]
    },
    {
     "name": "stdout",
     "output_type": "stream",
     "text": [
      "Epoch: 075, Loss: 2.51132\n"
     ]
    },
    {
     "name": "stderr",
     "output_type": "stream",
     "text": [
      "Epoch: 076, Loss: 2.5029:  76%|███████▌  | 76/100 [00:44<00:14,  1.71it/s]"
     ]
    },
    {
     "name": "stdout",
     "output_type": "stream",
     "text": [
      "Epoch: 076, Loss: 2.50292\n"
     ]
    },
    {
     "name": "stderr",
     "output_type": "stream",
     "text": [
      "Epoch: 077, Loss: 2.4875:  77%|███████▋  | 77/100 [00:44<00:13,  1.72it/s]"
     ]
    },
    {
     "name": "stdout",
     "output_type": "stream",
     "text": [
      "Epoch: 077, Loss: 2.48748\n"
     ]
    },
    {
     "name": "stderr",
     "output_type": "stream",
     "text": [
      "Epoch: 078, Loss: 2.4531:  78%|███████▊  | 78/100 [00:45<00:12,  1.74it/s]"
     ]
    },
    {
     "name": "stdout",
     "output_type": "stream",
     "text": [
      "Epoch: 078, Loss: 2.45312\n"
     ]
    },
    {
     "name": "stderr",
     "output_type": "stream",
     "text": [
      "Epoch: 079, Loss: 2.4418:  79%|███████▉  | 79/100 [00:45<00:12,  1.70it/s]"
     ]
    },
    {
     "name": "stdout",
     "output_type": "stream",
     "text": [
      "Epoch: 079, Loss: 2.44184\n"
     ]
    },
    {
     "name": "stderr",
     "output_type": "stream",
     "text": [
      "Epoch: 080, Loss: 2.4579:  80%|████████  | 80/100 [00:46<00:11,  1.71it/s]"
     ]
    },
    {
     "name": "stdout",
     "output_type": "stream",
     "text": [
      "Epoch: 080, Loss: 2.45793\n"
     ]
    },
    {
     "name": "stderr",
     "output_type": "stream",
     "text": [
      "Epoch: 081, Loss: 2.4764:  81%|████████  | 81/100 [00:47<00:11,  1.73it/s]"
     ]
    },
    {
     "name": "stdout",
     "output_type": "stream",
     "text": [
      "Epoch: 081, Loss: 2.47639\n"
     ]
    },
    {
     "name": "stderr",
     "output_type": "stream",
     "text": [
      "Epoch: 082, Loss: 2.5785:  82%|████████▏ | 82/100 [00:47<00:10,  1.73it/s]"
     ]
    },
    {
     "name": "stdout",
     "output_type": "stream",
     "text": [
      "Epoch: 082, Loss: 2.57854\n"
     ]
    },
    {
     "name": "stderr",
     "output_type": "stream",
     "text": [
      "Epoch: 083, Loss: 2.4652:  83%|████████▎ | 83/100 [00:48<00:09,  1.74it/s]"
     ]
    },
    {
     "name": "stdout",
     "output_type": "stream",
     "text": [
      "Epoch: 083, Loss: 2.46519\n"
     ]
    },
    {
     "name": "stderr",
     "output_type": "stream",
     "text": [
      "Epoch: 084, Loss: 2.4298:  84%|████████▍ | 84/100 [00:48<00:09,  1.74it/s]"
     ]
    },
    {
     "name": "stdout",
     "output_type": "stream",
     "text": [
      "Epoch: 084, Loss: 2.42981\n"
     ]
    },
    {
     "name": "stderr",
     "output_type": "stream",
     "text": [
      "Epoch: 085, Loss: 2.4194:  85%|████████▌ | 85/100 [00:49<00:08,  1.73it/s]"
     ]
    },
    {
     "name": "stdout",
     "output_type": "stream",
     "text": [
      "Epoch: 085, Loss: 2.41942\n"
     ]
    },
    {
     "name": "stderr",
     "output_type": "stream",
     "text": [
      "Epoch: 086, Loss: 2.4007:  86%|████████▌ | 86/100 [00:49<00:08,  1.74it/s]"
     ]
    },
    {
     "name": "stdout",
     "output_type": "stream",
     "text": [
      "Epoch: 086, Loss: 2.40070\n"
     ]
    },
    {
     "name": "stderr",
     "output_type": "stream",
     "text": [
      "Epoch: 087, Loss: 2.4377:  87%|████████▋ | 87/100 [00:50<00:07,  1.74it/s]"
     ]
    },
    {
     "name": "stdout",
     "output_type": "stream",
     "text": [
      "Epoch: 087, Loss: 2.43766\n"
     ]
    },
    {
     "name": "stderr",
     "output_type": "stream",
     "text": [
      "Epoch: 088, Loss: 2.4139:  88%|████████▊ | 88/100 [00:51<00:06,  1.74it/s]"
     ]
    },
    {
     "name": "stdout",
     "output_type": "stream",
     "text": [
      "Epoch: 088, Loss: 2.41387\n"
     ]
    },
    {
     "name": "stderr",
     "output_type": "stream",
     "text": [
      "Epoch: 089, Loss: 2.4214:  89%|████████▉ | 89/100 [00:51<00:06,  1.73it/s]"
     ]
    },
    {
     "name": "stdout",
     "output_type": "stream",
     "text": [
      "Epoch: 089, Loss: 2.42139\n"
     ]
    },
    {
     "name": "stderr",
     "output_type": "stream",
     "text": [
      "Epoch: 090, Loss: 2.3998:  90%|█████████ | 90/100 [00:52<00:05,  1.72it/s]"
     ]
    },
    {
     "name": "stdout",
     "output_type": "stream",
     "text": [
      "Epoch: 090, Loss: 2.39984\n"
     ]
    },
    {
     "name": "stderr",
     "output_type": "stream",
     "text": [
      "Epoch: 091, Loss: 2.4414:  91%|█████████ | 91/100 [00:52<00:05,  1.70it/s]"
     ]
    },
    {
     "name": "stdout",
     "output_type": "stream",
     "text": [
      "Epoch: 091, Loss: 2.44143\n"
     ]
    },
    {
     "name": "stderr",
     "output_type": "stream",
     "text": [
      "Epoch: 092, Loss: 2.4868:  92%|█████████▏| 92/100 [00:53<00:04,  1.71it/s]"
     ]
    },
    {
     "name": "stdout",
     "output_type": "stream",
     "text": [
      "Epoch: 092, Loss: 2.48684\n"
     ]
    },
    {
     "name": "stderr",
     "output_type": "stream",
     "text": [
      "Epoch: 093, Loss: 2.6032:  93%|█████████▎| 93/100 [00:53<00:04,  1.71it/s]"
     ]
    },
    {
     "name": "stdout",
     "output_type": "stream",
     "text": [
      "Epoch: 093, Loss: 2.60318\n"
     ]
    },
    {
     "name": "stderr",
     "output_type": "stream",
     "text": [
      "Epoch: 094, Loss: 2.4606:  94%|█████████▍| 94/100 [00:54<00:03,  1.71it/s]"
     ]
    },
    {
     "name": "stdout",
     "output_type": "stream",
     "text": [
      "Epoch: 094, Loss: 2.46060\n"
     ]
    },
    {
     "name": "stderr",
     "output_type": "stream",
     "text": [
      "Epoch: 095, Loss: 2.4002:  95%|█████████▌| 95/100 [00:55<00:02,  1.70it/s]"
     ]
    },
    {
     "name": "stdout",
     "output_type": "stream",
     "text": [
      "Epoch: 095, Loss: 2.40022\n"
     ]
    },
    {
     "name": "stderr",
     "output_type": "stream",
     "text": [
      "Epoch: 096, Loss: 2.3898:  96%|█████████▌| 96/100 [00:55<00:02,  1.71it/s]"
     ]
    },
    {
     "name": "stdout",
     "output_type": "stream",
     "text": [
      "Epoch: 096, Loss: 2.38977\n"
     ]
    },
    {
     "name": "stderr",
     "output_type": "stream",
     "text": [
      "Epoch: 097, Loss: 2.3777:  97%|█████████▋| 97/100 [00:56<00:01,  1.72it/s]"
     ]
    },
    {
     "name": "stdout",
     "output_type": "stream",
     "text": [
      "Epoch: 097, Loss: 2.37775\n"
     ]
    },
    {
     "name": "stderr",
     "output_type": "stream",
     "text": [
      "Epoch: 098, Loss: 2.3727:  98%|█████████▊| 98/100 [00:56<00:01,  1.72it/s]"
     ]
    },
    {
     "name": "stdout",
     "output_type": "stream",
     "text": [
      "Epoch: 098, Loss: 2.37268\n"
     ]
    },
    {
     "name": "stderr",
     "output_type": "stream",
     "text": [
      "Epoch: 099, Loss: 2.3743:  99%|█████████▉| 99/100 [00:57<00:00,  1.73it/s]"
     ]
    },
    {
     "name": "stdout",
     "output_type": "stream",
     "text": [
      "Epoch: 099, Loss: 2.37429\n"
     ]
    },
    {
     "name": "stderr",
     "output_type": "stream",
     "text": [
      "Epoch: 100, Loss: 2.3652: 100%|██████████| 100/100 [00:58<00:00,  1.72it/s]"
     ]
    },
    {
     "name": "stdout",
     "output_type": "stream",
     "text": [
      "Epoch: 100, Loss: 2.36517\n",
      "\n",
      " Stopped early at epoch:  38\n"
     ]
    },
    {
     "name": "stderr",
     "output_type": "stream",
     "text": [
      "\n"
     ]
    }
   ],
   "source": [
    "class GCN(torch.nn.Module): ### the simpliest model that GNN and it is classical, used as baseline\n",
    "    def __init__(self, num_node_features, num_classes):\n",
    "        super(GCN, self).__init__()\n",
    "        # self.conv1 = GCNConv(num_node_features, 64)     \n",
    "        # self.conv2 = GCNConv(64, 32) \n",
    "        # self.conv3 = GCNConv(32, 16) \n",
    "        # self.conv4 = GCNConv(16, 8) \n",
    "        # self.classifier = Linear(8, num_classes)\n",
    "        self.classifier = Linear(num_node_features, num_classes)\n",
    "\n",
    "    \"\"\"\n",
    "        hyperparameters:\n",
    "        - number of hidden layers\n",
    "        - number of hidden channels\n",
    "        - dropout rate (now it's zero)\n",
    "        - learning rate <- most important to tune\n",
    "        - weight decay\n",
    "        - etc etc.\n",
    "    \"\"\"\n",
    "\n",
    "    def forward(self, data):\n",
    "        x, edge_index, edge_weight, batch = data.x, data.edge_index, data.edge_attr, data.batch\n",
    "        edge_index, edge_weight = add_self_loops(edge_index, edge_attr=edge_weight, num_nodes=x.size(0))\n",
    "\n",
    "        # x = self.conv1(x, edge_index, edge_weight)\n",
    "        # x = F.relu(x)\n",
    "\n",
    "        # x = self.conv2(x, edge_index, edge_weight)\n",
    "        # x = F.relu(x)\n",
    "\n",
    "        # x = self.conv3(x, edge_index, edge_weight)\n",
    "        # x = F.relu(x)\n",
    "        \n",
    "        # x = self.conv4(x, edge_index, edge_weight)\n",
    "        # x = F.relu(x)\n",
    "\n",
    "        x = global_mean_pool(x, batch)\n",
    "        x = self.classifier(x)\n",
    "\n",
    "        # x = F.relu(x)\n",
    "\n",
    "        return x\n",
    "\n",
    "# Now we can create a DataLoader\n",
    "myloader = DataLoader(train_data, batch_size=128, shuffle=True)\n",
    "# Create a model and an optimizer\n",
    "device = torch.device('cuda' if torch.cuda.is_available() else 'cpu')\n",
    "model = GCN(num_node_features=50, num_classes=1).to(device) ### only look at the last 30 \n",
    "optimizer = torch.optim.Adam(model.parameters(), lr=0.01, weight_decay=5e-4)\n",
    "\n",
    "def train(model, optimizer, loader):\n",
    "    model.train()\n",
    "    loss_all = 0\n",
    "    correct = 0\n",
    "    y_true = []\n",
    "    total = 0\n",
    "    results = []\n",
    "    for data in myloader:\n",
    "        data = data.to(device)\n",
    "        optimizer.zero_grad() \n",
    "        output = model(data) \n",
    "        label = data.y.to(device)\n",
    "        y_true.append(label)\n",
    "#         loss = F.cross_entropy(output, label)\n",
    "        loss = F.mse_loss(output, label) \n",
    "        loss.backward() \n",
    "        loss_all += data.num_graphs * loss.item()\n",
    "        optimizer.step() \n",
    "        \n",
    "        results.append(output)\n",
    "        \n",
    "        _, predicted = torch.max(output, 1)  \n",
    "#         total += label.size(0)  \n",
    "#         correct += (predicted == label).sum().item()  \n",
    "#     accuracy = 100 * correct / total\n",
    "    return loss_all / len(myloader.dataset), results, y_true\n",
    "\n",
    "loss_ep = []\n",
    "ac_ep = []\n",
    "\n",
    "\n",
    "from tqdm import tqdm \n",
    "\n",
    "counter = 0\n",
    "count_epochs = 0\n",
    "best = float(\"inf\")\n",
    "epochs = 100\n",
    "patience = 5\n",
    " \n",
    "for epoch in (pbar := tqdm(range(1, epochs + 1))):\n",
    "    loss, myres, reals = train(model, optimizer, myloader)\n",
    "    loss_ep.append(loss)\n",
    "#     ac_ep.append(ac)\n",
    "    print('Epoch: {:03d}, Loss: {:.5f}'.format(epoch, loss))\n",
    "    if loss < best:\n",
    "        best = loss\n",
    "        counter = 0\n",
    "    else:\n",
    "        counter += 1\n",
    "        count_epochs += 1\n",
    "        \n",
    "    if counter > patience:\n",
    "        break\n",
    "        # print(f\"Epoch: {​​​​​​epoch:03d}​​​​​​, Loss: {​​​​​​loss:.4f}​​​​​​\")\n",
    "    pbar.set_description(f\"Epoch: {epoch:03d}, Loss: {loss:.4f}\")\n",
    "print(\"\\n\", \"Stopped early at epoch: \", count_epochs)\n"
   ]
  },
  {
   "cell_type": "code",
   "execution_count": 65,
   "id": "b0cd1250",
   "metadata": {},
   "outputs": [],
   "source": [
    "testloader = DataLoader(test_data, batch_size=128, shuffle=True)"
   ]
  },
  {
   "cell_type": "code",
   "execution_count": 66,
   "id": "b03a9f70",
   "metadata": {},
   "outputs": [],
   "source": [
    "def test():\n",
    "    model.eval()\n",
    "    predictions = []\n",
    "    total_loss = 0\n",
    "    true_values = []\n",
    "    with torch.no_grad():\n",
    "        for data in testloader:\n",
    "            data = data.to(device)\n",
    "            output = model(data)\n",
    "            loss = F.mse_loss(output, data.y)\n",
    "            total_loss += loss.item() * data.num_graphs\n",
    "            predictions.append(output.cpu())\n",
    "            true_values.append(data.y.cpu())\n",
    "    return torch.cat(predictions, dim=0), torch.cat(true_values, dim=0),total_loss / len(testloader.dataset)"
   ]
  },
  {
   "cell_type": "code",
   "execution_count": 67,
   "id": "ead3cbb7",
   "metadata": {},
   "outputs": [
    {
     "name": "stdout",
     "output_type": "stream",
     "text": [
      "Test MSE: 1.9101\n"
     ]
    }
   ],
   "source": [
    "predictions, y_true, test_mse  = test()\n",
    "print(f\"Test MSE: {test_mse:.4f}\")\n",
    "# print(predictions)"
   ]
  },
  {
   "cell_type": "code",
   "execution_count": 68,
   "id": "fd1e42fd",
   "metadata": {},
   "outputs": [
    {
     "data": {
      "text/plain": [
       "<matplotlib.legend.Legend at 0x377284410>"
      ]
     },
     "execution_count": 68,
     "metadata": {},
     "output_type": "execute_result"
    },
    {
     "data": {
      "image/png": "[encoded data removed]",
      "text/plain": [
       "<Figure size 640x480 with 1 Axes>"
      ]
     },
     "metadata": {},
     "output_type": "display_data"
    }
   ],
   "source": [
    "plt.scatter(range(100), predictions.flatten()[:100],label='predictions')\n",
    "plt.scatter(range(100), y_true.flatten()[:100],label='true')\n",
    "plt.legend()"
   ]
  },
  {
   "cell_type": "code",
   "execution_count": 59,
   "id": "1c026c5b",
   "metadata": {},
   "outputs": [
    {
     "data": {
      "text/plain": [
       "tensor([[-2.3026],\n",
       "        [ 2.3026],\n",
       "        [-2.3026],\n",
       "        [-2.3026],\n",
       "        [ 2.9957],\n",
       "        [ 2.3026],\n",
       "        [ 0.6931],\n",
       "        [ 2.3026],\n",
       "        [ 0.0000],\n",
       "        [ 0.6931],\n",
       "        [-3.6889],\n",
       "        [ 0.6931],\n",
       "        [-2.9957],\n",
       "        [-2.3026],\n",
       "        [-2.3026],\n",
       "        [-3.6889],\n",
       "        [ 0.6931],\n",
       "        [-0.6931],\n",
       "        [ 0.0000],\n",
       "        [ 2.3026],\n",
       "        [-1.6094],\n",
       "        [-2.3026],\n",
       "        [-0.6931],\n",
       "        [-3.6889],\n",
       "        [-2.9957],\n",
       "        [ 2.9957],\n",
       "        [-2.9957],\n",
       "        [ 2.3026],\n",
       "        [ 0.0000],\n",
       "        [ 2.9957],\n",
       "        [-2.3026],\n",
       "        [-3.6889],\n",
       "        [-1.6094],\n",
       "        [ 2.3026],\n",
       "        [-2.9957],\n",
       "        [-1.6094],\n",
       "        [-3.6889],\n",
       "        [ 0.6931],\n",
       "        [ 2.3026],\n",
       "        [-2.3026],\n",
       "        [ 0.6931],\n",
       "        [-1.6094],\n",
       "        [-2.3026],\n",
       "        [ 0.6931],\n",
       "        [ 2.3026],\n",
       "        [-0.6931],\n",
       "        [-2.9957],\n",
       "        [ 2.9957],\n",
       "        [-0.6931],\n",
       "        [-1.6094],\n",
       "        [ 2.3026],\n",
       "        [ 0.6931],\n",
       "        [ 0.0000],\n",
       "        [ 2.3026],\n",
       "        [ 2.9957],\n",
       "        [-2.3026],\n",
       "        [-2.3026],\n",
       "        [-3.6889],\n",
       "        [ 2.9957],\n",
       "        [ 2.9957],\n",
       "        [ 2.9957],\n",
       "        [ 0.0000],\n",
       "        [ 0.0000],\n",
       "        [-0.6931],\n",
       "        [-2.9957],\n",
       "        [-0.6931],\n",
       "        [-1.6094],\n",
       "        [ 2.3026],\n",
       "        [ 0.0000],\n",
       "        [-2.3026],\n",
       "        [-2.3026],\n",
       "        [-2.3026],\n",
       "        [-0.6931],\n",
       "        [-1.6094],\n",
       "        [ 0.0000],\n",
       "        [-2.9957],\n",
       "        [ 0.0000],\n",
       "        [-0.6931],\n",
       "        [-0.6931],\n",
       "        [-0.6931],\n",
       "        [ 0.0000],\n",
       "        [-3.6889],\n",
       "        [-0.6931],\n",
       "        [-0.6931],\n",
       "        [-2.9957],\n",
       "        [ 0.6931],\n",
       "        [ 2.3026],\n",
       "        [-1.6094],\n",
       "        [-2.3026],\n",
       "        [-1.6094],\n",
       "        [ 2.9957],\n",
       "        [-1.6094],\n",
       "        [ 2.9957],\n",
       "        [-2.9957],\n",
       "        [ 0.0000],\n",
       "        [ 0.0000],\n",
       "        [-0.6931],\n",
       "        [ 0.6931],\n",
       "        [ 0.6931],\n",
       "        [-1.6094],\n",
       "        [-3.6889],\n",
       "        [-1.6094],\n",
       "        [ 2.9957],\n",
       "        [ 2.3026],\n",
       "        [ 2.3026],\n",
       "        [ 2.3026],\n",
       "        [-1.6094],\n",
       "        [ 0.6931],\n",
       "        [ 2.3026],\n",
       "        [ 2.3026],\n",
       "        [ 0.6931],\n",
       "        [-3.6889],\n",
       "        [ 2.9957],\n",
       "        [-3.6889],\n",
       "        [-1.6094],\n",
       "        [ 2.3026],\n",
       "        [-1.6094],\n",
       "        [ 0.0000],\n",
       "        [ 0.6931],\n",
       "        [ 0.6931],\n",
       "        [ 2.9957],\n",
       "        [ 0.6931],\n",
       "        [ 2.3026],\n",
       "        [ 0.6931],\n",
       "        [ 0.6931],\n",
       "        [ 2.3026],\n",
       "        [-1.6094],\n",
       "        [ 2.3026],\n",
       "        [ 2.3026],\n",
       "        [ 0.0000],\n",
       "        [-2.3026],\n",
       "        [ 0.0000],\n",
       "        [-0.6931],\n",
       "        [-2.3026],\n",
       "        [ 2.9957],\n",
       "        [ 0.6931],\n",
       "        [-2.3026],\n",
       "        [-2.3026],\n",
       "        [-2.9957],\n",
       "        [ 2.3026],\n",
       "        [ 2.3026],\n",
       "        [ 0.0000],\n",
       "        [-2.3026],\n",
       "        [ 0.0000],\n",
       "        [ 0.0000],\n",
       "        [ 0.6931],\n",
       "        [ 0.0000],\n",
       "        [-2.9957],\n",
       "        [ 2.3026],\n",
       "        [ 0.0000],\n",
       "        [-2.3026],\n",
       "        [-0.6931],\n",
       "        [-2.3026],\n",
       "        [ 0.6931],\n",
       "        [ 2.9957],\n",
       "        [-2.3026],\n",
       "        [ 2.9957],\n",
       "        [ 0.0000],\n",
       "        [ 0.0000],\n",
       "        [-2.9957],\n",
       "        [-3.6889],\n",
       "        [ 0.6931],\n",
       "        [ 2.3026],\n",
       "        [ 2.9957],\n",
       "        [ 0.0000],\n",
       "        [ 0.0000],\n",
       "        [ 2.3026],\n",
       "        [ 0.0000],\n",
       "        [-0.6931],\n",
       "        [-2.9957],\n",
       "        [ 2.3026],\n",
       "        [ 0.6931],\n",
       "        [-0.6931],\n",
       "        [-1.6094],\n",
       "        [-3.6889],\n",
       "        [-2.3026],\n",
       "        [-1.6094],\n",
       "        [-1.6094],\n",
       "        [-2.3026],\n",
       "        [-3.6889],\n",
       "        [ 0.0000],\n",
       "        [ 0.6931],\n",
       "        [ 2.3026],\n",
       "        [ 0.6931],\n",
       "        [-2.9957],\n",
       "        [ 0.0000],\n",
       "        [-1.6094],\n",
       "        [ 0.0000],\n",
       "        [ 2.3026],\n",
       "        [ 0.0000],\n",
       "        [-0.6931],\n",
       "        [ 2.3026],\n",
       "        [-3.6889],\n",
       "        [-0.6931],\n",
       "        [ 0.0000],\n",
       "        [-2.9957],\n",
       "        [-2.3026],\n",
       "        [ 2.3026],\n",
       "        [-3.6889],\n",
       "        [-2.9957],\n",
       "        [ 0.0000],\n",
       "        [-2.9957],\n",
       "        [ 2.9957],\n",
       "        [-1.6094],\n",
       "        [-3.6889],\n",
       "        [-2.9957],\n",
       "        [ 2.3026],\n",
       "        [-0.6931],\n",
       "        [ 2.3026],\n",
       "        [-1.6094],\n",
       "        [-0.6931],\n",
       "        [-0.6931],\n",
       "        [-2.3026],\n",
       "        [-2.9957],\n",
       "        [-3.6889],\n",
       "        [-0.6931],\n",
       "        [ 2.3026],\n",
       "        [ 2.9957],\n",
       "        [ 2.3026],\n",
       "        [-2.9957],\n",
       "        [-2.3026],\n",
       "        [ 0.6931],\n",
       "        [ 0.6931],\n",
       "        [-0.6931],\n",
       "        [-3.6889],\n",
       "        [ 0.0000],\n",
       "        [-2.3026],\n",
       "        [-1.6094],\n",
       "        [-0.6931],\n",
       "        [-0.6931],\n",
       "        [ 0.6931],\n",
       "        [ 0.0000],\n",
       "        [-0.6931],\n",
       "        [ 0.0000],\n",
       "        [ 0.6931],\n",
       "        [ 2.3026],\n",
       "        [-0.6931],\n",
       "        [ 0.0000],\n",
       "        [-2.3026],\n",
       "        [-1.6094],\n",
       "        [ 2.9957],\n",
       "        [-1.6094],\n",
       "        [-2.9957],\n",
       "        [-2.9957],\n",
       "        [ 0.6931],\n",
       "        [ 2.9957],\n",
       "        [ 0.6931],\n",
       "        [-0.6931],\n",
       "        [ 2.3026],\n",
       "        [-1.6094],\n",
       "        [ 2.3026],\n",
       "        [-2.9957],\n",
       "        [-1.6094],\n",
       "        [-2.9957],\n",
       "        [-2.3026],\n",
       "        [ 0.0000],\n",
       "        [-2.3026],\n",
       "        [-2.9957],\n",
       "        [ 0.0000],\n",
       "        [ 0.6931],\n",
       "        [-0.6931],\n",
       "        [-2.9957],\n",
       "        [-2.3026],\n",
       "        [ 2.9957],\n",
       "        [ 0.6931],\n",
       "        [-3.6889],\n",
       "        [ 0.0000],\n",
       "        [-1.6094],\n",
       "        [-2.9957],\n",
       "        [ 2.3026],\n",
       "        [ 0.0000],\n",
       "        [-0.6931],\n",
       "        [-0.6931],\n",
       "        [-1.6094],\n",
       "        [ 2.3026],\n",
       "        [-2.9957],\n",
       "        [-2.9957],\n",
       "        [ 2.9957],\n",
       "        [-1.6094],\n",
       "        [ 0.0000],\n",
       "        [-2.9957],\n",
       "        [-1.6094],\n",
       "        [-0.6931],\n",
       "        [-0.6931],\n",
       "        [-2.3026],\n",
       "        [-1.6094],\n",
       "        [-1.6094],\n",
       "        [-2.9957],\n",
       "        [-0.6931],\n",
       "        [ 0.0000],\n",
       "        [-3.6889],\n",
       "        [-2.9957],\n",
       "        [-2.3026],\n",
       "        [ 2.9957],\n",
       "        [ 0.0000],\n",
       "        [-2.9957],\n",
       "        [ 0.0000],\n",
       "        [-3.6889],\n",
       "        [ 2.9957],\n",
       "        [ 0.0000],\n",
       "        [ 2.3026],\n",
       "        [-0.6931],\n",
       "        [ 0.6931],\n",
       "        [ 0.6931],\n",
       "        [ 0.0000],\n",
       "        [-2.3026],\n",
       "        [-1.6094],\n",
       "        [-1.6094],\n",
       "        [ 0.0000],\n",
       "        [ 0.0000],\n",
       "        [-3.6889],\n",
       "        [ 2.3026],\n",
       "        [ 2.3026],\n",
       "        [ 0.6931],\n",
       "        [ 0.6931],\n",
       "        [-2.3026],\n",
       "        [ 2.9957],\n",
       "        [ 2.3026],\n",
       "        [-2.3026],\n",
       "        [-2.3026],\n",
       "        [-3.6889],\n",
       "        [-0.6931],\n",
       "        [ 2.3026],\n",
       "        [ 0.6931],\n",
       "        [ 0.6931],\n",
       "        [-2.9957],\n",
       "        [-2.9957],\n",
       "        [ 0.0000],\n",
       "        [-2.3026],\n",
       "        [ 2.9957],\n",
       "        [ 2.9957],\n",
       "        [-2.3026],\n",
       "        [ 0.0000],\n",
       "        [-0.6931],\n",
       "        [-1.6094],\n",
       "        [ 0.0000],\n",
       "        [-3.6889],\n",
       "        [-2.3026],\n",
       "        [-0.6931],\n",
       "        [-0.6931],\n",
       "        [-1.6094],\n",
       "        [ 2.3026],\n",
       "        [-0.6931],\n",
       "        [ 0.0000],\n",
       "        [ 2.9957],\n",
       "        [-2.9957],\n",
       "        [-1.6094],\n",
       "        [ 0.6931],\n",
       "        [-2.3026],\n",
       "        [ 0.0000],\n",
       "        [ 2.3026],\n",
       "        [ 2.9957],\n",
       "        [-1.6094],\n",
       "        [-2.9957],\n",
       "        [ 0.6931],\n",
       "        [-2.3026],\n",
       "        [-2.3026],\n",
       "        [-2.3026],\n",
       "        [-1.6094],\n",
       "        [-2.3026],\n",
       "        [ 2.9957],\n",
       "        [ 0.0000],\n",
       "        [ 2.3026],\n",
       "        [-3.6889],\n",
       "        [ 2.9957],\n",
       "        [-2.3026],\n",
       "        [-2.9957],\n",
       "        [-0.6931],\n",
       "        [-3.6889],\n",
       "        [-0.6931],\n",
       "        [ 0.6931],\n",
       "        [-3.6889],\n",
       "        [-1.6094],\n",
       "        [-1.6094],\n",
       "        [-2.9957],\n",
       "        [ 0.0000],\n",
       "        [ 2.3026],\n",
       "        [ 0.6931],\n",
       "        [ 2.9957],\n",
       "        [ 0.0000],\n",
       "        [-0.6931],\n",
       "        [-2.3026],\n",
       "        [-2.9957],\n",
       "        [-0.6931],\n",
       "        [-1.6094],\n",
       "        [ 2.9957],\n",
       "        [-2.3026],\n",
       "        [-1.6094],\n",
       "        [ 2.9957],\n",
       "        [-0.6931],\n",
       "        [ 0.0000],\n",
       "        [ 2.3026],\n",
       "        [-3.6889],\n",
       "        [-0.6931],\n",
       "        [ 2.9957],\n",
       "        [ 2.3026],\n",
       "        [-1.6094],\n",
       "        [ 2.9957],\n",
       "        [-1.6094],\n",
       "        [-3.6889],\n",
       "        [ 2.3026],\n",
       "        [-2.3026],\n",
       "        [-2.3026],\n",
       "        [ 0.6931],\n",
       "        [-3.6889],\n",
       "        [ 2.9957],\n",
       "        [-3.6889],\n",
       "        [ 0.0000],\n",
       "        [-0.6931],\n",
       "        [-3.6889],\n",
       "        [ 0.0000],\n",
       "        [-3.6889],\n",
       "        [ 2.9957],\n",
       "        [ 2.3026],\n",
       "        [-0.6931],\n",
       "        [ 0.0000],\n",
       "        [-1.6094],\n",
       "        [ 0.6931],\n",
       "        [-2.9957],\n",
       "        [ 2.9957],\n",
       "        [-2.3026],\n",
       "        [ 0.0000],\n",
       "        [-2.3026],\n",
       "        [-2.9957],\n",
       "        [ 2.9957],\n",
       "        [-2.3026],\n",
       "        [-2.3026],\n",
       "        [ 0.0000],\n",
       "        [ 0.0000],\n",
       "        [ 0.6931],\n",
       "        [-2.3026],\n",
       "        [ 2.9957],\n",
       "        [-3.6889],\n",
       "        [ 0.6931],\n",
       "        [-2.3026],\n",
       "        [ 2.9957],\n",
       "        [ 0.6931],\n",
       "        [-2.9957],\n",
       "        [-2.3026],\n",
       "        [-0.6931],\n",
       "        [-3.6889],\n",
       "        [ 0.0000],\n",
       "        [-0.6931],\n",
       "        [ 0.0000],\n",
       "        [-3.6889],\n",
       "        [-2.9957],\n",
       "        [ 0.6931],\n",
       "        [ 2.9957],\n",
       "        [ 2.3026],\n",
       "        [ 0.6931],\n",
       "        [-2.9957],\n",
       "        [ 2.3026],\n",
       "        [ 2.3026],\n",
       "        [ 0.0000],\n",
       "        [-1.6094],\n",
       "        [-2.3026],\n",
       "        [-1.6094],\n",
       "        [-3.6889],\n",
       "        [ 2.3026],\n",
       "        [ 2.9957],\n",
       "        [-2.3026],\n",
       "        [-0.6931],\n",
       "        [-0.6931],\n",
       "        [ 0.0000],\n",
       "        [-3.6889],\n",
       "        [-3.6889],\n",
       "        [-0.6931],\n",
       "        [ 0.0000],\n",
       "        [-1.6094],\n",
       "        [ 0.6931],\n",
       "        [-1.6094],\n",
       "        [-3.6889],\n",
       "        [ 0.6931],\n",
       "        [-0.6931],\n",
       "        [ 0.0000],\n",
       "        [ 2.9957],\n",
       "        [-3.6889],\n",
       "        [-2.3026],\n",
       "        [-2.9957],\n",
       "        [ 0.6931],\n",
       "        [ 2.3026],\n",
       "        [-1.6094],\n",
       "        [ 0.0000],\n",
       "        [ 2.9957],\n",
       "        [-0.6931],\n",
       "        [ 2.3026],\n",
       "        [-1.6094],\n",
       "        [-0.6931],\n",
       "        [ 2.3026],\n",
       "        [ 0.0000],\n",
       "        [-1.6094],\n",
       "        [-0.6931],\n",
       "        [-2.9957],\n",
       "        [ 2.9957],\n",
       "        [ 0.0000],\n",
       "        [-3.6889],\n",
       "        [ 0.0000],\n",
       "        [-1.6094],\n",
       "        [ 2.9957],\n",
       "        [-3.6889],\n",
       "        [ 2.3026],\n",
       "        [ 0.0000],\n",
       "        [ 2.9957],\n",
       "        [ 0.6931],\n",
       "        [-2.9957],\n",
       "        [ 2.9957],\n",
       "        [ 2.9957],\n",
       "        [-3.6889],\n",
       "        [ 2.3026],\n",
       "        [-1.6094],\n",
       "        [ 0.0000],\n",
       "        [-3.6889],\n",
       "        [ 2.3026],\n",
       "        [-2.3026],\n",
       "        [ 2.9957],\n",
       "        [ 0.6931],\n",
       "        [-2.3026],\n",
       "        [ 2.9957],\n",
       "        [-1.6094],\n",
       "        [-1.6094],\n",
       "        [-2.3026],\n",
       "        [ 2.3026],\n",
       "        [-1.6094],\n",
       "        [-2.9957],\n",
       "        [-2.3026],\n",
       "        [-2.9957],\n",
       "        [-2.3026],\n",
       "        [-2.9957],\n",
       "        [-2.3026],\n",
       "        [-1.6094],\n",
       "        [-2.9957],\n",
       "        [-2.9957],\n",
       "        [-1.6094],\n",
       "        [-2.9957],\n",
       "        [-0.6931],\n",
       "        [-0.6931],\n",
       "        [-2.3026],\n",
       "        [ 2.9957],\n",
       "        [ 2.3026],\n",
       "        [ 2.9957]])"
      ]
     },
     "execution_count": 59,
     "metadata": {},
     "output_type": "execute_result"
    }
   ],
   "source": [
    "y_true"
   ]
  },
  {
   "cell_type": "code",
   "execution_count": 24,
   "id": "64b06357",
   "metadata": {},
   "outputs": [
    {
     "name": "stdout",
     "output_type": "stream",
     "text": [
      "Test set: Average loss: 179359.0595, Accuracy: 0/540 (0.00%)\n"
     ]
    }
   ],
   "source": [
    "def test(model, test_loader):\n",
    "    model.eval()\n",
    "    test_loss = 0\n",
    "    correct = 0\n",
    "    total = 0\n",
    "    y_test = []\n",
    "    y_scores = []\n",
    "\n",
    "    with torch.no_grad():\n",
    "        for data in test_loader:\n",
    "            data, label = data.to(device), data.y.to(device)\n",
    "            output = model(data)\n",
    "\n",
    "            # Calculate loss\n",
    "            loss = F.mse_loss(output, label)\n",
    "            test_loss += loss.item() * data.size(0)\n",
    "            \n",
    "            \n",
    "            # Store the scores\n",
    "            y_scores.extend(output.cpu().numpy().tolist())\n",
    "\n",
    "            # Get predictions\n",
    "            _, predicted = output.max(1)\n",
    "            total += label.size(0)\n",
    "            correct += predicted.eq(label).sum().item()\n",
    "\n",
    "    avg_loss = test_loss / total\n",
    "    accuracy = 100 * correct / total\n",
    "\n",
    "    print(f\"Test set: Average loss: {avg_loss:.4f}, Accuracy: {correct}/{total} ({accuracy:.2f}%)\")\n",
    "\n",
    "    return avg_loss, accuracy, y_test, y_scores\n",
    "\n",
    "# Assuming you have a test_loader, model, and criterion already defined\n",
    "test_loss, test_accuracy, y_test, y_score = test(model, testloader)"
   ]
  },
  {
   "cell_type": "code",
   "execution_count": 25,
   "id": "df228d06",
   "metadata": {},
   "outputs": [],
   "source": [
    "from sklearn.metrics import roc_curve, auc\n",
    "n_classes = 4\n",
    "colors = {0:'orange',1:'yellowgreen',2:'lightskyblue',3:'cornflowerblue'}\n",
    "labels = {0:r'NS: $r > 5$',1:r'MS: $r \\in [0.5,5]$',2:r'ES: $r \\in (0.5,0.1]$',3:r'IS: $r<0.1$'}"
   ]
  },
  {
   "cell_type": "code",
   "execution_count": null,
   "id": "838de0a9",
   "metadata": {},
   "outputs": [],
   "source": [
    "## try linear regression \n",
    "## try without the graph structure"
   ]
  }
 ],
 "metadata": {
  "kernelspec": {
   "display_name": "gnn",
   "language": "python",
   "name": "gnn"
  },
  "language_info": {
   "codemirror_mode": {
    "name": "ipython",
    "version": 3
   },
   "file_extension": ".py",
   "mimetype": "text/x-python",
   "name": "python",
   "nbconvert_exporter": "python",
   "pygments_lexer": "ipython3",
   "version": "3.11.4"
  }
 },
 "nbformat": 4,
 "nbformat_minor": 5
}
