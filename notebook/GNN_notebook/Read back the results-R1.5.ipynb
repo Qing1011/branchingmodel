{
 "cells": [
  {
   "cell_type": "code",
   "execution_count": 1,
   "id": "7532818e",
   "metadata": {},
   "outputs": [],
   "source": [
    "import torch\n",
    "from torch.nn import Linear\n",
    "from torch_geometric.nn import GCNConv, NNConv, global_mean_pool, TopKPooling\n",
    "from torch_geometric.nn.glob import GlobalAttention\n",
    "from torch_geometric.data import Data,DataLoader\n",
    "# from torch.utils.data import DataLoader, TensorDataset\n",
    "# from torch_geometric.loader import DataLoader\n",
    "import torch.nn.functional as F\n",
    "from torch_geometric.utils.convert import from_scipy_sparse_matrix\n",
    "from torch_geometric.utils.convert import from_networkx\n",
    "from torch_geometric.nn import GCNConv, global_mean_pool, BatchNorm\n",
    "from torch_geometric.data import DataLoader\n",
    "from torch.optim.lr_scheduler import StepLR\n",
    "import random\n",
    "import numpy as np\n",
    "import matplotlib.pyplot as plt\n",
    "from scipy.io import loadmat, savemat\n",
    "import pandas as pd\n",
    "import scipy.special as SS\n",
    "import scipy.stats as SSA\n",
    "import copy\n",
    "import math\n",
    "from sklearn.model_selection import ParameterGrid\n",
    "import os\n",
    "import numpy.linalg as LA\n",
    "import gzip\n",
    "from torch_geometric.utils import add_self_loops\n",
    "\n",
    "from scipy import sparse\n",
    "\n",
    "# load pickle module\n",
    "import pickle\n",
    "import networkx as nx\n",
    "import torch.nn as nn\n",
    "\n",
    "from tqdm import tqdm \n",
    "import h5py"
   ]
  },
  {
   "cell_type": "code",
   "execution_count": 2,
   "id": "d6a985ce",
   "metadata": {},
   "outputs": [],
   "source": [
    "%run ../../codes/statistics.py\n",
    "%run ../../codes/GCN.py"
   ]
  },
  {
   "cell_type": "code",
   "execution_count": 3,
   "id": "1c1f52d5",
   "metadata": {},
   "outputs": [],
   "source": [
    "lr_list = np.array([np.power(0.5, i) for i in range(2, 16, 2)])\n",
    "lr_ary = np.array([np.power(0.5, i) for i in range(2, 16, 2)]*10)"
   ]
  },
  {
   "cell_type": "code",
   "execution_count": 8,
   "id": "cd095153",
   "metadata": {},
   "outputs": [],
   "source": [
    "file_dir = '/Users/qingyao/Documents/branching_data/gnn_regression_1d5/'"
   ]
  },
  {
   "cell_type": "code",
   "execution_count": 11,
   "id": "eee2dba9",
   "metadata": {},
   "outputs": [],
   "source": [
    "x_number = 50\n",
    "x_folder = 'regression_ng_{}'.format(x_number)"
   ]
  },
  {
   "cell_type": "code",
   "execution_count": 9,
   "id": "734edd9f",
   "metadata": {},
   "outputs": [
    {
     "name": "stdout",
     "output_type": "stream",
     "text": [
      "0 0.4461663360633547 10\n",
      "1 0.4625441772597177 10\n",
      "2 0.4541504968726446 17\n",
      "3 0.43825019295253453 66\n",
      "4 0.46415080078064447 17\n",
      "5 0.45166702355657307 52\n",
      "6 0.44374969573248 24\n",
      "7 0.41221095758771137 17\n",
      "8 0.46287620682564995 9\n",
      "9 0.4128230046658289 10\n"
     ]
    }
   ],
   "source": [
    "for slipt_idx in range(10):\n",
    "    test_mse_best, lr, test_mse_position = find_best_learning_rate_and_test_mse(file_dir,\n",
    "                                                                                50,slipt_idx,lr_list,False)\n",
    "    print(slipt_idx,test_mse_best,test_mse_position)"
   ]
  },
  {
   "cell_type": "code",
   "execution_count": 12,
   "id": "8f2c65bf",
   "metadata": {},
   "outputs": [],
   "source": [
    "with h5py.File(file_dir+x_folder+'/res_{}_{}.hdf5'.format(6, 5), 'r') as f:\n",
    "    val_loss = f['val_mse'][()]\n",
    "    predictions_np = f['predictions'][:]\n",
    "    y_true_np = f['y_true'][:]\n",
    "    test_mse_val = f['test_mse'][()]"
   ]
  },
  {
   "cell_type": "code",
   "execution_count": 13,
   "id": "a89da4fd",
   "metadata": {},
   "outputs": [],
   "source": [
    "results = {}\n",
    "for slipt_idx in range(10):\n",
    "    with h5py.File(file_dir+x_folder+'/res_{}_{}.hdf5'.format(6, 5), 'r') as f:\n",
    "        val_loss = f['val_mse'][()]\n",
    "        predictions_np = f['predictions'][:]\n",
    "        y_true_np = f['y_true'][:]\n",
    "        test_mse_val = f['test_mse'][()]\n",
    "        for p, t in zip(predictions_np.ravel(), y_true_np.ravel()):\n",
    "            real_r = np.round(np.exp(t),3)\n",
    "    #     print(real_r)\n",
    "            if real_r in results.keys():\n",
    "                results[real_r].append(p)\n",
    "            else:\n",
    "                results[real_r] = [p]"
   ]
  },
  {
   "cell_type": "code",
   "execution_count": 14,
   "id": "5bac72a6",
   "metadata": {},
   "outputs": [],
   "source": [
    "R0 = 1.5\n",
    "rs = np.array([20, 10, 2.0, 1.0, 0.5, 0.2, 0.1, 0.05, 0.025, 5.   ,  2.5  , 13.333,  3.333,  1.333,  0.667,  0.286,  0.133,\n",
    "        0.067,  0.033,0.37,7.4])"
   ]
  },
  {
   "cell_type": "code",
   "execution_count": 15,
   "id": "051d2fbd",
   "metadata": {},
   "outputs": [],
   "source": [
    "rs.sort()"
   ]
  },
  {
   "cell_type": "code",
   "execution_count": 16,
   "id": "ffe7b8b2",
   "metadata": {},
   "outputs": [
    {
     "name": "stdout",
     "output_type": "stream",
     "text": [
      "0.025\n",
      "0.033\n",
      "0.05\n",
      "0.067\n",
      "0.1\n",
      "0.133\n",
      "0.2\n",
      "0.286\n",
      "0.37\n",
      "0.5\n",
      "0.667\n",
      "1.0\n",
      "1.333\n",
      "2.0\n",
      "2.5\n",
      "3.333\n",
      "5.0\n",
      "7.4\n",
      "10.0\n",
      "13.333\n",
      "20.0\n"
     ]
    }
   ],
   "source": [
    "Bootstrap_ci = []\n",
    "Bootstrap_mean = []\n",
    "per_95 = []\n",
    "per_5 = []\n",
    "for r_idx in range(21):\n",
    "    r = rs[r_idx]\n",
    "    r = np.float32(r)\n",
    "    print(r)\n",
    "    data = np.exp(results[r])\n",
    "#     data = training[r]\n",
    "#     k = np.log(r)\n",
    "#     print(len(data))\n",
    "#     Bootstrap_mean.append(np.median(data))\n",
    "    sample_median, l_b, u_b = bootstrap_median_confidence_interval(data,95,n_bootstraps=100)\n",
    "    Bootstrap_ci.append([l_b, u_b])\n",
    "    Bootstrap_mean.append(sample_median)\n",
    "    per_95.append(np.percentile(data,95))\n",
    "    per_5.append(np.percentile(data,5))"
   ]
  },
  {
   "cell_type": "code",
   "execution_count": 17,
   "id": "1fdc999a",
   "metadata": {},
   "outputs": [],
   "source": [
    "CI = np.array(Bootstrap_ci)"
   ]
  },
  {
   "cell_type": "code",
   "execution_count": 18,
   "id": "600c865a",
   "metadata": {},
   "outputs": [
    {
     "data": {
      "text/plain": [
       "<matplotlib.legend.Legend at 0x28f763bd0>"
      ]
     },
     "execution_count": 18,
     "metadata": {},
     "output_type": "execute_result"
    },
    {
     "data": {
      "image/png": "[encoded data removed]",
      "text/plain": [
       "<Figure size 640x480 with 1 Axes>"
      ]
     },
     "metadata": {},
     "output_type": "display_data"
    }
   ],
   "source": [
    "plt.plot(rs,rs,label='real',c='grey')\n",
    "plt.scatter(rs,np.array(Bootstrap_mean),label='test')\n",
    "plt.fill_between(rs,CI[:,1],CI[:,0],alpha=0.3)\n",
    "plt.yscale('log')\n",
    "plt.xscale('log')\n",
    "plt.legend()"
   ]
  },
  {
   "cell_type": "code",
   "execution_count": 19,
   "id": "cde36475",
   "metadata": {},
   "outputs": [],
   "source": [
    "r_class = {20:0, 10:0, 2.0:1, 1.0:1, 0.5:1, 0.2:2, 0.1:2, 0.05:3, 0.025:3, \n",
    "           5.0:0 ,  2.5:1  , 13.333:0,  3.333:1,  1.333:1,  0.667:1,  0.286:2,  0.133:2,\n",
    "        0.067:3,  0.033:3, 0.37:2,7.4:0}"
   ]
  },
  {
   "cell_type": "code",
   "execution_count": null,
   "id": "c6838ec1",
   "metadata": {},
   "outputs": [],
   "source": [
    "rs\n",
    "# for r_idx in range(21):\n",
    "#     r = rs[r_idx]\n",
    "#     k = np.log(r)\n",
    "#     c = r_class[r]\n",
    "#     r = np.float32(r)\n",
    "#     # Plot each boxplot at position k_idx + 1\n",
    "# #     y = np.exp()\n",
    "# #     ax.boxplot(results[k], positions=[k_idx + 1])\n",
    "# #     real_pr = np.exp(results[r])\n",
    "# #     std_list.append(np.std(real_pr))\n",
    "# #     median_list.append(np.median(real_pr))\n",
    "\n",
    "    \n",
    "# #     ax.boxplot(real_pr, positions=[r_idx+1],showfliers=False,\n",
    "# #                boxprops = dict(linestyle='-', linewidth=0.75, color='gray'),\n",
    "# #                whiskerprops=line_properties, widths=0.4,\n",
    "# #            capprops=line_properties,\n",
    "# #               medianprops=dict(linestyle='-', linewidth=1, color='gray'))\n",
    "    \n",
    "#     myc = colors[c]\n",
    "#     # Plot the scatter point at the same position\n",
    "#     ax.scatter(r, r, color='orangered', s=5,alpha=1)\n",
    "\n",
    "#     print(len(results[r]))\n",
    "# plt.plot(rs, median_list,ls='--',lw=0.7)\n",
    "\n",
    "# Show the plot after adding all boxplots\n",
    "# label_pos = np.array([0,2,4,6,8,10,12,15,16,18])+1\n",
    "# ax.set_xticks(label_pos)  # Setting x-ticks positions\n",
    "# ax.set_xticklabels(rs[[0,2,4,6,8,10,12,15,16,18]])  # Assuming 'rs' is your array of labels"
   ]
  },
  {
   "cell_type": "code",
   "execution_count": 119,
   "id": "d9576f8f",
   "metadata": {},
   "outputs": [
    {
     "data": {
      "text/plain": [
       "array([12.5 ,  4.  ,  0.4 ,  0.08])"
      ]
     },
     "execution_count": 119,
     "metadata": {},
     "output_type": "execute_result"
    }
   ],
   "source": [
    "np.log(rs_add)"
   ]
  },
  {
   "cell_type": "code",
   "execution_count": 120,
   "id": "99ff9ee2",
   "metadata": {},
   "outputs": [
    {
     "data": {
      "text/plain": [
       "array([ 2.52572864,  1.38629436, -0.91629073, -2.52572864])"
      ]
     },
     "execution_count": 120,
     "metadata": {},
     "output_type": "execute_result"
    }
   ],
   "source": [
    "np.log(rs_add)"
   ]
  },
  {
   "cell_type": "code",
   "execution_count": 22,
   "id": "a9ac0f23",
   "metadata": {},
   "outputs": [
    {
     "data": {
      "image/png": "[encoded data removed]",
      "text/plain": [
       "<Figure size 1125x1125 with 1 Axes>"
      ]
     },
     "metadata": {},
     "output_type": "display_data"
    }
   ],
   "source": [
    "import matplotlib.lines as mlines\n",
    "import matplotlib.patches as mpatches\n",
    "fig, ax = plt.subplots(figsize=(2.5,2.5),dpi=450)\n",
    "colors = {0:'orange',1:'yellowgreen',2:'lightskyblue',3:'cornflowerblue'}\n",
    "# r_class = {20:0, 10:0, 2.0:1, 1.0:1, 0.5:1, 0.2:2, 0.1:2, 0.05:3, 0.025:3}\n",
    "\n",
    "line_properties = dict(linestyle='-', linewidth=0.75, color='gray')\n",
    "\n",
    "# plt.plot(rs,rs,label='real',c='white',ls='--',)\n",
    "lines = plt.plot(rs,np.array(Bootstrap_mean),ls='--',lw=0.75,color='white')\n",
    "# plt.scatter(rs,np.array(Bootstrap_mean),lw=0.7,color='orangered')\n",
    "line_object = lines[0]\n",
    "\n",
    "ax.fill_between(rs, np.array(per_5),np.array(per_95),\n",
    "                 alpha=1,color='lightskyblue',label=r'Predicted$\\pm$std')\n",
    "\n",
    "\n",
    "ax.fill_between(rs,CI[:,1],CI[:,0],alpha=0.5,color='grey')\n",
    "trues = plt.scatter(rs, rs, color='orangered', s=5,alpha=1,label='True')\n",
    "\n",
    "# print(rs_add)\n",
    "# # ax.boxplot(data_for_box, positions=rs_add, widths=0.02, showfliers=False)\n",
    "# unseen = ax.scatter(rs_add,np.array(Bootstrap_mean_u),label='Unseen',s=5,\n",
    "#            facecolor='teal',marker='s',edgecolor='teal')\n",
    "# ax.vlines(rs_add,)\n",
    "# widths = [0.4,0.15,0.015,0.003]  # Adjust the 0.05 value as needed\n",
    "\n",
    "# Add the box plot with calculated widths\n",
    "# box = ax.boxplot(data_for_box, positions=rs_add, widths=widths, patch_artist=True,showfliers=False)\n",
    "\n",
    "# Set the color of all boxes to 'teal'\n",
    "# for patch in box['boxes']:\n",
    "#     patch.set_facecolor('None')\n",
    "#     patch.set_linewidth(0.5)\n",
    "#     patch.set_edgecolor('teal')\n",
    "\n",
    "# whisker_linewidth = 0.5  # Example linewidth\n",
    "# for whisker in box['whiskers']:\n",
    "#     whisker.set_linewidth(whisker_linewidth)\n",
    "#     whisker.set_color('teal')\n",
    "# #     patch.set_color('teal')\n",
    "# for median in box['medians']:\n",
    "#     median.set_color('black')\n",
    "    \n",
    "\n",
    "\n",
    "plt.xticks(rotation=45)\n",
    "ax.set_yscale('log')\n",
    "ax.set_xscale('log')\n",
    "\n",
    "# plt.ylim(-5,4)\n",
    "plt.xlabel('$r$',size=8)\n",
    "plt.ylabel('$r$',size=8)\n",
    "ax.tick_params(axis='both', labelsize=8)\n",
    "# plt.legend(frameon=False,fontsize=8)\n",
    "# Create custom legend\n",
    "# Create a custom legend symbol\n",
    "class CustomHandler:\n",
    "    def legend_artist(self, legend, orig_handle, fontsize, handlebox):\n",
    "        x0, y0 = handlebox.xdescent, handlebox.ydescent\n",
    "        width, height = handlebox.width, handlebox.height\n",
    "        patch_height = height * 1  # Increase the height of the shaded area\n",
    "        patch = mpatches.Rectangle([x0, y0 + (height - patch_height) / 2], width, patch_height, color='lightskyblue', transform=handlebox.get_transform())\n",
    "        line = mlines.Line2D([x0, x0 + width], [y0 + height / 2, y0 + height / 2], linestyle='--', lw=0.75, color='white', transform=handlebox.get_transform())\n",
    "        handlebox.add_artist(patch)\n",
    "        handlebox.add_artist(line)\n",
    "        return [patch, line]\n",
    "\n",
    "# Create legend\n",
    "# plt.legend([trues,line_object,unseen], ['True', r'Predicted $\\pm$ std','Unseen'], \n",
    "#            handler_map={line_object: CustomHandler()}, loc='lower right', frameon=False,fontsize=8)\n",
    "# plt.show()\n",
    "# plt.savefig(\"gnn_regression_ng.pdf\", bbox_inches='tight', pad_inches=0)\n",
    "# plt.savefig('gnn_regression_ng.eps',bbox_inches='tight',format='eps')"
   ]
  },
  {
   "cell_type": "code",
   "execution_count": 19,
   "id": "3f99246e",
   "metadata": {},
   "outputs": [
    {
     "data": {
      "text/plain": [
       "<All keys matched successfully>"
      ]
     },
     "execution_count": 19,
     "metadata": {},
     "output_type": "execute_result"
    }
   ],
   "source": [
    "model = GCN(num_node_features=50)  # Replace 'GCN' and 'num_x' with actual values\n",
    "# Load the saved state dictionary\n",
    "model.load_state_dict(torch.load(file_dir+x_folder+'/best_model_{}_{}.pth'.format(6,5)))"
   ]
  },
  {
   "cell_type": "code",
   "execution_count": 20,
   "id": "64b21694",
   "metadata": {},
   "outputs": [],
   "source": [
    "def load_gzipped_numpy(filename):\n",
    "    try:\n",
    "        with gzip.open(filename, 'rb') as f:\n",
    "            return np.load(f, allow_pickle=True)\n",
    "    except FileNotFoundError:\n",
    "        return [0]"
   ]
  },
  {
   "cell_type": "code",
   "execution_count": 21,
   "id": "59a7bf7c",
   "metadata": {},
   "outputs": [],
   "source": [
    "WN = np.loadtxt('../W_avg.csv') ### numpy arrary\n",
    "g_s = nx.from_numpy_array(WN)\n",
    "edges = np.array(g_s.edges()).transpose()\n",
    "edge_index = torch.tensor(edges,dtype = torch.int64)\n",
    "# edge_weight = torch.tensor(WN[edge_index[0], edge_index[1]], dtype=torch.float)\n",
    "edge_weights = []\n",
    "for (u, v) in g_s.edges():\n",
    "    edge_weights.append([g_s[u][v]['weight']])\n",
    "edge_weights = torch.tensor(edge_weights, dtype=torch.float32)"
   ]
  },
  {
   "cell_type": "code",
   "execution_count": 22,
   "id": "2272d6c3",
   "metadata": {},
   "outputs": [
    {
     "name": "stdout",
     "output_type": "stream",
     "text": [
      "12.5 0\n",
      "4.0 1\n",
      "0.4 2\n",
      "0.08 3\n"
     ]
    }
   ],
   "source": [
    "rs_add = np.array([12.5 ,  4.  ,  0.4 ,  0.08])\n",
    "export_dir = '/Users/qingyao/Documents/branching_data/simulation/unseen/'\n",
    "#### data preparation\n",
    "dataset = []\n",
    "r_class = {12.5:0 ,  4.:1  ,  0.4:2 ,  0.08:3}\n",
    "for r_idx in range(4):\n",
    "    r = rs_add[r_idx]\n",
    "    sub_export_dir = export_dir+'branching_R0-{}_r-{}/'.format(np.round(R0,2),np.round(r,3))\n",
    "    r_c = r_class[r]\n",
    "    print(r, r_c)\n",
    "    # Create a list to hold our Data objects\n",
    "    for g_idx in range(300):\n",
    "        export_names = sub_export_dir+'NewInf_R0-{}_r-{}_{}.npy.gz'.format(np.round(R0,2),np.round(r,3),(g_idx+1))\n",
    "        g_i = load_gzipped_numpy(export_names)\n",
    "#         g_i_new = np.hstack((g_i[:,10:], prob_2d))\n",
    "        g_i_new = g_i[:,10:] \n",
    "        \n",
    "        matrix = torch.from_numpy(g_i_new)\n",
    "        \n",
    "        y = torch.log(torch.tensor([[r]], dtype=torch.float))\n",
    "#         y = torch.tensor([[r]], dtype=torch.float)\n",
    "        # Create a Data object for each graph\n",
    "        data = Data(x=matrix, edge_index=edge_index, edge_attr=edge_weights,y=y)\n",
    "        data.x = data.x.float()\n",
    "#         data.y = data.y.long()\n",
    "        # Add the Data object to our list\n",
    "        dataset.append(data)"
   ]
  },
  {
   "cell_type": "code",
   "execution_count": 23,
   "id": "e112c28d",
   "metadata": {},
   "outputs": [],
   "source": [
    "def test(model, testloader, device):\n",
    "    model.eval()\n",
    "    predictions = []\n",
    "    total_loss = 0\n",
    "    true_values = []\n",
    "    with torch.no_grad():\n",
    "        for data in testloader:\n",
    "            data = data.to(device)\n",
    "            output = model(data)\n",
    "            loss = F.mse_loss(output, data.y)\n",
    "            total_loss += loss.item() * data.num_graphs\n",
    "            predictions.append(output.cpu())\n",
    "            true_values.append(data.y.cpu())\n",
    "    return torch.cat(predictions, dim=0), torch.cat(true_values, dim=0), total_loss / len(testloader.dataset)"
   ]
  },
  {
   "cell_type": "code",
   "execution_count": 24,
   "id": "41a676a6",
   "metadata": {},
   "outputs": [
    {
     "name": "stderr",
     "output_type": "stream",
     "text": [
      "/Users/qingyao/anaconda3/envs/gnn/lib/python3.11/site-packages/torch_geometric/deprecation.py:22: UserWarning: 'data.DataLoader' is deprecated, use 'loader.DataLoader' instead\n",
      "  warnings.warn(out)\n"
     ]
    }
   ],
   "source": [
    "testloader = DataLoader(dataset, batch_size=128, shuffle=True)\n",
    "device = torch.device('cuda' if torch.cuda.is_available() else 'cpu')"
   ]
  },
  {
   "cell_type": "code",
   "execution_count": 25,
   "id": "e37d9a04",
   "metadata": {},
   "outputs": [],
   "source": [
    "predictions_u, y_true_u, test_mse_u = test(model, testloader, device)"
   ]
  },
  {
   "cell_type": "code",
   "execution_count": 27,
   "id": "380bbaa3",
   "metadata": {},
   "outputs": [
    {
     "name": "stdout",
     "output_type": "stream",
     "text": [
      "Test MSE: 0.2306\n"
     ]
    }
   ],
   "source": [
    "print(f\"Test MSE: {test_mse_u:.4f}\")"
   ]
  },
  {
   "cell_type": "code",
   "execution_count": 34,
   "id": "3741f97c",
   "metadata": {},
   "outputs": [],
   "source": [
    "results_u = {}\n",
    "for p, t in zip(predictions_u.ravel().numpy(), y_true_u.ravel().numpy()):\n",
    "    real_r = np.round(np.exp(t),3)\n",
    "    if real_r in results_u.keys():\n",
    "        results_u[real_r].append(p)\n",
    "    else:\n",
    "        results_u[real_r] = [p]"
   ]
  },
  {
   "cell_type": "code",
   "execution_count": 74,
   "id": "16929c52",
   "metadata": {},
   "outputs": [
    {
     "name": "stdout",
     "output_type": "stream",
     "text": [
      "12.5\n",
      "4.0\n",
      "0.4\n",
      "0.08\n"
     ]
    }
   ],
   "source": [
    "Bootstrap_ci_u = []\n",
    "Bootstrap_mean_u = []\n",
    "per_95_u = []\n",
    "per_5_u = []\n",
    "data_for_box = []\n",
    "for r_idx in range(4):\n",
    "    r = rs_add[r_idx]\n",
    "    r = np.float32(r)\n",
    "    print(r)\n",
    "    data = np.exp(results_u[r])\n",
    "    data_for_box.append(data)\n",
    "#     data = training[r]\n",
    "#     k = np.log(r)\n",
    "#     print(len(data))\n",
    "#     Bootstrap_mean.append(np.median(data))\n",
    "    sample_median, l_b, u_b = bootstrap_median_confidence_interval(data,95,n_bootstraps=100)\n",
    "    Bootstrap_ci_u.append([l_b, u_b])\n",
    "    Bootstrap_mean_u.append(sample_median)\n",
    "    per_95_u.append(np.percentile(data,95))\n",
    "    per_5_u.append(np.percentile(data,5))"
   ]
  },
  {
   "cell_type": "code",
   "execution_count": 36,
   "id": "a7643850",
   "metadata": {},
   "outputs": [],
   "source": [
    "CI_u = np.array(Bootstrap_ci_u)"
   ]
  },
  {
   "cell_type": "code",
   "execution_count": 46,
   "id": "e695a2eb",
   "metadata": {},
   "outputs": [
    {
     "data": {
      "text/plain": [
       "[array([ 6.552127 ,  6.9485993,  5.638287 ,  3.5777245,  8.714277 ,\n",
       "         6.859781 ,  5.6868644,  6.5564766,  4.655563 ,  5.6165504,\n",
       "         8.258004 ,  2.90641  ,  8.737643 , 10.275498 ,  5.1925197,\n",
       "         4.730062 ,  4.4078364,  7.695811 ,  4.885182 ,  6.5166173,\n",
       "         6.1736836,  9.362929 , 10.372886 ,  7.8223004,  4.9128194,\n",
       "        18.141855 ,  7.2141376,  5.757723 ,  6.7474813,  5.3822513,\n",
       "         6.9143543, 10.404647 , 11.578678 , 14.74446  ,  7.2983904,\n",
       "         6.2854123,  8.349483 ,  7.426573 , 13.0980015,  6.0360675,\n",
       "         9.2656355,  7.616955 ,  5.7491565,  4.6159306, 10.308681 ,\n",
       "         6.573563 ,  6.8183584,  5.719888 ,  5.9573627,  8.348308 ,\n",
       "         6.314344 ,  7.8106923,  3.4261072,  8.875099 ,  4.486003 ,\n",
       "         3.7099445, 10.391482 ,  6.4276643,  7.1078353, 13.23498  ,\n",
       "         5.2563314,  7.33395  ,  4.529935 ,  4.6240616,  4.5695105,\n",
       "        10.477292 , 10.413971 ,  4.476458 ,  4.0012155,  4.9531407,\n",
       "         4.1362166,  5.369601 ,  4.695782 , 12.141392 ,  3.414058 ,\n",
       "        15.371261 ,  7.4986877,  3.4859726, 10.351584 ,  7.2013745,\n",
       "         6.7136736,  4.8495493, 10.141608 , 10.517582 ,  3.7464511,\n",
       "        11.575727 ,  8.658931 ,  6.9125414, 10.460272 ,  7.6830564,\n",
       "        11.717251 ,  4.518143 , 10.6062155,  7.2657504,  6.8241897,\n",
       "         4.978682 , 12.7282505,  8.361397 ,  6.39186  ,  9.349607 ,\n",
       "        10.5112   , 11.903851 ,  6.254451 ,  4.5425587,  8.230633 ,\n",
       "         9.063852 ,  4.083146 , 12.836282 ,  8.61585  ,  8.203758 ,\n",
       "         4.7199388,  5.655354 ,  9.815158 ,  5.8155527,  3.809534 ,\n",
       "         3.717832 ,  9.131629 ,  7.2490616,  8.877528 , 18.15923  ,\n",
       "         6.29943  ,  8.054489 ,  3.4871993, 11.744756 ,  8.27178  ,\n",
       "        11.25826  , 13.964048 ,  9.835552 ,  8.623621 ,  9.722269 ,\n",
       "        15.979609 ,  7.199155 ,  8.226756 ,  4.5715857,  4.9418697,\n",
       "         6.544964 ,  5.3983583,  8.765826 ,  8.101522 ,  3.7641647,\n",
       "         6.544584 ,  6.0919027,  4.237778 ,  8.387193 ,  5.3344364,\n",
       "        15.681721 ,  3.3665655,  4.42392  ,  3.9846852,  6.5599937,\n",
       "        10.041042 ,  6.852992 ,  8.502615 ,  5.6033425,  9.916031 ,\n",
       "         8.392757 ,  6.3373313,  3.194598 , 19.13514  ,  5.572297 ,\n",
       "         4.464651 ,  6.4493194,  8.017479 ,  4.277543 ,  4.169067 ,\n",
       "         6.4234996, 12.023174 ,  5.8541956,  4.763237 ,  8.277647 ,\n",
       "         4.7095747,  6.262155 , 12.927057 , 12.20176  ,  3.327967 ,\n",
       "         3.3727865,  6.598036 ,  4.8684726,  7.1631985,  7.3805246,\n",
       "         4.461499 ,  7.9484377,  5.2318416,  5.941268 ,  8.729137 ,\n",
       "         6.411771 ,  4.788732 ,  5.081641 ,  6.073228 ,  4.6506753,\n",
       "         8.101272 , 10.516258 ,  4.982574 ,  9.173394 ,  5.8398275,\n",
       "        11.761891 ,  7.169652 ,  5.8112893,  6.0499167,  3.9798872,\n",
       "         9.545405 ,  4.578815 ,  6.034971 ,  8.138088 ,  7.381336 ,\n",
       "         9.834155 ,  5.8557224,  5.8792343,  7.728879 , 10.031476 ,\n",
       "         7.2393517,  6.438861 ,  8.625341 ,  5.9490156,  9.689847 ,\n",
       "        10.267361 ,  6.4701347,  5.901237 ,  4.1135335,  5.3028536,\n",
       "         4.818849 ,  3.4505916,  3.6884627,  9.849853 ,  6.3910174,\n",
       "         8.815473 ,  8.686351 ,  7.684225 , 12.492434 , 14.084016 ,\n",
       "         7.789119 ,  4.999807 ,  6.2005086,  7.09226  ,  6.359317 ,\n",
       "         6.935031 ,  9.583914 ,  5.59065  ,  6.2961364,  7.32094  ,\n",
       "         4.6698723,  4.257439 ,  7.7449718, 18.069723 ,  7.8130555,\n",
       "         9.502625 ,  3.5458176,  8.556117 ,  6.146824 , 11.133163 ,\n",
       "         9.867207 ,  3.220392 ,  5.1535454,  6.4964075,  6.1000423,\n",
       "         9.367261 , 11.018316 ,  7.526074 ,  7.055549 ,  4.4655957,\n",
       "         6.9736238,  2.5329623,  3.5473785,  6.881697 , 10.258158 ,\n",
       "         4.9397993, 11.105796 ,  3.4385138,  5.5310802,  7.885451 ,\n",
       "        15.438179 ,  8.221249 ,  8.349003 ,  4.9665546,  8.78355  ,\n",
       "         4.3778214,  8.6097355,  5.50202  ,  8.537186 , 11.989222 ,\n",
       "         4.9496775,  6.0734067,  6.4779286,  6.600539 ,  6.7065883,\n",
       "         2.9252973,  5.215056 ,  7.2115426, 14.820531 , 12.926451 ,\n",
       "         3.822261 ,  5.4102335,  4.8515725,  7.801478 ,  4.265737 ,\n",
       "        10.974418 ,  7.190506 ,  8.215375 ,  7.802616 ,  6.105239 ],\n",
       "       dtype=float32),\n",
       " array([ 2.7355454,  6.504791 ,  4.723787 ,  6.699157 ,  5.3747864,\n",
       "         5.7441807,  6.2396417,  4.287068 ,  4.7105494,  3.9287138,\n",
       "         4.294714 ,  4.8977695,  2.871796 ,  2.225883 ,  3.8412635,\n",
       "         4.514676 ,  2.5045369,  1.6210608,  2.1848235,  2.6320243,\n",
       "         7.3826156,  2.8154726,  3.078251 ,  5.6612725,  4.979896 ,\n",
       "         3.5821283,  1.6451776,  4.868686 ,  2.4075413,  4.1533566,\n",
       "         3.3447597,  3.534079 ,  5.9456882,  3.1428971,  4.529228 ,\n",
       "         5.348122 ,  5.4644666,  6.4382057,  3.5908754,  5.4760823,\n",
       "         4.467554 ,  3.4733825,  4.13788  ,  5.3121777,  4.0174556,\n",
       "         3.17881  ,  5.235665 ,  4.8300095,  3.6092124,  6.9277797,\n",
       "         4.490961 ,  2.923205 ,  3.1774573,  2.1605687,  3.076135 ,\n",
       "         3.8074267,  7.2035775,  2.6401267,  3.655267 ,  5.6319423,\n",
       "         2.4866161,  6.2947073,  4.0061417,  3.3330142,  7.5948586,\n",
       "         2.656265 ,  3.982602 ,  2.8291295,  3.7706063,  4.809945 ,\n",
       "         4.2887425,  4.2583356,  3.3206997,  2.8924723,  2.7360127,\n",
       "         2.7191815,  6.945343 ,  3.8137617,  3.27895  ,  3.0552187,\n",
       "         3.955362 ,  6.051551 ,  3.0553668,  4.6806755,  5.1712437,\n",
       "         3.8358448,  3.9848728,  6.2544117,  2.530047 ,  4.4341307,\n",
       "         4.0868044,  4.2020082,  5.4533744,  3.851637 ,  2.2289915,\n",
       "         6.727542 ,  8.097728 ,  3.219711 ,  4.1161385,  2.9476273,\n",
       "         5.485499 ,  7.949118 ,  5.730193 , 10.263192 ,  2.8960419,\n",
       "         2.2555835,  4.5163913,  8.322913 ,  4.979417 ,  4.655489 ,\n",
       "         1.9036998,  5.253691 ,  2.9110615,  1.5466789,  5.73341  ,\n",
       "         5.034847 ,  6.2945333,  3.2741315, 11.486146 ,  5.671404 ,\n",
       "         4.2008767,  5.223856 ,  3.9525988,  4.049856 ,  6.683507 ,\n",
       "         3.790679 ,  1.4938996,  3.773279 ,  3.6421132,  3.5164375,\n",
       "         4.8419437,  3.2698536,  4.380134 ,  3.066742 ,  5.6185117,\n",
       "         2.1042366,  4.3697   ,  3.4074848,  3.4630237,  6.4406643,\n",
       "         5.9875784,  7.3785505,  4.8883524,  1.7947967,  4.768832 ,\n",
       "         4.026648 ,  2.9049308,  7.1598825,  2.3045173,  5.3988743,\n",
       "         4.7389174,  3.4635181,  5.2139573,  6.498708 ,  1.7716945,\n",
       "         6.1655536,  4.9699006,  3.718852 ,  3.4676878,  4.775832 ,\n",
       "         4.677721 ,  2.4127486,  5.3300223,  8.444033 ,  6.9406915,\n",
       "         7.7535663,  3.664831 ,  4.2147174,  3.0641098,  4.330994 ,\n",
       "         5.6044226,  4.636621 ,  5.6581593,  6.0700755,  5.4690094,\n",
       "         4.4353065,  8.344875 ,  4.663657 ,  3.3819196,  5.0581365,\n",
       "         7.4043016,  5.412425 ,  4.498644 ,  2.8393998,  5.957591 ,\n",
       "         4.270568 ,  5.8558326,  3.713726 ,  5.3039985,  6.287859 ,\n",
       "         3.253167 ,  2.858553 ,  3.4083521,  5.915706 ,  2.3349686,\n",
       "         5.1554246,  3.5277522,  5.5217595,  1.6860046,  5.034833 ,\n",
       "         4.4693775,  2.6814218,  5.5693254,  3.5401938,  7.2687063,\n",
       "         5.526769 ,  3.4916356,  2.692673 ,  4.0374656,  4.5048885,\n",
       "         3.2839735,  4.9228573,  7.294932 ,  2.347642 ,  4.530007 ,\n",
       "         4.8979654,  7.1242685,  6.7242174,  3.679831 ,  4.043339 ,\n",
       "         3.459761 ,  4.8909893,  3.2801452,  6.8135595,  3.837606 ,\n",
       "         5.3401117,  6.485903 ,  8.100196 ,  2.7152321,  5.5976853,\n",
       "         4.2938447,  3.533028 ,  9.934114 ,  4.219461 ,  3.867726 ,\n",
       "         3.3698604,  6.1012287,  5.228435 ,  5.181536 ,  4.798392 ,\n",
       "         3.7384393,  6.136774 ,  2.273294 ,  4.4239173,  2.8238204,\n",
       "         5.761686 ,  2.9229627,  4.982668 ,  4.183911 ,  7.5061865,\n",
       "         4.924342 ,  3.3799431,  3.6944757,  4.74594  ,  6.458551 ,\n",
       "         5.398706 ,  4.362277 ,  2.6734483,  4.0991764,  3.0613675,\n",
       "         4.0721984,  4.985722 ,  6.492354 ,  5.5197754,  4.0265903,\n",
       "         3.9944358,  3.1073613,  2.486171 ,  4.0363345,  3.859131 ,\n",
       "         5.0874257,  3.8595784,  5.0462494,  5.262644 ,  3.5300462,\n",
       "         6.9168043,  7.2652636,  7.168809 ,  6.2553754,  2.9139724,\n",
       "         5.9763618,  3.3804042,  4.191279 ,  6.703892 ,  5.3469954,\n",
       "         2.569919 ,  3.424641 ,  2.358741 ,  2.2690895,  5.1135974,\n",
       "         3.8422174,  5.6711206,  7.022123 ,  6.973326 ,  5.765335 ,\n",
       "         4.7584257,  2.7745433,  4.2604165,  3.835899 ,  2.1688633],\n",
       "       dtype=float32),\n",
       " array([0.6961225 , 0.3949866 , 0.326964  , 0.56038755, 0.59355855,\n",
       "        0.30776545, 0.64774966, 0.33979577, 0.24854255, 0.41987073,\n",
       "        0.32224527, 0.27526042, 0.2516671 , 0.36112648, 0.34938177,\n",
       "        0.5578846 , 0.5943773 , 0.24039695, 0.5693694 , 0.49113914,\n",
       "        0.18995294, 0.5692543 , 0.73752487, 0.31300902, 0.5628808 ,\n",
       "        0.32796457, 0.24163243, 0.39003813, 0.38373852, 0.3891642 ,\n",
       "        0.4224167 , 0.71344274, 0.36166236, 0.3450447 , 0.38931093,\n",
       "        0.26768595, 0.23358186, 0.315475  , 0.28791142, 0.6831021 ,\n",
       "        0.4789347 , 0.23570532, 0.30726278, 0.38223863, 0.3438903 ,\n",
       "        0.41718984, 0.83059114, 1.5879809 , 0.9890049 , 0.2594855 ,\n",
       "        0.28937474, 0.34866855, 0.40569213, 0.31134373, 0.35742718,\n",
       "        0.4724109 , 0.5113948 , 0.3954707 , 0.5737389 , 0.26179928,\n",
       "        0.2632459 , 0.43465728, 0.19469233, 0.3742081 , 0.60752726,\n",
       "        0.5032851 , 0.6078956 , 0.2883483 , 0.26840463, 0.18526548,\n",
       "        0.43988642, 0.2686113 , 0.24679013, 0.285384  , 0.24897723,\n",
       "        0.47733974, 0.71487343, 0.34977445, 0.18676952, 0.33171815,\n",
       "        0.19639139, 0.36129367, 0.35608938, 0.43000126, 0.43694654,\n",
       "        0.3190777 , 0.31453016, 0.30932692, 0.48903468, 0.39343485,\n",
       "        0.28122017, 0.3237382 , 0.44540787, 0.28740546, 0.32875544,\n",
       "        0.2438633 , 0.4712979 , 0.3543006 , 0.32165885, 0.28373462,\n",
       "        0.4514887 , 0.21805908, 0.49722996, 0.39538738, 0.34173214,\n",
       "        0.49652725, 0.40112773, 0.22601317, 0.2775012 , 0.42459467,\n",
       "        0.39394253, 0.58079165, 0.3140358 , 0.30942655, 0.23440737,\n",
       "        0.3024914 , 0.5397038 , 0.4047611 , 0.400626  , 0.3715515 ,\n",
       "        0.32971287, 0.55900407, 0.28507704, 0.3717025 , 0.28176227,\n",
       "        0.55839616, 0.43053052, 0.48416936, 0.33214998, 0.4504415 ,\n",
       "        0.3148933 , 0.25756708, 0.325437  , 0.24836792, 0.6159246 ,\n",
       "        0.45726046, 0.39686742, 0.35676324, 0.24305473, 0.32701665,\n",
       "        0.7417784 , 0.23419115, 0.5087789 , 0.63166666, 0.48443526,\n",
       "        0.25713784, 0.26097947, 0.24600047, 0.4066015 , 0.33850682,\n",
       "        0.39820698, 0.6069026 , 0.4124231 , 0.45069286, 0.2509051 ,\n",
       "        0.57550555, 0.48109168, 0.4523208 , 0.48967877, 0.15230595,\n",
       "        0.30958438, 0.3867343 , 0.56907654, 0.22300941, 0.37944084,\n",
       "        0.32514465, 0.324389  , 0.47715363, 0.18488903, 0.33652636,\n",
       "        0.5821127 , 0.42580494, 0.83886945, 0.6033255 , 0.4347991 ,\n",
       "        0.47870305, 0.38198334, 0.36036056, 0.81362677, 0.34712616,\n",
       "        0.32127097, 0.37497538, 0.3178993 , 0.42114425, 0.27447948,\n",
       "        0.28303075, 0.2540218 , 0.22682063, 0.5871273 , 0.39014813,\n",
       "        0.32541457, 0.29756024, 0.55596364, 0.27175823, 0.30600202,\n",
       "        0.5256441 , 0.6158248 , 0.27615246, 0.15732011, 0.28659552,\n",
       "        0.5213417 , 0.29913348, 0.2674089 , 0.2875692 , 0.5241715 ,\n",
       "        0.45991436, 0.33995235, 0.21917033, 0.21785592, 0.4499373 ,\n",
       "        0.31124392, 0.3724556 , 0.46743557, 0.50288725, 0.3768536 ,\n",
       "        0.64109486, 0.48920035, 0.6182776 , 0.46353114, 0.3263654 ,\n",
       "        0.44519374, 0.30436334, 0.22418034, 0.5138338 , 0.29788965,\n",
       "        0.44547004, 0.16599745, 0.45839277, 0.40400958, 0.35796574,\n",
       "        0.4219425 , 0.44218788, 0.6374549 , 0.39703423, 0.2989925 ,\n",
       "        0.4486205 , 0.5636584 , 0.35369146, 0.41888282, 0.7069846 ,\n",
       "        0.32427368, 0.29288593, 0.4050808 , 0.3477246 , 0.42100215,\n",
       "        0.3707    , 0.63342345, 0.27794862, 0.37998998, 0.3288876 ,\n",
       "        0.447378  , 0.22567728, 0.5887977 , 0.45569462, 0.39219916,\n",
       "        0.34422544, 0.30114678, 0.32418647, 0.5088932 , 0.3055356 ,\n",
       "        0.2663136 , 0.28418484, 0.51862663, 0.6191905 , 0.280501  ,\n",
       "        0.32202387, 0.2917371 , 0.22353625, 0.2601954 , 0.5107341 ,\n",
       "        0.6079049 , 0.603783  , 0.456418  , 0.49660927, 0.30201286,\n",
       "        0.8882736 , 0.36003524, 0.42380723, 0.3786508 , 0.32866365,\n",
       "        0.5874585 , 0.48912933, 0.21390367, 0.2986498 , 0.1865729 ,\n",
       "        0.31461328, 0.30950245, 0.39112687, 0.25804052, 0.3549622 ,\n",
       "        0.5475738 , 0.30272293, 0.25119606, 0.27196804, 0.2701223 ,\n",
       "        0.3894901 , 0.3476206 , 0.4708879 , 0.21627577, 0.34606993],\n",
       "       dtype=float32),\n",
       " array([0.1304774 , 0.09477973, 0.11181688, 0.12289593, 0.06963881,\n",
       "        0.03518132, 0.15485114, 0.0793419 , 0.07873532, 0.0569206 ,\n",
       "        0.0823004 , 0.12421667, 0.04170585, 0.08579756, 0.0919297 ,\n",
       "        0.06604432, 0.13901804, 0.08916431, 0.07148525, 0.1561258 ,\n",
       "        0.08786262, 0.08836163, 0.06647763, 0.06256617, 0.08862701,\n",
       "        0.03939706, 0.07173932, 0.07348935, 0.07225002, 0.11138701,\n",
       "        0.05635312, 0.08108254, 0.04855852, 0.07030067, 0.14576712,\n",
       "        0.06200403, 0.04761092, 0.07309545, 0.05670074, 0.15172173,\n",
       "        0.08186856, 0.03515077, 0.05079297, 0.13723686, 0.06716945,\n",
       "        0.11202614, 0.06497241, 0.06293875, 0.05462583, 0.09300019,\n",
       "        0.06968696, 0.04978962, 0.06286931, 0.07326473, 0.08371045,\n",
       "        0.06387771, 0.05652253, 0.0388406 , 0.1414527 , 0.170987  ,\n",
       "        0.07676644, 0.0668203 , 0.10280866, 0.08699135, 0.1157126 ,\n",
       "        0.10739566, 0.02739239, 0.09918606, 0.07701557, 0.05603601,\n",
       "        0.10147098, 0.09013842, 0.1282477 , 0.04720758, 0.05645925,\n",
       "        0.05513978, 0.06255928, 0.11220174, 0.06037726, 0.11193801,\n",
       "        0.09055663, 0.02634352, 0.09592255, 0.11939408, 0.07710253,\n",
       "        0.06551615, 0.05394973, 0.0865718 , 0.08255059, 0.09979705,\n",
       "        0.05307498, 0.06908549, 0.05146998, 0.04975709, 0.10610914,\n",
       "        0.11072955, 0.14107433, 0.13399561, 0.04728618, 0.06881963,\n",
       "        0.11405151, 0.04739903, 0.10292999, 0.08764946, 0.04179553,\n",
       "        0.06196488, 0.1102753 , 0.06788608, 0.04646721, 0.08706877,\n",
       "        0.10003443, 0.15345044, 0.0682951 , 0.09524865, 0.10887443,\n",
       "        0.03753898, 0.07062083, 0.13790818, 0.04350098, 0.0935598 ,\n",
       "        0.07117285, 0.07944805, 0.10581934, 0.0774431 , 0.05306588,\n",
       "        0.04790705, 0.09359697, 0.07948723, 0.09020504, 0.07780716,\n",
       "        0.07888   , 0.10545415, 0.07884801, 0.08266084, 0.04054655,\n",
       "        0.07664378, 0.08464634, 0.05049617, 0.10533446, 0.0563332 ,\n",
       "        0.04384633, 0.0480754 , 0.05589184, 0.14805697, 0.09639893,\n",
       "        0.11599257, 0.06382754, 0.0265564 , 0.09270849, 0.0569488 ,\n",
       "        0.09460801, 0.06320041, 0.09587312, 0.07284482, 0.08418232,\n",
       "        0.04856444, 0.08985671, 0.09191841, 0.10830946, 0.04414797,\n",
       "        0.04720905, 0.08298581, 0.06675953, 0.05634648, 0.10924691,\n",
       "        0.0400709 , 0.07426701, 0.07487488, 0.05433671, 0.08607352,\n",
       "        0.06134686, 0.04205478, 0.07362738, 0.09783099, 0.13535176,\n",
       "        0.11306241, 0.1455664 , 0.05227141, 0.0878481 , 0.15215565,\n",
       "        0.11687949, 0.17059216, 0.1129135 , 0.07719137, 0.11043879,\n",
       "        0.14903572, 0.04995791, 0.10083997, 0.14442636, 0.09191751,\n",
       "        0.09222817, 0.12134419, 0.09516348, 0.06172501, 0.08562716,\n",
       "        0.15944839, 0.14512026, 0.05336291, 0.16609174, 0.07040399,\n",
       "        0.05695139, 0.08012863, 0.08887108, 0.0729194 , 0.09082232,\n",
       "        0.06076533, 0.10068396, 0.0884288 , 0.08938243, 0.0805129 ,\n",
       "        0.0954723 , 0.06283865, 0.07494012, 0.09749727, 0.08369576,\n",
       "        0.06398698, 0.06852811, 0.15994649, 0.18008903, 0.05701989,\n",
       "        0.06200786, 0.05246155, 0.06494429, 0.0344289 , 0.12033595,\n",
       "        0.13036141, 0.10577724, 0.0745848 , 0.05365513, 0.08648784,\n",
       "        0.12048373, 0.0598112 , 0.04243156, 0.05488788, 0.09245417,\n",
       "        0.08854658, 0.06749281, 0.09362581, 0.09654982, 0.08554224,\n",
       "        0.06745148, 0.0323534 , 0.10406847, 0.12503469, 0.04668348,\n",
       "        0.061869  , 0.05063811, 0.08545616, 0.11694663, 0.04788989,\n",
       "        0.05622292, 0.04282558, 0.10281783, 0.10000803, 0.06919809,\n",
       "        0.04700504, 0.1171499 , 0.09510371, 0.15179399, 0.10519229,\n",
       "        0.08801987, 0.0834645 , 0.08868266, 0.09430122, 0.09262469,\n",
       "        0.06323893, 0.09500744, 0.07189022, 0.07366221, 0.07021253,\n",
       "        0.07143674, 0.05314451, 0.04355152, 0.11867566, 0.11890493,\n",
       "        0.05540396, 0.16774231, 0.10211525, 0.07504479, 0.06552809,\n",
       "        0.0686978 , 0.07209459, 0.07927889, 0.08336886, 0.05571022,\n",
       "        0.07776941, 0.07326493, 0.12501791, 0.10286923, 0.04858901,\n",
       "        0.02444462, 0.08259416, 0.06802096, 0.04611985, 0.04047618,\n",
       "        0.10152639, 0.11315985, 0.05450663, 0.06089607, 0.13978384],\n",
       "       dtype=float32)]"
      ]
     },
     "execution_count": 46,
     "metadata": {},
     "output_type": "execute_result"
    }
   ],
   "source": [
    "data_for_box"
   ]
  },
  {
   "cell_type": "code",
   "execution_count": 78,
   "id": "d68f3271",
   "metadata": {},
   "outputs": [
    {
     "data": {
      "image/png": "[encoded data removed]",
      "text/plain": [
       "<Figure size 640x480 with 1 Axes>"
      ]
     },
     "metadata": {},
     "output_type": "display_data"
    }
   ],
   "source": [
    "plt.plot(rs_add,rs_add,label='real',c='grey')\n",
    "\n",
    "plt.boxplot(data_for_box, positions=rs_add, widths=0.05)\n",
    "plt.yscale('log')\n",
    "plt.xscale('log')\n",
    "plt.show()\n",
    "\n",
    "# plt.scatter(rs_add,np.array(Bootstrap_mean_u),label='test')\n",
    "# plt.fill_between(rs_add,CI_u[:,1],CI_u[:,0],alpha=0.3)\n",
    "\n",
    "# plt.legend()"
   ]
  },
  {
   "cell_type": "code",
   "execution_count": null,
   "id": "51c9aa01",
   "metadata": {},
   "outputs": [],
   "source": [
    "lr_list = [np.power(0.5, i) for i in range(2, 16, 2)]*10"
   ]
  },
  {
   "cell_type": "code",
   "execution_count": null,
   "id": "c59920a7",
   "metadata": {},
   "outputs": [],
   "source": [
    "lr_list[:7]"
   ]
  },
  {
   "cell_type": "code",
   "execution_count": null,
   "id": "0b891c69",
   "metadata": {},
   "outputs": [],
   "source": []
  }
 ],
 "metadata": {
  "kernelspec": {
   "display_name": "gnn",
   "language": "python",
   "name": "gnn"
  },
  "language_info": {
   "codemirror_mode": {
    "name": "ipython",
    "version": 3
   },
   "file_extension": ".py",
   "mimetype": "text/x-python",
   "name": "python",
   "nbconvert_exporter": "python",
   "pygments_lexer": "ipython3",
   "version": "3.11.4"
  }
 },
 "nbformat": 4,
 "nbformat_minor": 5
}
