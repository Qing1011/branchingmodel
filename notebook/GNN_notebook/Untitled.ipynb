{
 "cells": [
  {
   "cell_type": "code",
   "execution_count": 1,
   "id": "9c16c838",
   "metadata": {},
   "outputs": [],
   "source": [
    "import torch\n",
    "from torch_geometric.data import Data\n",
    "import numpy as np\n",
    "import networkx as nx\n",
    "from torch_geometric.nn import MessagePassing\n",
    "from torch_geometric.utils import add_self_loops, degree\n",
    "import matplotlib.pyplot as plt\n",
    "import scipy.special as SS\n",
    "import scipy.stats as SSA"
   ]
  },
  {
   "cell_type": "code",
   "execution_count": 3,
   "id": "bc7db0fe",
   "metadata": {},
   "outputs": [],
   "source": [
    "WN = np.loadtxt('../W_avg.csv')\n",
    "pop = np.loadtxt('../pop_new.csv')"
   ]
  },
  {
   "cell_type": "code",
   "execution_count": 159,
   "id": "692927e7",
   "metadata": {},
   "outputs": [],
   "source": [
    "class EpidemicSimulator(MessagePassing):\n",
    "    def __init__(self, r, p, weight, max_time_step):\n",
    "        super(EpidemicSimulator, self).__init__(aggr='add')\n",
    "        self.r = r ## to be estimated\n",
    "#         self.p = p\n",
    "        self.p_prime = 1-p ## depends on R0\n",
    "        self.max_time_step = max_time_step\n",
    "        self.Z = 3 # latent period\n",
    "        self.Zb = 1 # scale parameter for Z\n",
    "        self.D = 5 # infectious period\n",
    "        self.Db = 1 # scale parameter for beta \n",
    "        self.weight = torch.Tensor(weight) \n",
    "        self.offspring = []\n",
    "    \n",
    "    def forward(self, x, edge_index, edge_attr, step):\n",
    "        return self.propagate(edge_index, size=(x.size(0), x.size(0)), x=x, edge_attr=edge_attr, step=step)\n",
    "\n",
    "\n",
    "    def message(self, x, edge_index, edge_attr, step):\n",
    "        # x_j has shape [E, num_features]\n",
    "        # edge_attr has shape [E, num_edge_features]\n",
    "        # Get the new infections from x_j.\n",
    "        # Initialize an empty tensor to store the results\n",
    "        new_infectors = x[:, 2+step:3+step]  # the infectors at time ti\n",
    "        \n",
    "        temp = new_infectors.round().int()\n",
    "        cases = temp.squeeze().tolist() ##case' indx is the node index\n",
    "        \n",
    "        results = torch.zeros_like(new_infectors)\n",
    "        print(new_infectors)\n",
    "        source_nodes, target_nodes = edge_index\n",
    "        messages = torch.zeros_like(edge_attr)\n",
    "        # Generate negative binomial for each size\n",
    "        for i, size in enumerate(cases): ###i is index for the edges\n",
    "            if size > 0:\n",
    "                offspring_per_case = torch.tensor([2]*size)\n",
    "                #torch.distributions.Categorical(self.weight).sample(sample_shape=torch.Size([size]))\n",
    "                self.offspring.extend(offspring_per_case.tolist())\n",
    "                temp_sum = offspring_per_case.sum()\n",
    "            else:\n",
    "                temp_sum = 0\n",
    "            results[i] = temp_sum\n",
    "        # New code for sending messages based on edge weights\n",
    "        for i, num_messages in enumerate(results):\n",
    "            for _ in range(int(num_messages)):\n",
    "                # For each message, choose a target node based on the edge probabilities\n",
    "                possible_targets = target_nodes[source_nodes == i]\n",
    "                target_probabilities = edge_attr[source_nodes == i]\n",
    "                chosen_target = torch.multinomial(target_probabilities, 1).item()\n",
    "                target_idx = (source_nodes == i) & (target_nodes == possible_targets[chosen_target])\n",
    "                messages[target_idx] += 1\n",
    "        return messages.view(-1, 1)\n",
    "\n",
    "    def update(self, aggr_out, x, step):\n",
    "    # x has shape [N, num_features], it is the original node features\n",
    "    # The new infections are the aggregated messages.\n",
    "        new_infections = aggr_out # aggr_out has shape [N, 1], it contains the updated infections\n",
    "        #### Add the effective infections to the column corresponding to the current step.####\n",
    "        ## immu first\n",
    "        population = x[:, 1:2]\n",
    "        total_infection = torch.sum(x[:, 2:3+step], dim=1,keepdim=True) \n",
    "        rate = (population - total_infection) / population # Compute the rate.\n",
    "        rate[rate<0] = 0\n",
    "\n",
    "        new_effective_infections = new_infections*rate\n",
    "        new_infections_int  = new_effective_infections.round().int()\n",
    "        ### diffuse the new_infections to different times \n",
    "        inf_sizes = new_infections_int.squeeze().tolist()\n",
    "        for i, inf_size_i in enumerate(inf_sizes):\n",
    "            gamma_dist1 = torch.distributions.Gamma(self.Z, 1/self.Zb)\n",
    "            gamma_dist2 = torch.distributions.Gamma(self.D, 1/self.Db)\n",
    "            latency_p = gamma_dist1.rsample(sample_shape=torch.Size([inf_size_i]))\n",
    "            infectious_p = gamma_dist2.rsample(sample_shape=torch.Size([inf_size_i]))\n",
    "            v = torch.rand(inf_size_i)\n",
    "            delay_days = latency_p + v * infectious_p\n",
    "#             print(step, delay_days)\n",
    "            for j,delay_t in enumerate(delay_days):\n",
    "                t_j = (3+step+delay_t).ceil().int()\n",
    "                if t_j > self.max_time_step:\n",
    "                    pass\n",
    "                else:\n",
    "                    x[i,t_j] = x[i,t_j] + 1\n",
    "        ######^^^^^^#######\n",
    "        # The rest of the features remain the same.\n",
    "        other_features = x[:, 2:].clone()\n",
    "        # Concatenate the new infections, the population, and the other features to get the new node features.\n",
    "        x_new = torch.cat([new_infections.clone(), population, other_features], dim=1)\n",
    "        return x_new, self.offspring\n"
   ]
  },
  {
   "cell_type": "code",
   "execution_count": 165,
   "id": "a3536397",
   "metadata": {},
   "outputs": [],
   "source": [
    "def simulate_dynamics(data, R0, r, num_steps):\n",
    "    p = r/(R0+r)\n",
    "    xx = np.arange(0, 100, 1)  # define the range of x values the cutoff is 200\n",
    "#     pmf = SSA.nbinom.pmf(xx, r, p)  # calculate the probability mass function\n",
    "    pmf = SSA.nbinom.pmf(xx, r.detach().numpy(), p.detach().numpy())\n",
    "    weights_n = pmf/np.sum(pmf)\n",
    "#     print(weights_n)\n",
    "    x = data.x\n",
    "    T_len = x.shape[1]\n",
    "    E_x = torch.tensor(np.zeros(300,x.shape[0],x.shape[1]))\n",
    "#     E_Newcases = torch.tensor(np.zeros(300,x.shape[0],x.shape[1]))\n",
    "    for e_i in range(300):\n",
    "        simulator = EpidemicSimulator(r, p, weights_n, max_time_step=(T_len-1))\n",
    "        for ti in range(num_steps):\n",
    "            E_x[e_i,:,:], _ = simulator(x, data.edge_index, data.edge_attr, ti)\n",
    "    return E_x"
   ]
  },
  {
   "cell_type": "code",
   "execution_count": 161,
   "id": "9cfe41dc",
   "metadata": {},
   "outputs": [],
   "source": [
    "pop = np.array([1000]*4)"
   ]
  },
  {
   "cell_type": "code",
   "execution_count": 162,
   "id": "2b5a85c2",
   "metadata": {},
   "outputs": [],
   "source": [
    "# create a graph\n",
    "A = np.array([[0.25 , 0.25, 0.4, 0.1 ],\n",
    "        [0.25, 0.75 , 0. , 0. ],\n",
    "        [0.4, 0. , 0.55 , 0.05],\n",
    "        [0.1 , 0 , 0.05, 0.85 ]])\n",
    "# adjacency_matrix = torch.tensor(WN)\n",
    "adjacency_matrix = torch.tensor(A)\n",
    "# Get the indices where the adjacency matrix has a non-zero value\n",
    "edge_index = torch.nonzero(adjacency_matrix, as_tuple=False).t()\n",
    "\n",
    "# If your adjacency matrix has edge weights, you can get them like this:\n",
    "edge_weight = adjacency_matrix[edge_index[0], edge_index[1]]"
   ]
  },
  {
   "cell_type": "code",
   "execution_count": 163,
   "id": "d006b004",
   "metadata": {},
   "outputs": [],
   "source": [
    "xx = np.zeros((4,62)) # number of nodes, the columns of attributes\n",
    "xx[:,1] = pop ## populations\n",
    "## col_2 is the new infections generated by the new infectors\n",
    "\n",
    "xx[0,2] = 10\n",
    "\n",
    "xx = torch.tensor(xx,dtype=torch.float)\n",
    "\n",
    "data = Data(x=xx, edge_index=edge_index, edge_attr=edge_weight)"
   ]
  },
  {
   "cell_type": "code",
   "execution_count": 164,
   "id": "a3e143ce",
   "metadata": {},
   "outputs": [
    {
     "name": "stdout",
     "output_type": "stream",
     "text": [
      "tensor([[10.],\n",
      "        [ 0.],\n",
      "        [ 0.],\n",
      "        [ 0.]])\n",
      "0 tensor([0.2500, 0.2500, 0.4000, 0.1000], dtype=torch.float64)\n",
      "0 tensor([0.2500, 0.2500, 0.4000, 0.1000], dtype=torch.float64)\n",
      "0 tensor([0.2500, 0.2500, 0.4000, 0.1000], dtype=torch.float64)\n",
      "0 tensor([0.2500, 0.2500, 0.4000, 0.1000], dtype=torch.float64)\n",
      "0 tensor([0.2500, 0.2500, 0.4000, 0.1000], dtype=torch.float64)\n",
      "0 tensor([0.2500, 0.2500, 0.4000, 0.1000], dtype=torch.float64)\n",
      "0 tensor([0.2500, 0.2500, 0.4000, 0.1000], dtype=torch.float64)\n",
      "0 tensor([0.2500, 0.2500, 0.4000, 0.1000], dtype=torch.float64)\n",
      "0 tensor([0.2500, 0.2500, 0.4000, 0.1000], dtype=torch.float64)\n",
      "0 tensor([0.2500, 0.2500, 0.4000, 0.1000], dtype=torch.float64)\n",
      "0 tensor([0.2500, 0.2500, 0.4000, 0.1000], dtype=torch.float64)\n",
      "0 tensor([0.2500, 0.2500, 0.4000, 0.1000], dtype=torch.float64)\n",
      "0 tensor([0.2500, 0.2500, 0.4000, 0.1000], dtype=torch.float64)\n",
      "0 tensor([0.2500, 0.2500, 0.4000, 0.1000], dtype=torch.float64)\n",
      "0 tensor([0.2500, 0.2500, 0.4000, 0.1000], dtype=torch.float64)\n",
      "0 tensor([0.2500, 0.2500, 0.4000, 0.1000], dtype=torch.float64)\n",
      "0 tensor([0.2500, 0.2500, 0.4000, 0.1000], dtype=torch.float64)\n",
      "0 tensor([0.2500, 0.2500, 0.4000, 0.1000], dtype=torch.float64)\n",
      "0 tensor([0.2500, 0.2500, 0.4000, 0.1000], dtype=torch.float64)\n",
      "0 tensor([0.2500, 0.2500, 0.4000, 0.1000], dtype=torch.float64)\n",
      "tensor([[0.],\n",
      "        [0.],\n",
      "        [0.],\n",
      "        [0.]], dtype=torch.float64)\n"
     ]
    }
   ],
   "source": [
    "NewInf_i, newcases = simulate_dynamics(data, R0=2.5, r=torch.tensor(2.0), num_steps=2)"
   ]
  },
  {
   "cell_type": "code",
   "execution_count": 154,
   "id": "43594d51",
   "metadata": {},
   "outputs": [
    {
     "data": {
      "text/plain": [
       "tensor([[   8., 1000.,   10.,    0.,    0.,    0.,    0.,    0.,    1.,    3.,\n",
       "            1.,    1.,    0.,    1.,    1.,    0.,    0.,    0.,    0.,    0.,\n",
       "            0.,    0.,    0.,    0.,    0.,    0.,    0.,    0.,    0.,    0.,\n",
       "            0.,    0.,    0.,    0.,    0.,    0.,    0.,    0.,    0.,    0.,\n",
       "            0.,    0.,    0.,    0.,    0.,    0.,    0.,    0.,    0.,    0.,\n",
       "            0.,    0.,    0.,    0.,    0.,    0.,    0.,    0.,    0.,    0.,\n",
       "            0.,    0.],\n",
       "        [   5., 1000.,    0.,    0.,    0.,    0.,    0.,    1.,    2.,    1.,\n",
       "            0.,    1.,    0.,    0.,    0.,    0.,    0.,    0.,    0.,    0.,\n",
       "            0.,    0.,    0.,    0.,    0.,    0.,    0.,    0.,    0.,    0.,\n",
       "            0.,    0.,    0.,    0.,    0.,    0.,    0.,    0.,    0.,    0.,\n",
       "            0.,    0.,    0.,    0.,    0.,    0.,    0.,    0.,    0.,    0.,\n",
       "            0.,    0.,    0.,    0.,    0.,    0.,    0.,    0.,    0.,    0.,\n",
       "            0.,    0.],\n",
       "        [   6., 1000.,    0.,    0.,    0.,    1.,    0.,    0.,    2.,    1.,\n",
       "            0.,    0.,    0.,    2.,    0.,    0.,    0.,    0.,    0.,    0.,\n",
       "            0.,    0.,    0.,    0.,    0.,    0.,    0.,    0.,    0.,    0.,\n",
       "            0.,    0.,    0.,    0.,    0.,    0.,    0.,    0.,    0.,    0.,\n",
       "            0.,    0.,    0.,    0.,    0.,    0.,    0.,    0.,    0.,    0.,\n",
       "            0.,    0.,    0.,    0.,    0.,    0.,    0.,    0.,    0.,    0.,\n",
       "            0.,    0.],\n",
       "        [   1., 1000.,    0.,    0.,    0.,    0.,    0.,    0.,    0.,    0.,\n",
       "            0.,    0.,    1.,    0.,    0.,    0.,    0.,    0.,    0.,    0.,\n",
       "            0.,    0.,    0.,    0.,    0.,    0.,    0.,    0.,    0.,    0.,\n",
       "            0.,    0.,    0.,    0.,    0.,    0.,    0.,    0.,    0.,    0.,\n",
       "            0.,    0.,    0.,    0.,    0.,    0.,    0.,    0.,    0.,    0.,\n",
       "            0.,    0.,    0.,    0.,    0.,    0.,    0.,    0.,    0.,    0.,\n",
       "            0.,    0.]], dtype=torch.float64)"
      ]
     },
     "execution_count": 154,
     "metadata": {},
     "output_type": "execute_result"
    }
   ],
   "source": [
    "NewInf_i"
   ]
  },
  {
   "cell_type": "code",
   "execution_count": null,
   "id": "347448d5",
   "metadata": {},
   "outputs": [],
   "source": []
  }
 ],
 "metadata": {
  "kernelspec": {
   "display_name": "gnn",
   "language": "python",
   "name": "gnn"
  },
  "language_info": {
   "codemirror_mode": {
    "name": "ipython",
    "version": 3
   },
   "file_extension": ".py",
   "mimetype": "text/x-python",
   "name": "python",
   "nbconvert_exporter": "python",
   "pygments_lexer": "ipython3",
   "version": "3.11.4"
  }
 },
 "nbformat": 4,
 "nbformat_minor": 5
}
