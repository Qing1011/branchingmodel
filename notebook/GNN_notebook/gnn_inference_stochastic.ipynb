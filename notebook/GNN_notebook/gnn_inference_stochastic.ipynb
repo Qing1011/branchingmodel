{
 "cells": [
  {
   "cell_type": "code",
   "execution_count": 2,
   "id": "288bac80",
   "metadata": {},
   "outputs": [],
   "source": [
    "import torch\n",
    "import pyro\n",
    "from pyro.distributions import Poisson\n",
    "\n",
    "# Simulate some data\n",
    "true_lambda = 4.0  # our true rate parameter\n",
    "num_data_points = 1000\n",
    "data = Poisson(true_lambda).sample((num_data_points,))\n"
   ]
  },
  {
   "cell_type": "code",
   "execution_count": 3,
   "id": "8276248a",
   "metadata": {},
   "outputs": [],
   "source": [
    "def model(data):\n",
    "    # Prior for lambda. It's generally a good idea to be as uninformative as possible here.\n",
    "    lambda_ = pyro.sample(\"lambda\", pyro.distributions.Uniform(0, 20))\n",
    "    \n",
    "    # Likelihood\n",
    "    with pyro.plate(\"data_plate\", len(data)):\n",
    "        pyro.sample(\"obs\", Poisson(lambda_), obs=data)\n"
   ]
  },
  {
   "cell_type": "code",
   "execution_count": 4,
   "id": "c9fceecb",
   "metadata": {},
   "outputs": [],
   "source": [
    "from pyro.distributions import Normal, constraints\n",
    "\n",
    "def guide(data):\n",
    "    # Variational parameters\n",
    "    lambda_loc = pyro.param(\"lambda_loc\", torch.tensor(5.0))\n",
    "    lambda_scale = pyro.param(\"lambda_scale\", torch.tensor(1.0), constraint=constraints.positive)\n",
    "\n",
    "    # Sample lambda\n",
    "    pyro.sample(\"lambda\", Normal(lambda_loc, lambda_scale))\n"
   ]
  },
  {
   "cell_type": "code",
   "execution_count": 6,
   "id": "d52479d7",
   "metadata": {},
   "outputs": [
    {
     "name": "stdout",
     "output_type": "stream",
     "text": [
      "Step: 0 Loss: 2070.1157799959183\n",
      "Step: 10 Loss: 2070.329275727272\n",
      "Step: 20 Loss: 2070.175395131111\n",
      "Step: 30 Loss: 2070.2215341329575\n",
      "Step: 40 Loss: 2070.892024874687\n",
      "Step: 50 Loss: 2070.1660608053207\n",
      "Step: 60 Loss: 2070.2414783239365\n",
      "Step: 70 Loss: 2070.113800883293\n",
      "Step: 80 Loss: 2070.2034524679184\n",
      "Step: 90 Loss: 2070.557561278343\n",
      "Inferred lambda: 4.019288539886475\n"
     ]
    }
   ],
   "source": [
    "from pyro.infer import SVI, Trace_ELBO\n",
    "from pyro.optim import Adam\n",
    "\n",
    "# Optimizer\n",
    "optimizer = Adam({\"lr\": 0.01})\n",
    "\n",
    "# SVI object\n",
    "svi = SVI(model, guide, optimizer, loss=Trace_ELBO())\n",
    "\n",
    "# Training loop\n",
    "num_steps = 100\n",
    "for step in range(num_steps):\n",
    "    loss = svi.step(data)\n",
    "    if step % 10 == 0:\n",
    "        print(\"Step: {} Loss: {}\".format(step, loss))\n",
    "\n",
    "# Get inferred lambda\n",
    "inferred_lambda = pyro.param(\"lambda_loc\").item()\n",
    "print(f\"Inferred lambda: {inferred_lambda}\")\n"
   ]
  },
  {
   "cell_type": "code",
   "execution_count": 7,
   "id": "df9c6bce",
   "metadata": {},
   "outputs": [
    {
     "name": "stdout",
     "output_type": "stream",
     "text": [
      "....................\n",
      "Based on the data and our prior belief, the fairness of the coin is 0.538 +- 0.090\n"
     ]
    }
   ],
   "source": [
    "import math\n",
    "import os\n",
    "import torch\n",
    "import torch.distributions.constraints as constraints\n",
    "import pyro\n",
    "from pyro.optim import Adam\n",
    "from pyro.infer import SVI, Trace_ELBO\n",
    "import pyro.distributions as dist\n",
    "\n",
    "# this is for running the notebook in our testing framework\n",
    "smoke_test = ('CI' in os.environ)\n",
    "n_steps = 2 if smoke_test else 2000\n",
    "\n",
    "assert pyro.__version__.startswith('1.8.6')\n",
    "\n",
    "# clear the param store in case we're in a REPL\n",
    "pyro.clear_param_store()\n",
    "\n",
    "# create some data with 6 observed heads and 4 observed tails\n",
    "data = []\n",
    "for _ in range(6):\n",
    "    data.append(torch.tensor(1.0))\n",
    "for _ in range(4):\n",
    "    data.append(torch.tensor(0.0))\n",
    "\n",
    "def model(data):\n",
    "    # define the hyperparameters that control the Beta prior\n",
    "    alpha0 = torch.tensor(10.0)\n",
    "    beta0 = torch.tensor(10.0)\n",
    "    # sample f from the Beta prior\n",
    "    f = pyro.sample(\"latent_fairness\", dist.Beta(alpha0, beta0))\n",
    "    # loop over the observed data\n",
    "    for i in range(len(data)):\n",
    "        # observe datapoint i using the ernoulli likelihood\n",
    "        pyro.sample(\"obs_{}\".format(i), dist.Bernoulli(f), obs=data[i])\n",
    "\n",
    "def guide(data):\n",
    "    # register the two variational parameters with Pyro\n",
    "    # - both parameters will have initial value 15.0. \n",
    "    # - because we invoke constraints.positive, the optimizer \n",
    "    # will take gradients on the unconstrained parameters\n",
    "    # (which are related to the constrained parameters by a log)\n",
    "    alpha_q = pyro.param(\"alpha_q\", torch.tensor(15.0), \n",
    "                         constraint=constraints.positive)\n",
    "    beta_q = pyro.param(\"beta_q\", torch.tensor(15.0), \n",
    "                        constraint=constraints.positive)\n",
    "    # sample latent_fairness from the distribution Beta(alpha_q, beta_q)\n",
    "    pyro.sample(\"latent_fairness\", dist.Beta(alpha_q, beta_q))\n",
    "\n",
    "# setup the optimizer\n",
    "adam_params = {\"lr\": 0.0005, \"betas\": (0.90, 0.999)}\n",
    "optimizer = Adam(adam_params)\n",
    "\n",
    "# setup the inference algorithm\n",
    "svi = SVI(model, guide, optimizer, loss=Trace_ELBO())\n",
    "\n",
    "# do gradient steps\n",
    "for step in range(n_steps):\n",
    "    svi.step(data)\n",
    "    if step % 100 == 0:\n",
    "        print('.', end='')\n",
    "\n",
    "# grab the learned variational parameters\n",
    "alpha_q = pyro.param(\"alpha_q\").item()\n",
    "beta_q = pyro.param(\"beta_q\").item()\n",
    "\n",
    "# here we use some facts about the Beta distribution\n",
    "# compute the inferred mean of the coin's fairness\n",
    "inferred_mean = alpha_q / (alpha_q + beta_q)\n",
    "# compute inferred standard deviation\n",
    "factor = beta_q / (alpha_q * (1.0 + alpha_q + beta_q))\n",
    "inferred_std = inferred_mean * math.sqrt(factor)\n",
    "\n",
    "print(\"\\nBased on the data and our prior belief, the fairness \" +\n",
    "      \"of the coin is %.3f +- %.3f\" % (inferred_mean, inferred_std))"
   ]
  },
  {
   "cell_type": "code",
   "execution_count": null,
   "id": "594dc6f4",
   "metadata": {},
   "outputs": [],
   "source": []
  }
 ],
 "metadata": {
  "kernelspec": {
   "display_name": "gnn",
   "language": "python",
   "name": "gnn"
  },
  "language_info": {
   "codemirror_mode": {
    "name": "ipython",
    "version": 3
   },
   "file_extension": ".py",
   "mimetype": "text/x-python",
   "name": "python",
   "nbconvert_exporter": "python",
   "pygments_lexer": "ipython3",
   "version": "3.11.4"
  }
 },
 "nbformat": 4,
 "nbformat_minor": 5
}
