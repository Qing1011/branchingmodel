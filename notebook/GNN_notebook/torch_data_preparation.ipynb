{
 "cells": [
  {
   "cell_type": "code",
   "execution_count": 1,
   "id": "985f3638",
   "metadata": {},
   "outputs": [],
   "source": [
    "from torch_geometric.data import Data, InMemoryDataset\n",
    "import numpy as np\n",
    "import networkx as nx\n",
    "from torch_geometric.nn import MessagePassing\n",
    "from torch_geometric.utils import add_self_loops, degree\n",
    "import matplotlib.pyplot as plt\n",
    "import scipy.special as SS\n",
    "import scipy.stats as SSA\n",
    "import pandas as pd\n",
    "import copy"
   ]
  },
  {
   "cell_type": "code",
   "execution_count": 2,
   "id": "e7ebb847",
   "metadata": {},
   "outputs": [],
   "source": [
    "R0_ts = pd.read_csv('../df_EpiEstim_R_median.csv',index_col='Date')\n",
    "R0_ts.fillna(0, inplace=True)\n",
    "pop_sorted = np.loadtxt('../pop_sorted.csv')\n",
    "N = pop_sorted.shape[0]\n",
    "file_path = '/Users/qingyao/Documents/branching_data/real_data/' ##M_202003_10.csv"
   ]
  },
  {
   "cell_type": "code",
   "execution_count": 3,
   "id": "3ad55220",
   "metadata": {},
   "outputs": [],
   "source": [
    "## load all the mobility matrix"
   ]
  },
  {
   "cell_type": "code",
   "execution_count": 4,
   "id": "d616006e",
   "metadata": {},
   "outputs": [],
   "source": [
    "T = 60"
   ]
  },
  {
   "cell_type": "code",
   "execution_count": 5,
   "id": "4831fc30",
   "metadata": {},
   "outputs": [],
   "source": [
    "### parameter parts ###\n",
    "r = 0.1\n",
    "P_ts = pd.DataFrame()\n",
    "P_ts.index = R0_ts.index\n",
    "df_to_add = R0_ts[R0_ts.columns.values].apply(lambda x: r/(x+r))\n",
    "P_ts = pd.concat([P_ts, df_to_add], axis=1)\n",
    "P_ts_s = P_ts.iloc[22:100,:]\n",
    "P_ts_s = P_ts_s.reset_index().rename(columns={'index': 'Date'})"
   ]
  },
  {
   "cell_type": "code",
   "execution_count": 6,
   "id": "6033b7f7",
   "metadata": {},
   "outputs": [],
   "source": [
    "dates_list = pd.date_range('2020-02-21',periods=T).strftime('%Y-%m-%d').values "
   ]
  },
  {
   "cell_type": "code",
   "execution_count": null,
   "id": "3f92fca5",
   "metadata": {},
   "outputs": [],
   "source": [
    "### if i set the threshold to 100!"
   ]
  },
  {
   "cell_type": "code",
   "execution_count": null,
   "id": "6cbe4b6b",
   "metadata": {},
   "outputs": [],
   "source": [
    "M_peop = np.zeros((T,N,N))\n",
    "for ti in range(T):\n",
    "    print('the current simulating time', ti)\n",
    "#     p_ti = P_ts.iloc[ti].values[1:]\n",
    "#     date_parts = P_ts_s.iloc[ti]['Date'].split('-')\n",
    "    date_parts = dates_list[ti].split('-')\n",
    "    y, m, d = date_parts\n",
    "#         WN = np.load(file_path+'M_{}{}_{}.csv')\n",
    "    ################# Mobility#######################\n",
    "    M_test = np.loadtxt(\n",
    "        file_path+'M_{}{}_{}.csv'.format(y, m, d), delimiter=',')\n",
    "    M_peop[ti,:,:] = M_test"
   ]
  },
  {
   "cell_type": "code",
   "execution_count": null,
   "id": "0504553d",
   "metadata": {},
   "outputs": [],
   "source": [
    "WN = np.zeros((T,N,N))\n",
    "for ti in range(T):\n",
    "    M_test = M_peop[ti] \n",
    "    th = 10\n",
    "#     for i in range(N):\n",
    "#         M_i = M_test[:,i] \n",
    "#         M_test[M_i < th,i] = 0 ## travel out <100 then set all the travelling to zero\n",
    "#     M_pop = M_test/pop_sorted[None, :]\n",
    "#     # if there is no one go out from one site\n",
    "#     temp = np.sum(M_pop, axis=0)\n",
    "#     if np.sum(temp == 0) == 0:\n",
    "#         M_pop_norm = M_pop/temp[None, :]\n",
    "#     else:\n",
    "#         #             print('there is no one go out from one site')\n",
    "#         mask = temp == 0\n",
    "#         temp[mask] = 1\n",
    "#         M_pop_norm = M_pop/temp[None, :]\n",
    "#         M_pop_norm[:, mask] = 0\n",
    "#         M_pop_norm[mask, mask] = 1\n",
    "# #         WN_small = M_pop_norm[:100,:100]\n",
    "#     WN[ti,:,:] = M_pop_norm  # WN_small/np.sum(WN_small,axis=0)[None,:]"
   ]
  },
  {
   "cell_type": "markdown",
   "id": "bfb5e858",
   "metadata": {},
   "source": [
    "### x should be today's infected\n",
    "### y should be tomorrow's infected"
   ]
  },
  {
   "cell_type": "code",
   "execution_count": 9,
   "id": "e1e9510c",
   "metadata": {},
   "outputs": [],
   "source": [
    "real_data_path = '/Users/qingyao/OneDrive - cumc.columbia.edu/machine_learning_data/'\n",
    "cases = pd.read_csv(real_data_path + 'county_data/ts_covid19_confirmed_US_mainland.csv')\n",
    "cases_sorted = cases.sort_values(by='UID').reset_index(drop=True)"
   ]
  },
  {
   "cell_type": "code",
   "execution_count": 10,
   "id": "1b4b62ac",
   "metadata": {},
   "outputs": [],
   "source": [
    "dates_col = cases.columns[40:12+344] ## starting with 2020-02-21\n",
    "formatted_dates = [pd.to_datetime(date).strftime('%Y-%m-%d') for date in dates_col]\n",
    "s_cases = pd.DataFrame(index=range(3108), columns = formatted_dates[1:])\n",
    "daily_cases = np.diff(np.array(cases_sorted[dates_col]),axis=1)\n",
    "daily_cases[daily_cases<0] = 0\n",
    "s_cases.iloc[:,:] = daily_cases "
   ]
  },
  {
   "cell_type": "code",
   "execution_count": 3,
   "id": "a93f4eb7",
   "metadata": {},
   "outputs": [],
   "source": [
    "### do it for everyday"
   ]
  },
  {
   "cell_type": "code",
   "execution_count": 15,
   "id": "5f77e1f8",
   "metadata": {},
   "outputs": [
    {
     "name": "stdout",
     "output_type": "stream",
     "text": [
      "t: 0\n",
      "number_neighbours: 1328\n",
      "t: 1\n",
      "number_neighbours: 1327\n",
      "t: 2\n",
      "number_neighbours: 1325\n",
      "t: 3\n",
      "number_neighbours: 1282\n",
      "t: 4\n",
      "number_neighbours: 1282\n",
      "t: 5\n",
      "number_neighbours: 1279\n",
      "t: 6\n",
      "number_neighbours: 1281\n",
      "t: 7\n",
      "number_neighbours: 1282\n",
      "t: 8\n",
      "number_neighbours: 1279\n",
      "t: 9\n",
      "number_neighbours: 1277\n",
      "t: 10\n",
      "number_neighbours: 1480\n",
      "t: 11\n",
      "number_neighbours: 1482\n",
      "t: 12\n",
      "number_neighbours: 1481\n",
      "t: 13\n",
      "number_neighbours: 1484\n",
      "t: 14\n",
      "number_neighbours: 1483\n",
      "t: 15\n",
      "number_neighbours: 1483\n",
      "t: 16\n",
      "number_neighbours: 1476\n",
      "t: 17\n",
      "number_neighbours: 1343\n",
      "t: 18\n",
      "number_neighbours: 1344\n",
      "t: 19\n",
      "number_neighbours: 1342\n",
      "t: 20\n",
      "number_neighbours: 1341\n",
      "t: 21\n",
      "number_neighbours: 1341\n",
      "t: 22\n",
      "number_neighbours: 1339\n",
      "t: 23\n",
      "number_neighbours: 1339\n",
      "t: 24\n",
      "number_neighbours: 871\n",
      "t: 25\n",
      "number_neighbours: 871\n",
      "t: 26\n",
      "number_neighbours: 867\n",
      "t: 27\n",
      "number_neighbours: 866\n",
      "t: 28\n",
      "number_neighbours: 862\n",
      "t: 29\n",
      "number_neighbours: 856\n",
      "t: 30\n",
      "number_neighbours: 852\n",
      "t: 31\n",
      "number_neighbours: 738\n",
      "t: 32\n",
      "number_neighbours: 735\n",
      "t: 33\n",
      "number_neighbours: 739\n",
      "t: 34\n",
      "number_neighbours: 735\n",
      "t: 35\n",
      "number_neighbours: 743\n",
      "t: 36\n",
      "number_neighbours: 730\n",
      "t: 37\n",
      "number_neighbours: 724\n",
      "t: 38\n",
      "number_neighbours: 727\n",
      "t: 39\n",
      "number_neighbours: 723\n",
      "t: 40\n",
      "number_neighbours: 724\n",
      "t: 41\n",
      "number_neighbours: 728\n",
      "t: 42\n",
      "number_neighbours: 725\n",
      "t: 43\n",
      "number_neighbours: 725\n",
      "t: 44\n",
      "number_neighbours: 718\n",
      "t: 45\n",
      "number_neighbours: 701\n",
      "t: 46\n",
      "number_neighbours: 704\n",
      "t: 47\n",
      "number_neighbours: 704\n",
      "t: 48\n",
      "number_neighbours: 696\n",
      "t: 49\n",
      "number_neighbours: 706\n",
      "t: 50\n",
      "number_neighbours: 697\n",
      "t: 51\n",
      "number_neighbours: 685\n",
      "t: 52\n",
      "number_neighbours: 712\n",
      "t: 53\n",
      "number_neighbours: 722\n",
      "t: 54\n",
      "number_neighbours: 726\n",
      "t: 55\n",
      "number_neighbours: 723\n",
      "t: 56\n",
      "number_neighbours: 722\n",
      "t: 57\n",
      "number_neighbours: 715\n",
      "t: 58\n",
      "number_neighbours: 720\n"
     ]
    }
   ],
   "source": [
    "neigh_list = []\n",
    "neighbours_len_list = []\n",
    "for t in range(T-1):   \n",
    "    print('t:', t)\n",
    "    A = M_peop[t]\n",
    "    ## only the neighbours of NYC\n",
    "    g_m = nx.from_numpy_array(A)\n",
    "    g_m.remove_edges_from(nx.selfloop_edges(g_m))\n",
    "    neighbours = list(g_m.neighbors(1824))\n",
    "    print('number_neighbours:', len(neighbours))\n",
    "    neighbours_len_list.append(len(neighbours))\n",
    "    neigh_list.extend(neighbours)"
   ]
  },
  {
   "cell_type": "code",
   "execution_count": 21,
   "id": "00ea61f1",
   "metadata": {},
   "outputs": [
    {
     "data": {
      "text/plain": [
       "Text(0.5, 0, 'T')"
      ]
     },
     "execution_count": 21,
     "metadata": {},
     "output_type": "execute_result"
    },
    {
     "data": {
      "image/png": "[encoded data removed]",
      "text/plain": [
       "<Figure size 640x480 with 1 Axes>"
      ]
     },
     "metadata": {},
     "output_type": "display_data"
    }
   ],
   "source": [
    "plt.plot(range(59),neighbours_len_list)\n",
    "plt.title('the number of neighbours for NYC decreasing with time')\n",
    "plt.xlabel('T')"
   ]
  },
  {
   "cell_type": "code",
   "execution_count": 16,
   "id": "2e179b82",
   "metadata": {},
   "outputs": [],
   "source": [
    "n_all_time = list(set(neigh_list))\n",
    "n_all_time.sort()"
   ]
  },
  {
   "cell_type": "code",
   "execution_count": 17,
   "id": "92a2c90d",
   "metadata": {},
   "outputs": [
    {
     "data": {
      "text/plain": [
       "2138"
      ]
     },
     "execution_count": 17,
     "metadata": {},
     "output_type": "execute_result"
    }
   ],
   "source": [
    "len(n_all_time)"
   ]
  },
  {
   "cell_type": "code",
   "execution_count": 46,
   "id": "b536f629",
   "metadata": {},
   "outputs": [],
   "source": [
    "data_list = []\n",
    "for t in range(T-1):\n",
    "    col_date_x = dates_list[t]\n",
    "    col_date_y = dates_list[t+1]\n",
    "    x = s_cases.iloc[n_all_time][col_date_x].astype(float).values\n",
    "    y = s_cases.iloc[n_all_time][col_date_y].astype(float).values\n",
    "    A = WN[t]\n",
    "    G = nx.from_numpy_array(A)\n",
    "    G_sub = G.subgraph(n_all_time)\n",
    "    A_sub = nx.adjacency_matrix(G_sub).toarray()\n",
    "    adjacency_matrix = torch.tensor(A_sub)\n",
    "    edge_index = torch.nonzero(adjacency_matrix, as_tuple=False).t()\n",
    "    edge_weight = adjacency_matrix[edge_index[0], edge_index[1]]\n",
    "    data_i = Data(x=torch.tensor(x), edge_index=edge_index, edge_attr=edge_weight, y = torch.tensor(y))\n",
    "    data_list.append(data_i)"
   ]
  },
  {
   "cell_type": "code",
   "execution_count": 49,
   "id": "ba7ff222",
   "metadata": {},
   "outputs": [],
   "source": [
    "mydataset = dataset.collate(data_list)"
   ]
  },
  {
   "cell_type": "code",
   "execution_count": null,
   "id": "5517981a",
   "metadata": {},
   "outputs": [],
   "source": []
  }
 ],
 "metadata": {
  "kernelspec": {
   "display_name": "gnn",
   "language": "python",
   "name": "gnn"
  },
  "language_info": {
   "codemirror_mode": {
    "name": "ipython",
    "version": 3
   },
   "file_extension": ".py",
   "mimetype": "text/x-python",
   "name": "python",
   "nbconvert_exporter": "python",
   "pygments_lexer": "ipython3",
   "version": "3.11.4"
  }
 },
 "nbformat": 4,
 "nbformat_minor": 5
}
