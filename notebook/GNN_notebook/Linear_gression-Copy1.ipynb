{
 "cells": [
  {
   "cell_type": "code",
   "execution_count": 1,
   "id": "045a21f9",
   "metadata": {},
   "outputs": [],
   "source": [
    "import torch\n",
    "from torch.nn import Linear\n",
    "from torch_geometric.nn import GCNConv, NNConv, global_mean_pool, TopKPooling\n",
    "from torch_geometric.nn.glob import GlobalAttention\n",
    "from torch_geometric.data import Data,DataLoader\n",
    "# from torch.utils.data import DataLoader, TensorDataset\n",
    "# from torch_geometric.loader import DataLoader\n",
    "import torch.nn.functional as F\n",
    "from torch_geometric.utils.convert import from_scipy_sparse_matrix\n",
    "from torch_geometric.utils.convert import from_networkx\n",
    "from torch_geometric.nn import GCNConv, global_mean_pool, BatchNorm\n",
    "from torch_geometric.data import DataLoader\n",
    "from torch.optim.lr_scheduler import StepLR\n",
    "import random\n",
    "import numpy as np\n",
    "import matplotlib.pyplot as plt\n",
    "from scipy.io import loadmat, savemat\n",
    "import pandas as pd\n",
    "import scipy.special as SS\n",
    "import scipy.stats as SSA\n",
    "import copy\n",
    "import math\n",
    "from sklearn.model_selection import ParameterGrid\n",
    "import os\n",
    "import numpy.linalg as LA\n",
    "import gzip\n",
    "from torch_geometric.utils import add_self_loops\n",
    "\n",
    "from scipy import sparse\n",
    "\n",
    "# load pickle module\n",
    "import pickle\n",
    "import networkx as nx\n",
    "import torch.nn as nn\n",
    "\n",
    "from tqdm import tqdm "
   ]
  },
  {
   "cell_type": "code",
   "execution_count": 2,
   "id": "d594d72c",
   "metadata": {},
   "outputs": [],
   "source": [
    "R0 = 2.5\n",
    "rs = np.array([20, 10, 2.0, 1.0, 0.5, 0.2, 0.1, 0.05, 0.025, 5.   ,  2.5  , 13.333,  3.333,  1.333,  0.667,  0.286,  0.133,\n",
    "        0.067,  0.033])"
   ]
  },
  {
   "cell_type": "code",
   "execution_count": 3,
   "id": "7f87e89f",
   "metadata": {},
   "outputs": [],
   "source": [
    "rs.sort()"
   ]
  },
  {
   "cell_type": "code",
   "execution_count": 5,
   "id": "6409e12a",
   "metadata": {},
   "outputs": [
    {
     "data": {
      "text/plain": [
       "<matplotlib.collections.PathCollection at 0x294a72ed0>"
      ]
     },
     "execution_count": 5,
     "metadata": {},
     "output_type": "execute_result"
    },
    {
     "data": {
      "image/png": "[encoded data removed]",
      "text/plain": [
       "<Figure size 640x480 with 1 Axes>"
      ]
     },
     "metadata": {},
     "output_type": "display_data"
    }
   ],
   "source": [
    "plt.scatter(range(19),rs)"
   ]
  },
  {
   "cell_type": "code",
   "execution_count": 6,
   "id": "d56b6878",
   "metadata": {},
   "outputs": [],
   "source": [
    "WN = np.loadtxt('../W_avg.csv') ### numpy arrary\n",
    "WN2 = np.dot(WN, WN)\n",
    "# prob = WN[:,1858]\n",
    "prob = WN2[:,1858]\n",
    "prob_2d = prob.reshape(-1,1)"
   ]
  },
  {
   "cell_type": "code",
   "execution_count": 7,
   "id": "e3fbbe1d",
   "metadata": {},
   "outputs": [],
   "source": [
    "g_s = nx.from_numpy_array(WN)\n",
    "edges = np.array(g_s.edges()).transpose()\n",
    "edge_index = torch.tensor(edges,dtype = torch.int64)\n",
    "# edge_weight = torch.tensor(WN[edge_index[0], edge_index[1]], dtype=torch.float)\n",
    "edge_weights = []\n",
    "for (u, v) in g_s.edges():\n",
    "    edge_weights.append([g_s[u][v]['weight']])\n",
    "edge_weights = torch.tensor(edge_weights, dtype=torch.float32)"
   ]
  },
  {
   "cell_type": "code",
   "execution_count": 8,
   "id": "6dc84482",
   "metadata": {},
   "outputs": [],
   "source": [
    "def load_gzipped_numpy(filename):\n",
    "    try:\n",
    "        with gzip.open(filename, 'rb') as f:\n",
    "            return np.load(f, allow_pickle=True)\n",
    "    except FileNotFoundError:\n",
    "        return [0]"
   ]
  },
  {
   "cell_type": "code",
   "execution_count": 13,
   "id": "6a0087b0",
   "metadata": {},
   "outputs": [
    {
     "name": "stdout",
     "output_type": "stream",
     "text": [
      "0.025 3\n",
      "0.033 3\n",
      "0.05 3\n",
      "0.067 3\n",
      "0.1 2\n",
      "0.133 2\n",
      "0.2 2\n",
      "0.286 2\n",
      "0.5 1\n",
      "0.667 1\n",
      "1.0 1\n",
      "1.333 1\n",
      "2.0 1\n",
      "2.5 1\n",
      "3.333 1\n",
      "5.0 0\n",
      "10.0 0\n",
      "13.333 0\n",
      "20.0 0\n"
     ]
    }
   ],
   "source": [
    "export_dir = '/Users/qingyao/Documents/branching_data/simulation/python_cutoff_addno/'\n",
    "#### data preparation\n",
    "dataset = []\n",
    "\n",
    "for r_idx in range(19):\n",
    "    r = rs[r_idx]\n",
    "    sub_export_dir = export_dir+'branching_R0-{}_r-{}/'.format(np.round(R0,2),np.round(r,3))\n",
    "    r_c = r_class[r]\n",
    "    print(r, r_c)\n",
    "    # Create a list to hold our Data objects\n",
    "    for g_idx in range(300):\n",
    "        export_names = sub_export_dir+'NewInf_R0-{}_r-{}_{}.npy.gz'.format(np.round(R0,2),np.round(r,3),(g_idx+1))\n",
    "        g_i = load_gzipped_numpy(export_names)\n",
    "#         g_i_new = np.hstack((g_i[:,10:], prob_2d))\n",
    "        g_i_new = g_i[:,10:] * prob_2d\n",
    "        \n",
    "        matrix = torch.from_numpy(g_i_new)\n",
    "        \n",
    "#         y = torch.log(torch.tensor([[r]], dtype=torch.float))\n",
    "        y = torch.tensor([[r]], dtype=torch.float)\n",
    "        # Create a Data object for each graph\n",
    "        data = Data(x=matrix, edge_index=edge_index, edge_attr=edge_weights,y=y)\n",
    "        data.x = data.x.float()\n",
    "#         data.y = data.y.long()\n",
    "        # Add the Data object to our list\n",
    "        dataset.append(data)"
   ]
  },
  {
   "cell_type": "code",
   "execution_count": 14,
   "id": "2103d513",
   "metadata": {},
   "outputs": [
    {
     "data": {
      "text/plain": [
       "5700"
      ]
     },
     "execution_count": 14,
     "metadata": {},
     "output_type": "execute_result"
    }
   ],
   "source": [
    "len(dataset)"
   ]
  },
  {
   "cell_type": "code",
   "execution_count": 15,
   "id": "b3079dd1",
   "metadata": {},
   "outputs": [],
   "source": [
    "from torch.utils.data import random_split\n",
    "train_data, test_data = random_split(dataset, [int(5700*0.8), int(5700*0.2)])"
   ]
  },
  {
   "cell_type": "code",
   "execution_count": 82,
   "id": "b78872f6",
   "metadata": {},
   "outputs": [],
   "source": [
    "def weighted_mse_loss(input, target, weight):\n",
    "    # Calculate MSE loss for each sample\n",
    "    individual_losses = F.mse_loss(input, target, reduction='none')\n",
    "    \n",
    "    # Apply weights\n",
    "    weighted_losses = individual_losses * weight\n",
    "    \n",
    "    # Average over all samples\n",
    "    loss = weighted_losses.mean()\n",
    "    return loss"
   ]
  },
  {
   "cell_type": "code",
   "execution_count": 86,
   "id": "02660279",
   "metadata": {},
   "outputs": [],
   "source": [
    "def calculate_weights(targets, threshold):\n",
    "    # Assign a higher weight to targets above a certain threshold\n",
    "    weights = torch.ones_like(targets)\n",
    "    weights[targets > threshold] = 2  # e.g., 2, 3, 5, etc.\n",
    "    return weights"
   ]
  },
  {
   "cell_type": "code",
   "execution_count": 16,
   "id": "41143989",
   "metadata": {},
   "outputs": [
    {
     "name": "stderr",
     "output_type": "stream",
     "text": [
      "/Users/qingyao/anaconda3/envs/gnn/lib/python3.11/site-packages/torch_geometric/deprecation.py:22: UserWarning: 'data.DataLoader' is deprecated, use 'loader.DataLoader' instead\n",
      "  warnings.warn(out)\n",
      "Epoch: 001, Loss: 29.7212:   1%|              | 1/150 [00:36<1:30:29, 36.44s/it]"
     ]
    },
    {
     "name": "stdout",
     "output_type": "stream",
     "text": [
      "Epoch: 001, Loss: 29.72117\n"
     ]
    },
    {
     "name": "stderr",
     "output_type": "stream",
     "text": [
      "Epoch: 002, Loss: 28.2056:   1%|▏             | 2/150 [01:12<1:28:51, 36.02s/it]"
     ]
    },
    {
     "name": "stdout",
     "output_type": "stream",
     "text": [
      "Epoch: 002, Loss: 28.20556\n"
     ]
    },
    {
     "name": "stderr",
     "output_type": "stream",
     "text": [
      "Epoch: 003, Loss: 28.1987:   2%|▎             | 3/150 [01:48<1:28:09, 35.98s/it]"
     ]
    },
    {
     "name": "stdout",
     "output_type": "stream",
     "text": [
      "Epoch: 003, Loss: 28.19875\n"
     ]
    },
    {
     "name": "stderr",
     "output_type": "stream",
     "text": [
      "Epoch: 004, Loss: 25.0120:   3%|▎             | 4/150 [02:24<1:27:35, 36.00s/it]"
     ]
    },
    {
     "name": "stdout",
     "output_type": "stream",
     "text": [
      "Epoch: 004, Loss: 25.01202\n"
     ]
    },
    {
     "name": "stderr",
     "output_type": "stream",
     "text": [
      "Epoch: 005, Loss: 22.3049:   3%|▍             | 5/150 [03:00<1:27:01, 36.01s/it]"
     ]
    },
    {
     "name": "stdout",
     "output_type": "stream",
     "text": [
      "Epoch: 005, Loss: 22.30491\n"
     ]
    },
    {
     "name": "stderr",
     "output_type": "stream",
     "text": [
      "Epoch: 006, Loss: 23.5138:   4%|▌             | 6/150 [03:36<1:26:44, 36.14s/it]"
     ]
    },
    {
     "name": "stdout",
     "output_type": "stream",
     "text": [
      "Epoch: 006, Loss: 23.51381\n"
     ]
    },
    {
     "name": "stderr",
     "output_type": "stream",
     "text": [
      "Epoch: 007, Loss: 22.7783:   5%|▋             | 7/150 [04:12<1:26:19, 36.22s/it]"
     ]
    },
    {
     "name": "stdout",
     "output_type": "stream",
     "text": [
      "Epoch: 007, Loss: 22.77834\n"
     ]
    },
    {
     "name": "stderr",
     "output_type": "stream",
     "text": [
      "Epoch: 008, Loss: 20.3408:   5%|▋             | 8/150 [04:49<1:25:48, 36.26s/it]"
     ]
    },
    {
     "name": "stdout",
     "output_type": "stream",
     "text": [
      "Epoch: 008, Loss: 20.34081\n"
     ]
    },
    {
     "name": "stderr",
     "output_type": "stream",
     "text": [
      "Epoch: 009, Loss: 18.9422:   6%|▊             | 9/150 [05:25<1:25:23, 36.34s/it]"
     ]
    },
    {
     "name": "stdout",
     "output_type": "stream",
     "text": [
      "Epoch: 009, Loss: 18.94221\n"
     ]
    },
    {
     "name": "stderr",
     "output_type": "stream",
     "text": [
      "Epoch: 010, Loss: 20.2794:   7%|▊            | 10/150 [06:02<1:24:57, 36.41s/it]"
     ]
    },
    {
     "name": "stdout",
     "output_type": "stream",
     "text": [
      "Epoch: 010, Loss: 20.27943\n"
     ]
    },
    {
     "name": "stderr",
     "output_type": "stream",
     "text": [
      "Epoch: 011, Loss: 20.0851:   7%|▉            | 11/150 [06:40<1:25:24, 36.87s/it]"
     ]
    },
    {
     "name": "stdout",
     "output_type": "stream",
     "text": [
      "Epoch: 011, Loss: 20.08513\n"
     ]
    },
    {
     "name": "stderr",
     "output_type": "stream",
     "text": [
      "Epoch: 012, Loss: 22.8779:   8%|█            | 12/150 [07:26<1:31:11, 39.65s/it]"
     ]
    },
    {
     "name": "stdout",
     "output_type": "stream",
     "text": [
      "Epoch: 012, Loss: 22.87786\n"
     ]
    },
    {
     "name": "stderr",
     "output_type": "stream",
     "text": [
      "Epoch: 013, Loss: 21.5656:   9%|█▏           | 13/150 [08:10<1:33:52, 41.11s/it]"
     ]
    },
    {
     "name": "stdout",
     "output_type": "stream",
     "text": [
      "Epoch: 013, Loss: 21.56556\n"
     ]
    },
    {
     "name": "stderr",
     "output_type": "stream",
     "text": [
      "Epoch: 014, Loss: 18.5226:   9%|█▏           | 14/150 [08:56<1:36:19, 42.49s/it]"
     ]
    },
    {
     "name": "stdout",
     "output_type": "stream",
     "text": [
      "Epoch: 014, Loss: 18.52257\n"
     ]
    },
    {
     "name": "stderr",
     "output_type": "stream",
     "text": [
      "Epoch: 015, Loss: 17.5737:  10%|█▎           | 15/150 [09:42<1:38:04, 43.59s/it]"
     ]
    },
    {
     "name": "stdout",
     "output_type": "stream",
     "text": [
      "Epoch: 015, Loss: 17.57368\n"
     ]
    },
    {
     "name": "stderr",
     "output_type": "stream",
     "text": [
      "Epoch: 016, Loss: 17.1207:  11%|█▍           | 16/150 [10:28<1:38:40, 44.18s/it]"
     ]
    },
    {
     "name": "stdout",
     "output_type": "stream",
     "text": [
      "Epoch: 016, Loss: 17.12072\n"
     ]
    },
    {
     "name": "stderr",
     "output_type": "stream",
     "text": [
      "Epoch: 017, Loss: 16.7569:  11%|█▍           | 17/150 [11:14<1:39:21, 44.83s/it]"
     ]
    },
    {
     "name": "stdout",
     "output_type": "stream",
     "text": [
      "Epoch: 017, Loss: 16.75695\n"
     ]
    },
    {
     "name": "stderr",
     "output_type": "stream",
     "text": [
      "Epoch: 018, Loss: 18.4448:  12%|█▌           | 18/150 [12:00<1:39:13, 45.11s/it]"
     ]
    },
    {
     "name": "stdout",
     "output_type": "stream",
     "text": [
      "Epoch: 018, Loss: 18.44484\n"
     ]
    },
    {
     "name": "stderr",
     "output_type": "stream",
     "text": [
      "Epoch: 019, Loss: 17.8906:  13%|█▋           | 19/150 [12:46<1:39:05, 45.39s/it]"
     ]
    },
    {
     "name": "stdout",
     "output_type": "stream",
     "text": [
      "Epoch: 019, Loss: 17.89061\n"
     ]
    },
    {
     "name": "stderr",
     "output_type": "stream",
     "text": [
      "Epoch: 020, Loss: 16.9089:  13%|█▋           | 20/150 [13:31<1:38:09, 45.30s/it]"
     ]
    },
    {
     "name": "stdout",
     "output_type": "stream",
     "text": [
      "Epoch: 020, Loss: 16.90894\n"
     ]
    },
    {
     "name": "stderr",
     "output_type": "stream",
     "text": [
      "Epoch: 021, Loss: 17.1987:  14%|█▊           | 21/150 [14:18<1:38:19, 45.73s/it]"
     ]
    },
    {
     "name": "stdout",
     "output_type": "stream",
     "text": [
      "Epoch: 021, Loss: 17.19869\n"
     ]
    },
    {
     "name": "stderr",
     "output_type": "stream",
     "text": [
      "Epoch: 022, Loss: 15.2648:  15%|█▉           | 22/150 [15:04<1:37:52, 45.88s/it]"
     ]
    },
    {
     "name": "stdout",
     "output_type": "stream",
     "text": [
      "Epoch: 022, Loss: 15.26484\n"
     ]
    },
    {
     "name": "stderr",
     "output_type": "stream",
     "text": [
      "Epoch: 023, Loss: 15.8484:  15%|█▉           | 23/150 [15:51<1:37:40, 46.14s/it]"
     ]
    },
    {
     "name": "stdout",
     "output_type": "stream",
     "text": [
      "Epoch: 023, Loss: 15.84838\n"
     ]
    },
    {
     "name": "stderr",
     "output_type": "stream",
     "text": [
      "Epoch: 024, Loss: 16.1360:  16%|██           | 24/150 [16:37<1:37:18, 46.34s/it]"
     ]
    },
    {
     "name": "stdout",
     "output_type": "stream",
     "text": [
      "Epoch: 024, Loss: 16.13601\n"
     ]
    },
    {
     "name": "stderr",
     "output_type": "stream",
     "text": [
      "Epoch: 025, Loss: 15.6759:  17%|██▏          | 25/150 [17:24<1:36:52, 46.50s/it]"
     ]
    },
    {
     "name": "stdout",
     "output_type": "stream",
     "text": [
      "Epoch: 025, Loss: 15.67592\n"
     ]
    },
    {
     "name": "stderr",
     "output_type": "stream",
     "text": [
      "Epoch: 026, Loss: 16.7394:  17%|██▎          | 26/150 [18:12<1:36:56, 46.91s/it]"
     ]
    },
    {
     "name": "stdout",
     "output_type": "stream",
     "text": [
      "Epoch: 026, Loss: 16.73936\n"
     ]
    },
    {
     "name": "stderr",
     "output_type": "stream",
     "text": [
      "Epoch: 027, Loss: 16.3050:  18%|██▎          | 27/150 [18:58<1:35:42, 46.68s/it]"
     ]
    },
    {
     "name": "stdout",
     "output_type": "stream",
     "text": [
      "Epoch: 027, Loss: 16.30501\n"
     ]
    },
    {
     "name": "stderr",
     "output_type": "stream",
     "text": [
      "Epoch: 028, Loss: 15.3183:  19%|██▍          | 28/150 [19:45<1:34:59, 46.72s/it]"
     ]
    },
    {
     "name": "stdout",
     "output_type": "stream",
     "text": [
      "Epoch: 028, Loss: 15.31827\n"
     ]
    },
    {
     "name": "stderr",
     "output_type": "stream",
     "text": [
      "Epoch: 029, Loss: 16.4756:  19%|██▌          | 29/150 [20:31<1:33:58, 46.60s/it]"
     ]
    },
    {
     "name": "stdout",
     "output_type": "stream",
     "text": [
      "Epoch: 029, Loss: 16.47559\n"
     ]
    },
    {
     "name": "stderr",
     "output_type": "stream",
     "text": [
      "Epoch: 030, Loss: 17.4584:  20%|██▌          | 30/150 [21:19<1:33:31, 46.76s/it]"
     ]
    },
    {
     "name": "stdout",
     "output_type": "stream",
     "text": [
      "Epoch: 030, Loss: 17.45844\n"
     ]
    },
    {
     "name": "stderr",
     "output_type": "stream",
     "text": [
      "Epoch: 031, Loss: 17.7935:  21%|██▋          | 31/150 [22:04<1:32:06, 46.44s/it]"
     ]
    },
    {
     "name": "stdout",
     "output_type": "stream",
     "text": [
      "Epoch: 031, Loss: 17.79352\n"
     ]
    },
    {
     "name": "stderr",
     "output_type": "stream",
     "text": [
      "Epoch: 032, Loss: 19.7463:  21%|██▊          | 32/150 [22:50<1:31:11, 46.37s/it]"
     ]
    },
    {
     "name": "stdout",
     "output_type": "stream",
     "text": [
      "Epoch: 032, Loss: 19.74632\n"
     ]
    },
    {
     "name": "stderr",
     "output_type": "stream",
     "text": [
      "Epoch: 033, Loss: 15.6471:  22%|██▊          | 33/150 [23:36<1:30:12, 46.26s/it]"
     ]
    },
    {
     "name": "stdout",
     "output_type": "stream",
     "text": [
      "Epoch: 033, Loss: 15.64709\n"
     ]
    },
    {
     "name": "stderr",
     "output_type": "stream",
     "text": [
      "Epoch: 034, Loss: 15.3864:  23%|██▉          | 34/150 [24:23<1:29:30, 46.30s/it]"
     ]
    },
    {
     "name": "stdout",
     "output_type": "stream",
     "text": [
      "Epoch: 034, Loss: 15.38639\n"
     ]
    },
    {
     "name": "stderr",
     "output_type": "stream",
     "text": [
      "Epoch: 035, Loss: 17.7010:  23%|███          | 35/150 [25:09<1:28:36, 46.23s/it]"
     ]
    },
    {
     "name": "stdout",
     "output_type": "stream",
     "text": [
      "Epoch: 035, Loss: 17.70101\n"
     ]
    },
    {
     "name": "stderr",
     "output_type": "stream",
     "text": [
      "Epoch: 036, Loss: 19.1944:  24%|███          | 36/150 [25:56<1:28:10, 46.41s/it]"
     ]
    },
    {
     "name": "stdout",
     "output_type": "stream",
     "text": [
      "Epoch: 036, Loss: 19.19445\n"
     ]
    },
    {
     "name": "stderr",
     "output_type": "stream",
     "text": [
      "Epoch: 037, Loss: 17.7940:  25%|███▏         | 37/150 [26:43<1:27:38, 46.53s/it]"
     ]
    },
    {
     "name": "stdout",
     "output_type": "stream",
     "text": [
      "Epoch: 037, Loss: 17.79402\n"
     ]
    },
    {
     "name": "stderr",
     "output_type": "stream",
     "text": [
      "Epoch: 038, Loss: 14.4215:  25%|███▎         | 38/150 [27:30<1:27:35, 46.93s/it]"
     ]
    },
    {
     "name": "stdout",
     "output_type": "stream",
     "text": [
      "Epoch: 038, Loss: 14.42148\n"
     ]
    },
    {
     "name": "stderr",
     "output_type": "stream",
     "text": [
      "Epoch: 039, Loss: 14.5587:  26%|███▍         | 39/150 [28:26<1:31:39, 49.55s/it]"
     ]
    },
    {
     "name": "stdout",
     "output_type": "stream",
     "text": [
      "Epoch: 039, Loss: 14.55869\n"
     ]
    },
    {
     "name": "stderr",
     "output_type": "stream",
     "text": [
      "Epoch: 040, Loss: 17.9688:  27%|███▍         | 40/150 [29:25<1:36:14, 52.50s/it]"
     ]
    },
    {
     "name": "stdout",
     "output_type": "stream",
     "text": [
      "Epoch: 040, Loss: 17.96882\n"
     ]
    },
    {
     "name": "stderr",
     "output_type": "stream",
     "text": [
      "Epoch: 041, Loss: 15.0922:  27%|███▌         | 41/150 [30:19<1:36:10, 52.94s/it]"
     ]
    },
    {
     "name": "stdout",
     "output_type": "stream",
     "text": [
      "Epoch: 041, Loss: 15.09216\n"
     ]
    },
    {
     "name": "stderr",
     "output_type": "stream",
     "text": [
      "Epoch: 042, Loss: 15.7066:  28%|███▋         | 42/150 [31:06<1:31:44, 50.96s/it]"
     ]
    },
    {
     "name": "stdout",
     "output_type": "stream",
     "text": [
      "Epoch: 042, Loss: 15.70658\n"
     ]
    },
    {
     "name": "stderr",
     "output_type": "stream",
     "text": [
      "Epoch: 043, Loss: 16.6260:  29%|███▋         | 43/150 [31:53<1:28:43, 49.75s/it]"
     ]
    },
    {
     "name": "stdout",
     "output_type": "stream",
     "text": [
      "Epoch: 043, Loss: 16.62595\n"
     ]
    },
    {
     "name": "stderr",
     "output_type": "stream",
     "text": [
      "Epoch: 044, Loss: 15.9527:  29%|███▊         | 44/150 [32:40<1:26:20, 48.88s/it]"
     ]
    },
    {
     "name": "stdout",
     "output_type": "stream",
     "text": [
      "Epoch: 044, Loss: 15.95273\n"
     ]
    },
    {
     "name": "stderr",
     "output_type": "stream",
     "text": [
      "Epoch: 045, Loss: 15.7277:  30%|███▉         | 45/150 [33:25<1:23:54, 47.95s/it]"
     ]
    },
    {
     "name": "stdout",
     "output_type": "stream",
     "text": [
      "Epoch: 045, Loss: 15.72772\n"
     ]
    },
    {
     "name": "stderr",
     "output_type": "stream",
     "text": [
      "Epoch: 046, Loss: 16.3127:  31%|███▉         | 46/150 [34:11<1:21:50, 47.22s/it]"
     ]
    },
    {
     "name": "stdout",
     "output_type": "stream",
     "text": [
      "Epoch: 046, Loss: 16.31268\n"
     ]
    },
    {
     "name": "stderr",
     "output_type": "stream",
     "text": [
      "Epoch: 047, Loss: 16.1508:  31%|████         | 47/150 [34:57<1:20:21, 46.82s/it]"
     ]
    },
    {
     "name": "stdout",
     "output_type": "stream",
     "text": [
      "Epoch: 047, Loss: 16.15081\n"
     ]
    },
    {
     "name": "stderr",
     "output_type": "stream",
     "text": [
      "Epoch: 048, Loss: 15.4014:  32%|████▏        | 48/150 [35:43<1:19:05, 46.52s/it]"
     ]
    },
    {
     "name": "stdout",
     "output_type": "stream",
     "text": [
      "Epoch: 048, Loss: 15.40137\n"
     ]
    },
    {
     "name": "stderr",
     "output_type": "stream",
     "text": [
      "Epoch: 049, Loss: 16.5546:  33%|████▏        | 49/150 [36:28<1:17:57, 46.31s/it]"
     ]
    },
    {
     "name": "stdout",
     "output_type": "stream",
     "text": [
      "Epoch: 049, Loss: 16.55461\n"
     ]
    },
    {
     "name": "stderr",
     "output_type": "stream",
     "text": [
      "Epoch: 050, Loss: 14.9542:  33%|████▎        | 50/150 [37:14<1:16:53, 46.13s/it]"
     ]
    },
    {
     "name": "stdout",
     "output_type": "stream",
     "text": [
      "Epoch: 050, Loss: 14.95423\n"
     ]
    },
    {
     "name": "stderr",
     "output_type": "stream",
     "text": [
      "Epoch: 051, Loss: 15.3080:  34%|████▍        | 51/150 [38:00<1:16:01, 46.07s/it]"
     ]
    },
    {
     "name": "stdout",
     "output_type": "stream",
     "text": [
      "Epoch: 051, Loss: 15.30803\n"
     ]
    },
    {
     "name": "stderr",
     "output_type": "stream",
     "text": [
      "Epoch: 052, Loss: 15.0806:  35%|████▌        | 52/150 [38:46<1:15:22, 46.15s/it]"
     ]
    },
    {
     "name": "stdout",
     "output_type": "stream",
     "text": [
      "Epoch: 052, Loss: 15.08059\n"
     ]
    },
    {
     "name": "stderr",
     "output_type": "stream",
     "text": [
      "Epoch: 053, Loss: 15.4249:  35%|████▌        | 53/150 [39:32<1:14:29, 46.08s/it]"
     ]
    },
    {
     "name": "stdout",
     "output_type": "stream",
     "text": [
      "Epoch: 053, Loss: 15.42494\n"
     ]
    },
    {
     "name": "stderr",
     "output_type": "stream",
     "text": [
      "\r",
      "Epoch: 053, Loss: 15.4249:  35%|████▌        | 53/150 [40:19<1:13:47, 45.65s/it]"
     ]
    },
    {
     "name": "stdout",
     "output_type": "stream",
     "text": [
      "Epoch: 054, Loss: 14.80411\n",
      "\n",
      " Stopped early at epoch:  41\n"
     ]
    },
    {
     "name": "stderr",
     "output_type": "stream",
     "text": [
      "\n"
     ]
    }
   ],
   "source": [
    "class GCN(torch.nn.Module): ### the simpliest model that GNN and it is classical, used as baseline\n",
    "    def __init__(self, num_node_features):\n",
    "        super(GCN, self).__init__()\n",
    "        self.conv1 = GCNConv(num_node_features, 128)     \n",
    "        self.conv2 = GCNConv(128, 64) \n",
    "        self.conv3 = GCNConv(64, 16) \n",
    "        self.conv4 = GCNConv(16, 8) \n",
    "        self.fc = torch.nn.Linear(8, 1)\n",
    "\n",
    "\n",
    "    \"\"\"\n",
    "        hyperparameters:\n",
    "        - number of hidden layers\n",
    "        - number of hidden channels\n",
    "        - dropout rate (now it's zero)\n",
    "        - learning rate <- most important to tune\n",
    "        - weight decay\n",
    "        - etc etc.\n",
    "    \"\"\"\n",
    "\n",
    "    def forward(self, data):\n",
    "        x, edge_index, edge_weight, batch = data.x, data.edge_index, data.edge_attr, data.batch\n",
    "        edge_index, edge_weight = add_self_loops(edge_index, edge_attr=edge_weight, num_nodes=x.size(0))\n",
    "\n",
    "        x = self.conv1(x, edge_index, edge_weight)\n",
    "        x = F.leaky_relu(x)\n",
    "#         x = F.elu(x)\n",
    "\n",
    "        x = self.conv2(x, edge_index, edge_weight)\n",
    "        x = F.leaky_relu(x)\n",
    "#         x = F.elu(x)\n",
    "\n",
    "        x = self.conv3(x, edge_index, edge_weight)\n",
    "        x = F.leaky_relu(x)\n",
    "#         x = F.elu(x)\n",
    "        \n",
    "        x = self.conv4(x, edge_index, edge_weight)\n",
    "        x = F.leaky_relu(x)\n",
    "#         x = F.elu(x)\n",
    "\n",
    "        x = global_mean_pool(x, batch)\n",
    "        x = self.fc(x)\n",
    "\n",
    "        return x\n",
    "\n",
    "# Now we can create a DataLoader\n",
    "myloader = DataLoader(train_data, batch_size=128, shuffle=True)\n",
    "# Create a model and an optimizer\n",
    "device = torch.device('cuda' if torch.cuda.is_available() else 'cpu')\n",
    "model = GCN(num_node_features=50).to(device) ### only look at the last 30 \n",
    "optimizer = torch.optim.Adam(model.parameters(), lr=0.01, weight_decay=5e-4)\n",
    "# scheduler = torch.optim.lr_scheduler.StepLR(optimizer, step_size=30, gamma=0.1)\n",
    "\n",
    "def train(model, optimizer, loader):\n",
    "    model.train()\n",
    "    loss_all = 0\n",
    "    correct = 0\n",
    "    y_true = []\n",
    "    total = 0\n",
    "    results = []\n",
    "    for data in myloader:\n",
    "        data = data.to(device)\n",
    "        optimizer.zero_grad() \n",
    "        output = model(data) \n",
    "        label = data.y.to(device)\n",
    "        y_true.append(label)\n",
    "#         loss = F.cross_entropy(output, label)\n",
    "        loss = F.mse_loss(output, label) \n",
    "        loss.backward() \n",
    "        loss_all += data.num_graphs * loss.item()\n",
    "        \n",
    "        optimizer.step() \n",
    "        results.append(output)\n",
    "    \n",
    "    return loss_all / len(myloader.dataset), results, y_true\n",
    "\n",
    "\n",
    "\n",
    "counter = 0\n",
    "count_epochs = 0\n",
    "best = float(\"inf\")\n",
    "epochs = 100\n",
    "patience = 15\n",
    "loss_ep= []\n",
    " \n",
    "for epoch in (pbar := tqdm(range(1, epochs + 1))):\n",
    "    loss, myres, reals = train(model, optimizer, myloader)\n",
    "    loss_ep.append(loss)\n",
    "#     ac_ep.append(ac)\n",
    "    print('Epoch: {:03d}, Loss: {:.5f}'.format(epoch, loss))\n",
    "    if loss < best:\n",
    "        best = loss\n",
    "        counter = 0\n",
    "    else:\n",
    "        counter += 1\n",
    "        count_epochs += 1\n",
    "        \n",
    "    if counter > patience:\n",
    "        break\n",
    "        # print(f\"Epoch: {​​​​​​epoch:03d}​​​​​​, Loss: {​​​​​​loss:.4f}​​​​​​\")\n",
    "#     scheduler.step()\n",
    "    pbar.set_description(f\"Epoch: {epoch:03d}, Loss: {loss:.4f}\")\n",
    "print(\"\\n\", \"Stopped early at epoch: \", count_epochs)\n"
   ]
  },
  {
   "cell_type": "code",
   "execution_count": 80,
   "id": "c97b8c6d",
   "metadata": {},
   "outputs": [
    {
     "data": {
      "text/plain": [
       "[<matplotlib.lines.Line2D at 0x47383dc50>]"
      ]
     },
     "execution_count": 80,
     "metadata": {},
     "output_type": "execute_result"
    },
    {
     "data": {
      "image/png": "[encoded data removed]",
      "text/plain": [
       "<Figure size 640x480 with 1 Axes>"
      ]
     },
     "metadata": {},
     "output_type": "display_data"
    }
   ],
   "source": [
    "plt.plot(loss_ep)"
   ]
  },
  {
   "cell_type": "code",
   "execution_count": 17,
   "id": "db076d46",
   "metadata": {},
   "outputs": [],
   "source": [
    "def bootstrap_median_confidence_interval(data, ci=95, n_bootstraps=1000):\n",
    "    bootstrapped_medians = []\n",
    "    n = len(data)\n",
    "\n",
    "    for _ in range(n_bootstraps):\n",
    "        sample = np.random.choice(data, size=n, replace=True)\n",
    "        bootstrapped_medians.append(np.median(sample))\n",
    "\n",
    "    lower_bound = np.percentile(bootstrapped_medians, (100 - ci) / 2)\n",
    "    upper_bound = np.percentile(bootstrapped_medians, 100 - (100 - ci) / 2)\n",
    "    medians = np.percentile(bootstrapped_medians, 50)\n",
    "\n",
    "    return medians, lower_bound, upper_bound"
   ]
  },
  {
   "cell_type": "code",
   "execution_count": 18,
   "id": "9233f5b0",
   "metadata": {},
   "outputs": [],
   "source": [
    "training_y = []\n",
    "training_true = []\n",
    "for t_s in range(17):\n",
    "    training_y.extend(list(myres[t_s].detach().ravel().numpy()))\n",
    "    training_true.extend(list(reals[t_s].detach().ravel().numpy()))"
   ]
  },
  {
   "cell_type": "code",
   "execution_count": 22,
   "id": "5a2fde34",
   "metadata": {},
   "outputs": [],
   "source": [
    "training = {}\n",
    "for p, t in zip(training_y, training_true):\n",
    "#     real_r = np.round(np.exp(t),3)\n",
    "    real_r = np.round(t,3)\n",
    "    if real_r in training.keys():\n",
    "        training[real_r].append(p)\n",
    "    else:\n",
    "        training[real_r] = [p]"
   ]
  },
  {
   "cell_type": "code",
   "execution_count": 33,
   "id": "bc04db5b",
   "metadata": {},
   "outputs": [
    {
     "data": {
      "text/plain": [
       "numpy.float32"
      ]
     },
     "execution_count": 33,
     "metadata": {},
     "output_type": "execute_result"
    }
   ],
   "source": [
    "type(list(training.keys())[10])"
   ]
  },
  {
   "cell_type": "code",
   "execution_count": 34,
   "id": "c872e77a",
   "metadata": {},
   "outputs": [
    {
     "name": "stdout",
     "output_type": "stream",
     "text": [
      "0.025\n",
      "0.033\n",
      "0.05\n",
      "0.067\n",
      "0.1\n",
      "0.133\n",
      "0.2\n",
      "0.286\n",
      "0.5\n",
      "0.667\n",
      "1.0\n",
      "1.333\n",
      "2.0\n",
      "2.5\n",
      "3.333\n",
      "5.0\n",
      "10.0\n",
      "13.333\n",
      "20.0\n"
     ]
    }
   ],
   "source": [
    "Bootstrap_ci = []\n",
    "Bootstrap_mean = []\n",
    "for r_idx in range(19):\n",
    "    r = rs[r_idx]\n",
    "    r = np.float32(r)\n",
    "    print(r)\n",
    "#     data = np.exp(training[r])\n",
    "    data = training[r]\n",
    "    k = np.log(r)\n",
    "#     print(len(data))\n",
    "#     Bootstrap_mean.append(np.median(data))\n",
    "    sample_median, l_b, u_b = bootstrap_median_confidence_interval(data,95)\n",
    "    Bootstrap_ci.append([l_b, u_b])\n",
    "    Bootstrap_mean.append(sample_median)\n",
    "#     print(\"T-Distribution 90% Confidence Interval:\", t_distribution_confidence_interval(data))\n",
    "#     print(\"Bootstrap 95% Confidence Interval:\",l_b, u_b)"
   ]
  },
  {
   "cell_type": "code",
   "execution_count": 35,
   "id": "5e4be399",
   "metadata": {},
   "outputs": [],
   "source": [
    "CI = np.array(Bootstrap_ci)"
   ]
  },
  {
   "cell_type": "code",
   "execution_count": 39,
   "id": "47c62e22",
   "metadata": {},
   "outputs": [
    {
     "data": {
      "text/plain": [
       "[-0.28782185912132263,\n",
       " -0.3580248951911926,\n",
       " -0.3064799904823303,\n",
       " -0.07632628083229065,\n",
       " -0.20494040846824646,\n",
       " 0.0274810791015625,\n",
       " -0.018001526594161987,\n",
       " 0.5470784306526184,\n",
       " 1.575674057006836,\n",
       " 1.8737534284591675,\n",
       " 3.6547482013702393,\n",
       " 3.739645481109619,\n",
       " 5.1522932052612305,\n",
       " 5.745384693145752,\n",
       " 6.134951591491699,\n",
       " 6.8976874351501465,\n",
       " 7.734098434448242,\n",
       " 7.829336166381836,\n",
       " 7.864086151123047]"
      ]
     },
     "execution_count": 39,
     "metadata": {},
     "output_type": "execute_result"
    }
   ],
   "source": [
    "Bootstrap_mean"
   ]
  },
  {
   "cell_type": "code",
   "execution_count": 41,
   "id": "b6990687",
   "metadata": {},
   "outputs": [
    {
     "data": {
      "image/png": "[encoded data removed]",
      "text/plain": [
       "<Figure size 640x480 with 1 Axes>"
      ]
     },
     "metadata": {},
     "output_type": "display_data"
    }
   ],
   "source": [
    "# plt.scatter(rs,rs,label='real')\n",
    "plt.scatter(rs,np.array(Bootstrap_mean),label='trained')\n",
    "plt.fill_between(rs,CI[:,1],CI[:,0],alpha=0.3)\n",
    "plt.yscale('log')\n",
    "# plt.xscale('log')\n",
    "plt.legend()\n",
    "plt.savefig('regression.png')"
   ]
  },
  {
   "cell_type": "code",
   "execution_count": 16,
   "id": "b03a9f70",
   "metadata": {},
   "outputs": [],
   "source": [
    "def test():\n",
    "    model.eval()\n",
    "    predictions = []\n",
    "    total_loss = 0\n",
    "    true_values = []\n",
    "    with torch.no_grad():\n",
    "        for data in testloader:\n",
    "            data = data.to(device)\n",
    "            output = model(data)\n",
    "            loss = F.mse_loss(output, data.y)\n",
    "            total_loss += loss.item() * data.num_graphs\n",
    "            predictions.append(output.cpu())\n",
    "            true_values.append(data.y.cpu())\n",
    "    return torch.cat(predictions, dim=0), torch.cat(true_values, dim=0),total_loss / len(testloader.dataset)"
   ]
  },
  {
   "cell_type": "code",
   "execution_count": 17,
   "id": "b0cd1250",
   "metadata": {},
   "outputs": [],
   "source": [
    "testloader = DataLoader(test_data, batch_size=128, shuffle=True)"
   ]
  },
  {
   "cell_type": "code",
   "execution_count": 18,
   "id": "ead3cbb7",
   "metadata": {},
   "outputs": [
    {
     "name": "stdout",
     "output_type": "stream",
     "text": [
      "Test MSE: 0.3433\n"
     ]
    }
   ],
   "source": [
    "predictions, y_true, test_mse  = test()\n",
    "print(f\"Test MSE: {test_mse:.4f}\")\n",
    "# print(predictions)"
   ]
  },
  {
   "cell_type": "code",
   "execution_count": 19,
   "id": "117a2c86",
   "metadata": {},
   "outputs": [],
   "source": [
    "results = {}\n",
    "for p, t in zip(predictions.ravel().numpy(), y_true.ravel().numpy()):\n",
    "    real_r = np.round(np.exp(t),3)\n",
    "    if real_r in results.keys():\n",
    "        results[real_r].append(p)\n",
    "    else:\n",
    "        results[real_r] = [p]"
   ]
  },
  {
   "cell_type": "code",
   "execution_count": 58,
   "id": "06edc9dc",
   "metadata": {},
   "outputs": [],
   "source": [
    "import pickle\n",
    "\n",
    "# Assuming 'results' is your dictionary\n",
    "with open('gnn_regression_add.pkl', 'wb') as file:\n",
    "    pickle.dump(results, file)"
   ]
  },
  {
   "cell_type": "code",
   "execution_count": 20,
   "id": "3bcd41c7",
   "metadata": {},
   "outputs": [
    {
     "name": "stdout",
     "output_type": "stream",
     "text": [
      "-3.6888795\n",
      "T-Distribution 99% Confidence Interval: (-3.3979023206986594, -3.0001284372053934)\n",
      "-3.4112477\n",
      "T-Distribution 99% Confidence Interval: (-3.213641105089242, -2.8353229185008457)\n",
      "-2.9957323\n",
      "T-Distribution 99% Confidence Interval: (-2.9492508261084796, -2.5963467271446943)\n",
      "-2.7030625\n",
      "T-Distribution 99% Confidence Interval: (-2.78764652016801, -2.4383962273295485)\n",
      "-2.3025851\n",
      "T-Distribution 99% Confidence Interval: (-2.466643518111105, -2.184056574204569)\n",
      "-2.0174062\n",
      "T-Distribution 99% Confidence Interval: (-2.374218206765222, -2.0971834846715454)\n",
      "-1.609438\n",
      "T-Distribution 99% Confidence Interval: (-2.0369302732438426, -1.7949569719343799)\n",
      "-1.2517635\n",
      "T-Distribution 99% Confidence Interval: (-1.7068355584868384, -1.4136657213440942)\n",
      "-0.6931472\n",
      "T-Distribution 99% Confidence Interval: (-0.9402775519098976, -0.672144795158889)\n",
      "-0.40496525\n",
      "T-Distribution 99% Confidence Interval: (-0.6215256227667165, -0.34248568876435037)\n",
      "0.0\n",
      "T-Distribution 99% Confidence Interval: (-0.1562435190365869, 0.08237052067976774)\n",
      "0.287432\n",
      "T-Distribution 99% Confidence Interval: (0.10466904780026763, 0.318834351094996)\n",
      "0.6931472\n",
      "T-Distribution 99% Confidence Interval: (0.617912294995742, 0.8253127311349343)\n",
      "0.91629076\n",
      "T-Distribution 99% Confidence Interval: (0.6973030581056345, 0.9788607345045339)\n",
      "1.2038728\n",
      "T-Distribution 99% Confidence Interval: (0.9784868589004441, 1.2403120169082718)\n",
      "1.609438\n",
      "T-Distribution 99% Confidence Interval: (1.3184294855395295, 1.541545614024069)\n",
      "2.3025851\n",
      "T-Distribution 99% Confidence Interval: (1.7268031369059422, 1.984078334727969)\n",
      "2.5902421\n",
      "T-Distribution 99% Confidence Interval: (1.6719026425445533, 1.924475207034304)\n",
      "2.9957323\n",
      "T-Distribution 99% Confidence Interval: (1.8515971417847523, 2.101242232757484)\n"
     ]
    }
   ],
   "source": [
    "import scipy.stats as stats\n",
    "\n",
    "\n",
    "for r_idx in range(19):\n",
    "    r = rs[r_idx]\n",
    "    r = np.float32(r)\n",
    "    data = results[r]\n",
    "    k = np.log(r)\n",
    "    print(k)\n",
    "    print(\"T-Distribution 99% Confidence Interval:\", t_distribution_confidence_interval(data,99))\n",
    "#     print(\"Bootstrap 95% Confidence Interval:\", bootstrap_confidence_interval(data))"
   ]
  },
  {
   "cell_type": "code",
   "execution_count": 11,
   "id": "12438473",
   "metadata": {},
   "outputs": [],
   "source": [
    "r_class = {20:0, 10:0, 2.0:1, 1.0:1, 0.5:1, 0.2:2, 0.1:2, 0.05:3, 0.025:3, \n",
    "           5.0:0 ,  2.5:1  , 13.333:0,  3.333:1,  1.333:1,  0.667:1,  0.286:2,  0.133:2,\n",
    "        0.067:3,  0.033:3}"
   ]
  },
  {
   "cell_type": "code",
   "execution_count": 12,
   "id": "82c4fd95",
   "metadata": {},
   "outputs": [
    {
     "data": {
      "text/plain": [
       "dict_keys([20, 10, 2.0, 1.0, 0.5, 0.2, 0.1, 0.05, 0.025, 5.0, 2.5, 13.333, 3.333, 1.333, 0.667, 0.286, 0.133, 0.067, 0.033])"
      ]
     },
     "execution_count": 12,
     "metadata": {},
     "output_type": "execute_result"
    }
   ],
   "source": [
    "r_class.keys()"
   ]
  },
  {
   "cell_type": "code",
   "execution_count": 33,
   "id": "1c026c5b",
   "metadata": {},
   "outputs": [
    {
     "name": "stdout",
     "output_type": "stream",
     "text": [
      "52\n",
      "60\n",
      "55\n",
      "59\n",
      "62\n",
      "54\n",
      "59\n",
      "53\n",
      "59\n",
      "59\n",
      "61\n",
      "72\n",
      "69\n",
      "60\n",
      "55\n",
      "67\n",
      "58\n",
      "56\n",
      "70\n"
     ]
    },
    {
     "data": {
      "image/png": "[encoded data removed]",
      "text/plain": [
       "<Figure size 1575x1350 with 1 Axes>"
      ]
     },
     "metadata": {},
     "output_type": "display_data"
    }
   ],
   "source": [
    "fig, ax = plt.subplots(figsize=(3.5,3),dpi=450)\n",
    "colors = {0:'orange',1:'yellowgreen',2:'lightskyblue',3:'cornflowerblue'}\n",
    "# r_class = {20:0, 10:0, 2.0:1, 1.0:1, 0.5:1, 0.2:2, 0.1:2, 0.05:3, 0.025:3}\n",
    "line_properties = dict(linestyle='-', linewidth=0.75, color='gray')\n",
    "for r_idx in range(19):\n",
    "    r = rs[r_idx]\n",
    "    k = np.log(r)\n",
    "    c = r_class[r]\n",
    "    r = np.float32(r)\n",
    "    # Plot each boxplot at position k_idx + 1\n",
    "#     y = np.exp()\n",
    "#     ax.boxplot(results[k], positions=[k_idx + 1])\n",
    "    ax.boxplot(results[r], positions=[r_idx + 1],showfliers=False,\n",
    "               boxprops = dict(linestyle='-', linewidth=0.75, color='gray'),\n",
    "               whiskerprops=line_properties, widths=0.4,\n",
    "           capprops=line_properties,\n",
    "              medianprops=dict(linestyle='-', linewidth=1, color='gray'))\n",
    "    \n",
    "    myc = colors[c]\n",
    "    # Plot the scatter point at the same position\n",
    "    ax.scatter(r_idx + 1, k, color=myc, s=5)\n",
    "\n",
    "    print(len(results[r]))\n",
    "\n",
    "# Show the plot after adding all boxplots\n",
    "ax.set_xticks(range(1, 20))  # Setting x-ticks positions\n",
    "ax.set_xticklabels(rs)  # Assuming 'rs' is your array of labels\n",
    "plt.ylim(-5,4)\n",
    "plt.xlabel('$r$',size=8)\n",
    "plt.ylabel('$\\log(r)$',size=8)\n",
    "ax.tick_params(axis='both', labelsize=8)\n",
    "# plt.show()\n",
    "# plt.savefig(\"gnn_regression.pdf\", bbox_inches='tight', pad_inches=0)"
   ]
  },
  {
   "cell_type": "code",
   "execution_count": 160,
   "id": "64b06357",
   "metadata": {},
   "outputs": [
    {
     "data": {
      "image/png": "[encoded data removed]",
      "text/plain": [
       "<Figure size 1575x900 with 1 Axes>"
      ]
     },
     "metadata": {},
     "output_type": "display_data"
    }
   ],
   "source": [
    "import matplotlib.pyplot as plt\n",
    "import numpy as np\n",
    "\n",
    "# Assuming 'results' and 'rs' are defined as before\n",
    "\n",
    "fig, ax = plt.subplots(figsize=(3.5,2), dpi=450)\n",
    "\n",
    "colors = {0:'orange', 1:'yellowgreen', 2:'lightskyblue', 3:'cornflowerblue'}\n",
    "r_class = {20:0, 10:0, 2.0:1, 1.0:1, 0.5:1, 0.2:2, 0.1:2, 0.05:3, 0.025:3}\n",
    "\n",
    "for r_idx in range(9):\n",
    "    r = rs[r_idx]\n",
    "    k = np.log(r)\n",
    "    c = r_class[r]\n",
    "    r = np.float32(r)\n",
    "    \n",
    "    # Creating the violin plot at position r_idx + 1\n",
    "    vp = ax.violinplot(results[r], positions=[r_idx + 1], showmeans=False, showmedians=False, showextrema=False)\n",
    "    \n",
    "    # You can set the color of each part of the violin plot\n",
    "    for pc in vp['bodies']:\n",
    "        pc.set_facecolor('grey')\n",
    "        pc.set_edgecolor('grey')\n",
    "        pc.set_alpha(0.5)\n",
    "\n",
    "    # Plot the scatter point at the same position\n",
    "    ax.scatter(r_idx + 1, k, color=colors[c], s=5)\n",
    "\n",
    "# Setting x-ticks positions and labels\n",
    "ax.set_xticks(range(1, 10))\n",
    "ax.set_xticklabels(rs)\n",
    "\n",
    "# Setting the limits for y-axis and font size for ticks\n",
    "plt.ylim(-5, 4)\n",
    "plt.xlabel('$r$')\n",
    "plt.ylabel('$\\log(r)$')\n",
    "ax.tick_params(axis='both', labelsize=8)\n",
    "\n",
    "plt.show()\n"
   ]
  },
  {
   "cell_type": "code",
   "execution_count": null,
   "id": "7302cb97",
   "metadata": {},
   "outputs": [],
   "source": []
  }
 ],
 "metadata": {
  "kernelspec": {
   "display_name": "gnn",
   "language": "python",
   "name": "gnn"
  },
  "language_info": {
   "codemirror_mode": {
    "name": "ipython",
    "version": 3
   },
   "file_extension": ".py",
   "mimetype": "text/x-python",
   "name": "python",
   "nbconvert_exporter": "python",
   "pygments_lexer": "ipython3",
   "version": "3.11.4"
  }
 },
 "nbformat": 4,
 "nbformat_minor": 5
}
