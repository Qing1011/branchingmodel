{
 "cells": [
  {
   "cell_type": "code",
   "execution_count": 1,
   "id": "ff5941a7",
   "metadata": {},
   "outputs": [],
   "source": [
    "import os\n",
    "import numpy as np\n",
    "import pandas as pd\n",
    "import matplotlib as mpl\n",
    "import matplotlib.pyplot as plt\n",
    "# plt.style.use('seaborn-white')\n",
    "\n",
    "%matplotlib inline\n",
    "\n",
    "from scipy.stats import gamma, poisson\n",
    "\n",
    "import epyestim\n",
    "import epyestim.covid19 as covid19"
   ]
  },
  {
   "cell_type": "code",
   "execution_count": 2,
   "id": "54589852",
   "metadata": {},
   "outputs": [],
   "source": [
    "real_data_path = '/Users/qingyao/OneDrive - cumc.columbia.edu/machine_learning_data/'\n",
    "cases = pd.read_csv(real_data_path + 'county_data/ts_covid19_confirmed_US_mainland.csv')\n",
    "cases_sorted = cases.sort_values(by='UID')"
   ]
  },
  {
   "cell_type": "code",
   "execution_count": 5,
   "id": "80d7bcf0",
   "metadata": {},
   "outputs": [
    {
     "data": {
      "text/html": [
       "<div>\n",
       "<style scoped>\n",
       "    .dataframe tbody tr th:only-of-type {\n",
       "        vertical-align: middle;\n",
       "    }\n",
       "\n",
       "    .dataframe tbody tr th {\n",
       "        vertical-align: top;\n",
       "    }\n",
       "\n",
       "    .dataframe thead th {\n",
       "        text-align: right;\n",
       "    }\n",
       "</style>\n",
       "<table border=\"1\" class=\"dataframe\">\n",
       "  <thead>\n",
       "    <tr style=\"text-align: right;\">\n",
       "      <th></th>\n",
       "      <th>UID</th>\n",
       "      <th>iso2</th>\n",
       "      <th>iso3</th>\n",
       "      <th>code3</th>\n",
       "      <th>FIPS</th>\n",
       "      <th>Admin2</th>\n",
       "      <th>Province_State</th>\n",
       "      <th>Country_Region</th>\n",
       "      <th>Lat</th>\n",
       "      <th>Long_</th>\n",
       "      <th>...</th>\n",
       "      <th>2/28/23</th>\n",
       "      <th>03/01/2023</th>\n",
       "      <th>03/02/2023</th>\n",
       "      <th>03/03/2023</th>\n",
       "      <th>03/04/2023</th>\n",
       "      <th>03/05/2023</th>\n",
       "      <th>03/06/2023</th>\n",
       "      <th>03/07/2023</th>\n",
       "      <th>03/08/2023</th>\n",
       "      <th>03/09/2023</th>\n",
       "    </tr>\n",
       "  </thead>\n",
       "  <tbody>\n",
       "    <tr>\n",
       "      <th>0</th>\n",
       "      <td>84001001</td>\n",
       "      <td>US</td>\n",
       "      <td>USA</td>\n",
       "      <td>840</td>\n",
       "      <td>1001</td>\n",
       "      <td>Autauga</td>\n",
       "      <td>Alabama</td>\n",
       "      <td>US</td>\n",
       "      <td>32.539527</td>\n",
       "      <td>-86.644082</td>\n",
       "      <td>...</td>\n",
       "      <td>19732</td>\n",
       "      <td>19759</td>\n",
       "      <td>19759</td>\n",
       "      <td>19759</td>\n",
       "      <td>19759</td>\n",
       "      <td>19759</td>\n",
       "      <td>19759</td>\n",
       "      <td>19759</td>\n",
       "      <td>19790</td>\n",
       "      <td>19790</td>\n",
       "    </tr>\n",
       "    <tr>\n",
       "      <th>1</th>\n",
       "      <td>84001003</td>\n",
       "      <td>US</td>\n",
       "      <td>USA</td>\n",
       "      <td>840</td>\n",
       "      <td>1003</td>\n",
       "      <td>Baldwin</td>\n",
       "      <td>Alabama</td>\n",
       "      <td>US</td>\n",
       "      <td>30.727750</td>\n",
       "      <td>-87.722071</td>\n",
       "      <td>...</td>\n",
       "      <td>69641</td>\n",
       "      <td>69767</td>\n",
       "      <td>69767</td>\n",
       "      <td>69767</td>\n",
       "      <td>69767</td>\n",
       "      <td>69767</td>\n",
       "      <td>69767</td>\n",
       "      <td>69767</td>\n",
       "      <td>69860</td>\n",
       "      <td>69860</td>\n",
       "    </tr>\n",
       "    <tr>\n",
       "      <th>2</th>\n",
       "      <td>84001005</td>\n",
       "      <td>US</td>\n",
       "      <td>USA</td>\n",
       "      <td>840</td>\n",
       "      <td>1005</td>\n",
       "      <td>Barbour</td>\n",
       "      <td>Alabama</td>\n",
       "      <td>US</td>\n",
       "      <td>31.868263</td>\n",
       "      <td>-85.387129</td>\n",
       "      <td>...</td>\n",
       "      <td>7451</td>\n",
       "      <td>7474</td>\n",
       "      <td>7474</td>\n",
       "      <td>7474</td>\n",
       "      <td>7474</td>\n",
       "      <td>7474</td>\n",
       "      <td>7474</td>\n",
       "      <td>7474</td>\n",
       "      <td>7485</td>\n",
       "      <td>7485</td>\n",
       "    </tr>\n",
       "    <tr>\n",
       "      <th>3</th>\n",
       "      <td>84001007</td>\n",
       "      <td>US</td>\n",
       "      <td>USA</td>\n",
       "      <td>840</td>\n",
       "      <td>1007</td>\n",
       "      <td>Bibb</td>\n",
       "      <td>Alabama</td>\n",
       "      <td>US</td>\n",
       "      <td>32.996421</td>\n",
       "      <td>-87.125115</td>\n",
       "      <td>...</td>\n",
       "      <td>8067</td>\n",
       "      <td>8087</td>\n",
       "      <td>8087</td>\n",
       "      <td>8087</td>\n",
       "      <td>8087</td>\n",
       "      <td>8087</td>\n",
       "      <td>8087</td>\n",
       "      <td>8087</td>\n",
       "      <td>8091</td>\n",
       "      <td>8091</td>\n",
       "    </tr>\n",
       "    <tr>\n",
       "      <th>4</th>\n",
       "      <td>84001009</td>\n",
       "      <td>US</td>\n",
       "      <td>USA</td>\n",
       "      <td>840</td>\n",
       "      <td>1009</td>\n",
       "      <td>Blount</td>\n",
       "      <td>Alabama</td>\n",
       "      <td>US</td>\n",
       "      <td>33.982109</td>\n",
       "      <td>-86.567906</td>\n",
       "      <td>...</td>\n",
       "      <td>18616</td>\n",
       "      <td>18673</td>\n",
       "      <td>18673</td>\n",
       "      <td>18673</td>\n",
       "      <td>18673</td>\n",
       "      <td>18673</td>\n",
       "      <td>18673</td>\n",
       "      <td>18673</td>\n",
       "      <td>18704</td>\n",
       "      <td>18704</td>\n",
       "    </tr>\n",
       "  </tbody>\n",
       "</table>\n",
       "<p>5 rows × 1154 columns</p>\n",
       "</div>"
      ],
      "text/plain": [
       "        UID iso2 iso3  code3  FIPS   Admin2 Province_State Country_Region  \\\n",
       "0  84001001   US  USA    840  1001  Autauga        Alabama             US   \n",
       "1  84001003   US  USA    840  1003  Baldwin        Alabama             US   \n",
       "2  84001005   US  USA    840  1005  Barbour        Alabama             US   \n",
       "3  84001007   US  USA    840  1007     Bibb        Alabama             US   \n",
       "4  84001009   US  USA    840  1009   Blount        Alabama             US   \n",
       "\n",
       "         Lat      Long_  ... 2/28/23  03/01/2023  03/02/2023  03/03/2023  \\\n",
       "0  32.539527 -86.644082  ...   19732       19759       19759       19759   \n",
       "1  30.727750 -87.722071  ...   69641       69767       69767       69767   \n",
       "2  31.868263 -85.387129  ...    7451        7474        7474        7474   \n",
       "3  32.996421 -87.125115  ...    8067        8087        8087        8087   \n",
       "4  33.982109 -86.567906  ...   18616       18673       18673       18673   \n",
       "\n",
       "   03/04/2023  03/05/2023  03/06/2023  03/07/2023  03/08/2023  03/09/2023  \n",
       "0       19759       19759       19759       19759       19790       19790  \n",
       "1       69767       69767       69767       69767       69860       69860  \n",
       "2        7474        7474        7474        7474        7485        7485  \n",
       "3        8087        8087        8087        8087        8091        8091  \n",
       "4       18673       18673       18673       18673       18704       18704  \n",
       "\n",
       "[5 rows x 1154 columns]"
      ]
     },
     "execution_count": 5,
     "metadata": {},
     "output_type": "execute_result"
    }
   ],
   "source": [
    "cases_sorted.head()"
   ]
  },
  {
   "cell_type": "code",
   "execution_count": 3,
   "id": "77222ced",
   "metadata": {},
   "outputs": [],
   "source": [
    "## this is the cumulative cases and start with 2020-01-22, the diff will give the results from 2020-01-23\n",
    "dates = pd.date_range(start='2020-01-23', periods=344)"
   ]
  },
  {
   "cell_type": "code",
   "execution_count": 4,
   "id": "6d3c84f2",
   "metadata": {},
   "outputs": [],
   "source": [
    "# df_fips_sorted.to_csv('fips_sorted.cvs',index=False)\n",
    "df_fips_sorted = pd.read_csv('fips_sorted.cvs')"
   ]
  },
  {
   "cell_type": "code",
   "execution_count": null,
   "id": "30b0db8d",
   "metadata": {},
   "outputs": [],
   "source": [
    "df_incidence_to_concat = []\n",
    "for fip_i in range(3108): #\n",
    "    print(fip_i)\n",
    "    cases_i = cases_sorted.iloc[fip_i,11:356].values\n",
    "    col_name = cases_sorted.iloc[fip_i,0]\n",
    "    temp = col_name-84000000\n",
    "    temp2 = df_fips_sorted.iloc[fip_i].values\n",
    "    if temp != temp2[0]:\n",
    "        print(fip_i, temp, temp2[0])\n",
    "    column_name = str(temp) \n",
    "    daily_cases = np.diff(cases_i) \n",
    "    \n",
    "    daily_cases[daily_cases<0] = 0\n",
    "    df_cases = pd.DataFrame(daily_cases, index=dates, columns=[column_name])\n",
    "    df_cases.index.name = 'Date'\n",
    "    df_incidence_to_concat.append(df_cases)\n",
    "df_incidence = pd.concat(df_incidence_to_concat, axis=1)\n",
    "# "
   ]
  },
  {
   "cell_type": "code",
   "execution_count": 13,
   "id": "37e906e5",
   "metadata": {},
   "outputs": [],
   "source": [
    "df_incidence.to_csv('us_mainland_incidence.csv',index=True)"
   ]
  },
  {
   "cell_type": "code",
   "execution_count": 36,
   "id": "c5a9a43a",
   "metadata": {},
   "outputs": [],
   "source": [
    "R_median = pd.read_csv('EpiEstim_R_median.csv')\n",
    "R_median['Date'] = dates[7:]"
   ]
  },
  {
   "cell_type": "code",
   "execution_count": 37,
   "id": "7e67060d",
   "metadata": {},
   "outputs": [],
   "source": [
    "R_median.to_csv('df_EpiEstim_R_median.csv',index=False)"
   ]
  },
  {
   "cell_type": "code",
   "execution_count": 15,
   "id": "babf1c07",
   "metadata": {},
   "outputs": [],
   "source": [
    "ny_R = pd.read_csv('test_ny.csv')\n",
    "ny_R['Date'] = dates[7:]"
   ]
  },
  {
   "cell_type": "code",
   "execution_count": 17,
   "id": "0b94410d",
   "metadata": {},
   "outputs": [
    {
     "data": {
      "text/plain": [
       "Index(['Unnamed: 0', 't_start', 't_end', 'Mean(R)', 'Std(R)',\n",
       "       'Quantile.0.025(R)', 'Quantile.0.05(R)', 'Quantile.0.25(R)',\n",
       "       'Median(R)', 'Quantile.0.75(R)', 'Quantile.0.95(R)',\n",
       "       'Quantile.0.975(R)'],\n",
       "      dtype='object')"
      ]
     },
     "execution_count": 17,
     "metadata": {},
     "output_type": "execute_result"
    }
   ],
   "source": [
    "ny_R.columns"
   ]
  },
  {
   "cell_type": "code",
   "execution_count": 16,
   "id": "e2576d38",
   "metadata": {},
   "outputs": [],
   "source": [
    "ny_R.set_index('Date',inplace=True)"
   ]
  },
  {
   "cell_type": "code",
   "execution_count": 19,
   "id": "e4b22d5f",
   "metadata": {},
   "outputs": [
    {
     "data": {
      "image/png": "[encoded data removed]",
      "text/plain": [
       "<Figure size 1200x400 with 1 Axes>"
      ]
     },
     "metadata": {},
     "output_type": "display_data"
    }
   ],
   "source": [
    "fig, ax = plt.subplots(1,1, figsize=(12, 4))\n",
    "\n",
    "ny_R.loc[:,'Mean(R)'].plot(ax=ax, color='red')\n",
    "ax.fill_between(ny_R.index, \n",
    "                    ny_R['Quantile.0.025(R)'], \n",
    "                    ny_R['Quantile.0.975(R)'], \n",
    "                    color='red', alpha=0.2)\n",
    "ax.set_xlabel('date')\n",
    "ax.set_ylabel('R(t) with 95%-CI')\n",
    "# ax.set_ylim([0,3])\n",
    "ax.axhline(y=1)\n",
    "ax.set_title('Estimate of time-varying effective reproduction number')\n",
    "plt.show()"
   ]
  },
  {
   "cell_type": "code",
   "execution_count": 28,
   "id": "2db00a78",
   "metadata": {},
   "outputs": [
    {
     "data": {
      "text/html": [
       "<div>\n",
       "<style scoped>\n",
       "    .dataframe tbody tr th:only-of-type {\n",
       "        vertical-align: middle;\n",
       "    }\n",
       "\n",
       "    .dataframe tbody tr th {\n",
       "        vertical-align: top;\n",
       "    }\n",
       "\n",
       "    .dataframe thead th {\n",
       "        text-align: right;\n",
       "    }\n",
       "</style>\n",
       "<table border=\"1\" class=\"dataframe\">\n",
       "  <thead>\n",
       "    <tr style=\"text-align: right;\">\n",
       "      <th></th>\n",
       "      <th>Unnamed: 0</th>\n",
       "      <th>t_start</th>\n",
       "      <th>t_end</th>\n",
       "      <th>Mean(R)</th>\n",
       "      <th>Std(R)</th>\n",
       "      <th>Quantile.0.025(R)</th>\n",
       "      <th>Quantile.0.05(R)</th>\n",
       "      <th>Quantile.0.25(R)</th>\n",
       "      <th>Median(R)</th>\n",
       "      <th>Quantile.0.75(R)</th>\n",
       "      <th>Quantile.0.95(R)</th>\n",
       "      <th>Quantile.0.975(R)</th>\n",
       "    </tr>\n",
       "    <tr>\n",
       "      <th>Date</th>\n",
       "      <th></th>\n",
       "      <th></th>\n",
       "      <th></th>\n",
       "      <th></th>\n",
       "      <th></th>\n",
       "      <th></th>\n",
       "      <th></th>\n",
       "      <th></th>\n",
       "      <th></th>\n",
       "      <th></th>\n",
       "      <th></th>\n",
       "      <th></th>\n",
       "    </tr>\n",
       "  </thead>\n",
       "  <tbody>\n",
       "    <tr>\n",
       "      <th>2020-02-29</th>\n",
       "      <td>31</td>\n",
       "      <td>32</td>\n",
       "      <td>38</td>\n",
       "      <td>5.000000</td>\n",
       "      <td>5.000000</td>\n",
       "      <td>0.126589</td>\n",
       "      <td>0.256466</td>\n",
       "      <td>1.438410</td>\n",
       "      <td>3.465736</td>\n",
       "      <td>6.931472</td>\n",
       "      <td>14.978661</td>\n",
       "      <td>18.444397</td>\n",
       "    </tr>\n",
       "    <tr>\n",
       "      <th>2020-03-01</th>\n",
       "      <td>32</td>\n",
       "      <td>33</td>\n",
       "      <td>39</td>\n",
       "      <td>5.000000</td>\n",
       "      <td>5.000000</td>\n",
       "      <td>0.126589</td>\n",
       "      <td>0.256466</td>\n",
       "      <td>1.438410</td>\n",
       "      <td>3.465736</td>\n",
       "      <td>6.931472</td>\n",
       "      <td>14.978661</td>\n",
       "      <td>18.444397</td>\n",
       "    </tr>\n",
       "    <tr>\n",
       "      <th>2020-03-02</th>\n",
       "      <td>33</td>\n",
       "      <td>34</td>\n",
       "      <td>40</td>\n",
       "      <td>5.000000</td>\n",
       "      <td>5.000000</td>\n",
       "      <td>0.126589</td>\n",
       "      <td>0.256466</td>\n",
       "      <td>1.438410</td>\n",
       "      <td>3.465736</td>\n",
       "      <td>6.931472</td>\n",
       "      <td>14.978661</td>\n",
       "      <td>18.444397</td>\n",
       "    </tr>\n",
       "    <tr>\n",
       "      <th>2020-03-03</th>\n",
       "      <td>34</td>\n",
       "      <td>35</td>\n",
       "      <td>41</td>\n",
       "      <td>5.000000</td>\n",
       "      <td>5.000000</td>\n",
       "      <td>0.126589</td>\n",
       "      <td>0.256466</td>\n",
       "      <td>1.438410</td>\n",
       "      <td>3.465736</td>\n",
       "      <td>6.931472</td>\n",
       "      <td>14.978661</td>\n",
       "      <td>18.444397</td>\n",
       "    </tr>\n",
       "    <tr>\n",
       "      <th>2020-03-04</th>\n",
       "      <td>35</td>\n",
       "      <td>36</td>\n",
       "      <td>42</td>\n",
       "      <td>5.000000</td>\n",
       "      <td>5.000000</td>\n",
       "      <td>0.126589</td>\n",
       "      <td>0.256466</td>\n",
       "      <td>1.438410</td>\n",
       "      <td>3.465736</td>\n",
       "      <td>6.931472</td>\n",
       "      <td>14.978661</td>\n",
       "      <td>18.444397</td>\n",
       "    </tr>\n",
       "    <tr>\n",
       "      <th>2020-03-05</th>\n",
       "      <td>36</td>\n",
       "      <td>37</td>\n",
       "      <td>43</td>\n",
       "      <td>10.000000</td>\n",
       "      <td>7.071068</td>\n",
       "      <td>1.211046</td>\n",
       "      <td>1.776808</td>\n",
       "      <td>4.806394</td>\n",
       "      <td>8.391735</td>\n",
       "      <td>13.463173</td>\n",
       "      <td>23.719323</td>\n",
       "      <td>27.858217</td>\n",
       "    </tr>\n",
       "    <tr>\n",
       "      <th>2020-03-06</th>\n",
       "      <td>37</td>\n",
       "      <td>38</td>\n",
       "      <td>44</td>\n",
       "      <td>11.695871</td>\n",
       "      <td>6.752614</td>\n",
       "      <td>2.411970</td>\n",
       "      <td>3.187871</td>\n",
       "      <td>6.734090</td>\n",
       "      <td>10.425154</td>\n",
       "      <td>15.284172</td>\n",
       "      <td>24.544929</td>\n",
       "      <td>28.166337</td>\n",
       "    </tr>\n",
       "    <tr>\n",
       "      <th>2020-03-07</th>\n",
       "      <td>38</td>\n",
       "      <td>39</td>\n",
       "      <td>45</td>\n",
       "      <td>12.218072</td>\n",
       "      <td>4.988007</td>\n",
       "      <td>4.483817</td>\n",
       "      <td>5.321000</td>\n",
       "      <td>8.591767</td>\n",
       "      <td>11.546406</td>\n",
       "      <td>15.115184</td>\n",
       "      <td>21.408169</td>\n",
       "      <td>23.760753</td>\n",
       "    </tr>\n",
       "    <tr>\n",
       "      <th>2020-03-08</th>\n",
       "      <td>39</td>\n",
       "      <td>40</td>\n",
       "      <td>46</td>\n",
       "      <td>5.858972</td>\n",
       "      <td>2.391915</td>\n",
       "      <td>2.150139</td>\n",
       "      <td>2.551597</td>\n",
       "      <td>4.120038</td>\n",
       "      <td>5.536886</td>\n",
       "      <td>7.248233</td>\n",
       "      <td>10.265929</td>\n",
       "      <td>11.394071</td>\n",
       "    </tr>\n",
       "    <tr>\n",
       "      <th>2020-03-09</th>\n",
       "      <td>40</td>\n",
       "      <td>41</td>\n",
       "      <td>47</td>\n",
       "      <td>3.158816</td>\n",
       "      <td>1.289581</td>\n",
       "      <td>1.159230</td>\n",
       "      <td>1.375672</td>\n",
       "      <td>2.221285</td>\n",
       "      <td>2.985166</td>\n",
       "      <td>3.907825</td>\n",
       "      <td>5.534791</td>\n",
       "      <td>6.143019</td>\n",
       "    </tr>\n",
       "  </tbody>\n",
       "</table>\n",
       "</div>"
      ],
      "text/plain": [
       "            Unnamed: 0  t_start  t_end    Mean(R)    Std(R)  \\\n",
       "Date                                                          \n",
       "2020-02-29          31       32     38   5.000000  5.000000   \n",
       "2020-03-01          32       33     39   5.000000  5.000000   \n",
       "2020-03-02          33       34     40   5.000000  5.000000   \n",
       "2020-03-03          34       35     41   5.000000  5.000000   \n",
       "2020-03-04          35       36     42   5.000000  5.000000   \n",
       "2020-03-05          36       37     43  10.000000  7.071068   \n",
       "2020-03-06          37       38     44  11.695871  6.752614   \n",
       "2020-03-07          38       39     45  12.218072  4.988007   \n",
       "2020-03-08          39       40     46   5.858972  2.391915   \n",
       "2020-03-09          40       41     47   3.158816  1.289581   \n",
       "\n",
       "            Quantile.0.025(R)  Quantile.0.05(R)  Quantile.0.25(R)  Median(R)  \\\n",
       "Date                                                                           \n",
       "2020-02-29           0.126589          0.256466          1.438410   3.465736   \n",
       "2020-03-01           0.126589          0.256466          1.438410   3.465736   \n",
       "2020-03-02           0.126589          0.256466          1.438410   3.465736   \n",
       "2020-03-03           0.126589          0.256466          1.438410   3.465736   \n",
       "2020-03-04           0.126589          0.256466          1.438410   3.465736   \n",
       "2020-03-05           1.211046          1.776808          4.806394   8.391735   \n",
       "2020-03-06           2.411970          3.187871          6.734090  10.425154   \n",
       "2020-03-07           4.483817          5.321000          8.591767  11.546406   \n",
       "2020-03-08           2.150139          2.551597          4.120038   5.536886   \n",
       "2020-03-09           1.159230          1.375672          2.221285   2.985166   \n",
       "\n",
       "            Quantile.0.75(R)  Quantile.0.95(R)  Quantile.0.975(R)  \n",
       "Date                                                               \n",
       "2020-02-29          6.931472         14.978661          18.444397  \n",
       "2020-03-01          6.931472         14.978661          18.444397  \n",
       "2020-03-02          6.931472         14.978661          18.444397  \n",
       "2020-03-03          6.931472         14.978661          18.444397  \n",
       "2020-03-04          6.931472         14.978661          18.444397  \n",
       "2020-03-05         13.463173         23.719323          27.858217  \n",
       "2020-03-06         15.284172         24.544929          28.166337  \n",
       "2020-03-07         15.115184         21.408169          23.760753  \n",
       "2020-03-08          7.248233         10.265929          11.394071  \n",
       "2020-03-09          3.907825          5.534791           6.143019  "
      ]
     },
     "execution_count": 28,
     "metadata": {},
     "output_type": "execute_result"
    }
   ],
   "source": [
    "ny_R[30:40]"
   ]
  },
  {
   "cell_type": "code",
   "execution_count": 11,
   "id": "9c8ad7a1",
   "metadata": {},
   "outputs": [
    {
     "data": {
      "text/plain": [
       "Index(['1/22/20', '1/23/20', '1/24/20', '1/25/20', '1/26/20', '1/27/20',\n",
       "       '1/28/20', '1/29/20', '1/30/20', '1/31/20',\n",
       "       ...\n",
       "       '12/22/20', '12/23/20', '12/24/20', '12/25/20', '12/26/20', '12/27/20',\n",
       "       '12/28/20', '12/29/20', '12/30/20', '12/31/20'],\n",
       "      dtype='object', length=345)"
      ]
     },
     "execution_count": 11,
     "metadata": {},
     "output_type": "execute_result"
    }
   ],
   "source": [
    "cases.columns[11:356] "
   ]
  },
  {
   "cell_type": "code",
   "execution_count": 6,
   "id": "f030e908",
   "metadata": {},
   "outputs": [],
   "source": [
    "fips_main = pd.read_csv(real_data_path+'county_data/fips_mainland.csv',names=['FIPS'])\n",
    "df_fips_sorted = fips_main.sort_values(by='FIPS')"
   ]
  },
  {
   "cell_type": "code",
   "execution_count": 40,
   "id": "1479c5a0",
   "metadata": {},
   "outputs": [],
   "source": [
    "si_distrb = covid19.generate_standard_si_distribution()"
   ]
  },
  {
   "cell_type": "code",
   "execution_count": 6,
   "id": "5bdbea0d",
   "metadata": {},
   "outputs": [
    {
     "data": {
      "text/plain": [
       "<BarContainer object of 18 artists>"
      ]
     },
     "execution_count": 6,
     "metadata": {},
     "output_type": "execute_result"
    },
    {
     "data": {
      "image/png": "[encoded data removed]",
      "text/plain": [
       "<Figure size 600x300 with 1 Axes>"
      ]
     },
     "metadata": {},
     "output_type": "display_data"
    }
   ],
   "source": [
    "fig = plt.figure( figsize=(6,3))\n",
    "plt.bar(range(18),si_distrb,width=1,label='paper',alpha=0.7,color='red')"
   ]
  },
  {
   "cell_type": "code",
   "execution_count": 49,
   "id": "a83c9558",
   "metadata": {},
   "outputs": [],
   "source": [
    "# df_Rmean = df_Rmean.copy()"
   ]
  },
  {
   "cell_type": "code",
   "execution_count": 30,
   "id": "602e72b0",
   "metadata": {},
   "outputs": [],
   "source": [
    "df_Rmean = pd.concat(dataframes_to_concat, axis=1)"
   ]
  },
  {
   "cell_type": "code",
   "execution_count": 49,
   "id": "04d6ceb8",
   "metadata": {},
   "outputs": [],
   "source": [
    "df_R_95 = pd.concat(dataframes_to_concat_std, axis=1)"
   ]
  },
  {
   "cell_type": "code",
   "execution_count": 50,
   "id": "63842f6b",
   "metadata": {},
   "outputs": [],
   "source": [
    "# df_Rmean.to_csv('df_Rmean_full.csv')\n",
    "df_R_95.to_csv('df_R_975_full.csv')"
   ]
  },
  {
   "cell_type": "code",
   "execution_count": 37,
   "id": "b3d7ae5a",
   "metadata": {},
   "outputs": [
    {
     "data": {
      "text/plain": [
       "(array([1824]),)"
      ]
     },
     "execution_count": 37,
     "metadata": {},
     "output_type": "execute_result"
    }
   ],
   "source": [
    "np.where(df_Rmean.columns.values == '36061_R_mean')"
   ]
  },
  {
   "cell_type": "code",
   "execution_count": null,
   "id": "c0a2cee2",
   "metadata": {},
   "outputs": [],
   "source": []
  }
 ],
 "metadata": {
  "kernelspec": {
   "display_name": "gnn",
   "language": "python",
   "name": "gnn"
  },
  "language_info": {
   "codemirror_mode": {
    "name": "ipython",
    "version": 3
   },
   "file_extension": ".py",
   "mimetype": "text/x-python",
   "name": "python",
   "nbconvert_exporter": "python",
   "pygments_lexer": "ipython3",
   "version": "3.11.4"
  }
 },
 "nbformat": 4,
 "nbformat_minor": 5
}
