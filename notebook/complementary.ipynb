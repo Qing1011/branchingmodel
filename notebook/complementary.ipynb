{
 "cells": [
  {
   "cell_type": "code",
   "execution_count": 1,
   "id": "850b56d5",
   "metadata": {},
   "outputs": [],
   "source": [
    "import numpy as np\n",
    "import matplotlib.pyplot as plt\n",
    "from scipy.io import loadmat, savemat\n",
    "import pandas as pd\n",
    "import scipy.special as SS\n",
    "import scipy.stats as SSA\n",
    "import copy\n",
    "import random\n",
    "import math\n",
    "from sklearn.model_selection import ParameterGrid\n",
    "import os\n",
    "import numpy.linalg as LA\n",
    "import gzip\n",
    "\n",
    "# load pickle module\n",
    "import pickle"
   ]
  },
  {
   "cell_type": "code",
   "execution_count": 26,
   "id": "38be199a",
   "metadata": {},
   "outputs": [],
   "source": [
    "file_dir = '../../../../../../Volumes/My Passport/branching/individual/'"
   ]
  },
  {
   "cell_type": "code",
   "execution_count": null,
   "id": "3dcfcfd3",
   "metadata": {},
   "outputs": [],
   "source": [
    "R0 = 2.4\n",
    "r = 0.11\n",
    "temp = np.zeros((500,3142,60))\n",
    "for e in range(1,50):\n",
    "    print(e)\n",
    "    file_name = file_dir + \"NewInf_R0-{}_r-{}_{}.npy.gz\" .format(np.round(R0,2),np.round(r,2),e)\n",
    "    f = gzip.GzipFile(file_name, \"r\")\n",
    "    xx = np.load(f)\n",
    "    s_idx = (e-1)*10\n",
    "    e_idx = e*10\n",
    "    s = list(range(s_idx,e_idx))\n",
    "    temp[s,:,:] = xx[10,:,:]"
   ]
  },
  {
   "cell_type": "code",
   "execution_count": 8,
   "id": "6efd7424",
   "metadata": {},
   "outputs": [],
   "source": [
    "f = gzip.GzipFile(\"NewInf_R0-{}_r-{}.npy.gz\" .format(np.round(R0,2),np.round(r,2)), \"w\")\n",
    "np.save(file=f, arr=temp)\n",
    "f.close()"
   ]
  },
  {
   "cell_type": "code",
   "execution_count": 12,
   "id": "cd536c4f",
   "metadata": {},
   "outputs": [],
   "source": [
    "temp[list(range(100)),:,:] = xx"
   ]
  },
  {
   "cell_type": "code",
   "execution_count": null,
   "id": "a03b9f1e",
   "metadata": {},
   "outputs": [],
   "source": [
    "R0 = 2.3\n",
    "r = 0.11\n",
    "\n",
    "# file_name1 = file_dir1 + \"NewInf_R0-{}_r-{}.npy.gz\" .format(np.round(R0,2),np.round(r,2),e)\n",
    "# f1 = gzip.GzipFile(file_name1, \"r\")\n",
    "# xx = np.load(f1)\n",
    "\n",
    "file_name2 = file_dir2 + \"NewInf_R0-{}_r-{}.npy.gz\" .format(np.round(R0,2),np.round(r,2),e+1)\n",
    "f2 = gzip.GzipFile(file_name2, \"r\")\n",
    "yy = np.load(f2)"
   ]
  },
  {
   "cell_type": "code",
   "execution_count": 21,
   "id": "43e18e58",
   "metadata": {},
   "outputs": [],
   "source": [
    "file_dir1 = '../../../../../../Volumes/My Passport/branching/results_ic_300/'\n",
    "\n",
    "file_dir2 = '../../../../../../Volumes/My Passport/branching/branching_results500/'"
   ]
  },
  {
   "cell_type": "code",
   "execution_count": 33,
   "id": "ace7f399",
   "metadata": {},
   "outputs": [],
   "source": [
    "R0 = 2.3\n",
    "r = 0.13\n",
    "e = 1\n",
    "\n",
    "file_name1 = file_dir + \"NewInf_R0-{}_r-{}_{}.npy.gz\" .format(np.round(R0,2),np.round(r,2),e)\n",
    "f1 = gzip.GzipFile(file_name1, \"r\")\n",
    "xx = np.load(f1)\n",
    "\n",
    "file_name2 = file_dir + \"NewInf_R0-{}_r-{}_{}.npy.gz\" .format(np.round(R0,2),np.round(r,2),e+1)\n",
    "f2 = gzip.GzipFile(file_name2, \"r\")\n",
    "yy = np.load(f2)"
   ]
  },
  {
   "cell_type": "code",
   "execution_count": 35,
   "id": "a70dc077",
   "metadata": {},
   "outputs": [
    {
     "data": {
      "text/plain": [
       "186173"
      ]
     },
     "execution_count": 35,
     "metadata": {},
     "output_type": "execute_result"
    }
   ],
   "source": [
    "np.sum(yy[10,:,:] == xx[10,:,:])"
   ]
  },
  {
   "cell_type": "code",
   "execution_count": 25,
   "id": "5012d9b4",
   "metadata": {},
   "outputs": [
    {
     "data": {
      "text/plain": [
       "188520"
      ]
     },
     "execution_count": 25,
     "metadata": {},
     "output_type": "execute_result"
    }
   ],
   "source": [
    "3142*60"
   ]
  },
  {
   "cell_type": "code",
   "execution_count": null,
   "id": "965ef204",
   "metadata": {},
   "outputs": [],
   "source": []
  }
 ],
 "metadata": {
  "kernelspec": {
   "display_name": "Python 3 (ipykernel)",
   "language": "python",
   "name": "python3"
  },
  "language_info": {
   "codemirror_mode": {
    "name": "ipython",
    "version": 3
   },
   "file_extension": ".py",
   "mimetype": "text/x-python",
   "name": "python",
   "nbconvert_exporter": "python",
   "pygments_lexer": "ipython3",
   "version": "3.9.7"
  }
 },
 "nbformat": 4,
 "nbformat_minor": 5
}
