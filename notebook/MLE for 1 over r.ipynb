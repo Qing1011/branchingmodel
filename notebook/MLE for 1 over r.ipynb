{
 "cells": [
  {
   "cell_type": "code",
   "execution_count": 1,
   "id": "f8e79991",
   "metadata": {},
   "outputs": [],
   "source": [
    "import numpy as np\n",
    "import matplotlib.pyplot as plt\n",
    "from scipy.io import loadmat, savemat\n",
    "import pandas as pd\n",
    "import scipy.special as SS\n",
    "import scipy.stats as SSA\n",
    "import copy\n",
    "import random\n",
    "import math\n",
    "from sklearn.model_selection import ParameterGrid\n",
    "import os\n",
    "import numpy.linalg as LA\n",
    "import gzip\n",
    "\n",
    "# load pickle module\n",
    "import pickle"
   ]
  },
  {
   "cell_type": "code",
   "execution_count": 2,
   "id": "31b01207",
   "metadata": {},
   "outputs": [],
   "source": [
    "pop = np.loadtxt('pop_new.csv')"
   ]
  },
  {
   "cell_type": "code",
   "execution_count": 3,
   "id": "58069458",
   "metadata": {},
   "outputs": [],
   "source": [
    "R0 = 2.4\n",
    "rs = np.arange(0.01, 1, 0.02)"
   ]
  },
  {
   "cell_type": "code",
   "execution_count": 4,
   "id": "462dae67",
   "metadata": {},
   "outputs": [
    {
     "data": {
      "text/plain": [
       "array([0.01, 0.03, 0.05, 0.07, 0.09, 0.11, 0.13, 0.15, 0.17, 0.19, 0.21,\n",
       "       0.23, 0.25, 0.27, 0.29, 0.31, 0.33, 0.35, 0.37, 0.39, 0.41, 0.43,\n",
       "       0.45, 0.47, 0.49, 0.51, 0.53, 0.55, 0.57, 0.59, 0.61, 0.63, 0.65,\n",
       "       0.67, 0.69, 0.71, 0.73, 0.75, 0.77, 0.79, 0.81, 0.83, 0.85, 0.87,\n",
       "       0.89, 0.91, 0.93, 0.95, 0.97, 0.99])"
      ]
     },
     "execution_count": 4,
     "metadata": {},
     "output_type": "execute_result"
    }
   ],
   "source": [
    "rs"
   ]
  },
  {
   "cell_type": "code",
   "execution_count": 5,
   "id": "e974f692",
   "metadata": {},
   "outputs": [
    {
     "data": {
      "text/plain": [
       "<matplotlib.lines.Line2D at 0x7ff15384c220>"
      ]
     },
     "execution_count": 5,
     "metadata": {},
     "output_type": "execute_result"
    },
    {
     "data": {
      "image/png": "[encoded data removed]",
      "text/plain": [
       "<Figure size 432x288 with 1 Axes>"
      ]
     },
     "metadata": {
      "needs_background": "light"
     },
     "output_type": "display_data"
    }
   ],
   "source": [
    "plt.scatter(range(50),1/rs)\n",
    "# plt.ylim(0,40)\n",
    "plt.axhline(100)\n",
    "plt.axhline(40)\n",
    "plt.axhline(30)\n",
    "plt.axhline(20)\n",
    "plt.axhline(10)\n",
    "plt.axhline(5)\n",
    "plt.axhline(2)"
   ]
  },
  {
   "cell_type": "code",
   "execution_count": 20,
   "id": "ae709ce6",
   "metadata": {},
   "outputs": [
    {
     "data": {
      "text/plain": [
       "[0.01, 0.025, 0.03333333333333333, 0.05, 0.1, 0.2, 0.5, 1.0]"
      ]
     },
     "execution_count": 20,
     "metadata": {},
     "output_type": "execute_result"
    }
   ],
   "source": [
    "[1/100,1/40,1/30,1/20,1/10,1/5,1/2,1/1]"
   ]
  },
  {
   "cell_type": "code",
   "execution_count": null,
   "id": "bb28e6d9",
   "metadata": {},
   "outputs": [],
   "source": [
    "[0.01, 0.03, 0.05, 0.07, 0.09, 0.11, 0.13, 0.15, 0.17, 0.19, 0.21,\n",
    "       0.23, 0.25, 0.27, 0.29, 0.31, 0.33, 0.35, 0.37, 0.39, 0.41, 0.43,\n",
    "       0.45, 0.47, 0.49, 0.51, 0.53, 0.55, 0.57, 0.59, 0.61, 0.63, 0.65,\n",
    "       0.67, 0.69, 0.71, 0.73, 0.75, 0.77, 0.79, 0.81, 0.83, 0.85, 0.87,\n",
    "       0.89, 0.91, 0.93, 0.95, 0.97, 0.99]"
   ]
  },
  {
   "cell_type": "code",
   "execution_count": 9,
   "id": "0354d035",
   "metadata": {},
   "outputs": [
    {
     "data": {
      "image/png": "[encoded data removed]",
      "text/plain": [
       "<Figure size 432x288 with 1 Axes>"
      ]
     },
     "metadata": {
      "needs_background": "light"
     },
     "output_type": "display_data"
    }
   ],
   "source": [
    "plt.scatter(range(50)[0], 1/rs[0])\n",
    "plt.scatter(range(50)[1], 1/rs[1])\n",
    "plt.scatter(range(50)[2], 1/rs[2])\n",
    "plt.scatter(range(50)[3:5], 1/rs[3:5])\n",
    "# plt.scatter(range(50)[5:25], 1/rs[5:25])\n",
    "# plt.scatter(range(50)[10:25], 1/rs[10:25])\n",
    "plt.scatter(range(50)[5:], 1/rs[5:])\n",
    "plt.axhline(100)\n",
    "plt.axhline(40)\n",
    "plt.axhline(30)\n",
    "plt.axhline(20)\n",
    "plt.axhline(10)\n",
    "# plt.axhline(5)\n",
    "# plt.axhline(2)\n",
    "plt.yscale('log')"
   ]
  },
  {
   "cell_type": "code",
   "execution_count": 6,
   "id": "c6a4b53b",
   "metadata": {},
   "outputs": [],
   "source": [
    "def LE(obser, para, std_para):\n",
    "    loguhflikelihood=0\n",
    "    likelihood=SSA.norm.pdf(obser,loc=para,scale=std_para)\n",
    "    likelihood[likelihood==0]=0.0000001\n",
    "    loguhflikelihood+=np.sum(np.log(likelihood))#取对数并求和\n",
    "    return loguhflikelihood"
   ]
  },
  {
   "cell_type": "code",
   "execution_count": null,
   "id": "c31d898b",
   "metadata": {},
   "outputs": [],
   "source": [
    "### how to infer a span of r "
   ]
  }
 ],
 "metadata": {
  "kernelspec": {
   "display_name": "Python 3 (ipykernel)",
   "language": "python",
   "name": "python3"
  },
  "language_info": {
   "codemirror_mode": {
    "name": "ipython",
    "version": 3
   },
   "file_extension": ".py",
   "mimetype": "text/x-python",
   "name": "python",
   "nbconvert_exporter": "python",
   "pygments_lexer": "ipython3",
   "version": "3.10.9"
  }
 },
 "nbformat": 4,
 "nbformat_minor": 5
}
