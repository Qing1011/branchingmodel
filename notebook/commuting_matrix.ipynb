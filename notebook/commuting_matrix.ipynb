{
 "cells": [
  {
   "cell_type": "code",
   "execution_count": 17,
   "id": "dd7b3ea1",
   "metadata": {},
   "outputs": [],
   "source": [
    "import numpy as np\n",
    "import matplotlib.pyplot as plt\n",
    "from scipy.io import loadmat, savemat\n",
    "import pandas as pd"
   ]
  },
  {
   "cell_type": "code",
   "execution_count": 2,
   "id": "0e417913",
   "metadata": {},
   "outputs": [],
   "source": [
    "M = loadmat('../data/M.mat') ### dictionary"
   ]
  },
  {
   "cell_type": "code",
   "execution_count": 6,
   "id": "5f039297",
   "metadata": {},
   "outputs": [
    {
     "data": {
      "text/plain": [
       "['__header__', '__version__', '__globals__', 'M']"
      ]
     },
     "execution_count": 6,
     "metadata": {},
     "output_type": "execute_result"
    }
   ],
   "source": [
    "list(M.keys())"
   ]
  },
  {
   "cell_type": "code",
   "execution_count": 12,
   "id": "f9d4a534",
   "metadata": {},
   "outputs": [],
   "source": [
    "Mij = M['M']"
   ]
  },
  {
   "cell_type": "code",
   "execution_count": 15,
   "id": "5d0f2059",
   "metadata": {},
   "outputs": [
    {
     "data": {
      "text/plain": [
       "12"
      ]
     },
     "execution_count": 15,
     "metadata": {},
     "output_type": "execute_result"
    }
   ],
   "source": [
    "Mij[2,1]"
   ]
  },
  {
   "cell_type": "code",
   "execution_count": 16,
   "id": "9fb644c7",
   "metadata": {},
   "outputs": [
    {
     "data": {
      "text/plain": [
       "array([   0,   12, 6478, ...,    0,    0,    0], dtype=int32)"
      ]
     },
     "execution_count": 16,
     "metadata": {},
     "output_type": "execute_result"
    }
   ],
   "source": [
    "Mij[2]"
   ]
  },
  {
   "cell_type": "code",
   "execution_count": 35,
   "id": "b895accf",
   "metadata": {},
   "outputs": [],
   "source": [
    "raw_info = pd.read_csv('../data/commuting_allinfo.csv',dtype=object,encoding='cp1252')"
   ]
  },
  {
   "cell_type": "code",
   "execution_count": 36,
   "id": "34cc32bc",
   "metadata": {},
   "outputs": [
    {
     "data": {
      "text/html": [
       "<div>\n",
       "<style scoped>\n",
       "    .dataframe tbody tr th:only-of-type {\n",
       "        vertical-align: middle;\n",
       "    }\n",
       "\n",
       "    .dataframe tbody tr th {\n",
       "        vertical-align: top;\n",
       "    }\n",
       "\n",
       "    .dataframe thead th {\n",
       "        text-align: right;\n",
       "    }\n",
       "</style>\n",
       "<table border=\"1\" class=\"dataframe\">\n",
       "  <thead>\n",
       "    <tr style=\"text-align: right;\">\n",
       "      <th></th>\n",
       "      <th>State FIPS Code</th>\n",
       "      <th>County FIPS Code</th>\n",
       "      <th>State Name</th>\n",
       "      <th>County Name</th>\n",
       "      <th>Metropolitan Statistical Area FIPS Code</th>\n",
       "      <th>Metropolitan Statistical Area  of County</th>\n",
       "      <th>State FIPS Code.1</th>\n",
       "      <th>County FIPS Code.1</th>\n",
       "      <th>State Name.1</th>\n",
       "      <th>County Name.1</th>\n",
       "      <th>Metropolitan Statistical Area FIPS Code.1</th>\n",
       "      <th>Metropolitan Statistical Area of County</th>\n",
       "      <th>Workers in Commuting Flow</th>\n",
       "      <th>Margin of Error</th>\n",
       "    </tr>\n",
       "  </thead>\n",
       "  <tbody>\n",
       "    <tr>\n",
       "      <th>0</th>\n",
       "      <td>01</td>\n",
       "      <td>001</td>\n",
       "      <td>Alabama</td>\n",
       "      <td>Autauga County</td>\n",
       "      <td>33860</td>\n",
       "      <td>Montgomery, AL</td>\n",
       "      <td>001</td>\n",
       "      <td>001</td>\n",
       "      <td>Alabama</td>\n",
       "      <td>Autauga County</td>\n",
       "      <td>33860</td>\n",
       "      <td>Montgomery, AL</td>\n",
       "      <td>8,635</td>\n",
       "      <td>597</td>\n",
       "    </tr>\n",
       "    <tr>\n",
       "      <th>1</th>\n",
       "      <td>01</td>\n",
       "      <td>001</td>\n",
       "      <td>Alabama</td>\n",
       "      <td>Autauga County</td>\n",
       "      <td>33860</td>\n",
       "      <td>Montgomery, AL</td>\n",
       "      <td>001</td>\n",
       "      <td>007</td>\n",
       "      <td>Alabama</td>\n",
       "      <td>Bibb County</td>\n",
       "      <td>13820</td>\n",
       "      <td>Birmingham-Hoover, AL</td>\n",
       "      <td>16</td>\n",
       "      <td>23</td>\n",
       "    </tr>\n",
       "    <tr>\n",
       "      <th>2</th>\n",
       "      <td>01</td>\n",
       "      <td>001</td>\n",
       "      <td>Alabama</td>\n",
       "      <td>Autauga County</td>\n",
       "      <td>33860</td>\n",
       "      <td>Montgomery, AL</td>\n",
       "      <td>001</td>\n",
       "      <td>013</td>\n",
       "      <td>Alabama</td>\n",
       "      <td>Butler County</td>\n",
       "      <td>NaN</td>\n",
       "      <td>NaN</td>\n",
       "      <td>4</td>\n",
       "      <td>7</td>\n",
       "    </tr>\n",
       "    <tr>\n",
       "      <th>3</th>\n",
       "      <td>01</td>\n",
       "      <td>001</td>\n",
       "      <td>Alabama</td>\n",
       "      <td>Autauga County</td>\n",
       "      <td>33860</td>\n",
       "      <td>Montgomery, AL</td>\n",
       "      <td>001</td>\n",
       "      <td>021</td>\n",
       "      <td>Alabama</td>\n",
       "      <td>Chilton County</td>\n",
       "      <td>13820</td>\n",
       "      <td>Birmingham-Hoover, AL</td>\n",
       "      <td>597</td>\n",
       "      <td>251</td>\n",
       "    </tr>\n",
       "    <tr>\n",
       "      <th>4</th>\n",
       "      <td>01</td>\n",
       "      <td>001</td>\n",
       "      <td>Alabama</td>\n",
       "      <td>Autauga County</td>\n",
       "      <td>33860</td>\n",
       "      <td>Montgomery, AL</td>\n",
       "      <td>001</td>\n",
       "      <td>043</td>\n",
       "      <td>Alabama</td>\n",
       "      <td>Cullman County</td>\n",
       "      <td>NaN</td>\n",
       "      <td>NaN</td>\n",
       "      <td>27</td>\n",
       "      <td>42</td>\n",
       "    </tr>\n",
       "  </tbody>\n",
       "</table>\n",
       "</div>"
      ],
      "text/plain": [
       "  State FIPS Code County FIPS Code State Name     County Name  \\\n",
       "0              01              001    Alabama  Autauga County   \n",
       "1              01              001    Alabama  Autauga County   \n",
       "2              01              001    Alabama  Autauga County   \n",
       "3              01              001    Alabama  Autauga County   \n",
       "4              01              001    Alabama  Autauga County   \n",
       "\n",
       "  Metropolitan Statistical Area FIPS Code  \\\n",
       "0                                   33860   \n",
       "1                                   33860   \n",
       "2                                   33860   \n",
       "3                                   33860   \n",
       "4                                   33860   \n",
       "\n",
       "  Metropolitan Statistical Area  of County State FIPS Code.1  \\\n",
       "0                          Montgomery, AL                001   \n",
       "1                          Montgomery, AL                001   \n",
       "2                          Montgomery, AL                001   \n",
       "3                          Montgomery, AL                001   \n",
       "4                          Montgomery, AL                001   \n",
       "\n",
       "  County FIPS Code.1 State Name.1   County Name.1  \\\n",
       "0                001      Alabama  Autauga County   \n",
       "1                007      Alabama     Bibb County   \n",
       "2                013      Alabama   Butler County   \n",
       "3                021      Alabama  Chilton County   \n",
       "4                043      Alabama  Cullman County   \n",
       "\n",
       "  Metropolitan Statistical Area FIPS Code.1  \\\n",
       "0                                     33860   \n",
       "1                                     13820   \n",
       "2                                       NaN   \n",
       "3                                     13820   \n",
       "4                                       NaN   \n",
       "\n",
       "   Metropolitan Statistical Area of County Workers in Commuting Flow  \\\n",
       "0                          Montgomery, AL                      8,635   \n",
       "1                   Birmingham-Hoover, AL                         16   \n",
       "2                                      NaN                         4   \n",
       "3                   Birmingham-Hoover, AL                        597   \n",
       "4                                      NaN                        27   \n",
       "\n",
       "  Margin of Error  \n",
       "0             597  \n",
       "1              23  \n",
       "2               7  \n",
       "3             251  \n",
       "4              42  "
      ]
     },
     "execution_count": 36,
     "metadata": {},
     "output_type": "execute_result"
    }
   ],
   "source": [
    "raw_info.head()"
   ]
  },
  {
   "cell_type": "code",
   "execution_count": 38,
   "id": "48d58eda",
   "metadata": {},
   "outputs": [
    {
     "data": {
      "text/plain": [
       "Index(['State FIPS Code', 'County FIPS Code', 'State Name', 'County Name',\n",
       "       'Metropolitan Statistical Area FIPS Code',\n",
       "       'Metropolitan Statistical Area  of County', 'State FIPS Code.1',\n",
       "       'County FIPS Code.1', 'State Name.1', 'County Name.1',\n",
       "       'Metropolitan Statistical Area FIPS Code.1',\n",
       "       ' Metropolitan Statistical Area of County', 'Workers in Commuting Flow',\n",
       "       'Margin of Error'],\n",
       "      dtype='object')"
      ]
     },
     "execution_count": 38,
     "metadata": {},
     "output_type": "execute_result"
    }
   ],
   "source": [
    "raw_info.columns"
   ]
  },
  {
   "cell_type": "code",
   "execution_count": 41,
   "id": "4becf29e",
   "metadata": {},
   "outputs": [],
   "source": [
    "columns = ['State FIPS Code', 'County FIPS Code', 'State Name', 'County Name',\n",
    "       'Metropolitan Statistical Area FIPS Code',\n",
    "       'Metropolitan Statistical Area  of County', 'State FIPS Code.1',\n",
    "       'County FIPS Code.1', 'State Name.1', 'County Name.1',\n",
    "       'Metropolitan Statistical Area FIPS Code.1',\n",
    "       ' Metropolitan Statistical Area of County', 'Workers in Commuting Flow',\n",
    "       'Margin of Error']"
   ]
  },
  {
   "cell_type": "code",
   "execution_count": 84,
   "id": "78729c69",
   "metadata": {},
   "outputs": [
    {
     "name": "stdout",
     "output_type": "stream",
     "text": [
      "name: State FIPS Code\n",
      "na:  1\n",
      "length of unique:  55\n",
      "_______________\n",
      "name: County FIPS Code\n",
      "na:  3\n",
      "length of unique:  326\n",
      "_______________\n",
      "name: State Name\n",
      "na:  3\n",
      "length of unique:  53\n",
      "_______________\n",
      "name: County Name\n",
      "na:  3\n",
      "length of unique:  1956\n",
      "_______________\n",
      "name: Metropolitan Statistical Area FIPS Code\n",
      "na:  57298\n",
      "length of unique:  394\n",
      "_______________\n",
      "name: Metropolitan Statistical Area  of County\n",
      "na:  57298\n",
      "length of unique:  394\n",
      "_______________\n",
      "name: State FIPS Code.1\n",
      "na:  1200\n",
      "length of unique:  55\n",
      "_______________\n",
      "name: County FIPS Code.1\n",
      "na:  1790\n",
      "length of unique:  326\n",
      "_______________\n",
      "name: State Name.1\n",
      "na:  3\n",
      "length of unique:  56\n",
      "_______________\n",
      "name: County Name.1\n",
      "na:  1790\n",
      "length of unique:  1956\n",
      "_______________\n",
      "name: Metropolitan Statistical Area FIPS Code.1\n",
      "na:  49509\n",
      "length of unique:  394\n",
      "_______________\n"
     ]
    }
   ],
   "source": [
    "for name in columns[:11]:\n",
    "    print('name:', name)\n",
    "    print('na: ', sum(raw_info[name].isna()))\n",
    "    print('length of unique: ', len(set(raw_info[name])))\n",
    "    print(\"_______________\")"
   ]
  },
  {
   "cell_type": "code",
   "execution_count": 86,
   "id": "26e034da",
   "metadata": {},
   "outputs": [],
   "source": [
    "## delete all the nan row\n",
    "county_travel =  raw_info[['State FIPS Code', 'County FIPS Code', 'State Name', 'County Name',\n",
    "        'State FIPS Code.1',\n",
    "       'County FIPS Code.1', 'State Name.1', 'County Name.1',\n",
    "       'Workers in Commuting Flow',\n",
    "       'Margin of Error']]"
   ]
  },
  {
   "cell_type": "code",
   "execution_count": 93,
   "id": "ac57c548",
   "metadata": {},
   "outputs": [],
   "source": [
    "county_travel_cleaned = county_travel.dropna()"
   ]
  },
  {
   "cell_type": "code",
   "execution_count": 99,
   "id": "bd1e45dd",
   "metadata": {},
   "outputs": [],
   "source": [
    "data_types_dict = {'State FIPS Code':np.int32, 'County FIPS Code':np.int32, \n",
    "        'State FIPS Code.1':np.int32,\n",
    "       'County FIPS Code.1':np.int32,\n",
    "       'Workers in Commuting Flow':np.float64,\n",
    "       'Margin of Error':np.float64}"
   ]
  },
  {
   "cell_type": "code",
   "execution_count": 104,
   "id": "64622dd6",
   "metadata": {},
   "outputs": [
    {
     "data": {
      "text/plain": [
       "'01'"
      ]
     },
     "execution_count": 104,
     "metadata": {},
     "output_type": "execute_result"
    }
   ],
   "source": [
    "county_travel_cleaned['State FIPS Code'][0]"
   ]
  },
  {
   "cell_type": "code",
   "execution_count": 105,
   "id": "674594ef",
   "metadata": {},
   "outputs": [],
   "source": [
    "df = pd.DataFrame()\n",
    "for name in ['State FIPS Code', 'County FIPS Code', \n",
    "        'State FIPS Code.1',\n",
    "       'County FIPS Code.1', \n",
    "       'Workers in Commuting Flow',\n",
    "       'Margin of Error']:\n",
    "    df[name] =  county_travel_cleaned[name].str.replace(',', '').astype(float) "
   ]
  },
  {
   "cell_type": "code",
   "execution_count": 110,
   "id": "4ec9d3b5",
   "metadata": {},
   "outputs": [],
   "source": [
    "df['longfips'] = df['State FIPS Code']*1000+df['County FIPS Code']\n",
    "df['longfips1'] = df['State FIPS Code.1']*1000+df['County FIPS Code.1']"
   ]
  },
  {
   "cell_type": "code",
   "execution_count": 111,
   "id": "11ff9eda",
   "metadata": {},
   "outputs": [
    {
     "data": {
      "text/html": [
       "<div>\n",
       "<style scoped>\n",
       "    .dataframe tbody tr th:only-of-type {\n",
       "        vertical-align: middle;\n",
       "    }\n",
       "\n",
       "    .dataframe tbody tr th {\n",
       "        vertical-align: top;\n",
       "    }\n",
       "\n",
       "    .dataframe thead th {\n",
       "        text-align: right;\n",
       "    }\n",
       "</style>\n",
       "<table border=\"1\" class=\"dataframe\">\n",
       "  <thead>\n",
       "    <tr style=\"text-align: right;\">\n",
       "      <th></th>\n",
       "      <th>State FIPS Code</th>\n",
       "      <th>County FIPS Code</th>\n",
       "      <th>State FIPS Code.1</th>\n",
       "      <th>County FIPS Code.1</th>\n",
       "      <th>Workers in Commuting Flow</th>\n",
       "      <th>Margin of Error</th>\n",
       "      <th>longfips</th>\n",
       "      <th>longfips1</th>\n",
       "    </tr>\n",
       "  </thead>\n",
       "  <tbody>\n",
       "    <tr>\n",
       "      <th>0</th>\n",
       "      <td>1.0</td>\n",
       "      <td>1.0</td>\n",
       "      <td>1.0</td>\n",
       "      <td>1.0</td>\n",
       "      <td>8635.0</td>\n",
       "      <td>597.0</td>\n",
       "      <td>1001.0</td>\n",
       "      <td>1001.0</td>\n",
       "    </tr>\n",
       "    <tr>\n",
       "      <th>1</th>\n",
       "      <td>1.0</td>\n",
       "      <td>1.0</td>\n",
       "      <td>1.0</td>\n",
       "      <td>7.0</td>\n",
       "      <td>16.0</td>\n",
       "      <td>23.0</td>\n",
       "      <td>1001.0</td>\n",
       "      <td>1007.0</td>\n",
       "    </tr>\n",
       "    <tr>\n",
       "      <th>2</th>\n",
       "      <td>1.0</td>\n",
       "      <td>1.0</td>\n",
       "      <td>1.0</td>\n",
       "      <td>13.0</td>\n",
       "      <td>4.0</td>\n",
       "      <td>7.0</td>\n",
       "      <td>1001.0</td>\n",
       "      <td>1013.0</td>\n",
       "    </tr>\n",
       "    <tr>\n",
       "      <th>3</th>\n",
       "      <td>1.0</td>\n",
       "      <td>1.0</td>\n",
       "      <td>1.0</td>\n",
       "      <td>21.0</td>\n",
       "      <td>597.0</td>\n",
       "      <td>251.0</td>\n",
       "      <td>1001.0</td>\n",
       "      <td>1021.0</td>\n",
       "    </tr>\n",
       "    <tr>\n",
       "      <th>4</th>\n",
       "      <td>1.0</td>\n",
       "      <td>1.0</td>\n",
       "      <td>1.0</td>\n",
       "      <td>43.0</td>\n",
       "      <td>27.0</td>\n",
       "      <td>42.0</td>\n",
       "      <td>1001.0</td>\n",
       "      <td>1043.0</td>\n",
       "    </tr>\n",
       "  </tbody>\n",
       "</table>\n",
       "</div>"
      ],
      "text/plain": [
       "   State FIPS Code  County FIPS Code  State FIPS Code.1  County FIPS Code.1  \\\n",
       "0              1.0               1.0                1.0                 1.0   \n",
       "1              1.0               1.0                1.0                 7.0   \n",
       "2              1.0               1.0                1.0                13.0   \n",
       "3              1.0               1.0                1.0                21.0   \n",
       "4              1.0               1.0                1.0                43.0   \n",
       "\n",
       "   Workers in Commuting Flow  Margin of Error  longfips  longfips1  \n",
       "0                     8635.0            597.0    1001.0     1001.0  \n",
       "1                       16.0             23.0    1001.0     1007.0  \n",
       "2                        4.0              7.0    1001.0     1013.0  \n",
       "3                      597.0            251.0    1001.0     1021.0  \n",
       "4                       27.0             42.0    1001.0     1043.0  "
      ]
     },
     "execution_count": 111,
     "metadata": {},
     "output_type": "execute_result"
    }
   ],
   "source": [
    "df.head()"
   ]
  },
  {
   "cell_type": "code",
   "execution_count": 112,
   "id": "abc8cd53",
   "metadata": {},
   "outputs": [],
   "source": [
    "cn_all = list(df.longfips)+list(df.longfips1)"
   ]
  },
  {
   "cell_type": "code",
   "execution_count": 113,
   "id": "2769f03f",
   "metadata": {},
   "outputs": [
    {
     "data": {
      "text/plain": [
       "3221"
      ]
     },
     "execution_count": 113,
     "metadata": {},
     "output_type": "execute_result"
    }
   ],
   "source": [
    "len(set(cn_all))\n",
    "### it is larger the fips_number within US"
   ]
  },
  {
   "cell_type": "code",
   "execution_count": 60,
   "id": "38561fd0",
   "metadata": {},
   "outputs": [],
   "source": [
    "fips = loadmat('../data/countyfips_num.mat') ### dictionary"
   ]
  },
  {
   "cell_type": "code",
   "execution_count": 66,
   "id": "c52b9967",
   "metadata": {},
   "outputs": [],
   "source": [
    "fips_num = fips['countyfips_num'].ravel()"
   ]
  },
  {
   "cell_type": "code",
   "execution_count": 120,
   "id": "0f1581c1",
   "metadata": {},
   "outputs": [],
   "source": [
    "difference = set(cn_all) - set(fips_num)"
   ]
  },
  {
   "cell_type": "code",
   "execution_count": 125,
   "id": "6cbf0b6f",
   "metadata": {},
   "outputs": [
    {
     "data": {
      "text/plain": [
       "{2158, 46102}"
      ]
     },
     "execution_count": 125,
     "metadata": {},
     "output_type": "execute_result"
    }
   ],
   "source": [
    "set(fips_num) - set(cn_all)\n",
    "## new in the fips code 2158 (Kusilvak Census Area) previously as \n",
    "#  0227 (Alaska      Wade Hampton Census Area)\n",
    "#^__________________________________________^#\n",
    "## 46102 (Oglala Lakota County) previously as \n",
    "# 46113 (South Dakota      Shannon County)\n",
    "#^__________________________________________^#\n",
    "## 51515 Virginia   Bedford city is \n",
    "# Virginia, 2013: The independent city of Bedford (FIPS 51515) merges into\n",
    "# Bedford County (FIPS 51019)."
   ]
  },
  {
   "cell_type": "code",
   "execution_count": 133,
   "id": "d6489ed8",
   "metadata": {},
   "outputs": [
    {
     "data": {
      "text/html": [
       "<div>\n",
       "<style scoped>\n",
       "    .dataframe tbody tr th:only-of-type {\n",
       "        vertical-align: middle;\n",
       "    }\n",
       "\n",
       "    .dataframe tbody tr th {\n",
       "        vertical-align: top;\n",
       "    }\n",
       "\n",
       "    .dataframe thead th {\n",
       "        text-align: right;\n",
       "    }\n",
       "</style>\n",
       "<table border=\"1\" class=\"dataframe\">\n",
       "  <thead>\n",
       "    <tr style=\"text-align: right;\">\n",
       "      <th></th>\n",
       "      <th>State FIPS Code</th>\n",
       "      <th>County FIPS Code</th>\n",
       "      <th>State FIPS Code.1</th>\n",
       "      <th>County FIPS Code.1</th>\n",
       "      <th>Workers in Commuting Flow</th>\n",
       "      <th>Margin of Error</th>\n",
       "      <th>longfips</th>\n",
       "      <th>longfips1</th>\n",
       "    </tr>\n",
       "  </thead>\n",
       "  <tbody>\n",
       "    <tr>\n",
       "      <th>3158</th>\n",
       "      <td>2.0</td>\n",
       "      <td>270.0</td>\n",
       "      <td>2.0</td>\n",
       "      <td>20.0</td>\n",
       "      <td>5.0</td>\n",
       "      <td>4.0</td>\n",
       "      <td>2270.0</td>\n",
       "      <td>2020.0</td>\n",
       "    </tr>\n",
       "    <tr>\n",
       "      <th>3159</th>\n",
       "      <td>2.0</td>\n",
       "      <td>270.0</td>\n",
       "      <td>2.0</td>\n",
       "      <td>50.0</td>\n",
       "      <td>7.0</td>\n",
       "      <td>6.0</td>\n",
       "      <td>2270.0</td>\n",
       "      <td>2050.0</td>\n",
       "    </tr>\n",
       "    <tr>\n",
       "      <th>3160</th>\n",
       "      <td>2.0</td>\n",
       "      <td>270.0</td>\n",
       "      <td>2.0</td>\n",
       "      <td>180.0</td>\n",
       "      <td>2.0</td>\n",
       "      <td>2.0</td>\n",
       "      <td>2270.0</td>\n",
       "      <td>2180.0</td>\n",
       "    </tr>\n",
       "    <tr>\n",
       "      <th>3161</th>\n",
       "      <td>2.0</td>\n",
       "      <td>270.0</td>\n",
       "      <td>2.0</td>\n",
       "      <td>185.0</td>\n",
       "      <td>2.0</td>\n",
       "      <td>3.0</td>\n",
       "      <td>2270.0</td>\n",
       "      <td>2185.0</td>\n",
       "    </tr>\n",
       "    <tr>\n",
       "      <th>3162</th>\n",
       "      <td>2.0</td>\n",
       "      <td>270.0</td>\n",
       "      <td>2.0</td>\n",
       "      <td>188.0</td>\n",
       "      <td>2.0</td>\n",
       "      <td>3.0</td>\n",
       "      <td>2270.0</td>\n",
       "      <td>2188.0</td>\n",
       "    </tr>\n",
       "    <tr>\n",
       "      <th>3163</th>\n",
       "      <td>2.0</td>\n",
       "      <td>270.0</td>\n",
       "      <td>2.0</td>\n",
       "      <td>270.0</td>\n",
       "      <td>1993.0</td>\n",
       "      <td>95.0</td>\n",
       "      <td>2270.0</td>\n",
       "      <td>2270.0</td>\n",
       "    </tr>\n",
       "    <tr>\n",
       "      <th>3164</th>\n",
       "      <td>2.0</td>\n",
       "      <td>270.0</td>\n",
       "      <td>2.0</td>\n",
       "      <td>290.0</td>\n",
       "      <td>1.0</td>\n",
       "      <td>3.0</td>\n",
       "      <td>2270.0</td>\n",
       "      <td>2290.0</td>\n",
       "    </tr>\n",
       "  </tbody>\n",
       "</table>\n",
       "</div>"
      ],
      "text/plain": [
       "      State FIPS Code  County FIPS Code  State FIPS Code.1  \\\n",
       "3158              2.0             270.0                2.0   \n",
       "3159              2.0             270.0                2.0   \n",
       "3160              2.0             270.0                2.0   \n",
       "3161              2.0             270.0                2.0   \n",
       "3162              2.0             270.0                2.0   \n",
       "3163              2.0             270.0                2.0   \n",
       "3164              2.0             270.0                2.0   \n",
       "\n",
       "      County FIPS Code.1  Workers in Commuting Flow  Margin of Error  \\\n",
       "3158                20.0                        5.0              4.0   \n",
       "3159                50.0                        7.0              6.0   \n",
       "3160               180.0                        2.0              2.0   \n",
       "3161               185.0                        2.0              3.0   \n",
       "3162               188.0                        2.0              3.0   \n",
       "3163               270.0                     1993.0             95.0   \n",
       "3164               290.0                        1.0              3.0   \n",
       "\n",
       "      longfips  longfips1  \n",
       "3158    2270.0     2020.0  \n",
       "3159    2270.0     2050.0  \n",
       "3160    2270.0     2180.0  \n",
       "3161    2270.0     2185.0  \n",
       "3162    2270.0     2188.0  \n",
       "3163    2270.0     2270.0  \n",
       "3164    2270.0     2290.0  "
      ]
     },
     "execution_count": 133,
     "metadata": {},
     "output_type": "execute_result"
    }
   ],
   "source": [
    "df[df['longfips'] == 2270.0]"
   ]
  },
  {
   "cell_type": "code",
   "execution_count": 122,
   "id": "1554a4dc",
   "metadata": {},
   "outputs": [],
   "source": [
    "for c_i in fips_num[:2]:\n",
    "    df[df.longfips==c_i]"
   ]
  },
  {
   "cell_type": "code",
   "execution_count": 124,
   "id": "56b02509",
   "metadata": {},
   "outputs": [
    {
     "data": {
      "text/plain": [
       "42      1003.0\n",
       "43      1005.0\n",
       "44      1015.0\n",
       "45      1023.0\n",
       "46      1025.0\n",
       "        ...   \n",
       "127    48167.0\n",
       "128    48201.0\n",
       "129    48439.0\n",
       "130    51153.0\n",
       "131    53053.0\n",
       "Name: longfips1, Length: 90, dtype: float64"
      ]
     },
     "execution_count": 124,
     "metadata": {},
     "output_type": "execute_result"
    }
   ],
   "source": [
    "int(df[df.longfips==c_i]['longfips1']"
   ]
  },
  {
   "cell_type": "code",
   "execution_count": 127,
   "id": "caa2215a",
   "metadata": {},
   "outputs": [
    {
     "data": {
      "text/plain": [
       "True"
      ]
     },
     "execution_count": 127,
     "metadata": {},
     "output_type": "execute_result"
    }
   ],
   "source": [
    "51019 in fips_num"
   ]
  },
  {
   "cell_type": "code",
   "execution_count": null,
   "id": "623da005",
   "metadata": {},
   "outputs": [],
   "source": []
  }
 ],
 "metadata": {
  "kernelspec": {
   "display_name": "Python 3 (ipykernel)",
   "language": "python",
   "name": "python3"
  },
  "language_info": {
   "codemirror_mode": {
    "name": "ipython",
    "version": 3
   },
   "file_extension": ".py",
   "mimetype": "text/x-python",
   "name": "python",
   "nbconvert_exporter": "python",
   "pygments_lexer": "ipython3",
   "version": "3.9.7"
  }
 },
 "nbformat": 4,
 "nbformat_minor": 5
}
