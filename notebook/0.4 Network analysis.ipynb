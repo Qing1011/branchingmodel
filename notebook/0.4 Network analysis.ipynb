{
 "cells": [
  {
   "cell_type": "code",
   "execution_count": 1,
   "id": "c0502d76",
   "metadata": {},
   "outputs": [],
   "source": [
    "import numpy as np\n",
    "import matplotlib.pyplot as plt\n",
    "from scipy.stats import norm\n",
    "from scipy.optimize import minimize\n",
    "\n",
    "from scipy.io import loadmat, savemat\n",
    "import pandas as pd\n",
    "import scipy.special as SS\n",
    "import scipy.stats as SSA\n",
    "import copy\n",
    "import random\n",
    "import math\n",
    "from sklearn.model_selection import ParameterGrid\n",
    "import os\n",
    "import numpy.linalg as LA\n",
    "import gzip\n",
    "\n",
    "# load pickle module\n",
    "import pickle\n",
    "import networkx as nx"
   ]
  },
  {
   "cell_type": "code",
   "execution_count": 2,
   "id": "2c663297",
   "metadata": {},
   "outputs": [],
   "source": [
    "WN = np.loadtxt('W_avg.csv')\n",
    "pop = np.loadtxt('pop_new.csv')"
   ]
  },
  {
   "cell_type": "code",
   "execution_count": 31,
   "id": "de851a76",
   "metadata": {},
   "outputs": [],
   "source": [
    "Cave = np.loadtxt('Cave_th50.csv')\n",
    "# C = np.loadtxt('C.csv')\n",
    "theta=1\n",
    "Temp = np.zeros((3142,3142))\n",
    "# w=zeros(size(Cave));\n",
    "for j in range(3142):\n",
    "    pop_j = pop[j]\n",
    "    w_from_j = Cave[:,j]/pop_j\n",
    "    Temp[:,j] = w_from_j"
   ]
  },
  {
   "cell_type": "code",
   "execution_count": 32,
   "id": "beaffba1",
   "metadata": {},
   "outputs": [],
   "source": [
    "for j in range(3142):\n",
    "    b = 1 - sum(Temp[:,j]) + Temp[j,j]\n",
    "    if b < 0.2:\n",
    "        Temp[j,j] = 0.2\n",
    "    else:\n",
    "        Temp[j,j] = b"
   ]
  },
  {
   "cell_type": "code",
   "execution_count": 29,
   "id": "3124883e",
   "metadata": {},
   "outputs": [],
   "source": [
    "for j in range(3142):\n",
    "    Temp[:,j] = Temp[:,j]/np.sum(Temp[:,j])"
   ]
  },
  {
   "cell_type": "code",
   "execution_count": 33,
   "id": "cef5aa09",
   "metadata": {},
   "outputs": [
    {
     "data": {
      "text/plain": [
       "array([[0.83241153, 0.        , 0.        , ..., 0.        , 0.        ,\n",
       "        0.        ],\n",
       "       [0.        , 0.94250428, 0.        , ..., 0.        , 0.        ,\n",
       "        0.        ],\n",
       "       [0.        , 0.        , 0.94130276, ..., 0.        , 0.        ,\n",
       "        0.        ],\n",
       "       ...,\n",
       "       [0.        , 0.        , 0.        , ..., 0.97849303, 0.        ,\n",
       "        0.        ],\n",
       "       [0.        , 0.        , 0.        , ..., 0.        , 0.97911595,\n",
       "        0.        ],\n",
       "       [0.        , 0.        , 0.        , ..., 0.        , 0.        ,\n",
       "        1.        ]])"
      ]
     },
     "execution_count": 33,
     "metadata": {},
     "output_type": "execute_result"
    }
   ],
   "source": [
    "Temp"
   ]
  },
  {
   "cell_type": "code",
   "execution_count": 15,
   "id": "edded934",
   "metadata": {},
   "outputs": [
    {
     "data": {
      "text/plain": [
       "array([[0.83241153, 0.        , 0.        , ..., 0.        , 0.        ,\n",
       "        0.        ],\n",
       "       [0.        , 0.94250428, 0.        , ..., 0.        , 0.        ,\n",
       "        0.        ],\n",
       "       [0.        , 0.        , 0.94130276, ..., 0.        , 0.        ,\n",
       "        0.        ],\n",
       "       ...,\n",
       "       [0.        , 0.        , 0.        , ..., 0.97849303, 0.        ,\n",
       "        0.        ],\n",
       "       [0.        , 0.        , 0.        , ..., 0.        , 0.97911595,\n",
       "        0.        ],\n",
       "       [0.        , 0.        , 0.        , ..., 0.        , 0.        ,\n",
       "        1.        ]])"
      ]
     },
     "execution_count": 15,
     "metadata": {},
     "output_type": "execute_result"
    }
   ],
   "source": [
    "WN"
   ]
  },
  {
   "cell_type": "code",
   "execution_count": 3,
   "id": "b2a54c6f",
   "metadata": {},
   "outputs": [],
   "source": [
    "N = len(pop)"
   ]
  },
  {
   "cell_type": "code",
   "execution_count": 36,
   "id": "9251a70e",
   "metadata": {},
   "outputs": [],
   "source": [
    "g_r = nx.from_numpy_array(WN)\n",
    "g_r.remove_edges_from(nx.selfloop_edges(g_r))"
   ]
  },
  {
   "cell_type": "code",
   "execution_count": 35,
   "id": "18c1ec77",
   "metadata": {},
   "outputs": [
    {
     "data": {
      "text/plain": [
       "False"
      ]
     },
     "execution_count": 35,
     "metadata": {},
     "output_type": "execute_result"
    }
   ],
   "source": [
    "nx.is_connected(g_r)"
   ]
  },
  {
   "cell_type": "code",
   "execution_count": 6,
   "id": "98c59889",
   "metadata": {},
   "outputs": [],
   "source": [
    "largest_component = max(nx.connected_components(g_r), key=len)"
   ]
  },
  {
   "cell_type": "code",
   "execution_count": 11,
   "id": "a1dcd26c",
   "metadata": {},
   "outputs": [
    {
     "data": {
      "text/plain": [
       "2546"
      ]
     },
     "execution_count": 11,
     "metadata": {},
     "output_type": "execute_result"
    }
   ],
   "source": [
    "len(largest_component)"
   ]
  },
  {
   "cell_type": "code",
   "execution_count": 13,
   "id": "1d4b64ba",
   "metadata": {},
   "outputs": [
    {
     "data": {
      "text/plain": [
       "True"
      ]
     },
     "execution_count": 13,
     "metadata": {},
     "output_type": "execute_result"
    }
   ],
   "source": [
    "1858 in list(largest_component)"
   ]
  },
  {
   "cell_type": "code",
   "execution_count": 38,
   "id": "a0b30b7b",
   "metadata": {},
   "outputs": [],
   "source": [
    "subgraph = g_r.subgraph(largest_component)"
   ]
  },
  {
   "cell_type": "code",
   "execution_count": 39,
   "id": "5bc5ee8d",
   "metadata": {},
   "outputs": [
    {
     "data": {
      "text/plain": [
       "2546"
      ]
     },
     "execution_count": 39,
     "metadata": {},
     "output_type": "execute_result"
    }
   ],
   "source": [
    "nx.number_of_nodes(subgraph)"
   ]
  },
  {
   "cell_type": "code",
   "execution_count": 40,
   "id": "460427d5",
   "metadata": {},
   "outputs": [
    {
     "data": {
      "text/plain": [
       "7052"
      ]
     },
     "execution_count": 40,
     "metadata": {},
     "output_type": "execute_result"
    }
   ],
   "source": [
    "nx.number_of_edges(subgraph)"
   ]
  },
  {
   "cell_type": "code",
   "execution_count": null,
   "id": "b903ea9a",
   "metadata": {},
   "outputs": [],
   "source": []
  }
 ],
 "metadata": {
  "kernelspec": {
   "display_name": "gnn",
   "language": "python",
   "name": "gnn"
  },
  "language_info": {
   "codemirror_mode": {
    "name": "ipython",
    "version": 3
   },
   "file_extension": ".py",
   "mimetype": "text/x-python",
   "name": "python",
   "nbconvert_exporter": "python",
   "pygments_lexer": "ipython3",
   "version": "3.11.4"
  }
 },
 "nbformat": 4,
 "nbformat_minor": 5
}
