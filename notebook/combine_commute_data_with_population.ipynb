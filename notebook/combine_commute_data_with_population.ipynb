{
 "cells": [
  {
   "cell_type": "code",
   "execution_count": 2,
   "id": "b859b012",
   "metadata": {},
   "outputs": [],
   "source": [
    "import numpy as np\n",
    "import matplotlib.pyplot as plt\n",
    "from scipy.io import loadmat, savemat\n",
    "import pandas as pd\n",
    "import copy"
   ]
  },
  {
   "cell_type": "code",
   "execution_count": null,
   "id": "adaed280",
   "metadata": {},
   "outputs": [],
   "source": [
    "M_all0 = np.loadtxt('M_all_asymmetric.csv')"
   ]
  },
  {
   "cell_type": "code",
   "execution_count": null,
   "id": "27f72d4f",
   "metadata": {},
   "outputs": [],
   "source": [
    "pop_usa = loadmat('../data/countypop_usafact.mat') ### assume the pop is corresponding to the fips "
   ]
  },
  {
   "cell_type": "code",
   "execution_count": null,
   "id": "201537c5",
   "metadata": {},
   "outputs": [],
   "source": [
    "len(pop_usa['countypop'])"
   ]
  },
  {
   "cell_type": "code",
   "execution_count": null,
   "id": "2aa47702",
   "metadata": {},
   "outputs": [],
   "source": [
    "pop = pop_usa['countypop'].ravel()"
   ]
  },
  {
   "cell_type": "code",
   "execution_count": null,
   "id": "7fcf5574",
   "metadata": {},
   "outputs": [],
   "source": [
    "fips = loadmat('../data/countyfips_num.mat')\n",
    "fips_num = fips['countyfips_num'].ravel() \n",
    "fips_id = [int(i) for i in range(len(fips_num))]\n",
    "# fips_dict = dict(zip(fips_num,fips_id))\n",
    "df_fips = pd.DataFrame({'fips_num': fips_num, 'fips_id': fips_id, 'pop': pop_usa['countypop'].ravel()})"
   ]
  },
  {
   "cell_type": "code",
   "execution_count": null,
   "id": "dd7de65e",
   "metadata": {},
   "outputs": [],
   "source": [
    "no_fips = len(M_all0)\n",
    "M_all = copy.deepcopy(M_all0)\n",
    "C = np.zeros((no_fips,no_fips))\n",
    "Cave = np.zeros((no_fips,no_fips))\n",
    "countypop = np.zeros(no_fips)"
   ]
  },
  {
   "cell_type": "code",
   "execution_count": null,
   "id": "72cd0642",
   "metadata": {},
   "outputs": [],
   "source": [
    "threshold = 100\n",
    "for i in range(no_fips):\n",
    "    M_i = M_all[:,i] \n",
    "    M_all[M_i < threshold,i] = 0 ## travel out <100 then set all the travelling to zero"
   ]
  },
  {
   "cell_type": "code",
   "execution_count": 145,
   "id": "8b9a54fb",
   "metadata": {},
   "outputs": [],
   "source": [
    "for i in range(no_fips):\n",
    "    pop_i = pop[i]\n",
    "    travel_in = np.sum(M_all[i])\n",
    "    within = M_all[i,i] ## people are travel within the fips\n",
    "    travel_out = np.sum(M_all[:,i])\n",
    "    \n",
    "    if  pop_i - travel_out + within > within: ##\n",
    "        C[i,i] = pop_i - travel_out + within ## why i need to add within??\n",
    "        Cave[i,i] = pop_i - travel_out + within\n",
    "    else:\n",
    "        C[i,i] = within\n",
    "        Cave[i,i] = within\n",
    "        pop[i] = np.sum(M_all[:,i])\n",
    "    \n",
    "    for j in range(no_fips):\n",
    "        if (M_all[j,i]>= threshold) and (M_all[i,j] >= threshold) and (j!=i):\n",
    "            C[j,i]=M_all[j,i]\n",
    "            Cave[j,i]=np.round((M_all[j,i]+M_all[i,j])/2+0.1) ## in python 0.5 round to 0/1, in matlab 0.5 round to 1"
   ]
  },
  {
   "cell_type": "code",
   "execution_count": null,
   "id": "89483518",
   "metadata": {},
   "outputs": [],
   "source": [
    "## check if they sum up all the people travel out + stay_in will be equal to the populations"
   ]
  },
  {
   "cell_type": "code",
   "execution_count": 127,
   "id": "12c893d1",
   "metadata": {},
   "outputs": [],
   "source": [
    "for i in range(no_fips):\n",
    "    if np.sum(C[:,i]) != pop[i]:\n",
    "        C[i,i] = pop[i] - np.sum(C[:,i]) + C[i,i]\n",
    "    if np.sum(Cave[:,i]) != pop[i]:\n",
    "        Cave[i,i] = pop[i] - np.sum(Cave[:,i]) + Cave[i,i]"
   ]
  },
  {
   "cell_type": "code",
   "execution_count": null,
   "id": "f66bcfda",
   "metadata": {},
   "outputs": [],
   "source": [
    "def check_symmetric(a, rtol=1e-05, atol=1e-08):\n",
    "    return np.allclose(a, a.T, rtol=rtol, atol=atol)"
   ]
  },
  {
   "cell_type": "code",
   "execution_count": null,
   "id": "39114c07",
   "metadata": {},
   "outputs": [],
   "source": [
    "print (check_symmetric(Cave), check_symmetric(C))"
   ]
  },
  {
   "cell_type": "code",
   "execution_count": null,
   "id": "3e30003e",
   "metadata": {},
   "outputs": [],
   "source": [
    "print (no_fips**2 - np.sum(C == C.T), 'entries are not symmetric') ### 14450 entries are not symmetric\n",
    "print (np.sum(C != 0), 'entries in the C') ### there are 17614 entries "
   ]
  },
  {
   "cell_type": "code",
   "execution_count": null,
   "id": "5a8006e1",
   "metadata": {},
   "outputs": [],
   "source": [
    "C_matlab = loadmat('../data/commutedata_100.mat')"
   ]
  },
  {
   "cell_type": "code",
   "execution_count": null,
   "id": "a4dade7b",
   "metadata": {},
   "outputs": [],
   "source": [
    "part = C_matlab['part'].ravel()"
   ]
  },
  {
   "cell_type": "code",
   "execution_count": null,
   "id": "76b74e40",
   "metadata": {},
   "outputs": [],
   "source": [
    "C_C = C_matlab['C'].ravel()"
   ]
  },
  {
   "cell_type": "code",
   "execution_count": 123,
   "id": "b461f71d",
   "metadata": {},
   "outputs": [
    {
     "name": "stdout",
     "output_type": "stream",
     "text": [
      "2824\n",
      "2829\n",
      "2831\n",
      "2835\n",
      "2852\n",
      "2896\n",
      "2933\n",
      "2945\n"
     ]
    }
   ],
   "source": [
    "## check wether is same as the matlab results\n",
    "for i in range(no_fips):\n",
    "    start = part[i] - 1\n",
    "    end = part[i+1] - 1\n",
    "    Pei = C_C[start:end]\n",
    "    dia = Pei[0]\n",
    "    diamy = C[i,i]\n",
    "    \n",
    "    xx = C[C[:,i]!=0, i]\n",
    "    my = np.delete(xx, np.where(xx==C[i,i]))\n",
    "    \n",
    "    if np.sum(Pei[1:] != my) >0:\n",
    "        print (i)"
   ]
  },
  {
   "cell_type": "code",
   "execution_count": 124,
   "id": "1777823a",
   "metadata": {},
   "outputs": [],
   "source": [
    "C_Cave = C_matlab['Cave'].ravel()"
   ]
  },
  {
   "cell_type": "code",
   "execution_count": 148,
   "id": "241b291e",
   "metadata": {},
   "outputs": [
    {
     "name": "stdout",
     "output_type": "stream",
     "text": [
      "2824 [ 641.  810.  464. 3545.]\n",
      "[ 587  810  464 3545]\n",
      "*^^*\n",
      "2829 [ 641.  443. 1912.  377. 1260. 5725. 2869.]\n",
      "[ 587  413 1763  306 1147 5468 2769]\n",
      "*^^*\n",
      "2831 [ 308.  443. 2029.  161. 3080.  753.]\n",
      "[ 308  413 2029  161 3080  753]\n",
      "*^^*\n",
      "2835 [ 810.  472. 1912.  213. 1243. 6910.]\n",
      "[ 810  472 1763  213 1243 6910]\n",
      "*^^*\n",
      "2852 [ 377.  954. 1014. 2355.  576.]\n",
      "[ 306  954 1014 2355  576]\n",
      "*^^*\n",
      "2896 [ 1260.  2029.  1014.   923. 14004.  4292.]\n",
      "[ 1147  2029  1014   923 14004  4292]\n",
      "*^^*\n",
      "2933 [3545. 1015. 5725. 6910.  636.]\n",
      "[3545 1015 5468 6910  636]\n",
      "*^^*\n",
      "2945 [ 2869.  3080.  2355.  1072. 14004.   187.  4067.]\n",
      "[ 2769  3080  2355  1072 14004   187  4067]\n",
      "*^^*\n"
     ]
    }
   ],
   "source": [
    "for i in range(no_fips):\n",
    "    start = part[i] - 1\n",
    "    end = part[i+1] - 1\n",
    "    Pei = C_Cave[start:end]\n",
    "    dia = Pei[0]\n",
    "    diamy = Cave[i,i]\n",
    "    \n",
    "    xx = Cave[Cave[:,i]!=0, i]\n",
    "    my = np.delete(xx, np.where(xx==Cave[i,i]))\n",
    "    \n",
    "    if np.sum(Pei[1:] != my) >0:\n",
    "        print (i, my)\n",
    "        print(Pei[1:])\n",
    "        print('*^^*')"
   ]
  },
  {
   "cell_type": "code",
   "execution_count": 153,
   "id": "bfcc52d9",
   "metadata": {},
   "outputs": [],
   "source": [
    "np.savetxt('C.csv',C)\n",
    "np.savetxt('Cave.csv',Cave)\n",
    "np.savetxt('pop_new.csv', pop)"
   ]
  },
  {
   "cell_type": "code",
   "execution_count": null,
   "id": "391a44f6",
   "metadata": {},
   "outputs": [],
   "source": []
  }
 ],
 "metadata": {
  "kernelspec": {
   "display_name": "Python 3 (ipykernel)",
   "language": "python",
   "name": "python3"
  },
  "language_info": {
   "codemirror_mode": {
    "name": "ipython",
    "version": 3
   },
   "file_extension": ".py",
   "mimetype": "text/x-python",
   "name": "python",
   "nbconvert_exporter": "python",
   "pygments_lexer": "ipython3",
   "version": "3.9.7"
  }
 },
 "nbformat": 4,
 "nbformat_minor": 5
}
