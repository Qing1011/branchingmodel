{
 "cells": [
  {
   "cell_type": "code",
   "execution_count": 5,
   "id": "e8a0e2dd",
   "metadata": {},
   "outputs": [],
   "source": [
    "import torch\n",
    "from torch_geometric.data import Data\n",
    "import numpy as np\n",
    "import networkx as nx\n",
    "from torch_geometric.nn import MessagePassing\n",
    "from torch_geometric.utils import add_self_loops, degree\n",
    "import matplotlib.pyplot as plt\n",
    "import scipy.special as SS\n",
    "import pandas as pd\n",
    "import scipy.stats as SSA"
   ]
  },
  {
   "cell_type": "code",
   "execution_count": 17,
   "id": "a2d4ee57",
   "metadata": {},
   "outputs": [],
   "source": [
    "def superspreading_T_Loc_real_seed(T, nbi_para, pop, paras, file_path, rand_seed, NewInf, TotInf, ti):\n",
    "    \n",
    "    ##################Initialise#################\n",
    "    Z, Zb, D, Db = paras\n",
    "    r, P_ts = nbi_para\n",
    "    child_seeds = rand_seed.spawn(T)\n",
    "    p_ti = P_ts.iloc[ti].values[1:]\n",
    "    date_parts = P_ts.iloc[ti]['Date'].split('-')\n",
    "    y, m, d = date_parts\n",
    "    num_fips = len(pop)\n",
    "    #################Mobility#######################\n",
    "    M_test = np.loadtxt(file_path+'M_{}{}_{}.csv'.format(y,m,d),delimiter=',')\n",
    "    M_pop = M_test/pop_sorted[None,:]\n",
    "    #if there is no one go out from one site\n",
    "    temp = np.sum(M_pop,axis=0)\n",
    "    if np.sum(temp == 0) == 0:\n",
    "        M_pop_norm = M_pop/temp[None,:]\n",
    "    else:\n",
    "#             print('there is no one go out from one site')\n",
    "        mask = temp == 0\n",
    "        temp[mask]=1\n",
    "        M_pop_norm = M_pop/temp[None,:]\n",
    "        M_pop_norm[:,mask] = 0\n",
    "        M_pop_norm[mask,mask] = 1\n",
    "#         WN_small = M_pop_norm[:100,:100]\n",
    "    WN = M_pop_norm #WN_small/np.sum(WN_small,axis=0)[None,:]\n",
    "    ########################################\n",
    "    infectors = np.int64(NewInf[:, ti])\n",
    "    pop_immu = 1-TotInf[:, ti]/pop[:]\n",
    "    pop_immu[pop_immu < 0] = 0\n",
    "\n",
    "    rng = np.random.default_rng(child_seeds[ti])\n",
    "    totoal_new_infection_loc = []\n",
    "    total_new = 0\n",
    "    for i in range(num_fips):\n",
    "        infectors_loc_i = infectors[i]\n",
    "        if infectors_loc_i>0:\n",
    "#                 print(i,infectors_loc_i)\n",
    "            xx = np.arange(0, 100, 1)  # define the range of x values the\n",
    "            p = p_ti[i]\n",
    "            pmf = SSA.nbinom.pmf(xx, r, p)\n",
    "            weights_n = pmf/np.sum(pmf)\n",
    "            ttt = np.random.choice(len(weights_n), size=infectors_loc_i, p=weights_n) #np.array([2]*infectors_loc_i) # #rng\n",
    "            new_array = np.round(ttt*pop_immu[i])\n",
    "            if len(new_array)>0:\n",
    "#                     print(ttt)\n",
    "                new_s = np.int64(np.sum(new_array))\n",
    "\n",
    "                totoal_new_infection_loc.extend([i]*new_s)\n",
    "                total_new = total_new + new_s\n",
    "    # to be assigned, every new infections for the infector\n",
    "#         total_new = np.round(tt*immu_all)\n",
    "#         totoal_new_infection_loc = get_new_infections_position(\n",
    "#             infectors, total_new, num_fips)\n",
    "    z_num = np.int64(total_new)\n",
    "\n",
    "    NF = np.zeros((2, z_num), dtype=np.int64)\n",
    "    # for the time distribution\n",
    "    latency_p = SSA.gamma.rvs(a=Z, scale=Zb, size=z_num, random_state=rng)\n",
    "    infectious_p = SSA.gamma.rvs(\n",
    "        a=D, scale=Db, size=z_num, random_state=rng)\n",
    "    v = rng.random(z_num)\n",
    "    delay_days = latency_p+v*infectious_p #latency_p+v*infectious_p  # 3+5*0.5\n",
    "\n",
    "    NF[0, :] = np.ceil(delay_days+ti)  # make it idx int\n",
    "    # for the location distribution\n",
    "    NF[1, :] = totoal_new_infection_loc\n",
    "    df = pd.DataFrame(NF.T, columns=['time', 'o_l'])\n",
    "    l_list = np.arange(num_fips)\n",
    "    df['d_l'] = df['o_l'].apply(lambda x: rng.choice(l_list, size=1, p=WN[:, x])[0]) #np.random\n",
    "    df = df[df['time'] <= (T-1)]\n",
    "    NF_ii = np.array(df)\n",
    "    for (t, o, d) in NF_ii:\n",
    "        NewInf[d, t] = NewInf[d, t]+1\n",
    "    TotInf = np.cumsum(NewInf, axis=1)\n",
    "    return NewInf, TotInf"
   ]
  },
  {
   "cell_type": "code",
   "execution_count": 2,
   "id": "2281b28b",
   "metadata": {},
   "outputs": [],
   "source": [
    "def superspreading_T_Loc_real(T, num_fips, initials, nbi_para, pop, paras, file_path, rand_seed):\n",
    "    # initialise\n",
    "    ### initials is a list of location and seed\n",
    "    Z, Zb, D, Db = paras\n",
    "#     l0, i0 = initials\n",
    "    r, P_ts = nbi_para\n",
    "    child_seeds = rand_seed.spawn(T)\n",
    "\n",
    "    NewInf = np.zeros((num_fips, T))\n",
    "    TotInf = np.zeros((num_fips, T))\n",
    "    \n",
    "    for l0,i0 in initials:\n",
    "        NewInf[l0, 0] = i0\n",
    "        TotInf[:, 0] = NewInf[:, 0]\n",
    "    for ti in range(T):\n",
    "#         print('the current simulating time', ti)\n",
    "\n",
    "\n",
    "    "
   ]
  },
  {
   "cell_type": "code",
   "execution_count": 3,
   "id": "3a9b9acc",
   "metadata": {},
   "outputs": [],
   "source": [
    "R0_ts = pd.read_csv('df_EpiEstim_R_median.csv',index_col='Date')\n",
    "R0_ts.fillna(0, inplace=True)\n",
    "pop_sorted = np.loadtxt('pop_sorted.csv')\n",
    "N = pop_sorted.shape[0]"
   ]
  },
  {
   "cell_type": "code",
   "execution_count": 8,
   "id": "2509796c",
   "metadata": {},
   "outputs": [],
   "source": [
    "real_inf = np.loadtxt('estimated_daily_infections.csv')"
   ]
  },
  {
   "cell_type": "code",
   "execution_count": 4,
   "id": "52a79335",
   "metadata": {},
   "outputs": [],
   "source": [
    "file_path = '/Users/qingyao/Documents/branching_data/real_data/' ##M_202003_10.csv"
   ]
  },
  {
   "cell_type": "code",
   "execution_count": 6,
   "id": "c015bec1",
   "metadata": {},
   "outputs": [],
   "source": [
    "Z = 3  # latent period\n",
    "Zb = 1  # scale parameter for Z\n",
    "D = 5  # infectious period\n",
    "Db = 1  # scale parameter for b"
   ]
  },
  {
   "cell_type": "code",
   "execution_count": 7,
   "id": "19007ca1",
   "metadata": {},
   "outputs": [],
   "source": [
    "M_test = np.loadtxt(file_path+'M_{}{}_{}.csv'.format('2020','03','05'),delimiter=',')\n",
    "M_pop = M_test/pop_sorted[None,:]\n",
    "temp = np.sum(M_pop,axis=0)"
   ]
  },
  {
   "cell_type": "code",
   "execution_count": 143,
   "id": "4be81d38",
   "metadata": {},
   "outputs": [],
   "source": [
    "mask = temp == 0\n",
    "temp[mask]=1\n",
    "M_pop_norm = M_pop/temp[None,:]\n",
    "M_pop_norm[:,mask] = 0\n",
    "M_pop_norm[mask,mask] = 1"
   ]
  },
  {
   "cell_type": "code",
   "execution_count": 13,
   "id": "69cfd710",
   "metadata": {},
   "outputs": [],
   "source": [
    "my_seeds = [(1824, 10),(2935, 45),(175,25),(576,10),(338,10)]\n",
    "# my_seeds = [(1824, 10),(2935, 20),(175,30),(576,10)]"
   ]
  },
  {
   "cell_type": "code",
   "execution_count": 32,
   "id": "c37449a5",
   "metadata": {},
   "outputs": [
    {
     "name": "stdout",
     "output_type": "stream",
     "text": [
      "0.1\n"
     ]
    }
   ],
   "source": [
    "T = 60\n",
    "M_E_NewInf = np.zeros((2, 3108, 60))\n",
    "rs = [0.1]\n",
    "for r_idx in range(1):\n",
    "    r = rs[r_idx]\n",
    "    print(r)\n",
    "    P_ts = pd.DataFrame()\n",
    "    P_ts.index = R0_ts.index\n",
    "    df_to_add = R0_ts[R0_ts.columns.values].apply(lambda x: r/(x+r))\n",
    "    P_ts = pd.concat([P_ts, df_to_add], axis=1)\n",
    "    P_ts_s = P_ts.iloc[22:100,:]\n",
    "    P_ts_s = P_ts_s.reset_index().rename(columns={'index': 'Date'})\n",
    "    NewInf = np.zeros((N, T))\n",
    "    TotInf = np.zeros((N, T))\n",
    "    for l0,i0 in my_seeds:\n",
    "        NewInf[l0, 0] = i0\n",
    "        TotInf[:, 0] = NewInf[:, 0]\n",
    "    ### the first time step\n",
    "    ss = np.random.SeedSequence(0)\n",
    "    NewInf, TotInf = superspreading_T_Loc_real_seed(T, (r, P_ts_s), pop_sorted, (Z, Zb, D, Db), file_path, ss, NewInf, TotInf, 0)\n",
    "        #### to constrain the seeds for along the steps to do the prediction?\n",
    "    for ti in range(1,T):\n",
    "        ss = np.random.SeedSequence(0)\n",
    "        NewInf, TotInf = superspreading_T_Loc_real_seed(T, (r, P_ts_s), pop_sorted, (Z, Zb, D, Db), file_path, ss, NewInf, TotInf, ti)\n",
    "        inf_pos = np.where(NewInf[:,ti] > 0)[0]\n",
    "        for i in inf_pos:\n",
    "            if real_inf[i,ti] > 0:\n",
    "                continue\n",
    "            else:\n",
    "                NewInf[i,ti] = 0\n",
    "        \n",
    "#     M_E_NewInf[r_idx,:,:] = E_NewInf_i\n",
    "# E_NewInf_i"
   ]
  },
  {
   "cell_type": "code",
   "execution_count": 203,
   "id": "c36befbb",
   "metadata": {},
   "outputs": [],
   "source": [
    "save_dir = '/Users/qingyao/Documents/branching_data/simulation/with_mobility/'\n",
    "result = {'seeds':my_seeds,'rs':rs,'M_E_NewInf':M_E_NewInf}\n",
    "import pickle\n",
    "\n",
    "# Save to a file test one saved the 0.1 and 0.05 with out off ones\n",
    "with open(save_dir+'test.pkl', 'wb') as file:\n",
    "    pickle.dump(result, file)"
   ]
  },
  {
   "cell_type": "code",
   "execution_count": 33,
   "id": "cf26595d",
   "metadata": {},
   "outputs": [],
   "source": [
    "def count_num_counties(E_NewInf_i, pop_sorted, th):\n",
    "    estimated_infec_perpop = E_NewInf_i/pop_sorted[:,None]*100000\n",
    "    county_real = np.sum(estimated_infec_perpop>th,axis=0)\n",
    "    return county_real"
   ]
  },
  {
   "cell_type": "code",
   "execution_count": 34,
   "id": "190f4720",
   "metadata": {},
   "outputs": [],
   "source": [
    "M_counties = np.zeros((60,1))\n",
    "for r_idx in range(1):\n",
    "    NewInf_i = M_E_NewInf[r_idx,:,:]\n",
    "    M_counties[:,r_idx] = count_num_counties(NewInf_i, pop_sorted, 10)"
   ]
  },
  {
   "cell_type": "code",
   "execution_count": 36,
   "id": "757a46eb",
   "metadata": {},
   "outputs": [],
   "source": [
    "df_num_counties = pd.DataFrame(M_counties,columns=[0.1])\n",
    "df_num_counties['Date'] = pd.date_range('2020-02-21',periods=60)\n",
    "df_num_counties.set_index('Date',inplace=True)"
   ]
  },
  {
   "cell_type": "code",
   "execution_count": 16,
   "id": "18dc5ed0",
   "metadata": {},
   "outputs": [],
   "source": [
    "# estimated_infec_perpop = E_NewInf_i/pop_sorted[:,None]*100000\n",
    "# county_real10 = np.sum(estimated_infec_perpop>10,axis=0)\n",
    "# df_num_counties10 = pd.DataFrame(county_real10)\n",
    "# df_num_counties10['Date'] = pd.date_range('2020-02-21',periods=60)\n",
    "# df_num_counties10.set_index('Date',inplace=True)\n",
    "# df_num_counties10.rename(columns={0:'10'},inplace=True)"
   ]
  },
  {
   "cell_type": "code",
   "execution_count": 37,
   "id": "4bc73c98",
   "metadata": {},
   "outputs": [],
   "source": [
    "df_real = pd.read_csv('df_num_couties_10.csv',index_col='Date', parse_dates=['Date'])\n",
    "df_real.rename(columns={'10':'real_data'},inplace=True)"
   ]
  },
  {
   "cell_type": "code",
   "execution_count": 38,
   "id": "3de5ef42",
   "metadata": {},
   "outputs": [
    {
     "data": {
      "text/plain": [
       "Text(0, 0.5, 'counties with daily infections per 100000>10')"
      ]
     },
     "execution_count": 38,
     "metadata": {},
     "output_type": "execute_result"
    },
    {
     "data": {
      "image/png": "[encoded data removed]",
      "text/plain": [
       "<Figure size 1200x400 with 1 Axes>"
      ]
     },
     "metadata": {},
     "output_type": "display_data"
    }
   ],
   "source": [
    "fig, ax = plt.subplots(1,1, figsize=(12, 4))\n",
    "\n",
    "# plt.plot(county_ode,label='metapopulation',color='red')\n",
    "df_num_counties.plot(ax=ax)\n",
    "df_real.plot(ax=ax)\n",
    "# df_num_counties10.plot(ax=ax)\n",
    "\n",
    "plt.legend()\n",
    "plt.xlabel('day')\n",
    "plt.ylabel('counties with daily infections per 100000>10')\n",
    "# plt.ylim(-100,1400)"
   ]
  },
  {
   "cell_type": "code",
   "execution_count": null,
   "id": "a9b65e38",
   "metadata": {},
   "outputs": [],
   "source": []
  }
 ],
 "metadata": {
  "kernelspec": {
   "display_name": "gnn",
   "language": "python",
   "name": "gnn"
  },
  "language_info": {
   "codemirror_mode": {
    "name": "ipython",
    "version": 3
   },
   "file_extension": ".py",
   "mimetype": "text/x-python",
   "name": "python",
   "nbconvert_exporter": "python",
   "pygments_lexer": "ipython3",
   "version": "3.11.4"
  }
 },
 "nbformat": 4,
 "nbformat_minor": 5
}
