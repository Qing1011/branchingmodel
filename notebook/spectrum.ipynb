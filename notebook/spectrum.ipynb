{
 "cells": [
  {
   "cell_type": "code",
   "execution_count": 1,
   "id": "1307e120",
   "metadata": {},
   "outputs": [],
   "source": [
    "import numpy as np\n",
    "import matplotlib.pyplot as plt\n",
    "from scipy.io import loadmat, savemat\n",
    "import pandas as pd\n",
    "import copy\n",
    "import gzip"
   ]
  },
  {
   "cell_type": "code",
   "execution_count": 2,
   "id": "db14d38e",
   "metadata": {},
   "outputs": [],
   "source": [
    "%run ../codes/branchingv1.py\n",
    "%run ../codes/colour_settings.py"
   ]
  },
  {
   "cell_type": "code",
   "execution_count": 52,
   "id": "7051799c",
   "metadata": {},
   "outputs": [],
   "source": [
    "# E_NewInf8 =  np.load('NewInf_r_0.05.npy')\n",
    "pop = np.loadtxt('pop_new.csv')"
   ]
  },
  {
   "cell_type": "code",
   "execution_count": 4,
   "id": "81448521",
   "metadata": {},
   "outputs": [
    {
     "data": {
      "text/plain": [
       "(1000, 3142, 400)"
      ]
     },
     "execution_count": 4,
     "metadata": {},
     "output_type": "execute_result"
    }
   ],
   "source": [
    "E_NewInf8.shape"
   ]
  },
  {
   "cell_type": "code",
   "execution_count": 5,
   "id": "d1578bb1",
   "metadata": {},
   "outputs": [],
   "source": [
    "E_TotInf = np.cumsum(E_NewInf8, axis=2)"
   ]
  },
  {
   "cell_type": "code",
   "execution_count": 7,
   "id": "9f9f45cd",
   "metadata": {},
   "outputs": [],
   "source": [
    "last_total = np.mean(E_TotInf[:,:,-1],axis=0)"
   ]
  },
  {
   "cell_type": "code",
   "execution_count": 60,
   "id": "a6f5078b",
   "metadata": {},
   "outputs": [],
   "source": [
    "last_tot_normal = last_total/np.sum(last_total)"
   ]
  },
  {
   "cell_type": "code",
   "execution_count": 63,
   "id": "4dc7eace",
   "metadata": {},
   "outputs": [],
   "source": [
    "largest_real_normal = largest.real/np.sum(largest.real)"
   ]
  },
  {
   "cell_type": "code",
   "execution_count": 69,
   "id": "e50ebcc8",
   "metadata": {},
   "outputs": [
    {
     "data": {
      "image/png": "[encoded data removed]",
      "text/plain": [
       "<Figure size 432x288 with 1 Axes>"
      ]
     },
     "metadata": {
      "needs_background": "light"
     },
     "output_type": "display_data"
    }
   ],
   "source": [
    "plt.scatter(range(3142),last_tot_normal,color = 'blue',label='infection distribution',s=1)\n",
    "plt.scatter(range(3142),largest_real_normal,color = 'red',label='largest eigen vector of L',s=1)\n",
    "plt.yscale('log')"
   ]
  },
  {
   "cell_type": "code",
   "execution_count": 27,
   "id": "ca70059c",
   "metadata": {},
   "outputs": [],
   "source": [
    "W = np.loadtxt('W_avg.csv')"
   ]
  },
  {
   "cell_type": "code",
   "execution_count": 28,
   "id": "754d66c4",
   "metadata": {},
   "outputs": [],
   "source": [
    "D = np.zeros_like(W)\n",
    "np.fill_diagonal(D, np.diagonal(W))"
   ]
  },
  {
   "cell_type": "code",
   "execution_count": 30,
   "id": "068b2ffa",
   "metadata": {},
   "outputs": [],
   "source": [
    "A = D - W"
   ]
  },
  {
   "cell_type": "code",
   "execution_count": 12,
   "id": "583d871b",
   "metadata": {},
   "outputs": [],
   "source": [
    "from numpy import linalg as LA"
   ]
  },
  {
   "cell_type": "code",
   "execution_count": 31,
   "id": "b14dc50e",
   "metadata": {},
   "outputs": [],
   "source": [
    "w, v = LA.eig(A)"
   ]
  },
  {
   "cell_type": "code",
   "execution_count": 36,
   "id": "4ef4d798",
   "metadata": {},
   "outputs": [],
   "source": [
    "real_values = w[w.real == w]"
   ]
  },
  {
   "cell_type": "code",
   "execution_count": 42,
   "id": "d25ba2da",
   "metadata": {},
   "outputs": [
    {
     "data": {
      "text/plain": [
       "(array([24]),)"
      ]
     },
     "execution_count": 42,
     "metadata": {},
     "output_type": "execute_result"
    }
   ],
   "source": [
    "np.where(w == max(w[w>0]))"
   ]
  },
  {
   "cell_type": "code",
   "execution_count": 43,
   "id": "73278e41",
   "metadata": {},
   "outputs": [
    {
     "data": {
      "text/plain": [
       "(0.16256242186434525+0j)"
      ]
     },
     "execution_count": 43,
     "metadata": {},
     "output_type": "execute_result"
    }
   ],
   "source": [
    "w[24]"
   ]
  },
  {
   "cell_type": "code",
   "execution_count": 44,
   "id": "60bf73fb",
   "metadata": {},
   "outputs": [],
   "source": [
    "largest = v[:,24]"
   ]
  },
  {
   "cell_type": "code",
   "execution_count": null,
   "id": "bb538677",
   "metadata": {},
   "outputs": [],
   "source": []
  }
 ],
 "metadata": {
  "kernelspec": {
   "display_name": "Python 3 (ipykernel)",
   "language": "python",
   "name": "python3"
  },
  "language_info": {
   "codemirror_mode": {
    "name": "ipython",
    "version": 3
   },
   "file_extension": ".py",
   "mimetype": "text/x-python",
   "name": "python",
   "nbconvert_exporter": "python",
   "pygments_lexer": "ipython3",
   "version": "3.9.7"
  }
 },
 "nbformat": 4,
 "nbformat_minor": 5
}
