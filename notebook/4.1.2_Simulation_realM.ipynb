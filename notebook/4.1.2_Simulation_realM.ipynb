{
 "cells": [
  {
   "cell_type": "code",
   "execution_count": 1,
   "id": "26a04857",
   "metadata": {},
   "outputs": [],
   "source": [
    "import torch\n",
    "from torch_geometric.data import Data\n",
    "import numpy as np\n",
    "import networkx as nx\n",
    "from torch_geometric.nn import MessagePassing\n",
    "from torch_geometric.utils import add_self_loops, degree\n",
    "import matplotlib.pyplot as plt\n",
    "import scipy.special as SS\n",
    "import pandas as pd\n",
    "import scipy.stats as SSA\n",
    "import copy"
   ]
  },
  {
   "cell_type": "code",
   "execution_count": 8,
   "id": "317fb915",
   "metadata": {},
   "outputs": [],
   "source": [
    "%run ../codes/branching_realM.py"
   ]
  },
  {
   "cell_type": "code",
   "execution_count": 3,
   "id": "615e5e22",
   "metadata": {},
   "outputs": [],
   "source": [
    "R0_ts = pd.read_csv('df_EpiEstim_R_median.csv',index_col='Date')\n",
    "R0_ts.fillna(0, inplace=True)\n",
    "pop_sorted = np.loadtxt('pop_sorted.csv')\n",
    "N = pop_sorted.shape[0]\n",
    "file_path = '/Users/qingyao/Documents/branching_data/real_data/' ##M_202003_10.csv"
   ]
  },
  {
   "cell_type": "code",
   "execution_count": 4,
   "id": "d2454edd",
   "metadata": {},
   "outputs": [],
   "source": [
    "Z = 3  # latent period\n",
    "Zb = 1  # scale parameter for Z\n",
    "D = 5  # infectious period\n",
    "Db = 1  # scale parameter for b"
   ]
  },
  {
   "cell_type": "code",
   "execution_count": 5,
   "id": "dcf48345",
   "metadata": {},
   "outputs": [],
   "source": [
    "my_seeds = [(1824, 10),(2935, 45),(175,25),(576,10),(338,10)]"
   ]
  },
  {
   "cell_type": "code",
   "execution_count": 39,
   "id": "19003a94",
   "metadata": {},
   "outputs": [
    {
     "name": "stdout",
     "output_type": "stream",
     "text": [
      "0.1\n"
     ]
    }
   ],
   "source": [
    "T = 60\n",
    "# M_E_NewInf = np.zeros((2, 100, 3108, 60))\n",
    "rs = [0.05,0.1]\n",
    "for r_idx in range(1,2):\n",
    "    r = rs[r_idx]\n",
    "    print(r)\n",
    "    for e_i in range(30,50):\n",
    "        P_ts = pd.DataFrame()\n",
    "        P_ts.index = R0_ts.index\n",
    "        df_to_add = R0_ts[R0_ts.columns.values].apply(lambda x: r/(x+r))\n",
    "        P_ts = pd.concat([P_ts, df_to_add], axis=1)\n",
    "        P_ts_s = P_ts.iloc[22:100,:]\n",
    "        P_ts_s = P_ts_s.reset_index().rename(columns={'index': 'Date'})\n",
    "        ss = np.random.SeedSequence()\n",
    "        E_NewInf_i, E_TotInf_i = superspreading_T_Loc_real(T, N, my_seeds, (r, P_ts_s), pop_sorted, (Z, Zb, D, Db), file_path, ss)\n",
    "        M_E_NewInf[r_idx,e_i,:,:] = E_NewInf_i"
   ]
  },
  {
   "cell_type": "code",
   "execution_count": 40,
   "id": "22c19cfa",
   "metadata": {},
   "outputs": [
    {
     "data": {
      "text/plain": [
       "49"
      ]
     },
     "execution_count": 40,
     "metadata": {},
     "output_type": "execute_result"
    }
   ],
   "source": [
    "e_i"
   ]
  },
  {
   "cell_type": "code",
   "execution_count": 41,
   "id": "5e28e863",
   "metadata": {},
   "outputs": [],
   "source": [
    "def count_num_counties(E_NewInf_i, pop_sorted, th):\n",
    "    estimated_infec_perpop = E_NewInf_i/pop_sorted[:,None]*100000\n",
    "    county_real = np.sum(estimated_infec_perpop>th,axis=0)\n",
    "    return county_real"
   ]
  },
  {
   "cell_type": "code",
   "execution_count": 16,
   "id": "2045ecd9",
   "metadata": {},
   "outputs": [],
   "source": [
    "Ensembles = M_E_NewInf[0, :50, :, :]"
   ]
  },
  {
   "cell_type": "code",
   "execution_count": 29,
   "id": "77b57437",
   "metadata": {},
   "outputs": [],
   "source": [
    "Ensembles_0 = copy.deepcopy(Ensembles)\n",
    "Ensembles_0[Ensembles_0 == 0] = 0.000000000000001\n",
    "Ensembles_log = np.log(Ensembles_0)"
   ]
  },
  {
   "cell_type": "code",
   "execution_count": 45,
   "id": "44c67f2b",
   "metadata": {},
   "outputs": [],
   "source": [
    "M_counties = np.zeros((60,2,50))\n",
    "for r_idx in range(2):\n",
    "    for e_i in range(50):\n",
    "        NewInf_i = M_E_NewInf[r_idx,e_i, :,:]\n",
    "        M_counties[:,r_idx,e_i] = count_num_counties(NewInf_i, pop_sorted, 10)"
   ]
  },
  {
   "cell_type": "code",
   "execution_count": 46,
   "id": "e78a0bda",
   "metadata": {},
   "outputs": [],
   "source": [
    "M_counties_mean = np.mean(M_counties,axis=2)\n",
    "M_counties_std = np.std(M_counties,axis=2)"
   ]
  },
  {
   "cell_type": "code",
   "execution_count": 47,
   "id": "2e4841a4",
   "metadata": {},
   "outputs": [
    {
     "data": {
      "text/plain": [
       "<matplotlib.collections.PolyCollection at 0x2eb7f4290>"
      ]
     },
     "execution_count": 47,
     "metadata": {},
     "output_type": "execute_result"
    },
    {
     "data": {
      "image/png": "[encoded data removed]",
      "text/plain": [
       "<Figure size 640x480 with 1 Axes>"
      ]
     },
     "metadata": {},
     "output_type": "display_data"
    }
   ],
   "source": [
    "plt.plot(M_counties_mean[:,0])\n",
    "plt.fill_between(range(60),M_counties_mean[:,0]-M_counties_std[:,0],M_counties_mean[:,0] +M_counties_std[:,0],alpha=0.1)\n",
    "\n",
    "plt.plot(M_counties_mean[:,1])\n",
    "plt.fill_between(range(60),M_counties_mean[:,1]-M_counties_std[:,1],M_counties_mean[:,1] +M_counties_std[:,1],alpha=0.1)"
   ]
  },
  {
   "cell_type": "code",
   "execution_count": null,
   "id": "395404ad",
   "metadata": {},
   "outputs": [],
   "source": []
  }
 ],
 "metadata": {
  "kernelspec": {
   "display_name": "gnn",
   "language": "python",
   "name": "gnn"
  },
  "language_info": {
   "codemirror_mode": {
    "name": "ipython",
    "version": 3
   },
   "file_extension": ".py",
   "mimetype": "text/x-python",
   "name": "python",
   "nbconvert_exporter": "python",
   "pygments_lexer": "ipython3",
   "version": "3.11.4"
  }
 },
 "nbformat": 4,
 "nbformat_minor": 5
}
